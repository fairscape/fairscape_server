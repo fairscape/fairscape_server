{
 "cells": [
  {
   "cell_type": "code",
   "execution_count": 15,
   "metadata": {},
   "outputs": [],
   "source": [
    "import pymongo\n",
    "from urllib.parse import quote_plus\n",
    "from bson import SON\n",
    "from bson import SON"
   ]
  },
  {
   "cell_type": "code",
   "execution_count": 8,
   "metadata": {},
   "outputs": [],
   "source": [
    "\n",
    "class MongoConfig:\n",
    "    def __init__(self, host_uri: str, port: int, user: str, password: str, database: str = None):\n",
    "        self.host_uri = host_uri\n",
    "        self.port = port\n",
    "        self.user = user\n",
    "        self.password = password\n",
    "        self.database = database\n",
    "\n",
    "    def connect(self) -> pymongo.MongoClient:\n",
    "        connection_uri = f\"mongodb://{quote_plus(self.user)}:{quote_plus(self.password)}@{self.host_uri}:{str(self.port)}\"\n",
    "        return pymongo.MongoClient(connection_uri)\n",
    "\n",
    "\n",
    "def GetConfig():\n",
    "    return MongoConfig(\n",
    "        host_uri=\"localhost\",\n",
    "        port=27017,\n",
    "        user=\"root\",\n",
    "        password=\"example\"\n",
    "    ).connect()\n"
   ]
  },
  {
   "cell_type": "code",
   "execution_count": 12,
   "metadata": {},
   "outputs": [],
   "source": [
    "mongo_client = GetConfig()\n",
    "mongo_db = mongo_client[\"test\"]\n",
    "mongo_collection = mongo_db[\"testcol\"]"
   ]
  },
  {
   "cell_type": "code",
   "execution_count": 22,
   "metadata": {},
   "outputs": [],
   "source": [
    "# \n",
    "test_user = {\n",
    "\t\t\"@id\": \"ark:99999/test-user1\",\n",
    "\t\t\"name\": \"Test User1\",\n",
    "\t\t\"type\": \"Person\",\n",
    "\t\t\"email\": \"testuser1@example.org\",\n",
    "\t\t\"password\": \"test1\",\n",
    "\t\t\"organizations\": [],\n",
    "\t\t\"projects\": [],\n",
    "\t\t\"datasets\": [],\n",
    "\t\t\"software\": [],\n",
    "\t\t\"computations\": [],\n",
    "\t\t\"evidencegraphs\": []\n",
    "\t\t}\n",
    "\n",
    "\n",
    "\n",
    "test_dataset = {\n",
    "\t\"@id\": \"ark:99999/test-dataset\",\n",
    "\t\"@type\": \"evi:Dataset\",\n",
    "\t\"name\": \"test dataset\",\n",
    "\t\"owner\": {\n",
    "\t\t\"@id\": \"ark:99999/test-user1\",\n",
    "\t\t\"@type\": \"Person\",\n",
    "\t\t\"name\": \"Test User1\",\n",
    "\t\t\"email\": \"testuser1@example.org\"\n",
    "\t\t}\n",
    "}\n",
    "\n",
    "test_data_download = {\n",
    "\t\"@id\": \"ark:99999/test-download\",\n",
    "\t\"name\": \"test file.txt\",\n",
    "\t\"@type\": \"DataDownload\",\n",
    "\t\"encodingFormat\": \".txt\",\n",
    "\t\"encodesCreativeWork\": test_dataset[\"@id\"],\n",
    "}"
   ]
  },
  {
   "cell_type": "code",
   "execution_count": 25,
   "metadata": {},
   "outputs": [],
   "source": [
    "# clear all documents in the \n",
    "result = mongo_collection.delete_many({})"
   ]
  },
  {
   "cell_type": "code",
   "execution_count": 26,
   "metadata": {},
   "outputs": [
    {
     "data": {
      "text/plain": [
       "3"
      ]
     },
     "execution_count": 26,
     "metadata": {},
     "output_type": "execute_result"
    }
   ],
   "source": [
    "result.deleted_count"
   ]
  },
  {
   "cell_type": "code",
   "execution_count": 27,
   "metadata": {},
   "outputs": [
    {
     "data": {
      "text/plain": [
       "<pymongo.results.InsertManyResult at 0x24810831ac0>"
      ]
     },
     "execution_count": 27,
     "metadata": {},
     "output_type": "execute_result"
    }
   ],
   "source": [
    "mongo_collection.insert_many([test_user, test_dataset])"
   ]
  },
  {
   "cell_type": "code",
   "execution_count": 28,
   "metadata": {},
   "outputs": [],
   "source": [
    "create_download_bulk_write = [\n",
    "\t# update the dataset containing this download\n",
    "\tpymongo.UpdateOne(\n",
    "\t\t{\"@id\": test_dataset.get(\"@id\")}, \n",
    "\t\t{\"$addToSet\" : { \n",
    "\t\t\t\"distribution\": SON([(\"@id\", test_data_download.get(\"@id\") ), (\"@type\", \"DataDownload\"), (\"name\", test_data_download.get(\"name\"))])}\n",
    "\t\t}),\n",
    "\n",
    "\t# create metadata record in mongo\n",
    "\tpymongo.InsertOne(test_data_download)\n",
    "]\n",
    "\n",
    "bulk_write_result = mongo_collection.bulk_write(create_download_bulk_write)\n",
    "\n",
    "#except Exception as bwe:\n",
    "#\treturn OperationStatus(False, f\"create download error: {bwe}\", 500)"
   ]
  },
  {
   "cell_type": "code",
   "execution_count": 10,
   "metadata": {},
   "outputs": [],
   "source": [
    "mongo_client.close()"
   ]
  },
  {
   "cell_type": "code",
   "execution_count": null,
   "metadata": {},
   "outputs": [],
   "source": []
  }
 ],
 "metadata": {
  "interpreter": {
   "hash": "e34a51ce2e5d6cd426e3a877cb16f65e3dd85900a5b76bb886dcc805c982a405"
  },
  "kernelspec": {
   "display_name": "Python 3.9.7 ('base')",
   "language": "python",
   "name": "python3"
  },
  "language_info": {
   "codemirror_mode": {
    "name": "ipython",
    "version": 3
   },
   "file_extension": ".py",
   "mimetype": "text/x-python",
   "name": "python",
   "nbconvert_exporter": "python",
   "pygments_lexer": "ipython3",
   "version": "3.9.7"
  },
  "orig_nbformat": 4
 },
 "nbformat": 4,
 "nbformat_minor": 2
}
