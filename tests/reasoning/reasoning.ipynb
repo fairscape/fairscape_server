{
 "cells": [
  {
   "cell_type": "code",
   "execution_count": 20,
   "metadata": {},
   "outputs": [
    {
     "name": "stdout",
     "output_type": "stream",
     "text": [
      "Requirement already satisfied: owlrl in c:\\users\\max\\anaconda3\\lib\\site-packages (7.1.2)\n",
      "Requirement already satisfied: rdflib>=7.1.1 in c:\\users\\max\\anaconda3\\lib\\site-packages (from owlrl) (7.1.1)\n",
      "Requirement already satisfied: pyparsing<4,>=2.1.0 in c:\\users\\max\\anaconda3\\lib\\site-packages (from rdflib>=7.1.1->owlrl) (3.0.9)\n",
      "Note: you may need to restart the kernel to use updated packages.\n",
      "Requirement already satisfied: rdflib in c:\\users\\max\\anaconda3\\lib\\site-packages (7.1.1)\n",
      "Requirement already satisfied: pyparsing<4,>=2.1.0 in c:\\users\\max\\anaconda3\\lib\\site-packages (from rdflib) (3.0.9)\n",
      "Note: you may need to restart the kernel to use updated packages.\n",
      "Collecting pyld\n",
      "  Obtaining dependency information for pyld from https://files.pythonhosted.org/packages/44/cd/80760be197a4bd08e7c136ef4bcb4a2c63fc799d8d91f4c177b21183135e/PyLD-2.0.4-py3-none-any.whl.metadata\n",
      "  Downloading PyLD-2.0.4-py3-none-any.whl.metadata (10.0 kB)\n",
      "Requirement already satisfied: cachetools in c:\\users\\max\\anaconda3\\lib\\site-packages (from pyld) (5.3.2)\n",
      "Collecting frozendict (from pyld)\n",
      "  Obtaining dependency information for frozendict from https://files.pythonhosted.org/packages/04/13/d9839089b900fa7b479cce495d62110cddc4bd5630a04d8469916c0e79c5/frozendict-2.4.6-py311-none-any.whl.metadata\n",
      "  Downloading frozendict-2.4.6-py311-none-any.whl.metadata (23 kB)\n",
      "Requirement already satisfied: lxml in c:\\users\\max\\anaconda3\\lib\\site-packages (from pyld) (4.9.2)\n",
      "Downloading PyLD-2.0.4-py3-none-any.whl (70 kB)\n",
      "   ---------------------------------------- 0.0/70.9 kB ? eta -:--:--\n",
      "   ---------------------------------------- 70.9/70.9 kB 1.9 MB/s eta 0:00:00\n",
      "Downloading frozendict-2.4.6-py311-none-any.whl (16 kB)\n",
      "Installing collected packages: frozendict, pyld\n",
      "Successfully installed frozendict-2.4.6 pyld-2.0.4\n",
      "Note: you may need to restart the kernel to use updated packages.\n"
     ]
    }
   ],
   "source": [
    "%pip install owlrl\n",
    "%pip install rdflib\n",
    "%pip install pyld"
   ]
  },
  {
   "cell_type": "code",
   "execution_count": 116,
   "metadata": {},
   "outputs": [],
   "source": [
    "from rdflib.graph import Graph\n",
    "from rdflib.namespace import RDF, Namespace\n",
    "from rdflib.serializer import Serializer\n",
    "from rdflib.term import BNode, Literal, URIRef\n",
    "from rdflib.plugins.sparql import prepareQuery"
   ]
  },
  {
   "cell_type": "code",
   "execution_count": 21,
   "metadata": {},
   "outputs": [],
   "source": [
    "import pathlib\n",
    "from pyld import jsonld\n",
    "import json"
   ]
  },
  {
   "cell_type": "markdown",
   "metadata": {},
   "source": [
    "Serializing JSONLD Graph\n",
    "\n",
    "```python\n",
    "flattenedCrateMetadata = jsonld.flatten(crateMetadataRaw)\n",
    "\n",
    "# write out the \n",
    "with pathlib.Path(\"metadata.json\").open('w') as outfile:\n",
    "\tjson.dump(flattenedCrateMetadata, outfile, indent=2)\n",
    "\n",
    "\n",
    "# serialization \n",
    "normalized = jsonld.normalize(\n",
    "    crateMetadataRaw, {'algorithm': 'URDNA2015', 'format': 'application/n-quads'})\n",
    "\n",
    "\n",
    "with pathlib.Path(\"normalized.nquads\").open('w') as outfile:\n",
    "\toutfile.write(normalized)\n",
    "```"
   ]
  },
  {
   "cell_type": "code",
   "execution_count": null,
   "metadata": {},
   "outputs": [],
   "source": [
    "\n",
    "with pathlib.Path(\"ro-crate-metadata.json\").open('r') as jsonfile:\n",
    "\tcrateMetadataRaw = json.load(jsonfile)\n",
    "\n",
    "crateGUID = crateMetadataRaw['@id']\n",
    "for elem in crateMetadataRaw['@graph']:\n",
    "\telem['isPartOf'] = crateGUID\n",
    "\n",
    "rocrateNode = crateMetadataRaw.copy()\n",
    "del rocrateNode['@graph']"
   ]
  },
  {
   "cell_type": "code",
   "execution_count": 85,
   "metadata": {},
   "outputs": [
    {
     "data": {
      "text/plain": [
       "{'EVI': 'https://w3id.org/EVI#', '@vocab': 'https://schema.org/'}"
      ]
     },
     "execution_count": 85,
     "metadata": {},
     "output_type": "execute_result"
    }
   ],
   "source": [
    "rocrateNode['@context']"
   ]
  },
  {
   "cell_type": "code",
   "execution_count": null,
   "metadata": {},
   "outputs": [],
   "source": [
    "context = {\n",
    "\t\"EVI\": \n",
    "}"
   ]
  },
  {
   "cell_type": "code",
   "execution_count": 164,
   "metadata": {},
   "outputs": [
    {
     "data": {
      "text/plain": [
       "<Graph identifier=Nc63ab907a9b64c61a6c579907e2b6218 (<class 'rdflib.graph.Graph'>)>"
      ]
     },
     "execution_count": 164,
     "metadata": {},
     "output_type": "execute_result"
    }
   ],
   "source": [
    "g = Graph()\n",
    "\n",
    "# load in all nodes of the graph\n",
    "for elem in crateMetadataRaw['@graph']:\n",
    "\telem['@context'] = rocrateNode['@context']\n",
    "\texpandedNode = jsonld.expand(elem)\n",
    "\tg.parse(data=json.dumps(expandedNode), format='json-ld')\n",
    "\n",
    "# load in the metadata\n",
    "g.parse(data=json.dumps(rocrateNode), format='json-ld')"
   ]
  },
  {
   "cell_type": "code",
   "execution_count": 165,
   "metadata": {},
   "outputs": [
    {
     "data": {
      "text/plain": [
       "631"
      ]
     },
     "execution_count": 165,
     "metadata": {},
     "output_type": "execute_result"
    }
   ],
   "source": [
    "len(g.all_nodes())"
   ]
  },
  {
   "cell_type": "code",
   "execution_count": 166,
   "metadata": {},
   "outputs": [],
   "source": [
    "# add the EVI ontology to the graph\n",
    "g.parse(pathlib.Path('evi.owl'), format='xml')\n",
    "EVI = Namespace(\"https://w3id.org/EVI#\")\n",
    "SCHEMA = Namespace(\"https://schema.org/\")"
   ]
  },
  {
   "cell_type": "code",
   "execution_count": null,
   "metadata": {},
   "outputs": [],
   "source": []
  },
  {
   "cell_type": "code",
   "execution_count": 97,
   "metadata": {},
   "outputs": [],
   "source": [
    "# SPARQL query for all nodes\n",
    "\n",
    "# rdflib query for datasets\n",
    "datasetRDFLibNodes = [ s for s, p, o in g.triples((None,  RDF.type, EVI['Dataset']))] \n",
    "softwareRDFLibNodes = [ s for s, p, o in g.triples((None,  RDF.type, EVI['Software']))] \n",
    "computationRDFLibNodes = [ s for s, p, o in g.triples((None,  RDF.type, EVI['Computation']))] \n",
    "rocrateRDFLibNode = [ s for s, p, o in g.triples((None,  RDF.type, SCHEMA['Dataset']))] \n"
   ]
  },
  {
   "cell_type": "markdown",
   "metadata": {},
   "source": [
    "## Sparql query notes\n",
    "\n",
    "\n",
    "  dataset? RDF.type EVI.Dataset;"
   ]
  },
  {
   "cell_type": "code",
   "execution_count": 127,
   "metadata": {},
   "outputs": [
    {
     "data": {
      "text/plain": [
       "Namespace('http://www.w3.org/1999/02/22-rdf-syntax-ns#')"
      ]
     },
     "execution_count": 127,
     "metadata": {},
     "output_type": "execute_result"
    }
   ],
   "source": [
    "RDF"
   ]
  },
  {
   "cell_type": "code",
   "execution_count": null,
   "metadata": {},
   "outputs": [],
   "source": [
    "# sparql query\n",
    "EVI = Namespace(\"https://w3id.org/EVI#\")\n",
    "sparqlQuery = prepareQuery(\"\"\"\n",
    "SELECT ?dataset ?pred ?obj\n",
    "WHERE {\n",
    "\t ?dataset ?pred ?obj .\n",
    "\t \n",
    "\t { ?dataset RDF:type EVI:Software .} UNION { ?dataset RDF:type EVI:Computation .}\n",
    "}\n",
    "\"\"\",\n",
    "\n",
    "initNs={\"RDF\": RDF, \"EVI\": EVI, \"SCHEMA\": SCHEMA}\n",
    "\n",
    ")"
   ]
  },
  {
   "cell_type": "code",
   "execution_count": 168,
   "metadata": {},
   "outputs": [],
   "source": [
    "# execute query\n",
    "sparqlResult = g.query(sparqlQuery)"
   ]
  },
  {
   "cell_type": "code",
   "execution_count": null,
   "metadata": {},
   "outputs": [],
   "source": []
  },
  {
   "cell_type": "markdown",
   "metadata": {},
   "source": [
    "# serialize results as json\n",
    "# sparqlResult.serialize(\"query_output.json\", format='json')"
   ]
  },
  {
   "cell_type": "code",
   "execution_count": 158,
   "metadata": {},
   "outputs": [],
   "source": [
    "# create a new graph with the results\n",
    "queryGraph = Graph()\n",
    "\n",
    "for row in sparqlResult:\n",
    "\tqueryGraph.add(row)"
   ]
  },
  {
   "cell_type": "code",
   "execution_count": 159,
   "metadata": {},
   "outputs": [
    {
     "data": {
      "text/plain": [
       "<Graph identifier=N380db6ef84a44fd5ae3a00f219bbdae2 (<class 'rdflib.graph.Graph'>)>"
      ]
     },
     "execution_count": 159,
     "metadata": {},
     "output_type": "execute_result"
    }
   ],
   "source": [
    "queryGraph.serialize('query_output.json', format='json-ld')"
   ]
  },
  {
   "cell_type": "code",
   "execution_count": null,
   "metadata": {},
   "outputs": [
    {
     "name": "stdout",
     "output_type": "stream",
     "text": [
      "Help on method subject_objects in module rdflib.graph:\n",
      "\n",
      "subject_objects(predicate: 'Union[None, Path, _PredicateType]' = None, unique: 'bool' = False) -> 'Generator[Tuple[_SubjectType, _ObjectType], None, None]' method of rdflib.graph.Graph instance\n",
      "    A generator of (optionally unique) (subject, object) tuples\n",
      "    for the given predicate\n",
      "\n"
     ]
    }
   ],
   "source": [
    "help(g.obj)"
   ]
  },
  {
   "cell_type": "code",
   "execution_count": 163,
   "metadata": {},
   "outputs": [
    {
     "name": "stdout",
     "output_type": "stream",
     "text": [
      "Help on method transitive_objects in module rdflib.graph:\n",
      "\n",
      "transitive_objects(subject: 'Optional[_SubjectType]', predicate: 'Optional[_PredicateType]', remember: 'Optional[Dict[Optional[_SubjectType], int]]' = None) -> 'Generator[Optional[_SubjectType], None, None]' method of rdflib.graph.Graph instance\n",
      "    Transitively generate objects for the ``predicate`` relationship\n",
      "    \n",
      "    Generated objects belong to the depth first transitive closure of the\n",
      "    ``predicate`` relationship starting at ``subject``.\n",
      "\n"
     ]
    }
   ],
   "source": [
    "help(g.transitive_objects)"
   ]
  },
  {
   "cell_type": "code",
   "execution_count": 160,
   "metadata": {},
   "outputs": [
    {
     "data": {
      "text/plain": [
       "[]"
      ]
     },
     "execution_count": 160,
     "metadata": {},
     "output_type": "execute_result"
    }
   ],
   "source": [
    "list(g.triples((\"https://fairscape.net/ark:59852/dataset-Simulated-unique-file-9LUEb5Y\", None, None)))"
   ]
  },
  {
   "cell_type": "code",
   "execution_count": null,
   "metadata": {},
   "outputs": [
    {
     "ename": "TypeError",
     "evalue": "unhashable type: 'list'",
     "output_type": "error",
     "traceback": [
      "\u001b[1;31m---------------------------------------------------------------------------\u001b[0m",
      "\u001b[1;31mTypeError\u001b[0m                                 Traceback (most recent call last)",
      "Cell \u001b[1;32mIn[113], line 3\u001b[0m\n\u001b[0;32m      1\u001b[0m \u001b[38;5;66;03m# get all nodes\u001b[39;00m\n\u001b[0;32m      2\u001b[0m ds \u001b[38;5;241m=\u001b[39m datasetRDFLibNodes[\u001b[38;5;241m0\u001b[39m]\n\u001b[1;32m----> 3\u001b[0m Graph(\u001b[38;5;28mlist\u001b[39m(g\u001b[38;5;241m.\u001b[39mtriples((ds, \u001b[38;5;28;01mNone\u001b[39;00m, \u001b[38;5;28;01mNone\u001b[39;00m))))\n",
      "File \u001b[1;32mc:\\Users\\Max\\anaconda3\\Lib\\site-packages\\rdflib\\graph.py:458\u001b[0m, in \u001b[0;36mGraph.__init__\u001b[1;34m(self, store, identifier, namespace_manager, base, bind_namespaces)\u001b[0m\n\u001b[0;32m    455\u001b[0m \u001b[38;5;28mself\u001b[39m\u001b[38;5;241m.\u001b[39m__store: Store\n\u001b[0;32m    456\u001b[0m \u001b[38;5;28;01mif\u001b[39;00m \u001b[38;5;129;01mnot\u001b[39;00m \u001b[38;5;28misinstance\u001b[39m(store, Store):\n\u001b[0;32m    457\u001b[0m     \u001b[38;5;66;03m# TODO: error handling\u001b[39;00m\n\u001b[1;32m--> 458\u001b[0m     \u001b[38;5;28mself\u001b[39m\u001b[38;5;241m.\u001b[39m__store \u001b[38;5;241m=\u001b[39m store \u001b[38;5;241m=\u001b[39m plugin\u001b[38;5;241m.\u001b[39mget(store, Store)()\n\u001b[0;32m    459\u001b[0m \u001b[38;5;28;01melse\u001b[39;00m:\n\u001b[0;32m    460\u001b[0m     \u001b[38;5;28mself\u001b[39m\u001b[38;5;241m.\u001b[39m__store \u001b[38;5;241m=\u001b[39m store\n",
      "File \u001b[1;32mc:\\Users\\Max\\anaconda3\\Lib\\site-packages\\rdflib\\plugin.py:134\u001b[0m, in \u001b[0;36mget\u001b[1;34m(name, kind)\u001b[0m\n\u001b[0;32m    129\u001b[0m \u001b[38;5;250m\u001b[39m\u001b[38;5;124;03m\"\"\"\u001b[39;00m\n\u001b[0;32m    130\u001b[0m \u001b[38;5;124;03mReturn the class for the specified (name, kind). Raises a\u001b[39;00m\n\u001b[0;32m    131\u001b[0m \u001b[38;5;124;03mPluginException if unable to do so.\u001b[39;00m\n\u001b[0;32m    132\u001b[0m \u001b[38;5;124;03m\"\"\"\u001b[39;00m\n\u001b[0;32m    133\u001b[0m \u001b[38;5;28;01mtry\u001b[39;00m:\n\u001b[1;32m--> 134\u001b[0m     p: Plugin[PluginT] \u001b[38;5;241m=\u001b[39m _plugins[(name, kind)]\n\u001b[0;32m    135\u001b[0m \u001b[38;5;28;01mexcept\u001b[39;00m \u001b[38;5;167;01mKeyError\u001b[39;00m:\n\u001b[0;32m    136\u001b[0m     \u001b[38;5;28;01mraise\u001b[39;00m PluginException(\u001b[38;5;124m\"\u001b[39m\u001b[38;5;124mNo plugin registered for (\u001b[39m\u001b[38;5;132;01m%s\u001b[39;00m\u001b[38;5;124m, \u001b[39m\u001b[38;5;132;01m%s\u001b[39;00m\u001b[38;5;124m)\u001b[39m\u001b[38;5;124m\"\u001b[39m \u001b[38;5;241m%\u001b[39m (name, kind))\n",
      "\u001b[1;31mTypeError\u001b[0m: unhashable type: 'list'"
     ]
    }
   ],
   "source": [
    "# get all nodes\n",
    "ds = datasetRDFLibNodes[0]\n",
    "list(g.triples((ds, None, None)))"
   ]
  },
  {
   "cell_type": "code",
   "execution_count": 114,
   "metadata": {},
   "outputs": [
    {
     "name": "stdout",
     "output_type": "stream",
     "text": [
      "Help on method triples in module rdflib.graph:\n",
      "\n",
      "triples(triple: '_TripleSelectorType') -> 'Generator[_TripleOrTriplePathType, None, None]' method of rdflib.graph.Graph instance\n",
      "    Generator over the triple store\n",
      "    \n",
      "    Returns triples that match the given triple pattern. If triple pattern\n",
      "    does not provide a context, all contexts will be searched.\n",
      "\n"
     ]
    }
   ],
   "source": [
    "help(g.triples)"
   ]
  },
  {
   "cell_type": "code",
   "execution_count": 98,
   "metadata": {},
   "outputs": [
    {
     "name": "stdout",
     "output_type": "stream",
     "text": [
      "107\n",
      "1\n",
      "1\n",
      "1\n"
     ]
    }
   ],
   "source": [
    "print(len(datasetRDFLibNodes))\n",
    "print(len(softwareRDFLibNodes))\n",
    "print(len(computationRDFLibNodes))\n",
    "print(len(rocrateRDFLibNode))"
   ]
  },
  {
   "cell_type": "code",
   "execution_count": 101,
   "metadata": {},
   "outputs": [
    {
     "data": {
      "text/plain": [
       "936"
      ]
     },
     "execution_count": 101,
     "metadata": {},
     "output_type": "execute_result"
    }
   ],
   "source": [
    "len(g.all_nodes())"
   ]
  },
  {
   "cell_type": "code",
   "execution_count": 107,
   "metadata": {},
   "outputs": [
    {
     "data": {
      "text/plain": [
       "2625"
      ]
     },
     "execution_count": 107,
     "metadata": {},
     "output_type": "execute_result"
    }
   ],
   "source": [
    "len(g)"
   ]
  },
  {
   "cell_type": "code",
   "execution_count": 108,
   "metadata": {},
   "outputs": [],
   "source": [
    "# try deductive closure\n",
    "from owlrl import DeductiveClosure, OWLRL_Semantics"
   ]
  },
  {
   "cell_type": "code",
   "execution_count": 109,
   "metadata": {},
   "outputs": [],
   "source": [
    "DeductiveClosure(OWLRL_Semantics).expand(g)"
   ]
  },
  {
   "cell_type": "code",
   "execution_count": 110,
   "metadata": {},
   "outputs": [
    {
     "data": {
      "text/plain": [
       "4995"
      ]
     },
     "execution_count": 110,
     "metadata": {},
     "output_type": "execute_result"
    }
   ],
   "source": [
    "len(g)"
   ]
  },
  {
   "cell_type": "code",
   "execution_count": null,
   "metadata": {},
   "outputs": [],
   "source": []
  }
 ],
 "metadata": {
  "kernelspec": {
   "display_name": "base",
   "language": "python",
   "name": "python3"
  },
  "language_info": {
   "codemirror_mode": {
    "name": "ipython",
    "version": 3
   },
   "file_extension": ".py",
   "mimetype": "text/x-python",
   "name": "python",
   "nbconvert_exporter": "python",
   "pygments_lexer": "ipython3",
   "version": "3.11.4"
  }
 },
 "nbformat": 4,
 "nbformat_minor": 2
}
