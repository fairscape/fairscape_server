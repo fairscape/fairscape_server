{
 "cells": [
  {
   "cell_type": "code",
   "execution_count": 1,
   "metadata": {},
   "outputs": [],
   "source": [
    "# import rocrate models\n",
    "import os\n",
    "import sys\n",
    "\n",
    "#sys.path.insert(0, os.path.abspath(os.path.join(os.path.dirname(__file__), '../')))\n",
    "#os.path.join(os.path.dirname(__file__), '../')\n",
    "srcPath = os.path.abspath('C:\\\\Users\\\\Max\\\\Documents\\\\GitHub\\\\mds_python\\\\src\\\\' )\n",
    "sys.path.insert(0, srcPath)"
   ]
  },
  {
   "cell_type": "code",
   "execution_count": 2,
   "metadata": {},
   "outputs": [
    {
     "name": "stderr",
     "output_type": "stream",
     "text": [
      "c:\\Users\\Max\\anaconda3\\Lib\\site-packages\\paramiko\\transport.py:219: CryptographyDeprecationWarning: Blowfish has been deprecated\n",
      "  \"class\": algorithms.Blowfish,\n"
     ]
    }
   ],
   "source": [
    "from fairscape_mds.models.rocrate import (\n",
    "\tROCrateV1_2,\n",
    "\tROCrateDataset,\n",
    "\tROCrateSoftware,\n",
    "\tROCrateComputation,\n",
    "\tROCrateOrganization,\n",
    "\tROCrateProject,\n",
    "\tROCrateMetadataElem\n",
    ")\n",
    "from fairscape_mds.models.document import MongoDocument"
   ]
  },
  {
   "cell_type": "code",
   "execution_count": 3,
   "metadata": {},
   "outputs": [],
   "source": [
    "import pathlib\n",
    "from fairscape_mds.config import create_fairscape_config\n",
    "from dotenv import load_dotenv\n",
    "import os\n",
    "\n",
    "load_dotenv(\"../local.env\")\n",
    "\n",
    "fairscapeConfig = create_fairscape_config(os.environ)\n",
    "\n",
    "#ldapConnection = fairscapeConfig.ldap.connectAdmin()\n",
    "#currentUserLDAP = getUserByCN(ldapConnection, userCN)\n",
    "#ldapConnection.unbind()\n",
    "\n",
    "minioClient = fairscapeConfig.minio.CreateClient()\n",
    "mongoClient = fairscapeConfig.mongo.CreateClient()\n",
    "\n",
    "mongoDB = mongoClient[fairscapeConfig.mongo.db]\n",
    "asyncCollection = mongoDB[fairscapeConfig.mongo.async_collection]\n",
    "identifierCollection = mongoDB[fairscapeConfig.mongo.identifier_collection]\n",
    "rocrateCollection = mongoDB[fairscapeConfig.mongo.rocrate_collection]"
   ]
  },
  {
   "cell_type": "code",
   "execution_count": 4,
   "metadata": {},
   "outputs": [],
   "source": [
    "import pymongo\n",
    "import json"
   ]
  },
  {
   "cell_type": "code",
   "execution_count": 5,
   "metadata": {},
   "outputs": [],
   "source": [
    "# load an example ROCrate\n",
    "metadataPath = pathlib.Path(\"../serialization/data/1.cm4ai_chromatin_mda-mb-468_untreated_apmsloader_initialrun0.1alpha/ro-crate-metadata.json\")\n",
    "with metadataPath.open('r') as metadataFile:\n",
    "\tcrateModel = ROCrateV1_2.model_validate_json(metadataFile.read())\n"
   ]
  },
  {
   "cell_type": "code",
   "execution_count": 6,
   "metadata": {},
   "outputs": [
    {
     "data": {
      "text/plain": [
       "ROCrateV1_2(context={'EVI': 'https://w3id.org/EVI#', '@vocab': 'https://schema.org/'}, metadataGraph=[ROCrateMetadataFileElem(guid='ro-crate-metadata.json', metadataType='CreativeWork', conformsTo=IdentifierValue(guid='https://w3id.org/ro/crate/1.2-DRAFT'), about=IdentifierValue(guid='https://fairscape.net/ark:59852/rocrate-1.cm4ai_chromatin_mda-mb-468_untreated_apmsloader_initialrun0.1alpha')), ROCrateMetadataElem(guid='https://fairscape.net/ark:59852/rocrate-1.cm4ai_chromatin_mda-mb-468_untreated_apmsloader_initialrun0.1alpha', metadataType=['Dataset', 'https://w3id.org/EVI#ROCrate'], name='Initial integration run', keywords=['Ideker Lab', 'CM4AI', '0.1 alpha', 'MDA-MB-468', 'untreated', 'chromatin', 'Initial integration run', 'AP-MS edgelist download'], isPartOf=[IdentifierValue(guid='ark:/Ideker_Lab'), IdentifierValue(guid='ark:/Ideker_Lab/CM4AI')], version='0.5alpha', dataLicense='https://creativecommons.org/licenses/by-nc-sa/4.0/deed.en', associatedPublication='Clark T, Schaffer L, Obernier K, Al Manir S, Churas CP, Dailamy A, Doctor Y, Forget A, Hansen JN, Hu M, Lenkiewicz J, Levinson MA, Marquez C, Mohan J, Nourreddine S, Niestroy J, Pratt D, Qian G, Thaker S, Belisle-Pipon J-C, Brandt C, Chen J, Ding Y, Fodeh S, Krogan N, Lundberg E, Mali P, Payne-Foster P, Ratcliffe S, Ravitsky V, Sali A, Schulz W, Ideker T. Cell Maps for Artificial Intelligence: AI-Ready Maps of Human Cell Architecture from Disease-Relevant Cell Lines. BioRXiv 2024.', author=['Clark T', 'Schaffer L', 'Obernier K', 'Al Manir S', 'Churas CP', 'Dailamy A', 'Doctor Y', 'Forget A', 'Hansen JN', 'Hu M', 'Lenkiewicz J', 'Levinson MA', 'Marquez C', 'Mohan J', 'Nourreddine S', 'Niestroy J', 'Pratt D', 'Qian G', 'Thaker S', 'Belisle-Pipon J-C', 'Brandt C', 'Chen J', 'Ding Y', 'Fodeh S', 'Krogan N', 'Lundberg E', 'Mali P', 'Payne-Foster P', 'Ratcliffe S', 'Ravitsky V', 'Sali A', 'Schulz W', 'Ideker T.'], conditionsOfAccess='This dataset was created by investigators and staff of the Cell Maps for Artificial Intelligence project (CM4AI - https://cm4ai.org), a Data Generation Project of the NIH Bridge2AI program, and is copyright (c) 2024 by The Regents of the University of California and, for cellular imaging data, by The Board of Trustees of the Leland Stanford Junior University. It is licensed for reuse under the Creative Commons Attribution-NonCommercial-ShareAlike 4.0 International (CC-BY-NC-SA 4.0) license, whose terms are summarized here: https://creativecommons.org/licenses/by-nc-sa/4.0/deed.en.  Proper attribution credit as required by the license includes citation of the copyright holders and of the attribution parties, which includes citation of the following article: Clark T, Schaffer L, Obernier K, Al Manir S, Churas CP, Dailamy A, Doctor Y, Forget A, Hansen JN, Hu M, Lenkiewicz J, Levinson MA, Marquez C, Mohan J, Nourreddine S, Niestroy J, Pratt D, Qian G, Thaker S, Belisle-Pipon J-C, Brandt C, Chen J, Ding Y, Fodeh S, Krogan N, Lundberg E, Mali P, Payne-Foster P, Ratcliffe S, Ravitsky V, Sali A, Schulz W, Ideker T. Cell Maps for Artificial Intelligence: AI-Ready Maps of Human Cell Architecture from Disease-Relevant Cell Lines. BioRXiv 2024.”', copyrightNotice='Copyright (c) 2024 by The Regents of the University of California', hasPart=[IdentifierValue(guid='https://fairscape.net/ark:59852/software-cellmaps_ppidownloader-58sGTge'), IdentifierValue(guid='https://fairscape.net/ark:59852/dataset-cellmaps_ppidownloader-output-file-58sGTge'), IdentifierValue(guid='https://fairscape.net/ark:59852/computation-AP-MS-Loader-58sGTge')]), ROCrateSoftware(guid='https://fairscape.net/ark:59852/software-cellmaps_ppidownloader-58sGTge', metadataType='https://w3id.org/EVI#Software', additionalType='Software', author='Clark T, Schaffer L, Obernier K, Al Manir S, Churas CP, Dailamy A, Doctor Y, Forget A, Hansen JN, Hu M, Lenkiewicz J, Levinson MA, Marquez C, Mohan J, Nourreddine S, Niestroy J, Pratt D, Qian G, Thaker S, Belisle-Pipon J-C, Brandt C, Chen J, Ding Y, Fodeh S, Krogan N, Lundberg E, Mali P, Payne-Foster P, Ratcliffe S, Ravitsky V, Sali A, Schulz W, Ideker T.', dateModified='2023-08-31', version='0.5alpha', description='Ideker Lab CM4AI 0.1 alpha MDA-MB-468 untreated chromatin Initial integration run AP-MS Edgelist A tool to download AP-MS data for Cell Maps pipeline', associatedPublication='Clark T, Schaffer L, Obernier K, Al Manir S, Churas CP, Dailamy A, Doctor Y, Forget A, Hansen JN, Hu M, Lenkiewicz J, Levinson MA, Marquez C, Mohan J, Nourreddine S, Niestroy J, Pratt D, Qian G, Thaker S, Belisle-Pipon J-C, Brandt C, Chen J, Ding Y, Fodeh S, Krogan N, Lundberg E, Mali P, Payne-Foster P, Ratcliffe S, Ravitsky V, Sali A, Schulz W, Ideker T. Cell Maps for Artificial Intelligence: AI-Ready Maps of Human Cell Architecture from Disease-Relevant Cell Lines. BioRXiv 2024.', additionalDocumentation=None, fileFormat='py', usedByComputation=[], contentUrl='https://github.com/idekerlab/cellmaps_ppidownloader'), ROCrateDataset(guid='https://fairscape.net/ark:59852/dataset-cellmaps_ppidownloader-output-file-58sGTge', metadataType='https://w3id.org/EVI#Dataset', additionalType='Dataset', author=['Richa Tiwari', 'Atoshi Banerjee', 'Monita Muralidharan', 'Kristen Obernier', 'Antoine Forget', 'Nevan Krogan'], datePublished='2023-08-31', version='0.5alpha', description='Ideker Lab CM4AI 0.1 alpha MDA-MB-468 untreated chromatin Initial integration run AP-MS Edgelist AP-MS gene node attributes file', keywords=[''], associatedPublication='Clark T, Schaffer L, Obernier K, Al Manir S, Churas CP, Dailamy A, Doctor Y, Forget A, Hansen JN, Hu M, Lenkiewicz J, Levinson MA, Marquez C, Mohan J, Nourreddine S, Niestroy J, Pratt D, Qian G, Thaker S, Belisle-Pipon J-C, Brandt C, Chen J, Ding Y, Fodeh S, Krogan N, Lundberg E, Mali P, Payne-Foster P, Ratcliffe S, Ravitsky V, Sali A, Schulz W, Ideker T. Cell Maps for Artificial Intelligence: AI-Ready Maps of Human Cell Architecture from Disease-Relevant Cell Lines. BioRXiv 2024.', additionalDocumentation=None, fileFormat='tsv', dataSchema=None, generatedBy=[], derivedFrom=[], usedByComputation=[], contentUrl='file:///1.cm4ai_chromatin_mda-mb-468_untreated_apmsloader_initialrun0.1alpha/ppi_gene_node_attributes.tsv'), ROCrateComputation(guid='https://fairscape.net/ark:59852/computation-AP-MS-Loader-58sGTge', metadataType='https://w3id.org/EVI#Computation', additionalType='Computation', runBy='Chris Churas', dateCreated='2023-08-31', associatedPublication='Clark T, Schaffer L, Obernier K, Al Manir S, Churas CP, Dailamy A, Doctor Y, Forget A, Hansen JN, Hu M, Lenkiewicz J, Levinson MA, Marquez C, Mohan J, Nourreddine S, Niestroy J, Pratt D, Qian G, Thaker S, Belisle-Pipon J-C, Brandt C, Chen J, Ding Y, Fodeh S, Krogan N, Lundberg E, Mali P, Payne-Foster P, Ratcliffe S, Ravitsky V, Sali A, Schulz W, Ideker T. Cell Maps for Artificial Intelligence: AI-Ready Maps of Human Cell Architecture from Disease-Relevant Cell Lines. BioRXiv 2024.', additionalDocumentation=None, command=\"{'outdir': '0.1pipeline/1.cm4ai_chromatin_mda-mb-468_untreated_apmsloader_initialrun0.1alpha', 'cm4ai_table': '0.1rocrates/cm4ai_chromatin_mda-mb-468_untreated_apms_0.1_alpha/apms.tsv', 'edgelist': None, 'edgelist_geneid_one_col': 'GeneID1', 'edgelist_symbol_one_col': 'Symbol1', 'edgelist_geneid_two_col': 'GeneID2', 'edgelist_symbol_two_col': 'Symbol2', 'baitlist': None, 'baitlist_symbol_col': 'GeneSymbol', 'baitlist_geneid_col': 'GeneID', 'baitlist_numinteractors_col': '# Interactors', 'provenance': 'ppiprovenance.json', 'logconf': None, 'skip_logging': False, 'verbose': 0, 'program': '/cellar/users/cchuras/miniconda3/envs/py38/bin/cellmaps_ppidownloadercmd.py', 'version': '0.1.0a6'}\", usedSoftware=[IdentifierValue(guid='https://fairscape.net/ark:59852/software-cellmaps_ppidownloader-58sGTge')], usedDataset=[], generated=[IdentifierValue(guid='https://fairscape.net/ark:59852/dataset-cellmaps_ppidownloader-output-file-58sGTge')]), ROCrateOrganization(guid='ark:/Ideker_Lab', metadataType='Organization', name='Ideker Lab'), ROCrateProject(guid='ark:/Ideker_Lab/CM4AI', metadataType='Project', name='CM4AI')])"
      ]
     },
     "execution_count": 6,
     "metadata": {},
     "output_type": "execute_result"
    }
   ],
   "source": [
    "crateModel"
   ]
  },
  {
   "cell_type": "code",
   "execution_count": 7,
   "metadata": {},
   "outputs": [],
   "source": [
    "crateModel.cleanIdentifiers()"
   ]
  },
  {
   "cell_type": "code",
   "execution_count": 8,
   "metadata": {},
   "outputs": [
    {
     "data": {
      "text/plain": [
       "[ROCrateDataset(guid='ark:59852/dataset-cellmaps_ppidownloader-output-file-58sGTge', metadataType='https://w3id.org/EVI#Dataset', additionalType='Dataset', author=['Richa Tiwari', 'Atoshi Banerjee', 'Monita Muralidharan', 'Kristen Obernier', 'Antoine Forget', 'Nevan Krogan'], datePublished='2023-08-31', version='0.5alpha', description='Ideker Lab CM4AI 0.1 alpha MDA-MB-468 untreated chromatin Initial integration run AP-MS Edgelist AP-MS gene node attributes file', keywords=[''], associatedPublication='Clark T, Schaffer L, Obernier K, Al Manir S, Churas CP, Dailamy A, Doctor Y, Forget A, Hansen JN, Hu M, Lenkiewicz J, Levinson MA, Marquez C, Mohan J, Nourreddine S, Niestroy J, Pratt D, Qian G, Thaker S, Belisle-Pipon J-C, Brandt C, Chen J, Ding Y, Fodeh S, Krogan N, Lundberg E, Mali P, Payne-Foster P, Ratcliffe S, Ravitsky V, Sali A, Schulz W, Ideker T. Cell Maps for Artificial Intelligence: AI-Ready Maps of Human Cell Architecture from Disease-Relevant Cell Lines. BioRXiv 2024.', additionalDocumentation=None, fileFormat='tsv', dataSchema=None, generatedBy=[], derivedFrom=[], usedByComputation=[], contentUrl='file:///1.cm4ai_chromatin_mda-mb-468_untreated_apmsloader_initialrun0.1alpha/ppi_gene_node_attributes.tsv'),\n",
       " ROCrateSoftware(guid='ark:59852/software-cellmaps_ppidownloader-58sGTge', metadataType='https://w3id.org/EVI#Software', additionalType='Software', author='Clark T, Schaffer L, Obernier K, Al Manir S, Churas CP, Dailamy A, Doctor Y, Forget A, Hansen JN, Hu M, Lenkiewicz J, Levinson MA, Marquez C, Mohan J, Nourreddine S, Niestroy J, Pratt D, Qian G, Thaker S, Belisle-Pipon J-C, Brandt C, Chen J, Ding Y, Fodeh S, Krogan N, Lundberg E, Mali P, Payne-Foster P, Ratcliffe S, Ravitsky V, Sali A, Schulz W, Ideker T.', dateModified='2023-08-31', version='0.5alpha', description='Ideker Lab CM4AI 0.1 alpha MDA-MB-468 untreated chromatin Initial integration run AP-MS Edgelist A tool to download AP-MS data for Cell Maps pipeline', associatedPublication='Clark T, Schaffer L, Obernier K, Al Manir S, Churas CP, Dailamy A, Doctor Y, Forget A, Hansen JN, Hu M, Lenkiewicz J, Levinson MA, Marquez C, Mohan J, Nourreddine S, Niestroy J, Pratt D, Qian G, Thaker S, Belisle-Pipon J-C, Brandt C, Chen J, Ding Y, Fodeh S, Krogan N, Lundberg E, Mali P, Payne-Foster P, Ratcliffe S, Ravitsky V, Sali A, Schulz W, Ideker T. Cell Maps for Artificial Intelligence: AI-Ready Maps of Human Cell Architecture from Disease-Relevant Cell Lines. BioRXiv 2024.', additionalDocumentation=None, fileFormat='py', usedByComputation=[], contentUrl='https://github.com/idekerlab/cellmaps_ppidownloader'),\n",
       " ROCrateComputation(guid='ark:59852/computation-AP-MS-Loader-58sGTge', metadataType='https://w3id.org/EVI#Computation', additionalType='Computation', runBy='Chris Churas', dateCreated='2023-08-31', associatedPublication='Clark T, Schaffer L, Obernier K, Al Manir S, Churas CP, Dailamy A, Doctor Y, Forget A, Hansen JN, Hu M, Lenkiewicz J, Levinson MA, Marquez C, Mohan J, Nourreddine S, Niestroy J, Pratt D, Qian G, Thaker S, Belisle-Pipon J-C, Brandt C, Chen J, Ding Y, Fodeh S, Krogan N, Lundberg E, Mali P, Payne-Foster P, Ratcliffe S, Ravitsky V, Sali A, Schulz W, Ideker T. Cell Maps for Artificial Intelligence: AI-Ready Maps of Human Cell Architecture from Disease-Relevant Cell Lines. BioRXiv 2024.', additionalDocumentation=None, command=\"{'outdir': '0.1pipeline/1.cm4ai_chromatin_mda-mb-468_untreated_apmsloader_initialrun0.1alpha', 'cm4ai_table': '0.1rocrates/cm4ai_chromatin_mda-mb-468_untreated_apms_0.1_alpha/apms.tsv', 'edgelist': None, 'edgelist_geneid_one_col': 'GeneID1', 'edgelist_symbol_one_col': 'Symbol1', 'edgelist_geneid_two_col': 'GeneID2', 'edgelist_symbol_two_col': 'Symbol2', 'baitlist': None, 'baitlist_symbol_col': 'GeneSymbol', 'baitlist_geneid_col': 'GeneID', 'baitlist_numinteractors_col': '# Interactors', 'provenance': 'ppiprovenance.json', 'logconf': None, 'skip_logging': False, 'verbose': 0, 'program': '/cellar/users/cchuras/miniconda3/envs/py38/bin/cellmaps_ppidownloadercmd.py', 'version': '0.1.0a6'}\", usedSoftware=[IdentifierValue(guid='ark:59852/software-cellmaps_ppidownloader-58sGTge')], usedDataset=[], generated=[IdentifierValue(guid='ark:59852/dataset-cellmaps_ppidownloader-output-file-58sGTge')])]"
      ]
     },
     "execution_count": 8,
     "metadata": {},
     "output_type": "execute_result"
    }
   ],
   "source": [
    "crateModel.getEVIElements()"
   ]
  },
  {
   "cell_type": "code",
   "execution_count": 9,
   "metadata": {},
   "outputs": [],
   "source": [
    "# custom exception for file uri in metadata only record\n",
    "\n",
    "class ROCrateMetadataOnlyException(Exception):\n",
    "\t\"\"\" Exception Raised when ROCrate has file uri in a metadata only submission\n",
    "\t\"\"\"\n",
    "\n",
    "\tdef __init__(self, message, errors):\n",
    "\t\tself.message = message\n",
    "\t\tself.errors = errors\n",
    "\t\tsuper().__init__(message)\n",
    "\n",
    "\tdef __str__(self):\n",
    "\t\treturn self.message\n",
    "\n",
    "\n",
    "# detect if contentUrl properties for datasets are all https\n",
    "def validateROCrateMetadata(crateModel: ROCrateV1_2):\n",
    "\t# make a dictionary of dataset guid to content url if a file uri is in the content url \"file://\"\n",
    "\tcontentUrlDict = {\n",
    "\t\tcrateDataset.guid: crateDataset.contentUrl for crateDataset in crateModel.getDatasets() \n",
    "\t\tif \"file\" in crateDataset.contentUrl\n",
    "\t}\n",
    "\n",
    "\tif len(contentUrlDict.items()) != 0:\n",
    "\t\traise ROCrateMetadataOnlyException(\n",
    "\t\t\tmessage=\"All Identifiers must reference content by URI\",\n",
    "\t\t\terrors = contentUrlDict\n",
    "\t\t)"
   ]
  },
  {
   "cell_type": "code",
   "execution_count": 10,
   "metadata": {},
   "outputs": [],
   "source": [
    "rocrateMetadata = crateModel.getCrateMetadata()\n",
    "crateGUID = rocrateMetadata.guid\n",
    "\n",
    "ownerCN = \"mal8ch\"\n"
   ]
  },
  {
   "cell_type": "code",
   "execution_count": null,
   "metadata": {},
   "outputs": [],
   "source": []
  },
  {
   "cell_type": "code",
   "execution_count": null,
   "metadata": {},
   "outputs": [],
   "source": []
  },
  {
   "cell_type": "code",
   "execution_count": 23,
   "metadata": {},
   "outputs": [],
   "source": [
    "#print(crateModel.getCrateMetadata().model_dump_json(by_alias=True, indent=2))"
   ]
  },
  {
   "cell_type": "code",
   "execution_count": null,
   "metadata": {},
   "outputs": [],
   "source": [
    "# publish ROcrate metadata\n"
   ]
  },
  {
   "cell_type": "code",
   "execution_count": null,
   "metadata": {},
   "outputs": [
    {
     "data": {
      "text/plain": [
       "[ObjectId('67ab81c0bfb04f4005e52723'),\n",
       " ObjectId('67ab81c0bfb04f4005e52724'),\n",
       " ObjectId('67ab81c0bfb04f4005e52725'),\n",
       " ObjectId('67ab81c0bfb04f4005e52726')]"
      ]
     },
     "execution_count": 22,
     "metadata": {},
     "output_type": "execute_result"
    }
   ],
   "source": []
  },
  {
   "cell_type": "code",
   "execution_count": null,
   "metadata": {},
   "outputs": [],
   "source": [
    "class MintROCrateMetadataRequest():\n",
    "\t\"\"\" Class for Creating metadata only RO Crate records\n",
    "\t\"\"\"\n",
    "\n",
    "\tdef __init__(self, \n",
    "\t\trocrateCollection: pymongo.collection.Collection, \n",
    "\t\tidentifierCollection: pymongo.collection.Collection, \n",
    "\t\tcrateModel: ROCrateV1_2,\n",
    "\t\t):\n",
    "\n",
    "\t\tself.rocrateCollection = rocrateCollection\n",
    "\t\tself.identifierCollection = identifierCollection\n",
    "\t\tself.crateModel = crateModel\n",
    "\n",
    "\n",
    "\tdef validateROCrateMetadata(self):\n",
    "\n",
    "\t\tcontentUrlDict = {\n",
    "\t\t\tcrateDataset.guid: crateDataset.contentUrl for crateDataset in self.crateModel.getDatasets() \n",
    "\t\t\tif \"file\" in crateDataset.contentUrl\n",
    "\t\t}\n",
    "\n",
    "\t\tif len(contentUrlDict.items()) != 0:\n",
    "\t\t\traise ROCrateMetadataOnlyException(\n",
    "\t\t\t\tmessage=\"All Identifiers must reference content by URI\",\n",
    "\t\t\t\terrors = contentUrlDict\n",
    "\t\t\t)\n",
    "\n",
    "\n",
    "\tdef writeIdentifiers(self):\n",
    "\t\t\"\"\" Write identifiers to mongo\n",
    "\t\t\"\"\"\n",
    "\n",
    "\t\trocrateMetadataElem = self.crateModel.getCrateMetadata()\n",
    "\n",
    "\t\t# create a mongo document\n",
    "\t\trocrateDocument = MongoDocument.model_validate({\n",
    "\t\t\t\"@id\": rocrateMetadataElem.guid,\n",
    "\t\t\t\"@type\": \"https://w3id.org/EVI#ROCrate\",\n",
    "\t\t\t\"owner\": ownerCN,\n",
    "\t\t\t\"metadata\": self.crateModel,\n",
    "\t\t\t\"distribution\": None\n",
    "\t\t})\n",
    "\n",
    "\t\t# publish rocrate \n",
    "\t\tinsertResult = rocrateCollection.insert_one(\n",
    "\t\t\trocrateDocument.model_dump(by_alias=True)\n",
    "\t\t\t)\n",
    "\n",
    "\t\t# if rocrate metadata fails to write\n",
    "\t\tif insertResult.inserted_id is None:\n",
    "\t\t\t# TODO more detailed exception\n",
    "\t\t\traise Exception\n",
    "\n",
    "\t\t# insert identifier metadata for each of the elements\n",
    "\t\tidentifierList = [ rocrateMetadataElem ] + crateModel.getEVIElements()\n",
    "\t\tdocumentList = []\n",
    "\t\tfor metadataElem in identifierList:\n",
    "\t\t\tdocumentMetadata = {\n",
    "\t\t\t\t\"@id\": metadataElem.guid,\n",
    "\t\t\t\t\"@type\": metadataElem.metadataType,\n",
    "\t\t\t\t\"owner\": ownerCN,\n",
    "\t\t\t\t\"metadata\": metadataElem,\n",
    "\t\t\t\t\"distribution\": None\n",
    "\t\t\t}\n",
    "\n",
    "\t\t\tif isinstance(metadataElem, ROCrateMetadataElem):\n",
    "\t\t\t\tdocumentMetadata['@type'] = \"https://w3id.org/EVI#ROCrate\"\n",
    "\t\t\t\t\n",
    "\n",
    "\t\t\tmetadataElemDocument = MongoDocument.model_validate(documentMetadata)\n",
    "\n",
    "\t\t\t# add to list to insert into mongo\n",
    "\t\t\tdocumentList.append(\n",
    "\t\t\t\tmetadataElemDocument.model_dump(by_alias=True)\n",
    "\t\t\t)\n",
    "\n",
    "\t\t# insert all documents into identifier collection\n",
    "\t\tinsertResult = identifierCollection.insert_many(documents=documentList)\n",
    "\n",
    "\t\tif len(insertResult.inserted_ids) != len(documentList):\n",
    "\t\t\traise Exception\n",
    "\t\t\t\n",
    "\t\n",
    "\tdef publish(self):\n",
    "\t\t\"\"\" Preform all operations needed to write a metadata only ROCrate into Fairscape \n",
    "\t\t\"\"\"\n",
    "\n",
    "\t\tself.crateModel.cleanIdentifiers()\t\n",
    "\t\tself.validateROCrateMetadata()\n",
    "\t\tself.writeIdentifiers()"
   ]
  },
  {
   "cell_type": "code",
   "execution_count": null,
   "metadata": {},
   "outputs": [],
   "source": [
    "# mint metadata\n",
    "def storeROCrateMetadata(\n",
    "\trocrateCollection: pymongo.collection.Collection,\n",
    "\tidentifierCollection: pymongo.collection.Collection,\n",
    "\tcrateMetadata: ROCrateV1_2\n",
    "\t):\n",
    "\tpass"
   ]
  }
 ],
 "metadata": {
  "kernelspec": {
   "display_name": "base",
   "language": "python",
   "name": "python3"
  },
  "language_info": {
   "codemirror_mode": {
    "name": "ipython",
    "version": 3
   },
   "file_extension": ".py",
   "mimetype": "text/x-python",
   "name": "python",
   "nbconvert_exporter": "python",
   "pygments_lexer": "ipython3",
   "version": "3.11.4"
  }
 },
 "nbformat": 4,
 "nbformat_minor": 2
}
