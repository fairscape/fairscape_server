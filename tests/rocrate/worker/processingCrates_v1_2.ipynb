{
 "cells": [
  {
   "cell_type": "code",
   "execution_count": 2,
   "metadata": {},
   "outputs": [],
   "source": [
    "# import rocrate models\n",
    "import os\n",
    "import sys\n",
    "\n",
    "#sys.path.insert(0, os.path.abspath(os.path.join(os.path.dirname(__file__), '../')))\n",
    "#os.path.join(os.path.dirname(__file__), '../')\n",
    "srcPath = os.path.abspath('C:\\\\Users\\\\Max\\\\Documents\\\\GitHub\\\\mds_python\\\\src\\\\' )\n",
    "sys.path.insert(0, srcPath)"
   ]
  },
  {
   "cell_type": "code",
   "execution_count": 34,
   "metadata": {},
   "outputs": [],
   "source": [
    "import pathlib\n",
    "from fairscape_mds.models.rocrate import (\n",
    "\tROCrateV1_2,\n",
    "\tROCrateDataset,\n",
    ")\n",
    "\n",
    "from fairscape_mds.config import create_fairscape_config\n"
   ]
  },
  {
   "cell_type": "code",
   "execution_count": 4,
   "metadata": {},
   "outputs": [
    {
     "data": {
      "text/plain": [
       "True"
      ]
     },
     "execution_count": 4,
     "metadata": {},
     "output_type": "execute_result"
    }
   ],
   "source": [
    "from dotenv import load_dotenv\n",
    "import os\n",
    "\n",
    "load_dotenv(\"local.env\")"
   ]
  },
  {
   "cell_type": "code",
   "execution_count": 8,
   "metadata": {},
   "outputs": [],
   "source": [
    "# user "
   ]
  },
  {
   "cell_type": "code",
   "execution_count": 5,
   "metadata": {},
   "outputs": [],
   "source": [
    "fairscapeConfig = create_fairscape_config(os.environ)\n",
    "\n",
    "#ldapConnection = fairscapeConfig.ldap.connectAdmin()\n",
    "#currentUserLDAP = getUserByCN(ldapConnection, userCN)\n",
    "#ldapConnection.unbind()\n",
    "\n",
    "minioClient = fairscapeConfig.minio.CreateClient()\n",
    "mongoClient = fairscapeConfig.mongo.CreateClient()\n",
    "\n",
    "mongoDB = mongoClient[fairscapeConfig.mongo.db]\n",
    "asyncCollection = mongoDB[fairscapeConfig.mongo.async_collection]\n",
    "identifierCollection = mongoDB[fairscapeConfig.mongo.identifier_collection]\n",
    "rocrateCollection = mongoDB[fairscapeConfig.mongo.rocrate_collection]"
   ]
  },
  {
   "cell_type": "code",
   "execution_count": 6,
   "metadata": {},
   "outputs": [],
   "source": [
    "# given rocrate\n",
    "rocrateFolder = pathlib.Path(\"D:\\Work\\Data\\Dataverse-Uploaded\\crates_format_1.2\")\n",
    "\n",
    "testROCrate = rocrateFolder / \"1.cm4ai_chromatin_mda-mb-468_untreated_apmsloader_initialrun0.1alpha.zip\""
   ]
  },
  {
   "cell_type": "markdown",
   "metadata": {},
   "source": [
    "## Mocking the Transaction\n",
    "\n",
    "1. create transaction folder\n",
    "2. Copy crate to local directory\n",
    "3. Unzip contents in transaction folder\n",
    "4. process metadata\n",
    "5. upload extracted datasets\n",
    "6. replace ro-crate-metadata.json\n",
    "7. zip up and upload archive"
   ]
  },
  {
   "cell_type": "code",
   "execution_count": 61,
   "metadata": {},
   "outputs": [],
   "source": [
    "import uuid\n",
    "import pathlib\n",
    "import shutil\n",
    "import zipfile\n",
    "import json\n",
    "import minio"
   ]
  },
  {
   "cell_type": "code",
   "execution_count": 55,
   "metadata": {},
   "outputs": [],
   "source": [
    "# mock user CN\n",
    "userCN = 'mal8ch'"
   ]
  },
  {
   "cell_type": "code",
   "execution_count": 8,
   "metadata": {},
   "outputs": [],
   "source": [
    "# mock a transaction uuid\n",
    "transactionID = str(uuid.uuid4())\n",
    "\n",
    "# create a folder for jobs\n",
    "jobsFolder = pathlib.Path(\"jobs/\")\n",
    "jobsFolder.mkdir(exist_ok=True)\n",
    "\n",
    "# create a folder for this transaction\n",
    "transactionFolder = jobsFolder / transactionID\n",
    "transactionFolder.mkdir(exist_ok=True)"
   ]
  },
  {
   "cell_type": "code",
   "execution_count": 10,
   "metadata": {},
   "outputs": [],
   "source": [
    "extractFolder = transactionFolder / 'extracted'"
   ]
  },
  {
   "cell_type": "code",
   "execution_count": 9,
   "metadata": {},
   "outputs": [
    {
     "data": {
      "text/plain": [
       "'jobs\\\\625d5589-4956-46a7-bc32-d6571dac285c\\\\1.cm4ai_chromatin_mda-mb-468_untreated_apmsloader_initialrun0.1alpha.zip'"
      ]
     },
     "execution_count": 9,
     "metadata": {},
     "output_type": "execute_result"
    }
   ],
   "source": [
    "# mock copy to transaction directory\n",
    "zippedCratePath = transactionFolder / testROCrate.name\n",
    "\n",
    "shutil.copyfile(\n",
    "\tstr(testROCrate),\n",
    "\tstr(zippedCratePath)\n",
    ")\n"
   ]
  },
  {
   "cell_type": "code",
   "execution_count": 19,
   "metadata": {},
   "outputs": [],
   "source": [
    "crateFolderName = zippedCratePath.name.strip(zippedCratePath.suffix)"
   ]
  },
  {
   "cell_type": "code",
   "execution_count": 12,
   "metadata": {},
   "outputs": [],
   "source": [
    "# unzip the archive \n",
    "with zippedCratePath.open('rb') as zippedCrateFileObj:\n",
    "\tzipCrate = zipfile.ZipFile(zippedCrateFileObj)\n",
    "\tzipCrate.extractall(path=str(extractFolder))"
   ]
  },
  {
   "cell_type": "code",
   "execution_count": 45,
   "metadata": {},
   "outputs": [],
   "source": [
    "# extract the metadata\n",
    "extractedContentsFolder = extractFolder / crateFolderName\n",
    "metadataFilePath = extractedContentsFolder / 'ro-crate-metadata.json'\n",
    "with metadataFilePath.open(\"r\") as crateMetadataFileObj:\n",
    "\tcrateMetadata = json.load(crateMetadataFileObj)"
   ]
  },
  {
   "cell_type": "code",
   "execution_count": 24,
   "metadata": {},
   "outputs": [],
   "source": [
    "# parse metadata into pydantic model\n",
    "crateMetadataRecord = ROCrateV1_2.model_validate(crateMetadata)"
   ]
  },
  {
   "cell_type": "code",
   "execution_count": 30,
   "metadata": {},
   "outputs": [
    {
     "data": {
      "text/plain": [
       "fairscape_mds.models.rocrate.ROCrateMetadataFileElem"
      ]
     },
     "execution_count": 30,
     "metadata": {},
     "output_type": "execute_result"
    }
   ],
   "source": [
    "type(crateMetadataRecord.metadataGraph[0])"
   ]
  },
  {
   "cell_type": "code",
   "execution_count": 86,
   "metadata": {},
   "outputs": [],
   "source": [
    "# create list of dataset identified files \n",
    "datasetList = list(filter(\n",
    "\tlambda x: isinstance(x, ROCrateDataset), \n",
    "\tcrateMetadataRecord.metadataGraph))\n",
    "\n",
    "# for each dataset "
   ]
  },
  {
   "cell_type": "code",
   "execution_count": 87,
   "metadata": {},
   "outputs": [
    {
     "data": {
      "text/plain": [
       "[ROCrateMetadataElem(guid='https://fairscape.net/ark:59852/rocrate-1.cm4ai_chromatin_mda-mb-468_untreated_apmsloader_initialrun0.1alpha', metadataType=['Dataset', 'https://w3id.org/EVI#ROCrate'], name='Initial integration run', keywords=['Ideker Lab', 'CM4AI', '0.1 alpha', 'MDA-MB-468', 'untreated', 'chromatin', 'Initial integration run', 'AP-MS edgelist download'], isPartOf=[IdentifierValue(guid='ark:/Ideker_Lab'), IdentifierValue(guid='ark:/Ideker_Lab/CM4AI')], version='0.5alpha', dataLicense='https://creativecommons.org/licenses/by-nc-sa/4.0/deed.en', associatedPublication='Clark T, Schaffer L, Obernier K, Al Manir S, Churas CP, Dailamy A, Doctor Y, Forget A, Hansen JN, Hu M, Lenkiewicz J, Levinson MA, Marquez C, Mohan J, Nourreddine S, Niestroy J, Pratt D, Qian G, Thaker S, Belisle-Pipon J-C, Brandt C, Chen J, Ding Y, Fodeh S, Krogan N, Lundberg E, Mali P, Payne-Foster P, Ratcliffe S, Ravitsky V, Sali A, Schulz W, Ideker T. Cell Maps for Artificial Intelligence: AI-Ready Maps of Human Cell Architecture from Disease-Relevant Cell Lines. BioRXiv 2024.', author=['Clark T', 'Schaffer L', 'Obernier K', 'Al Manir S', 'Churas CP', 'Dailamy A', 'Doctor Y', 'Forget A', 'Hansen JN', 'Hu M', 'Lenkiewicz J', 'Levinson MA', 'Marquez C', 'Mohan J', 'Nourreddine S', 'Niestroy J', 'Pratt D', 'Qian G', 'Thaker S', 'Belisle-Pipon J-C', 'Brandt C', 'Chen J', 'Ding Y', 'Fodeh S', 'Krogan N', 'Lundberg E', 'Mali P', 'Payne-Foster P', 'Ratcliffe S', 'Ravitsky V', 'Sali A', 'Schulz W', 'Ideker T.'], conditionsOfAccess='This dataset was created by investigators and staff of the Cell Maps for Artificial Intelligence project (CM4AI - https://cm4ai.org), a Data Generation Project of the NIH Bridge2AI program, and is copyright (c) 2024 by The Regents of the University of California and, for cellular imaging data, by The Board of Trustees of the Leland Stanford Junior University. It is licensed for reuse under the Creative Commons Attribution-NonCommercial-ShareAlike 4.0 International (CC-BY-NC-SA 4.0) license, whose terms are summarized here: https://creativecommons.org/licenses/by-nc-sa/4.0/deed.en.  Proper attribution credit as required by the license includes citation of the copyright holders and of the attribution parties, which includes citation of the following article: Clark T, Schaffer L, Obernier K, Al Manir S, Churas CP, Dailamy A, Doctor Y, Forget A, Hansen JN, Hu M, Lenkiewicz J, Levinson MA, Marquez C, Mohan J, Nourreddine S, Niestroy J, Pratt D, Qian G, Thaker S, Belisle-Pipon J-C, Brandt C, Chen J, Ding Y, Fodeh S, Krogan N, Lundberg E, Mali P, Payne-Foster P, Ratcliffe S, Ravitsky V, Sali A, Schulz W, Ideker T. Cell Maps for Artificial Intelligence: AI-Ready Maps of Human Cell Architecture from Disease-Relevant Cell Lines. BioRXiv 2024.”', copyrightNotice='Copyright (c) 2024 by The Regents of the University of California', hasPart=[IdentifierValue(guid='https://fairscape.net/ark:59852/software-cellmaps_ppidownloader-58sGTge'), IdentifierValue(guid='https://fairscape.net/ark:59852/dataset-cellmaps_ppidownloader-output-file-58sGTge'), IdentifierValue(guid='https://fairscape.net/ark:59852/computation-AP-MS-Loader-58sGTge')])]"
      ]
     },
     "execution_count": 87,
     "metadata": {},
     "output_type": "execute_result"
    }
   ],
   "source": [
    "\n",
    "filterResults = list(filter(\n",
    "\tlambda x: isinstance(x, ROCrateMetadataElem),\n",
    "\tcrateMetadataRecord.metadataGraph\n",
    "))"
   ]
  },
  {
   "cell_type": "code",
   "execution_count": null,
   "metadata": {},
   "outputs": [],
   "source": []
  },
  {
   "cell_type": "code",
   "execution_count": 85,
   "metadata": {},
   "outputs": [],
   "source": [
    "# pydantic model for \n",
    "from pydantic import BaseModel, Field\n",
    "from typing import Union, Optional, List\n",
    "from fairscape_mds.models.rocrate import (\n",
    "\tROCrateV1_2,\n",
    "\tROCrateDataset,\n",
    "\tROCrateSoftware,\n",
    "\tROCrateComputation,\n",
    "\tROCrateMetadataElem\n",
    ")\n",
    "import timeit\n",
    "\n",
    "class FairscapeDataDistribution(BaseModel):\n",
    "\tdistributionType: str = 'minio'\n",
    "\tobjectPath: str\n",
    "\tobjectBucket: str\n",
    "\n",
    "\n",
    "class MongoDocument(BaseModel):\n",
    "\tguid: str = Field(alias=\"@id\")\n",
    "\tmetadataType: str \n",
    "\towner: str\n",
    "\tmetadata: Union[ROCrateV1_2, ROCrateDataset, ROCrateSoftware, ROCrateComputation]\n",
    "\tdistribution: Optional[List[FairscapeDataDistribution]]\n",
    "\n",
    "\n",
    "class MongoDocument(BaseModel):\n",
    "\tguid: str = Field(alias=\"@id\")\n",
    "\tmetadataType: str = 'rocrate'\n",
    "\towner: str \n",
    "\tmetadata: ROCrateV1_2\n",
    "\tdistribution: FairscapeDataDistribution"
   ]
  },
  {
   "cell_type": "code",
   "execution_count": 75,
   "metadata": {},
   "outputs": [],
   "source": [
    "def uploadLocalFileMinio(\n",
    "\tminioClient: minio.Minio, \n",
    "\tbucketName: str, \n",
    "\tobjectName: str, \n",
    "\tfilePath: str, \n",
    "\tmetadata: dict= None):\n",
    "\tuploadResult = minioClient.fput_object(\n",
    "\t\t\tbucket_name= bucketName,\n",
    "\t\t\tobject_name=objectName,\n",
    "\t\t\tfile_path=filePath,\n",
    "\t\t\tmetadata=metadata\n",
    "\t\t)\n",
    "\treturn uploadResult"
   ]
  },
  {
   "cell_type": "code",
   "execution_count": null,
   "metadata": {},
   "outputs": [],
   "source": []
  },
  {
   "cell_type": "code",
   "execution_count": 58,
   "metadata": {},
   "outputs": [
    {
     "data": {
      "text/plain": [
       "WindowsPath('1.cm4ai_chromatin_mda-mb-468_untreated_apmsloader_initialrun0.1alpha/ppi_gene_node_attributes.tsv')"
      ]
     },
     "execution_count": 58,
     "metadata": {},
     "output_type": "execute_result"
    }
   ],
   "source": [
    "sourcePath"
   ]
  },
  {
   "cell_type": "code",
   "execution_count": 84,
   "metadata": {},
   "outputs": [
    {
     "name": "stdout",
     "output_type": "stream",
     "text": [
      "0.007513523101806641\n"
     ]
    }
   ],
   "source": [
    "# for datasetElem in datasetList:\n",
    "\n",
    "datasetElem = datasetList[0]\n",
    "datasetContentUrl = datasetElem.contentUrl\n",
    "if 'http' in datasetContentUrl:\n",
    "\tpass\n",
    "elif 'file:' in datasetContentUrl:\n",
    "\t# create a path to the file specified by the dataset metadata \n",
    "\tsourcePath = pathlib.Path(datasetElem.contentUrl.lstrip('file:///'))\n",
    "\tdatasetFilePath = extractedContentsFolder / sourcePath.name\n",
    "\n",
    "# check that path exists in the crate\n",
    "if not datasetFilePath.exists():\n",
    "\tpass\n",
    "\n",
    "\n",
    "\n",
    "uploadPath = pathlib.PurePosixPath(fairscapeConfig.minio.default_bucket_path) / userCN / 'datasets' / sourcePath\n",
    "\n",
    "datasetUploadStart = time.time()\n",
    "# upload the file \n",
    "uploadResult = uploadLocalFileMinio(\n",
    "\t\tminioClient=minioClient, \n",
    "\t\tbucketName=fairscapeConfig.minio.default_bucket, \t\n",
    "\t\tobjectName=str(uploadPath),\n",
    "\t\tfilePath=str(datasetFilePath),\n",
    "\t\tmetadata={\"guid\": datasetElem.guid, \"owner\": userCN}\n",
    "\t\t)\n",
    "\n",
    "datasetUploadEnd = time.time()\n",
    "\n",
    "uploadDuration = datasetUploadEnd - datasetUploadStart\n",
    "print(uploadDuration)\n",
    "\n",
    "\n",
    "# create a distribution for the dataset\n",
    "datasetDistribution = FairscapeDataDistribution(\n",
    "\tdistributionType = 'minio',\n",
    "\tobjectPath=str(uploadPath),\n",
    "\tobjectBucket=fairscapeConfig.minio.default_bucket\n",
    ")\n",
    "\n",
    "\n",
    "# set contentUrl in metadata to fairscape pointer\n"
   ]
  },
  {
   "cell_type": "code",
   "execution_count": 79,
   "metadata": {},
   "outputs": [
    {
     "data": {
      "text/plain": [
       "'default/mal8ch/datasets/1.cm4ai_chromatin_mda-mb-468_untreated_apmsloader_initialrun0.1alpha/ppi_gene_node_attributes.tsv'"
      ]
     },
     "execution_count": 79,
     "metadata": {},
     "output_type": "execute_result"
    }
   ],
   "source": [
    "str(pathlib.PurePosixPath(uploadPath))"
   ]
  },
  {
   "cell_type": "code",
   "execution_count": 77,
   "metadata": {},
   "outputs": [
    {
     "data": {
      "text/plain": [
       "WindowsPath('jobs/625d5589-4956-46a7-bc32-d6571dac285c/extracted/1.cm4ai_chromatin_mda-mb-468_untreated_apmsloader_initialrun0.1alpha/ppi_gene_node_attributes.tsv')"
      ]
     },
     "execution_count": 77,
     "metadata": {},
     "output_type": "execute_result"
    }
   ],
   "source": []
  },
  {
   "cell_type": "code",
   "execution_count": 54,
   "metadata": {},
   "outputs": [
    {
     "data": {
      "text/plain": [
       "True"
      ]
     },
     "execution_count": 54,
     "metadata": {},
     "output_type": "execute_result"
    }
   ],
   "source": []
  },
  {
   "cell_type": "code",
   "execution_count": null,
   "metadata": {},
   "outputs": [],
   "source": []
  },
  {
   "cell_type": "code",
   "execution_count": null,
   "metadata": {},
   "outputs": [],
   "source": [
    "# mint datasets"
   ]
  }
 ],
 "metadata": {
  "kernelspec": {
   "display_name": "base",
   "language": "python",
   "name": "python3"
  },
  "language_info": {
   "codemirror_mode": {
    "name": "ipython",
    "version": 3
   },
   "file_extension": ".py",
   "mimetype": "text/x-python",
   "name": "python",
   "nbconvert_exporter": "python",
   "pygments_lexer": "ipython3",
   "version": "3.11.4"
  }
 },
 "nbformat": 4,
 "nbformat_minor": 2
}
