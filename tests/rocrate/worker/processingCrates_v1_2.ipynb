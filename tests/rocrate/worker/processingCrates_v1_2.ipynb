{
 "cells": [
  {
   "cell_type": "code",
   "execution_count": 2,
   "metadata": {},
   "outputs": [],
   "source": [
    "# import rocrate models\n",
    "import os\n",
    "import sys\n",
    "\n",
    "#sys.path.insert(0, os.path.abspath(os.path.join(os.path.dirname(__file__), '../')))\n",
    "#os.path.join(os.path.dirname(__file__), '../')\n",
    "srcPath = os.path.abspath('C:\\\\Users\\\\Max\\\\Documents\\\\GitHub\\\\mds_python\\\\src\\\\' )\n",
    "sys.path.insert(0, srcPath)"
   ]
  },
  {
   "cell_type": "code",
   "execution_count": 3,
   "metadata": {},
   "outputs": [],
   "source": [
    "import pathlib\n",
    "from fairscape_mds.config import create_fairscape_config\n",
    "from dotenv import load_dotenv\n",
    "import os\n",
    "\n",
    "load_dotenv(\"../local.env\")\n",
    "\n",
    "fairscapeConfig = create_fairscape_config(os.environ)\n",
    "\n",
    "#ldapConnection = fairscapeConfig.ldap.connectAdmin()\n",
    "#currentUserLDAP = getUserByCN(ldapConnection, userCN)\n",
    "#ldapConnection.unbind()\n",
    "\n",
    "minioClient = fairscapeConfig.minio.CreateClient()\n",
    "mongoClient = fairscapeConfig.mongo.CreateClient()\n",
    "\n",
    "mongoDB = mongoClient[fairscapeConfig.mongo.db]\n",
    "asyncCollection = mongoDB[fairscapeConfig.mongo.async_collection]\n",
    "identifierCollection = mongoDB[fairscapeConfig.mongo.identifier_collection]\n",
    "rocrateCollection = mongoDB[fairscapeConfig.mongo.rocrate_collection]"
   ]
  },
  {
   "cell_type": "code",
   "execution_count": 4,
   "metadata": {},
   "outputs": [
    {
     "name": "stderr",
     "output_type": "stream",
     "text": [
      "c:\\Users\\Max\\anaconda3\\Lib\\site-packages\\paramiko\\transport.py:219: CryptographyDeprecationWarning: Blowfish has been deprecated\n",
      "  \"class\": algorithms.Blowfish,\n"
     ]
    }
   ],
   "source": [
    "from fairscape_mds.models.rocrate import *"
   ]
  },
  {
   "cell_type": "code",
   "execution_count": null,
   "metadata": {},
   "outputs": [],
   "source": []
  },
  {
   "cell_type": "code",
   "execution_count": 5,
   "metadata": {},
   "outputs": [],
   "source": [
    "import timeit\n",
    "import uuid\n",
    "import pathlib\n",
    "import shutil\n",
    "import zipfile\n",
    "import json\n",
    "import minio\n",
    "import urllib.parse"
   ]
  },
  {
   "cell_type": "code",
   "execution_count": 6,
   "metadata": {},
   "outputs": [],
   "source": [
    "def uploadLocalFileMinio(\n",
    "\tminioClient: minio.Minio, \n",
    "\tbucketName: str, \n",
    "\tobjectName: str, \n",
    "\tfilePath: str, \n",
    "\tmetadata: dict= None):\n",
    "\tuploadResult = minioClient.fput_object(\n",
    "\t\t\tbucket_name= bucketName,\n",
    "\t\t\tobject_name=objectName,\n",
    "\t\t\tfile_path=filePath,\n",
    "\t\t\tmetadata=metadata\n",
    "\t\t)\n",
    "\treturn uploadResult"
   ]
  },
  {
   "cell_type": "code",
   "execution_count": null,
   "metadata": {},
   "outputs": [],
   "source": []
  },
  {
   "cell_type": "markdown",
   "metadata": {},
   "source": [
    "## In Memory Approach\n",
    "\n",
    "1. get transaction folder\n",
    "2. extract metadata\n",
    "3. validate metadata\n",
    "4. extract all datasets\n",
    "5. upload extracted datasets\n",
    "6. mint metadata\n",
    "\n",
    "### Seperate Job for updating archive\n",
    "\n",
    "1. create transaction folder\n",
    "2. unzip archive \n",
    "3. get metadata for rocrate"
   ]
  },
  {
   "cell_type": "code",
   "execution_count": 7,
   "metadata": {},
   "outputs": [],
   "source": [
    "# mock the transaction\n",
    "\n",
    "# given rocrate\n",
    "rocrateFolder = pathlib.Path(\"D:\\Work\\Data\\Dataverse-Uploaded\\crates_format_1.2\")\n",
    "\n",
    "testROCrate = rocrateFolder / \"1.cm4ai_chromatin_mda-mb-468_untreated_apmsloader_initialrun0.1alpha.zip\"\n",
    "\n",
    "# mock user CN\n",
    "userCN = 'mal8ch'\n",
    "\n",
    "# mock uuid\n",
    "transactionID = str(uuid.uuid4())\n",
    "\n",
    "# upload local crate to minio\n",
    "uploadPath = pathlib.PurePosixPath(fairscapeConfig.minio.default_bucket_path) / userCN / 'rocrates' / str(transactionID) / testROCrate.name\n",
    "\n"
   ]
  },
  {
   "cell_type": "code",
   "execution_count": 8,
   "metadata": {},
   "outputs": [
    {
     "data": {
      "text/plain": [
       "'default/mal8ch/rocrates/89c868f0-2186-4e95-909b-4a8721e83417/1.cm4ai_chromatin_mda-mb-468_untreated_apmsloader_initialrun0.1alpha.zip'"
      ]
     },
     "execution_count": 8,
     "metadata": {},
     "output_type": "execute_result"
    }
   ],
   "source": [
    "str(uploadPath)"
   ]
  },
  {
   "cell_type": "code",
   "execution_count": 9,
   "metadata": {},
   "outputs": [],
   "source": [
    "mockUpload = minioClient.fput_object(\n",
    "\tbucket_name=fairscapeConfig.minio.default_bucket, \t\n",
    "\tobject_name=str(uploadPath),\n",
    "\tfile_path=str(testROCrate),\n",
    "\tmetadata={\"owner\": userCN}\n",
    ")"
   ]
  },
  {
   "cell_type": "code",
   "execution_count": 10,
   "metadata": {},
   "outputs": [
    {
     "data": {
      "text/plain": [
       "'79cc44603e7c0395570276a51eb88f3d'"
      ]
     },
     "execution_count": 10,
     "metadata": {},
     "output_type": "execute_result"
    }
   ],
   "source": [
    "mockUpload.etag"
   ]
  },
  {
   "cell_type": "code",
   "execution_count": null,
   "metadata": {},
   "outputs": [],
   "source": [
    "from zipfile import ZipFile\n",
    "import json"
   ]
  },
  {
   "cell_type": "code",
   "execution_count": 9,
   "metadata": {},
   "outputs": [
    {
     "ename": "KeyboardInterrupt",
     "evalue": "",
     "output_type": "error",
     "traceback": [
      "\u001b[1;31m---------------------------------------------------------------------------\u001b[0m",
      "\u001b[1;31mConnectionRefusedError\u001b[0m                    Traceback (most recent call last)",
      "File \u001b[1;32mc:\\Users\\Max\\anaconda3\\Lib\\site-packages\\urllib3\\util\\connection.py:85\u001b[0m, in \u001b[0;36mcreate_connection\u001b[1;34m(address, timeout, source_address, socket_options)\u001b[0m\n\u001b[0;32m     84\u001b[0m     sock\u001b[38;5;241m.\u001b[39mbind(source_address)\n\u001b[1;32m---> 85\u001b[0m sock\u001b[38;5;241m.\u001b[39mconnect(sa)\n\u001b[0;32m     86\u001b[0m \u001b[38;5;28;01mreturn\u001b[39;00m sock\n",
      "\u001b[1;31mConnectionRefusedError\u001b[0m: [WinError 10061] No connection could be made because the target machine actively refused it",
      "\nDuring handling of the above exception, another exception occurred:\n",
      "\u001b[1;31mKeyboardInterrupt\u001b[0m                         Traceback (most recent call last)",
      "Cell \u001b[1;32mIn[9], line 4\u001b[0m\n\u001b[0;32m      1\u001b[0m \u001b[38;5;66;03m# get transaction\u001b[39;00m\n\u001b[0;32m      2\u001b[0m \n\u001b[0;32m      3\u001b[0m \u001b[38;5;66;03m# get object from minio \u001b[39;00m\n\u001b[1;32m----> 4\u001b[0m objectRetrival \u001b[38;5;241m=\u001b[39m minioClient\u001b[38;5;241m.\u001b[39mget_object(\n\u001b[0;32m      5\u001b[0m \tbucket_name\u001b[38;5;241m=\u001b[39m fairscapeConfig\u001b[38;5;241m.\u001b[39mminio\u001b[38;5;241m.\u001b[39mdefault_bucket,\n\u001b[0;32m      6\u001b[0m \tobject_name\u001b[38;5;241m=\u001b[39m \u001b[38;5;28mstr\u001b[39m(uploadPath),\n\u001b[0;32m      7\u001b[0m )\n",
      "File \u001b[1;32mc:\\Users\\Max\\anaconda3\\Lib\\site-packages\\minio\\api.py:1176\u001b[0m, in \u001b[0;36mMinio.get_object\u001b[1;34m(self, bucket_name, object_name, offset, length, request_headers, ssec, version_id, extra_query_params)\u001b[0m\n\u001b[0;32m   1173\u001b[0m     extra_query_params \u001b[38;5;241m=\u001b[39m extra_query_params \u001b[38;5;129;01mor\u001b[39;00m {}\n\u001b[0;32m   1174\u001b[0m     extra_query_params[\u001b[38;5;124m\"\u001b[39m\u001b[38;5;124mversionId\u001b[39m\u001b[38;5;124m\"\u001b[39m] \u001b[38;5;241m=\u001b[39m version_id\n\u001b[1;32m-> 1176\u001b[0m \u001b[38;5;28;01mreturn\u001b[39;00m \u001b[38;5;28mself\u001b[39m\u001b[38;5;241m.\u001b[39m_execute(\n\u001b[0;32m   1177\u001b[0m     \u001b[38;5;124m\"\u001b[39m\u001b[38;5;124mGET\u001b[39m\u001b[38;5;124m\"\u001b[39m,\n\u001b[0;32m   1178\u001b[0m     bucket_name,\n\u001b[0;32m   1179\u001b[0m     object_name,\n\u001b[0;32m   1180\u001b[0m     headers\u001b[38;5;241m=\u001b[39mheaders,\n\u001b[0;32m   1181\u001b[0m     query_params\u001b[38;5;241m=\u001b[39mextra_query_params,\n\u001b[0;32m   1182\u001b[0m     preload_content\u001b[38;5;241m=\u001b[39m\u001b[38;5;28;01mFalse\u001b[39;00m,\n\u001b[0;32m   1183\u001b[0m )\n",
      "File \u001b[1;32mc:\\Users\\Max\\anaconda3\\Lib\\site-packages\\minio\\api.py:418\u001b[0m, in \u001b[0;36mMinio._execute\u001b[1;34m(self, method, bucket_name, object_name, body, headers, query_params, preload_content, no_body_trace)\u001b[0m\n\u001b[0;32m    406\u001b[0m \u001b[38;5;28;01mdef\u001b[39;00m \u001b[38;5;21m_execute\u001b[39m(\n\u001b[0;32m    407\u001b[0m         \u001b[38;5;28mself\u001b[39m,\n\u001b[0;32m    408\u001b[0m         method,\n\u001b[1;32m   (...)\u001b[0m\n\u001b[0;32m    415\u001b[0m         no_body_trace\u001b[38;5;241m=\u001b[39m\u001b[38;5;28;01mFalse\u001b[39;00m,\n\u001b[0;32m    416\u001b[0m ):\n\u001b[0;32m    417\u001b[0m \u001b[38;5;250m    \u001b[39m\u001b[38;5;124;03m\"\"\"Execute HTTP request.\"\"\"\u001b[39;00m\n\u001b[1;32m--> 418\u001b[0m     region \u001b[38;5;241m=\u001b[39m \u001b[38;5;28mself\u001b[39m\u001b[38;5;241m.\u001b[39m_get_region(bucket_name)\n\u001b[0;32m    420\u001b[0m     \u001b[38;5;28;01mtry\u001b[39;00m:\n\u001b[0;32m    421\u001b[0m         \u001b[38;5;28;01mreturn\u001b[39;00m \u001b[38;5;28mself\u001b[39m\u001b[38;5;241m.\u001b[39m_url_open(\n\u001b[0;32m    422\u001b[0m             method,\n\u001b[0;32m    423\u001b[0m             region,\n\u001b[1;32m   (...)\u001b[0m\n\u001b[0;32m    430\u001b[0m             no_body_trace\u001b[38;5;241m=\u001b[39mno_body_trace,\n\u001b[0;32m    431\u001b[0m         )\n",
      "File \u001b[1;32mc:\\Users\\Max\\anaconda3\\Lib\\site-packages\\minio\\api.py:475\u001b[0m, in \u001b[0;36mMinio._get_region\u001b[1;34m(self, bucket_name)\u001b[0m\n\u001b[0;32m    472\u001b[0m     \u001b[38;5;28;01mreturn\u001b[39;00m region\n\u001b[0;32m    474\u001b[0m \u001b[38;5;66;03m# Execute GetBucketLocation REST API to get region of the bucket.\u001b[39;00m\n\u001b[1;32m--> 475\u001b[0m response \u001b[38;5;241m=\u001b[39m \u001b[38;5;28mself\u001b[39m\u001b[38;5;241m.\u001b[39m_url_open(\n\u001b[0;32m    476\u001b[0m     \u001b[38;5;124m\"\u001b[39m\u001b[38;5;124mGET\u001b[39m\u001b[38;5;124m\"\u001b[39m,\n\u001b[0;32m    477\u001b[0m     \u001b[38;5;124m\"\u001b[39m\u001b[38;5;124mus-east-1\u001b[39m\u001b[38;5;124m\"\u001b[39m,\n\u001b[0;32m    478\u001b[0m     bucket_name\u001b[38;5;241m=\u001b[39mbucket_name,\n\u001b[0;32m    479\u001b[0m     query_params\u001b[38;5;241m=\u001b[39m{\u001b[38;5;124m\"\u001b[39m\u001b[38;5;124mlocation\u001b[39m\u001b[38;5;124m\"\u001b[39m: \u001b[38;5;124m\"\u001b[39m\u001b[38;5;124m\"\u001b[39m},\n\u001b[0;32m    480\u001b[0m )\n\u001b[0;32m    482\u001b[0m element \u001b[38;5;241m=\u001b[39m ET\u001b[38;5;241m.\u001b[39mfromstring(response\u001b[38;5;241m.\u001b[39mdata\u001b[38;5;241m.\u001b[39mdecode())\n\u001b[0;32m    483\u001b[0m \u001b[38;5;28;01mif\u001b[39;00m \u001b[38;5;129;01mnot\u001b[39;00m element\u001b[38;5;241m.\u001b[39mtext:\n",
      "File \u001b[1;32mc:\\Users\\Max\\anaconda3\\Lib\\site-packages\\minio\\api.py:284\u001b[0m, in \u001b[0;36mMinio._url_open\u001b[1;34m(self, method, region, bucket_name, object_name, body, headers, query_params, preload_content, no_body_trace)\u001b[0m\n\u001b[0;32m    281\u001b[0m     \u001b[38;5;28;01melse\u001b[39;00m:\n\u001b[0;32m    282\u001b[0m         http_headers\u001b[38;5;241m.\u001b[39madd(key, value)\n\u001b[1;32m--> 284\u001b[0m response \u001b[38;5;241m=\u001b[39m \u001b[38;5;28mself\u001b[39m\u001b[38;5;241m.\u001b[39m_http\u001b[38;5;241m.\u001b[39murlopen(\n\u001b[0;32m    285\u001b[0m     method,\n\u001b[0;32m    286\u001b[0m     urlunsplit(url),\n\u001b[0;32m    287\u001b[0m     body\u001b[38;5;241m=\u001b[39mbody,\n\u001b[0;32m    288\u001b[0m     headers\u001b[38;5;241m=\u001b[39mhttp_headers,\n\u001b[0;32m    289\u001b[0m     preload_content\u001b[38;5;241m=\u001b[39mpreload_content,\n\u001b[0;32m    290\u001b[0m )\n\u001b[0;32m    292\u001b[0m \u001b[38;5;28;01mif\u001b[39;00m \u001b[38;5;28mself\u001b[39m\u001b[38;5;241m.\u001b[39m_trace_stream:\n\u001b[0;32m    293\u001b[0m     \u001b[38;5;28mself\u001b[39m\u001b[38;5;241m.\u001b[39m_trace_stream\u001b[38;5;241m.\u001b[39mwrite(\u001b[38;5;124mf\u001b[39m\u001b[38;5;124m\"\u001b[39m\u001b[38;5;124mHTTP/1.1 \u001b[39m\u001b[38;5;132;01m{\u001b[39;00mresponse\u001b[38;5;241m.\u001b[39mstatus\u001b[38;5;132;01m}\u001b[39;00m\u001b[38;5;130;01m\\n\u001b[39;00m\u001b[38;5;124m\"\u001b[39m)\n",
      "File \u001b[1;32mc:\\Users\\Max\\anaconda3\\Lib\\site-packages\\urllib3\\poolmanager.py:376\u001b[0m, in \u001b[0;36mPoolManager.urlopen\u001b[1;34m(self, method, url, redirect, **kw)\u001b[0m\n\u001b[0;32m    374\u001b[0m     response \u001b[38;5;241m=\u001b[39m conn\u001b[38;5;241m.\u001b[39murlopen(method, url, \u001b[38;5;241m*\u001b[39m\u001b[38;5;241m*\u001b[39mkw)\n\u001b[0;32m    375\u001b[0m \u001b[38;5;28;01melse\u001b[39;00m:\n\u001b[1;32m--> 376\u001b[0m     response \u001b[38;5;241m=\u001b[39m conn\u001b[38;5;241m.\u001b[39murlopen(method, u\u001b[38;5;241m.\u001b[39mrequest_uri, \u001b[38;5;241m*\u001b[39m\u001b[38;5;241m*\u001b[39mkw)\n\u001b[0;32m    378\u001b[0m redirect_location \u001b[38;5;241m=\u001b[39m redirect \u001b[38;5;129;01mand\u001b[39;00m response\u001b[38;5;241m.\u001b[39mget_redirect_location()\n\u001b[0;32m    379\u001b[0m \u001b[38;5;28;01mif\u001b[39;00m \u001b[38;5;129;01mnot\u001b[39;00m redirect_location:\n",
      "File \u001b[1;32mc:\\Users\\Max\\anaconda3\\Lib\\site-packages\\urllib3\\connectionpool.py:826\u001b[0m, in \u001b[0;36mHTTPConnectionPool.urlopen\u001b[1;34m(self, method, url, body, headers, retries, redirect, assert_same_host, timeout, pool_timeout, release_conn, chunked, body_pos, **response_kw)\u001b[0m\n\u001b[0;32m    821\u001b[0m \u001b[38;5;28;01mif\u001b[39;00m \u001b[38;5;129;01mnot\u001b[39;00m conn:\n\u001b[0;32m    822\u001b[0m     \u001b[38;5;66;03m# Try again\u001b[39;00m\n\u001b[0;32m    823\u001b[0m     log\u001b[38;5;241m.\u001b[39mwarning(\n\u001b[0;32m    824\u001b[0m         \u001b[38;5;124m\"\u001b[39m\u001b[38;5;124mRetrying (\u001b[39m\u001b[38;5;132;01m%r\u001b[39;00m\u001b[38;5;124m) after connection broken by \u001b[39m\u001b[38;5;124m'\u001b[39m\u001b[38;5;132;01m%r\u001b[39;00m\u001b[38;5;124m'\u001b[39m\u001b[38;5;124m: \u001b[39m\u001b[38;5;132;01m%s\u001b[39;00m\u001b[38;5;124m\"\u001b[39m, retries, err, url\n\u001b[0;32m    825\u001b[0m     )\n\u001b[1;32m--> 826\u001b[0m     \u001b[38;5;28;01mreturn\u001b[39;00m \u001b[38;5;28mself\u001b[39m\u001b[38;5;241m.\u001b[39murlopen(\n\u001b[0;32m    827\u001b[0m         method,\n\u001b[0;32m    828\u001b[0m         url,\n\u001b[0;32m    829\u001b[0m         body,\n\u001b[0;32m    830\u001b[0m         headers,\n\u001b[0;32m    831\u001b[0m         retries,\n\u001b[0;32m    832\u001b[0m         redirect,\n\u001b[0;32m    833\u001b[0m         assert_same_host,\n\u001b[0;32m    834\u001b[0m         timeout\u001b[38;5;241m=\u001b[39mtimeout,\n\u001b[0;32m    835\u001b[0m         pool_timeout\u001b[38;5;241m=\u001b[39mpool_timeout,\n\u001b[0;32m    836\u001b[0m         release_conn\u001b[38;5;241m=\u001b[39mrelease_conn,\n\u001b[0;32m    837\u001b[0m         chunked\u001b[38;5;241m=\u001b[39mchunked,\n\u001b[0;32m    838\u001b[0m         body_pos\u001b[38;5;241m=\u001b[39mbody_pos,\n\u001b[0;32m    839\u001b[0m         \u001b[38;5;241m*\u001b[39m\u001b[38;5;241m*\u001b[39mresponse_kw\n\u001b[0;32m    840\u001b[0m     )\n\u001b[0;32m    842\u001b[0m \u001b[38;5;66;03m# Handle redirect?\u001b[39;00m\n\u001b[0;32m    843\u001b[0m redirect_location \u001b[38;5;241m=\u001b[39m redirect \u001b[38;5;129;01mand\u001b[39;00m response\u001b[38;5;241m.\u001b[39mget_redirect_location()\n",
      "File \u001b[1;32mc:\\Users\\Max\\anaconda3\\Lib\\site-packages\\urllib3\\connectionpool.py:714\u001b[0m, in \u001b[0;36mHTTPConnectionPool.urlopen\u001b[1;34m(self, method, url, body, headers, retries, redirect, assert_same_host, timeout, pool_timeout, release_conn, chunked, body_pos, **response_kw)\u001b[0m\n\u001b[0;32m    711\u001b[0m     \u001b[38;5;28mself\u001b[39m\u001b[38;5;241m.\u001b[39m_prepare_proxy(conn)\n\u001b[0;32m    713\u001b[0m \u001b[38;5;66;03m# Make the request on the httplib connection object.\u001b[39;00m\n\u001b[1;32m--> 714\u001b[0m httplib_response \u001b[38;5;241m=\u001b[39m \u001b[38;5;28mself\u001b[39m\u001b[38;5;241m.\u001b[39m_make_request(\n\u001b[0;32m    715\u001b[0m     conn,\n\u001b[0;32m    716\u001b[0m     method,\n\u001b[0;32m    717\u001b[0m     url,\n\u001b[0;32m    718\u001b[0m     timeout\u001b[38;5;241m=\u001b[39mtimeout_obj,\n\u001b[0;32m    719\u001b[0m     body\u001b[38;5;241m=\u001b[39mbody,\n\u001b[0;32m    720\u001b[0m     headers\u001b[38;5;241m=\u001b[39mheaders,\n\u001b[0;32m    721\u001b[0m     chunked\u001b[38;5;241m=\u001b[39mchunked,\n\u001b[0;32m    722\u001b[0m )\n\u001b[0;32m    724\u001b[0m \u001b[38;5;66;03m# If we're going to release the connection in ``finally:``, then\u001b[39;00m\n\u001b[0;32m    725\u001b[0m \u001b[38;5;66;03m# the response doesn't need to know about the connection. Otherwise\u001b[39;00m\n\u001b[0;32m    726\u001b[0m \u001b[38;5;66;03m# it will also try to release it and we'll have a double-release\u001b[39;00m\n\u001b[0;32m    727\u001b[0m \u001b[38;5;66;03m# mess.\u001b[39;00m\n\u001b[0;32m    728\u001b[0m response_conn \u001b[38;5;241m=\u001b[39m conn \u001b[38;5;28;01mif\u001b[39;00m \u001b[38;5;129;01mnot\u001b[39;00m release_conn \u001b[38;5;28;01melse\u001b[39;00m \u001b[38;5;28;01mNone\u001b[39;00m\n",
      "File \u001b[1;32mc:\\Users\\Max\\anaconda3\\Lib\\site-packages\\urllib3\\connectionpool.py:415\u001b[0m, in \u001b[0;36mHTTPConnectionPool._make_request\u001b[1;34m(self, conn, method, url, timeout, chunked, **httplib_request_kw)\u001b[0m\n\u001b[0;32m    413\u001b[0m         conn\u001b[38;5;241m.\u001b[39mrequest_chunked(method, url, \u001b[38;5;241m*\u001b[39m\u001b[38;5;241m*\u001b[39mhttplib_request_kw)\n\u001b[0;32m    414\u001b[0m     \u001b[38;5;28;01melse\u001b[39;00m:\n\u001b[1;32m--> 415\u001b[0m         conn\u001b[38;5;241m.\u001b[39mrequest(method, url, \u001b[38;5;241m*\u001b[39m\u001b[38;5;241m*\u001b[39mhttplib_request_kw)\n\u001b[0;32m    417\u001b[0m \u001b[38;5;66;03m# We are swallowing BrokenPipeError (errno.EPIPE) since the server is\u001b[39;00m\n\u001b[0;32m    418\u001b[0m \u001b[38;5;66;03m# legitimately able to close the connection after sending a valid response.\u001b[39;00m\n\u001b[0;32m    419\u001b[0m \u001b[38;5;66;03m# With this behaviour, the received response is still readable.\u001b[39;00m\n\u001b[0;32m    420\u001b[0m \u001b[38;5;28;01mexcept\u001b[39;00m \u001b[38;5;167;01mBrokenPipeError\u001b[39;00m:\n\u001b[0;32m    421\u001b[0m     \u001b[38;5;66;03m# Python 3\u001b[39;00m\n",
      "File \u001b[1;32mc:\\Users\\Max\\anaconda3\\Lib\\site-packages\\urllib3\\connection.py:244\u001b[0m, in \u001b[0;36mHTTPConnection.request\u001b[1;34m(self, method, url, body, headers)\u001b[0m\n\u001b[0;32m    242\u001b[0m \u001b[38;5;28;01mif\u001b[39;00m \u001b[38;5;124m\"\u001b[39m\u001b[38;5;124muser-agent\u001b[39m\u001b[38;5;124m\"\u001b[39m \u001b[38;5;129;01mnot\u001b[39;00m \u001b[38;5;129;01min\u001b[39;00m (six\u001b[38;5;241m.\u001b[39mensure_str(k\u001b[38;5;241m.\u001b[39mlower()) \u001b[38;5;28;01mfor\u001b[39;00m k \u001b[38;5;129;01min\u001b[39;00m headers):\n\u001b[0;32m    243\u001b[0m     headers[\u001b[38;5;124m\"\u001b[39m\u001b[38;5;124mUser-Agent\u001b[39m\u001b[38;5;124m\"\u001b[39m] \u001b[38;5;241m=\u001b[39m _get_default_user_agent()\n\u001b[1;32m--> 244\u001b[0m \u001b[38;5;28msuper\u001b[39m(HTTPConnection, \u001b[38;5;28mself\u001b[39m)\u001b[38;5;241m.\u001b[39mrequest(method, url, body\u001b[38;5;241m=\u001b[39mbody, headers\u001b[38;5;241m=\u001b[39mheaders)\n",
      "File \u001b[1;32mc:\\Users\\Max\\anaconda3\\Lib\\http\\client.py:1286\u001b[0m, in \u001b[0;36mHTTPConnection.request\u001b[1;34m(self, method, url, body, headers, encode_chunked)\u001b[0m\n\u001b[0;32m   1283\u001b[0m \u001b[38;5;28;01mdef\u001b[39;00m \u001b[38;5;21mrequest\u001b[39m(\u001b[38;5;28mself\u001b[39m, method, url, body\u001b[38;5;241m=\u001b[39m\u001b[38;5;28;01mNone\u001b[39;00m, headers\u001b[38;5;241m=\u001b[39m{}, \u001b[38;5;241m*\u001b[39m,\n\u001b[0;32m   1284\u001b[0m             encode_chunked\u001b[38;5;241m=\u001b[39m\u001b[38;5;28;01mFalse\u001b[39;00m):\n\u001b[0;32m   1285\u001b[0m \u001b[38;5;250m    \u001b[39m\u001b[38;5;124;03m\"\"\"Send a complete request to the server.\"\"\"\u001b[39;00m\n\u001b[1;32m-> 1286\u001b[0m     \u001b[38;5;28mself\u001b[39m\u001b[38;5;241m.\u001b[39m_send_request(method, url, body, headers, encode_chunked)\n",
      "File \u001b[1;32mc:\\Users\\Max\\anaconda3\\Lib\\http\\client.py:1332\u001b[0m, in \u001b[0;36mHTTPConnection._send_request\u001b[1;34m(self, method, url, body, headers, encode_chunked)\u001b[0m\n\u001b[0;32m   1328\u001b[0m \u001b[38;5;28;01mif\u001b[39;00m \u001b[38;5;28misinstance\u001b[39m(body, \u001b[38;5;28mstr\u001b[39m):\n\u001b[0;32m   1329\u001b[0m     \u001b[38;5;66;03m# RFC 2616 Section 3.7.1 says that text default has a\u001b[39;00m\n\u001b[0;32m   1330\u001b[0m     \u001b[38;5;66;03m# default charset of iso-8859-1.\u001b[39;00m\n\u001b[0;32m   1331\u001b[0m     body \u001b[38;5;241m=\u001b[39m _encode(body, \u001b[38;5;124m'\u001b[39m\u001b[38;5;124mbody\u001b[39m\u001b[38;5;124m'\u001b[39m)\n\u001b[1;32m-> 1332\u001b[0m \u001b[38;5;28mself\u001b[39m\u001b[38;5;241m.\u001b[39mendheaders(body, encode_chunked\u001b[38;5;241m=\u001b[39mencode_chunked)\n",
      "File \u001b[1;32mc:\\Users\\Max\\anaconda3\\Lib\\http\\client.py:1281\u001b[0m, in \u001b[0;36mHTTPConnection.endheaders\u001b[1;34m(self, message_body, encode_chunked)\u001b[0m\n\u001b[0;32m   1279\u001b[0m \u001b[38;5;28;01melse\u001b[39;00m:\n\u001b[0;32m   1280\u001b[0m     \u001b[38;5;28;01mraise\u001b[39;00m CannotSendHeader()\n\u001b[1;32m-> 1281\u001b[0m \u001b[38;5;28mself\u001b[39m\u001b[38;5;241m.\u001b[39m_send_output(message_body, encode_chunked\u001b[38;5;241m=\u001b[39mencode_chunked)\n",
      "File \u001b[1;32mc:\\Users\\Max\\anaconda3\\Lib\\http\\client.py:1041\u001b[0m, in \u001b[0;36mHTTPConnection._send_output\u001b[1;34m(self, message_body, encode_chunked)\u001b[0m\n\u001b[0;32m   1039\u001b[0m msg \u001b[38;5;241m=\u001b[39m \u001b[38;5;124mb\u001b[39m\u001b[38;5;124m\"\u001b[39m\u001b[38;5;130;01m\\r\u001b[39;00m\u001b[38;5;130;01m\\n\u001b[39;00m\u001b[38;5;124m\"\u001b[39m\u001b[38;5;241m.\u001b[39mjoin(\u001b[38;5;28mself\u001b[39m\u001b[38;5;241m.\u001b[39m_buffer)\n\u001b[0;32m   1040\u001b[0m \u001b[38;5;28;01mdel\u001b[39;00m \u001b[38;5;28mself\u001b[39m\u001b[38;5;241m.\u001b[39m_buffer[:]\n\u001b[1;32m-> 1041\u001b[0m \u001b[38;5;28mself\u001b[39m\u001b[38;5;241m.\u001b[39msend(msg)\n\u001b[0;32m   1043\u001b[0m \u001b[38;5;28;01mif\u001b[39;00m message_body \u001b[38;5;129;01mis\u001b[39;00m \u001b[38;5;129;01mnot\u001b[39;00m \u001b[38;5;28;01mNone\u001b[39;00m:\n\u001b[0;32m   1044\u001b[0m \n\u001b[0;32m   1045\u001b[0m     \u001b[38;5;66;03m# create a consistent interface to message_body\u001b[39;00m\n\u001b[0;32m   1046\u001b[0m     \u001b[38;5;28;01mif\u001b[39;00m \u001b[38;5;28mhasattr\u001b[39m(message_body, \u001b[38;5;124m'\u001b[39m\u001b[38;5;124mread\u001b[39m\u001b[38;5;124m'\u001b[39m):\n\u001b[0;32m   1047\u001b[0m         \u001b[38;5;66;03m# Let file-like take precedence over byte-like.  This\u001b[39;00m\n\u001b[0;32m   1048\u001b[0m         \u001b[38;5;66;03m# is needed to allow the current position of mmap'ed\u001b[39;00m\n\u001b[0;32m   1049\u001b[0m         \u001b[38;5;66;03m# files to be taken into account.\u001b[39;00m\n",
      "File \u001b[1;32mc:\\Users\\Max\\anaconda3\\Lib\\http\\client.py:979\u001b[0m, in \u001b[0;36mHTTPConnection.send\u001b[1;34m(self, data)\u001b[0m\n\u001b[0;32m    977\u001b[0m \u001b[38;5;28;01mif\u001b[39;00m \u001b[38;5;28mself\u001b[39m\u001b[38;5;241m.\u001b[39msock \u001b[38;5;129;01mis\u001b[39;00m \u001b[38;5;28;01mNone\u001b[39;00m:\n\u001b[0;32m    978\u001b[0m     \u001b[38;5;28;01mif\u001b[39;00m \u001b[38;5;28mself\u001b[39m\u001b[38;5;241m.\u001b[39mauto_open:\n\u001b[1;32m--> 979\u001b[0m         \u001b[38;5;28mself\u001b[39m\u001b[38;5;241m.\u001b[39mconnect()\n\u001b[0;32m    980\u001b[0m     \u001b[38;5;28;01melse\u001b[39;00m:\n\u001b[0;32m    981\u001b[0m         \u001b[38;5;28;01mraise\u001b[39;00m NotConnected()\n",
      "File \u001b[1;32mc:\\Users\\Max\\anaconda3\\Lib\\site-packages\\urllib3\\connection.py:205\u001b[0m, in \u001b[0;36mHTTPConnection.connect\u001b[1;34m(self)\u001b[0m\n\u001b[0;32m    204\u001b[0m \u001b[38;5;28;01mdef\u001b[39;00m \u001b[38;5;21mconnect\u001b[39m(\u001b[38;5;28mself\u001b[39m):\n\u001b[1;32m--> 205\u001b[0m     conn \u001b[38;5;241m=\u001b[39m \u001b[38;5;28mself\u001b[39m\u001b[38;5;241m.\u001b[39m_new_conn()\n\u001b[0;32m    206\u001b[0m     \u001b[38;5;28mself\u001b[39m\u001b[38;5;241m.\u001b[39m_prepare_conn(conn)\n",
      "File \u001b[1;32mc:\\Users\\Max\\anaconda3\\Lib\\site-packages\\urllib3\\connection.py:174\u001b[0m, in \u001b[0;36mHTTPConnection._new_conn\u001b[1;34m(self)\u001b[0m\n\u001b[0;32m    171\u001b[0m     extra_kw[\u001b[38;5;124m\"\u001b[39m\u001b[38;5;124msocket_options\u001b[39m\u001b[38;5;124m\"\u001b[39m] \u001b[38;5;241m=\u001b[39m \u001b[38;5;28mself\u001b[39m\u001b[38;5;241m.\u001b[39msocket_options\n\u001b[0;32m    173\u001b[0m \u001b[38;5;28;01mtry\u001b[39;00m:\n\u001b[1;32m--> 174\u001b[0m     conn \u001b[38;5;241m=\u001b[39m connection\u001b[38;5;241m.\u001b[39mcreate_connection(\n\u001b[0;32m    175\u001b[0m         (\u001b[38;5;28mself\u001b[39m\u001b[38;5;241m.\u001b[39m_dns_host, \u001b[38;5;28mself\u001b[39m\u001b[38;5;241m.\u001b[39mport), \u001b[38;5;28mself\u001b[39m\u001b[38;5;241m.\u001b[39mtimeout, \u001b[38;5;241m*\u001b[39m\u001b[38;5;241m*\u001b[39mextra_kw\n\u001b[0;32m    176\u001b[0m     )\n\u001b[0;32m    178\u001b[0m \u001b[38;5;28;01mexcept\u001b[39;00m SocketTimeout:\n\u001b[0;32m    179\u001b[0m     \u001b[38;5;28;01mraise\u001b[39;00m ConnectTimeoutError(\n\u001b[0;32m    180\u001b[0m         \u001b[38;5;28mself\u001b[39m,\n\u001b[0;32m    181\u001b[0m         \u001b[38;5;124m\"\u001b[39m\u001b[38;5;124mConnection to \u001b[39m\u001b[38;5;132;01m%s\u001b[39;00m\u001b[38;5;124m timed out. (connect timeout=\u001b[39m\u001b[38;5;132;01m%s\u001b[39;00m\u001b[38;5;124m)\u001b[39m\u001b[38;5;124m\"\u001b[39m\n\u001b[0;32m    182\u001b[0m         \u001b[38;5;241m%\u001b[39m (\u001b[38;5;28mself\u001b[39m\u001b[38;5;241m.\u001b[39mhost, \u001b[38;5;28mself\u001b[39m\u001b[38;5;241m.\u001b[39mtimeout),\n\u001b[0;32m    183\u001b[0m     )\n",
      "File \u001b[1;32mc:\\Users\\Max\\anaconda3\\Lib\\site-packages\\urllib3\\util\\connection.py:91\u001b[0m, in \u001b[0;36mcreate_connection\u001b[1;34m(address, timeout, source_address, socket_options)\u001b[0m\n\u001b[0;32m     89\u001b[0m         err \u001b[38;5;241m=\u001b[39m e\n\u001b[0;32m     90\u001b[0m         \u001b[38;5;28;01mif\u001b[39;00m sock \u001b[38;5;129;01mis\u001b[39;00m \u001b[38;5;129;01mnot\u001b[39;00m \u001b[38;5;28;01mNone\u001b[39;00m:\n\u001b[1;32m---> 91\u001b[0m             sock\u001b[38;5;241m.\u001b[39mclose()\n\u001b[0;32m     92\u001b[0m             sock \u001b[38;5;241m=\u001b[39m \u001b[38;5;28;01mNone\u001b[39;00m\n\u001b[0;32m     94\u001b[0m \u001b[38;5;28;01mif\u001b[39;00m err \u001b[38;5;129;01mis\u001b[39;00m \u001b[38;5;129;01mnot\u001b[39;00m \u001b[38;5;28;01mNone\u001b[39;00m:\n",
      "File \u001b[1;32mc:\\Users\\Max\\anaconda3\\Lib\\socket.py:499\u001b[0m, in \u001b[0;36msocket.close\u001b[1;34m(self)\u001b[0m\n\u001b[0;32m    495\u001b[0m \u001b[38;5;28;01mdef\u001b[39;00m \u001b[38;5;21m_real_close\u001b[39m(\u001b[38;5;28mself\u001b[39m, _ss\u001b[38;5;241m=\u001b[39m_socket\u001b[38;5;241m.\u001b[39msocket):\n\u001b[0;32m    496\u001b[0m     \u001b[38;5;66;03m# This function should not reference any globals. See issue #808164.\u001b[39;00m\n\u001b[0;32m    497\u001b[0m     _ss\u001b[38;5;241m.\u001b[39mclose(\u001b[38;5;28mself\u001b[39m)\n\u001b[1;32m--> 499\u001b[0m \u001b[38;5;28;01mdef\u001b[39;00m \u001b[38;5;21mclose\u001b[39m(\u001b[38;5;28mself\u001b[39m):\n\u001b[0;32m    500\u001b[0m     \u001b[38;5;66;03m# This function should not reference any globals. See issue #808164.\u001b[39;00m\n\u001b[0;32m    501\u001b[0m     \u001b[38;5;28mself\u001b[39m\u001b[38;5;241m.\u001b[39m_closed \u001b[38;5;241m=\u001b[39m \u001b[38;5;28;01mTrue\u001b[39;00m\n\u001b[0;32m    502\u001b[0m     \u001b[38;5;28;01mif\u001b[39;00m \u001b[38;5;28mself\u001b[39m\u001b[38;5;241m.\u001b[39m_io_refs \u001b[38;5;241m<\u001b[39m\u001b[38;5;241m=\u001b[39m \u001b[38;5;241m0\u001b[39m:\n",
      "\u001b[1;31mKeyboardInterrupt\u001b[0m: "
     ]
    }
   ],
   "source": [
    "# get transaction\n",
    "\n",
    "# get object from minio \n",
    "objectRetrival = minioClient.get_object(\n",
    "\tbucket_name= fairscapeConfig.minio.default_bucket,\n",
    "\tobject_name= str(uploadPath),\n",
    ")\n"
   ]
  },
  {
   "cell_type": "code",
   "execution_count": 16,
   "metadata": {},
   "outputs": [
    {
     "data": {
      "text/plain": [
       "MinioConfig(host='localhost', port='9000', secret_key='miniotestsecret', access_key='miniotestadmin', default_bucket='default', default_bucket_path='default', rocrate_bucket='default', rocrate_bucket_path='rocrate', secure=False, cert_check=False)"
      ]
     },
     "execution_count": 16,
     "metadata": {},
     "output_type": "execute_result"
    }
   ],
   "source": [
    "fairscapeConfig.minio"
   ]
  },
  {
   "cell_type": "code",
   "execution_count": 12,
   "metadata": {},
   "outputs": [],
   "source": [
    "import pydantic\n",
    "import boto3\n",
    "from botocore.client import Config"
   ]
  },
  {
   "cell_type": "code",
   "execution_count": 13,
   "metadata": {},
   "outputs": [],
   "source": [
    "# Create S3 Client with support for reading files from Zips\n",
    "\n",
    "s3 = boto3.client('s3',\n",
    "\tendpoint_url=\"http://localhost:9000\",\n",
    "\taws_access_key_id=fairscapeConfig.minio.access_key,\n",
    "\taws_secret_access_key=fairscapeConfig.minio.secret_key,\n",
    "\tconfig=Config(signature_version='s3v4'),\n",
    "\tregion_name='us-east-1'\n",
    ")\n",
    "\n",
    "def _add_header(request, **kwargs):\n",
    "\trequest.headers.add_header('x-minio-extract', 'true')\n",
    "\n",
    "event_system = s3.meta.events\n",
    "event_system.register_first('before-sign.s3.*', _add_header)\n",
    "\n"
   ]
  },
  {
   "cell_type": "markdown",
   "metadata": {},
   "source": []
  },
  {
   "cell_type": "code",
   "execution_count": 29,
   "metadata": {},
   "outputs": [],
   "source": [
    "# upload with headers x-minio-extract\n",
    "s3.delete_object(\n",
    "\tBucket=fairscapeConfig.minio.default_bucket,\n",
    "\tKey=str(uploadPath)\t\n",
    ")\n",
    "\n",
    "with testROCrate.open('rb') as uploadFile:\n",
    "\ts3.upload_fileobj(\n",
    "\t\tBucket=fairscapeConfig.minio.default_bucket,\n",
    "\t\tKey=str(uploadPath),\n",
    "\t\tFileobj=uploadFile,\n",
    "\t\tExtraArgs={'ContentType' :'application/zip'}\n",
    "\t)"
   ]
  },
  {
   "cell_type": "code",
   "execution_count": null,
   "metadata": {},
   "outputs": [
    {
     "ename": "AttributeError",
     "evalue": "'S3' object has no attribute 'upload'",
     "output_type": "error",
     "traceback": [
      "\u001b[1;31m---------------------------------------------------------------------------\u001b[0m",
      "\u001b[1;31mAttributeError\u001b[0m                            Traceback (most recent call last)",
      "Cell \u001b[1;32mIn[14], line 1\u001b[0m\n\u001b[1;32m----> 1\u001b[0m help(s3\u001b[38;5;241m.\u001b[39mupload)\n",
      "File \u001b[1;32mc:\\Users\\Max\\anaconda3\\Lib\\site-packages\\botocore\\client.py:838\u001b[0m, in \u001b[0;36mBaseClient.__getattr__\u001b[1;34m(self, item)\u001b[0m\n\u001b[0;32m    835\u001b[0m \u001b[38;5;28;01mif\u001b[39;00m event_response \u001b[38;5;129;01mis\u001b[39;00m \u001b[38;5;129;01mnot\u001b[39;00m \u001b[38;5;28;01mNone\u001b[39;00m:\n\u001b[0;32m    836\u001b[0m     \u001b[38;5;28;01mreturn\u001b[39;00m event_response\n\u001b[1;32m--> 838\u001b[0m \u001b[38;5;28;01mraise\u001b[39;00m \u001b[38;5;167;01mAttributeError\u001b[39;00m(\n\u001b[0;32m    839\u001b[0m     \u001b[38;5;124mf\u001b[39m\u001b[38;5;124m\"\u001b[39m\u001b[38;5;124m'\u001b[39m\u001b[38;5;132;01m{\u001b[39;00m\u001b[38;5;28mself\u001b[39m\u001b[38;5;241m.\u001b[39m\u001b[38;5;18m__class__\u001b[39m\u001b[38;5;241m.\u001b[39m\u001b[38;5;18m__name__\u001b[39m\u001b[38;5;132;01m}\u001b[39;00m\u001b[38;5;124m'\u001b[39m\u001b[38;5;124m object has no attribute \u001b[39m\u001b[38;5;124m'\u001b[39m\u001b[38;5;132;01m{\u001b[39;00mitem\u001b[38;5;132;01m}\u001b[39;00m\u001b[38;5;124m'\u001b[39m\u001b[38;5;124m\"\u001b[39m\n\u001b[0;32m    840\u001b[0m )\n",
      "\u001b[1;31mAttributeError\u001b[0m: 'S3' object has no attribute 'upload'"
     ]
    }
   ],
   "source": [
    "help(s3.upload_fileobj)"
   ]
  },
  {
   "cell_type": "code",
   "execution_count": null,
   "metadata": {},
   "outputs": [],
   "source": [
    "# list zip contents\n",
    "response = s3.list_objects_v2(\n",
    "\tBucket=fairscapeConfig.minio.default_bucket,\n",
    "\tPrefix=str(uploadPath) + \"/\" \n",
    "\t)"
   ]
  },
  {
   "cell_type": "code",
   "execution_count": 31,
   "metadata": {},
   "outputs": [],
   "source": [
    "zipCrateContents = response['Contents']"
   ]
  },
  {
   "cell_type": "code",
   "execution_count": 32,
   "metadata": {},
   "outputs": [
    {
     "data": {
      "text/plain": [
       "[{'Key': 'default/mal8ch/rocrates/1d0701bd-306f-42b8-b313-319ae11379d6/1.cm4ai_chromatin_mda-mb-468_untreated_apmsloader_initialrun0.1alpha.zip/1.cm4ai_chromatin_mda-mb-468_untreated_apmsloader_initialrun0.1alpha/error.log',\n",
       "  'LastModified': datetime.datetime(2025, 3, 11, 16, 8, 35, 662000, tzinfo=tzutc()),\n",
       "  'ETag': '',\n",
       "  'Size': 1237,\n",
       "  'StorageClass': 'STANDARD'},\n",
       " {'Key': 'default/mal8ch/rocrates/1d0701bd-306f-42b8-b313-319ae11379d6/1.cm4ai_chromatin_mda-mb-468_untreated_apmsloader_initialrun0.1alpha.zip/1.cm4ai_chromatin_mda-mb-468_untreated_apmsloader_initialrun0.1alpha/output.log',\n",
       "  'LastModified': datetime.datetime(2025, 3, 11, 16, 8, 35, 662000, tzinfo=tzutc()),\n",
       "  'ETag': '',\n",
       "  'Size': 10584,\n",
       "  'StorageClass': 'STANDARD'},\n",
       " {'Key': 'default/mal8ch/rocrates/1d0701bd-306f-42b8-b313-319ae11379d6/1.cm4ai_chromatin_mda-mb-468_untreated_apmsloader_initialrun0.1alpha.zip/1.cm4ai_chromatin_mda-mb-468_untreated_apmsloader_initialrun0.1alpha/ppi_edgelist.tsv',\n",
       "  'LastModified': datetime.datetime(2025, 3, 11, 16, 8, 35, 662000, tzinfo=tzutc()),\n",
       "  'ETag': '',\n",
       "  'Size': 42994,\n",
       "  'StorageClass': 'STANDARD'},\n",
       " {'Key': 'default/mal8ch/rocrates/1d0701bd-306f-42b8-b313-319ae11379d6/1.cm4ai_chromatin_mda-mb-468_untreated_apmsloader_initialrun0.1alpha.zip/1.cm4ai_chromatin_mda-mb-468_untreated_apmsloader_initialrun0.1alpha/ppi_gene_node_attributes.errors',\n",
       "  'LastModified': datetime.datetime(2025, 3, 11, 16, 8, 35, 662000, tzinfo=tzutc()),\n",
       "  'ETag': '',\n",
       "  'Size': 0,\n",
       "  'StorageClass': 'STANDARD'},\n",
       " {'Key': 'default/mal8ch/rocrates/1d0701bd-306f-42b8-b313-319ae11379d6/1.cm4ai_chromatin_mda-mb-468_untreated_apmsloader_initialrun0.1alpha.zip/1.cm4ai_chromatin_mda-mb-468_untreated_apmsloader_initialrun0.1alpha/ppi_gene_node_attributes.tsv',\n",
       "  'LastModified': datetime.datetime(2025, 3, 11, 16, 8, 35, 662000, tzinfo=tzutc()),\n",
       "  'ETag': '',\n",
       "  'Size': 55182,\n",
       "  'StorageClass': 'STANDARD'},\n",
       " {'Key': 'default/mal8ch/rocrates/1d0701bd-306f-42b8-b313-319ae11379d6/1.cm4ai_chromatin_mda-mb-468_untreated_apmsloader_initialrun0.1alpha.zip/1.cm4ai_chromatin_mda-mb-468_untreated_apmsloader_initialrun0.1alpha/ro-crate-metadata.json',\n",
       "  'LastModified': datetime.datetime(2025, 3, 11, 16, 8, 35, 662000, tzinfo=tzutc()),\n",
       "  'ETag': '',\n",
       "  'Size': 12206,\n",
       "  'StorageClass': 'STANDARD'},\n",
       " {'Key': 'default/mal8ch/rocrates/1d0701bd-306f-42b8-b313-319ae11379d6/1.cm4ai_chromatin_mda-mb-468_untreated_apmsloader_initialrun0.1alpha.zip/1.cm4ai_chromatin_mda-mb-468_untreated_apmsloader_initialrun0.1alpha/task_1693531442_finish.json',\n",
       "  'LastModified': datetime.datetime(2025, 3, 11, 16, 8, 35, 662000, tzinfo=tzutc()),\n",
       "  'ETag': '',\n",
       "  'Size': 66,\n",
       "  'StorageClass': 'STANDARD'},\n",
       " {'Key': 'default/mal8ch/rocrates/1d0701bd-306f-42b8-b313-319ae11379d6/1.cm4ai_chromatin_mda-mb-468_untreated_apmsloader_initialrun0.1alpha.zip/1.cm4ai_chromatin_mda-mb-468_untreated_apmsloader_initialrun0.1alpha/task_1693531442_start.json',\n",
       "  'LastModified': datetime.datetime(2025, 3, 11, 16, 8, 35, 662000, tzinfo=tzutc()),\n",
       "  'ETag': '',\n",
       "  'Size': 1368,\n",
       "  'StorageClass': 'STANDARD'}]"
      ]
     },
     "execution_count": 32,
     "metadata": {},
     "output_type": "execute_result"
    }
   ],
   "source": [
    "zipCrateContents"
   ]
  },
  {
   "cell_type": "code",
   "execution_count": 48,
   "metadata": {},
   "outputs": [
    {
     "data": {
      "text/plain": [
       "'1.cm4ai_chromatin_mda-mb-468_untreated_apmsloader_initialrun0.1alpha'"
      ]
     },
     "execution_count": 48,
     "metadata": {},
     "output_type": "execute_result"
    }
   ],
   "source": [
    "uploadPath.stem"
   ]
  },
  {
   "cell_type": "code",
   "execution_count": null,
   "metadata": {},
   "outputs": [
    {
     "data": {
      "text/plain": [
       "'.zip'"
      ]
     },
     "execution_count": 37,
     "metadata": {},
     "output_type": "execute_result"
    }
   ],
   "source": [
    "# create transaction in mongo\n",
    "def createTransaction():\n",
    "\tpass\n",
    "\n",
    "def updateTransaction(mongoCollection, transactionID: str, update):\n",
    "\tmongoCollection.update_one({\"transactionFolder\": transactionID}, update)"
   ]
  },
  {
   "cell_type": "code",
   "execution_count": 49,
   "metadata": {},
   "outputs": [
    {
     "data": {
      "text/plain": [
       "'1.cm4ai_chromatin_mda-mb-468_untreated_apmsloader_initialrun0.1alpha'"
      ]
     },
     "execution_count": 49,
     "metadata": {},
     "output_type": "execute_result"
    }
   ],
   "source": [
    "uploadPath.stem"
   ]
  },
  {
   "cell_type": "code",
   "execution_count": 45,
   "metadata": {},
   "outputs": [],
   "source": [
    "# Get Metadata from the Zipped Archive\n",
    "folderName = uploadPath.name.rstrip(uploadPath.suffix)\n",
    "zippedMetadataKey = uploadPath / folderName / 'ro-crate-metadata.json'\n",
    "\n",
    "try:\n",
    "\tmetadataResponse = s3.get_object(\n",
    "\t\tBucket=fairscapeConfig.minio.default_bucket,\n",
    "\t\tKey=str(zippedMetadataKey),\n",
    "\t)\n",
    "\n",
    "# TODO handle no such key error\n",
    "except s3.exceptions.NoSuchKey as err:\n",
    "\n",
    "\t# Update Transaction\n",
    "\tprint(err)\n",
    "\n",
    "\n",
    "try:\n",
    "\tmetadataContent = metadataResponse['Body'].read()\n",
    "\tmetadataJSON = json.loads(metadataContent)\n",
    "\n",
    "# TODO more specific exceptions\n",
    "except:\n",
    "\n",
    "\t# TODO update the transaction\n",
    "\tpass"
   ]
  },
  {
   "cell_type": "code",
   "execution_count": null,
   "metadata": {},
   "outputs": [],
   "source": [
    "# validate "
   ]
  },
  {
   "cell_type": "code",
   "execution_count": 46,
   "metadata": {},
   "outputs": [],
   "source": [
    "def cleanGUID(metadata):\n",
    "\tif \"http\" in metadata.guid:\n",
    "\t\tmetadata.guid = urllib.parse.urlparse(metadata.guid).path.lstrip('/')\n",
    "\n",
    "def cleanIdentifiers(crate: ROCrateV1_2):\n",
    "\trocrateMetadata = crate.getCrateMetadata()\n",
    "\n",
    "\t#clean ROCrate metadata identifier\n",
    "\tcleanGUID(rocrateMetadata)\n",
    "\n",
    "\t\n",
    "\t# clean identifiers\n",
    "\tfor elem in crate.getEVIElements():\n",
    "\t\tcleanGUID(elem)\n",
    "\n",
    "\t\tif isinstance(elem, ROCrateDataset):\n",
    "\t\t\t# usedByComputation\n",
    "\t\t\tfor usedByComputation in elem.usedByComputation:\n",
    "\t\t\t\tcleanGUID(usedByComputation)\n",
    "\t\t\t\n",
    "\t\t\t# generatedBy\n",
    "\t\t\tfor generatedBy in elem.generatedBy:\n",
    "\t\t\t\tcleanGUID(generatedBy)\n",
    "\n",
    "\t\tif isinstance(elem, ROCrateSoftware):\n",
    "\t\t\tfor usedByElem in elem.usedByComputation:\n",
    "\t\t\t\tcleanGUID(usedByElem)\n",
    "\n",
    "\t\tif isinstance(elem, ROCrateComputation):\n",
    "\t\t\t#elem.usedDataset\n",
    "\t\t\tfor usedDataset in elem.usedDataset:\n",
    "\t\t\t\tcleanGUID(usedDataset)\n",
    "\t\t\t#elem.generated\n",
    "\t\t\tfor generated in elem.generated:\n",
    "\t\t\t\tcleanGUID(generated)\n",
    "\t\t\t#elem.usedSoftware\n",
    "\t\t\tfor usedSoftware in elem.usedSoftware:\n",
    "\t\t\t\tcleanGUID(usedSoftware)\n",
    "\n",
    "\n",
    "def processMetadataIsPartOf(crate: ROCrateV1_2):\n",
    "\teviElements = crate.getEVIElements()\n",
    "\trocrateRootElem = crateModel.getCrateMetadata()\n",
    "\n",
    "\trocrateRootElem.hasPart = [ IdentifierValue.model_validate({\"@id\": x.guid}) for x in eviElements]\n",
    "\n",
    "\t# set inverse relation\n",
    "\telemIsPartOf = IdentifierValue.model_validate({\"@id\": rocrateRootElem.guid})\n",
    "\tfor elem in eviElements:\n",
    "\t\telem.isPartOf = elemIsPartOf\n",
    "\n",
    "def processMetadata(crate: ROCrateV1_2):\n",
    "\tpass"
   ]
  },
  {
   "cell_type": "code",
   "execution_count": null,
   "metadata": {},
   "outputs": [],
   "source": [
    "# validate json \n",
    "try:\n",
    "\tmetadata = rocrate.ROCrateV1_2.model_validate(metadataJSON)\n",
    "\n",
    "except pydantic.ValidationError as err:\n",
    "\n",
    "\t#TODO: handle pydantic validation errors\n",
    "\n",
    "\t#TODO: update transaction with metadata validation failure\n",
    "\tvalidationErrors = err.errors()\n",
    "\tpass\n",
    "\n",
    "#\n"
   ]
  },
  {
   "cell_type": "code",
   "execution_count": null,
   "metadata": {},
   "outputs": [],
   "source": []
  },
  {
   "cell_type": "code",
   "execution_count": 183,
   "metadata": {},
   "outputs": [],
   "source": [
    "#zipCrateContents"
   ]
  },
  {
   "cell_type": "code",
   "execution_count": null,
   "metadata": {},
   "outputs": [],
   "source": [
    "\n",
    "datasets = metadata.getDatasets()\n",
    "testDataset = datasets[0]"
   ]
  },
  {
   "cell_type": "code",
   "execution_count": 190,
   "metadata": {},
   "outputs": [],
   "source": [
    "\n",
    "# match dataset element to file inside zip\n",
    "# TODO: deal with non unique matches\n",
    "\n",
    "datasetFileKey = testDataset.contentUrl.lstrip('file:///')\n",
    "datasetS3Match = next(filter(lambda x: datasetFileKey in x.get('Key'), zipCrateContents))\n",
    "\n",
    " \n",
    "datasetS3Key = datasetS3Match['Key']\n",
    "#[ datasetElem for datasetElem in zipCrateContents if datasetFileKey in datasetElem.get('Key')]"
   ]
  },
  {
   "cell_type": "code",
   "execution_count": 193,
   "metadata": {},
   "outputs": [
    {
     "data": {
      "text/plain": [
       "'default/mal8ch/uploads/78e44abb-f967-4067-bfed-5a43426f4e13/1.cm4ai_chromatin_mda-mb-468_untreated_apmsloader_initialrun0.1alpha.zip/1.cm4ai_chromatin_mda-mb-468_untreated_apmsloader_initialrun0.1alpha/ppi_gene_node_attributes.tsv'"
      ]
     },
     "execution_count": 193,
     "metadata": {},
     "output_type": "execute_result"
    }
   ],
   "source": [
    "datasetS3Key"
   ]
  },
  {
   "cell_type": "markdown",
   "metadata": {},
   "source": [
    "### Copy Object from Zip to other Minio Object"
   ]
  },
  {
   "cell_type": "code",
   "execution_count": 197,
   "metadata": {},
   "outputs": [],
   "source": [
    "# Can't Copy Objects from within Zips\n",
    "userDatasetPaths = pathlib.PurePosixPath(fairscapeConfig.minio.default_bucket_path) / userCN / 'datasets' \n",
    "newKey = userDatasetPaths / datasetFileKey\n",
    "\n",
    "copy_source = {\n",
    "\t'Bucket': fairscapeConfig.minio.default_bucket,\n",
    "\t'Key': datasetS3Key\n",
    "}\n",
    "\n",
    "try:\n",
    "\ts3.copy_object(CopySource=copy_source, Bucket=fairscapeConfig.minio.default_bucket, Key=str(newKey))\n",
    "except:\n",
    "\tpass\n",
    "\n"
   ]
  },
  {
   "cell_type": "code",
   "execution_count": null,
   "metadata": {},
   "outputs": [],
   "source": [
    "# get file contents\n",
    "\n",
    "\n"
   ]
  },
  {
   "cell_type": "code",
   "execution_count": null,
   "metadata": {},
   "outputs": [],
   "source": [
    "# upload new object"
   ]
  },
  {
   "cell_type": "code",
   "execution_count": null,
   "metadata": {},
   "outputs": [],
   "source": [
    "# add distribution information to Dataset Element"
   ]
  },
  {
   "cell_type": "markdown",
   "metadata": {},
   "source": [
    "## In Filesystem approach\n",
    "1. create transaction folder\n",
    "2. copy crate to local directory\n",
    "3. unzip contents into transaction folder\n",
    "4. process metadata\n",
    "5. upload extracted datasets\n",
    "6. replace ro-crate-metadata.json\n",
    "7. zip up and upload archive"
   ]
  },
  {
   "cell_type": "markdown",
   "metadata": {},
   "source": [
    "## Mocking the Transaction\n",
    "\n",
    "1. create transaction folder\n",
    "2. Copy crate to local directory\n",
    "3. Unzip contents in transaction folder\n",
    "4. process metadata\n",
    "5. upload extracted datasets\n",
    "6. replace ro-crate-metadata.json\n",
    "7. zip up and upload archive"
   ]
  },
  {
   "cell_type": "code",
   "execution_count": 7,
   "metadata": {},
   "outputs": [],
   "source": [
    "# mock user CN\n",
    "userCN = 'mal8ch'"
   ]
  },
  {
   "cell_type": "code",
   "execution_count": 8,
   "metadata": {},
   "outputs": [],
   "source": [
    "# mock a transaction uuid\n",
    "transactionID = str(uuid.uuid4())\n",
    "\n",
    "# create a folder for jobs\n",
    "jobsFolder = pathlib.Path(\"jobs/\")\n",
    "jobsFolder.mkdir(exist_ok=True)\n",
    "\n",
    "# create a folder for this transaction\n",
    "transactionFolder = jobsFolder / transactionID\n",
    "transactionFolder.mkdir(exist_ok=True)"
   ]
  },
  {
   "cell_type": "code",
   "execution_count": 9,
   "metadata": {},
   "outputs": [],
   "source": [
    "extractFolder = transactionFolder / 'extracted'"
   ]
  },
  {
   "cell_type": "code",
   "execution_count": 10,
   "metadata": {},
   "outputs": [
    {
     "data": {
      "text/plain": [
       "'jobs\\\\91e12cb3-f796-4203-ad40-f490f7b3006c\\\\1.cm4ai_chromatin_mda-mb-468_untreated_apmsloader_initialrun0.1alpha.zip'"
      ]
     },
     "execution_count": 10,
     "metadata": {},
     "output_type": "execute_result"
    }
   ],
   "source": [
    "# mock copy to transaction directory\n",
    "zippedCratePath = transactionFolder / testROCrate.name\n",
    "\n",
    "shutil.copyfile(\n",
    "\tstr(testROCrate),\n",
    "\tstr(zippedCratePath)\n",
    ")\n"
   ]
  },
  {
   "cell_type": "code",
   "execution_count": 11,
   "metadata": {},
   "outputs": [],
   "source": [
    "crateFolderName = zippedCratePath.name.strip(zippedCratePath.suffix)"
   ]
  },
  {
   "cell_type": "code",
   "execution_count": 12,
   "metadata": {},
   "outputs": [],
   "source": [
    "# unzip the archive \n",
    "with zippedCratePath.open('rb') as zippedCrateFileObj:\n",
    "\tzipCrate = zipfile.ZipFile(zippedCrateFileObj)\n",
    "\tzipCrate.extractall(path=str(extractFolder))"
   ]
  },
  {
   "cell_type": "code",
   "execution_count": 13,
   "metadata": {},
   "outputs": [],
   "source": [
    "# extract the metadata\n",
    "extractedContentsFolder = extractFolder / crateFolderName\n",
    "metadataFilePath = extractedContentsFolder / 'ro-crate-metadata.json'\n",
    "with metadataFilePath.open(\"r\") as crateMetadataFileObj:\n",
    "\tcrateMetadataJSON = json.load(crateMetadataFileObj)\n",
    "\n",
    "# parse metadata into pydantic model\n",
    "fullCrateModel = ROCrateV1_2.model_validate(crateMetadataJSON)"
   ]
  },
  {
   "cell_type": "code",
   "execution_count": null,
   "metadata": {},
   "outputs": [],
   "source": [
    "# add schema models to ROCrateV1_2 pydantic model metadataGraph Union\n",
    "# also look for schemas within the ROCrate before looking for Schemas in minio"
   ]
  },
  {
   "cell_type": "code",
   "execution_count": 14,
   "metadata": {},
   "outputs": [],
   "source": [
    "def cleanGUID(metadata):\n",
    "\tif \"http\" in metadata.guid:\n",
    "\t\tmetadata.guid = urllib.parse.urlparse(metadata.guid).path.lstrip('/')\n",
    "\n",
    "def cleanIdentifiers(crate: ROCrateV1_2):\n",
    "\trocrateMetadata = crate.getCrateMetadata()\n",
    "\n",
    "\t#clean ROCrate metadata identifier\n",
    "\tcleanGUID(rocrateMetadata)\n",
    "\n",
    "\t\n",
    "\t# clean identifiers\n",
    "\tfor elem in crate.getEVIElements():\n",
    "\t\tcleanGUID(elem)\n",
    "\n",
    "\t\tif isinstance(elem, ROCrateDataset):\n",
    "\t\t\t# usedByComputation\n",
    "\t\t\tfor usedByComputation in elem.usedByComputation:\n",
    "\t\t\t\tcleanGUID(usedByComputation)\n",
    "\t\t\t\n",
    "\t\t\t# generatedBy\n",
    "\t\t\tfor generatedBy in elem.generatedBy:\n",
    "\t\t\t\tcleanGUID(generatedBy)\n",
    "\n",
    "\t\tif isinstance(elem, ROCrateSoftware):\n",
    "\t\t\tfor usedByElem in elem.usedByComputation:\n",
    "\t\t\t\tcleanGUID(usedByElem)\n",
    "\n",
    "\t\tif isinstance(elem, ROCrateComputation):\n",
    "\t\t\t#elem.usedDataset\n",
    "\t\t\tfor usedDataset in elem.usedDataset:\n",
    "\t\t\t\tcleanGUID(usedDataset)\n",
    "\t\t\t#elem.generated\n",
    "\t\t\tfor generated in elem.generated:\n",
    "\t\t\t\tcleanGUID(generated)\n",
    "\t\t\t#elem.usedSoftware\n",
    "\t\t\tfor usedSoftware in elem.usedSoftware:\n",
    "\t\t\t\tcleanGUID(usedSoftware)\n",
    "\n",
    "\n",
    "def processMetadataIsPartOf(crate: ROCrateV1_2):\n",
    "\teviElements = crate.getEVIElements()\n",
    "\trocrateRootElem = crateModel.getCrateMetadata()\n",
    "\n",
    "\trocrateRootElem.hasPart = [ IdentifierValue.model_validate({\"@id\": x.guid}) for x in eviElements]\n",
    "\n",
    "\t# set inverse relation\n",
    "\telemIsPartOf = IdentifierValue.model_validate({\"@id\": rocrateRootElem.guid})\n",
    "\tfor elem in eviElements:\n",
    "\t\telem.isPartOf = elemIsPartOf\n",
    "\n",
    "def processMetadata(crate: ROCrateV1_2):\n",
    "\tpass"
   ]
  },
  {
   "cell_type": "code",
   "execution_count": 19,
   "metadata": {},
   "outputs": [
    {
     "data": {
      "text/plain": [
       "'{\"@context\":{\"EVI\":\"https://w3id.org/EVI#\",\"@vocab\":\"https://schema.org/\"},\"@graph\":[{\"@id\":\"ro-crate-metadata.json\",\"@type\":\"CreativeWork\",\"conformsTo\":{\"@id\":\"https://w3id.org/ro/crate/1.2-DRAFT\"},\"about\":{\"@id\":\"https://fairscape.net/ark:59852/rocrate-1.cm4ai_chromatin_mda-mb-468_untreated_apmsloader_initialrun0.1alpha\"}},{\"@id\":\"ark:59852/rocrate-1.cm4ai_chromatin_mda-mb-468_untreated_apmsloader_initialrun0.1alpha\",\"@type\":[\"Dataset\",\"https://w3id.org/EVI#ROCrate\"],\"name\":\"Initial integration run\",\"keywords\":[\"Ideker Lab\",\"CM4AI\",\"0.1 alpha\",\"MDA-MB-468\",\"untreated\",\"chromatin\",\"Initial integration run\",\"AP-MS edgelist download\"],\"isPartOf\":[{\"@id\":\"ark:/Ideker_Lab\"},{\"@id\":\"ark:/Ideker_Lab/CM4AI\"}],\"version\":\"0.5alpha\",\"license\":\"https://creativecommons.org/licenses/by-nc-sa/4.0/deed.en\",\"associatedPublication\":\"Clark T, Schaffer L, Obernier K, Al Manir S, Churas CP, Dailamy A, Doctor Y, Forget A, Hansen JN, Hu M, Lenkiewicz J, Levinson MA, Marquez C, Mohan J, Nourreddine S, Niestroy J, Pratt D, Qian G, Thaker S, Belisle-Pipon J-C, Brandt C, Chen J, Ding Y, Fodeh S, Krogan N, Lundberg E, Mali P, Payne-Foster P, Ratcliffe S, Ravitsky V, Sali A, Schulz W, Ideker T. Cell Maps for Artificial Intelligence: AI-Ready Maps of Human Cell Architecture from Disease-Relevant Cell Lines. BioRXiv 2024.\",\"author\":[\"Clark T\",\"Schaffer L\",\"Obernier K\",\"Al Manir S\",\"Churas CP\",\"Dailamy A\",\"Doctor Y\",\"Forget A\",\"Hansen JN\",\"Hu M\",\"Lenkiewicz J\",\"Levinson MA\",\"Marquez C\",\"Mohan J\",\"Nourreddine S\",\"Niestroy J\",\"Pratt D\",\"Qian G\",\"Thaker S\",\"Belisle-Pipon J-C\",\"Brandt C\",\"Chen J\",\"Ding Y\",\"Fodeh S\",\"Krogan N\",\"Lundberg E\",\"Mali P\",\"Payne-Foster P\",\"Ratcliffe S\",\"Ravitsky V\",\"Sali A\",\"Schulz W\",\"Ideker T.\"],\"conditionsOfAccess\":\"This dataset was created by investigators and staff of the Cell Maps for Artificial Intelligence project (CM4AI - https://cm4ai.org), a Data Generation Project of the NIH Bridge2AI program, and is copyright (c) 2024 by The Regents of the University of California and, for cellular imaging data, by The Board of Trustees of the Leland Stanford Junior University. It is licensed for reuse under the Creative Commons Attribution-NonCommercial-ShareAlike 4.0 International (CC-BY-NC-SA 4.0) license, whose terms are summarized here: https://creativecommons.org/licenses/by-nc-sa/4.0/deed.en.  Proper attribution credit as required by the license includes citation of the copyright holders and of the attribution parties, which includes citation of the following article: Clark T, Schaffer L, Obernier K, Al Manir S, Churas CP, Dailamy A, Doctor Y, Forget A, Hansen JN, Hu M, Lenkiewicz J, Levinson MA, Marquez C, Mohan J, Nourreddine S, Niestroy J, Pratt D, Qian G, Thaker S, Belisle-Pipon J-C, Brandt C, Chen J, Ding Y, Fodeh S, Krogan N, Lundberg E, Mali P, Payne-Foster P, Ratcliffe S, Ravitsky V, Sali A, Schulz W, Ideker T. Cell Maps for Artificial Intelligence: AI-Ready Maps of Human Cell Architecture from Disease-Relevant Cell Lines. BioRXiv 2024.”\",\"copyrightNotice\":\"Copyright (c) 2024 by The Regents of the University of California\",\"hasPart\":[{\"@id\":\"https://fairscape.net/ark:59852/software-cellmaps_ppidownloader-58sGTge\"},{\"@id\":\"https://fairscape.net/ark:59852/dataset-cellmaps_ppidownloader-output-file-58sGTge\"},{\"@id\":\"https://fairscape.net/ark:59852/computation-AP-MS-Loader-58sGTge\"}]},{\"@id\":\"ark:59852/software-cellmaps_ppidownloader-58sGTge\",\"metadataType\":\"https://w3id.org/EVI#Software\",\"additionalType\":\"Software\",\"author\":\"Clark T, Schaffer L, Obernier K, Al Manir S, Churas CP, Dailamy A, Doctor Y, Forget A, Hansen JN, Hu M, Lenkiewicz J, Levinson MA, Marquez C, Mohan J, Nourreddine S, Niestroy J, Pratt D, Qian G, Thaker S, Belisle-Pipon J-C, Brandt C, Chen J, Ding Y, Fodeh S, Krogan N, Lundberg E, Mali P, Payne-Foster P, Ratcliffe S, Ravitsky V, Sali A, Schulz W, Ideker T.\",\"dateModified\":\"2023-08-31\",\"version\":\"0.5alpha\",\"description\":\"Ideker Lab CM4AI 0.1 alpha MDA-MB-468 untreated chromatin Initial integration run AP-MS Edgelist A tool to download AP-MS data for Cell Maps pipeline\",\"associatedPublication\":\"Clark T, Schaffer L, Obernier K, Al Manir S, Churas CP, Dailamy A, Doctor Y, Forget A, Hansen JN, Hu M, Lenkiewicz J, Levinson MA, Marquez C, Mohan J, Nourreddine S, Niestroy J, Pratt D, Qian G, Thaker S, Belisle-Pipon J-C, Brandt C, Chen J, Ding Y, Fodeh S, Krogan N, Lundberg E, Mali P, Payne-Foster P, Ratcliffe S, Ravitsky V, Sali A, Schulz W, Ideker T. Cell Maps for Artificial Intelligence: AI-Ready Maps of Human Cell Architecture from Disease-Relevant Cell Lines. BioRXiv 2024.\",\"additionalDocumentation\":null,\"format\":\"py\",\"usedByComputation\":[],\"contentUrl\":\"https://github.com/idekerlab/cellmaps_ppidownloader\"},{\"@id\":\"ark:59852/dataset-cellmaps_ppidownloader-output-file-58sGTge\",\"metadataType\":\"https://w3id.org/EVI#Dataset\",\"additionalType\":\"Dataset\",\"author\":[\"Richa Tiwari\",\"Atoshi Banerjee\",\"Monita Muralidharan\",\"Kristen Obernier\",\"Antoine Forget\",\"Nevan Krogan\"],\"datePublished\":\"2023-08-31\",\"version\":\"0.5alpha\",\"description\":\"Ideker Lab CM4AI 0.1 alpha MDA-MB-468 untreated chromatin Initial integration run AP-MS Edgelist AP-MS gene node attributes file\",\"keywords\":[\"\"],\"associatedPublication\":\"Clark T, Schaffer L, Obernier K, Al Manir S, Churas CP, Dailamy A, Doctor Y, Forget A, Hansen JN, Hu M, Lenkiewicz J, Levinson MA, Marquez C, Mohan J, Nourreddine S, Niestroy J, Pratt D, Qian G, Thaker S, Belisle-Pipon J-C, Brandt C, Chen J, Ding Y, Fodeh S, Krogan N, Lundberg E, Mali P, Payne-Foster P, Ratcliffe S, Ravitsky V, Sali A, Schulz W, Ideker T. Cell Maps for Artificial Intelligence: AI-Ready Maps of Human Cell Architecture from Disease-Relevant Cell Lines. BioRXiv 2024.\",\"additionalDocumentation\":null,\"format\":\"tsv\",\"evi:Schema\":null,\"generatedBy\":[],\"derivedFrom\":[],\"usedByComputation\":[],\"contentUrl\":\"file:///1.cm4ai_chromatin_mda-mb-468_untreated_apmsloader_initialrun0.1alpha/ppi_gene_node_attributes.tsv\"},{\"@id\":\"ark:59852/computation-AP-MS-Loader-58sGTge\",\"metadataType\":\"https://w3id.org/EVI#Computation\",\"additionalType\":\"Computation\",\"runBy\":\"Chris Churas\",\"dateCreated\":\"2023-08-31\",\"associatedPublication\":\"Clark T, Schaffer L, Obernier K, Al Manir S, Churas CP, Dailamy A, Doctor Y, Forget A, Hansen JN, Hu M, Lenkiewicz J, Levinson MA, Marquez C, Mohan J, Nourreddine S, Niestroy J, Pratt D, Qian G, Thaker S, Belisle-Pipon J-C, Brandt C, Chen J, Ding Y, Fodeh S, Krogan N, Lundberg E, Mali P, Payne-Foster P, Ratcliffe S, Ravitsky V, Sali A, Schulz W, Ideker T. Cell Maps for Artificial Intelligence: AI-Ready Maps of Human Cell Architecture from Disease-Relevant Cell Lines. BioRXiv 2024.\",\"additionalDocumentation\":null,\"command\":\"{\\'outdir\\': \\'0.1pipeline/1.cm4ai_chromatin_mda-mb-468_untreated_apmsloader_initialrun0.1alpha\\', \\'cm4ai_table\\': \\'0.1rocrates/cm4ai_chromatin_mda-mb-468_untreated_apms_0.1_alpha/apms.tsv\\', \\'edgelist\\': None, \\'edgelist_geneid_one_col\\': \\'GeneID1\\', \\'edgelist_symbol_one_col\\': \\'Symbol1\\', \\'edgelist_geneid_two_col\\': \\'GeneID2\\', \\'edgelist_symbol_two_col\\': \\'Symbol2\\', \\'baitlist\\': None, \\'baitlist_symbol_col\\': \\'GeneSymbol\\', \\'baitlist_geneid_col\\': \\'GeneID\\', \\'baitlist_numinteractors_col\\': \\'# Interactors\\', \\'provenance\\': \\'ppiprovenance.json\\', \\'logconf\\': None, \\'skip_logging\\': False, \\'verbose\\': 0, \\'program\\': \\'/cellar/users/cchuras/miniconda3/envs/py38/bin/cellmaps_ppidownloadercmd.py\\', \\'version\\': \\'0.1.0a6\\'}\",\"usedSoftware\":[{\"@id\":\"https://fairscape.net/ark:59852/software-cellmaps_ppidownloader-58sGTge\"}],\"usedDataset\":[],\"generated\":[{\"@id\":\"https://fairscape.net/ark:59852/dataset-cellmaps_ppidownloader-output-file-58sGTge\"}]},{\"@id\":\"ark:/Ideker_Lab\",\"@type\":\"Organization\",\"name\":\"Ideker Lab\"},{\"@id\":\"ark:/Ideker_Lab/CM4AI\",\"@type\":\"Project\",\"name\":\"CM4AI\"}]}'"
      ]
     },
     "execution_count": 19,
     "metadata": {},
     "output_type": "execute_result"
    }
   ],
   "source": [
    "fullCrateModel.model_dump_json(by_alias=True)"
   ]
  },
  {
   "cell_type": "code",
   "execution_count": null,
   "metadata": {},
   "outputs": [],
   "source": []
  },
  {
   "cell_type": "code",
   "execution_count": 28,
   "metadata": {},
   "outputs": [],
   "source": []
  },
  {
   "cell_type": "code",
   "execution_count": 29,
   "metadata": {},
   "outputs": [],
   "source": []
  },
  {
   "cell_type": "code",
   "execution_count": 21,
   "metadata": {},
   "outputs": [
    {
     "data": {
      "text/plain": [
       "{'@context': {'EVI': 'https://w3id.org/EVI#', '@vocab': 'https://schema.org/'},\n",
       " '@graph': [{'@id': 'ro-crate-metadata.json',\n",
       "   '@type': 'CreativeWork',\n",
       "   'conformsTo': {'@id': 'https://w3id.org/ro/crate/1.2-DRAFT'},\n",
       "   'about': {'@id': 'https://fairscape.net/ark:59852/rocrate-1.cm4ai_chromatin_mda-mb-468_untreated_apmsloader_initialrun0.1alpha'}},\n",
       "  {'@id': 'ark:59852/rocrate-1.cm4ai_chromatin_mda-mb-468_untreated_apmsloader_initialrun0.1alpha',\n",
       "   '@type': ['Dataset', 'https://w3id.org/EVI#ROCrate'],\n",
       "   'name': 'Initial integration run',\n",
       "   'keywords': ['Ideker Lab',\n",
       "    'CM4AI',\n",
       "    '0.1 alpha',\n",
       "    'MDA-MB-468',\n",
       "    'untreated',\n",
       "    'chromatin',\n",
       "    'Initial integration run',\n",
       "    'AP-MS edgelist download'],\n",
       "   'isPartOf': [{'@id': 'ark:/Ideker_Lab'}, {'@id': 'ark:/Ideker_Lab/CM4AI'}],\n",
       "   'version': '0.5alpha',\n",
       "   'license': 'https://creativecommons.org/licenses/by-nc-sa/4.0/deed.en',\n",
       "   'associatedPublication': 'Clark T, Schaffer L, Obernier K, Al Manir S, Churas CP, Dailamy A, Doctor Y, Forget A, Hansen JN, Hu M, Lenkiewicz J, Levinson MA, Marquez C, Mohan J, Nourreddine S, Niestroy J, Pratt D, Qian G, Thaker S, Belisle-Pipon J-C, Brandt C, Chen J, Ding Y, Fodeh S, Krogan N, Lundberg E, Mali P, Payne-Foster P, Ratcliffe S, Ravitsky V, Sali A, Schulz W, Ideker T. Cell Maps for Artificial Intelligence: AI-Ready Maps of Human Cell Architecture from Disease-Relevant Cell Lines. BioRXiv 2024.',\n",
       "   'author': ['Clark T',\n",
       "    'Schaffer L',\n",
       "    'Obernier K',\n",
       "    'Al Manir S',\n",
       "    'Churas CP',\n",
       "    'Dailamy A',\n",
       "    'Doctor Y',\n",
       "    'Forget A',\n",
       "    'Hansen JN',\n",
       "    'Hu M',\n",
       "    'Lenkiewicz J',\n",
       "    'Levinson MA',\n",
       "    'Marquez C',\n",
       "    'Mohan J',\n",
       "    'Nourreddine S',\n",
       "    'Niestroy J',\n",
       "    'Pratt D',\n",
       "    'Qian G',\n",
       "    'Thaker S',\n",
       "    'Belisle-Pipon J-C',\n",
       "    'Brandt C',\n",
       "    'Chen J',\n",
       "    'Ding Y',\n",
       "    'Fodeh S',\n",
       "    'Krogan N',\n",
       "    'Lundberg E',\n",
       "    'Mali P',\n",
       "    'Payne-Foster P',\n",
       "    'Ratcliffe S',\n",
       "    'Ravitsky V',\n",
       "    'Sali A',\n",
       "    'Schulz W',\n",
       "    'Ideker T.'],\n",
       "   'conditionsOfAccess': 'This dataset was created by investigators and staff of the Cell Maps for Artificial Intelligence project (CM4AI - https://cm4ai.org), a Data Generation Project of the NIH Bridge2AI program, and is copyright (c) 2024 by The Regents of the University of California and, for cellular imaging data, by The Board of Trustees of the Leland Stanford Junior University. It is licensed for reuse under the Creative Commons Attribution-NonCommercial-ShareAlike 4.0 International (CC-BY-NC-SA 4.0) license, whose terms are summarized here: https://creativecommons.org/licenses/by-nc-sa/4.0/deed.en.  Proper attribution credit as required by the license includes citation of the copyright holders and of the attribution parties, which includes citation of the following article: Clark T, Schaffer L, Obernier K, Al Manir S, Churas CP, Dailamy A, Doctor Y, Forget A, Hansen JN, Hu M, Lenkiewicz J, Levinson MA, Marquez C, Mohan J, Nourreddine S, Niestroy J, Pratt D, Qian G, Thaker S, Belisle-Pipon J-C, Brandt C, Chen J, Ding Y, Fodeh S, Krogan N, Lundberg E, Mali P, Payne-Foster P, Ratcliffe S, Ravitsky V, Sali A, Schulz W, Ideker T. Cell Maps for Artificial Intelligence: AI-Ready Maps of Human Cell Architecture from Disease-Relevant Cell Lines. BioRXiv 2024.”',\n",
       "   'copyrightNotice': 'Copyright (c) 2024 by The Regents of the University of California',\n",
       "   'hasPart': [{'@id': 'https://fairscape.net/ark:59852/software-cellmaps_ppidownloader-58sGTge'},\n",
       "    {'@id': 'https://fairscape.net/ark:59852/dataset-cellmaps_ppidownloader-output-file-58sGTge'},\n",
       "    {'@id': 'https://fairscape.net/ark:59852/computation-AP-MS-Loader-58sGTge'}]},\n",
       "  {'@id': 'ark:59852/software-cellmaps_ppidownloader-58sGTge',\n",
       "   'metadataType': 'https://w3id.org/EVI#Software',\n",
       "   'additionalType': 'Software',\n",
       "   'author': 'Clark T, Schaffer L, Obernier K, Al Manir S, Churas CP, Dailamy A, Doctor Y, Forget A, Hansen JN, Hu M, Lenkiewicz J, Levinson MA, Marquez C, Mohan J, Nourreddine S, Niestroy J, Pratt D, Qian G, Thaker S, Belisle-Pipon J-C, Brandt C, Chen J, Ding Y, Fodeh S, Krogan N, Lundberg E, Mali P, Payne-Foster P, Ratcliffe S, Ravitsky V, Sali A, Schulz W, Ideker T.',\n",
       "   'dateModified': '2023-08-31',\n",
       "   'version': '0.5alpha',\n",
       "   'description': 'Ideker Lab CM4AI 0.1 alpha MDA-MB-468 untreated chromatin Initial integration run AP-MS Edgelist A tool to download AP-MS data for Cell Maps pipeline',\n",
       "   'associatedPublication': 'Clark T, Schaffer L, Obernier K, Al Manir S, Churas CP, Dailamy A, Doctor Y, Forget A, Hansen JN, Hu M, Lenkiewicz J, Levinson MA, Marquez C, Mohan J, Nourreddine S, Niestroy J, Pratt D, Qian G, Thaker S, Belisle-Pipon J-C, Brandt C, Chen J, Ding Y, Fodeh S, Krogan N, Lundberg E, Mali P, Payne-Foster P, Ratcliffe S, Ravitsky V, Sali A, Schulz W, Ideker T. Cell Maps for Artificial Intelligence: AI-Ready Maps of Human Cell Architecture from Disease-Relevant Cell Lines. BioRXiv 2024.',\n",
       "   'additionalDocumentation': None,\n",
       "   'format': 'py',\n",
       "   'usedByComputation': [],\n",
       "   'contentUrl': 'https://github.com/idekerlab/cellmaps_ppidownloader'},\n",
       "  {'@id': 'ark:59852/dataset-cellmaps_ppidownloader-output-file-58sGTge',\n",
       "   'metadataType': 'https://w3id.org/EVI#Dataset',\n",
       "   'additionalType': 'Dataset',\n",
       "   'author': ['Richa Tiwari',\n",
       "    'Atoshi Banerjee',\n",
       "    'Monita Muralidharan',\n",
       "    'Kristen Obernier',\n",
       "    'Antoine Forget',\n",
       "    'Nevan Krogan'],\n",
       "   'datePublished': '2023-08-31',\n",
       "   'version': '0.5alpha',\n",
       "   'description': 'Ideker Lab CM4AI 0.1 alpha MDA-MB-468 untreated chromatin Initial integration run AP-MS Edgelist AP-MS gene node attributes file',\n",
       "   'keywords': [''],\n",
       "   'associatedPublication': 'Clark T, Schaffer L, Obernier K, Al Manir S, Churas CP, Dailamy A, Doctor Y, Forget A, Hansen JN, Hu M, Lenkiewicz J, Levinson MA, Marquez C, Mohan J, Nourreddine S, Niestroy J, Pratt D, Qian G, Thaker S, Belisle-Pipon J-C, Brandt C, Chen J, Ding Y, Fodeh S, Krogan N, Lundberg E, Mali P, Payne-Foster P, Ratcliffe S, Ravitsky V, Sali A, Schulz W, Ideker T. Cell Maps for Artificial Intelligence: AI-Ready Maps of Human Cell Architecture from Disease-Relevant Cell Lines. BioRXiv 2024.',\n",
       "   'additionalDocumentation': None,\n",
       "   'format': 'tsv',\n",
       "   'evi:Schema': None,\n",
       "   'generatedBy': [],\n",
       "   'derivedFrom': [],\n",
       "   'usedByComputation': [],\n",
       "   'contentUrl': 'file:///1.cm4ai_chromatin_mda-mb-468_untreated_apmsloader_initialrun0.1alpha/ppi_gene_node_attributes.tsv'},\n",
       "  {'@id': 'ark:59852/computation-AP-MS-Loader-58sGTge',\n",
       "   'metadataType': 'https://w3id.org/EVI#Computation',\n",
       "   'additionalType': 'Computation',\n",
       "   'runBy': 'Chris Churas',\n",
       "   'dateCreated': '2023-08-31',\n",
       "   'associatedPublication': 'Clark T, Schaffer L, Obernier K, Al Manir S, Churas CP, Dailamy A, Doctor Y, Forget A, Hansen JN, Hu M, Lenkiewicz J, Levinson MA, Marquez C, Mohan J, Nourreddine S, Niestroy J, Pratt D, Qian G, Thaker S, Belisle-Pipon J-C, Brandt C, Chen J, Ding Y, Fodeh S, Krogan N, Lundberg E, Mali P, Payne-Foster P, Ratcliffe S, Ravitsky V, Sali A, Schulz W, Ideker T. Cell Maps for Artificial Intelligence: AI-Ready Maps of Human Cell Architecture from Disease-Relevant Cell Lines. BioRXiv 2024.',\n",
       "   'additionalDocumentation': None,\n",
       "   'command': \"{'outdir': '0.1pipeline/1.cm4ai_chromatin_mda-mb-468_untreated_apmsloader_initialrun0.1alpha', 'cm4ai_table': '0.1rocrates/cm4ai_chromatin_mda-mb-468_untreated_apms_0.1_alpha/apms.tsv', 'edgelist': None, 'edgelist_geneid_one_col': 'GeneID1', 'edgelist_symbol_one_col': 'Symbol1', 'edgelist_geneid_two_col': 'GeneID2', 'edgelist_symbol_two_col': 'Symbol2', 'baitlist': None, 'baitlist_symbol_col': 'GeneSymbol', 'baitlist_geneid_col': 'GeneID', 'baitlist_numinteractors_col': '# Interactors', 'provenance': 'ppiprovenance.json', 'logconf': None, 'skip_logging': False, 'verbose': 0, 'program': '/cellar/users/cchuras/miniconda3/envs/py38/bin/cellmaps_ppidownloadercmd.py', 'version': '0.1.0a6'}\",\n",
       "   'usedSoftware': [{'@id': 'https://fairscape.net/ark:59852/software-cellmaps_ppidownloader-58sGTge'}],\n",
       "   'usedDataset': [],\n",
       "   'generated': [{'@id': 'https://fairscape.net/ark:59852/dataset-cellmaps_ppidownloader-output-file-58sGTge'}]},\n",
       "  {'@id': 'ark:/Ideker_Lab', '@type': 'Organization', 'name': 'Ideker Lab'},\n",
       "  {'@id': 'ark:/Ideker_Lab/CM4AI', '@type': 'Project', 'name': 'CM4AI'}]}"
      ]
     },
     "execution_count": 21,
     "metadata": {},
     "output_type": "execute_result"
    }
   ],
   "source": [
    "fullCrateModel.model_dump(by_alias=True)"
   ]
  },
  {
   "cell_type": "code",
   "execution_count": null,
   "metadata": {},
   "outputs": [],
   "source": []
  },
  {
   "cell_type": "code",
   "execution_count": 84,
   "metadata": {},
   "outputs": [
    {
     "name": "stdout",
     "output_type": "stream",
     "text": [
      "0.007513523101806641\n"
     ]
    }
   ],
   "source": [
    "# for datasetElem in datasetList:\n",
    "\n",
    "datasetElem = datasetList[0]\n",
    "datasetContentUrl = datasetElem.contentUrl\n",
    "if 'http' in datasetContentUrl:\n",
    "\tpass\n",
    "elif 'file:' in datasetContentUrl:\n",
    "\t# create a path to the file specified by the dataset metadata \n",
    "\tsourcePath = pathlib.Path(datasetElem.contentUrl.lstrip('file:///'))\n",
    "\tdatasetFilePath = extractedContentsFolder / sourcePath.name\n",
    "\n",
    "# check that path exists in the crate\n",
    "if not datasetFilePath.exists():\n",
    "\tpass\n",
    "\n",
    "\n",
    "\n",
    "uploadPath = pathlib.PurePosixPath(fairscapeConfig.minio.default_bucket_path) / userCN / 'datasets' / sourcePath\n",
    "\n",
    "datasetUploadStart = time.time()\n",
    "# upload the file \n",
    "uploadResult = uploadLocalFileMinio(\n",
    "\t\tminioClient=minioClient, \n",
    "\t\tbucketName=fairscapeConfig.minio.default_bucket, \t\n",
    "\t\tobjectName=str(uploadPath),\n",
    "\t\tfilePath=str(datasetFilePath),\n",
    "\t\tmetadata={\"guid\": datasetElem.guid, \"owner\": userCN}\n",
    "\t\t)\n",
    "\n",
    "datasetUploadEnd = time.time()\n",
    "\n",
    "uploadDuration = datasetUploadEnd - datasetUploadStart\n",
    "print(uploadDuration)\n",
    "\n",
    "\n",
    "# create a distribution for the dataset\n",
    "datasetDistribution = FairscapeDataDistribution(\n",
    "\tdistributionType = 'minio',\n",
    "\tobjectPath=str(uploadPath),\n",
    "\tobjectBucket=fairscapeConfig.minio.default_bucket\n",
    ")\n",
    "\n",
    "\n",
    "# set contentUrl in metadata to fairscape pointer\n",
    "datasetElem.contentUrl = f\"{fairscapeConfig.url}/dataset/download/{datasetElem.guid}\"\n",
    "\n"
   ]
  },
  {
   "cell_type": "code",
   "execution_count": 79,
   "metadata": {},
   "outputs": [
    {
     "data": {
      "text/plain": [
       "'default/mal8ch/datasets/1.cm4ai_chromatin_mda-mb-468_untreated_apmsloader_initialrun0.1alpha/ppi_gene_node_attributes.tsv'"
      ]
     },
     "execution_count": 79,
     "metadata": {},
     "output_type": "execute_result"
    }
   ],
   "source": [
    "str(pathlib.PurePosixPath(uploadPath))"
   ]
  },
  {
   "cell_type": "code",
   "execution_count": 77,
   "metadata": {},
   "outputs": [
    {
     "data": {
      "text/plain": [
       "WindowsPath('jobs/625d5589-4956-46a7-bc32-d6571dac285c/extracted/1.cm4ai_chromatin_mda-mb-468_untreated_apmsloader_initialrun0.1alpha/ppi_gene_node_attributes.tsv')"
      ]
     },
     "execution_count": 77,
     "metadata": {},
     "output_type": "execute_result"
    }
   ],
   "source": []
  },
  {
   "cell_type": "code",
   "execution_count": 54,
   "metadata": {},
   "outputs": [
    {
     "data": {
      "text/plain": [
       "True"
      ]
     },
     "execution_count": 54,
     "metadata": {},
     "output_type": "execute_result"
    }
   ],
   "source": []
  },
  {
   "cell_type": "code",
   "execution_count": null,
   "metadata": {},
   "outputs": [],
   "source": []
  },
  {
   "cell_type": "code",
   "execution_count": null,
   "metadata": {},
   "outputs": [],
   "source": [
    "# mint datasets"
   ]
  }
 ],
 "metadata": {
  "kernelspec": {
   "display_name": "Python 3 (ipykernel)",
   "language": "python",
   "name": "python3"
  },
  "language_info": {
   "codemirror_mode": {
    "name": "ipython",
    "version": 3
   },
   "file_extension": ".py",
   "mimetype": "text/x-python",
   "name": "python",
   "nbconvert_exporter": "python",
   "pygments_lexer": "ipython3",
   "version": "3.12.3"
  }
 },
 "nbformat": 4,
 "nbformat_minor": 4
}
