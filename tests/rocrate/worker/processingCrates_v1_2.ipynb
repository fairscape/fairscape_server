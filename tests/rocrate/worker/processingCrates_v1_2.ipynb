{
 "cells": [
  {
   "cell_type": "code",
   "execution_count": 2,
   "metadata": {},
   "outputs": [],
   "source": [
    "# import rocrate models\n",
    "import os\n",
    "import sys\n",
    "\n",
    "#sys.path.insert(0, os.path.abspath(os.path.join(os.path.dirname(__file__), '../')))\n",
    "#os.path.join(os.path.dirname(__file__), '../')\n",
    "srcPath = os.path.abspath('C:\\\\Users\\\\Max\\\\Documents\\\\GitHub\\\\mds_python\\\\src\\\\' )\n",
    "sys.path.insert(0, srcPath)"
   ]
  },
  {
   "cell_type": "code",
   "execution_count": 3,
   "metadata": {},
   "outputs": [],
   "source": [
    "import pathlib\n",
    "from fairscape_mds.config import create_fairscape_config\n",
    "from dotenv import load_dotenv\n",
    "import os\n",
    "\n",
    "load_dotenv(\"../local.env\")\n",
    "\n",
    "fairscapeConfig = create_fairscape_config(os.environ)\n",
    "\n",
    "#ldapConnection = fairscapeConfig.ldap.connectAdmin()\n",
    "#currentUserLDAP = getUserByCN(ldapConnection, userCN)\n",
    "#ldapConnection.unbind()\n",
    "\n",
    "minioClient = fairscapeConfig.minio.CreateClient()\n",
    "mongoClient = fairscapeConfig.mongo.CreateClient()\n",
    "\n",
    "mongoDB = mongoClient[fairscapeConfig.mongo.db]\n",
    "asyncCollection = mongoDB[fairscapeConfig.mongo.async_collection]\n",
    "identifierCollection = mongoDB[fairscapeConfig.mongo.identifier_collection]\n",
    "rocrateCollection = mongoDB[fairscapeConfig.mongo.rocrate_collection]"
   ]
  },
  {
   "cell_type": "code",
   "execution_count": 4,
   "metadata": {},
   "outputs": [
    {
     "name": "stderr",
     "output_type": "stream",
     "text": [
      "c:\\Users\\Max\\anaconda3\\Lib\\site-packages\\paramiko\\transport.py:219: CryptographyDeprecationWarning: Blowfish has been deprecated\n",
      "  \"class\": algorithms.Blowfish,\n"
     ]
    }
   ],
   "source": [
    "import fairscape_mds.models.rocrate as rocrate"
   ]
  },
  {
   "cell_type": "code",
   "execution_count": null,
   "metadata": {},
   "outputs": [],
   "source": []
  },
  {
   "cell_type": "code",
   "execution_count": 5,
   "metadata": {},
   "outputs": [],
   "source": [
    "import timeit\n",
    "import uuid\n",
    "import pathlib\n",
    "import shutil\n",
    "import zipfile\n",
    "import json\n",
    "import minio\n",
    "import urllib.parse"
   ]
  },
  {
   "cell_type": "code",
   "execution_count": 55,
   "metadata": {},
   "outputs": [],
   "source": [
    "def uploadLocalFileMinio(\n",
    "\tminioClient: minio.Minio, \n",
    "\tbucketName: str, \n",
    "\tobjectName: str, \n",
    "\tfilePath: str, \n",
    "\tmetadata: dict= None):\n",
    "\tuploadResult = minioClient.fput_object(\n",
    "\t\t\tbucket_name= bucketName,\n",
    "\t\t\tobject_name=objectName,\n",
    "\t\t\tfile_path=filePath,\n",
    "\t\t\tmetadata=metadata\n",
    "\t\t)\n",
    "\treturn uploadResult"
   ]
  },
  {
   "cell_type": "code",
   "execution_count": null,
   "metadata": {},
   "outputs": [],
   "source": []
  },
  {
   "cell_type": "markdown",
   "metadata": {},
   "source": [
    "## In Memory Approach\n",
    "\n",
    "1. get transaction folder\n",
    "2. extract metadata\n",
    "3. validate metadata\n",
    "4. extract all datasets\n",
    "5. upload extracted datasets\n",
    "6. mint metadata\n",
    "\n",
    "### Seperate Job for updating archive\n",
    "\n",
    "1. create transaction folder\n",
    "2. unzip archive \n",
    "3. get metadata for rocrate"
   ]
  },
  {
   "cell_type": "code",
   "execution_count": null,
   "metadata": {},
   "outputs": [],
   "source": [
    "# mock the transaction\n",
    "\n",
    "# given rocrate\n",
    "rocrateFolder = pathlib.Path(\"D:\\Work\\Data\\Dataverse-Uploaded\\crates_format_1.2\")\n",
    "\n",
    "testROCrate = rocrateFolder / \"1.cm4ai_chromatin_mda-mb-468_untreated_apmsloader_initialrun0.1alpha.zip\"\n",
    "\n",
    "# mock user CN\n",
    "userCN = 'mal8ch'\n",
    "\n",
    "# mock uuid\n",
    "transactionID = str(uuid.uuid4())\n",
    "\n",
    "# upload local crate to minio\n",
    "uploadPath = pathlib.PurePosixPath(fairscapeConfig.minio.default_bucket_path) / userCN / 'rocrates' / str(transactionID) / testROCrate.name\n",
    "\n"
   ]
  },
  {
   "cell_type": "code",
   "execution_count": 9,
   "metadata": {},
   "outputs": [],
   "source": [
    "mockUpload = minioClient.fput_object(\n",
    "\tbucket_name=fairscapeConfig.minio.default_bucket, \t\n",
    "\tobject_name=str(uploadPath),\n",
    "\tfile_path=str(testROCrate),\n",
    "\tmetadata={\"owner\": userCN}\n",
    ")"
   ]
  },
  {
   "cell_type": "code",
   "execution_count": 10,
   "metadata": {},
   "outputs": [
    {
     "data": {
      "text/plain": [
       "'79cc44603e7c0395570276a51eb88f3d'"
      ]
     },
     "execution_count": 10,
     "metadata": {},
     "output_type": "execute_result"
    }
   ],
   "source": [
    "mockUpload.etag"
   ]
  },
  {
   "cell_type": "code",
   "execution_count": 11,
   "metadata": {},
   "outputs": [],
   "source": [
    "from zipfile import ZipFile\n",
    "import json"
   ]
  },
  {
   "cell_type": "code",
   "execution_count": 14,
   "metadata": {},
   "outputs": [],
   "source": [
    "# get transaction\n",
    "\n",
    "# get object from minio \n",
    "objectRetrival = minioClient.get_object(\n",
    "\tbucket_name= fairscapeConfig.minio.default_bucket,\n",
    "\tobject_name= str(uploadPath),\n",
    ")\n"
   ]
  },
  {
   "cell_type": "code",
   "execution_count": 16,
   "metadata": {},
   "outputs": [
    {
     "data": {
      "text/plain": [
       "MinioConfig(host='localhost', port='9000', secret_key='miniotestsecret', access_key='miniotestadmin', default_bucket='default', default_bucket_path='default', rocrate_bucket='default', rocrate_bucket_path='rocrate', secure=False, cert_check=False)"
      ]
     },
     "execution_count": 16,
     "metadata": {},
     "output_type": "execute_result"
    }
   ],
   "source": [
    "fairscapeConfig.minio"
   ]
  },
  {
   "cell_type": "code",
   "execution_count": 13,
   "metadata": {},
   "outputs": [],
   "source": [
    "import pydantic\n",
    "import boto3\n",
    "from botocore.client import Config"
   ]
  },
  {
   "cell_type": "code",
   "execution_count": 14,
   "metadata": {},
   "outputs": [],
   "source": [
    "# Create S3 Client with support for reading files from Zips\n",
    "\n",
    "s3 = boto3.client('s3',\n",
    "\tendpoint_url=\"http://localhost:9000\",\n",
    "\taws_access_key_id=fairscapeConfig.minio.access_key,\n",
    "\taws_secret_access_key=fairscapeConfig.minio.secret_key,\n",
    "\tconfig=Config(signature_version='s3v4'),\n",
    "\tregion_name='us-east-1'\n",
    ")\n",
    "\n",
    "def _add_header(request, **kwargs):\n",
    "\trequest.headers.add_header('x-minio-extract', 'true')\n",
    "\n",
    "event_system = s3.meta.events\n",
    "event_system.register_first('before-sign.s3.*', _add_header)\n",
    "\n"
   ]
  },
  {
   "cell_type": "code",
   "execution_count": 15,
   "metadata": {},
   "outputs": [],
   "source": [
    "# upload with headers x-minio-extract\n",
    "s3.delete_object(\n",
    "\tBucket=fairscapeConfig.minio.default_bucket,\n",
    "\tKey=str(uploadPath)\t\n",
    ")\n",
    "\n",
    "with testROCrate.open('rb') as uploadFile:\n",
    "\ts3.upload_fileobj(\n",
    "\t\tBucket=fairscapeConfig.minio.default_bucket,\n",
    "\t\tKey=str(uploadPath),\n",
    "\t\tFileobj=uploadFile,\n",
    "\t\tExtraArgs={'ContentType' :'application/zip'}\n",
    "\t)"
   ]
  },
  {
   "cell_type": "code",
   "execution_count": null,
   "metadata": {},
   "outputs": [],
   "source": []
  },
  {
   "cell_type": "code",
   "execution_count": 16,
   "metadata": {},
   "outputs": [],
   "source": [
    "# list zip contents\n",
    "response = s3.list_objects_v2(\n",
    "\tBucket=fairscapeConfig.minio.default_bucket,\n",
    "\tPrefix=str(uploadPath) + \"/\" \n",
    "\t)"
   ]
  },
  {
   "cell_type": "code",
   "execution_count": 17,
   "metadata": {},
   "outputs": [],
   "source": [
    "zipCrateContents = response['Contents']"
   ]
  },
  {
   "cell_type": "code",
   "execution_count": 19,
   "metadata": {},
   "outputs": [
    {
     "data": {
      "text/plain": [
       "[{'Key': 'default/mal8ch/uploads/fed6910d-6b1c-4052-8a74-a5fa6061edda/1.cm4ai_chromatin_mda-mb-468_untreated_apmsloader_initialrun0.1alpha.zip/1.cm4ai_chromatin_mda-mb-468_untreated_apmsloader_initialrun0.1alpha/error.log',\n",
       "  'LastModified': datetime.datetime(2025, 3, 11, 15, 49, 17, 871000, tzinfo=tzutc()),\n",
       "  'ETag': '',\n",
       "  'Size': 1237,\n",
       "  'StorageClass': 'STANDARD'},\n",
       " {'Key': 'default/mal8ch/uploads/fed6910d-6b1c-4052-8a74-a5fa6061edda/1.cm4ai_chromatin_mda-mb-468_untreated_apmsloader_initialrun0.1alpha.zip/1.cm4ai_chromatin_mda-mb-468_untreated_apmsloader_initialrun0.1alpha/output.log',\n",
       "  'LastModified': datetime.datetime(2025, 3, 11, 15, 49, 17, 871000, tzinfo=tzutc()),\n",
       "  'ETag': '',\n",
       "  'Size': 10584,\n",
       "  'StorageClass': 'STANDARD'},\n",
       " {'Key': 'default/mal8ch/uploads/fed6910d-6b1c-4052-8a74-a5fa6061edda/1.cm4ai_chromatin_mda-mb-468_untreated_apmsloader_initialrun0.1alpha.zip/1.cm4ai_chromatin_mda-mb-468_untreated_apmsloader_initialrun0.1alpha/ppi_edgelist.tsv',\n",
       "  'LastModified': datetime.datetime(2025, 3, 11, 15, 49, 17, 871000, tzinfo=tzutc()),\n",
       "  'ETag': '',\n",
       "  'Size': 42994,\n",
       "  'StorageClass': 'STANDARD'},\n",
       " {'Key': 'default/mal8ch/uploads/fed6910d-6b1c-4052-8a74-a5fa6061edda/1.cm4ai_chromatin_mda-mb-468_untreated_apmsloader_initialrun0.1alpha.zip/1.cm4ai_chromatin_mda-mb-468_untreated_apmsloader_initialrun0.1alpha/ppi_gene_node_attributes.errors',\n",
       "  'LastModified': datetime.datetime(2025, 3, 11, 15, 49, 17, 871000, tzinfo=tzutc()),\n",
       "  'ETag': '',\n",
       "  'Size': 0,\n",
       "  'StorageClass': 'STANDARD'},\n",
       " {'Key': 'default/mal8ch/uploads/fed6910d-6b1c-4052-8a74-a5fa6061edda/1.cm4ai_chromatin_mda-mb-468_untreated_apmsloader_initialrun0.1alpha.zip/1.cm4ai_chromatin_mda-mb-468_untreated_apmsloader_initialrun0.1alpha/ppi_gene_node_attributes.tsv',\n",
       "  'LastModified': datetime.datetime(2025, 3, 11, 15, 49, 17, 871000, tzinfo=tzutc()),\n",
       "  'ETag': '',\n",
       "  'Size': 55182,\n",
       "  'StorageClass': 'STANDARD'},\n",
       " {'Key': 'default/mal8ch/uploads/fed6910d-6b1c-4052-8a74-a5fa6061edda/1.cm4ai_chromatin_mda-mb-468_untreated_apmsloader_initialrun0.1alpha.zip/1.cm4ai_chromatin_mda-mb-468_untreated_apmsloader_initialrun0.1alpha/ro-crate-metadata.json',\n",
       "  'LastModified': datetime.datetime(2025, 3, 11, 15, 49, 17, 871000, tzinfo=tzutc()),\n",
       "  'ETag': '',\n",
       "  'Size': 12206,\n",
       "  'StorageClass': 'STANDARD'},\n",
       " {'Key': 'default/mal8ch/uploads/fed6910d-6b1c-4052-8a74-a5fa6061edda/1.cm4ai_chromatin_mda-mb-468_untreated_apmsloader_initialrun0.1alpha.zip/1.cm4ai_chromatin_mda-mb-468_untreated_apmsloader_initialrun0.1alpha/task_1693531442_finish.json',\n",
       "  'LastModified': datetime.datetime(2025, 3, 11, 15, 49, 17, 871000, tzinfo=tzutc()),\n",
       "  'ETag': '',\n",
       "  'Size': 66,\n",
       "  'StorageClass': 'STANDARD'},\n",
       " {'Key': 'default/mal8ch/uploads/fed6910d-6b1c-4052-8a74-a5fa6061edda/1.cm4ai_chromatin_mda-mb-468_untreated_apmsloader_initialrun0.1alpha.zip/1.cm4ai_chromatin_mda-mb-468_untreated_apmsloader_initialrun0.1alpha/task_1693531442_start.json',\n",
       "  'LastModified': datetime.datetime(2025, 3, 11, 15, 49, 17, 871000, tzinfo=tzutc()),\n",
       "  'ETag': '',\n",
       "  'Size': 1368,\n",
       "  'StorageClass': 'STANDARD'}]"
      ]
     },
     "execution_count": 19,
     "metadata": {},
     "output_type": "execute_result"
    }
   ],
   "source": [
    "zipCrateContents"
   ]
  },
  {
   "cell_type": "code",
   "execution_count": 18,
   "metadata": {},
   "outputs": [
    {
     "ename": "NameError",
     "evalue": "name 'zippedMetadataKey' is not defined",
     "output_type": "error",
     "traceback": [
      "\u001b[1;31m---------------------------------------------------------------------------\u001b[0m",
      "\u001b[1;31mNameError\u001b[0m                                 Traceback (most recent call last)",
      "Cell \u001b[1;32mIn[18], line 1\u001b[0m\n\u001b[1;32m----> 1\u001b[0m zippedMetadataKey\n",
      "\u001b[1;31mNameError\u001b[0m: name 'zippedMetadataKey' is not defined"
     ]
    }
   ],
   "source": [
    "zippedMetadataKey"
   ]
  },
  {
   "cell_type": "code",
   "execution_count": null,
   "metadata": {},
   "outputs": [],
   "source": []
  },
  {
   "cell_type": "code",
   "execution_count": 167,
   "metadata": {},
   "outputs": [],
   "source": [
    "# find the rocrate within a zip\n",
    "zippedMetadataKey = uploadPath / uploadPath.name.rstrip('.zip') / 'ro-crate-metadata.json'\n",
    "\n",
    "try:\n",
    "\tmetadataResponse = s3.get_object(\n",
    "\t\tBucket=fairscapeConfig.minio.default_bucket,\n",
    "\t\tKey=str(zippedMetadataKey),\n",
    "\t)\n",
    "\n",
    "# TODO handle no such key error\n",
    "except s3.exceptions.NoSuchKey as err:\n",
    "\n",
    "\t# Update Transaction\n",
    "\tprint(err)\n",
    "\n",
    "\n",
    "try:\n",
    "\tmetadataContent = metadataResponse['Body'].read()\n",
    "\tmetadataJSON = json.loads(metadataContent)\n",
    "\n",
    "# TODO more specific exceptions\n",
    "except:\n",
    "\n",
    "\t# TODO update the transaction\n",
    "\tpass"
   ]
  },
  {
   "cell_type": "code",
   "execution_count": 1,
   "metadata": {},
   "outputs": [
    {
     "ename": "NameError",
     "evalue": "name 'ROCrateV1_2' is not defined",
     "output_type": "error",
     "traceback": [
      "\u001b[1;31m---------------------------------------------------------------------------\u001b[0m",
      "\u001b[1;31mNameError\u001b[0m                                 Traceback (most recent call last)",
      "Cell \u001b[1;32mIn[1], line 5\u001b[0m\n\u001b[0;32m      2\u001b[0m \t\u001b[38;5;28;01mif\u001b[39;00m \u001b[38;5;124m\"\u001b[39m\u001b[38;5;124mhttp\u001b[39m\u001b[38;5;124m\"\u001b[39m \u001b[38;5;129;01min\u001b[39;00m metadata\u001b[38;5;241m.\u001b[39mguid:\n\u001b[0;32m      3\u001b[0m \t\tmetadata\u001b[38;5;241m.\u001b[39mguid \u001b[38;5;241m=\u001b[39m urllib\u001b[38;5;241m.\u001b[39mparse\u001b[38;5;241m.\u001b[39murlparse(metadata\u001b[38;5;241m.\u001b[39mguid)\u001b[38;5;241m.\u001b[39mpath\u001b[38;5;241m.\u001b[39mlstrip(\u001b[38;5;124m'\u001b[39m\u001b[38;5;124m/\u001b[39m\u001b[38;5;124m'\u001b[39m)\n\u001b[1;32m----> 5\u001b[0m \u001b[38;5;28;01mdef\u001b[39;00m \u001b[38;5;21mcleanIdentifiers\u001b[39m(crate: ROCrateV1_2):\n\u001b[0;32m      6\u001b[0m \trocrateMetadata \u001b[38;5;241m=\u001b[39m crate\u001b[38;5;241m.\u001b[39mgetCrateMetadata()\n\u001b[0;32m      8\u001b[0m \t\u001b[38;5;66;03m#clean ROCrate metadata identifier\u001b[39;00m\n",
      "\u001b[1;31mNameError\u001b[0m: name 'ROCrateV1_2' is not defined"
     ]
    }
   ],
   "source": [
    "def cleanGUID(metadata):\n",
    "\tif \"http\" in metadata.guid:\n",
    "\t\tmetadata.guid = urllib.parse.urlparse(metadata.guid).path.lstrip('/')\n",
    "\n",
    "def cleanIdentifiers(crate: ROCrateV1_2):\n",
    "\trocrateMetadata = crate.getCrateMetadata()\n",
    "\n",
    "\t#clean ROCrate metadata identifier\n",
    "\tcleanGUID(rocrateMetadata)\n",
    "\n",
    "\t\n",
    "\t# clean identifiers\n",
    "\tfor elem in crate.getEVIElements():\n",
    "\t\tcleanGUID(elem)\n",
    "\n",
    "\t\tif isinstance(elem, ROCrateDataset):\n",
    "\t\t\t# usedByComputation\n",
    "\t\t\tfor usedByComputation in elem.usedByComputation:\n",
    "\t\t\t\tcleanGUID(usedByComputation)\n",
    "\t\t\t\n",
    "\t\t\t# generatedBy\n",
    "\t\t\tfor generatedBy in elem.generatedBy:\n",
    "\t\t\t\tcleanGUID(generatedBy)\n",
    "\n",
    "\t\tif isinstance(elem, ROCrateSoftware):\n",
    "\t\t\tfor usedByElem in elem.usedByComputation:\n",
    "\t\t\t\tcleanGUID(usedByElem)\n",
    "\n",
    "\t\tif isinstance(elem, ROCrateComputation):\n",
    "\t\t\t#elem.usedDataset\n",
    "\t\t\tfor usedDataset in elem.usedDataset:\n",
    "\t\t\t\tcleanGUID(usedDataset)\n",
    "\t\t\t#elem.generated\n",
    "\t\t\tfor generated in elem.generated:\n",
    "\t\t\t\tcleanGUID(generated)\n",
    "\t\t\t#elem.usedSoftware\n",
    "\t\t\tfor usedSoftware in elem.usedSoftware:\n",
    "\t\t\t\tcleanGUID(usedSoftware)\n",
    "\n",
    "\n",
    "def processMetadataIsPartOf(crate: ROCrateV1_2):\n",
    "\teviElements = crate.getEVIElements()\n",
    "\trocrateRootElem = crateModel.getCrateMetadata()\n",
    "\n",
    "\trocrateRootElem.hasPart = [ IdentifierValue.model_validate({\"@id\": x.guid}) for x in eviElements]\n",
    "\n",
    "\t# set inverse relation\n",
    "\telemIsPartOf = IdentifierValue.model_validate({\"@id\": rocrateRootElem.guid})\n",
    "\tfor elem in eviElements:\n",
    "\t\telem.isPartOf = elemIsPartOf\n",
    "\n",
    "def processMetadata(crate: ROCrateV1_2):\n",
    "\tpass"
   ]
  },
  {
   "cell_type": "code",
   "execution_count": null,
   "metadata": {},
   "outputs": [],
   "source": []
  },
  {
   "cell_type": "code",
   "execution_count": null,
   "metadata": {},
   "outputs": [],
   "source": []
  },
  {
   "cell_type": "code",
   "execution_count": null,
   "metadata": {},
   "outputs": [],
   "source": []
  },
  {
   "cell_type": "code",
   "execution_count": 168,
   "metadata": {},
   "outputs": [],
   "source": [
    "# validate json \n",
    "try:\n",
    "\tmetadata = rocrate.ROCrateV1_2.model_validate(metadataJSON)\n",
    "\n",
    "except pydantic.ValidationError as err:\n",
    "\n",
    "\t#TODO: handle pydantic validation errors\n",
    "\n",
    "\n",
    "\t#TODO: update transaction with metadata validation failure\n",
    "\tvalidationErrors = err.errors()\n",
    "\tpass\n",
    "\n",
    "#\n"
   ]
  },
  {
   "cell_type": "code",
   "execution_count": null,
   "metadata": {},
   "outputs": [],
   "source": []
  },
  {
   "cell_type": "code",
   "execution_count": 183,
   "metadata": {},
   "outputs": [],
   "source": [
    "#zipCrateContents"
   ]
  },
  {
   "cell_type": "code",
   "execution_count": null,
   "metadata": {},
   "outputs": [],
   "source": [
    "\n",
    "datasets = metadata.getDatasets()\n",
    "testDataset = datasets[0]"
   ]
  },
  {
   "cell_type": "code",
   "execution_count": 190,
   "metadata": {},
   "outputs": [],
   "source": [
    "\n",
    "# match dataset element to file inside zip\n",
    "# TODO: deal with non unique matches\n",
    "\n",
    "datasetFileKey = testDataset.contentUrl.lstrip('file:///')\n",
    "datasetS3Match = next(filter(lambda x: datasetFileKey in x.get('Key'), zipCrateContents))\n",
    "\n",
    " \n",
    "datasetS3Key = datasetS3Match['Key']\n",
    "#[ datasetElem for datasetElem in zipCrateContents if datasetFileKey in datasetElem.get('Key')]"
   ]
  },
  {
   "cell_type": "code",
   "execution_count": 193,
   "metadata": {},
   "outputs": [
    {
     "data": {
      "text/plain": [
       "'default/mal8ch/uploads/78e44abb-f967-4067-bfed-5a43426f4e13/1.cm4ai_chromatin_mda-mb-468_untreated_apmsloader_initialrun0.1alpha.zip/1.cm4ai_chromatin_mda-mb-468_untreated_apmsloader_initialrun0.1alpha/ppi_gene_node_attributes.tsv'"
      ]
     },
     "execution_count": 193,
     "metadata": {},
     "output_type": "execute_result"
    }
   ],
   "source": [
    "datasetS3Key"
   ]
  },
  {
   "cell_type": "markdown",
   "metadata": {},
   "source": [
    "### Copy Object from Zip to other Minio Object"
   ]
  },
  {
   "cell_type": "code",
   "execution_count": 197,
   "metadata": {},
   "outputs": [],
   "source": [
    "# Can't Copy Objects from within Zips\n",
    "userDatasetPaths = pathlib.PurePosixPath(fairscapeConfig.minio.default_bucket_path) / userCN / 'datasets' \n",
    "newKey = userDatasetPaths / datasetFileKey\n",
    "\n",
    "copy_source = {\n",
    "\t'Bucket': fairscapeConfig.minio.default_bucket,\n",
    "\t'Key': datasetS3Key\n",
    "}\n",
    "\n",
    "try:\n",
    "\ts3.copy_object(CopySource=copy_source, Bucket=fairscapeConfig.minio.default_bucket, Key=str(newKey))\n",
    "except:\n",
    "\tpass\n",
    "\n"
   ]
  },
  {
   "cell_type": "code",
   "execution_count": null,
   "metadata": {},
   "outputs": [],
   "source": [
    "# get file contents\n",
    "\n",
    "\n"
   ]
  },
  {
   "cell_type": "code",
   "execution_count": null,
   "metadata": {},
   "outputs": [],
   "source": [
    "# upload new object"
   ]
  },
  {
   "cell_type": "code",
   "execution_count": null,
   "metadata": {},
   "outputs": [],
   "source": [
    "# add distribution information to Dataset Element"
   ]
  },
  {
   "cell_type": "markdown",
   "metadata": {},
   "source": [
    "## In Filesystem approach\n",
    "1. create transaction folder\n",
    "2. copy crate to local directory\n",
    "3. unzip contents into transaction folder\n",
    "4. process metadata\n",
    "5. upload extracted datasets\n",
    "6. replace ro-crate-metadata.json\n",
    "7. zip up and upload archive"
   ]
  },
  {
   "cell_type": "markdown",
   "metadata": {},
   "source": [
    "## Mocking the Transaction\n",
    "\n",
    "1. create transaction folder\n",
    "2. Copy crate to local directory\n",
    "3. Unzip contents in transaction folder\n",
    "4. process metadata\n",
    "5. upload extracted datasets\n",
    "6. replace ro-crate-metadata.json\n",
    "7. zip up and upload archive"
   ]
  },
  {
   "cell_type": "code",
   "execution_count": 7,
   "metadata": {},
   "outputs": [],
   "source": [
    "# mock user CN\n",
    "userCN = 'mal8ch'"
   ]
  },
  {
   "cell_type": "code",
   "execution_count": 8,
   "metadata": {},
   "outputs": [],
   "source": [
    "# mock a transaction uuid\n",
    "transactionID = str(uuid.uuid4())\n",
    "\n",
    "# create a folder for jobs\n",
    "jobsFolder = pathlib.Path(\"jobs/\")\n",
    "jobsFolder.mkdir(exist_ok=True)\n",
    "\n",
    "# create a folder for this transaction\n",
    "transactionFolder = jobsFolder / transactionID\n",
    "transactionFolder.mkdir(exist_ok=True)"
   ]
  },
  {
   "cell_type": "code",
   "execution_count": 9,
   "metadata": {},
   "outputs": [],
   "source": [
    "extractFolder = transactionFolder / 'extracted'"
   ]
  },
  {
   "cell_type": "code",
   "execution_count": 10,
   "metadata": {},
   "outputs": [
    {
     "data": {
      "text/plain": [
       "'jobs\\\\91e12cb3-f796-4203-ad40-f490f7b3006c\\\\1.cm4ai_chromatin_mda-mb-468_untreated_apmsloader_initialrun0.1alpha.zip'"
      ]
     },
     "execution_count": 10,
     "metadata": {},
     "output_type": "execute_result"
    }
   ],
   "source": [
    "# mock copy to transaction directory\n",
    "zippedCratePath = transactionFolder / testROCrate.name\n",
    "\n",
    "shutil.copyfile(\n",
    "\tstr(testROCrate),\n",
    "\tstr(zippedCratePath)\n",
    ")\n"
   ]
  },
  {
   "cell_type": "code",
   "execution_count": 11,
   "metadata": {},
   "outputs": [],
   "source": [
    "crateFolderName = zippedCratePath.name.strip(zippedCratePath.suffix)"
   ]
  },
  {
   "cell_type": "code",
   "execution_count": 12,
   "metadata": {},
   "outputs": [],
   "source": [
    "# unzip the archive \n",
    "with zippedCratePath.open('rb') as zippedCrateFileObj:\n",
    "\tzipCrate = zipfile.ZipFile(zippedCrateFileObj)\n",
    "\tzipCrate.extractall(path=str(extractFolder))"
   ]
  },
  {
   "cell_type": "code",
   "execution_count": 13,
   "metadata": {},
   "outputs": [],
   "source": [
    "# extract the metadata\n",
    "extractedContentsFolder = extractFolder / crateFolderName\n",
    "metadataFilePath = extractedContentsFolder / 'ro-crate-metadata.json'\n",
    "with metadataFilePath.open(\"r\") as crateMetadataFileObj:\n",
    "\tcrateMetadataJSON = json.load(crateMetadataFileObj)\n",
    "\n",
    "# parse metadata into pydantic model\n",
    "fullCrateModel = ROCrateV1_2.model_validate(crateMetadataJSON)"
   ]
  },
  {
   "cell_type": "code",
   "execution_count": null,
   "metadata": {},
   "outputs": [],
   "source": [
    "# add schema models to ROCrateV1_2 pydantic model metadataGraph Union\n",
    "# also look for schemas within the ROCrate before looking for Schemas in minio"
   ]
  },
  {
   "cell_type": "code",
   "execution_count": 14,
   "metadata": {},
   "outputs": [],
   "source": [
    "def cleanGUID(metadata):\n",
    "\tif \"http\" in metadata.guid:\n",
    "\t\tmetadata.guid = urllib.parse.urlparse(metadata.guid).path.lstrip('/')\n",
    "\n",
    "def cleanIdentifiers(crate: ROCrateV1_2):\n",
    "\trocrateMetadata = crate.getCrateMetadata()\n",
    "\n",
    "\t#clean ROCrate metadata identifier\n",
    "\tcleanGUID(rocrateMetadata)\n",
    "\n",
    "\t\n",
    "\t# clean identifiers\n",
    "\tfor elem in crate.getEVIElements():\n",
    "\t\tcleanGUID(elem)\n",
    "\n",
    "\t\tif isinstance(elem, ROCrateDataset):\n",
    "\t\t\t# usedByComputation\n",
    "\t\t\tfor usedByComputation in elem.usedByComputation:\n",
    "\t\t\t\tcleanGUID(usedByComputation)\n",
    "\t\t\t\n",
    "\t\t\t# generatedBy\n",
    "\t\t\tfor generatedBy in elem.generatedBy:\n",
    "\t\t\t\tcleanGUID(generatedBy)\n",
    "\n",
    "\t\tif isinstance(elem, ROCrateSoftware):\n",
    "\t\t\tfor usedByElem in elem.usedByComputation:\n",
    "\t\t\t\tcleanGUID(usedByElem)\n",
    "\n",
    "\t\tif isinstance(elem, ROCrateComputation):\n",
    "\t\t\t#elem.usedDataset\n",
    "\t\t\tfor usedDataset in elem.usedDataset:\n",
    "\t\t\t\tcleanGUID(usedDataset)\n",
    "\t\t\t#elem.generated\n",
    "\t\t\tfor generated in elem.generated:\n",
    "\t\t\t\tcleanGUID(generated)\n",
    "\t\t\t#elem.usedSoftware\n",
    "\t\t\tfor usedSoftware in elem.usedSoftware:\n",
    "\t\t\t\tcleanGUID(usedSoftware)\n",
    "\n",
    "\n",
    "def processMetadataIsPartOf(crate: ROCrateV1_2):\n",
    "\teviElements = crate.getEVIElements()\n",
    "\trocrateRootElem = crateModel.getCrateMetadata()\n",
    "\n",
    "\trocrateRootElem.hasPart = [ IdentifierValue.model_validate({\"@id\": x.guid}) for x in eviElements]\n",
    "\n",
    "\t# set inverse relation\n",
    "\telemIsPartOf = IdentifierValue.model_validate({\"@id\": rocrateRootElem.guid})\n",
    "\tfor elem in eviElements:\n",
    "\t\telem.isPartOf = elemIsPartOf\n",
    "\n",
    "def processMetadata(crate: ROCrateV1_2):\n",
    "\tpass"
   ]
  },
  {
   "cell_type": "code",
   "execution_count": 19,
   "metadata": {},
   "outputs": [
    {
     "data": {
      "text/plain": [
       "'{\"@context\":{\"EVI\":\"https://w3id.org/EVI#\",\"@vocab\":\"https://schema.org/\"},\"@graph\":[{\"@id\":\"ro-crate-metadata.json\",\"@type\":\"CreativeWork\",\"conformsTo\":{\"@id\":\"https://w3id.org/ro/crate/1.2-DRAFT\"},\"about\":{\"@id\":\"https://fairscape.net/ark:59852/rocrate-1.cm4ai_chromatin_mda-mb-468_untreated_apmsloader_initialrun0.1alpha\"}},{\"@id\":\"ark:59852/rocrate-1.cm4ai_chromatin_mda-mb-468_untreated_apmsloader_initialrun0.1alpha\",\"@type\":[\"Dataset\",\"https://w3id.org/EVI#ROCrate\"],\"name\":\"Initial integration run\",\"keywords\":[\"Ideker Lab\",\"CM4AI\",\"0.1 alpha\",\"MDA-MB-468\",\"untreated\",\"chromatin\",\"Initial integration run\",\"AP-MS edgelist download\"],\"isPartOf\":[{\"@id\":\"ark:/Ideker_Lab\"},{\"@id\":\"ark:/Ideker_Lab/CM4AI\"}],\"version\":\"0.5alpha\",\"license\":\"https://creativecommons.org/licenses/by-nc-sa/4.0/deed.en\",\"associatedPublication\":\"Clark T, Schaffer L, Obernier K, Al Manir S, Churas CP, Dailamy A, Doctor Y, Forget A, Hansen JN, Hu M, Lenkiewicz J, Levinson MA, Marquez C, Mohan J, Nourreddine S, Niestroy J, Pratt D, Qian G, Thaker S, Belisle-Pipon J-C, Brandt C, Chen J, Ding Y, Fodeh S, Krogan N, Lundberg E, Mali P, Payne-Foster P, Ratcliffe S, Ravitsky V, Sali A, Schulz W, Ideker T. Cell Maps for Artificial Intelligence: AI-Ready Maps of Human Cell Architecture from Disease-Relevant Cell Lines. BioRXiv 2024.\",\"author\":[\"Clark T\",\"Schaffer L\",\"Obernier K\",\"Al Manir S\",\"Churas CP\",\"Dailamy A\",\"Doctor Y\",\"Forget A\",\"Hansen JN\",\"Hu M\",\"Lenkiewicz J\",\"Levinson MA\",\"Marquez C\",\"Mohan J\",\"Nourreddine S\",\"Niestroy J\",\"Pratt D\",\"Qian G\",\"Thaker S\",\"Belisle-Pipon J-C\",\"Brandt C\",\"Chen J\",\"Ding Y\",\"Fodeh S\",\"Krogan N\",\"Lundberg E\",\"Mali P\",\"Payne-Foster P\",\"Ratcliffe S\",\"Ravitsky V\",\"Sali A\",\"Schulz W\",\"Ideker T.\"],\"conditionsOfAccess\":\"This dataset was created by investigators and staff of the Cell Maps for Artificial Intelligence project (CM4AI - https://cm4ai.org), a Data Generation Project of the NIH Bridge2AI program, and is copyright (c) 2024 by The Regents of the University of California and, for cellular imaging data, by The Board of Trustees of the Leland Stanford Junior University. It is licensed for reuse under the Creative Commons Attribution-NonCommercial-ShareAlike 4.0 International (CC-BY-NC-SA 4.0) license, whose terms are summarized here: https://creativecommons.org/licenses/by-nc-sa/4.0/deed.en.  Proper attribution credit as required by the license includes citation of the copyright holders and of the attribution parties, which includes citation of the following article: Clark T, Schaffer L, Obernier K, Al Manir S, Churas CP, Dailamy A, Doctor Y, Forget A, Hansen JN, Hu M, Lenkiewicz J, Levinson MA, Marquez C, Mohan J, Nourreddine S, Niestroy J, Pratt D, Qian G, Thaker S, Belisle-Pipon J-C, Brandt C, Chen J, Ding Y, Fodeh S, Krogan N, Lundberg E, Mali P, Payne-Foster P, Ratcliffe S, Ravitsky V, Sali A, Schulz W, Ideker T. Cell Maps for Artificial Intelligence: AI-Ready Maps of Human Cell Architecture from Disease-Relevant Cell Lines. BioRXiv 2024.”\",\"copyrightNotice\":\"Copyright (c) 2024 by The Regents of the University of California\",\"hasPart\":[{\"@id\":\"https://fairscape.net/ark:59852/software-cellmaps_ppidownloader-58sGTge\"},{\"@id\":\"https://fairscape.net/ark:59852/dataset-cellmaps_ppidownloader-output-file-58sGTge\"},{\"@id\":\"https://fairscape.net/ark:59852/computation-AP-MS-Loader-58sGTge\"}]},{\"@id\":\"ark:59852/software-cellmaps_ppidownloader-58sGTge\",\"metadataType\":\"https://w3id.org/EVI#Software\",\"additionalType\":\"Software\",\"author\":\"Clark T, Schaffer L, Obernier K, Al Manir S, Churas CP, Dailamy A, Doctor Y, Forget A, Hansen JN, Hu M, Lenkiewicz J, Levinson MA, Marquez C, Mohan J, Nourreddine S, Niestroy J, Pratt D, Qian G, Thaker S, Belisle-Pipon J-C, Brandt C, Chen J, Ding Y, Fodeh S, Krogan N, Lundberg E, Mali P, Payne-Foster P, Ratcliffe S, Ravitsky V, Sali A, Schulz W, Ideker T.\",\"dateModified\":\"2023-08-31\",\"version\":\"0.5alpha\",\"description\":\"Ideker Lab CM4AI 0.1 alpha MDA-MB-468 untreated chromatin Initial integration run AP-MS Edgelist A tool to download AP-MS data for Cell Maps pipeline\",\"associatedPublication\":\"Clark T, Schaffer L, Obernier K, Al Manir S, Churas CP, Dailamy A, Doctor Y, Forget A, Hansen JN, Hu M, Lenkiewicz J, Levinson MA, Marquez C, Mohan J, Nourreddine S, Niestroy J, Pratt D, Qian G, Thaker S, Belisle-Pipon J-C, Brandt C, Chen J, Ding Y, Fodeh S, Krogan N, Lundberg E, Mali P, Payne-Foster P, Ratcliffe S, Ravitsky V, Sali A, Schulz W, Ideker T. Cell Maps for Artificial Intelligence: AI-Ready Maps of Human Cell Architecture from Disease-Relevant Cell Lines. BioRXiv 2024.\",\"additionalDocumentation\":null,\"format\":\"py\",\"usedByComputation\":[],\"contentUrl\":\"https://github.com/idekerlab/cellmaps_ppidownloader\"},{\"@id\":\"ark:59852/dataset-cellmaps_ppidownloader-output-file-58sGTge\",\"metadataType\":\"https://w3id.org/EVI#Dataset\",\"additionalType\":\"Dataset\",\"author\":[\"Richa Tiwari\",\"Atoshi Banerjee\",\"Monita Muralidharan\",\"Kristen Obernier\",\"Antoine Forget\",\"Nevan Krogan\"],\"datePublished\":\"2023-08-31\",\"version\":\"0.5alpha\",\"description\":\"Ideker Lab CM4AI 0.1 alpha MDA-MB-468 untreated chromatin Initial integration run AP-MS Edgelist AP-MS gene node attributes file\",\"keywords\":[\"\"],\"associatedPublication\":\"Clark T, Schaffer L, Obernier K, Al Manir S, Churas CP, Dailamy A, Doctor Y, Forget A, Hansen JN, Hu M, Lenkiewicz J, Levinson MA, Marquez C, Mohan J, Nourreddine S, Niestroy J, Pratt D, Qian G, Thaker S, Belisle-Pipon J-C, Brandt C, Chen J, Ding Y, Fodeh S, Krogan N, Lundberg E, Mali P, Payne-Foster P, Ratcliffe S, Ravitsky V, Sali A, Schulz W, Ideker T. Cell Maps for Artificial Intelligence: AI-Ready Maps of Human Cell Architecture from Disease-Relevant Cell Lines. BioRXiv 2024.\",\"additionalDocumentation\":null,\"format\":\"tsv\",\"evi:Schema\":null,\"generatedBy\":[],\"derivedFrom\":[],\"usedByComputation\":[],\"contentUrl\":\"file:///1.cm4ai_chromatin_mda-mb-468_untreated_apmsloader_initialrun0.1alpha/ppi_gene_node_attributes.tsv\"},{\"@id\":\"ark:59852/computation-AP-MS-Loader-58sGTge\",\"metadataType\":\"https://w3id.org/EVI#Computation\",\"additionalType\":\"Computation\",\"runBy\":\"Chris Churas\",\"dateCreated\":\"2023-08-31\",\"associatedPublication\":\"Clark T, Schaffer L, Obernier K, Al Manir S, Churas CP, Dailamy A, Doctor Y, Forget A, Hansen JN, Hu M, Lenkiewicz J, Levinson MA, Marquez C, Mohan J, Nourreddine S, Niestroy J, Pratt D, Qian G, Thaker S, Belisle-Pipon J-C, Brandt C, Chen J, Ding Y, Fodeh S, Krogan N, Lundberg E, Mali P, Payne-Foster P, Ratcliffe S, Ravitsky V, Sali A, Schulz W, Ideker T. Cell Maps for Artificial Intelligence: AI-Ready Maps of Human Cell Architecture from Disease-Relevant Cell Lines. BioRXiv 2024.\",\"additionalDocumentation\":null,\"command\":\"{\\'outdir\\': \\'0.1pipeline/1.cm4ai_chromatin_mda-mb-468_untreated_apmsloader_initialrun0.1alpha\\', \\'cm4ai_table\\': \\'0.1rocrates/cm4ai_chromatin_mda-mb-468_untreated_apms_0.1_alpha/apms.tsv\\', \\'edgelist\\': None, \\'edgelist_geneid_one_col\\': \\'GeneID1\\', \\'edgelist_symbol_one_col\\': \\'Symbol1\\', \\'edgelist_geneid_two_col\\': \\'GeneID2\\', \\'edgelist_symbol_two_col\\': \\'Symbol2\\', \\'baitlist\\': None, \\'baitlist_symbol_col\\': \\'GeneSymbol\\', \\'baitlist_geneid_col\\': \\'GeneID\\', \\'baitlist_numinteractors_col\\': \\'# Interactors\\', \\'provenance\\': \\'ppiprovenance.json\\', \\'logconf\\': None, \\'skip_logging\\': False, \\'verbose\\': 0, \\'program\\': \\'/cellar/users/cchuras/miniconda3/envs/py38/bin/cellmaps_ppidownloadercmd.py\\', \\'version\\': \\'0.1.0a6\\'}\",\"usedSoftware\":[{\"@id\":\"https://fairscape.net/ark:59852/software-cellmaps_ppidownloader-58sGTge\"}],\"usedDataset\":[],\"generated\":[{\"@id\":\"https://fairscape.net/ark:59852/dataset-cellmaps_ppidownloader-output-file-58sGTge\"}]},{\"@id\":\"ark:/Ideker_Lab\",\"@type\":\"Organization\",\"name\":\"Ideker Lab\"},{\"@id\":\"ark:/Ideker_Lab/CM4AI\",\"@type\":\"Project\",\"name\":\"CM4AI\"}]}'"
      ]
     },
     "execution_count": 19,
     "metadata": {},
     "output_type": "execute_result"
    }
   ],
   "source": [
    "fullCrateModel.model_dump_json(by_alias=True)"
   ]
  },
  {
   "cell_type": "code",
   "execution_count": null,
   "metadata": {},
   "outputs": [],
   "source": []
  },
  {
   "cell_type": "code",
   "execution_count": 28,
   "metadata": {},
   "outputs": [],
   "source": []
  },
  {
   "cell_type": "code",
   "execution_count": 29,
   "metadata": {},
   "outputs": [],
   "source": []
  },
  {
   "cell_type": "code",
   "execution_count": 21,
   "metadata": {},
   "outputs": [
    {
     "data": {
      "text/plain": [
       "{'@context': {'EVI': 'https://w3id.org/EVI#', '@vocab': 'https://schema.org/'},\n",
       " '@graph': [{'@id': 'ro-crate-metadata.json',\n",
       "   '@type': 'CreativeWork',\n",
       "   'conformsTo': {'@id': 'https://w3id.org/ro/crate/1.2-DRAFT'},\n",
       "   'about': {'@id': 'https://fairscape.net/ark:59852/rocrate-1.cm4ai_chromatin_mda-mb-468_untreated_apmsloader_initialrun0.1alpha'}},\n",
       "  {'@id': 'ark:59852/rocrate-1.cm4ai_chromatin_mda-mb-468_untreated_apmsloader_initialrun0.1alpha',\n",
       "   '@type': ['Dataset', 'https://w3id.org/EVI#ROCrate'],\n",
       "   'name': 'Initial integration run',\n",
       "   'keywords': ['Ideker Lab',\n",
       "    'CM4AI',\n",
       "    '0.1 alpha',\n",
       "    'MDA-MB-468',\n",
       "    'untreated',\n",
       "    'chromatin',\n",
       "    'Initial integration run',\n",
       "    'AP-MS edgelist download'],\n",
       "   'isPartOf': [{'@id': 'ark:/Ideker_Lab'}, {'@id': 'ark:/Ideker_Lab/CM4AI'}],\n",
       "   'version': '0.5alpha',\n",
       "   'license': 'https://creativecommons.org/licenses/by-nc-sa/4.0/deed.en',\n",
       "   'associatedPublication': 'Clark T, Schaffer L, Obernier K, Al Manir S, Churas CP, Dailamy A, Doctor Y, Forget A, Hansen JN, Hu M, Lenkiewicz J, Levinson MA, Marquez C, Mohan J, Nourreddine S, Niestroy J, Pratt D, Qian G, Thaker S, Belisle-Pipon J-C, Brandt C, Chen J, Ding Y, Fodeh S, Krogan N, Lundberg E, Mali P, Payne-Foster P, Ratcliffe S, Ravitsky V, Sali A, Schulz W, Ideker T. Cell Maps for Artificial Intelligence: AI-Ready Maps of Human Cell Architecture from Disease-Relevant Cell Lines. BioRXiv 2024.',\n",
       "   'author': ['Clark T',\n",
       "    'Schaffer L',\n",
       "    'Obernier K',\n",
       "    'Al Manir S',\n",
       "    'Churas CP',\n",
       "    'Dailamy A',\n",
       "    'Doctor Y',\n",
       "    'Forget A',\n",
       "    'Hansen JN',\n",
       "    'Hu M',\n",
       "    'Lenkiewicz J',\n",
       "    'Levinson MA',\n",
       "    'Marquez C',\n",
       "    'Mohan J',\n",
       "    'Nourreddine S',\n",
       "    'Niestroy J',\n",
       "    'Pratt D',\n",
       "    'Qian G',\n",
       "    'Thaker S',\n",
       "    'Belisle-Pipon J-C',\n",
       "    'Brandt C',\n",
       "    'Chen J',\n",
       "    'Ding Y',\n",
       "    'Fodeh S',\n",
       "    'Krogan N',\n",
       "    'Lundberg E',\n",
       "    'Mali P',\n",
       "    'Payne-Foster P',\n",
       "    'Ratcliffe S',\n",
       "    'Ravitsky V',\n",
       "    'Sali A',\n",
       "    'Schulz W',\n",
       "    'Ideker T.'],\n",
       "   'conditionsOfAccess': 'This dataset was created by investigators and staff of the Cell Maps for Artificial Intelligence project (CM4AI - https://cm4ai.org), a Data Generation Project of the NIH Bridge2AI program, and is copyright (c) 2024 by The Regents of the University of California and, for cellular imaging data, by The Board of Trustees of the Leland Stanford Junior University. It is licensed for reuse under the Creative Commons Attribution-NonCommercial-ShareAlike 4.0 International (CC-BY-NC-SA 4.0) license, whose terms are summarized here: https://creativecommons.org/licenses/by-nc-sa/4.0/deed.en.  Proper attribution credit as required by the license includes citation of the copyright holders and of the attribution parties, which includes citation of the following article: Clark T, Schaffer L, Obernier K, Al Manir S, Churas CP, Dailamy A, Doctor Y, Forget A, Hansen JN, Hu M, Lenkiewicz J, Levinson MA, Marquez C, Mohan J, Nourreddine S, Niestroy J, Pratt D, Qian G, Thaker S, Belisle-Pipon J-C, Brandt C, Chen J, Ding Y, Fodeh S, Krogan N, Lundberg E, Mali P, Payne-Foster P, Ratcliffe S, Ravitsky V, Sali A, Schulz W, Ideker T. Cell Maps for Artificial Intelligence: AI-Ready Maps of Human Cell Architecture from Disease-Relevant Cell Lines. BioRXiv 2024.”',\n",
       "   'copyrightNotice': 'Copyright (c) 2024 by The Regents of the University of California',\n",
       "   'hasPart': [{'@id': 'https://fairscape.net/ark:59852/software-cellmaps_ppidownloader-58sGTge'},\n",
       "    {'@id': 'https://fairscape.net/ark:59852/dataset-cellmaps_ppidownloader-output-file-58sGTge'},\n",
       "    {'@id': 'https://fairscape.net/ark:59852/computation-AP-MS-Loader-58sGTge'}]},\n",
       "  {'@id': 'ark:59852/software-cellmaps_ppidownloader-58sGTge',\n",
       "   'metadataType': 'https://w3id.org/EVI#Software',\n",
       "   'additionalType': 'Software',\n",
       "   'author': 'Clark T, Schaffer L, Obernier K, Al Manir S, Churas CP, Dailamy A, Doctor Y, Forget A, Hansen JN, Hu M, Lenkiewicz J, Levinson MA, Marquez C, Mohan J, Nourreddine S, Niestroy J, Pratt D, Qian G, Thaker S, Belisle-Pipon J-C, Brandt C, Chen J, Ding Y, Fodeh S, Krogan N, Lundberg E, Mali P, Payne-Foster P, Ratcliffe S, Ravitsky V, Sali A, Schulz W, Ideker T.',\n",
       "   'dateModified': '2023-08-31',\n",
       "   'version': '0.5alpha',\n",
       "   'description': 'Ideker Lab CM4AI 0.1 alpha MDA-MB-468 untreated chromatin Initial integration run AP-MS Edgelist A tool to download AP-MS data for Cell Maps pipeline',\n",
       "   'associatedPublication': 'Clark T, Schaffer L, Obernier K, Al Manir S, Churas CP, Dailamy A, Doctor Y, Forget A, Hansen JN, Hu M, Lenkiewicz J, Levinson MA, Marquez C, Mohan J, Nourreddine S, Niestroy J, Pratt D, Qian G, Thaker S, Belisle-Pipon J-C, Brandt C, Chen J, Ding Y, Fodeh S, Krogan N, Lundberg E, Mali P, Payne-Foster P, Ratcliffe S, Ravitsky V, Sali A, Schulz W, Ideker T. Cell Maps for Artificial Intelligence: AI-Ready Maps of Human Cell Architecture from Disease-Relevant Cell Lines. BioRXiv 2024.',\n",
       "   'additionalDocumentation': None,\n",
       "   'format': 'py',\n",
       "   'usedByComputation': [],\n",
       "   'contentUrl': 'https://github.com/idekerlab/cellmaps_ppidownloader'},\n",
       "  {'@id': 'ark:59852/dataset-cellmaps_ppidownloader-output-file-58sGTge',\n",
       "   'metadataType': 'https://w3id.org/EVI#Dataset',\n",
       "   'additionalType': 'Dataset',\n",
       "   'author': ['Richa Tiwari',\n",
       "    'Atoshi Banerjee',\n",
       "    'Monita Muralidharan',\n",
       "    'Kristen Obernier',\n",
       "    'Antoine Forget',\n",
       "    'Nevan Krogan'],\n",
       "   'datePublished': '2023-08-31',\n",
       "   'version': '0.5alpha',\n",
       "   'description': 'Ideker Lab CM4AI 0.1 alpha MDA-MB-468 untreated chromatin Initial integration run AP-MS Edgelist AP-MS gene node attributes file',\n",
       "   'keywords': [''],\n",
       "   'associatedPublication': 'Clark T, Schaffer L, Obernier K, Al Manir S, Churas CP, Dailamy A, Doctor Y, Forget A, Hansen JN, Hu M, Lenkiewicz J, Levinson MA, Marquez C, Mohan J, Nourreddine S, Niestroy J, Pratt D, Qian G, Thaker S, Belisle-Pipon J-C, Brandt C, Chen J, Ding Y, Fodeh S, Krogan N, Lundberg E, Mali P, Payne-Foster P, Ratcliffe S, Ravitsky V, Sali A, Schulz W, Ideker T. Cell Maps for Artificial Intelligence: AI-Ready Maps of Human Cell Architecture from Disease-Relevant Cell Lines. BioRXiv 2024.',\n",
       "   'additionalDocumentation': None,\n",
       "   'format': 'tsv',\n",
       "   'evi:Schema': None,\n",
       "   'generatedBy': [],\n",
       "   'derivedFrom': [],\n",
       "   'usedByComputation': [],\n",
       "   'contentUrl': 'file:///1.cm4ai_chromatin_mda-mb-468_untreated_apmsloader_initialrun0.1alpha/ppi_gene_node_attributes.tsv'},\n",
       "  {'@id': 'ark:59852/computation-AP-MS-Loader-58sGTge',\n",
       "   'metadataType': 'https://w3id.org/EVI#Computation',\n",
       "   'additionalType': 'Computation',\n",
       "   'runBy': 'Chris Churas',\n",
       "   'dateCreated': '2023-08-31',\n",
       "   'associatedPublication': 'Clark T, Schaffer L, Obernier K, Al Manir S, Churas CP, Dailamy A, Doctor Y, Forget A, Hansen JN, Hu M, Lenkiewicz J, Levinson MA, Marquez C, Mohan J, Nourreddine S, Niestroy J, Pratt D, Qian G, Thaker S, Belisle-Pipon J-C, Brandt C, Chen J, Ding Y, Fodeh S, Krogan N, Lundberg E, Mali P, Payne-Foster P, Ratcliffe S, Ravitsky V, Sali A, Schulz W, Ideker T. Cell Maps for Artificial Intelligence: AI-Ready Maps of Human Cell Architecture from Disease-Relevant Cell Lines. BioRXiv 2024.',\n",
       "   'additionalDocumentation': None,\n",
       "   'command': \"{'outdir': '0.1pipeline/1.cm4ai_chromatin_mda-mb-468_untreated_apmsloader_initialrun0.1alpha', 'cm4ai_table': '0.1rocrates/cm4ai_chromatin_mda-mb-468_untreated_apms_0.1_alpha/apms.tsv', 'edgelist': None, 'edgelist_geneid_one_col': 'GeneID1', 'edgelist_symbol_one_col': 'Symbol1', 'edgelist_geneid_two_col': 'GeneID2', 'edgelist_symbol_two_col': 'Symbol2', 'baitlist': None, 'baitlist_symbol_col': 'GeneSymbol', 'baitlist_geneid_col': 'GeneID', 'baitlist_numinteractors_col': '# Interactors', 'provenance': 'ppiprovenance.json', 'logconf': None, 'skip_logging': False, 'verbose': 0, 'program': '/cellar/users/cchuras/miniconda3/envs/py38/bin/cellmaps_ppidownloadercmd.py', 'version': '0.1.0a6'}\",\n",
       "   'usedSoftware': [{'@id': 'https://fairscape.net/ark:59852/software-cellmaps_ppidownloader-58sGTge'}],\n",
       "   'usedDataset': [],\n",
       "   'generated': [{'@id': 'https://fairscape.net/ark:59852/dataset-cellmaps_ppidownloader-output-file-58sGTge'}]},\n",
       "  {'@id': 'ark:/Ideker_Lab', '@type': 'Organization', 'name': 'Ideker Lab'},\n",
       "  {'@id': 'ark:/Ideker_Lab/CM4AI', '@type': 'Project', 'name': 'CM4AI'}]}"
      ]
     },
     "execution_count": 21,
     "metadata": {},
     "output_type": "execute_result"
    }
   ],
   "source": [
    "fullCrateModel.model_dump(by_alias=True)"
   ]
  },
  {
   "cell_type": "code",
   "execution_count": null,
   "metadata": {},
   "outputs": [],
   "source": []
  },
  {
   "cell_type": "code",
   "execution_count": 84,
   "metadata": {},
   "outputs": [
    {
     "name": "stdout",
     "output_type": "stream",
     "text": [
      "0.007513523101806641\n"
     ]
    }
   ],
   "source": [
    "# for datasetElem in datasetList:\n",
    "\n",
    "datasetElem = datasetList[0]\n",
    "datasetContentUrl = datasetElem.contentUrl\n",
    "if 'http' in datasetContentUrl:\n",
    "\tpass\n",
    "elif 'file:' in datasetContentUrl:\n",
    "\t# create a path to the file specified by the dataset metadata \n",
    "\tsourcePath = pathlib.Path(datasetElem.contentUrl.lstrip('file:///'))\n",
    "\tdatasetFilePath = extractedContentsFolder / sourcePath.name\n",
    "\n",
    "# check that path exists in the crate\n",
    "if not datasetFilePath.exists():\n",
    "\tpass\n",
    "\n",
    "\n",
    "\n",
    "uploadPath = pathlib.PurePosixPath(fairscapeConfig.minio.default_bucket_path) / userCN / 'datasets' / sourcePath\n",
    "\n",
    "datasetUploadStart = time.time()\n",
    "# upload the file \n",
    "uploadResult = uploadLocalFileMinio(\n",
    "\t\tminioClient=minioClient, \n",
    "\t\tbucketName=fairscapeConfig.minio.default_bucket, \t\n",
    "\t\tobjectName=str(uploadPath),\n",
    "\t\tfilePath=str(datasetFilePath),\n",
    "\t\tmetadata={\"guid\": datasetElem.guid, \"owner\": userCN}\n",
    "\t\t)\n",
    "\n",
    "datasetUploadEnd = time.time()\n",
    "\n",
    "uploadDuration = datasetUploadEnd - datasetUploadStart\n",
    "print(uploadDuration)\n",
    "\n",
    "\n",
    "# create a distribution for the dataset\n",
    "datasetDistribution = FairscapeDataDistribution(\n",
    "\tdistributionType = 'minio',\n",
    "\tobjectPath=str(uploadPath),\n",
    "\tobjectBucket=fairscapeConfig.minio.default_bucket\n",
    ")\n",
    "\n",
    "\n",
    "# set contentUrl in metadata to fairscape pointer\n",
    "datasetElem.contentUrl = f\"{fairscapeConfig.url}/dataset/download/{datasetElem.guid}\"\n",
    "\n"
   ]
  },
  {
   "cell_type": "code",
   "execution_count": 79,
   "metadata": {},
   "outputs": [
    {
     "data": {
      "text/plain": [
       "'default/mal8ch/datasets/1.cm4ai_chromatin_mda-mb-468_untreated_apmsloader_initialrun0.1alpha/ppi_gene_node_attributes.tsv'"
      ]
     },
     "execution_count": 79,
     "metadata": {},
     "output_type": "execute_result"
    }
   ],
   "source": [
    "str(pathlib.PurePosixPath(uploadPath))"
   ]
  },
  {
   "cell_type": "code",
   "execution_count": 77,
   "metadata": {},
   "outputs": [
    {
     "data": {
      "text/plain": [
       "WindowsPath('jobs/625d5589-4956-46a7-bc32-d6571dac285c/extracted/1.cm4ai_chromatin_mda-mb-468_untreated_apmsloader_initialrun0.1alpha/ppi_gene_node_attributes.tsv')"
      ]
     },
     "execution_count": 77,
     "metadata": {},
     "output_type": "execute_result"
    }
   ],
   "source": []
  },
  {
   "cell_type": "code",
   "execution_count": 54,
   "metadata": {},
   "outputs": [
    {
     "data": {
      "text/plain": [
       "True"
      ]
     },
     "execution_count": 54,
     "metadata": {},
     "output_type": "execute_result"
    }
   ],
   "source": []
  },
  {
   "cell_type": "code",
   "execution_count": null,
   "metadata": {},
   "outputs": [],
   "source": []
  },
  {
   "cell_type": "code",
   "execution_count": null,
   "metadata": {},
   "outputs": [],
   "source": [
    "# mint datasets"
   ]
  }
 ],
 "metadata": {
  "kernelspec": {
   "display_name": "base",
   "language": "python",
   "name": "python3"
  },
  "language_info": {
   "codemirror_mode": {
    "name": "ipython",
    "version": 3
   },
   "file_extension": ".py",
   "mimetype": "text/x-python",
   "name": "python",
   "nbconvert_exporter": "python",
   "pygments_lexer": "ipython3",
   "version": "3.11.4"
  }
 },
 "nbformat": 4,
 "nbformat_minor": 2
}
