{
 "cells": [
  {
   "cell_type": "code",
   "execution_count": 1,
   "metadata": {},
   "outputs": [],
   "source": [
    "# import rocrate models\n",
    "import os\n",
    "import sys\n",
    "\n",
    "#sys.path.insert(0, os.path.abspath(os.path.join(os.path.dirname(__file__), '../')))\n",
    "#os.path.join(os.path.dirname(__file__), '../')\n",
    "srcPath = os.path.abspath('C:\\\\Users\\\\Max\\\\Documents\\\\GitHub\\\\mds_python\\\\src\\\\' )\n",
    "sys.path.insert(0, srcPath)"
   ]
  },
  {
   "cell_type": "code",
   "execution_count": null,
   "metadata": {},
   "outputs": [],
   "source": [
    "import pathlib\n",
    "from fairscape_mds.config import create_fairscape_config\n",
    "from dotenv import load_dotenv\n",
    "import os\n",
    "\n",
    "load_dotenv(\"../local.env\")\n",
    "\n",
    "fairscapeConfig = create_fairscape_config(os.environ)\n",
    "\n",
    "#ldapConnection = fairscapeConfig.ldap.connectAdmin()\n",
    "#currentUserLDAP = getUserByCN(ldapConnection, userCN)\n",
    "#ldapConnection.unbind()\n",
    "\n",
    "minioClient = fairscapeConfig.minio.CreateClient()\n",
    "mongoClient = fairscapeConfig.mongo.CreateClient()\n",
    "\n",
    "mongoDB = mongoClient[fairscapeConfig.mongo.db]\n",
    "asyncCollection = mongoDB[fairscapeConfig.mongo.async_collection]\n",
    "identifierCollection = mongoDB[fairscapeConfig.mongo.identifier_collection]\n",
    "rocrateCollection = mongoDB[fairscapeConfig.mongo.rocrate_collection]"
   ]
  },
  {
   "cell_type": "code",
   "execution_count": 3,
   "metadata": {},
   "outputs": [
    {
     "name": "stderr",
     "output_type": "stream",
     "text": [
      "c:\\Users\\Max\\anaconda3\\Lib\\site-packages\\paramiko\\transport.py:219: CryptographyDeprecationWarning: Blowfish has been deprecated\n",
      "  \"class\": algorithms.Blowfish,\n"
     ]
    }
   ],
   "source": [
    "# pydantic model for Distributions\n",
    "from pydantic import BaseModel, Field\n",
    "from typing import Union, Optional, List\n",
    "from fairscape_mds.models.rocrate import (\n",
    "\tROCrateV1_2,\n",
    "\tROCrateDataset,\n",
    "\tROCrateSoftware,\n",
    "\tROCrateComputation,\n",
    "\tROCrateMetadataElem\n",
    ")\n",
    "from fairscape_mds.models.fairscape_base import (\n",
    "\tIdentifierValue\n",
    ")\n",
    "\n",
    "import timeit\n",
    "\n",
    "class FairscapeDataDistribution(BaseModel):\n",
    "\tdistributionType: str = 'minio'\n",
    "\tobjectPath: str\n",
    "\tobjectBucket: str\n",
    "\n",
    "\n",
    "class MongoDocument(BaseModel):\n",
    "\tguid: str = Field(alias=\"@id\")\n",
    "\tmetadataType: str \n",
    "\towner: str\n",
    "\tmetadata: Union[ROCrateV1_2, ROCrateDataset, ROCrateSoftware, ROCrateComputation] #Schema]\n",
    "\tdistribution: Optional[List[FairscapeDataDistribution]]\n",
    "\n",
    "\n",
    "class MongoDocument(BaseModel):\n",
    "\tguid: str = Field(alias=\"@id\")\n",
    "\tmetadataType: str \n",
    "\towner: str \n",
    "\tmetadata: ROCrateV1_2\n",
    "\tdistribution: FairscapeDataDistribution"
   ]
  },
  {
   "cell_type": "code",
   "execution_count": 4,
   "metadata": {},
   "outputs": [],
   "source": [
    "import uuid\n",
    "import pathlib\n",
    "import shutil\n",
    "import zipfile\n",
    "import json\n",
    "import minio\n",
    "import urllib.parse"
   ]
  },
  {
   "cell_type": "code",
   "execution_count": 5,
   "metadata": {},
   "outputs": [],
   "source": [
    "def uploadLocalFileMinio(\n",
    "\tminioClient: minio.Minio, \n",
    "\tbucketName: str, \n",
    "\tobjectName: str, \n",
    "\tfilePath: str, \n",
    "\tmetadata: dict= None):\n",
    "\tuploadResult = minioClient.fput_object(\n",
    "\t\t\tbucket_name= bucketName,\n",
    "\t\t\tobject_name=objectName,\n",
    "\t\t\tfile_path=filePath,\n",
    "\t\t\tmetadata=metadata\n",
    "\t\t)\n",
    "\treturn uploadResult"
   ]
  },
  {
   "cell_type": "code",
   "execution_count": 6,
   "metadata": {},
   "outputs": [],
   "source": [
    "# given rocrate\n",
    "rocrateFolder = pathlib.Path(\"D:\\Work\\Data\\Dataverse-Uploaded\\crates_format_1.2\")\n",
    "\n",
    "testROCrate = rocrateFolder / \"1.cm4ai_chromatin_mda-mb-468_untreated_apmsloader_initialrun0.1alpha.zip\""
   ]
  },
  {
   "cell_type": "markdown",
   "metadata": {},
   "source": [
    "## Mocking the Transaction\n",
    "\n",
    "1. create transaction folder\n",
    "2. Copy crate to local directory\n",
    "3. Unzip contents in transaction folder\n",
    "4. process metadata\n",
    "5. upload extracted datasets\n",
    "6. replace ro-crate-metadata.json\n",
    "7. zip up and upload archive"
   ]
  },
  {
   "cell_type": "code",
   "execution_count": 7,
   "metadata": {},
   "outputs": [],
   "source": [
    "# mock user CN\n",
    "userCN = 'mal8ch'"
   ]
  },
  {
   "cell_type": "code",
   "execution_count": 8,
   "metadata": {},
   "outputs": [],
   "source": [
    "# mock a transaction uuid\n",
    "transactionID = str(uuid.uuid4())\n",
    "\n",
    "# create a folder for jobs\n",
    "jobsFolder = pathlib.Path(\"jobs/\")\n",
    "jobsFolder.mkdir(exist_ok=True)\n",
    "\n",
    "# create a folder for this transaction\n",
    "transactionFolder = jobsFolder / transactionID\n",
    "transactionFolder.mkdir(exist_ok=True)"
   ]
  },
  {
   "cell_type": "code",
   "execution_count": 9,
   "metadata": {},
   "outputs": [],
   "source": [
    "extractFolder = transactionFolder / 'extracted'"
   ]
  },
  {
   "cell_type": "code",
   "execution_count": 10,
   "metadata": {},
   "outputs": [
    {
     "data": {
      "text/plain": [
       "'jobs\\\\91e12cb3-f796-4203-ad40-f490f7b3006c\\\\1.cm4ai_chromatin_mda-mb-468_untreated_apmsloader_initialrun0.1alpha.zip'"
      ]
     },
     "execution_count": 10,
     "metadata": {},
     "output_type": "execute_result"
    }
   ],
   "source": [
    "# mock copy to transaction directory\n",
    "zippedCratePath = transactionFolder / testROCrate.name\n",
    "\n",
    "shutil.copyfile(\n",
    "\tstr(testROCrate),\n",
    "\tstr(zippedCratePath)\n",
    ")\n"
   ]
  },
  {
   "cell_type": "code",
   "execution_count": 11,
   "metadata": {},
   "outputs": [],
   "source": [
    "crateFolderName = zippedCratePath.name.strip(zippedCratePath.suffix)"
   ]
  },
  {
   "cell_type": "code",
   "execution_count": 12,
   "metadata": {},
   "outputs": [],
   "source": [
    "# unzip the archive \n",
    "with zippedCratePath.open('rb') as zippedCrateFileObj:\n",
    "\tzipCrate = zipfile.ZipFile(zippedCrateFileObj)\n",
    "\tzipCrate.extractall(path=str(extractFolder))"
   ]
  },
  {
   "cell_type": "code",
   "execution_count": 13,
   "metadata": {},
   "outputs": [],
   "source": [
    "# extract the metadata\n",
    "extractedContentsFolder = extractFolder / crateFolderName\n",
    "metadataFilePath = extractedContentsFolder / 'ro-crate-metadata.json'\n",
    "with metadataFilePath.open(\"r\") as crateMetadataFileObj:\n",
    "\tcrateMetadataJSON = json.load(crateMetadataFileObj)\n",
    "\n",
    "# parse metadata into pydantic model\n",
    "fullCrateModel = ROCrateV1_2.model_validate(crateMetadataJSON)"
   ]
  },
  {
   "cell_type": "code",
   "execution_count": null,
   "metadata": {},
   "outputs": [],
   "source": [
    "# add schema models to ROCrateV1_2 pydantic model metadataGraph Union\n",
    "# also look for schemas within the ROCrate before looking for Schemas in minio"
   ]
  },
  {
   "cell_type": "code",
   "execution_count": 14,
   "metadata": {},
   "outputs": [],
   "source": [
    "def cleanGUID(metadata):\n",
    "\tif \"http\" in metadata.guid:\n",
    "\t\tmetadata.guid = urllib.parse.urlparse(metadata.guid).path.lstrip('/')\n",
    "\n",
    "def cleanIdentifiers(crate: ROCrateV1_2):\n",
    "\trocrateMetadata = crate.getCrateMetadata()\n",
    "\n",
    "\t#clean ROCrate metadata identifier\n",
    "\tcleanGUID(rocrateMetadata)\n",
    "\n",
    "\t\n",
    "\t# clean identifiers\n",
    "\tfor elem in crate.getEVIElements():\n",
    "\t\tcleanGUID(elem)\n",
    "\n",
    "\t\tif isinstance(elem, ROCrateDataset):\n",
    "\t\t\t# usedByComputation\n",
    "\t\t\tfor usedByComputation in elem.usedByComputation:\n",
    "\t\t\t\tcleanGUID(usedByComputation)\n",
    "\t\t\t\n",
    "\t\t\t# generatedBy\n",
    "\t\t\tfor generatedBy in elem.generatedBy:\n",
    "\t\t\t\tcleanGUID(generatedBy)\n",
    "\n",
    "\t\tif isinstance(elem, ROCrateSoftware):\n",
    "\t\t\tfor usedByElem in elem.usedByComputation:\n",
    "\t\t\t\tcleanGUID(usedByElem)\n",
    "\n",
    "\t\tif isinstance(elem, ROCrateComputation):\n",
    "\t\t\t#elem.usedDataset\n",
    "\t\t\tfor usedDataset in elem.usedDataset:\n",
    "\t\t\t\tcleanGUID(usedDataset)\n",
    "\t\t\t#elem.generated\n",
    "\t\t\tfor generated in elem.generated:\n",
    "\t\t\t\tcleanGUID(generated)\n",
    "\t\t\t#elem.usedSoftware\n",
    "\t\t\tfor usedSoftware in elem.usedSoftware:\n",
    "\t\t\t\tcleanGUID(usedSoftware)\n",
    "\n",
    "\n",
    "def processMetadataIsPartOf(crate: ROCrateV1_2):\n",
    "\teviElements = crate.getEVIElements()\n",
    "\trocrateRootElem = crateModel.getCrateMetadata()\n",
    "\n",
    "\trocrateRootElem.hasPart = [ IdentifierValue.model_validate({\"@id\": x.guid}) for x in eviElements]\n",
    "\n",
    "\t# set inverse relation\n",
    "\telemIsPartOf = IdentifierValue.model_validate({\"@id\": rocrateRootElem.guid})\n",
    "\tfor elem in eviElements:\n",
    "\t\telem.isPartOf = elemIsPartOf\n",
    "\n",
    "def processMetadata(crate: ROCrateV1_2):\n",
    "\tpass"
   ]
  },
  {
   "cell_type": "code",
   "execution_count": 19,
   "metadata": {},
   "outputs": [
    {
     "data": {
      "text/plain": [
       "'{\"@context\":{\"EVI\":\"https://w3id.org/EVI#\",\"@vocab\":\"https://schema.org/\"},\"@graph\":[{\"@id\":\"ro-crate-metadata.json\",\"@type\":\"CreativeWork\",\"conformsTo\":{\"@id\":\"https://w3id.org/ro/crate/1.2-DRAFT\"},\"about\":{\"@id\":\"https://fairscape.net/ark:59852/rocrate-1.cm4ai_chromatin_mda-mb-468_untreated_apmsloader_initialrun0.1alpha\"}},{\"@id\":\"ark:59852/rocrate-1.cm4ai_chromatin_mda-mb-468_untreated_apmsloader_initialrun0.1alpha\",\"@type\":[\"Dataset\",\"https://w3id.org/EVI#ROCrate\"],\"name\":\"Initial integration run\",\"keywords\":[\"Ideker Lab\",\"CM4AI\",\"0.1 alpha\",\"MDA-MB-468\",\"untreated\",\"chromatin\",\"Initial integration run\",\"AP-MS edgelist download\"],\"isPartOf\":[{\"@id\":\"ark:/Ideker_Lab\"},{\"@id\":\"ark:/Ideker_Lab/CM4AI\"}],\"version\":\"0.5alpha\",\"license\":\"https://creativecommons.org/licenses/by-nc-sa/4.0/deed.en\",\"associatedPublication\":\"Clark T, Schaffer L, Obernier K, Al Manir S, Churas CP, Dailamy A, Doctor Y, Forget A, Hansen JN, Hu M, Lenkiewicz J, Levinson MA, Marquez C, Mohan J, Nourreddine S, Niestroy J, Pratt D, Qian G, Thaker S, Belisle-Pipon J-C, Brandt C, Chen J, Ding Y, Fodeh S, Krogan N, Lundberg E, Mali P, Payne-Foster P, Ratcliffe S, Ravitsky V, Sali A, Schulz W, Ideker T. Cell Maps for Artificial Intelligence: AI-Ready Maps of Human Cell Architecture from Disease-Relevant Cell Lines. BioRXiv 2024.\",\"author\":[\"Clark T\",\"Schaffer L\",\"Obernier K\",\"Al Manir S\",\"Churas CP\",\"Dailamy A\",\"Doctor Y\",\"Forget A\",\"Hansen JN\",\"Hu M\",\"Lenkiewicz J\",\"Levinson MA\",\"Marquez C\",\"Mohan J\",\"Nourreddine S\",\"Niestroy J\",\"Pratt D\",\"Qian G\",\"Thaker S\",\"Belisle-Pipon J-C\",\"Brandt C\",\"Chen J\",\"Ding Y\",\"Fodeh S\",\"Krogan N\",\"Lundberg E\",\"Mali P\",\"Payne-Foster P\",\"Ratcliffe S\",\"Ravitsky V\",\"Sali A\",\"Schulz W\",\"Ideker T.\"],\"conditionsOfAccess\":\"This dataset was created by investigators and staff of the Cell Maps for Artificial Intelligence project (CM4AI - https://cm4ai.org), a Data Generation Project of the NIH Bridge2AI program, and is copyright (c) 2024 by The Regents of the University of California and, for cellular imaging data, by The Board of Trustees of the Leland Stanford Junior University. It is licensed for reuse under the Creative Commons Attribution-NonCommercial-ShareAlike 4.0 International (CC-BY-NC-SA 4.0) license, whose terms are summarized here: https://creativecommons.org/licenses/by-nc-sa/4.0/deed.en.  Proper attribution credit as required by the license includes citation of the copyright holders and of the attribution parties, which includes citation of the following article: Clark T, Schaffer L, Obernier K, Al Manir S, Churas CP, Dailamy A, Doctor Y, Forget A, Hansen JN, Hu M, Lenkiewicz J, Levinson MA, Marquez C, Mohan J, Nourreddine S, Niestroy J, Pratt D, Qian G, Thaker S, Belisle-Pipon J-C, Brandt C, Chen J, Ding Y, Fodeh S, Krogan N, Lundberg E, Mali P, Payne-Foster P, Ratcliffe S, Ravitsky V, Sali A, Schulz W, Ideker T. Cell Maps for Artificial Intelligence: AI-Ready Maps of Human Cell Architecture from Disease-Relevant Cell Lines. BioRXiv 2024.”\",\"copyrightNotice\":\"Copyright (c) 2024 by The Regents of the University of California\",\"hasPart\":[{\"@id\":\"https://fairscape.net/ark:59852/software-cellmaps_ppidownloader-58sGTge\"},{\"@id\":\"https://fairscape.net/ark:59852/dataset-cellmaps_ppidownloader-output-file-58sGTge\"},{\"@id\":\"https://fairscape.net/ark:59852/computation-AP-MS-Loader-58sGTge\"}]},{\"@id\":\"ark:59852/software-cellmaps_ppidownloader-58sGTge\",\"metadataType\":\"https://w3id.org/EVI#Software\",\"additionalType\":\"Software\",\"author\":\"Clark T, Schaffer L, Obernier K, Al Manir S, Churas CP, Dailamy A, Doctor Y, Forget A, Hansen JN, Hu M, Lenkiewicz J, Levinson MA, Marquez C, Mohan J, Nourreddine S, Niestroy J, Pratt D, Qian G, Thaker S, Belisle-Pipon J-C, Brandt C, Chen J, Ding Y, Fodeh S, Krogan N, Lundberg E, Mali P, Payne-Foster P, Ratcliffe S, Ravitsky V, Sali A, Schulz W, Ideker T.\",\"dateModified\":\"2023-08-31\",\"version\":\"0.5alpha\",\"description\":\"Ideker Lab CM4AI 0.1 alpha MDA-MB-468 untreated chromatin Initial integration run AP-MS Edgelist A tool to download AP-MS data for Cell Maps pipeline\",\"associatedPublication\":\"Clark T, Schaffer L, Obernier K, Al Manir S, Churas CP, Dailamy A, Doctor Y, Forget A, Hansen JN, Hu M, Lenkiewicz J, Levinson MA, Marquez C, Mohan J, Nourreddine S, Niestroy J, Pratt D, Qian G, Thaker S, Belisle-Pipon J-C, Brandt C, Chen J, Ding Y, Fodeh S, Krogan N, Lundberg E, Mali P, Payne-Foster P, Ratcliffe S, Ravitsky V, Sali A, Schulz W, Ideker T. Cell Maps for Artificial Intelligence: AI-Ready Maps of Human Cell Architecture from Disease-Relevant Cell Lines. BioRXiv 2024.\",\"additionalDocumentation\":null,\"format\":\"py\",\"usedByComputation\":[],\"contentUrl\":\"https://github.com/idekerlab/cellmaps_ppidownloader\"},{\"@id\":\"ark:59852/dataset-cellmaps_ppidownloader-output-file-58sGTge\",\"metadataType\":\"https://w3id.org/EVI#Dataset\",\"additionalType\":\"Dataset\",\"author\":[\"Richa Tiwari\",\"Atoshi Banerjee\",\"Monita Muralidharan\",\"Kristen Obernier\",\"Antoine Forget\",\"Nevan Krogan\"],\"datePublished\":\"2023-08-31\",\"version\":\"0.5alpha\",\"description\":\"Ideker Lab CM4AI 0.1 alpha MDA-MB-468 untreated chromatin Initial integration run AP-MS Edgelist AP-MS gene node attributes file\",\"keywords\":[\"\"],\"associatedPublication\":\"Clark T, Schaffer L, Obernier K, Al Manir S, Churas CP, Dailamy A, Doctor Y, Forget A, Hansen JN, Hu M, Lenkiewicz J, Levinson MA, Marquez C, Mohan J, Nourreddine S, Niestroy J, Pratt D, Qian G, Thaker S, Belisle-Pipon J-C, Brandt C, Chen J, Ding Y, Fodeh S, Krogan N, Lundberg E, Mali P, Payne-Foster P, Ratcliffe S, Ravitsky V, Sali A, Schulz W, Ideker T. Cell Maps for Artificial Intelligence: AI-Ready Maps of Human Cell Architecture from Disease-Relevant Cell Lines. BioRXiv 2024.\",\"additionalDocumentation\":null,\"format\":\"tsv\",\"evi:Schema\":null,\"generatedBy\":[],\"derivedFrom\":[],\"usedByComputation\":[],\"contentUrl\":\"file:///1.cm4ai_chromatin_mda-mb-468_untreated_apmsloader_initialrun0.1alpha/ppi_gene_node_attributes.tsv\"},{\"@id\":\"ark:59852/computation-AP-MS-Loader-58sGTge\",\"metadataType\":\"https://w3id.org/EVI#Computation\",\"additionalType\":\"Computation\",\"runBy\":\"Chris Churas\",\"dateCreated\":\"2023-08-31\",\"associatedPublication\":\"Clark T, Schaffer L, Obernier K, Al Manir S, Churas CP, Dailamy A, Doctor Y, Forget A, Hansen JN, Hu M, Lenkiewicz J, Levinson MA, Marquez C, Mohan J, Nourreddine S, Niestroy J, Pratt D, Qian G, Thaker S, Belisle-Pipon J-C, Brandt C, Chen J, Ding Y, Fodeh S, Krogan N, Lundberg E, Mali P, Payne-Foster P, Ratcliffe S, Ravitsky V, Sali A, Schulz W, Ideker T. Cell Maps for Artificial Intelligence: AI-Ready Maps of Human Cell Architecture from Disease-Relevant Cell Lines. BioRXiv 2024.\",\"additionalDocumentation\":null,\"command\":\"{\\'outdir\\': \\'0.1pipeline/1.cm4ai_chromatin_mda-mb-468_untreated_apmsloader_initialrun0.1alpha\\', \\'cm4ai_table\\': \\'0.1rocrates/cm4ai_chromatin_mda-mb-468_untreated_apms_0.1_alpha/apms.tsv\\', \\'edgelist\\': None, \\'edgelist_geneid_one_col\\': \\'GeneID1\\', \\'edgelist_symbol_one_col\\': \\'Symbol1\\', \\'edgelist_geneid_two_col\\': \\'GeneID2\\', \\'edgelist_symbol_two_col\\': \\'Symbol2\\', \\'baitlist\\': None, \\'baitlist_symbol_col\\': \\'GeneSymbol\\', \\'baitlist_geneid_col\\': \\'GeneID\\', \\'baitlist_numinteractors_col\\': \\'# Interactors\\', \\'provenance\\': \\'ppiprovenance.json\\', \\'logconf\\': None, \\'skip_logging\\': False, \\'verbose\\': 0, \\'program\\': \\'/cellar/users/cchuras/miniconda3/envs/py38/bin/cellmaps_ppidownloadercmd.py\\', \\'version\\': \\'0.1.0a6\\'}\",\"usedSoftware\":[{\"@id\":\"https://fairscape.net/ark:59852/software-cellmaps_ppidownloader-58sGTge\"}],\"usedDataset\":[],\"generated\":[{\"@id\":\"https://fairscape.net/ark:59852/dataset-cellmaps_ppidownloader-output-file-58sGTge\"}]},{\"@id\":\"ark:/Ideker_Lab\",\"@type\":\"Organization\",\"name\":\"Ideker Lab\"},{\"@id\":\"ark:/Ideker_Lab/CM4AI\",\"@type\":\"Project\",\"name\":\"CM4AI\"}]}'"
      ]
     },
     "execution_count": 19,
     "metadata": {},
     "output_type": "execute_result"
    }
   ],
   "source": [
    "fullCrateModel.model_dump_json(by_alias=True)"
   ]
  },
  {
   "cell_type": "code",
   "execution_count": null,
   "metadata": {},
   "outputs": [],
   "source": []
  },
  {
   "cell_type": "code",
   "execution_count": 28,
   "metadata": {},
   "outputs": [],
   "source": []
  },
  {
   "cell_type": "code",
   "execution_count": 29,
   "metadata": {},
   "outputs": [],
   "source": []
  },
  {
   "cell_type": "code",
   "execution_count": 21,
   "metadata": {},
   "outputs": [
    {
     "data": {
      "text/plain": [
       "{'@context': {'EVI': 'https://w3id.org/EVI#', '@vocab': 'https://schema.org/'},\n",
       " '@graph': [{'@id': 'ro-crate-metadata.json',\n",
       "   '@type': 'CreativeWork',\n",
       "   'conformsTo': {'@id': 'https://w3id.org/ro/crate/1.2-DRAFT'},\n",
       "   'about': {'@id': 'https://fairscape.net/ark:59852/rocrate-1.cm4ai_chromatin_mda-mb-468_untreated_apmsloader_initialrun0.1alpha'}},\n",
       "  {'@id': 'ark:59852/rocrate-1.cm4ai_chromatin_mda-mb-468_untreated_apmsloader_initialrun0.1alpha',\n",
       "   '@type': ['Dataset', 'https://w3id.org/EVI#ROCrate'],\n",
       "   'name': 'Initial integration run',\n",
       "   'keywords': ['Ideker Lab',\n",
       "    'CM4AI',\n",
       "    '0.1 alpha',\n",
       "    'MDA-MB-468',\n",
       "    'untreated',\n",
       "    'chromatin',\n",
       "    'Initial integration run',\n",
       "    'AP-MS edgelist download'],\n",
       "   'isPartOf': [{'@id': 'ark:/Ideker_Lab'}, {'@id': 'ark:/Ideker_Lab/CM4AI'}],\n",
       "   'version': '0.5alpha',\n",
       "   'license': 'https://creativecommons.org/licenses/by-nc-sa/4.0/deed.en',\n",
       "   'associatedPublication': 'Clark T, Schaffer L, Obernier K, Al Manir S, Churas CP, Dailamy A, Doctor Y, Forget A, Hansen JN, Hu M, Lenkiewicz J, Levinson MA, Marquez C, Mohan J, Nourreddine S, Niestroy J, Pratt D, Qian G, Thaker S, Belisle-Pipon J-C, Brandt C, Chen J, Ding Y, Fodeh S, Krogan N, Lundberg E, Mali P, Payne-Foster P, Ratcliffe S, Ravitsky V, Sali A, Schulz W, Ideker T. Cell Maps for Artificial Intelligence: AI-Ready Maps of Human Cell Architecture from Disease-Relevant Cell Lines. BioRXiv 2024.',\n",
       "   'author': ['Clark T',\n",
       "    'Schaffer L',\n",
       "    'Obernier K',\n",
       "    'Al Manir S',\n",
       "    'Churas CP',\n",
       "    'Dailamy A',\n",
       "    'Doctor Y',\n",
       "    'Forget A',\n",
       "    'Hansen JN',\n",
       "    'Hu M',\n",
       "    'Lenkiewicz J',\n",
       "    'Levinson MA',\n",
       "    'Marquez C',\n",
       "    'Mohan J',\n",
       "    'Nourreddine S',\n",
       "    'Niestroy J',\n",
       "    'Pratt D',\n",
       "    'Qian G',\n",
       "    'Thaker S',\n",
       "    'Belisle-Pipon J-C',\n",
       "    'Brandt C',\n",
       "    'Chen J',\n",
       "    'Ding Y',\n",
       "    'Fodeh S',\n",
       "    'Krogan N',\n",
       "    'Lundberg E',\n",
       "    'Mali P',\n",
       "    'Payne-Foster P',\n",
       "    'Ratcliffe S',\n",
       "    'Ravitsky V',\n",
       "    'Sali A',\n",
       "    'Schulz W',\n",
       "    'Ideker T.'],\n",
       "   'conditionsOfAccess': 'This dataset was created by investigators and staff of the Cell Maps for Artificial Intelligence project (CM4AI - https://cm4ai.org), a Data Generation Project of the NIH Bridge2AI program, and is copyright (c) 2024 by The Regents of the University of California and, for cellular imaging data, by The Board of Trustees of the Leland Stanford Junior University. It is licensed for reuse under the Creative Commons Attribution-NonCommercial-ShareAlike 4.0 International (CC-BY-NC-SA 4.0) license, whose terms are summarized here: https://creativecommons.org/licenses/by-nc-sa/4.0/deed.en.  Proper attribution credit as required by the license includes citation of the copyright holders and of the attribution parties, which includes citation of the following article: Clark T, Schaffer L, Obernier K, Al Manir S, Churas CP, Dailamy A, Doctor Y, Forget A, Hansen JN, Hu M, Lenkiewicz J, Levinson MA, Marquez C, Mohan J, Nourreddine S, Niestroy J, Pratt D, Qian G, Thaker S, Belisle-Pipon J-C, Brandt C, Chen J, Ding Y, Fodeh S, Krogan N, Lundberg E, Mali P, Payne-Foster P, Ratcliffe S, Ravitsky V, Sali A, Schulz W, Ideker T. Cell Maps for Artificial Intelligence: AI-Ready Maps of Human Cell Architecture from Disease-Relevant Cell Lines. BioRXiv 2024.”',\n",
       "   'copyrightNotice': 'Copyright (c) 2024 by The Regents of the University of California',\n",
       "   'hasPart': [{'@id': 'https://fairscape.net/ark:59852/software-cellmaps_ppidownloader-58sGTge'},\n",
       "    {'@id': 'https://fairscape.net/ark:59852/dataset-cellmaps_ppidownloader-output-file-58sGTge'},\n",
       "    {'@id': 'https://fairscape.net/ark:59852/computation-AP-MS-Loader-58sGTge'}]},\n",
       "  {'@id': 'ark:59852/software-cellmaps_ppidownloader-58sGTge',\n",
       "   'metadataType': 'https://w3id.org/EVI#Software',\n",
       "   'additionalType': 'Software',\n",
       "   'author': 'Clark T, Schaffer L, Obernier K, Al Manir S, Churas CP, Dailamy A, Doctor Y, Forget A, Hansen JN, Hu M, Lenkiewicz J, Levinson MA, Marquez C, Mohan J, Nourreddine S, Niestroy J, Pratt D, Qian G, Thaker S, Belisle-Pipon J-C, Brandt C, Chen J, Ding Y, Fodeh S, Krogan N, Lundberg E, Mali P, Payne-Foster P, Ratcliffe S, Ravitsky V, Sali A, Schulz W, Ideker T.',\n",
       "   'dateModified': '2023-08-31',\n",
       "   'version': '0.5alpha',\n",
       "   'description': 'Ideker Lab CM4AI 0.1 alpha MDA-MB-468 untreated chromatin Initial integration run AP-MS Edgelist A tool to download AP-MS data for Cell Maps pipeline',\n",
       "   'associatedPublication': 'Clark T, Schaffer L, Obernier K, Al Manir S, Churas CP, Dailamy A, Doctor Y, Forget A, Hansen JN, Hu M, Lenkiewicz J, Levinson MA, Marquez C, Mohan J, Nourreddine S, Niestroy J, Pratt D, Qian G, Thaker S, Belisle-Pipon J-C, Brandt C, Chen J, Ding Y, Fodeh S, Krogan N, Lundberg E, Mali P, Payne-Foster P, Ratcliffe S, Ravitsky V, Sali A, Schulz W, Ideker T. Cell Maps for Artificial Intelligence: AI-Ready Maps of Human Cell Architecture from Disease-Relevant Cell Lines. BioRXiv 2024.',\n",
       "   'additionalDocumentation': None,\n",
       "   'format': 'py',\n",
       "   'usedByComputation': [],\n",
       "   'contentUrl': 'https://github.com/idekerlab/cellmaps_ppidownloader'},\n",
       "  {'@id': 'ark:59852/dataset-cellmaps_ppidownloader-output-file-58sGTge',\n",
       "   'metadataType': 'https://w3id.org/EVI#Dataset',\n",
       "   'additionalType': 'Dataset',\n",
       "   'author': ['Richa Tiwari',\n",
       "    'Atoshi Banerjee',\n",
       "    'Monita Muralidharan',\n",
       "    'Kristen Obernier',\n",
       "    'Antoine Forget',\n",
       "    'Nevan Krogan'],\n",
       "   'datePublished': '2023-08-31',\n",
       "   'version': '0.5alpha',\n",
       "   'description': 'Ideker Lab CM4AI 0.1 alpha MDA-MB-468 untreated chromatin Initial integration run AP-MS Edgelist AP-MS gene node attributes file',\n",
       "   'keywords': [''],\n",
       "   'associatedPublication': 'Clark T, Schaffer L, Obernier K, Al Manir S, Churas CP, Dailamy A, Doctor Y, Forget A, Hansen JN, Hu M, Lenkiewicz J, Levinson MA, Marquez C, Mohan J, Nourreddine S, Niestroy J, Pratt D, Qian G, Thaker S, Belisle-Pipon J-C, Brandt C, Chen J, Ding Y, Fodeh S, Krogan N, Lundberg E, Mali P, Payne-Foster P, Ratcliffe S, Ravitsky V, Sali A, Schulz W, Ideker T. Cell Maps for Artificial Intelligence: AI-Ready Maps of Human Cell Architecture from Disease-Relevant Cell Lines. BioRXiv 2024.',\n",
       "   'additionalDocumentation': None,\n",
       "   'format': 'tsv',\n",
       "   'evi:Schema': None,\n",
       "   'generatedBy': [],\n",
       "   'derivedFrom': [],\n",
       "   'usedByComputation': [],\n",
       "   'contentUrl': 'file:///1.cm4ai_chromatin_mda-mb-468_untreated_apmsloader_initialrun0.1alpha/ppi_gene_node_attributes.tsv'},\n",
       "  {'@id': 'ark:59852/computation-AP-MS-Loader-58sGTge',\n",
       "   'metadataType': 'https://w3id.org/EVI#Computation',\n",
       "   'additionalType': 'Computation',\n",
       "   'runBy': 'Chris Churas',\n",
       "   'dateCreated': '2023-08-31',\n",
       "   'associatedPublication': 'Clark T, Schaffer L, Obernier K, Al Manir S, Churas CP, Dailamy A, Doctor Y, Forget A, Hansen JN, Hu M, Lenkiewicz J, Levinson MA, Marquez C, Mohan J, Nourreddine S, Niestroy J, Pratt D, Qian G, Thaker S, Belisle-Pipon J-C, Brandt C, Chen J, Ding Y, Fodeh S, Krogan N, Lundberg E, Mali P, Payne-Foster P, Ratcliffe S, Ravitsky V, Sali A, Schulz W, Ideker T. Cell Maps for Artificial Intelligence: AI-Ready Maps of Human Cell Architecture from Disease-Relevant Cell Lines. BioRXiv 2024.',\n",
       "   'additionalDocumentation': None,\n",
       "   'command': \"{'outdir': '0.1pipeline/1.cm4ai_chromatin_mda-mb-468_untreated_apmsloader_initialrun0.1alpha', 'cm4ai_table': '0.1rocrates/cm4ai_chromatin_mda-mb-468_untreated_apms_0.1_alpha/apms.tsv', 'edgelist': None, 'edgelist_geneid_one_col': 'GeneID1', 'edgelist_symbol_one_col': 'Symbol1', 'edgelist_geneid_two_col': 'GeneID2', 'edgelist_symbol_two_col': 'Symbol2', 'baitlist': None, 'baitlist_symbol_col': 'GeneSymbol', 'baitlist_geneid_col': 'GeneID', 'baitlist_numinteractors_col': '# Interactors', 'provenance': 'ppiprovenance.json', 'logconf': None, 'skip_logging': False, 'verbose': 0, 'program': '/cellar/users/cchuras/miniconda3/envs/py38/bin/cellmaps_ppidownloadercmd.py', 'version': '0.1.0a6'}\",\n",
       "   'usedSoftware': [{'@id': 'https://fairscape.net/ark:59852/software-cellmaps_ppidownloader-58sGTge'}],\n",
       "   'usedDataset': [],\n",
       "   'generated': [{'@id': 'https://fairscape.net/ark:59852/dataset-cellmaps_ppidownloader-output-file-58sGTge'}]},\n",
       "  {'@id': 'ark:/Ideker_Lab', '@type': 'Organization', 'name': 'Ideker Lab'},\n",
       "  {'@id': 'ark:/Ideker_Lab/CM4AI', '@type': 'Project', 'name': 'CM4AI'}]}"
      ]
     },
     "execution_count": 21,
     "metadata": {},
     "output_type": "execute_result"
    }
   ],
   "source": [
    "fullCrateModel.model_dump(by_alias=True)"
   ]
  },
  {
   "cell_type": "code",
   "execution_count": null,
   "metadata": {},
   "outputs": [],
   "source": []
  },
  {
   "cell_type": "code",
   "execution_count": 84,
   "metadata": {},
   "outputs": [
    {
     "name": "stdout",
     "output_type": "stream",
     "text": [
      "0.007513523101806641\n"
     ]
    }
   ],
   "source": [
    "# for datasetElem in datasetList:\n",
    "\n",
    "datasetElem = datasetList[0]\n",
    "datasetContentUrl = datasetElem.contentUrl\n",
    "if 'http' in datasetContentUrl:\n",
    "\tpass\n",
    "elif 'file:' in datasetContentUrl:\n",
    "\t# create a path to the file specified by the dataset metadata \n",
    "\tsourcePath = pathlib.Path(datasetElem.contentUrl.lstrip('file:///'))\n",
    "\tdatasetFilePath = extractedContentsFolder / sourcePath.name\n",
    "\n",
    "# check that path exists in the crate\n",
    "if not datasetFilePath.exists():\n",
    "\tpass\n",
    "\n",
    "\n",
    "\n",
    "uploadPath = pathlib.PurePosixPath(fairscapeConfig.minio.default_bucket_path) / userCN / 'datasets' / sourcePath\n",
    "\n",
    "datasetUploadStart = time.time()\n",
    "# upload the file \n",
    "uploadResult = uploadLocalFileMinio(\n",
    "\t\tminioClient=minioClient, \n",
    "\t\tbucketName=fairscapeConfig.minio.default_bucket, \t\n",
    "\t\tobjectName=str(uploadPath),\n",
    "\t\tfilePath=str(datasetFilePath),\n",
    "\t\tmetadata={\"guid\": datasetElem.guid, \"owner\": userCN}\n",
    "\t\t)\n",
    "\n",
    "datasetUploadEnd = time.time()\n",
    "\n",
    "uploadDuration = datasetUploadEnd - datasetUploadStart\n",
    "print(uploadDuration)\n",
    "\n",
    "\n",
    "# create a distribution for the dataset\n",
    "datasetDistribution = FairscapeDataDistribution(\n",
    "\tdistributionType = 'minio',\n",
    "\tobjectPath=str(uploadPath),\n",
    "\tobjectBucket=fairscapeConfig.minio.default_bucket\n",
    ")\n",
    "\n",
    "\n",
    "# set contentUrl in metadata to fairscape pointer\n",
    "datasetElem.contentUrl = f\"{fairscapeConfig.url}/dataset/download/{datasetElem.guid}\"\n",
    "\n"
   ]
  },
  {
   "cell_type": "code",
   "execution_count": 79,
   "metadata": {},
   "outputs": [
    {
     "data": {
      "text/plain": [
       "'default/mal8ch/datasets/1.cm4ai_chromatin_mda-mb-468_untreated_apmsloader_initialrun0.1alpha/ppi_gene_node_attributes.tsv'"
      ]
     },
     "execution_count": 79,
     "metadata": {},
     "output_type": "execute_result"
    }
   ],
   "source": [
    "str(pathlib.PurePosixPath(uploadPath))"
   ]
  },
  {
   "cell_type": "code",
   "execution_count": 77,
   "metadata": {},
   "outputs": [
    {
     "data": {
      "text/plain": [
       "WindowsPath('jobs/625d5589-4956-46a7-bc32-d6571dac285c/extracted/1.cm4ai_chromatin_mda-mb-468_untreated_apmsloader_initialrun0.1alpha/ppi_gene_node_attributes.tsv')"
      ]
     },
     "execution_count": 77,
     "metadata": {},
     "output_type": "execute_result"
    }
   ],
   "source": []
  },
  {
   "cell_type": "code",
   "execution_count": 54,
   "metadata": {},
   "outputs": [
    {
     "data": {
      "text/plain": [
       "True"
      ]
     },
     "execution_count": 54,
     "metadata": {},
     "output_type": "execute_result"
    }
   ],
   "source": []
  },
  {
   "cell_type": "code",
   "execution_count": null,
   "metadata": {},
   "outputs": [],
   "source": []
  },
  {
   "cell_type": "code",
   "execution_count": null,
   "metadata": {},
   "outputs": [],
   "source": [
    "# mint datasets"
   ]
  }
 ],
 "metadata": {
  "kernelspec": {
   "display_name": "base",
   "language": "python",
   "name": "python3"
  },
  "language_info": {
   "codemirror_mode": {
    "name": "ipython",
    "version": 3
   },
   "file_extension": ".py",
   "mimetype": "text/x-python",
   "name": "python",
   "nbconvert_exporter": "python",
   "pygments_lexer": "ipython3",
   "version": "3.11.4"
  }
 },
 "nbformat": 4,
 "nbformat_minor": 2
}
