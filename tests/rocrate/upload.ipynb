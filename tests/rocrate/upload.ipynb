{
 "cells": [
  {
   "cell_type": "code",
   "execution_count": 2,
   "metadata": {},
   "outputs": [],
   "source": [
    "import pathlib"
   ]
  },
  {
   "cell_type": "code",
   "execution_count": 38,
   "metadata": {},
   "outputs": [],
   "source": [
    "import requests\n",
    "from requests_toolbelt.multipart.encoder import MultipartEncoder\n",
    "\n",
    "\n",
    "root_url = \"http://localhost:8080/api\"\n",
    "\n",
    "def upload_zipped_crate(crate_path: pathlib.Path, token: str) -> requests.Response:\n",
    "    \"\"\" Function to upload rocrate specified by path\n",
    "    \"\"\"\n",
    "\n",
    "    mp_encoder = MultipartEncoder(\n",
    "        fields={        \n",
    "            'crate': (crate_path.name, open(str(crate_path), 'rb'), 'application/zip')\n",
    "        }\n",
    "    )\n",
    "\n",
    "    # upload a rocrate to minio object store\n",
    "    rocrate_transfer = requests.post(\n",
    "        url=f\"{root_url}/rocrate/upload-async\",\n",
    "        data=mp_encoder,                              \n",
    "        # The MultipartEncoder provides the content-type header with the boundary:\n",
    "        headers={\n",
    "\t\t\t\t\t'Content-Type': mp_encoder.content_type,\n",
    "\t\t\t\t\t'Authorization': f'Bearer {token}',\n",
    "\t\t\t\t}\n",
    "    )\n",
    "\n",
    "    return rocrate_transfer"
   ]
  },
  {
   "cell_type": "code",
   "execution_count": null,
   "metadata": {},
   "outputs": [],
   "source": [
    "testCrate = \"C:/Users/Max/Documents/GitHub/mds_python/tests/model-tests/paclitaxel/paclitaxel.zip\"\n",
    "\n",
    "#testCrates = list(pathlib.Path(\"D:/Work/Data/Dataverse-Uploaded/crates_format_1.2/\").glob(\"*.zip\"))"
   ]
  },
  {
   "cell_type": "code",
   "execution_count": 58,
   "metadata": {},
   "outputs": [],
   "source": [
    "# get user token\n",
    "# test that login works\n",
    "username = 'max_headroom@example.org'\n",
    "userPassword = 'testpassword'\n",
    "\n",
    "loginResponse = requests.post(\n",
    "\troot_url + '/login', \n",
    "\tdata={\"username\": username, \"password\": userPassword}\n",
    "\t)\n"
   ]
  },
  {
   "cell_type": "code",
   "execution_count": 59,
   "metadata": {},
   "outputs": [],
   "source": [
    "loginJSON = loginResponse.json()\n",
    "token = loginJSON.get('access_token')"
   ]
  },
  {
   "cell_type": "code",
   "execution_count": null,
   "metadata": {},
   "outputs": [
    {
     "data": {
      "text/plain": [
       "<Response [201]>"
      ]
     },
     "execution_count": 60,
     "metadata": {},
     "output_type": "execute_result"
    }
   ],
   "source": [
    "upload_zipped_crate(testCrate, token)"
   ]
  },
  {
   "cell_type": "code",
   "execution_count": null,
   "metadata": {},
   "outputs": [],
   "source": []
  }
 ],
 "metadata": {
  "kernelspec": {
   "display_name": "base",
   "language": "python",
   "name": "python3"
  },
  "language_info": {
   "codemirror_mode": {
    "name": "ipython",
    "version": 3
   },
   "file_extension": ".py",
   "mimetype": "text/x-python",
   "name": "python",
   "nbconvert_exporter": "python",
   "pygments_lexer": "ipython3",
   "version": "3.11.4"
  }
 },
 "nbformat": 4,
 "nbformat_minor": 4
}
