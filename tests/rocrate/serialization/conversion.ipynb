{
 "cells": [
  {
   "cell_type": "code",
   "execution_count": 2,
   "metadata": {},
   "outputs": [],
   "source": [
    "# import rocrate models\n",
    "import os\n",
    "import sys\n",
    "\n",
    "#sys.path.insert(0, os.path.abspath(os.path.join(os.path.dirname(__file__), '../')))\n",
    "#os.path.join(os.path.dirname(__file__), '../')\n",
    "srcPath = os.path.abspath('C:\\\\Users\\\\Max\\\\Documents\\\\GitHub\\\\mds_python\\\\src\\\\' )\n",
    "sys.path.insert(0, srcPath)\n",
    "\n",
    "\n",
    "#import fairscape_mds.models.rocrate as rocrate\n"
   ]
  },
  {
   "cell_type": "code",
   "execution_count": 3,
   "metadata": {},
   "outputs": [],
   "source": [
    "import pathlib"
   ]
  },
  {
   "cell_type": "code",
   "execution_count": 4,
   "metadata": {},
   "outputs": [],
   "source": [
    "crateAPMSLoader = pathlib.Path('data/1.cm4ai_chromatin_mda-mb-468_untreated_apmsloader_initialrun0.1alpha/')\n",
    "crateMetadataPathNew = crateAPMSLoader / 'ro-crate-metadata.json'\n",
    "crateMetadataPathOld = crateAPMSLoader / 'old-ro-crate-metadata.json'\n"
   ]
  },
  {
   "cell_type": "code",
   "execution_count": 5,
   "metadata": {},
   "outputs": [
    {
     "ename": "NameError",
     "evalue": "name 'crateMetadataNew' is not defined",
     "output_type": "error",
     "traceback": [
      "\u001b[1;31m---------------------------------------------------------------------------\u001b[0m",
      "\u001b[1;31mNameError\u001b[0m                                 Traceback (most recent call last)",
      "Cell \u001b[1;32mIn[5], line 1\u001b[0m\n\u001b[1;32m----> 1\u001b[0m formattedCrateMetadataGraph \u001b[38;5;241m=\u001b[39m crateMetadataNew[\u001b[38;5;124m'\u001b[39m\u001b[38;5;124m@graph\u001b[39m\u001b[38;5;124m'\u001b[39m]\u001b[38;5;241m.\u001b[39mcopy()\n\u001b[0;32m      2\u001b[0m rootElem \u001b[38;5;241m=\u001b[39m findRootElem(formattedCrateMetadataGraph)\n",
      "\u001b[1;31mNameError\u001b[0m: name 'crateMetadataNew' is not defined"
     ]
    }
   ],
   "source": [
    "formattedCrateMetadataGraph = crateMetadataNew['@graph'].copy()\n",
    "rootElem = findRootElem(formattedCrateMetadataGraph)"
   ]
  },
  {
   "cell_type": "code",
   "execution_count": 6,
   "metadata": {},
   "outputs": [],
   "source": [
    "import pathlib\n",
    "import json\n",
    "\n",
    "crateAPMSLoader = pathlib.Path('data/2.cm4ai_chromatin_mda-mb-468_untreated_imageembedfold1_initialrun0.1alpha')\n",
    "crateMetadataPathNew = crateAPMSLoader / 'ro-crate-metadata.json'\n",
    "crateMetadataPathOld = crateAPMSLoader / 'old-ro-crate-metadata.json'\n",
    "\n",
    "with crateMetadataPathNew.open('r') as crateFile:\n",
    "\tcrateMetadataNew = json.load(crateFile)\n",
    "\n",
    "with crateMetadataPathOld.open('r') as crateFile:\n",
    "\tcrateMetadataOld = json.load(crateFile)"
   ]
  },
  {
   "cell_type": "code",
   "execution_count": 107,
   "metadata": {},
   "outputs": [],
   "source": []
  },
  {
   "cell_type": "markdown",
   "metadata": {},
   "source": [
    "# Convert ROcrate V1.1 -> Pydantic Model"
   ]
  },
  {
   "cell_type": "code",
   "execution_count": 7,
   "metadata": {},
   "outputs": [
    {
     "name": "stderr",
     "output_type": "stream",
     "text": [
      "c:\\Users\\Max\\anaconda3\\Lib\\site-packages\\paramiko\\transport.py:219: CryptographyDeprecationWarning: Blowfish has been deprecated\n",
      "  \"class\": algorithms.Blowfish,\n"
     ]
    }
   ],
   "source": [
    "import json\n",
    "from typing import (\n",
    "\tList,\n",
    "\tDict,\n",
    "\tCallable\n",
    ")\n",
    "from fairscape_mds.models.rocrate import ROCrate\n",
    "\n",
    "class ROCrateFilterException(Exception):\n",
    "\tdef __init__(message, results):\n",
    "\t\tself.results = results\n",
    "\t\tself.message = message\n",
    "\t\tsuper().__init__(self.message)\n",
    "\n",
    "\n",
    "def filterOneMetadataGraph(metadataGraph: List[Dict], filterFunc: Callable):\n",
    "\tmetadataSearch = list(filter(filterFunc, metadataGraph))\n",
    "\n",
    "\tif len(metadataSearch) < 1:\n",
    "\t\t# raise error if more than one elem\n",
    "\t\traise ROCrateFilterException('More than one element found', metadataSearch)\n",
    "\telif len(metadataSearch) == 0:\n",
    "\t\treturn None\n",
    "\telse:\t\n",
    "\t\tmetadataElem = metadataSearch[0]\n",
    "\t\treturn metadataElem\n",
    "\n",
    "\n",
    "def findRootElem(crateMetadata)->Dict:\n",
    "\tcrateMetadataFilter = lambda x: x.get('@id') == 'ro-crate-metadata.json'\n",
    "\tcrateGUIDFilter = lambda elem: elem.get('@id') == rootMetadataGUID\n",
    "\n",
    "\t# find the ro-crate-metadata.json elem\n",
    "\troCrateMetadataElem = filterOneMetadataGraph(crateMetadataNew['@graph'], crateMetadataFilter)\n",
    "\trootMetadataGUID = roCrateMetadataElem.get('about', {}).get('@id')\n",
    "\n",
    "\trootMetadataElem = filterOneMetadataGraph(crateMetadataNew['@graph'], crateGUIDFilter)\n",
    "\n",
    "\treturn rootMetadataElem\n",
    "\n",
    "def getIndexGraphFilter(queryFunc: callable, graph: List):\n",
    "\tindexList = [ i for i, elem in  enumerate(graph) if queryFunc(elem)]\n",
    "\tif len(indexList) != 1:\n",
    "\t\traise Exception\n",
    "\telse:\n",
    "\t\treturn indexList[0]\n",
    "\n",
    "\n",
    "def pruneROCrate(metadataGraph: List, filterFunc: callable):\n",
    "\telemIndex = getIndexGraphFilter(filterFunc, metadataGraph)\n",
    "\tmetadataGraph.pop(elemIndex)\n",
    "\n",
    "def formatROCrateToModel(inputCrate: Dict)-> ROCrate:\n",
    "\t\"\"\" Converts ROCrate v1.1 metadata into a fairscape ROCrate pydantic model\n",
    "\n",
    "\t:param inputCrate: input metadata\n",
    "\t:type inputCrate: dict\n",
    "\t:return: metadata formatted as an ROCrate model\n",
    "\t:rtype: fairscape_mds.models.rocrate.ROCrate\n",
    "\t\"\"\" \n",
    "\tformattedCrateMetadataGraph = inputCrate['@graph'].copy()\n",
    "\trootElem = findRootElem(formattedCrateMetadataGraph)\n",
    "\trootMetadataGUID = rootElem.get(\"@id\")\n",
    "\n",
    "\t# pop rocrate elem\n",
    "\tpruneROCrate(formattedCrateMetadataGraph, lambda x: x.get(\"@id\") == rootMetadataGUID)\n",
    "\tpruneROCrate(formattedCrateMetadataGraph, lambda x: x.get(\"@id\") == 'ro-crate-metadata.json')\n",
    "\tpruneROCrate(formattedCrateMetadataGraph, lambda x: x.get(\"@type\") == 'Project')\n",
    "\tpruneROCrate(formattedCrateMetadataGraph, lambda x: x.get(\"@type\") == 'Organization')\n",
    "\n",
    "\t# set the metadata graph\n",
    "\trootElem['@graph'] = formattedCrateMetadataGraph\n",
    "\n",
    "\t# overwrite the metadata graph\n",
    "\trootElem['@type'] = 'https://w3id.org/EVI#ROCrate'\n",
    "\n",
    "\t# validate that root metadata elem works for rocrate\n",
    "\treturn ROCrate.model_validate(rootElem)"
   ]
  },
  {
   "cell_type": "code",
   "execution_count": 8,
   "metadata": {},
   "outputs": [],
   "source": [
    "rocratePydantic = formatROCrateToModel(crateMetadataNew)"
   ]
  },
  {
   "cell_type": "code",
   "execution_count": 10,
   "metadata": {},
   "outputs": [
    {
     "data": {
      "text/plain": [
       "ROCrate(guid='https://fairscape.net/ark:59852/rocrate-2.cm4ai_chromatin_mda-mb-468_untreated_imageembedfold1_initialrun0.1alpha', metadataType='https://w3id.org/EVI#ROCrate', additionalType='ROCrate', name='Initial integration run', sourceOrganization=None, metadataGraph=[ROCrateSoftware(guid='https://fairscape.net/ark:59852/software-cellmaps_image_embedding-N2ux5jg', metadataType='https://w3id.org/EVI#Software', name='cellmaps_image_embedding', context={'@vocab': 'https://schema.org/', 'evi': 'https://w3id.org/EVI#', 'usedSoftware': {'@id': 'https://w3id.org/EVI#', '@type': '@id'}, 'usedDataset': {'@id': 'https://w3id.org/EVI#', '@type': '@id'}, 'generatedBy': {'@id': 'https://w3id.org/EVI#generated', '@type': '@id'}, 'generated': {'@id': 'https://w3id.org/EVI#generatedBy', '@type': '@id'}, 'hasDistribution': {'@id': 'https://w3id.org/EVI#hasDistribution', '@type': '@id'}}, url=Url('https://github.com/idekerlab/cellmaps_image_embedding'), additionalType='Software', author='Clark T, Schaffer L, Obernier K, Al Manir S, Churas CP, Dailamy A, Doctor Y, Forget A, Hansen JN, Hu M, Lenkiewicz J, Levinson MA, Marquez C, Mohan J, Nourreddine S, Niestroy J, Pratt D, Qian G, Thaker S, Belisle-Pipon J-C, Brandt C, Chen J, Ding Y, Fodeh S, Krogan N, Lundberg E, Mali P, Payne-Foster P, Ratcliffe S, Ravitsky V, Sali A, Schulz W, Ideker T.', dateModified='2023-08-31', version='0.5alpha', description='Ideker Lab CM4AI 0.1 alpha MDA-MB-468 untreated chromatin Initial integration run IF Image Embedding IF microscopy images embedding fold1 A tool to generate embeddings from HPA IF images', associatedPublication='Clark T, Schaffer L, Obernier K, Al Manir S, Churas CP, Dailamy A, Doctor Y, Forget A, Hansen JN, Hu M, Lenkiewicz J, Levinson MA, Marquez C, Mohan J, Nourreddine S, Niestroy J, Pratt D, Qian G, Thaker S, Belisle-Pipon J-C, Brandt C, Chen J, Ding Y, Fodeh S, Krogan N, Lundberg E, Mali P, Payne-Foster P, Ratcliffe S, Ravitsky V, Sali A, Schulz W, Ideker T. Cell Maps for Artificial Intelligence: AI-Ready Maps of Human Cell Architecture from Disease-Relevant Cell Lines. BioRXiv 2024.', additionalDocumentation=None, fileFormat='py', usedByComputation=[], contentUrl='https://github.com/idekerlab/cellmaps_image_embedding', @type='Software', keywords=['Ideker Lab', 'CM4AI', '0.1 alpha', 'MDA-MB-468', 'untreated', 'chromatin', 'Initial integration run', 'IF Image Embedding', 'IF microscopy images', 'embedding', 'fold1', 'tools', 'cellmaps_image_embedding'], copyrightNotice='Copyright (c) 2024 by The Regents of the University of California'), ROCrateDataset(guid='https://fairscape.net/ark:59852/dataset-cellmaps_image_embedding-output-file-N2ux5jg', metadataType='https://w3id.org/EVI#Dataset', name='cellmaps_image_embedding output file', context={'@vocab': 'https://schema.org/', 'evi': 'https://w3id.org/EVI#', 'usedSoftware': {'@id': 'https://w3id.org/EVI#', '@type': '@id'}, 'usedDataset': {'@id': 'https://w3id.org/EVI#', '@type': '@id'}, 'generatedBy': {'@id': 'https://w3id.org/EVI#generated', '@type': '@id'}, 'generated': {'@id': 'https://w3id.org/EVI#generatedBy', '@type': '@id'}, 'hasDistribution': {'@id': 'https://w3id.org/EVI#hasDistribution', '@type': '@id'}}, url=None, description='Ideker Lab CM4AI 0.1 alpha MDA-MB-468 untreated chromatin Initial integration run IF Image Embedding IF microscopy images embedding fold1 file', workLicense='https://creativecommons.org/licenses/by-nc-sa/4.0/deed.en', keywords=['Ideker Lab', 'CM4AI', '0.1 alpha', 'MDA-MB-468', 'untreated', 'chromatin', 'Initial integration run', 'IF Image Embedding', 'IF microscopy images', 'embedding', 'fold1', 'tools', 'cellmaps_image_embedding', 'file'], published=True, additionalType='Dataset', author='Clark T, Schaffer L, Obernier K, Al Manir S, Churas CP, Dailamy A, Doctor Y, Forget A, Hansen JN, Hu M, Lenkiewicz J, Levinson MA, Marquez C, Mohan J, Nourreddine S, Niestroy J, Pratt D, Qian G, Thaker S, Belisle-Pipon J-C, Brandt C, Chen J, Ding Y, Fodeh S, Krogan N, Lundberg E, Mali P, Payne-Foster P, Ratcliffe S, Ravitsky V, Sali A, Schulz W, Ideker T.', datePublished='2023-08-31', version='0.5alpha', associatedPublication='Clark T, Schaffer L, Obernier K, Al Manir S, Churas CP, Dailamy A, Doctor Y, Forget A, Hansen JN, Hu M, Lenkiewicz J, Levinson MA, Marquez C, Mohan J, Nourreddine S, Niestroy J, Pratt D, Qian G, Thaker S, Belisle-Pipon J-C, Brandt C, Chen J, Ding Y, Fodeh S, Krogan N, Lundberg E, Mali P, Payne-Foster P, Ratcliffe S, Ravitsky V, Sali A, Schulz W, Ideker T. Cell Maps for Artificial Intelligence: AI-Ready Maps of Human Cell Architecture from Disease-Relevant Cell Lines. BioRXiv 2024.', additionalDocumentation=None, fileFormat='tsv', dataSchema=None, generatedBy=[], derivedFrom=[], usedByComputation=[], contentUrl='file:///2.cm4ai_chromatin_mda-mb-468_untreated_imageembedfold1_initialrun0.1alpha/image_emd.tsv', @type='Dataset', schema={}, usedBy=[], copyrightNotice='Copyright (c) 2024 by The Regents of the University of California', conditionsOfAccess='This dataset was created by investigators and staff of the Cell Maps for Artificial Intelligence project (CM4AI - https://cm4ai.org), a Data Generation Project of the NIH Bridge2AI program, and is copyright (c) 2024 by The Regents of the University of California and, for cellular imaging data, by The Board of Trustees of the Leland Stanford Junior University. It is licensed for reuse under the Creative Commons Attribution-NonCommercial-ShareAlike 4.0 International (CC-BY-NC-SA 4.0) license, whose terms are summarized here: https://creativecommons.org/licenses/by-nc-sa/4.0/deed.en.  Proper attribution credit as required by the license includes citation of the copyright holders and of the attribution parties, which includes citation of the following article: Clark T, Schaffer L, Obernier K, Al Manir S, Churas CP, Dailamy A, Doctor Y, Forget A, Hansen JN, Hu M, Lenkiewicz J, Levinson MA, Marquez C, Mohan J, Nourreddine S, Niestroy J, Pratt D, Qian G, Thaker S, Belisle-Pipon J-C, Brandt C, Chen J, Ding Y, Fodeh S, Krogan N, Lundberg E, Mali P, Payne-Foster P, Ratcliffe S, Ravitsky V, Sali A, Schulz W, Ideker T. Cell Maps for Artificial Intelligence: AI-Ready Maps of Human Cell Architecture from Disease-Relevant Cell Lines. BioRXiv 2024.”'), ROCrateDataset(guid='https://fairscape.net/ark:59852/dataset-Densenet-model-file-N2ux5jg', metadataType='https://w3id.org/EVI#Dataset', name='Densenet model file', context={'@vocab': 'https://schema.org/', 'evi': 'https://w3id.org/EVI#', 'usedSoftware': {'@id': 'https://w3id.org/EVI#', '@type': '@id'}, 'usedDataset': {'@id': 'https://w3id.org/EVI#', '@type': '@id'}, 'generatedBy': {'@id': 'https://w3id.org/EVI#generated', '@type': '@id'}, 'generated': {'@id': 'https://w3id.org/EVI#generatedBy', '@type': '@id'}, 'hasDistribution': {'@id': 'https://w3id.org/EVI#hasDistribution', '@type': '@id'}}, url=None, description='Trained Densenet model used for classification of IF images from https://github.com/CellProfiling/densenet/releases/download/v0.1.0/external_crop512_focal_slov_hardlog_class_densenet121_dropout_i768_aug2_5folds_fold0_final.pth', workLicense='https://creativecommons.org/licenses/by-nc-sa/4.0/deed.en', keywords=['Trained Densenet model', 'pytorch', 'classification'], published=True, additionalType='Dataset', author='Clark T, Schaffer L, Obernier K, Al Manir S, Churas CP, Dailamy A, Doctor Y, Forget A, Hansen JN, Hu M, Lenkiewicz J, Levinson MA, Marquez C, Mohan J, Nourreddine S, Niestroy J, Pratt D, Qian G, Thaker S, Belisle-Pipon J-C, Brandt C, Chen J, Ding Y, Fodeh S, Krogan N, Lundberg E, Mali P, Payne-Foster P, Ratcliffe S, Ravitsky V, Sali A, Schulz W, Ideker T.', datePublished='2023-08-31', version='0.5alpha', associatedPublication='Clark T, Schaffer L, Obernier K, Al Manir S, Churas CP, Dailamy A, Doctor Y, Forget A, Hansen JN, Hu M, Lenkiewicz J, Levinson MA, Marquez C, Mohan J, Nourreddine S, Niestroy J, Pratt D, Qian G, Thaker S, Belisle-Pipon J-C, Brandt C, Chen J, Ding Y, Fodeh S, Krogan N, Lundberg E, Mali P, Payne-Foster P, Ratcliffe S, Ravitsky V, Sali A, Schulz W, Ideker T. Cell Maps for Artificial Intelligence: AI-Ready Maps of Human Cell Architecture from Disease-Relevant Cell Lines. BioRXiv 2024.', additionalDocumentation=None, fileFormat='pth', dataSchema=None, generatedBy=[], derivedFrom=[], usedByComputation=[], contentUrl='file:///2.cm4ai_chromatin_mda-mb-468_untreated_imageembedfold1_initialrun0.1alpha/model.pth', @type='Dataset', schema={}, usedBy=[], copyrightNotice='Copyright (c) 2024 by The Regents of the University of California', conditionsOfAccess='This dataset was created by investigators and staff of the Cell Maps for Artificial Intelligence project (CM4AI - https://cm4ai.org), a Data Generation Project of the NIH Bridge2AI program, and is copyright (c) 2024 by The Regents of the University of California and, for cellular imaging data, by The Board of Trustees of the Leland Stanford Junior University. It is licensed for reuse under the Creative Commons Attribution-NonCommercial-ShareAlike 4.0 International (CC-BY-NC-SA 4.0) license, whose terms are summarized here: https://creativecommons.org/licenses/by-nc-sa/4.0/deed.en.  Proper attribution credit as required by the license includes citation of the copyright holders and of the attribution parties, which includes citation of the following article: Clark T, Schaffer L, Obernier K, Al Manir S, Churas CP, Dailamy A, Doctor Y, Forget A, Hansen JN, Hu M, Lenkiewicz J, Levinson MA, Marquez C, Mohan J, Nourreddine S, Niestroy J, Pratt D, Qian G, Thaker S, Belisle-Pipon J-C, Brandt C, Chen J, Ding Y, Fodeh S, Krogan N, Lundberg E, Mali P, Payne-Foster P, Ratcliffe S, Ravitsky V, Sali A, Schulz W, Ideker T. Cell Maps for Artificial Intelligence: AI-Ready Maps of Human Cell Architecture from Disease-Relevant Cell Lines. BioRXiv 2024.”'), ROCrateComputation(guid='https://fairscape.net/ark:59852/computation-IF-Image-Embedding-N2ux5jg', metadataType='https://w3id.org/EVI#Computation', name='IF Image Embedding', context={'@vocab': 'https://schema.org/', 'evi': 'https://w3id.org/EVI#', 'usedSoftware': {'@id': 'https://w3id.org/EVI#', '@type': '@id'}, 'usedDataset': {'@id': 'https://w3id.org/EVI#', '@type': '@id'}, 'generatedBy': {'@id': 'https://w3id.org/EVI#generated', '@type': '@id'}, 'generated': {'@id': 'https://w3id.org/EVI#generatedBy', '@type': '@id'}, 'hasDistribution': {'@id': 'https://w3id.org/EVI#hasDistribution', '@type': '@id'}}, url=None, additionalType='Computation', runBy='Chris Churas', dateCreated='2023-08-31', associatedPublication='Clark T, Schaffer L, Obernier K, Al Manir S, Churas CP, Dailamy A, Doctor Y, Forget A, Hansen JN, Hu M, Lenkiewicz J, Levinson MA, Marquez C, Mohan J, Nourreddine S, Niestroy J, Pratt D, Qian G, Thaker S, Belisle-Pipon J-C, Brandt C, Chen J, Ding Y, Fodeh S, Krogan N, Lundberg E, Mali P, Payne-Foster P, Ratcliffe S, Ravitsky V, Sali A, Schulz W, Ideker T. Cell Maps for Artificial Intelligence: AI-Ready Maps of Human Cell Architecture from Disease-Relevant Cell Lines. BioRXiv 2024.', additionalDocumentation=None, command=\"{'outdir': '0.1pipeline/2.cm4ai_chromatin_mda-mb-468_untreated_imageembedfold1_initialrun0.1alpha', 'inputdir': '0.1pipeline/1.cm4ai_chromatin_mda-mb-468_untreated_imageloader_initialrun0.1alpha', 'model_path': 'https://github.com/CellProfiling/densenet/releases/download/v0.1.0/external_crop512_focal_slov_hardlog_class_densenet121_dropout_i768_aug2_5folds_fold0_final.pth', 'name': None, 'organization_name': None, 'project_name': None, 'fold': 1, 'fake_embedder': False, 'dimensions': 1024, 'suffix': '.jpg', 'logconf': None, 'verbose': 4, 'program': '/cellar/users/cchuras/miniconda3/envs/py38/bin/cellmaps_image_embeddingcmd.py', 'version': '0.1.0a11'}\", usedSoftware=[IdentifierValue(guid='https://fairscape.net/ark:59852/software-cellmaps_image_embedding-N2ux5jg')], usedDataset=[IdentifierValue(guid='https://fairscape.net/ark:59852/dataset-cellmaps_imagedownloader-output-file-9LUEb5Y'), IdentifierValue(guid='https://fairscape.net/ark:59852/dataset-cellmaps_imagedownloader-output-file-9LUEb5Y'), IdentifierValue(guid='https://fairscape.net/ark:59852/dataset-B2AI_1_untreated_G1_R2_red-jpg-red-channel-image-9LUEb5Y'), IdentifierValue(guid='https://fairscape.net/ark:59852/dataset-B2AI_1_untreated_C2_R2_red-jpg-red-channel-image-9LUEb5Y'), IdentifierValue(guid='https://fairscape.net/ark:59852/dataset-B2AI_1_untreated_E1_R4_red-jpg-red-channel-image-9LUEb5Y'), IdentifierValue(guid='https://fairscape.net/ark:59852/dataset-B2AI_1_untreated_E1_R7_red-jpg-red-channel-image-9LUEb5Y'), IdentifierValue(guid='https://fairscape.net/ark:59852/dataset-B2AI_1_untreated_E3_R1_red-jpg-red-channel-image-9LUEb5Y'), IdentifierValue(guid='https://fairscape.net/ark:59852/dataset-B2AI_1_untreated_A6_R8_red-jpg-red-channel-image-9LUEb5Y'), IdentifierValue(guid='https://fairscape.net/ark:59852/dataset-B2AI_1_untreated_C8_R6_red-jpg-red-channel-image-9LUEb5Y'), IdentifierValue(guid='https://fairscape.net/ark:59852/dataset-B2AI_1_untreated_A5_R5_red-jpg-red-channel-image-9LUEb5Y'), IdentifierValue(guid='https://fairscape.net/ark:59852/dataset-B2AI_1_untreated_F9_R6_red-jpg-red-channel-image-9LUEb5Y'), IdentifierValue(guid='https://fairscape.net/ark:59852/dataset-B2AI_1_untreated_H2_R3_red-jpg-red-channel-image-9LUEb5Y'), IdentifierValue(guid='https://fairscape.net/ark:59852/dataset-B2AI_1_untreated_H4_R6_red-jpg-red-channel-image-9LUEb5Y'), IdentifierValue(guid='https://fairscape.net/ark:59852/dataset-B2AI_1_untreated_H5_R4_red-jpg-red-channel-image-9LUEb5Y'), IdentifierValue(guid='https://fairscape.net/ark:59852/dataset-B2AI_1_untreated_B3_R3_red-jpg-red-channel-image-9LUEb5Y'), IdentifierValue(guid='https://fairscape.net/ark:59852/dataset-B2AI_1_untreated_H2_R4_red-jpg-red-channel-image-9LUEb5Y'), IdentifierValue(guid='https://fairscape.net/ark:59852/dataset-B2AI_1_untreated_D3_R3_red-jpg-red-channel-image-9LUEb5Y'), IdentifierValue(guid='https://fairscape.net/ark:59852/dataset-B2AI_1_untreated_F10_R3_red-jpg-red-channel-image-9LUEb5Y'), IdentifierValue(guid='https://fairscape.net/ark:59852/dataset-B2AI_1_untreated_C9_R6_red-jpg-red-channel-image-9LUEb5Y'), IdentifierValue(guid='https://fairscape.net/ark:59852/dataset-B2AI_1_untreated_G7_R7_red-jpg-red-channel-image-9LUEb5Y'), IdentifierValue(guid='https://fairscape.net/ark:59852/dataset-B2AI_1_untreated_F1_R8_red-jpg-red-channel-image-9LUEb5Y'), IdentifierValue(guid='https://fairscape.net/ark:59852/dataset-B2AI_1_untreated_G10_R5_red-jpg-red-channel-image-9LUEb5Y'), IdentifierValue(guid='https://fairscape.net/ark:59852/dataset-B2AI_1_untreated_F4_R2_red-jpg-red-channel-image-9LUEb5Y'), IdentifierValue(guid='https://fairscape.net/ark:59852/dataset-B2AI_1_untreated_B3_R4_red-jpg-red-channel-image-9LUEb5Y'), IdentifierValue(guid='https://fairscape.net/ark:59852/dataset-B2AI_1_untreated_D7_R1_red-jpg-red-channel-image-9LUEb5Y'), IdentifierValue(guid='https://fairscape.net/ark:59852/dataset-B2AI_1_untreated_D7_R7_red-jpg-red-channel-image-9LUEb5Y'), IdentifierValue(guid='https://fairscape.net/ark:59852/dataset-B2AI_1_untreated_F5_R4_red-jpg-red-channel-image-9LUEb5Y'), IdentifierValue(guid='https://fairscape.net/ark:59852/dataset-B2AI_1_untreated_H1_R2_red-jpg-red-channel-image-9LUEb5Y'), IdentifierValue(guid='https://fairscape.net/ark:59852/dataset-B2AI_1_untreated_B1_R7_blue-jpg-blue-channel-image-9LUEb5Y'), IdentifierValue(guid='https://fairscape.net/ark:59852/dataset-B2AI_1_untreated_A10_R8_blue-jpg-blue-channel-image-9LUEb5Y'), IdentifierValue(guid='https://fairscape.net/ark:59852/dataset-B2AI_1_untreated_C11_R4_blue-jpg-blue-channel-image-9LUEb5Y'), IdentifierValue(guid='https://fairscape.net/ark:59852/dataset-B2AI_1_untreated_D7_R3_blue-jpg-blue-channel-image-9LUEb5Y'), IdentifierValue(guid='https://fairscape.net/ark:59852/dataset-B2AI_1_untreated_B8_R5_blue-jpg-blue-channel-image-9LUEb5Y'), IdentifierValue(guid='https://fairscape.net/ark:59852/dataset-B2AI_1_untreated_F2_R4_blue-jpg-blue-channel-image-9LUEb5Y'), IdentifierValue(guid='https://fairscape.net/ark:59852/dataset-B2AI_1_untreated_A5_R5_blue-jpg-blue-channel-image-9LUEb5Y'), IdentifierValue(guid='https://fairscape.net/ark:59852/dataset-B2AI_1_untreated_E10_R7_blue-jpg-blue-channel-image-9LUEb5Y'), IdentifierValue(guid='https://fairscape.net/ark:59852/dataset-B2AI_1_untreated_C12_R3_blue-jpg-blue-channel-image-9LUEb5Y'), IdentifierValue(guid='https://fairscape.net/ark:59852/dataset-B2AI_1_untreated_H5_R4_blue-jpg-blue-channel-image-9LUEb5Y'), IdentifierValue(guid='https://fairscape.net/ark:59852/dataset-B2AI_1_untreated_F12_R3_blue-jpg-blue-channel-image-9LUEb5Y'), IdentifierValue(guid='https://fairscape.net/ark:59852/dataset-B2AI_1_untreated_E5_R5_blue-jpg-blue-channel-image-9LUEb5Y'), IdentifierValue(guid='https://fairscape.net/ark:59852/dataset-B2AI_1_untreated_C7_R8_blue-jpg-blue-channel-image-9LUEb5Y'), IdentifierValue(guid='https://fairscape.net/ark:59852/dataset-B2AI_1_untreated_D1_R3_blue-jpg-blue-channel-image-9LUEb5Y'), IdentifierValue(guid='https://fairscape.net/ark:59852/dataset-B2AI_1_untreated_A7_R6_blue-jpg-blue-channel-image-9LUEb5Y'), IdentifierValue(guid='https://fairscape.net/ark:59852/dataset-B2AI_1_untreated_D9_R8_blue-jpg-blue-channel-image-9LUEb5Y'), IdentifierValue(guid='https://fairscape.net/ark:59852/dataset-B2AI_1_untreated_E9_R5_blue-jpg-blue-channel-image-9LUEb5Y'), IdentifierValue(guid='https://fairscape.net/ark:59852/dataset-B2AI_1_untreated_F8_R8_blue-jpg-blue-channel-image-9LUEb5Y'), IdentifierValue(guid='https://fairscape.net/ark:59852/dataset-B2AI_1_untreated_C10_R8_blue-jpg-blue-channel-image-9LUEb5Y'), IdentifierValue(guid='https://fairscape.net/ark:59852/dataset-B2AI_1_untreated_D6_R3_blue-jpg-blue-channel-image-9LUEb5Y'), IdentifierValue(guid='https://fairscape.net/ark:59852/dataset-B2AI_1_untreated_A6_R1_blue-jpg-blue-channel-image-9LUEb5Y'), IdentifierValue(guid='https://fairscape.net/ark:59852/dataset-B2AI_1_untreated_B2_R1_blue-jpg-blue-channel-image-9LUEb5Y'), IdentifierValue(guid='https://fairscape.net/ark:59852/dataset-B2AI_1_untreated_A5_R2_blue-jpg-blue-channel-image-9LUEb5Y'), IdentifierValue(guid='https://fairscape.net/ark:59852/dataset-B2AI_1_untreated_G8_R5_blue-jpg-blue-channel-image-9LUEb5Y'), IdentifierValue(guid='https://fairscape.net/ark:59852/dataset-B2AI_1_untreated_B7_R1_blue-jpg-blue-channel-image-9LUEb5Y'), IdentifierValue(guid='https://fairscape.net/ark:59852/dataset-B2AI_1_untreated_B12_R8_blue-jpg-blue-channel-image-9LUEb5Y'), IdentifierValue(guid='https://fairscape.net/ark:59852/dataset-B2AI_1_untreated_D3_R7_green-jpg-green-channel-image-9LUEb5Y'), IdentifierValue(guid='https://fairscape.net/ark:59852/dataset-B2AI_1_untreated_G9_R4_green-jpg-green-channel-image-9LUEb5Y'), IdentifierValue(guid='https://fairscape.net/ark:59852/dataset-B2AI_1_untreated_B7_R4_green-jpg-green-channel-image-9LUEb5Y'), IdentifierValue(guid='https://fairscape.net/ark:59852/dataset-B2AI_1_untreated_C8_R3_green-jpg-green-channel-image-9LUEb5Y'), IdentifierValue(guid='https://fairscape.net/ark:59852/dataset-B2AI_1_untreated_A6_R7_green-jpg-green-channel-image-9LUEb5Y'), IdentifierValue(guid='https://fairscape.net/ark:59852/dataset-B2AI_1_untreated_F4_R4_green-jpg-green-channel-image-9LUEb5Y'), IdentifierValue(guid='https://fairscape.net/ark:59852/dataset-B2AI_1_untreated_D6_R8_green-jpg-green-channel-image-9LUEb5Y'), IdentifierValue(guid='https://fairscape.net/ark:59852/dataset-B2AI_1_untreated_A9_R8_green-jpg-green-channel-image-9LUEb5Y'), IdentifierValue(guid='https://fairscape.net/ark:59852/dataset-B2AI_1_untreated_B4_R5_green-jpg-green-channel-image-9LUEb5Y'), IdentifierValue(guid='https://fairscape.net/ark:59852/dataset-B2AI_1_untreated_G4_R1_green-jpg-green-channel-image-9LUEb5Y'), IdentifierValue(guid='https://fairscape.net/ark:59852/dataset-B2AI_1_untreated_C12_R8_green-jpg-green-channel-image-9LUEb5Y'), IdentifierValue(guid='https://fairscape.net/ark:59852/dataset-B2AI_1_untreated_H2_R1_green-jpg-green-channel-image-9LUEb5Y'), IdentifierValue(guid='https://fairscape.net/ark:59852/dataset-B2AI_1_untreated_G2_R1_green-jpg-green-channel-image-9LUEb5Y'), IdentifierValue(guid='https://fairscape.net/ark:59852/dataset-B2AI_1_untreated_B2_R8_green-jpg-green-channel-image-9LUEb5Y'), IdentifierValue(guid='https://fairscape.net/ark:59852/dataset-B2AI_1_untreated_E3_R1_green-jpg-green-channel-image-9LUEb5Y'), IdentifierValue(guid='https://fairscape.net/ark:59852/dataset-B2AI_1_untreated_G6_R4_green-jpg-green-channel-image-9LUEb5Y'), IdentifierValue(guid='https://fairscape.net/ark:59852/dataset-B2AI_1_untreated_G2_R2_green-jpg-green-channel-image-9LUEb5Y'), IdentifierValue(guid='https://fairscape.net/ark:59852/dataset-B2AI_1_untreated_C10_R4_green-jpg-green-channel-image-9LUEb5Y'), IdentifierValue(guid='https://fairscape.net/ark:59852/dataset-B2AI_1_untreated_E10_R2_green-jpg-green-channel-image-9LUEb5Y'), IdentifierValue(guid='https://fairscape.net/ark:59852/dataset-B2AI_1_untreated_F7_R1_green-jpg-green-channel-image-9LUEb5Y'), IdentifierValue(guid='https://fairscape.net/ark:59852/dataset-B2AI_1_untreated_A2_R7_green-jpg-green-channel-image-9LUEb5Y'), IdentifierValue(guid='https://fairscape.net/ark:59852/dataset-B2AI_1_untreated_F2_R3_green-jpg-green-channel-image-9LUEb5Y'), IdentifierValue(guid='https://fairscape.net/ark:59852/dataset-B2AI_1_untreated_E3_R5_green-jpg-green-channel-image-9LUEb5Y'), IdentifierValue(guid='https://fairscape.net/ark:59852/dataset-B2AI_1_untreated_E2_R2_green-jpg-green-channel-image-9LUEb5Y'), IdentifierValue(guid='https://fairscape.net/ark:59852/dataset-B2AI_1_untreated_G7_R5_green-jpg-green-channel-image-9LUEb5Y'), IdentifierValue(guid='https://fairscape.net/ark:59852/dataset-B2AI_1_untreated_F11_R6_green-jpg-green-channel-image-9LUEb5Y'), IdentifierValue(guid='https://fairscape.net/ark:59852/dataset-B2AI_1_untreated_C8_R3_yellow-jpg-yellow-channel-image-9LUEb5Y'), IdentifierValue(guid='https://fairscape.net/ark:59852/dataset-B2AI_1_untreated_D12_R5_yellow-jpg-yellow-channel-image-9LUEb5Y'), IdentifierValue(guid='https://fairscape.net/ark:59852/dataset-B2AI_1_untreated_A6_R2_yellow-jpg-yellow-channel-image-9LUEb5Y'), IdentifierValue(guid='https://fairscape.net/ark:59852/dataset-B2AI_1_untreated_C11_R1_yellow-jpg-yellow-channel-image-9LUEb5Y'), IdentifierValue(guid='https://fairscape.net/ark:59852/dataset-B2AI_1_untreated_C12_R1_yellow-jpg-yellow-channel-image-9LUEb5Y'), IdentifierValue(guid='https://fairscape.net/ark:59852/dataset-B2AI_1_untreated_A10_R2_yellow-jpg-yellow-channel-image-9LUEb5Y'), IdentifierValue(guid='https://fairscape.net/ark:59852/dataset-B2AI_1_untreated_D11_R2_yellow-jpg-yellow-channel-image-9LUEb5Y'), IdentifierValue(guid='https://fairscape.net/ark:59852/dataset-B2AI_1_untreated_G9_R7_yellow-jpg-yellow-channel-image-9LUEb5Y'), IdentifierValue(guid='https://fairscape.net/ark:59852/dataset-B2AI_1_untreated_G5_R8_yellow-jpg-yellow-channel-image-xDirGcr'), IdentifierValue(guid='https://fairscape.net/ark:59852/dataset-B2AI_1_untreated_G3_R6_yellow-jpg-yellow-channel-image-xDirGcr'), IdentifierValue(guid='https://fairscape.net/ark:59852/dataset-B2AI_1_untreated_H5_R2_yellow-jpg-yellow-channel-image-xDirGcr'), IdentifierValue(guid='https://fairscape.net/ark:59852/dataset-B2AI_1_untreated_E5_R5_yellow-jpg-yellow-channel-image-xDirGcr'), IdentifierValue(guid='https://fairscape.net/ark:59852/dataset-B2AI_1_untreated_E4_R4_yellow-jpg-yellow-channel-image-xDirGcr'), IdentifierValue(guid='https://fairscape.net/ark:59852/dataset-B2AI_1_untreated_A9_R5_yellow-jpg-yellow-channel-image-xDirGcr'), IdentifierValue(guid='https://fairscape.net/ark:59852/dataset-B2AI_1_untreated_G8_R5_yellow-jpg-yellow-channel-image-xDirGcr'), IdentifierValue(guid='https://fairscape.net/ark:59852/dataset-B2AI_1_untreated_C11_R4_yellow-jpg-yellow-channel-image-xDirGcr'), IdentifierValue(guid='https://fairscape.net/ark:59852/dataset-B2AI_1_untreated_A5_R3_yellow-jpg-yellow-channel-image-xDirGcr'), IdentifierValue(guid='https://fairscape.net/ark:59852/dataset-B2AI_1_untreated_C1_R8_yellow-jpg-yellow-channel-image-xDirGcr'), IdentifierValue(guid='https://fairscape.net/ark:59852/dataset-B2AI_1_untreated_D12_R7_yellow-jpg-yellow-channel-image-xDirGcr'), IdentifierValue(guid='https://fairscape.net/ark:59852/dataset-B2AI_1_untreated_C3_R1_yellow-jpg-yellow-channel-image-xDirGcr'), IdentifierValue(guid='https://fairscape.net/ark:59852/dataset-B2AI_1_untreated_B3_R6_yellow-jpg-yellow-channel-image-xDirGcr'), IdentifierValue(guid='https://fairscape.net/ark:59852/dataset-B2AI_1_untreated_B2_R6_yellow-jpg-yellow-channel-image-xDirGcr'), IdentifierValue(guid='https://fairscape.net/ark:59852/dataset-B2AI_1_untreated_C7_R8_yellow-jpg-yellow-channel-image-xDirGcr'), IdentifierValue(guid='https://fairscape.net/ark:59852/dataset-B2AI_1_untreated_B11_R2_yellow-jpg-yellow-channel-image-xDirGcr'), IdentifierValue(guid='https://fairscape.net/ark:59852/dataset-B2AI_1_untreated_G2_R2_yellow-jpg-yellow-channel-image-xDirGcr'), IdentifierValue(guid='https://fairscape.net/ark:59852/dataset-B2AI_1_untreated_C4_R2_yellow-jpg-yellow-channel-image-xDirGcr')], generated=[IdentifierValue(guid='https://fairscape.net/ark:59852/dataset-cellmaps_image_embedding-output-file-N2ux5jg'), IdentifierValue(guid='https://fairscape.net/ark:59852/dataset-Densenet-model-file-N2ux5jg')], @type='Computation', keywords=['Ideker Lab', 'CM4AI', '0.1 alpha', 'MDA-MB-468', 'untreated', 'chromatin', 'Initial integration run', 'IF Image Embedding', 'IF microscopy images', 'embedding', 'fold1', 'tools', 'cellmaps_image_embedding', 'file', 'computation'], description='Ideker Lab CM4AI 0.1 alpha MDA-MB-468 untreated chromatin Initial integration run IF Image Embedding IF microscopy images embedding fold1 run of cellmaps_image_embedding', version='0.5alpha', author='Clark T, Schaffer L, Obernier K, Al Manir S, Churas CP, Dailamy A, Doctor Y, Forget A, Hansen JN, Hu M, Lenkiewicz J, Levinson MA, Marquez C, Mohan J, Nourreddine S, Niestroy J, Pratt D, Qian G, Thaker S, Belisle-Pipon J-C, Brandt C, Chen J, Ding Y, Fodeh S, Krogan N, Lundberg E, Mali P, Payne-Foster P, Ratcliffe S, Ravitsky V, Sali A, Schulz W, Ideker T.', copyrightNotice='Copyright (c) 2024 by The Regents of the University of California')], contentURL=None, distribution=None)"
      ]
     },
     "execution_count": 10,
     "metadata": {},
     "output_type": "execute_result"
    }
   ],
   "source": [
    "rocratePydantic"
   ]
  },
  {
   "cell_type": "markdown",
   "metadata": {},
   "source": [
    "## Pydantic Model to ROCratev1_1"
   ]
  },
  {
   "cell_type": "code",
   "execution_count": null,
   "metadata": {},
   "outputs": [],
   "source": []
  },
  {
   "cell_type": "markdown",
   "metadata": {},
   "source": [
    "## Testing ROCrateV1_1 Models"
   ]
  },
  {
   "cell_type": "code",
   "execution_count": 6,
   "metadata": {},
   "outputs": [],
   "source": [
    "# import rocrate models\n",
    "import os\n",
    "import sys\n",
    "\n",
    "#sys.path.insert(0, os.path.abspath(os.path.join(os.path.dirname(__file__), '../')))\n",
    "#os.path.join(os.path.dirname(__file__), '../')\n",
    "srcPath = os.path.abspath('C:\\\\Users\\\\Max\\\\Documents\\\\GitHub\\\\mds_python\\\\src\\\\' )\n",
    "sys.path.insert(0, srcPath)\n"
   ]
  },
  {
   "cell_type": "code",
   "execution_count": 8,
   "metadata": {},
   "outputs": [
    {
     "name": "stderr",
     "output_type": "stream",
     "text": [
      "c:\\Users\\Max\\anaconda3\\Lib\\site-packages\\paramiko\\transport.py:219: CryptographyDeprecationWarning: Blowfish has been deprecated\n",
      "  \"class\": algorithms.Blowfish,\n"
     ]
    }
   ],
   "source": [
    "from pydantic import BaseModel, Field\n",
    "from typing import Optional, Union, Dict, List, Literal\n",
    "from fairscape_mds.models.rocrate import ROCrateDataset, ROCrateSoftware, ROCrateComputation\n",
    "from fairscape_mds.models.fairscape_base import IdentifierValue\n",
    "\n",
    "class ROCrateOrganization(IdentifierValue):\n",
    "    metadataType: Literal['Organization'] = Field(alias=\"@type\")\n",
    "    name: str\n",
    "\n",
    "class ROCrateProject(IdentifierValue):\n",
    "    metadataType: Literal['Project'] = Field(alias=\"@type\")\n",
    "    name: str\n",
    "\n",
    "class ROCrateMetadataFileElem(BaseModel):\n",
    "    \"\"\"Metadata Element of an ROCrate cooresponding to the `ro-crate-metadata.json` file itself\n",
    "\n",
    "    Example\n",
    "\n",
    "        ```\n",
    "        {\n",
    "            \"@id\": \"ro-crate-metadata.json\",\n",
    "            \"@type\": \"CreativeWork\",\n",
    "            \"conformsTo\": {\n",
    "                \"@id\": \"https://w3id.org/ro/crate/1.2-DRAFT\"\n",
    "            },\n",
    "            \"about\": {\n",
    "                \"@id\": \"https://fairscape.net/ark:59852/rocrate-2.cm4ai_chromatin_mda-mb-468_untreated_apmsembed_initialrun0.1alpha\"\n",
    "            }\n",
    "        }\n",
    "        ```\n",
    "    \"\"\"\n",
    "    guid: str = Field(alias=\"@id\")\n",
    "    metadataType: Literal[\"CreativeWork\"] = Field(alias=\"@type\")\n",
    "    conformsTo: IdentifierValue\n",
    "    about: IdentifierValue\n",
    "\n",
    "class ROCrateMetadataElem(BaseModel):\n",
    "    \"\"\"Metadata Element of ROCrate that represents the crate as a whole\n",
    "\n",
    "    Example\n",
    "        ```\n",
    "        {\n",
    "            '@id': 'https://fairscape.net/ark:59852/rocrate-2.cm4ai_chromatin_mda-mb-468_untreated_imageembedfold1_initialrun0.1alpha',\n",
    "            '@type': ['Dataset', 'https://w3id.org/EVI#ROCrate'],\n",
    "            'name': 'Initial integration run',\n",
    "            'description': 'Ideker Lab CM4AI 0.1 alpha MDA-MB-468 untreated chromatin Initial integration run IF Image Embedding IF microscopy images embedding fold1',\n",
    "            'keywords': ['Ideker Lab', 'fold1'],\n",
    "            'isPartOf': [\n",
    "                {'@id': 'ark:/Ideker_Lab'}, \n",
    "                {'@id': 'ark:/Ideker_Lab/CM4AI'}\n",
    "                ],\n",
    "            'version': '0.5alpha',\n",
    "            'license': 'https://creativecommons.org/licenses/by-nc-sa/4.0/deed.en',\n",
    "            'associatedPublication': 'Clark T, Schaffer L, Obernier K, Al Manir S, Churas CP, Dailamy A, Doctor Y, Forget A, Hansen JN, Hu M, Lenkiewicz J, Levinson MA, Marquez C, Mohan J, Nourreddine S, Niestroy J, Pratt D, Qian G, Thaker S, Belisle-Pipon J-C, Brandt C, Chen J, Ding Y, Fodeh S, Krogan N, Lundberg E, Mali P, Payne-Foster P, Ratcliffe S, Ravitsky V, Sali A, Schulz W, Ideker T. Cell Maps for Artificial Intelligence: AI-Ready Maps of Human Cell Architecture from Disease-Relevant Cell Lines. BioRXiv 2024.',\n",
    "            'author': ['Test']\n",
    "            'conditionsOfAccess': 'This dataset was created by investigators and staff of the Cell Maps for Artificial Intelligence project (CM4AI - https://cm4ai.org), a Data Generation Project of the NIH Bridge2AI program, and is copyright (c) 2024 by The Regents of the University of California and, for cellular imaging data, by The Board of Trustees of the Leland Stanford Junior University. It is licensed for reuse under the Creative Commons Attribution-NonCommercial-ShareAlike 4.0 International (CC-BY-NC-SA 4.0) license, whose terms are summarized here: https://creativecommons.org/licenses/by-nc-sa/4.0/deed.en.  Proper attribution credit as required by the license includes citation of the copyright holders and of the attribution parties, which includes citation of the following article: Clark T, Schaffer L, Obernier K, Al Manir S, Churas CP, Dailamy A, Doctor Y, Forget A, Hansen JN, Hu M, Lenkiewicz J, Levinson MA, Marquez C, Mohan J, Nourreddine S, Niestroy J, Pratt D, Qian G, Thaker S, Belisle-Pipon J-C, Brandt C, Chen J, Ding Y, Fodeh S, Krogan N, Lundberg E, Mali P, Payne-Foster P, Ratcliffe S, Ravitsky V, Sali A, Schulz W, Ideker T. Cell Maps for Artificial Intelligence: AI-Ready Maps of Human Cell Architecture from Disease-Relevant Cell Lines. BioRXiv 2024.”',\n",
    "            'copyrightNotice': 'Copyright (c) 2024 by The Regents of the University of California',\n",
    "            'hasPart': [\n",
    "                {'@id': 'https://fairscape.net/ark:59852/software-cellmaps_image_embedding-N2ux5jg'},\n",
    "                {'@id': 'https://fairscape.net/ark:59852/dataset-cellmaps_image_embedding-output-file-N2ux5jg'},\n",
    "                {'@id': 'https://fairscape.net/ark:59852/dataset-Densenet-model-file-N2ux5jg'},\n",
    "                {'@id': 'https://fairscape.net/ark:59852/computation-IF-Image-Embedding-N2ux5jg'}\n",
    "            ]\n",
    "        }\n",
    "        ```\n",
    "    \"\"\" \n",
    "    guid: str = Field(alias=\"@id\")\n",
    "    metadataType: List[str] = Field(alias=\"@type\")\n",
    "    name: str\n",
    "    keywords: List[str]\n",
    "    isPartOf: List[IdentifierValue]\n",
    "    version: str\n",
    "    dataLicense: str = Field(alias=\"license\")\n",
    "    associatedPublication: str\n",
    "    author: Union[str, List[str]]\n",
    "    conditionsOfAccess: str\n",
    "    copyrightNotice: str\n",
    "    hasPart: List[IdentifierValue]\n",
    "    \n",
    "    pass\n",
    "\n",
    "class ROCrateV1_2(BaseModel):\n",
    "    context: Optional[Dict] = Field(alias=\"@context\")\n",
    "    metadataGraph: List[Union[\n",
    "        ROCrateDataset,\n",
    "        ROCrateSoftware,\n",
    "        ROCrateComputation,\n",
    "        ROCrateMetadataElem,\n",
    "        ROCrateMetadataFileElem,\n",
    "        ROCrateProject,\n",
    "        ROCrateOrganization\n",
    "    ]] = Field(alias=\"@graph\")"
   ]
  },
  {
   "cell_type": "markdown",
   "metadata": {},
   "source": [
    "## Preprocessing RO-Crate Metadata to support json object reference"
   ]
  },
  {
   "cell_type": "code",
   "execution_count": 16,
   "metadata": {},
   "outputs": [],
   "source": [
    "\n",
    "#cratePath = 'data/cm4ai_chromatin_mda-mb-468_paclitaxel_ifimage_0.1_alpha/ro-crate-metadata.json'\n",
    "#cratePath = \t'data/cm4ai_chromatin_mda-mb-468_vorinostat_ifimage_0.1_alpha/ro-crate-metadata.json'\n",
    "cratePath = 'data/cm4ai_chromatin_mda-mb-468_untreated_apms_0.1_alpha/ro-crate-metadata.json'\n",
    "\n",
    "with open(cratePath, 'r') as crateFile:\n",
    "\tcrateMetadata = json.load(crateFile)"
   ]
  },
  {
   "cell_type": "code",
   "execution_count": 17,
   "metadata": {},
   "outputs": [],
   "source": [
    "#crateMetadata['@graph'][2884]\n",
    "#crateMetadata['@graph'][3140]\n",
    "\n",
    "parsedMetadata = ROCrateV1_2.model_validate(crateMetadata)"
   ]
  },
  {
   "cell_type": "code",
   "execution_count": 15,
   "metadata": {},
   "outputs": [],
   "source": [
    "#debugging rocrates\n",
    "# cratePath = 'data/1.cm4ai_chromatin_mda-mb-468_untreated_imageloader_initialrun0.1alpha/ro-crate-metadata.json'\n",
    "#cratePath = 'data/2.cm4ai_chromatin_mda-mb-468_untreated_imageembedfold1_initialrun0.1alpha/ro-crate-metadata.json'\n",
    "#cratePath = 'data/2.cm4ai_chromatin_mda-mb-468_untreated_imageembedfold2_initialrun0.1alpha/ro-crate-metadata.json'\n",
    "#cratePath = 'data/3.cm4ai_chromatin_mda-mb-468_untreated_coembedfold1_initialrun0.1alpha/ro-crate-metadata.json'\n",
    "#cratePath = 'data/4.cm4ai_chromatin_mda-mb-468_untreated_hierarchy_initialrun0.1alpha/ro-crate-metadata.json'\n",
    "#cratePath = 'data/cm4ai_chromatin_mda-mb-468_paclitaxel_ifimage_0.1_alpha/ro-crate-metadata.json'\n",
    "#cratePath = \t'data/cm4ai_chromatin_mda-mb-468_vorinostat_ifimage_0.1_alpha/ro-crate-metadata.json'\n",
    "cratePath = 'data/cm4ai_chromatin_mda-mb-468_untreated_apms_0.1_alpha/ro-crate-metadata.json'\n",
    "\n",
    "index = 4\n",
    "\n",
    "with open(cratePath, 'r') as crateFile:\n",
    "\tcrateMetadata = json.load(crateFile)\n",
    "\n",
    "computationElement = crateMetadata['@graph'][index].copy()\n",
    "\n",
    "newGenerated = [{\"@id\": elem} for elem in computationElement['generated']]\n",
    "computationElement['generated'] = newGenerated\n",
    "\n",
    "computationElement['usedSoftware'] = [{\"@id\": elem} for elem in computationElement['usedSoftware']]\n",
    "computationElement['usedDataset'] = [{\"@id\": elem} for elem in computationElement['usedDataset']]\n",
    "\n",
    "# overwrite the list\n",
    "crateMetadata['@graph'][index] = computationElement\n",
    "\n",
    "with open(cratePath, 'w') as crateFile:\n",
    "\tjson.dump(crateMetadata, crateFile, indent=2)"
   ]
  },
  {
   "cell_type": "code",
   "execution_count": 10,
   "metadata": {},
   "outputs": [],
   "source": [
    "\n",
    "with open(cratePath, 'r') as crateFile:\n",
    "\tcrateMetadata = json.load(crateFile)\n",
    "\n",
    "\n",
    "for elemIndex in [i for i, elem in enumerate(crateMetadata['@graph']) if elem.get(\"@type\") == \"Dataset\"]:\n",
    "\tcrateMetadata['@graph'][elemIndex]['generatedBy'] = [\n",
    "\t\t{\"@id\": crateMetadata['@graph'][elemIndex]['generatedBy']}\n",
    "\t] \n",
    "\n",
    "\n",
    "with open(cratePath, 'w') as crateFile:\n",
    "\tjson.dump(crateMetadata, crateFile, indent=2)"
   ]
  },
  {
   "cell_type": "code",
   "execution_count": 20,
   "metadata": {},
   "outputs": [
    {
     "name": "stdout",
     "output_type": "stream",
     "text": [
      "0\n",
      "Success: data\\1.cm4ai_chromatin_mda-mb-468_untreated_apmsloader_initialrun0.1alpha\\ro-crate-metadata.json\n",
      "1\n",
      "Success: data\\1.cm4ai_chromatin_mda-mb-468_untreated_imageloader_initialrun0.1alpha\\ro-crate-metadata.json\n",
      "2\n",
      "Success: data\\2.cm4ai_chromatin_mda-mb-468_untreated_apmsembed_initialrun0.1alpha\\ro-crate-metadata.json\n",
      "3\n",
      "Success: data\\2.cm4ai_chromatin_mda-mb-468_untreated_imageembedfold1_initialrun0.1alpha\\ro-crate-metadata.json\n",
      "4\n",
      "Success: data\\2.cm4ai_chromatin_mda-mb-468_untreated_imageembedfold2_initialrun0.1alpha\\ro-crate-metadata.json\n",
      "5\n",
      "Success: data\\3.cm4ai_chromatin_mda-mb-468_untreated_coembedfold1_initialrun0.1alpha\\ro-crate-metadata.json\n",
      "6\n",
      "Success: data\\3.cm4ai_chromatin_mda-mb-468_untreated_coembedfold2_initialrun0.1alpha\\ro-crate-metadata.json\n",
      "7\n",
      "Success: data\\4.cm4ai_chromatin_mda-mb-468_untreated_hierarchy_initialrun0.1alpha\\ro-crate-metadata.json\n",
      "8\n",
      "Success: data\\cm4ai_chromatin_mda-mb-468_paclitaxel_ifimage_0.1_alpha\\ro-crate-metadata.json\n",
      "9\n",
      "Success: data\\cm4ai_chromatin_mda-mb-468_vorinostat_ifimage_0.1_alpha\\ro-crate-metadata.json\n",
      "10\n",
      "Success: data\\cm4ai_chromatin_mda-mb-468_untreated_apms_0.1_alpha\\ro-crate-metadata.json\n"
     ]
    }
   ],
   "source": [
    "allCrates = [\n",
    "\t'data/1.cm4ai_chromatin_mda-mb-468_untreated_apmsloader_initialrun0.1alpha',\n",
    "\t'data/1.cm4ai_chromatin_mda-mb-468_untreated_imageloader_initialrun0.1alpha',\n",
    "\t'data/2.cm4ai_chromatin_mda-mb-468_untreated_apmsembed_initialrun0.1alpha',\n",
    "\t'data/2.cm4ai_chromatin_mda-mb-468_untreated_imageembedfold1_initialrun0.1alpha',\n",
    "\t'data/2.cm4ai_chromatin_mda-mb-468_untreated_imageembedfold2_initialrun0.1alpha',\n",
    "\t'data/3.cm4ai_chromatin_mda-mb-468_untreated_coembedfold1_initialrun0.1alpha',\n",
    "\t'data/3.cm4ai_chromatin_mda-mb-468_untreated_coembedfold2_initialrun0.1alpha',\n",
    "\t'data/4.cm4ai_chromatin_mda-mb-468_untreated_hierarchy_initialrun0.1alpha',\n",
    "\t'data/cm4ai_chromatin_mda-mb-468_paclitaxel_ifimage_0.1_alpha',\n",
    "\t'data/cm4ai_chromatin_mda-mb-468_vorinostat_ifimage_0.1_alpha',\n",
    "\t'data/cm4ai_chromatin_mda-mb-468_untreated_apms_0.1_alpha',\n",
    "]\n",
    "\n",
    "for index, crate in enumerate(allCrates):\n",
    "\tprint(index)\n",
    "\tcratePath = pathlib.Path(crate) / 'ro-crate-metadata.json'\n",
    "\n",
    "\twith cratePath.open('r') as crateFile:\n",
    "\t\tcrateMetadataNew = json.load(crateFile)\t\n",
    "\t\tparsedMetadata = ROCrateV1_2.model_validate(crateMetadataNew)\n",
    "\tprint(f\"Success: {str(cratePath)}\")"
   ]
  },
  {
   "cell_type": "markdown",
   "metadata": {},
   "source": [
    "## Process Pydantic Model into ROCrate v1.1"
   ]
  },
  {
   "cell_type": "code",
   "execution_count": null,
   "metadata": {},
   "outputs": [],
   "source": []
  },
  {
   "cell_type": "code",
   "execution_count": null,
   "metadata": {},
   "outputs": [],
   "source": []
  }
 ],
 "metadata": {
  "kernelspec": {
   "display_name": "base",
   "language": "python",
   "name": "python3"
  },
  "language_info": {
   "codemirror_mode": {
    "name": "ipython",
    "version": 3
   },
   "file_extension": ".py",
   "mimetype": "text/x-python",
   "name": "python",
   "nbconvert_exporter": "python",
   "pygments_lexer": "ipython3",
   "version": "3.11.4"
  }
 },
 "nbformat": 4,
 "nbformat_minor": 2
}
