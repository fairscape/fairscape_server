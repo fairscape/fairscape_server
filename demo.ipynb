{
 "cells": [
  {
   "cell_type": "code",
   "execution_count": 1,
   "metadata": {},
   "outputs": [],
   "source": [
    "import requests"
   ]
  },
  {
   "cell_type": "code",
   "execution_count": null,
   "metadata": {},
   "outputs": [],
   "source": [
    "# login with credentials obtaining a JWT\n",
    "root_url = \"http://localhost:8000\"\n",
    "# root_url = \"https://fairscape.k8s.uvarc.io\"\n",
    "login_response = requests.post(f\"{root_url}/login\", json={\"email\": \"test@example.org\", \"password\": \"test\"})\n",
    "\n",
    "token_response = login_response.json()\n",
    "token = token_response.get(\"token\")"
   ]
  },
  {
   "cell_type": "code",
   "execution_count": null,
   "metadata": {},
   "outputs": [],
   "source": [
    "# create a project for this work\n",
    "project_id=\"ark:99999/CAMA/hctsa\"\n",
    "project_json = {}\n",
    "project_response = requests.post(f\"{root_url}/project\", json=project_json)"
   ]
  },
  {
   "cell_type": "code",
   "execution_count": null,
   "metadata": {},
   "outputs": [],
   "source": [
    "# register the datasets with our local instance\n",
    "\n",
    "dataset_json = {\n",
    "\t\"@id\": \"\",\n",
    "\t\"@type\": \"Dataset\",\n",
    "\t\"isPartOf\": project_id\n",
    "}\n",
    "transfer_request = requests.post(f\"{}\")"
   ]
  },
  {
   "cell_type": "code",
   "execution_count": null,
   "metadata": {},
   "outputs": [],
   "source": [
    "# register the software script\n",
    "software_json = {\n",
    "\t\"@id\": \"\",\n",
    "\t\"@type\": \"Software\",\n",
    "\t\"isPartOf\": project_id\n",
    "}\n",
    "software_request = requests.post()"
   ]
  },
  {
   "cell_type": "code",
   "execution_count": null,
   "metadata": {},
   "outputs": [],
   "source": [
    "# execute a job against the compute service\n",
    "computation_json = {\n",
    "\t\"@id\": \"\",\n",
    "\t\"@type\": \"Computation\",\n",
    "\t\"datasets\": [],\n",
    "\t\"software\": [],\n",
    "\t\"containerImage\": \"\",\n",
    "\n",
    "}\n",
    "\n",
    "computation_request = requests.post()"
   ]
  }
 ],
 "metadata": {
  "kernelspec": {
   "display_name": "Python 3.9.7 ('base')",
   "language": "python",
   "name": "python3"
  },
  "language_info": {
   "codemirror_mode": {
    "name": "ipython",
    "version": 3
   },
   "file_extension": ".py",
   "mimetype": "text/x-python",
   "name": "python",
   "nbconvert_exporter": "python",
   "pygments_lexer": "ipython3",
   "version": "3.9.7"
  },
  "orig_nbformat": 4,
  "vscode": {
   "interpreter": {
    "hash": "e34a51ce2e5d6cd426e3a877cb16f65e3dd85900a5b76bb886dcc805c982a405"
   }
  }
 },
 "nbformat": 4,
 "nbformat_minor": 2
}
