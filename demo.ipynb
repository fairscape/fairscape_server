{
 "cells": [
  {
   "cell_type": "code",
   "execution_count": null,
   "metadata": {
    "pycharm": {
     "name": "#%%\n"
    }
   },
   "outputs": [],
   "source": [
    "import requests\n",
    "import json\n",
    "from requests_toolbelt.multipart.encoder import MultipartEncoder\n",
    "\n",
    "root_url = \"http://localhost:8000/\""
   ]
  },
  {
   "cell_type": "markdown",
   "source": [
    "# Create a user"
   ],
   "metadata": {
    "collapsed": false,
    "pycharm": {
     "name": "#%% md\n"
    }
   }
  },
  {
   "cell_type": "code",
   "execution_count": null,
   "outputs": [],
   "source": [
    "# create a user\n",
    "user1_data = {\n",
    "    \"@id\": \"ark:99999/test-user1\",\n",
    "    \"name\": \"Test User1\",\n",
    "    \"type\": \"Person\",\n",
    "    \"email\": \"testuser1@example.org\",\n",
    "    \"password\": \"test1\",\n",
    "    \"organizations\": [],\n",
    "    \"projects\": [],\n",
    "    \"datasets\": [],\n",
    "    \"software\": [],\n",
    "    \"computations\": [],\n",
    "    \"evidencegraphs\": []\n",
    "}\n",
    "\n",
    "create_user1 = requests.post(root_url + \"user\", data=json.dumps(user1_data))\n",
    "create_user1.json()"
   ],
   "metadata": {
    "collapsed": false,
    "pycharm": {
     "name": "#%%\n"
    }
   }
  },
  {
   "cell_type": "markdown",
   "source": [
    "# Get token"
   ],
   "metadata": {
    "collapsed": false,
    "pycharm": {
     "name": "#%% md\n"
    }
   }
  },
  {
   "cell_type": "code",
   "execution_count": null,
   "outputs": [],
   "source": [
    "token_session_str = requests.post(root_url + \"login\" + \"?\" + \"email=\"+user1_data['email'] + \"&password=\"+user1_data['password'])\n",
    "print(token_session_str.json())\n",
    "token = token_session_str.json()['session']"
   ],
   "metadata": {
    "collapsed": false,
    "pycharm": {
     "name": "#%%\n"
    }
   }
  },
  {
   "cell_type": "markdown",
   "source": [
    "# Create an organization using Bearer token"
   ],
   "metadata": {
    "collapsed": false,
    "pycharm": {
     "name": "#%% md\n"
    }
   }
  },
  {
   "cell_type": "code",
   "execution_count": null,
   "outputs": [],
   "source": [
    "organization_data = {\n",
    "    \"@id\": \"ark:99999/test-organization\",\n",
    "    \"@type\": \"Organization\",\n",
    "    \"name\": \"test organization\",\n",
    "    \"owner\": {\n",
    "        \"@id\": user1_data['@id'],\n",
    "        \"name\": user1_data['name'],\n",
    "        \"email\": user1_data['email'],\n",
    "        \"@type\": \"Person\"\n",
    "    }\n",
    "}\n",
    "\n",
    "headers = {'Authorization': 'Bearer ' + token}\n",
    "organization_create = requests.post(root_url + f\"organization/\", data=json.dumps(organization_data), headers=headers)\n",
    "organization_create.json()"
   ],
   "metadata": {
    "collapsed": false,
    "pycharm": {
     "name": "#%%\n"
    }
   }
  },
  {
   "cell_type": "markdown",
   "source": [
    "# Create a project using Bearer token"
   ],
   "metadata": {
    "collapsed": false,
    "pycharm": {
     "name": "#%% md\n"
    }
   }
  },
  {
   "cell_type": "code",
   "execution_count": null,
   "outputs": [],
   "source": [
    "# create project\n",
    "project_data = {\n",
    "    \"@id\": \"ark:99999/test-project\",\n",
    "    \"@type\": \"Project\",\n",
    "    \"name\": \"test project\",\n",
    "    \"owner\": {\n",
    "        \"@id\": user1_data['@id'],\n",
    "        \"name\": user1_data['name'],\n",
    "        \"email\": user1_data['email'],\n",
    "        \"@type\": \"Person\"\n",
    "    },\n",
    "    \"memberOf\": {\n",
    "        \"@id\": organization_data['@id'],\n",
    "        \"@type\": organization_data['@type'],\n",
    "        \"name\": organization_data['name']\n",
    "    }\n",
    "}\n",
    "\n",
    "headers = {'Authorization': 'Bearer ' + token}\n",
    "project_create = requests.post(root_url + f\"project/\", data=json.dumps(project_data), headers=headers)\n",
    "project_create.json()"
   ],
   "metadata": {
    "collapsed": false,
    "pycharm": {
     "name": "#%%\n"
    }
   }
  },
  {
   "cell_type": "markdown",
   "source": [
    "# Transfer software/script to Object store with metadata"
   ],
   "metadata": {
    "collapsed": false,
    "pycharm": {
     "name": "#%% md\n"
    }
   }
  },
  {
   "cell_type": "code",
   "execution_count": null,
   "outputs": [],
   "source": [
    "from pathlib import Path, PurePath\n",
    "\n",
    "path_to_software = '/home/sadnan/compute-test/input-script'\n",
    "path = Path(path_to_software)\n",
    "\n",
    "for p in path.rglob(\"*\"):\n",
    "    if p.is_file():\n",
    "        # print(p.parent, ' - ', PurePath(p.parent).name, ' - ', p.name)\n",
    "        full_path = p.resolve()\n",
    "\n",
    "        software_data = {\n",
    "            \"@id\": \"ark:99999/test-software\",\n",
    "            \"@type\": \"evi:Software\",\n",
    "            \"name\": \"test software\",\n",
    "            \"owner\": {\n",
    "                \"@id\": user1_data['@id'],\n",
    "                \"name\": user1_data['name'],\n",
    "                \"email\": user1_data['email'],\n",
    "                \"@type\": \"Person\"\n",
    "            }\n",
    "        }\n",
    "\n",
    "        software_create = requests.post(root_url + f\"software/\", data=json.dumps(software_data))\n",
    "        software_create.json()\n",
    "\n",
    "        software_metadata = {\n",
    "            \"@id\": \"ark:99999/test-software-\"+ p.name,\n",
    "            \"@type\": \"DataDownload\",\n",
    "            \"name\": p.name,\n",
    "            \"encodingFormat\": Path(p.name).suffix,\n",
    "            \"encodesCreativeWork\": {\n",
    "                \"@id\": software_data['@id'],\n",
    "                \"@type\": software_data['@type'],\n",
    "                \"name\": software_data['name']\n",
    "            }\n",
    "        }\n",
    "\n",
    "        mp_encoder = MultipartEncoder(\n",
    "            fields={\n",
    "                'download': json.dumps(software_metadata),\n",
    "                # plain file object, no filename or mime type produces a\n",
    "                # Content-Disposition header with just the part name\n",
    "                'file': ('test-software', open(full_path, 'rb'), 'text/plain'),\n",
    "            }\n",
    "        )\n",
    "        software_upload = requests.post(root_url + f\"register\",\n",
    "                                        data=mp_encoder,  # The MultipartEncoder is posted as data, don't use files=...!\n",
    "                                        # The MultipartEncoder provides the content-type header with the boundary:\n",
    "                                        headers={'Content-Type': mp_encoder.content_type}\n",
    "                                        )\n",
    "\n",
    "        software_upload.json()"
   ],
   "metadata": {
    "collapsed": false,
    "pycharm": {
     "name": "#%%\n"
    }
   }
  },
  {
   "cell_type": "markdown",
   "source": [
    "# Transfer datasets to Object store with metadata"
   ],
   "metadata": {
    "collapsed": false,
    "pycharm": {
     "name": "#%% md\n"
    }
   }
  },
  {
   "cell_type": "code",
   "execution_count": null,
   "outputs": [
    {
     "name": "stdout",
     "output_type": "stream",
     "text": [
      "Transferring  UVA_1050_HR.csv  to  UVA_1050\n",
      "Transferring  UVA_1117_HR.csv  to  UVA_1117\n",
      "Transferring  UVA_1117_HR3.csv  to  UVA_1117\n",
      "Transferring  UVA_1251_HR3.csv  to  UVA_1251\n",
      "Transferring  UVA_1251_HR.csv  to  UVA_1251\n",
      "Transferring  UVA_1119_HR.csv  to  UVA_1119\n",
      "Transferring  UVA_1119_HR3.csv  to  UVA_1119\n",
      "Transferring  UVA_1400_HR.csv  to  UVA_1400\n",
      "Transferring  UVA_1400_HR3.csv  to  UVA_1400\n",
      "Transferring  UVA_1120_HR.csv  to  UVA_1120\n",
      "Transferring  UVA_1120_HR3.csv  to  UVA_1120\n",
      "['ark:99999/test-data-75d4372b-8f9e-4cfa-afe6-24e3c90e8a52', 'ark:99999/test-data-08f2f4e3-76cc-4a58-bbb5-54b354cab23b', 'ark:99999/test-data-cc94381a-c2e1-4c44-855f-7ccc1811dbc8', 'ark:99999/test-data-a0077d1e-de3c-4c2a-8707-b53413731dfd', 'ark:99999/test-data-a22e91d2-8a31-46b2-beda-e82f31b99633', 'ark:99999/test-data-4b4ca9fe-620a-4b4c-a4a8-6ee437d2c373', 'ark:99999/test-data-73e28e3c-4e20-44a4-b5a7-ce19dfcb55a8', 'ark:99999/test-data-05b02b11-3a18-4554-997f-fcc85180efa3', 'ark:99999/test-data-a35dd2f7-a282-48f1-8c71-0b880a335f1b', 'ark:99999/test-data-43a496b6-bde0-4216-a158-2f646aff480e', 'ark:99999/test-data-abdbd74e-9847-45d6-adfd-007886e760c2', 'ark:99999/test-data-7d0ab73d-0ffd-4ec7-a94e-0e67cec6fa2d']\n"
     ]
    }
   ],
   "source": [
    "from pathlib import Path, PurePath\n",
    "import uuid\n",
    "\n",
    "datasets = []\n",
    "path_to_data = \"/home/sadnan/compute-test/data/Non-PreVent-hctsa\"\n",
    "\n",
    "path = Path(path_to_data)\n",
    "\n",
    "for p in path.rglob(\"*\"):\n",
    "    if p.is_file():\n",
    "        #print(p.parent, ' - ', PurePath(p.parent).name, ' - ', p.name)\n",
    "        print('Transferring ', p.name, ' to ', PurePath(p.parent).name)\n",
    "        unique_id = str(uuid.uuid4())\n",
    "        full_path = p.resolve()\n",
    "        dataset_data = {\n",
    "            \"@id\": \"ark:99999/test-data-\" + f'{unique_id}',\n",
    "            \"@type\": \"Dataset\",\n",
    "            \"name\": PurePath(p.parent).name,\n",
    "            \"owner\": {\n",
    "                \"@id\": user1_data['@id'],\n",
    "                \"name\": user1_data['name'],\n",
    "                \"email\": user1_data['email'],\n",
    "                \"@type\": \"Person\"\n",
    "            }\n",
    "        }\n",
    "        # all dataset ids to be referenced in computation\n",
    "        datasets.append(dataset_data['@id'])\n",
    "\n",
    "        dataset_create = requests.post(root_url + f\"dataset/\", data=json.dumps(dataset_data))\n",
    "        dataset_create.json()\n",
    "\n",
    "        dataset_metadata = {\n",
    "            \"@id\": \"ark:99999/test-data-\" + f'{unique_id}' + f'-' + p.name,\n",
    "            \"@type\": \"DataDownload\",\n",
    "            \"name\": p.name,\n",
    "            \"encodingFormat\": Path(p.name).suffix,\n",
    "            \"encodesCreativeWork\": {\n",
    "                \"@id\": dataset_data['@id'],\n",
    "                \"@type\": dataset_data['@type'],\n",
    "                \"name\": dataset_data['name']\n",
    "            }\n",
    "        }\n",
    "\n",
    "        mp_encoder = MultipartEncoder(\n",
    "            fields={\n",
    "                'download': json.dumps(dataset_metadata),\n",
    "                # plain file object, no filename or mime type produces a\n",
    "                # Content-Disposition header with just the part name\n",
    "                'file': ('test-data', open(full_path, 'rb'), 'text/plain'),\n",
    "            }\n",
    "        )\n",
    "\n",
    "        data_download_upload = requests.post(root_url + f\"register\",\n",
    "                                             data=mp_encoder,\n",
    "                                             # The MultipartEncoder is posted as data, don't use files=...!\n",
    "                                             # The MultipartEncoder provides the content-type header with the boundary:\n",
    "                                             headers={'Content-Type': mp_encoder.content_type}\n",
    "                                             )\n",
    "\n",
    "        data_download_upload.json()\n",
    "\n",
    "print(datasets)"
   ],
   "metadata": {
    "collapsed": false,
    "pycharm": {
     "name": "#%%\n"
    }
   }
  },
  {
   "cell_type": "markdown",
   "source": [
    "# Create and run computation"
   ],
   "metadata": {
    "collapsed": false,
    "pycharm": {
     "name": "#%% md\n"
    }
   }
  },
  {
   "cell_type": "code",
   "execution_count": null,
   "outputs": [
    {
     "data": {
      "text/plain": "{'created': {'@id': 'ark:99999/test-computation', '@type': 'evi:Computation'}}"
     },
     "execution_count": 172,
     "metadata": {},
     "output_type": "execute_result"
    }
   ],
   "source": [
    "computation_data  =  {\n",
    "        \"@id\": \"ark:99999/test-computation\",\n",
    "        \"name\":\"test computation\",\n",
    "        \"@type\": \"evi:Computation\",\n",
    "        \"owner\": {\n",
    "                \"@id\": user1_data['@id'],\n",
    "                \"name\": user1_data['name'],\n",
    "                \"email\": user1_data['email'],\n",
    "                \"@type\": \"Person\"\n",
    "        },\n",
    "        \"container\": \"amancevice/pandas:latest\",\n",
    "        \"command\": \"python3 /mnt/input/software/hctsa_HR_script.py\",\n",
    "        \"usedSoftware\":software_data['@id'] ,\n",
    "        #\"usedSoftware\": {\n",
    "        #        \"@id\": software_data['@id'],\n",
    "        #        \"name\": software_data['name'],\n",
    "        #        \"@type\": \"evi:Software\"\n",
    "        #},\n",
    "        \"usedDataset\": dataset_data['@id'] #datasets\n",
    "}\n",
    "\n",
    "computation_create = requests.post(root_url + f\"computation/\", data=json.dumps(computation_data))\n",
    "computation_create.json()"
   ],
   "metadata": {
    "collapsed": false,
    "pycharm": {
     "name": "#%%\n"
    }
   }
  },
  {
   "cell_type": "code",
   "execution_count": 189,
   "outputs": [
    {
     "ename": "JSONDecodeError",
     "evalue": "Expecting value: line 1 column 1 (char 0)",
     "output_type": "error",
     "traceback": [
      "\u001B[0;31m---------------------------------------------------------------------------\u001B[0m",
      "\u001B[0;31mJSONDecodeError\u001B[0m                           Traceback (most recent call last)",
      "\u001B[0;32m~/PycharmProjects/mds_python/mds_env/lib/python3.7/site-packages/requests/models.py\u001B[0m in \u001B[0;36mjson\u001B[0;34m(self, **kwargs)\u001B[0m\n\u001B[1;32m    970\u001B[0m         \u001B[0;32mtry\u001B[0m\u001B[0;34m:\u001B[0m\u001B[0;34m\u001B[0m\u001B[0;34m\u001B[0m\u001B[0m\n\u001B[0;32m--> 971\u001B[0;31m             \u001B[0;32mreturn\u001B[0m \u001B[0mcomplexjson\u001B[0m\u001B[0;34m.\u001B[0m\u001B[0mloads\u001B[0m\u001B[0;34m(\u001B[0m\u001B[0mself\u001B[0m\u001B[0;34m.\u001B[0m\u001B[0mtext\u001B[0m\u001B[0;34m,\u001B[0m \u001B[0;34m**\u001B[0m\u001B[0mkwargs\u001B[0m\u001B[0;34m)\u001B[0m\u001B[0;34m\u001B[0m\u001B[0;34m\u001B[0m\u001B[0m\n\u001B[0m\u001B[1;32m    972\u001B[0m         \u001B[0;32mexcept\u001B[0m \u001B[0mJSONDecodeError\u001B[0m \u001B[0;32mas\u001B[0m \u001B[0me\u001B[0m\u001B[0;34m:\u001B[0m\u001B[0;34m\u001B[0m\u001B[0;34m\u001B[0m\u001B[0m\n",
      "\u001B[0;32m~/anaconda3/lib/python3.7/json/__init__.py\u001B[0m in \u001B[0;36mloads\u001B[0;34m(s, encoding, cls, object_hook, parse_float, parse_int, parse_constant, object_pairs_hook, **kw)\u001B[0m\n\u001B[1;32m    347\u001B[0m             parse_constant is None and object_pairs_hook is None and not kw):\n\u001B[0;32m--> 348\u001B[0;31m         \u001B[0;32mreturn\u001B[0m \u001B[0m_default_decoder\u001B[0m\u001B[0;34m.\u001B[0m\u001B[0mdecode\u001B[0m\u001B[0;34m(\u001B[0m\u001B[0ms\u001B[0m\u001B[0;34m)\u001B[0m\u001B[0;34m\u001B[0m\u001B[0;34m\u001B[0m\u001B[0m\n\u001B[0m\u001B[1;32m    349\u001B[0m     \u001B[0;32mif\u001B[0m \u001B[0mcls\u001B[0m \u001B[0;32mis\u001B[0m \u001B[0;32mNone\u001B[0m\u001B[0;34m:\u001B[0m\u001B[0;34m\u001B[0m\u001B[0;34m\u001B[0m\u001B[0m\n",
      "\u001B[0;32m~/anaconda3/lib/python3.7/json/decoder.py\u001B[0m in \u001B[0;36mdecode\u001B[0;34m(self, s, _w)\u001B[0m\n\u001B[1;32m    336\u001B[0m         \"\"\"\n\u001B[0;32m--> 337\u001B[0;31m         \u001B[0mobj\u001B[0m\u001B[0;34m,\u001B[0m \u001B[0mend\u001B[0m \u001B[0;34m=\u001B[0m \u001B[0mself\u001B[0m\u001B[0;34m.\u001B[0m\u001B[0mraw_decode\u001B[0m\u001B[0;34m(\u001B[0m\u001B[0ms\u001B[0m\u001B[0;34m,\u001B[0m \u001B[0midx\u001B[0m\u001B[0;34m=\u001B[0m\u001B[0m_w\u001B[0m\u001B[0;34m(\u001B[0m\u001B[0ms\u001B[0m\u001B[0;34m,\u001B[0m \u001B[0;36m0\u001B[0m\u001B[0;34m)\u001B[0m\u001B[0;34m.\u001B[0m\u001B[0mend\u001B[0m\u001B[0;34m(\u001B[0m\u001B[0;34m)\u001B[0m\u001B[0;34m)\u001B[0m\u001B[0;34m\u001B[0m\u001B[0;34m\u001B[0m\u001B[0m\n\u001B[0m\u001B[1;32m    338\u001B[0m         \u001B[0mend\u001B[0m \u001B[0;34m=\u001B[0m \u001B[0m_w\u001B[0m\u001B[0;34m(\u001B[0m\u001B[0ms\u001B[0m\u001B[0;34m,\u001B[0m \u001B[0mend\u001B[0m\u001B[0;34m)\u001B[0m\u001B[0;34m.\u001B[0m\u001B[0mend\u001B[0m\u001B[0;34m(\u001B[0m\u001B[0;34m)\u001B[0m\u001B[0;34m\u001B[0m\u001B[0;34m\u001B[0m\u001B[0m\n",
      "\u001B[0;32m~/anaconda3/lib/python3.7/json/decoder.py\u001B[0m in \u001B[0;36mraw_decode\u001B[0;34m(self, s, idx)\u001B[0m\n\u001B[1;32m    354\u001B[0m         \u001B[0;32mexcept\u001B[0m \u001B[0mStopIteration\u001B[0m \u001B[0;32mas\u001B[0m \u001B[0merr\u001B[0m\u001B[0;34m:\u001B[0m\u001B[0;34m\u001B[0m\u001B[0;34m\u001B[0m\u001B[0m\n\u001B[0;32m--> 355\u001B[0;31m             \u001B[0;32mraise\u001B[0m \u001B[0mJSONDecodeError\u001B[0m\u001B[0;34m(\u001B[0m\u001B[0;34m\"Expecting value\"\u001B[0m\u001B[0;34m,\u001B[0m \u001B[0ms\u001B[0m\u001B[0;34m,\u001B[0m \u001B[0merr\u001B[0m\u001B[0;34m.\u001B[0m\u001B[0mvalue\u001B[0m\u001B[0;34m)\u001B[0m \u001B[0;32mfrom\u001B[0m \u001B[0;32mNone\u001B[0m\u001B[0;34m\u001B[0m\u001B[0;34m\u001B[0m\u001B[0m\n\u001B[0m\u001B[1;32m    356\u001B[0m         \u001B[0;32mreturn\u001B[0m \u001B[0mobj\u001B[0m\u001B[0;34m,\u001B[0m \u001B[0mend\u001B[0m\u001B[0;34m\u001B[0m\u001B[0;34m\u001B[0m\u001B[0m\n",
      "\u001B[0;31mJSONDecodeError\u001B[0m: Expecting value: line 1 column 1 (char 0)",
      "\nDuring handling of the above exception, another exception occurred:\n",
      "\u001B[0;31mJSONDecodeError\u001B[0m                           Traceback (most recent call last)",
      "\u001B[0;32m/tmp/ipykernel_170956/1229412185.py\u001B[0m in \u001B[0;36m<module>\u001B[0;34m\u001B[0m\n\u001B[1;32m      1\u001B[0m \u001B[0mcomputation_execute\u001B[0m \u001B[0;34m=\u001B[0m \u001B[0mrequests\u001B[0m\u001B[0;34m.\u001B[0m\u001B[0mput\u001B[0m\u001B[0;34m(\u001B[0m\u001B[0mroot_url\u001B[0m \u001B[0;34m+\u001B[0m \u001B[0;34mf\"computation/{computation_data['@id']}/execute\"\u001B[0m\u001B[0;34m)\u001B[0m\u001B[0;34m\u001B[0m\u001B[0;34m\u001B[0m\u001B[0m\n\u001B[0;32m----> 2\u001B[0;31m \u001B[0mcomputation_execute\u001B[0m\u001B[0;34m.\u001B[0m\u001B[0mjson\u001B[0m\u001B[0;34m(\u001B[0m\u001B[0;34m)\u001B[0m\u001B[0;34m\u001B[0m\u001B[0;34m\u001B[0m\u001B[0m\n\u001B[0m",
      "\u001B[0;32m~/PycharmProjects/mds_python/mds_env/lib/python3.7/site-packages/requests/models.py\u001B[0m in \u001B[0;36mjson\u001B[0;34m(self, **kwargs)\u001B[0m\n\u001B[1;32m    973\u001B[0m             \u001B[0;31m# Catch JSON-related errors and raise as requests.JSONDecodeError\u001B[0m\u001B[0;34m\u001B[0m\u001B[0;34m\u001B[0m\u001B[0;34m\u001B[0m\u001B[0m\n\u001B[1;32m    974\u001B[0m             \u001B[0;31m# This aliases json.JSONDecodeError and simplejson.JSONDecodeError\u001B[0m\u001B[0;34m\u001B[0m\u001B[0;34m\u001B[0m\u001B[0;34m\u001B[0m\u001B[0m\n\u001B[0;32m--> 975\u001B[0;31m             \u001B[0;32mraise\u001B[0m \u001B[0mRequestsJSONDecodeError\u001B[0m\u001B[0;34m(\u001B[0m\u001B[0me\u001B[0m\u001B[0;34m.\u001B[0m\u001B[0mmsg\u001B[0m\u001B[0;34m,\u001B[0m \u001B[0me\u001B[0m\u001B[0;34m.\u001B[0m\u001B[0mdoc\u001B[0m\u001B[0;34m,\u001B[0m \u001B[0me\u001B[0m\u001B[0;34m.\u001B[0m\u001B[0mpos\u001B[0m\u001B[0;34m)\u001B[0m\u001B[0;34m\u001B[0m\u001B[0;34m\u001B[0m\u001B[0m\n\u001B[0m\u001B[1;32m    976\u001B[0m \u001B[0;34m\u001B[0m\u001B[0m\n\u001B[1;32m    977\u001B[0m     \u001B[0;34m@\u001B[0m\u001B[0mproperty\u001B[0m\u001B[0;34m\u001B[0m\u001B[0;34m\u001B[0m\u001B[0m\n",
      "\u001B[0;31mJSONDecodeError\u001B[0m: Expecting value: line 1 column 1 (char 0)"
     ]
    }
   ],
   "source": [
    "computation_execute = requests.put(root_url + f\"computation/{computation_data['@id']}/execute\")\n",
    "computation_execute.json()"
   ],
   "metadata": {
    "collapsed": false,
    "pycharm": {
     "name": "#%%\n"
    }
   }
  },
  {
   "cell_type": "code",
   "execution_count": 176,
   "outputs": [
    {
     "data": {
      "text/plain": "{'software': [{'@id': 'ark:99999/test-software',\n   '@type': 'evi:Software',\n   'name': 'test software'}]}"
     },
     "execution_count": 176,
     "metadata": {},
     "output_type": "execute_result"
    }
   ],
   "source": [
    "# list software\n",
    "list_software = requests.get(root_url + \"software\")\n",
    "list_software.json()"
   ],
   "metadata": {
    "collapsed": false,
    "pycharm": {
     "name": "#%%\n"
    }
   }
  },
  {
   "cell_type": "code",
   "execution_count": 177,
   "outputs": [
    {
     "data": {
      "text/plain": "{'@id': 'ark:99999/test-software',\n '@type': 'evi:Software',\n 'distribution': [{'@id': 'ark:99999/test-software-hctsa_HR_script.py',\n   '@type': 'DataDownload',\n   'name': 'hctsa_HR_script.py',\n   'contentUrl': 'test software/hctsa_HR_script.py'}],\n 'evi:usedBy': [],\n 'context': {'@vocab': 'https://schema.org/', 'evi': 'https://w3id.org/EVI#'},\n 'name': 'test software',\n 'owner': {'@id': 'ark:99999/test-user1',\n  '@type': 'Person',\n  'name': 'Test User1',\n  'email': 'testuser1@example.org'}}"
     },
     "execution_count": 177,
     "metadata": {},
     "output_type": "execute_result"
    }
   ],
   "source": [
    "# read specific software\n",
    "get_software = requests.get(root_url + f\"software/{software_data['@id']}\")\n",
    "get_software.json()"
   ],
   "metadata": {
    "collapsed": false,
    "pycharm": {
     "name": "#%%\n"
    }
   }
  },
  {
   "cell_type": "code",
   "execution_count": null,
   "outputs": [],
   "source": [],
   "metadata": {
    "collapsed": false,
    "pycharm": {
     "name": "#%%\n"
    }
   }
  }
 ],
 "metadata": {
  "kernelspec": {
   "display_name": "Python 3.9.7 ('base')",
   "language": "python",
   "name": "python3"
  },
  "language_info": {
   "codemirror_mode": {
    "name": "ipython",
    "version": 3
   },
   "file_extension": ".py",
   "mimetype": "text/x-python",
   "name": "python",
   "nbconvert_exporter": "python",
   "pygments_lexer": "ipython3",
   "version": "3.9.7"
  },
  "orig_nbformat": 4,
  "vscode": {
   "interpreter": {
    "hash": "e34a51ce2e5d6cd426e3a877cb16f65e3dd85900a5b76bb886dcc805c982a405"
   }
  }
 },
 "nbformat": 4,
 "nbformat_minor": 2
}