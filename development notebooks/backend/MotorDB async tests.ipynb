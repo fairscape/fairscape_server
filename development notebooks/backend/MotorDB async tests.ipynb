{
 "cells": [
  {
   "cell_type": "code",
   "execution_count": 1,
   "id": "bcef5812-7d5f-4838-9618-3e1b5c9b72d4",
   "metadata": {},
   "outputs": [],
   "source": [
    "# Install a pip package in the current Jupyter kernel\n",
    "#import sys\n",
    "#!{sys.executable} -m pip install motor\n",
    "#!{sys.executable} -m pip instalml pydantic[email]"
   ]
  },
  {
   "cell_type": "markdown",
   "id": "83bff65b-ee97-433e-8144-047662617760",
   "metadata": {},
   "source": [
    "## Setup"
   ]
  },
  {
   "cell_type": "code",
   "execution_count": 173,
   "id": "4f1c52b0-3f3e-4b9d-8d11-3493db284e92",
   "metadata": {},
   "outputs": [],
   "source": [
    "import os\n",
    "import sys\n",
    "\n",
    "sys.path.insert(0, os.path.abspath(os.path.join(os.getcwd(), '../')))\n",
    "\n",
    "import motor.motor_asyncio\n",
    "from functools import lru_cache\n",
    "\n",
    "from mds.config import (\n",
    "    get_mongo_config\n",
    ")\n",
    "import uuid\n"
   ]
  },
  {
   "cell_type": "code",
   "execution_count": 172,
   "id": "68ab3035-412b-49bc-b981-71112957c4f8",
   "metadata": {},
   "outputs": [],
   "source": [
    "@lru_cache()\n",
    "def get_motor_client():\n",
    "    mongo_config = get_mongo_config()\n",
    "    mongo_config.user = \"root\"\n",
    "    mongo_config.password = \"rootpass\"\n",
    "    mongo_url =f\"mongodb://{mongo_config.user}:{mongo_config.password}@{mongo_config.host}:{mongo_config.port}/\"\n",
    "    return motor.motor_asyncio.AsyncIOMotorClient(mongo_url)\n",
    "\n",
    "mongo_config = get_mongo_config()\n",
    "motor_client = get_motor_client()\n",
    "\n",
    "db = motor_client[mongo_config.db]"
   ]
  },
  {
   "cell_type": "code",
   "execution_count": 116,
   "id": "f4b47a23-0979-4e52-a2ff-0d87ca41e2d2",
   "metadata": {},
   "outputs": [],
   "source": [
    "from pydantic import BaseModel, Field, EmailStr\n",
    "from bson import ObjectId\n",
    "from typing import Optional, List\n",
    "from fastapi.encoders import jsonable_encoder"
   ]
  },
  {
   "cell_type": "code",
   "execution_count": 117,
   "id": "efc26241-8fc2-4b94-8f66-9c71bf83c655",
   "metadata": {},
   "outputs": [],
   "source": [
    "class PyObjectId(ObjectId):\n",
    "    @classmethod\n",
    "    def __get_validators__(cls):\n",
    "        yield cls.validate\n",
    "\n",
    "    @classmethod\n",
    "    def validate(cls, v):\n",
    "        if not ObjectId.is_valid(v):\n",
    "            raise ValueError(\"Invalid objectid\")\n",
    "        return ObjectId(v)\n",
    "\n",
    "    @classmethod\n",
    "    def __modify_schema__(cls, field_schema):\n",
    "        field_schema.update(type=\"string\")"
   ]
  },
  {
   "cell_type": "markdown",
   "id": "1c8fb990-ebdd-43fd-9b22-140493266594",
   "metadata": {},
   "source": [
    "## Identifier Factory Functions"
   ]
  },
  {
   "cell_type": "code",
   "execution_count": 123,
   "id": "dc701f38-13e5-46bc-8154-92c180d40a32",
   "metadata": {},
   "outputs": [],
   "source": [
    "def UserId():\n",
    "    return f\"ark:{namespace}/user/{uuid.uuid4()}\""
   ]
  },
  {
   "cell_type": "code",
   "execution_count": 144,
   "id": "f8af4b14-527b-43e3-83b6-07065b1d07a6",
   "metadata": {},
   "outputs": [],
   "source": [
    "def UUIDGuidFactory():\n",
    "    return f\"ark:{namespace}/{uuid.uuid4()}\""
   ]
  },
  {
   "cell_type": "code",
   "execution_count": 125,
   "id": "c553c15f-7d60-49b1-82a4-e51f605ad7e2",
   "metadata": {},
   "outputs": [],
   "source": [
    "class CompactView(BaseModel):\n",
    "    guid: str = Field(alias=\"@id\")\n",
    "    metadataType: str = Field(alias=\"@context\")\n",
    "    name: str = Field(...)"
   ]
  },
  {
   "cell_type": "markdown",
   "id": "1348de60-d3d6-419d-9aa1-8a8fc37352f2",
   "metadata": {},
   "source": [
    "## Exceptions"
   ]
  },
  {
   "cell_type": "code",
   "execution_count": 171,
   "id": "6b03f141-cd34-44ea-8c5e-880ecf7c10e1",
   "metadata": {},
   "outputs": [],
   "source": [
    "## User Exceptions\n",
    "class UserExistsError(Exception):\n",
    "    pass\n",
    "\n",
    "class UserNotFoundError(Exception):\n",
    "    pass\n"
   ]
  },
  {
   "cell_type": "code",
   "execution_count": 147,
   "id": "b5d61463-787d-4550-87cd-98bb878ce167",
   "metadata": {},
   "outputs": [],
   "source": [
    "\n",
    "\n",
    "class MongoNotFoundError(Exception):\n",
    "    pass\n",
    "\n",
    "class MongoValidationError(Exception):\n",
    "    pass\n",
    "\n",
    "class MongoUpdateFailedError(Exception):\n",
    "    pass"
   ]
  },
  {
   "cell_type": "markdown",
   "id": "206465c9-0ae7-41b6-982b-c2470ff3a186",
   "metadata": {},
   "source": [
    "## MOTOR Base Functions"
   ]
  },
  {
   "cell_type": "code",
   "execution_count": 170,
   "id": "a48c588e-006f-4679-87e1-de6070a819e7",
   "metadata": {},
   "outputs": [],
   "source": [
    "async def HydrateARKs(\n",
    "    collection: motor.motor_asyncio.AsyncIOMotorCollection, \n",
    "    arks: List[str]\n",
    "):\n",
    "    \n",
    "    pass"
   ]
  },
  {
   "cell_type": "code",
   "execution_count": 159,
   "id": "3f9f506a-0aa3-4620-b3d5-784266224fda",
   "metadata": {},
   "outputs": [],
   "source": [
    "async def MotorReadByID(\n",
    "    collection: motor.motor_asyncio.AsyncIOMotorCollection, \n",
    "    identifier: str\n",
    "):\n",
    "    result = await collection.find_one({\"@id\": identifier})\n",
    "    if result is None:\n",
    "        raise MongoNotFoundError()\n",
    "    else:\n",
    "        return result\n"
   ]
  },
  {
   "cell_type": "code",
   "execution_count": 160,
   "id": "8668bd5d-4804-42ec-aac2-9194773a10db",
   "metadata": {},
   "outputs": [],
   "source": [
    "async def MotorFindOne(\n",
    "    collection: motor.motor_asyncio.AsyncIOMotorCollection,\n",
    "    query: dict\n",
    "):\n",
    "    result = await collection.find_one(query)\n",
    "    if result is None:\n",
    "        raise MongoNotFoundError()\n",
    "    else:\n",
    "        return result"
   ]
  },
  {
   "cell_type": "code",
   "execution_count": 161,
   "id": "231ff0ab-89ec-4e55-86da-d8871903b03d",
   "metadata": {},
   "outputs": [],
   "source": [
    "async def MotorUpdateOneByID(\n",
    "    collection: motor.motor_asyncio.AsyncIOMotorCollection,\n",
    "    identifier: str,\n",
    "    update: dict\n",
    "):\n",
    "\n",
    "    update_result = await collection.update_one(\n",
    "        {\"@id\": identifier}, \n",
    "        update\n",
    "    )\n",
    "    if update_result.modified_count != 1:\n",
    "        raise MongoUpdateFailedError()\n",
    "\n",
    "    updated_document = await collection.find_one({\"@id\": identifier})\n",
    "    return updated_document"
   ]
  },
  {
   "cell_type": "code",
   "execution_count": 157,
   "id": "7e524d3c-61db-426d-b430-7269b5621cda",
   "metadata": {},
   "outputs": [],
   "source": [
    "async def MotorInsertOne(\n",
    "    collection: motor.motor_asyncio.AsyncIOMotorCollection,\n",
    "    document: dict\n",
    "):\n",
    "    inserted_result = await collection.insert_one(document)\n",
    "    return inserted_result"
   ]
  },
  {
   "cell_type": "code",
   "execution_count": 162,
   "id": "87f11c31-2cfb-476e-9252-9010813888f0",
   "metadata": {},
   "outputs": [],
   "source": [
    "async def MotorDeleteById(\n",
    "    collection: motor.motor_asyncio.AsyncIOMotorCollection,\n",
    "    identifier: str\n",
    "):\n",
    "    # find one and delete\n",
    "    document = await collection.find_one_and_delete({\"@id\": identifier})\n",
    "    if document is None:\n",
    "        raise MongoNotFoundError()\n",
    "    else:\n",
    "        return document"
   ]
  },
  {
   "cell_type": "code",
   "execution_count": 163,
   "id": "83eb6958-61c7-4b07-8f26-55cbb33f2ec6",
   "metadata": {},
   "outputs": [],
   "source": [
    "async def MotorList(\n",
    "    collection: motor.motor_asyncio.AsyncIOMotorCollection,\n",
    "    query: dict,\n",
    "    length: int = 100\n",
    "):\n",
    "    cursor = collection.find(query)\n",
    "    result_list = await cursor.to_list(length=100)\n",
    "    return result_list"
   ]
  },
  {
   "cell_type": "markdown",
   "id": "bc2e0093-e080-4b4d-9da3-7634f97a5c03",
   "metadata": {},
   "source": [
    "## User"
   ]
  },
  {
   "cell_type": "markdown",
   "id": "7c72cdcb-a229-4459-8bbc-8343f09191ab",
   "metadata": {},
   "source": [
    "### User Models\n",
    "\n",
    "- CreateUserModel\n",
    "    - POST Request\n",
    "- StorageUserModel\n",
    "    - Storage Representation of Metadata\n",
    "- UpdateUserModel\n",
    "    - Update request, any of the properties a user may update\n",
    "- ReadUserModel\n",
    "    - How User detail model is returned to a lookup request"
   ]
  },
  {
   "cell_type": "code",
   "execution_count": 166,
   "id": "7134d234-3c37-4154-97bc-a36f0e9630a3",
   "metadata": {},
   "outputs": [],
   "source": [
    "class CreateUserModel(BaseModel):\n",
    "    id: PyObjectId = Field(default_factory=PyObjectId, alias=\"_id\")\n",
    "    guid: str = Field(default_factory=UserId, alias=\"@id\")\n",
    "    name: str = Field(...)\n",
    "    email: EmailStr = Field(...)\n",
    "    password: str = Field(...)\n",
    " \n",
    "\n",
    "    class Config:\n",
    "        allow_population_by_field_name = True\n",
    "        arbitrary_types_allowed = True\n",
    "        json_encoders = {ObjectId: str}\n",
    "        schema_extra = {\n",
    "            \"example\": {\n",
    "                \"name\": \"Jane Doe\",\n",
    "                \"email\": \"jdoe@example.com\",\n",
    "                \"password\": \"test-password\"\n",
    "            }\n",
    "        }\n",
    "\n",
    "class UpdateUserModel(BaseModel):\n",
    "    name: Optional[str] = Field(default=None)\n",
    "    email: Optional[EmailStr] = Field(default=None)\n",
    "    password: Optional[str] = Field(default=None)\n",
    "\n",
    "    class Config:\n",
    "        arbitrary_types_allowed = True\n",
    "        json_encoders = {ObjectId: str}\n",
    "        schema_extra = {\n",
    "            \"example\": {\n",
    "                \"name\": \"Jane Doe\",\n",
    "                \"email\": \"jdoe@example.com\",\n",
    "                \"password\": \"test-password\"\n",
    "            }\n",
    "        }\n",
    "\n",
    "DefaultUserContext = {\n",
    "    \"@vocab\": \"https://schema.org/\",\n",
    "    \"evi\": \"https://w3id.org/EVI#\"\n",
    "}\n",
    "\n",
    "\n",
    "\n",
    "class UserMaterializedProperties(BaseModel):\n",
    "    datasets: List[str] = Field(default_factory=list)\n",
    "    software: List[str] = Field(default_factory=list)\n",
    "    computations: List[str] = Field(default_factory=list)\n",
    "    rocrates: List[str] = Field(default_factory=list)\n",
    "    organizations: List[str] = Field(default_factory=list)\n",
    "    projects: List[str] = Field(default_factory=list)\n",
    "\n",
    "\n",
    "class ReadUserModel(UserMaterializedProperties):\n",
    "    guid: str = Field(alias=\"@id\")\n",
    "    context: dict = Field(default=DefaultUserContext, alias=\"@type\")\n",
    "    metadataType: str = Field(default=\"Person\", alias=\"@type\")\n",
    "    name: str = Field(...)\n",
    "    \n",
    "    \n",
    "    def Hydrate(self, identifier_collection: motor.MotorCollection):\n",
    "        \n",
    "        pass\n",
    "    \n",
    "\n",
    "class StorageUserModel(CreateUserModel):\n",
    "    active: bool = Field(default=True)\n",
    "    datasets: List[str] = Field(default_factory=list)\n",
    "    software: List[str] = Field(default_factory=list)\n",
    "    computations: List[str] = Field(default_factory=list)\n",
    "    rocrates: List[str] = Field(default_factory=list)\n",
    "    organizations: List[str] = Field(default_factory=list)\n",
    "    projects: List[str] = Field(default_factory=list)\n",
    "\n",
    "    def model_post_init(self):\n",
    "        pass\n"
   ]
  },
  {
   "cell_type": "markdown",
   "id": "1273bc36-6e9e-439f-b57c-8a7e2914c2ee",
   "metadata": {
    "jp-MarkdownHeadingCollapsed": true
   },
   "source": [
    "### USER Functions"
   ]
  },
  {
   "cell_type": "code",
   "execution_count": 138,
   "id": "5c57c127-e4cc-444a-9a5c-eea33003510d",
   "metadata": {},
   "outputs": [],
   "source": [
    "async def CreateUser(user_data: CreateUserModel):\n",
    "    # TODO hash password\n",
    "    \n",
    "    stored_user = StorageUserModel(**user_data.dict(by_alias=True))\n",
    "    user_document = jsonable_encoder(stored_user)\n",
    "\n",
    "    # does user already exist\n",
    "    user_query = await db[mongo_config.user_collection].find_one(\n",
    "        {\"email\": user_data.email}\n",
    "         )\n",
    "    if user_query is not None:\n",
    "        raise UserExistsError()\n",
    "    \n",
    "    inserted_user = await db[mongo_config.user_collection].insert_one(user_document)\n",
    "    return inserted_user.inserted_id\n",
    "\n",
    "\n",
    "async def UpdateUser(user_id: str, user_update: UpdateUserModel):\n",
    "\n",
    "    json_encoded_update = jsonable_encoder(user_update)\n",
    "    update_json = {key: value for key, value in json_encoded_update.items() if value is not None}\n",
    "    coll = db[mongo_config.user_collection]\n",
    "\n",
    "    update_result = await coll.update_one({\"@id\": user_id}, {\"$set\": update_json})\n",
    "    if update_result.modified_count != 1:\n",
    "        raise MongoUpdateFailedError()\n",
    "\n",
    "    user_document = await coll.find_one({\"@id\": user_id})\n",
    "    if user_document is not None:\n",
    "        try:\n",
    "            updated_user_content = StorageUserModel(**user_document)\n",
    "            return updated_user_content\n",
    "        except: #validation error\n",
    "            raise MongoValidationError()\n",
    "\n",
    "\n",
    "async def ListUsers():\n",
    "    cursor = db[mongo_config.user_collection].find()\n",
    "    users = await cursor.to_list(length=100)\n",
    "    return users\n",
    "\n",
    "\n",
    "async def ReadUser(user_id: str):\n",
    "    user_document = await db[mongo_config.user_collection].find_one({\"@id\": user_id})\n",
    "    if user_document is None:\n",
    "        raise UserNotFoundError()\n",
    "    else:\n",
    "        # TODO Hydrate All Arks and return UserReadModel\n",
    "        # user_storage_model = StorageUserModel(**user_document)\n",
    "        # user_read_model = StorageUserModel.Hydrate(collection)\n",
    "        # return user_read_model\n",
    "        return StorageUserModel(**user_document)\n",
    "\n",
    "\n",
    "async def DeleteUser(user_id: str):\n",
    "    coll = db[mongo_config.user_collection]\n",
    "    user_document = await coll.find_one({\"@id\": user_id})\n",
    "    if user_document is not None:\n",
    "        try:\n",
    "            user_model = StorageUserModel(**user_document)\n",
    "        except: #validation error\n",
    "            raise MongoValidationError()\n",
    "\n",
    "        # update user\n",
    "        update_user = coll.update_one(\n",
    "            {\"@id\": user_id}, \n",
    "            {\"$set\": {\"active\": False, \"password\": \"\"} }\n",
    "        )\n",
    "        # check that record was updated\n",
    "        if update_user.modified_count != 1:\n",
    "            raise MongoUpdateFailedError()\n",
    "        else:\n",
    "            return None\n",
    "    else:\n",
    "        raise UserNotFoundError()"
   ]
  },
  {
   "cell_type": "markdown",
   "id": "43628503-e2d4-401c-bf5d-ccc383d4a9db",
   "metadata": {
    "jp-MarkdownHeadingCollapsed": true
   },
   "source": [
    "### User Tests"
   ]
  },
  {
   "cell_type": "code",
   "execution_count": 139,
   "id": "e3646c6e-4d01-4573-978a-c8963b933f3e",
   "metadata": {},
   "outputs": [
    {
     "name": "stdout",
     "output_type": "stream",
     "text": [
      "user not found\n"
     ]
    }
   ],
   "source": [
    "\n",
    "\n",
    "# create user\n",
    "test_user = {\n",
    "    \"name\": \"Jane Doe\",\n",
    "    \"email\": \"jdoe@example.com\",\n",
    "    \"password\": \"test-password\"\n",
    "}\n",
    "create_test_user = CreateUserModel(**test_user)\n",
    "\n",
    "\n",
    "async def create_user():\n",
    "    created_test_user_obj_id = await CreateUser(create_test_user)\n",
    "    return created_test_user_obj_id\n",
    "\n",
    "user_obj_id = await create_user()\n",
    "    \n",
    "# user already created\n",
    "try:\n",
    "    user_obj_id = await create_user()\n",
    "except UserExistsError:\n",
    "    pass\n",
    "    \n",
    "\n",
    "\n",
    "# read nonexistant user\n",
    "try:\n",
    "    await ReadUser(\"ark:99999/user/test\")\n",
    "except UserNotFoundError:\n",
    "    print(\"user not found\")\n",
    "\n",
    "# update a user\n",
    "name_update = UpdateUserModel(**{\"name\":\"Jonathan Doe\"})\n",
    "await UpdateUser(user_id= create_test_user.guid, user_update=name_update)\n",
    "\n",
    "    \n",
    "# list users\n",
    "list_users = await ListUsers()\n",
    "    "
   ]
  },
  {
   "cell_type": "markdown",
   "id": "48db5fbb-829c-4f3c-9792-94ff1ec3188f",
   "metadata": {},
   "source": [
    "## Organization Async"
   ]
  },
  {
   "cell_type": "markdown",
   "id": "4521d2e6-ee9f-4783-b138-a54130b26afb",
   "metadata": {},
   "source": [
    "### Organization Models"
   ]
  },
  {
   "cell_type": "code",
   "execution_count": 146,
   "id": "6bcc923a-ea45-4729-be1e-cb386405e039",
   "metadata": {},
   "outputs": [],
   "source": [
    "class CreateOrganizationModel(BaseModel):\n",
    "    guid: str = Field(default_factory=UUIDGuidFactory, alias=\"@id\")\n",
    "    type = \"Organization\"\n",
    "    name: str = Field(...)\n",
    "    description: Optional[str] = Field(...)\n",
    "    url: str = Field(...)\n",
    "\n",
    "\n",
    "class StorageOrganizationModel(CreateOrganizationModel):\n",
    "    owner: List[str] = Field(default=[])\n",
    "    members: List[str] = Field(default=[])\n",
    "    projects: List[str] = Field(default=[])\n",
    "\n",
    "\n",
    "class ReadOrganizationModel(CreateOrganizationModel):\n",
    "    owner: List[CompactView] = Field(default=[])\n",
    "    members: List[CompactView] = Field(default=[])\n",
    "    projects: List[CompactView] = Field(default=[])\n",
    "\n",
    "\n",
    "class UpdateOrganizationModel(BaseModel):\n",
    "    name: Optional[str] = Field(default=None)\n",
    "    description: Optional[str] = Field(default=None)\n",
    "    members: Optional[List[str]] = Field(default=[])\n",
    "    projects: Optional[List[str]] = Field(default=[])"
   ]
  },
  {
   "cell_type": "markdown",
   "id": "8e4b981c-97f7-4371-83b0-1a6c2aba8e77",
   "metadata": {},
   "source": [
    "### Organization Functions"
   ]
  },
  {
   "cell_type": "code",
   "execution_count": null,
   "id": "2258a39c-cc8b-4ee2-8b19-37bdf79aaa99",
   "metadata": {},
   "outputs": [],
   "source": [
    "async def CreateOrganization(org_model: CreateOrganizationModel):\n",
    "    \n",
    "    # update user\n",
    "    \n",
    "    pass\n",
    "\n",
    "\n",
    "async def ReadOrganization(org_id: str):\n",
    "     \n",
    "    pass\n",
    "\n",
    "\n",
    "async def UpdateOrganization(org_id: str, org_update: UpdateOrganizationModel):\n",
    "    pass\n",
    "\n",
    "\n",
    "async def DeleteOrganization():\n",
    "\n",
    "    # check if any projects are part of this organization\n",
    "\n",
    "    # update projects to remove them from the organization\n",
    "\n",
    "    # update users to remove them from this organization\n",
    "    \n",
    "    pass"
   ]
  },
  {
   "cell_type": "markdown",
   "id": "864f048d-c0ed-4232-8ea6-970a4103ff10",
   "metadata": {},
   "source": [
    "### Organization Tests"
   ]
  },
  {
   "cell_type": "code",
   "execution_count": null,
   "id": "1415c32c-0385-4564-97ad-36adc2293059",
   "metadata": {},
   "outputs": [],
   "source": []
  },
  {
   "cell_type": "markdown",
   "id": "d08afad4-7dac-49af-82f6-fac7538df73b",
   "metadata": {},
   "source": [
    "## Project Async\n"
   ]
  },
  {
   "cell_type": "markdown",
   "id": "6781ebf8-1c1e-4217-be62-3db424c31396",
   "metadata": {},
   "source": [
    "### Project Models"
   ]
  },
  {
   "cell_type": "markdown",
   "id": "d7e9f558-5ce2-4c8e-b72c-5d157bc33e39",
   "metadata": {},
   "source": [
    "### Project Functions"
   ]
  },
  {
   "cell_type": "markdown",
   "id": "bf1c5e44-ed41-4e19-9cfb-9ebae504d3b6",
   "metadata": {},
   "source": [
    "### Project Tests"
   ]
  },
  {
   "cell_type": "markdown",
   "id": "e26bb7b5-2f84-458f-ac59-587ef9ee381e",
   "metadata": {},
   "source": [
    "## ROCrate Async\n",
    "\n"
   ]
  },
  {
   "cell_type": "markdown",
   "id": "5111ec72-e8e7-4397-ac1b-b36b59ab6a08",
   "metadata": {},
   "source": [
    "### ROCrate Models"
   ]
  },
  {
   "cell_type": "markdown",
   "id": "e5059d6f-bf06-489b-ab1d-c34614897852",
   "metadata": {},
   "source": [
    "### ROCrate Functions"
   ]
  },
  {
   "cell_type": "markdown",
   "id": "4157815a-9e1d-476d-81cd-97e0ad6b8180",
   "metadata": {},
   "source": [
    "### ROCrate Tests"
   ]
  },
  {
   "cell_type": "markdown",
   "id": "1eb897e3-b994-4eab-a9d7-464a21d593b4",
   "metadata": {},
   "source": [
    "## Dataset Async\n"
   ]
  },
  {
   "cell_type": "markdown",
   "id": "9b87c0e8-0689-42fc-b7e4-8e03c5913110",
   "metadata": {},
   "source": [
    "### Dataset Models"
   ]
  },
  {
   "cell_type": "markdown",
   "id": "026e5314-5435-4191-aec8-4a71a3365988",
   "metadata": {},
   "source": [
    "### Dataset Functions"
   ]
  },
  {
   "cell_type": "markdown",
   "id": "9935bdf6-9aaa-4ef0-859e-9227f6782b72",
   "metadata": {},
   "source": [
    "### Dataset Tests"
   ]
  },
  {
   "cell_type": "markdown",
   "id": "3d40442b-4074-4caa-ac4a-f3b8273956ff",
   "metadata": {},
   "source": [
    "## Computation Async"
   ]
  },
  {
   "cell_type": "markdown",
   "id": "b849adfb-5aeb-41c5-8422-d5e213bd9678",
   "metadata": {},
   "source": [
    "### Computation Models"
   ]
  },
  {
   "cell_type": "markdown",
   "id": "1fcadb60-475a-4a41-ad57-fdf516235075",
   "metadata": {},
   "source": [
    "### Computation Functions"
   ]
  },
  {
   "cell_type": "markdown",
   "id": "479a2fb2-0c6f-4720-bdbc-2abf6ce20057",
   "metadata": {},
   "source": [
    "### Compuatation Tests"
   ]
  },
  {
   "cell_type": "markdown",
   "id": "c8e5ab6f-50fc-4727-a900-940c79892005",
   "metadata": {},
   "source": [
    "## Software Async"
   ]
  },
  {
   "cell_type": "markdown",
   "id": "cf8917c4-c5a8-4f0b-85a6-330a1e2495e8",
   "metadata": {},
   "source": [
    "### Software Models"
   ]
  },
  {
   "cell_type": "markdown",
   "id": "d80fe03a-79f5-4e2f-82ba-f2ec20f93f0e",
   "metadata": {},
   "source": [
    "### Software Functions"
   ]
  },
  {
   "cell_type": "markdown",
   "id": "625f53d6-4432-487c-aa13-d90d61cbc9a1",
   "metadata": {},
   "source": [
    "### Software Tests"
   ]
  },
  {
   "cell_type": "markdown",
   "id": "d06f5e6c-3a95-4b79-b773-1663e2d96777",
   "metadata": {},
   "source": [
    "## Download Async"
   ]
  },
  {
   "cell_type": "markdown",
   "id": "e59cb29b-3d0d-4076-af5e-23c3b5eaeaa5",
   "metadata": {},
   "source": [
    "### Download Models"
   ]
  },
  {
   "cell_type": "markdown",
   "id": "e296ece2-eb34-4878-b1b1-1f5a35dd1ff8",
   "metadata": {},
   "source": [
    "### Download Functions"
   ]
  },
  {
   "cell_type": "markdown",
   "id": "fad5b6e9-b693-4738-8757-241ee11e4490",
   "metadata": {},
   "source": [
    "### Download Tests"
   ]
  },
  {
   "cell_type": "code",
   "execution_count": null,
   "id": "d9f3a7bb-94e2-406e-aff7-2b63da3e3b89",
   "metadata": {},
   "outputs": [],
   "source": []
  },
  {
   "cell_type": "markdown",
   "id": "e0b92864-0b4e-435b-9eea-f74e012dadfb",
   "metadata": {},
   "source": [
    "## Notes"
   ]
  },
  {
   "cell_type": "markdown",
   "id": "b7322934-fa4c-4cf6-baad-2d6120410585",
   "metadata": {},
   "source": [
    "## Listing Elements out of motor async cursor\n",
    "\n",
    "```\n",
    "async def do_find():\n",
    "    cursor = db.test_collection.find({'i': {'$lt': 5}}).sort('i')\n",
    "    for document in await cursor.to_list(length=100):\n",
    "        pprint.pprint(document)\n",
    "\n",
    "loop = client.get_io_loop()\n",
    "loop.run_until_complete(do_find())\n",
    "```"
   ]
  },
  {
   "cell_type": "code",
   "execution_count": 45,
   "id": "f9342217-edd6-4b0a-86f1-d33380fae132",
   "metadata": {},
   "outputs": [],
   "source": [
    "new_student = await db[\"users\"].insert_one(test_user_json)\n"
   ]
  },
  {
   "cell_type": "code",
   "execution_count": 47,
   "id": "fdeaddcd-aba1-407a-8bc1-7203577b5c0a",
   "metadata": {},
   "outputs": [
    {
     "data": {
      "text/plain": [
       "True"
      ]
     },
     "execution_count": 47,
     "metadata": {},
     "output_type": "execute_result"
    }
   ],
   "source": [
    "new_student.acknowledged"
   ]
  },
  {
   "cell_type": "code",
   "execution_count": 48,
   "id": "cdba93bc-78bc-4258-b844-53a17a62ee88",
   "metadata": {},
   "outputs": [
    {
     "data": {
      "text/plain": [
       "'64c2bef73cae8fd48439d7ee'"
      ]
     },
     "execution_count": 48,
     "metadata": {},
     "output_type": "execute_result"
    }
   ],
   "source": [
    "new_student.inserted_id"
   ]
  },
  {
   "cell_type": "code",
   "execution_count": 49,
   "id": "2dc6dd7c-1ab3-4b8b-bf17-933f862bc375",
   "metadata": {},
   "outputs": [],
   "source": [
    "created_student = await db[\"users\"].find_one({\"_id\": new_student.inserted_id})"
   ]
  },
  {
   "cell_type": "code",
   "execution_count": 50,
   "id": "34b2622a-c7cc-426b-8c52-85bb9420943d",
   "metadata": {},
   "outputs": [
    {
     "data": {
      "text/plain": [
       "{'_id': '64c2bef73cae8fd48439d7ee',\n",
       " 'name': 'Jane Doe',\n",
       " 'email': 'jdoe@example.com',\n",
       " 'password': 'test-password',\n",
       " 'datasets': [],\n",
       " 'software': [],\n",
       " 'computations': [],\n",
       " 'rocrates': []}"
      ]
     },
     "execution_count": 50,
     "metadata": {},
     "output_type": "execute_result"
    }
   ],
   "source": [
    "created_student"
   ]
  },
  {
   "cell_type": "code",
   "execution_count": null,
   "id": "3074418d-4114-4c35-9206-3b97a85b8361",
   "metadata": {},
   "outputs": [],
   "source": []
  }
 ],
 "metadata": {
  "kernelspec": {
   "display_name": "Python 3 (ipykernel)",
   "language": "python",
   "name": "python3"
  },
  "language_info": {
   "codemirror_mode": {
    "name": "ipython",
    "version": 3
   },
   "file_extension": ".py",
   "mimetype": "text/x-python",
   "name": "python",
   "nbconvert_exporter": "python",
   "pygments_lexer": "ipython3",
   "version": "3.10.4"
  }
 },
 "nbformat": 4,
 "nbformat_minor": 5
}
