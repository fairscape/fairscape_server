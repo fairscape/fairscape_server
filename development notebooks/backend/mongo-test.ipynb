{
 "cells": [
  {
   "cell_type": "code",
   "execution_count": 1,
   "metadata": {},
   "outputs": [],
   "source": [
    "import pymongo\n",
    "from urllib.parse import quote_plus\n",
    "from bson import SON"
   ]
  },
  {
   "cell_type": "code",
   "execution_count": 2,
   "metadata": {},
   "outputs": [],
   "source": [
    "class MongoConfig:\n",
    "    def __init__(self, host_uri: str, port: int, user: str, password: str, database: str = None):\n",
    "        self.host_uri = host_uri\n",
    "        self.port = port\n",
    "        self.user = user\n",
    "        self.password = password\n",
    "        self.database = database\n",
    "\n",
    "    def connect(self) -> pymongo.MongoClient:\n",
    "        connection_uri = f\"mongodb://{quote_plus(self.user)}:{quote_plus(self.password)}@{self.host_uri}:{str(self.port)}\"\n",
    "        return pymongo.MongoClient(connection_uri)\n",
    "\n",
    "\n",
    "def GetConfig():\n",
    "    return MongoConfig(\n",
    "        host_uri=\"localhost\",\n",
    "        port=27017,\n",
    "        user=\"root\",\n",
    "        password=\"example\"\n",
    "    ).connect()\n"
   ]
  },
  {
   "cell_type": "code",
   "execution_count": null,
   "metadata": {},
   "outputs": [],
   "source": []
  },
  {
   "cell_type": "code",
   "execution_count": null,
   "metadata": {},
   "outputs": [],
   "source": [
    "test_user = {\n",
    "    \"@id\": \"ark:99999/test-user\",\n",
    "    \"name\": \"test user\",\n",
    "    \"@type\": \"Person\",\n",
    "    \"email\": \"test@example.org\",\n",
    "    \"password\": \"test\",\n",
    "    \"is_admin\": False,\n",
    "    \"organizations\": [],\n",
    "    \"datasets\": [],\n",
    "    \"projects\": [],\n",
    "    \"software\": [],\n",
    "    \"computations\": []\n",
    "}\n",
    "\n",
    "\n",
    "test_dataset = {\n",
    "    \"@id\": \"ark:99999/test-dataset\",\n",
    "    \"@type\": \"evi:Software\",\n",
    "    \"name\": \"test-software\"\n",
    "}\n",
    "\n",
    "test_data_download = {\n",
    "    \"@id\": \"ark:99999/test-download\",\n",
    "    \"@type\": \"\"\n",
    "    \n",
    "}\n",
    "dataset_id = test_dataset[\"@id\"]\n",
    "data_download_id = test_data_download[\"@id\"]"
   ]
  },
  {
   "cell_type": "code",
   "execution_count": null,
   "metadata": {},
   "outputs": [],
   "source": []
  },
  {
   "cell_type": "code",
   "execution_count": 3,
   "metadata": {},
   "outputs": [],
   "source": [
    "mongo_client = GetConfig()\n",
    "mongo_db = mongo_client[\"test\"]\n",
    "mongo_collection = mongo_db[\"testcol\"]"
   ]
  },
  {
   "cell_type": "code",
   "execution_count": 4,
   "metadata": {
    "scrolled": true
   },
   "outputs": [
    {
     "ename": "NameError",
     "evalue": "name 'dataset_id' is not defined",
     "output_type": "error",
     "traceback": [
      "\u001b[0;31m---------------------------------------------------------------------------\u001b[0m",
      "\u001b[0;31mNameError\u001b[0m                                 Traceback (most recent call last)",
      "Input \u001b[0;32mIn [4]\u001b[0m, in \u001b[0;36m<cell line: 1>\u001b[0;34m()\u001b[0m\n\u001b[1;32m      1\u001b[0m \u001b[38;5;28;01mwith\u001b[39;00m mongo_client\u001b[38;5;241m.\u001b[39mstart_session(causal_consistency\u001b[38;5;241m=\u001b[39m\u001b[38;5;28;01mTrue\u001b[39;00m) \u001b[38;5;28;01mas\u001b[39;00m session:\n\u001b[0;32m----> 2\u001b[0m \t\u001b[38;5;28mprint\u001b[39m(mongo_collection\u001b[38;5;241m.\u001b[39mfind_one({\u001b[38;5;124m\"\u001b[39m\u001b[38;5;124m@id\u001b[39m\u001b[38;5;124m\"\u001b[39m: \u001b[43mdataset_id\u001b[49m}, session\u001b[38;5;241m=\u001b[39msession))\n",
      "\u001b[0;31mNameError\u001b[0m: name 'dataset_id' is not defined"
     ]
    }
   ],
   "source": [
    "with mongo_client.start_session(causal_consistency=True) as session:\n",
    "\tprint(mongo_collection.find_one({\"@id\": dataset_id}, session=session))"
   ]
  },
  {
   "cell_type": "code",
   "execution_count": 22,
   "metadata": {},
   "outputs": [],
   "source": [
    "\t#\n",
    "test_user = {\n",
    "\t\t\"@id\": \"ark:99999/test-user1\",\n",
    "\t\t\"name\": \"Test User1\",\n",
    "\t\t\"type\": \"Person\",\n",
    "\t\t\"email\": \"testuser1@example.org\",\n",
    "\t\t\"password\": \"test1\",\n",
    "\t\t\"organizations\": [],\n",
    "\t\t\"projects\": [],\n",
    "\t\t\"datasets\": [],\n",
    "\t\t\"software\": [],\n",
    "\t\t\"computations\": [],\n",
    "\t\t\"evidencegraphs\": []\n",
    "\t\t}\n",
    "\n",
    "\n",
    "\n",
    "test_dataset = {\n",
    "\t\"@id\": \"ark:99999/test-dataset\",\n",
    "\t\"@type\": \"evi:Dataset\",\n",
    "\t\"name\": \"test dataset\",\n",
    "\t\"owner\": {\n",
    "\t\t\"@id\": \"ark:99999/test-user1\",\n",
    "\t\t\"@type\": \"Person\",\n",
    "\t\t\"name\": \"Test User1\",\n",
    "\t\t\"email\": \"testuser1@example.org\"\n",
    "\t\t}\n",
    "}\n",
    "\n",
    "test_data_download = {\n",
    "\t\"@id\": \"ark:99999/test-download\",\n",
    "\t\"name\": \"test file.txt\",\n",
    "\t\"@type\": \"DataDownload\",\n",
    "\t\"encodingFormat\": \".txt\",\n",
    "\t\"encodesCreativeWork\": test_dataset[\"@id\"],\n",
    "}"
   ]
  },
  {
   "cell_type": "code",
   "execution_count": 25,
   "metadata": {},
   "outputs": [],
   "source": [
    "# clear all documents in the \n",
    "result = mongo_collection.delete_many({})"
   ]
  },
  {
   "cell_type": "code",
   "execution_count": 26,
   "metadata": {},
   "outputs": [
    {
     "data": {
      "text/plain": [
       "3"
      ]
     },
     "execution_count": 26,
     "metadata": {},
     "output_type": "execute_result"
    }
   ],
   "source": [
    "result.deleted_count"
   ]
  },
  {
   "cell_type": "code",
   "execution_count": 27,
   "metadata": {},
   "outputs": [
    {
     "data": {
      "text/plain": [
       "<pymongo.results.InsertManyResult at 0x24810831ac0>"
      ]
     },
     "execution_count": 27,
     "metadata": {},
     "output_type": "execute_result"
    }
   ],
   "source": [
    "mongo_collection.insert_many([test_user, test_dataset])"
   ]
  },
  {
   "cell_type": "code",
   "execution_count": 28,
   "metadata": {},
   "outputs": [],
   "source": [
    "create_download_bulk_write = [\n",
    "\t# update the dataset containing this download\n",
    "\tpymongo.UpdateOne(\n",
    "\t\t{\"@id\": test_dataset.get(\"@id\")}, \n",
    "\t\t{\"$addToSet\" : { \n",
    "\t\t\t\"distribution\": SON([(\"@id\", test_data_download.get(\"@id\") ), (\"@type\", \"DataDownload\"), (\"name\", test_data_download.get(\"name\"))])}\n",
    "\t\t}),\n",
    "\n",
    "\t# create metadata record in mongo\n",
    "\tpymongo.InsertOne(test_data_download)\n",
    "]\n",
    "\n",
    "bulk_write_result = mongo_collection.bulk_write(create_download_bulk_write)\n",
    "\n",
    "#except Exception as bwe:\n",
    "#\treturn OperationStatus(False, f\"create download error: {bwe}\", 500)"
   ]
  },
  {
   "cell_type": "code",
   "execution_count": 10,
   "metadata": {},
   "outputs": [],
   "source": [
    "mongo_client.close()"
   ]
  },
  {
   "cell_type": "code",
   "execution_count": null,
   "metadata": {},
   "outputs": [],
   "source": [
    "mongo_collection.UpdateOne(\n",
    "\t{\"@id\": dataset_id, \"distribution\": {\"@id\": }}, \n",
    "\t{\"$set\": {\"distribution.$.contentUrl\": upload_path}}\t\n",
    ")"
   ]
  },
  {
   "cell_type": "code",
   "execution_count": 45,
   "metadata": {},
   "outputs": [
    {
     "data": {
      "text/plain": [
       "{'_id': ObjectId('628d6f8d7f8a9cd8a50107c8'),\n",
       " '@id': 'ark:99999/test-dataset',\n",
       " '@type': 'evi:Dataset',\n",
       " 'name': 'test dataset',\n",
       " 'owner': {'@id': 'ark:99999/test-user1',\n",
       "  '@type': 'Person',\n",
       "  'name': 'Test User1',\n",
       "  'email': 'testuser1@example.org'},\n",
       " 'distribution': [{'@id': 'ark:99999/test-download',\n",
       "   '@type': 'DataDownload',\n",
       "   'name': 'test file.txt',\n",
       "   'contentUrl': 'https://example.org'}],\n",
       " '@context': {'@vocab': 'https://schema.org/', 'evi': 'https://w3id.org/EVI#'}}"
      ]
     },
     "execution_count": 45,
     "metadata": {},
     "output_type": "execute_result"
    }
   ],
   "source": [
    "mongo_collection.find_one({\n",
    "\t\"@id\": dataset_id, \n",
    "\t#\"distribution\": SON([(\"@id\", data_download_id)])\n",
    "\t\"distribution\": { \"$elemMatch\" : {\"@id\": data_download_id}}\n",
    "\t})"
   ]
  },
  {
   "cell_type": "code",
   "execution_count": 44,
   "metadata": {},
   "outputs": [
    {
     "data": {
      "text/plain": [
       "<pymongo.results.UpdateResult at 0x24812f9dfc0>"
      ]
     },
     "execution_count": 44,
     "metadata": {},
     "output_type": "execute_result"
    }
   ],
   "source": [
    "mongo_collection.update_one({\n",
    "\t\"@id\": dataset_id, \n",
    "\t#\"distribution\": SON([(\"@id\", data_download_id)])\n",
    "\t\"distribution\": { \"$elemMatch\" : {\"@id\": data_download_id}}\n",
    "\t},\n",
    "\t{\"$set\": {\"distribution.$.contentUrl\": \"https://example.org\"}}\t\n",
    "\t)"
   ]
  },
  {
   "cell_type": "code",
   "execution_count": null,
   "metadata": {},
   "outputs": [],
   "source": []
  }
 ],
 "metadata": {
  "interpreter": {
   "hash": "e34a51ce2e5d6cd426e3a877cb16f65e3dd85900a5b76bb886dcc805c982a405"
  },
  "kernelspec": {
   "display_name": "Python 3 (ipykernel)",
   "language": "python",
   "name": "python3"
  },
  "language_info": {
   "codemirror_mode": {
    "name": "ipython",
    "version": 3
   },
   "file_extension": ".py",
   "mimetype": "text/x-python",
   "name": "python",
   "nbconvert_exporter": "python",
   "pygments_lexer": "ipython3",
   "version": "3.10.4"
  }
 },
 "nbformat": 4,
 "nbformat_minor": 2
}
