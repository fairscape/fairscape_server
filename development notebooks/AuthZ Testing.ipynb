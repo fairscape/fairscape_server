{
 "cells": [
  {
   "cell_type": "code",
   "execution_count": 1,
   "id": "1d2ea666-197c-4248-8ae0-596886de7d45",
   "metadata": {},
   "outputs": [],
   "source": [
    "import os  \n",
    "import sys\n",
    "import pathlib\n",
    "\n",
    "repo_path = pathlib.Path('.').absolute().parent\n",
    "src_path = repo_path / 'src'\n",
    "\n",
    "sys.path.insert(0, str(src_path)) "
   ]
  },
  {
   "cell_type": "code",
   "execution_count": 2,
   "id": "2413d34b-3500-46eb-83ce-165bb885d8cb",
   "metadata": {},
   "outputs": [],
   "source": [
    "import pymongo\n",
    "import fairscape_mds.models"
   ]
  },
  {
   "cell_type": "code",
   "execution_count": null,
   "id": "16079dd0-69a4-48e2-a23d-7989b8cda49b",
   "metadata": {},
   "outputs": [],
   "source": []
  },
  {
   "cell_type": "markdown",
   "id": "ef3f4b16-a93e-4076-8957-1465641f2175",
   "metadata": {},
   "source": [
    "## Potential Improvements\n",
    "\n",
    "- [ ]  openLDAP memberOf Overlay\n"
   ]
  },
  {
   "cell_type": "markdown",
   "id": "6538c947-2630-46ab-b321-9075ac124af8",
   "metadata": {},
   "source": [
    "### Bitnami Container Customization\n",
    "\n",
    "1. Added additional overlays, and moved them to the folder the container configures for overlays\n",
    "    - container still needs to run through initalization before the overlay can be added\n",
    "\n",
    "2. On container startup need the CONFIG ADMIN to preform two changes to existing documents\n",
    "   - modify the modules loaded to include the memberOf\n",
    "   - add a new document to each database that needs the overlay\n",
    "\n",
    "3. On database init, add the following "
   ]
  },
  {
   "cell_type": "markdown",
   "id": "1b9fb62d-e774-4fde-8e68-08699d2fc240",
   "metadata": {},
   "source": [
    "# LDAP Tests\n",
    "\n",
    "- [ ] throughput benchmarking\n",
    "- [ ] "
   ]
  },
  {
   "cell_type": "markdown",
   "id": "42977d8b-e1c8-429c-b94b-967108a7981e",
   "metadata": {},
   "source": [
    "## OpenLDAP docker image config\n",
    "\n",
    "### Environment Variables\n",
    "- `LDAP_PORT_NUMBER: 1389`\n",
    "- `LDAP_ROOT: 'dc=fairscape,dc=net'`\n",
    "- `LDAP_USER_DC: users`\n",
    "  - DC for the users organizational unit\n",
    "- `LDAP_GROUP: fairscapeUsers`\n",
    "  - Group used to group created users default readers\n",
    "- `LDAP_ADMIN_USERNAME: admin`\n",
    "- `LDAP_ADMIN_PASSWORD: adminpassword`\n",
    "- `LDAP_SKIP_DEFAULT_TREE: no`\n",
    "  - whether to skip creation of `LDAP_USERS`, `LDAP_PASSWORDS`, `LDAP_GROUP`\n",
    "- `LDAP_ADD_SCHEMAS: yes`\n",
    "  - Whether to add the extra schemas amoung OpenLDAPs distributed schemas\n",
    "- `LDAP_EXTRA_SCHEMAS: 'cosine, inetorgperson, nis'`\n",
    "\n"
   ]
  },
  {
   "cell_type": "markdown",
   "id": "92bf4d21-8df2-47de-b275-d3484add6ff5",
   "metadata": {},
   "source": [
    "## LDAP Schema\n",
    "\n",
    "LDIF example for inetOrgPerson\n",
    "```\n",
    "version: 1\n",
    "dn: cn=Barbara Jensen,ou=Product Development,dc=siroe,dc=com\n",
    "objectClass: top\n",
    "objectClass: person\n",
    "objectClass: organizationalPerson\n",
    "objectClass: inetOrgPerson\n",
    "cn: Barbara Jensen\n",
    "cn: Babs Jensen\n",
    "displayName: Babs Jensen\n",
    "sn: Jensen\n",
    "givenName: Barbara\n",
    "initials: BJJ\n",
    "title: manager, product development\n",
    "uid: bjensen\n",
    "mail: bjensen@siroe.com\n",
    "telephoneNumber: +1 408 555 1862\n",
    "facsimileTelephoneNumber: +1 408 555 1992\n",
    "mobile: +1 408 555 1941\n",
    "roomNumber: 0209\n",
    "carLicense: 6ABC246\n",
    "o: Siroe\n",
    "ou: Product Development\n",
    "departmentNumber: 2604\n",
    "employeeNumber: 42\n",
    "employeeType: full time\n",
    "preferredLanguage: fr, en-gb;q=0.8, en;q=0.7\n",
    "labeledURI: http://www.siroe.com/users/bjensen My Home Page\n",
    "```"
   ]
  },
  {
   "cell_type": "markdown",
   "id": "94f66fde-9ae5-4f35-aacc-846f0aea80fa",
   "metadata": {},
   "source": [
    "### CRUD Operations\n",
    "\n",
    "`pip install ldap3`\n",
    "\n",
    "Search returns `ldap3.abstract.entry.Entry`"
   ]
  },
  {
   "cell_type": "code",
   "execution_count": 34,
   "id": "616ee5ad-1524-4452-b7e0-f3b8f75563d9",
   "metadata": {},
   "outputs": [],
   "source": [
    "from typing import List, Dict"
   ]
  },
  {
   "cell_type": "code",
   "execution_count": 384,
   "id": "3335f907-4b7f-4068-af20-67011729fc09",
   "metadata": {},
   "outputs": [],
   "source": [
    "from ldap3 import Server, Connection, ALL, SUBTREE\n",
    "from ldap3.core.exceptions import LDAPException, LDAPBindError\n",
    "from ldap3.abstract.entry import Entry\n",
    "import ldap3\n",
    "\n",
    "ldapServer = 'ldap://localhost:1389'\n",
    "ldapBaseDN = 'dc=fairscape,dc=net'\n",
    "username = 'admin'\n",
    "adminPassword = 'adminpassword'\n",
    "adminRDN = f\"cn=admin,{ldapBaseDN}\"\n"
   ]
  },
  {
   "cell_type": "code",
   "execution_count": 385,
   "id": "91dcb612-24f2-481f-a727-f752bab5a442",
   "metadata": {},
   "outputs": [],
   "source": [
    "def connectLDAPServer(\n",
    "    ldapURI: str,\n",
    "    userRDN,\n",
    "    userPassword\n",
    ") -> Connection:\n",
    "\n",
    "    try:\n",
    "        server = Server(ldapURI, get_info=ALL)\n",
    "        \n",
    "        # username and password can be configured during openldap setup\n",
    "        connection = Connection(server,          \n",
    "                                user=userRDN, \n",
    "                                password=userPassword)\n",
    "        \n",
    "        bind_response = connection.bind() # Returns True or False \n",
    "        return connection\n",
    "    except LDAPBindError as e:\n",
    "        connection = e"
   ]
  },
  {
   "cell_type": "markdown",
   "id": "1614edc9-2c45-45bc-a7a8-5b58fdbe4260",
   "metadata": {},
   "source": [
    "#### Config Setup for Overlay"
   ]
  },
  {
   "cell_type": "code",
   "execution_count": 479,
   "id": "af6d2c4e-8c15-4917-b5f0-cf3e31bc2e97",
   "metadata": {},
   "outputs": [
    {
     "name": "stdout",
     "output_type": "stream",
     "text": [
      "Adding Member of Module Success: False\n"
     ]
    }
   ],
   "source": [
    "configAdminConnection = connectLDAPServer(ldapServer, 'cn=configadmin,cn=config', 'configadminpassword')\n",
    "\n",
    "# modify the config module list\n",
    "moduleConfigDN = \"cn=module{0},cn=config\"\n",
    "moduleConfigChanges = {\n",
    "    \"olcModuleLoad\":  [\n",
    "         (ldap3.MODIFY_ADD, \"memberof.la\"),\n",
    "         (ldap3.MODIFY_ADD, \"memberof.so\"), \n",
    "        (ldap3.MODIFY_ADD, \"refint.la\"),\n",
    "        (ldap3.MODIFY_ADD, \"refint.so\"),\n",
    "   ],\n",
    "}\n",
    "\n",
    "addMemberOfModule = configAdminConnection.modify(dn=moduleConfigDN, changes=moduleConfigChanges)\n",
    "print(f\"Adding Member of Module Success: {addMemberOfModule}\")\n",
    "\n",
    "\n",
    "\n",
    "# add a new list of modules\n",
    "#addModuleList = configAdminConnection.add(\n",
    "#    dn=\"cn=module,cn=config\",\n",
    "#    attributes={\n",
    "#        \"objectClass\": \"olcModuleList\",\n",
    "#        \"olcModuleLoad\": \"memberof.la\",\n",
    "#        \"olcModuleLoad\": \"refint.la\",\n",
    "#        \"olcModulePath\": \"/usr/lib/ldap\"\n",
    "#    }\n",
    "#)\n",
    "\n",
    "#print(addModuleList)"
   ]
  },
  {
   "cell_type": "code",
   "execution_count": 480,
   "id": "b0ea50f7-dc23-4e50-bd0f-34b50cac4336",
   "metadata": {},
   "outputs": [
    {
     "name": "stdout",
     "output_type": "stream",
     "text": [
      "True\n"
     ]
    }
   ],
   "source": [
    "\n",
    "refintOverlayDN=\"olcOverlay=refint,olcDatabase={2}mdb,cn=config\"\n",
    "refintOverlayAttributes= {\n",
    "    \"objectClass\": \"olcRefintConfig\",\n",
    "\n",
    " #   \"objectClass\": \"olcConfig\",\n",
    " #   \"objectClass\": \"top\",\n",
    "    \"olcOverlay\": \"refint\",\n",
    "    \"olcRefintAttribute\": \"memberof member manager owner\"\n",
    "}\n",
    "\n",
    "print(configAdminConnection.add(dn=refintOverlayDN, object_class= \"olcOverlayConfig\",attributes=refintOverlayAttributes))"
   ]
  },
  {
   "cell_type": "code",
   "execution_count": 481,
   "id": "277c4693-a2a8-4186-a5a2-28c7eb4b6b0e",
   "metadata": {},
   "outputs": [
    {
     "name": "stdout",
     "output_type": "stream",
     "text": [
      "True\n"
     ]
    }
   ],
   "source": [
    "\n",
    "memberOfOverlayDN=\"olcOverlay=memberof,olcDatabase={2}mdb,cn=config\"\n",
    "memberOfOverlayAttributes={\n",
    "    \"objectClass\": \"olcMemberOf\",\n",
    "   \"olcOverlay\": \"memberof\",\n",
    " #  \"olcMemberOfRefInt\": \"TRUE\",\n",
    "   \"olcMemberOfGroupOC\": \"groupOfNames\",\n",
    "   \"olcMemberOfMemberAD\": \"member\",\n",
    "   \"olcMemberOfMemberOfAD\": \"memberOf\"\n",
    "\n",
    "}\n",
    "\n",
    "print(configAdminConnection.add(dn=memberOfOverlayDN, attributes=memberOfOverlayAttributes))"
   ]
  },
  {
   "cell_type": "code",
   "execution_count": 447,
   "id": "edbbc10e-ed66-4b32-a683-177708ee72a2",
   "metadata": {},
   "outputs": [
    {
     "name": "stdout",
     "output_type": "stream",
     "text": [
      "True\n"
     ]
    }
   ],
   "source": []
  },
  {
   "cell_type": "code",
   "execution_count": 448,
   "id": "83d3ab09-3461-4764-8193-32b2b0f11c84",
   "metadata": {},
   "outputs": [
    {
     "name": "stdout",
     "output_type": "stream",
     "text": [
      "True\n"
     ]
    }
   ],
   "source": [
    "\n"
   ]
  },
  {
   "cell_type": "code",
   "execution_count": 497,
   "id": "08cd1b7b-ab35-4f58-9677-63740fd8e13d",
   "metadata": {},
   "outputs": [
    {
     "data": {
      "text/plain": [
       "[DN: olcDatabase={2}mdb,cn=config - STATUS: Read - READ TIME: 2024-07-05T21:22:36.427576\n",
       "     objectClass: olcDatabaseConfig\n",
       "                  olcMdbConfig\n",
       "     olcDatabase: {2}mdb\n",
       "     olcDbDirectory: /bitnami/openldap/data\n",
       "     olcDbIndex: objectClass eq,pres\n",
       "                 ou,cn,mail,surname,givenname eq,pres,sub\n",
       "     olcDbMaxSize: 1073741824\n",
       "     olcMonitoring: False\n",
       "     olcRootDN: cn=admin,dc=fairscape,dc=net\n",
       "     olcRootPW: b'{SSHA}N6CSNnmIwixSsRVDGeaIayPIWhW4yJPq'\n",
       "     olcSuffix: dc=fairscape,dc=net,\n",
       " DN: olcOverlay={0}refint,olcDatabase={2}mdb,cn=config - STATUS: Read - READ TIME: 2024-07-05T21:22:36.427881\n",
       "     objectClass: olcOverlayConfig\n",
       "                  olcRefintConfig\n",
       "     olcOverlay: {0}refint\n",
       "     olcRefintAttribute: memberof member manager owner,\n",
       " DN: olcOverlay={1}memberof,olcDatabase={2}mdb,cn=config - STATUS: Read - READ TIME: 2024-07-05T21:22:36.428522\n",
       "     objectClass: olcMemberOfConfig\n",
       "                  olcConfig\n",
       "     olcMemberOfGroupOC: groupOfNames\n",
       "     olcMemberOfMemberAD: member\n",
       "     olcMemberOfMemberOfAD: memberOf\n",
       "     olcMemberOfRefInt: True\n",
       "     olcOverlay: {1}memberof]"
      ]
     },
     "execution_count": 497,
     "metadata": {},
     "output_type": "execute_result"
    }
   ],
   "source": [
    "# \n",
    "configAdminConnection.search(\n",
    "    search_base=\"olcDatabase={2}mdb,cn=config\",\n",
    "    search_filter=\"(objectClass=*)\",\n",
    "    attributes=['*']\n",
    ")\n",
    "configAdminConnection.entries"
   ]
  },
  {
   "cell_type": "code",
   "execution_count": 496,
   "id": "2a65c477-396c-455b-b481-cb1541b4e0c8",
   "metadata": {},
   "outputs": [
    {
     "data": {
      "text/plain": [
       "True"
      ]
     },
     "execution_count": 496,
     "metadata": {},
     "output_type": "execute_result"
    }
   ],
   "source": [
    "configAdminConnection.delete(\"olcOverlay={1}memberof,olcDatabase={2}mdb,cn=config\")"
   ]
  },
  {
   "cell_type": "code",
   "execution_count": 483,
   "id": "2d759ecf-883e-467e-8b39-00f50153fa5d",
   "metadata": {},
   "outputs": [
    {
     "name": "stdout",
     "output_type": "stream",
     "text": [
      "True\n"
     ]
    }
   ],
   "source": [
    "# add the oldOverlay to the olcdDtabase={2}mdb adding the document\n",
    "#\n",
    "# dn: olcOverlay=memberof,olcDatabase={2}mdb,cn=config\n",
    "# objectClass: olcOverlayConfig\n",
    "# objectClass: olcMemberOf\n",
    "# olcOverlay: memberof\n",
    "# olcMemberOfRefint: TRUE\n",
    "\n",
    "# dn: olcOverlay={1}refint,olcDatabase={2}mdb,cn=config\n",
    "# objectClass: olcConfig\n",
    "# objectClass: olcOverlayConfig\n",
    "# objectClass: olcRefintConfig\n",
    "# objectClass: top\n",
    "# olcOverlay: {1}refint\n",
    "# olcRefintAttribute: memberof member manager owner\n",
    "\n",
    "\n",
    "#dn: olcOverlay=memberof,olcDatabase={2}hdb,cn=config\n",
    "#objectClass: olcMemberOf\n",
    "#objectClass: olcOverlayConfig\n",
    "#objectClass: olcConfig\n",
    "#objectClass: top\n",
    "#olcOverlay: memberof\n",
    "#olcMemberOfDangling: ignore\n",
    "#olcMemberOfRefInt: TRUE\n",
    "#olcMemberOfGroupOC: groupOfNames\n",
    "#olcMemberOfMemberAD: member\n",
    "#olcMemberOfMemberOfAD: memberOf\n",
    "\n",
    "\n",
    "memberOfOverlayDN=\"olcOverlay=memberof,olcDatabase={2}mdb,cn=config\"\n",
    "memberOfOverlayAttributes={\n",
    "     \"objectClass\": \"olcMemberOf\",\n",
    "    \"objectClass\": \"olcOverlayConfig\",\n",
    "     \"objectClass\": \"olcConfig\",\n",
    "    \"olcOverlay\": \"memberof\",\n",
    "    \"olcMemberOfRefInt\": \"TRUE\",\n",
    "    \"olcMemberOfGroupOC\": \"groupOfNames\",\n",
    "    \"olcMemberOfMemberAD\": \"member\",\n",
    "    \"olcMemberOfMemberOfAD\": \"memberOf\"\n",
    "}\n",
    "    \n",
    "print(configAdminConnection.add(dn=memberOfOverlayDN, object_class=\"olcMemberOf\", attributes=memberOfOverlayAttributes))\n"
   ]
  },
  {
   "cell_type": "code",
   "execution_count": 440,
   "id": "f78ddc25-500d-476b-b30b-4334b0b1115f",
   "metadata": {},
   "outputs": [
    {
     "name": "stdout",
     "output_type": "stream",
     "text": [
      "Help on method add in module ldap3.core.connection:\n",
      "\n",
      "add(dn, object_class=None, attributes=None, controls=None) method of ldap3.core.connection.Connection instance\n",
      "    Add dn to the DIT, object_class is None, a class name or a list\n",
      "    of class names.\n",
      "\n",
      "    Attributes is a dictionary in the form 'attr': 'val' or 'attr':\n",
      "    ['val1', 'val2', ...] for multivalued attributes\n",
      "\n"
     ]
    }
   ],
   "source": [
    "help(configAdminConnection.add)"
   ]
  },
  {
   "cell_type": "code",
   "execution_count": 344,
   "id": "763b747c-be02-4da6-a4ed-b865da67f3e8",
   "metadata": {},
   "outputs": [
    {
     "data": {
      "text/plain": [
       "False"
      ]
     },
     "execution_count": 344,
     "metadata": {},
     "output_type": "execute_result"
    }
   ],
   "source": [
    "# delete duplicate overlays\n",
    "# configAdminConnection.delete(\"olcOverlay={0}memberof,olcDatabase={2}mdb,cn=config\")"
   ]
  },
  {
   "cell_type": "code",
   "execution_count": 394,
   "id": "c8c96e3e-0427-4765-bbc3-473ad873e0aa",
   "metadata": {},
   "outputs": [
    {
     "data": {
      "text/plain": [
       "[DN: olcDatabase={2}mdb,cn=config - STATUS: Read - READ TIME: 2024-07-05T20:39:21.467282\n",
       "     objectClass: olcDatabaseConfig\n",
       "                  olcMdbConfig\n",
       "     olcDatabase: {2}mdb\n",
       "     olcDbDirectory: /bitnami/openldap/data\n",
       "     olcDbIndex: objectClass eq,pres\n",
       "                 ou,cn,mail,surname,givenname eq,pres,sub\n",
       "     olcDbMaxSize: 1073741824\n",
       "     olcMonitoring: False\n",
       "     olcRootDN: cn=admin,dc=fairscape,dc=net\n",
       "     olcRootPW: b'{SSHA}RYzOiVrhsN157M7axNQmUW3eIu2qPWYR'\n",
       "     olcSuffix: dc=fairscape,dc=net,\n",
       " DN: olcOverlay={0}memberof,olcDatabase={2}mdb,cn=config - STATUS: Read - READ TIME: 2024-07-05T20:39:21.467382\n",
       "     objectClass: olcOverlayConfig\n",
       "     olcOverlay: {0}memberof]"
      ]
     },
     "execution_count": 394,
     "metadata": {},
     "output_type": "execute_result"
    }
   ],
   "source": [
    "# search for overlay\n",
    "ldapSearch(configAdminConnection,\n",
    "           searchFilter='(objectClass=*)',\n",
    "           searchBase='olcDatabase={2}mdb,cn=config',\n",
    "           searchAttributes=['*']\n",
    "          )"
   ]
  },
  {
   "cell_type": "code",
   "execution_count": 427,
   "id": "0a65a163-4704-427d-aa63-e930e8b98c66",
   "metadata": {},
   "outputs": [
    {
     "data": {
      "text/plain": [
       "{'olcModulePath': ['/opt/bitnami/openldap/libexec/openldap'],\n",
       " 'cn': ['module{0}'],\n",
       " 'olcModuleLoad': ['{0}pw-sha2.so', '{1}memberof.so', '{2}refint.so']}"
      ]
     },
     "execution_count": 427,
     "metadata": {},
     "output_type": "execute_result"
    }
   ],
   "source": [
    "results = ldapSearch(configAdminConnection,\n",
    "           searchFilter='(objectClass=olcModuleList)',\n",
    "           searchBase='cn=config',\n",
    "           searchAttributes=['cn', 'olcmoduleload', 'olcmodulepath']\n",
    "          )\n",
    "\n",
    "results[0].entry_attributes_as_dict"
   ]
  },
  {
   "cell_type": "markdown",
   "id": "af3fbf1c-be0b-4302-b430-5ae0b6cad45f",
   "metadata": {},
   "source": [
    "## Adding memberOf Overlay\n",
    "\n",
    "- backend.refint.ldif \n",
    "```\n",
    "dn: cn=module,cn=config\n",
    "cn: module\n",
    "objectclass: olcModuleList\n",
    "objectclass: top\n",
    "olcmoduleload: refint.la\n",
    "olcmodulepath: /opt/bitnami/openldap/libexec/openldap\n",
    " \n",
    "dn: olcOverlay={1}refint,olcDatabase={2}mdb,cn=config\n",
    "objectClass: olcConfig\n",
    "objectClass: olcOverlayConfig\n",
    "objectClass: olcRefintConfig\n",
    "objectClass: top\n",
    "olcOverlay: {1}refint\n",
    "olcRefintAttribute: memberof member manager owner\n",
    "```\n",
    "\n",
    "- backend.memberof.ldif\n",
    "```\n",
    "dn: cn=module,cn=config\n",
    "cn: module\n",
    "objectClass: olcModuleList\n",
    "objectClass: top\n",
    "olcModulePath: /usr/lib/ldap\n",
    "olcModuleLoad: memberof.la\n",
    " \n",
    "dn: olcOverlay={0}memberof,olcDatabase={2}mdb,cn=config\n",
    "objectClass: olcConfig\n",
    "objectClass: olcMemberOf\n",
    "objectClass: olcOverlayConfig\n",
    "objectClass: top\n",
    "olcOverlay: memberof\n",
    "```"
   ]
  },
  {
   "cell_type": "markdown",
   "id": "6a0413ae-1dc9-4693-888f-20c33f7f95e3",
   "metadata": {},
   "source": [
    "## Setup Basic Users\n"
   ]
  },
  {
   "cell_type": "code",
   "execution_count": 484,
   "id": "1e3019d5-f818-4ad0-84ff-c331832a04a8",
   "metadata": {},
   "outputs": [],
   "source": [
    "ldapAdminConnection = connectLDAPServer(ldapServer, adminRDN, adminPassword)"
   ]
  },
  {
   "cell_type": "code",
   "execution_count": 180,
   "id": "9e594ec7-87b4-493a-9e4f-a85cdd8f8b56",
   "metadata": {},
   "outputs": [],
   "source": [
    "### Example of searching \n",
    "\n",
    "\n",
    "#ldapConnection.search(\n",
    "#    search_base=\"dc=fairscape,dc=net\", \n",
    "#    search_filter='(objectClass=*)'\n",
    "#)\n",
    "\n",
    "#found_entries = adminConnection.entries\n",
    "\n",
    "#type(found_entries[0])\n",
    "\n",
    "#entryJSON = found_entries[0].entry_to_json()\n",
    "#found_entries[0].entry_attributes_as_dict"
   ]
  },
  {
   "cell_type": "code",
   "execution_count": null,
   "id": "977ea261-4642-4eb1-94cc-7e2b9d52704e",
   "metadata": {},
   "outputs": [],
   "source": []
  },
  {
   "cell_type": "code",
   "execution_count": 485,
   "id": "4f939325-15cd-4aed-8f88-b04e12cb1f9f",
   "metadata": {},
   "outputs": [],
   "source": [
    "def ldapSearch(\n",
    "    ldapConnection: Connection,\n",
    "    searchFilter: str,\n",
    "    searchBase: str = 'dc=fairscape,dc=net',\n",
    "    searchAttributes: List[str] = ['cn', 'uid', 'o']\n",
    ") -> List[Entry] :\n",
    "    \"\"\" Function for searching ldap entries\n",
    "\n",
    "    Arguments:\n",
    "    ldapConnection: (ldap3.Connection)\n",
    "    searchFilter: (str) ldap filter expressed as string\n",
    "    searchBase: (str) the base of ldap tree to search\n",
    "    searchAttributes: (List[str]) the attributes to return from the search\n",
    "\n",
    "    Example:\n",
    "    ```\n",
    "    results = searchLDAP(\n",
    "        ldapConn, \n",
    "        searchFilter='(objectClass=*)', \n",
    "        searchBase='dc=fairscape,dc=net', \n",
    "        searchAttributes=['cn', 'uid', 'o']\n",
    "        )\n",
    "    ```\n",
    "    \n",
    "    \"\"\"\n",
    "    try:\n",
    "        ldapConnection.search(\n",
    "            search_base=searchBase,\n",
    "            search_filter=searchFilter,\n",
    "            search_scope=SUBTREE,\n",
    "            attributes=searchAttributes\n",
    "        )\n",
    "        return ldapConnection.entries\n",
    "    except LDAPException as e:\n",
    "        return e\n",
    "\n",
    "\n",
    "\n",
    "# utility functions\n",
    "\n",
    "def ldapGetUsers(\n",
    "    ldapConnection: Connection\n",
    ") -> List[Entry]:\n",
    "    \"\"\" Function for returning all fairscape users from LDAP\n",
    "    \"\"\"\n",
    "    return ldapSearch(\n",
    "        ldapConnection, \n",
    "        searchFilter='(objectClass=inetOrgPerson)', \n",
    "        searchBase='ou=users,dc=fairscape,dc=net',\n",
    "        searchAttributes=['cn', 'uid', 'o', \"memberof\"]\n",
    "    )\n",
    "\n",
    "def ldapGetGroups(\n",
    "    ldapConnection: Connection\n",
    ") -> List[Entry]:\n",
    "    \"\"\" Utility function for returning all fairscape groups from LDAP\n",
    "    \"\"\"\n",
    "    return ldapSearch(\n",
    "        ldapConnection, \n",
    "        searchFilter='(objectClass=groupOfNames)', \n",
    "        searchBase='ou=groups,dc=fairscape,dc=net',\n",
    "        searchAttributes=['cn', 'member', 'o', 'owner']\n",
    "    )\n",
    "\n",
    "def ldapAdd(\n",
    "    ldapConnection: Connection, \n",
    "    distinguishedName: str,\n",
    "    entryAttributes: Dict[str, str],\n",
    "):\n",
    "    \"\"\" Generic Function for adding entries to LDAP\n",
    "    \n",
    "    Arguments:\n",
    "    ldapConnection: (ldap3.Connection) connection to ldap server\n",
    "    distinguishedName: (str) formated distinguished name for entry\n",
    "    entryAttributes: (Dict[str,str]) attributes to add to the entry\n",
    "    \"\"\"\n",
    "    return ldapConnection.add(distinguishedName, attributes=entryAttributes)\n",
    "\n",
    "\n",
    "# setup fairscape ldap\n",
    "def ldapSetupOU(ldapConnection)-> bool:\n",
    "    \"\"\"\n",
    "    \"\"\"\n",
    "    \n",
    "    # check that default ou's dont exist\n",
    "    ouResults = ldapSearch(ldapConnection,\n",
    "           searchFilter='(objectClass=organizationalUnit)',\n",
    "           searchBase='dc=fairscape,dc=net',\n",
    "           searchAttributes=['ou']\n",
    "          )\n",
    "    \n",
    "    def addUserOU():\n",
    "        return ldapAdd(\n",
    "            ldapConnection, \n",
    "            distinguishedName=\"ou=users,dc=fairscape,dc=net\", \n",
    "            entryAttributes={\"objectClass\": \"organizationalUnit\", \"ou\": \"users\", \"description\": \"organizational unit of fairscape users\"}\n",
    "        )\n",
    "\n",
    "    def addGroupOU():\n",
    "        return ldapAdd(\n",
    "            ldapConnection, \n",
    "            distinguishedName=\"ou=groups,dc=fairscape,dc=net\", \n",
    "            entryAttributes={\"objectClass\": \"organizationalUnit\", \"ou\": \"groups\", \"description\": \"groups of fairscape users\"}\n",
    "        )\n",
    "\n",
    "    def addOrgOU():\n",
    "        '''\n",
    "        add organizations to directory\n",
    "        '''\n",
    "        return ldapAdd(\n",
    "            ldapConnection,\n",
    "            distinguishedName=\"ou=orgs,dc=fairscape,dc=net\",\n",
    "            entryAttributes={\"objectClass\": \"organizationalUnit\", \"ou\": \"orgs\", \"description\": \"organizations of fairscape users\"}\n",
    "        )\n",
    "    \n",
    "    #addUserOUResult = addUserOU()\n",
    "    addGroupOUResult = addGroupOU()\n",
    "    addOrgOUResult = addOrgOU()\n",
    "\n",
    "\n",
    "    # TODO log\n",
    "    #print(f\"addUserOUResult: {addUserOUResult}\")\n",
    "    print(f\"addGroupOUResult: {addGroupOUResult}\")\n",
    "    print(f\"addOrgOUResult: {addOrgOUResult}\")\n",
    "    return None\n",
    "    \n"
   ]
  },
  {
   "cell_type": "code",
   "execution_count": 486,
   "id": "80ea96a8-0e52-4b57-9bf8-dbf0d6dd8a28",
   "metadata": {},
   "outputs": [
    {
     "name": "stdout",
     "output_type": "stream",
     "text": [
      "addGroupOUResult: True\n",
      "addOrgOUResult: True\n"
     ]
    }
   ],
   "source": [
    "ldapSetupOU(ldapAdminConnection)"
   ]
  },
  {
   "cell_type": "code",
   "execution_count": 271,
   "id": "fdfb7d9a-8feb-4828-8622-626ed7a20c20",
   "metadata": {},
   "outputs": [
    {
     "data": {
      "text/plain": [
       "ldap3.core.exceptions.LDAPSocketSendError('socket sending error[Errno 32] Broken pipe')"
      ]
     },
     "execution_count": 271,
     "metadata": {},
     "output_type": "execute_result"
    }
   ],
   "source": [
    "# check that default ou's dont exist\n",
    "ldapSearch(ldapConnection,\n",
    "           searchFilter='(objectClass=organizationalUnit)',\n",
    "           searchBase='dc=fairscape,dc=net',\n",
    "           searchAttributes=['ou']\n",
    "          )\n",
    "    "
   ]
  },
  {
   "cell_type": "code",
   "execution_count": null,
   "id": "8aa20476-52ce-45f1-8ec4-4fed5cc1ec95",
   "metadata": {},
   "outputs": [],
   "source": []
  },
  {
   "cell_type": "code",
   "execution_count": 104,
   "id": "fb7ca0cf-7f35-4553-94f6-d2be00a1f825",
   "metadata": {},
   "outputs": [
    {
     "data": {
      "text/plain": [
       "True"
      ]
     },
     "execution_count": 104,
     "metadata": {},
     "output_type": "execute_result"
    }
   ],
   "source": [
    "# add UVA as organization\n",
    "ldapAdd(\n",
    "    ldapConnection,\n",
    "    distinguishedName=\"o=UVA,ou=orgs,dc=fairscape,dc=net\",\n",
    "    entryAttributes={\"objectClass\": \"organization\", \"o\": \"UVA\"}\n",
    ")\n",
    "\n",
    "# add nova as organization"
   ]
  },
  {
   "cell_type": "code",
   "execution_count": 498,
   "id": "c4b32b21-9374-41eb-99dd-94d1f6f22147",
   "metadata": {},
   "outputs": [
    {
     "ename": "LDAPSessionTerminatedByServerError",
     "evalue": "session terminated by server",
     "output_type": "error",
     "traceback": [
      "\u001b[0;31m---------------------------------------------------------------------------\u001b[0m",
      "\u001b[0;31mLDAPSessionTerminatedByServerError\u001b[0m        Traceback (most recent call last)",
      "Cell \u001b[0;32mIn[498], line 3\u001b[0m\n\u001b[1;32m      1\u001b[0m \u001b[38;5;66;03m# delete all users\u001b[39;00m\n\u001b[1;32m      2\u001b[0m userCN\u001b[38;5;241m=\u001b[39m\u001b[38;5;124m\"\u001b[39m\u001b[38;5;124mmal8ch\u001b[39m\u001b[38;5;124m\"\u001b[39m\n\u001b[0;32m----> 3\u001b[0m \u001b[43mldapAdminConnection\u001b[49m\u001b[38;5;241;43m.\u001b[39;49m\u001b[43mdelete\u001b[49m\u001b[43m(\u001b[49m\u001b[38;5;124;43mf\u001b[39;49m\u001b[38;5;124;43m\"\u001b[39;49m\u001b[38;5;124;43mcn=\u001b[39;49m\u001b[38;5;132;43;01m{\u001b[39;49;00m\u001b[43muserCN\u001b[49m\u001b[38;5;132;43;01m}\u001b[39;49;00m\u001b[38;5;124;43m,ou=users,\u001b[39;49m\u001b[38;5;132;43;01m{\u001b[39;49;00m\u001b[43mldapBaseDN\u001b[49m\u001b[38;5;132;43;01m}\u001b[39;49;00m\u001b[38;5;124;43m\"\u001b[39;49m\u001b[43m)\u001b[49m\n",
      "File \u001b[0;32m~/fairscape/mds_env/lib/python3.12/site-packages/ldap3/core/connection.py:1057\u001b[0m, in \u001b[0;36mConnection.delete\u001b[0;34m(self, dn, controls)\u001b[0m\n\u001b[1;32m   1055\u001b[0m \u001b[38;5;28;01mif\u001b[39;00m log_enabled(PROTOCOL):\n\u001b[1;32m   1056\u001b[0m     log(PROTOCOL, \u001b[38;5;124m'\u001b[39m\u001b[38;5;124mDELETE request <\u001b[39m\u001b[38;5;132;01m%s\u001b[39;00m\u001b[38;5;124m> sent via <\u001b[39m\u001b[38;5;132;01m%s\u001b[39;00m\u001b[38;5;124m>\u001b[39m\u001b[38;5;124m'\u001b[39m, delete_request_to_dict(request), \u001b[38;5;28mself\u001b[39m)\n\u001b[0;32m-> 1057\u001b[0m response \u001b[38;5;241m=\u001b[39m \u001b[38;5;28;43mself\u001b[39;49m\u001b[38;5;241;43m.\u001b[39;49m\u001b[43mpost_send_single_response\u001b[49m\u001b[43m(\u001b[49m\u001b[38;5;28;43mself\u001b[39;49m\u001b[38;5;241;43m.\u001b[39;49m\u001b[43msend\u001b[49m\u001b[43m(\u001b[49m\u001b[38;5;124;43m'\u001b[39;49m\u001b[38;5;124;43mdelRequest\u001b[39;49m\u001b[38;5;124;43m'\u001b[39;49m\u001b[43m,\u001b[49m\u001b[43m \u001b[49m\u001b[43mrequest\u001b[49m\u001b[43m,\u001b[49m\u001b[43m \u001b[49m\u001b[43mcontrols\u001b[49m\u001b[43m)\u001b[49m\u001b[43m)\u001b[49m\n\u001b[1;32m   1058\u001b[0m \u001b[38;5;28mself\u001b[39m\u001b[38;5;241m.\u001b[39m_entries \u001b[38;5;241m=\u001b[39m []\n\u001b[1;32m   1060\u001b[0m \u001b[38;5;28;01mif\u001b[39;00m \u001b[38;5;28misinstance\u001b[39m(response, STRING_TYPES \u001b[38;5;241m+\u001b[39m (\u001b[38;5;28mint\u001b[39m, )):\n",
      "File \u001b[0;32m~/fairscape/mds_env/lib/python3.12/site-packages/ldap3/strategy/sync.py:160\u001b[0m, in \u001b[0;36mSyncStrategy.post_send_single_response\u001b[0;34m(self, message_id)\u001b[0m\n\u001b[1;32m    155\u001b[0m \u001b[38;5;28;01mdef\u001b[39;00m \u001b[38;5;21mpost_send_single_response\u001b[39m(\u001b[38;5;28mself\u001b[39m, message_id):\n\u001b[1;32m    156\u001b[0m \u001b[38;5;250m    \u001b[39m\u001b[38;5;124;03m\"\"\"\u001b[39;00m\n\u001b[1;32m    157\u001b[0m \u001b[38;5;124;03m    Executed after an Operation Request (except Search)\u001b[39;00m\n\u001b[1;32m    158\u001b[0m \u001b[38;5;124;03m    Returns the result message or None\u001b[39;00m\n\u001b[1;32m    159\u001b[0m \u001b[38;5;124;03m    \"\"\"\u001b[39;00m\n\u001b[0;32m--> 160\u001b[0m     responses, result \u001b[38;5;241m=\u001b[39m \u001b[38;5;28;43mself\u001b[39;49m\u001b[38;5;241;43m.\u001b[39;49m\u001b[43mget_response\u001b[49m\u001b[43m(\u001b[49m\u001b[43mmessage_id\u001b[49m\u001b[43m)\u001b[49m\n\u001b[1;32m    161\u001b[0m     \u001b[38;5;28mself\u001b[39m\u001b[38;5;241m.\u001b[39mconnection\u001b[38;5;241m.\u001b[39mresult \u001b[38;5;241m=\u001b[39m result\n\u001b[1;32m    162\u001b[0m     \u001b[38;5;28;01mif\u001b[39;00m result[\u001b[38;5;124m'\u001b[39m\u001b[38;5;124mtype\u001b[39m\u001b[38;5;124m'\u001b[39m] \u001b[38;5;241m==\u001b[39m \u001b[38;5;124m'\u001b[39m\u001b[38;5;124mintermediateResponse\u001b[39m\u001b[38;5;124m'\u001b[39m:  \u001b[38;5;66;03m# checks that all responses are intermediates (there should be only one)\u001b[39;00m\n",
      "File \u001b[0;32m~/fairscape/mds_env/lib/python3.12/site-packages/ldap3/strategy/base.py:370\u001b[0m, in \u001b[0;36mBaseStrategy.get_response\u001b[0;34m(self, message_id, timeout, get_request)\u001b[0m\n\u001b[1;32m    368\u001b[0m     \u001b[38;5;28;01mif\u001b[39;00m log_enabled(ERROR):\n\u001b[1;32m    369\u001b[0m         log(ERROR, \u001b[38;5;124m'\u001b[39m\u001b[38;5;124m<\u001b[39m\u001b[38;5;132;01m%s\u001b[39;00m\u001b[38;5;124m> for <\u001b[39m\u001b[38;5;132;01m%s\u001b[39;00m\u001b[38;5;124m>\u001b[39m\u001b[38;5;124m'\u001b[39m, \u001b[38;5;28mself\u001b[39m\u001b[38;5;241m.\u001b[39mconnection\u001b[38;5;241m.\u001b[39mlast_error, \u001b[38;5;28mself\u001b[39m\u001b[38;5;241m.\u001b[39mconnection)\n\u001b[0;32m--> 370\u001b[0m     \u001b[38;5;28;01mraise\u001b[39;00m LDAPSessionTerminatedByServerError(\u001b[38;5;28mself\u001b[39m\u001b[38;5;241m.\u001b[39mconnection\u001b[38;5;241m.\u001b[39mlast_error)\n\u001b[1;32m    371\u001b[0m \u001b[38;5;28;01melif\u001b[39;00m responses \u001b[38;5;241m==\u001b[39m TRANSACTION_ERROR:  \u001b[38;5;66;03m# Novell LDAP Transaction unsolicited notification\u001b[39;00m\n\u001b[1;32m    372\u001b[0m     \u001b[38;5;28mself\u001b[39m\u001b[38;5;241m.\u001b[39mconnection\u001b[38;5;241m.\u001b[39mlast_error \u001b[38;5;241m=\u001b[39m \u001b[38;5;124m'\u001b[39m\u001b[38;5;124mtransaction error\u001b[39m\u001b[38;5;124m'\u001b[39m\n",
      "\u001b[0;31mLDAPSessionTerminatedByServerError\u001b[0m: session terminated by server"
     ]
    }
   ],
   "source": [
    "# delete all users\n",
    "userCN=\"mal8ch\"\n",
    "ldapAdminConnection.delete(f\"cn={userCN},ou=users,{ldapBaseDN}\")"
   ]
  },
  {
   "cell_type": "code",
   "execution_count": 487,
   "id": "7be44648-46e3-4825-a811-be427996fd5a",
   "metadata": {},
   "outputs": [
    {
     "data": {
      "text/plain": [
       "True"
      ]
     },
     "execution_count": 487,
     "metadata": {},
     "output_type": "execute_result"
    }
   ],
   "source": [
    "# Add ALL example users\n",
    "\n",
    "# function for adding a user with password and email\n",
    "def addFairscapeUser(\n",
    "    ldapConnection, \n",
    "    userCN: str, \n",
    "    userSN: str, \n",
    "    userGN: str, \n",
    "    userMail: str,\n",
    "    userPassword: str\n",
    "):\n",
    "\n",
    "    return ldapAdd(\n",
    "        ldapConnection,\n",
    "        f\"cn={userCN},ou=users,{ldapBaseDN}\",\n",
    "        entryAttributes={\n",
    "            \"objectClass\": \"inetOrgPerson\",\n",
    "            \"objectClass\": \"Person\",\n",
    "            \"cn\": userCN,\n",
    "            \"sn\": userSN,\n",
    "            \"gn\": userGN,\n",
    "            \"mail\": userMail,\n",
    "            \"userPassword\": userPassword\n",
    "        }\n",
    "    )\n",
    "\n",
    "addFairscapeUser(\n",
    "    ldapAdminConnection,\n",
    "    userCN=\"mal8ch\",\n",
    "    userSN=\"Levinson\",\n",
    "    userGN=\"Max\",\n",
    "    userMail=\"mal8ch@virginia.edu\",\n",
    "    userPassword=\"maxtest\"\n",
    ")\n",
    "\n",
    "addFairscapeUser(\n",
    "    ldapAdminConnection,\n",
    "    userCN=\"twc8q\",\n",
    "    userSN=\"Clark\",\n",
    "    userGN=\"Tim\",\n",
    "    userMail=\"twc8q@virginia.edu\",\n",
    "    userPassword=\"timtest\"\n",
    ")\n",
    "\n",
    "addFairscapeUser(\n",
    "    ldapAdminConnection,\n",
    "    userCN=\"ma3xy\",\n",
    "    userSN=\"Al Manir\",\n",
    "    userGN=\"Sadnan\",\n",
    "    userMail=\"ma3xy@virginia.edu\",\n",
    "    userPassword=\"sadnantest\"\n",
    ")\n",
    "\n",
    "addFairscapeUser(\n",
    "    ldapAdminConnection,\n",
    "    userCN=\"justin\",\n",
    "    userSN=\"Niestroy\",\n",
    "    userGN=\"Justin\",\n",
    "    userMail=\"jniestroy@gmail.com\",\n",
    "    userPassword=\"justintest\"\n",
    ")"
   ]
  },
  {
   "cell_type": "code",
   "execution_count": 488,
   "id": "ad3571ee-0649-4c5b-b590-af0f48dbe1d5",
   "metadata": {},
   "outputs": [
    {
     "data": {
      "text/plain": [
       "True"
      ]
     },
     "execution_count": 488,
     "metadata": {},
     "output_type": "execute_result"
    }
   ],
   "source": [
    "usersDN = \"ou=users,dc=fairscape,dc=net\"\n",
    "adminsCN = [\n",
    "    f\"cn=justin,{usersDN}\",\n",
    "    f\"cn=ma3xy,{usersDN}\",\n",
    "    f\"cn=mal8ch,{usersDN}\",\n",
    "    f\"cn=twc8q,{usersDN}\"\n",
    "]\n",
    "\n",
    "\n",
    "# add admin user group\n",
    "ldapAdd(\n",
    "    ldapAdminConnection,\n",
    "    distinguishedName=\"cn=admins,ou=groups,dc=fairscape,dc=net\",\n",
    "    entryAttributes={\"objectClass\": \"groupOfNames\", \"cn\": \"admins\", \"member\": adminsCN}\n",
    ")"
   ]
  },
  {
   "cell_type": "code",
   "execution_count": 492,
   "id": "068b4131-c97f-401e-9e1f-04e3e32faf23",
   "metadata": {},
   "outputs": [
    {
     "data": {
      "text/plain": [
       "True"
      ]
     },
     "execution_count": 492,
     "metadata": {},
     "output_type": "execute_result"
    }
   ],
   "source": [
    "ldapAdminConnection.search(\n",
    "    search_base=\"ou=users,dc=fairscape,dc=net\",\n",
    "    search_filter=\"(objectClass=*)\",\n",
    "    attributes=[\"*\", \"memberOf\"]\n",
    ")"
   ]
  },
  {
   "cell_type": "code",
   "execution_count": 493,
   "id": "0dc1de42-a7ae-46f4-9a57-97b54c8fa85e",
   "metadata": {},
   "outputs": [],
   "source": [
    "results = ldapAdminConnection.entries"
   ]
  },
  {
   "cell_type": "code",
   "execution_count": 494,
   "id": "329ce371-fcd7-44b5-9d0b-25bc155f57d0",
   "metadata": {},
   "outputs": [
    {
     "data": {
      "text/plain": [
       "[DN: ou=users,dc=fairscape,dc=net - STATUS: Read - READ TIME: 2024-07-05T21:20:52.423501\n",
       "     objectClass: organizationalUnit\n",
       "     ou: users,\n",
       " DN: cn=ma3xy,ou=users,dc=fairscape,dc=net - STATUS: Read - READ TIME: 2024-07-05T21:20:52.423640\n",
       "     cn: ma3xy\n",
       "     givenName: Sadnan\n",
       "     mail: ma3xy@virginia.edu\n",
       "     objectClass: inetOrgPerson\n",
       "     sn: Al Manir\n",
       "     userPassword: b'sadnantest',\n",
       " DN: cn=twc8q,ou=users,dc=fairscape,dc=net - STATUS: Read - READ TIME: 2024-07-05T21:20:52.423748\n",
       "     cn: twc8q\n",
       "     givenName: Tim\n",
       "     mail: twc8q@virginia.edu\n",
       "     objectClass: inetOrgPerson\n",
       "     sn: Clark\n",
       "     userPassword: b'timtest',\n",
       " DN: cn=admins,ou=users,dc=fairscape,dc=net - STATUS: Read - READ TIME: 2024-07-05T21:20:52.423824\n",
       "     cn: admins\n",
       "     member: cn=fairscapeUser,ou=users,dc=fairscape,dc=net\n",
       "     objectClass: groupOfNames,\n",
       " DN: cn=justin,ou=users,dc=fairscape,dc=net - STATUS: Read - READ TIME: 2024-07-05T21:20:52.423923\n",
       "     cn: justin\n",
       "     givenName: Justin\n",
       "     mail: jniestroy@gmail.com\n",
       "     objectClass: inetOrgPerson\n",
       "     sn: Niestroy\n",
       "     userPassword: b'justintest',\n",
       " DN: cn=mal8ch,ou=users,dc=fairscape,dc=net - STATUS: Read - READ TIME: 2024-07-05T21:20:52.424030\n",
       "     cn: mal8ch\n",
       "     givenName: Max\n",
       "     mail: mal8ch@virginia.edu\n",
       "     objectClass: inetOrgPerson\n",
       "     sn: Levinson\n",
       "     userPassword: b'maxtest',\n",
       " DN: cn=fairscapeUser,ou=users,dc=fairscape,dc=net - STATUS: Read - READ TIME: 2024-07-05T21:20:52.424161\n",
       "     cn: User1\n",
       "         fairscapeUser\n",
       "     gidNumber: 1000\n",
       "     homeDirectory: /home/fairscapeUser\n",
       "     objectClass: inetOrgPerson\n",
       "                  posixAccount\n",
       "                  shadowAccount\n",
       "     sn: Bar1\n",
       "     uid: fairscapeUser\n",
       "     uidNumber: 1000\n",
       "     userPassword: b'fairscapePass']"
      ]
     },
     "execution_count": 494,
     "metadata": {},
     "output_type": "execute_result"
    }
   ],
   "source": [
    "results"
   ]
  },
  {
   "cell_type": "code",
   "execution_count": 438,
   "id": "9179c1b5-e79e-46a5-9784-f10ea8eedc6e",
   "metadata": {},
   "outputs": [
    {
     "data": {
      "text/plain": [
       "False"
      ]
     },
     "execution_count": 438,
     "metadata": {},
     "output_type": "execute_result"
    }
   ],
   "source": [
    "ldapAdminConnection.modify(\n",
    "    \"cn=mal8ch,ou=users,dc=fairscape,dc=net\",\n",
    "    changes={\"memberOf\": (ldap3.MODIFY_ADD, [\"cn=admins,ou=groups,dc=fairscape,dc=net\"])}\n",
    ")\n",
    "\n",
    "#results = ldapGetUsers(ldapAdminConnection)"
   ]
  },
  {
   "cell_type": "code",
   "execution_count": 437,
   "id": "3fbbf343-d3cf-4944-82e1-dac5a62b38b7",
   "metadata": {},
   "outputs": [
    {
     "data": {
      "text/plain": [
       "{'cn': ['twc8q'], 'memberof': [], 'o': [], 'uid': []}"
      ]
     },
     "execution_count": 437,
     "metadata": {},
     "output_type": "execute_result"
    }
   ],
   "source": [
    "results[2].entry_attributes_as_dict"
   ]
  },
  {
   "cell_type": "code",
   "execution_count": 165,
   "id": "614fae2d-d9e3-4f4c-84f4-e8aa9184376a",
   "metadata": {},
   "outputs": [
    {
     "data": {
      "text/plain": [
       "True"
      ]
     },
     "execution_count": 165,
     "metadata": {},
     "output_type": "execute_result"
    }
   ],
   "source": [
    "# delete the admin user group\n",
    "ldapConnection.delete(\n",
    "    \"cn=admins,ou=groups,dc=fairscape,dc=net\"\n",
    ")"
   ]
  },
  {
   "cell_type": "code",
   "execution_count": null,
   "id": "b937fe28-3279-43ac-96b3-6dcc70399582",
   "metadata": {},
   "outputs": [],
   "source": []
  },
  {
   "cell_type": "code",
   "execution_count": null,
   "id": "5abba570-f454-479e-bb01-70c578ea1077",
   "metadata": {},
   "outputs": [],
   "source": [
    "# get list of members\n",
    "ldapAdminConnection.search(\n",
    "    search_filter=\"(cn=admins)\",\n",
    "    search_base=\"ou=groups,dc=fairscape,dc=net\",\n",
    "    attributes=['member']\n",
    ")\n",
    "\n",
    "adminGroup = ldapAdminConnection.entries[0]\n",
    "\n",
    "adminGroupAttributes = adminGroup.entry_attributes_as_dict\n",
    "\n",
    "adminGroupMembers = adminGroupAttributes['member']\n",
    "\n",
    "adminGroupMembers"
   ]
  },
  {
   "cell_type": "code",
   "execution_count": null,
   "id": "da241255-be58-4577-a391-22b88c09255d",
   "metadata": {},
   "outputs": [],
   "source": []
  },
  {
   "cell_type": "code",
   "execution_count": 371,
   "id": "89cf58f1-8692-4af0-a0aa-7f9913b0e042",
   "metadata": {},
   "outputs": [],
   "source": [
    "# search the users\n",
    "users = ldapGetUsers(ldapAdminConnection)"
   ]
  },
  {
   "cell_type": "code",
   "execution_count": 372,
   "id": "1259b9d7-b19a-4889-b261-b103d894cd54",
   "metadata": {},
   "outputs": [
    {
     "data": {
      "text/plain": [
       "{'cn': ['twc8q'], 'memberof': [], 'o': [], 'uid': []}"
      ]
     },
     "execution_count": 372,
     "metadata": {},
     "output_type": "execute_result"
    }
   ],
   "source": [
    "users[2].entry_attributes_as_dict"
   ]
  },
  {
   "cell_type": "code",
   "execution_count": 302,
   "id": "ca5b02bb-f8f6-4447-935f-a53abaf3912f",
   "metadata": {},
   "outputs": [],
   "source": [
    "# remove the specified user\n",
    "adminGroupMembers.remove('cn=justin,ou=users,dc=fairscape,dc=net')"
   ]
  },
  {
   "cell_type": "code",
   "execution_count": 303,
   "id": "9f2200c2-19be-4022-bf15-74c268a65f9c",
   "metadata": {},
   "outputs": [
    {
     "data": {
      "text/plain": [
       "['cn=ma3xy,ou=users,dc=fairscape,dc=net',\n",
       " 'cn=mal8ch,ou=users,dc=fairscape,dc=net',\n",
       " 'cn=twc8q,ou=users,dc=fairscape,dc=net']"
      ]
     },
     "execution_count": 303,
     "metadata": {},
     "output_type": "execute_result"
    }
   ],
   "source": [
    "adminGroupMembers"
   ]
  },
  {
   "cell_type": "code",
   "execution_count": null,
   "id": "79ec7324-3d01-4ac4-a65c-33aff39a9200",
   "metadata": {},
   "outputs": [],
   "source": []
  },
  {
   "cell_type": "code",
   "execution_count": 305,
   "id": "21be51a6-8b6e-4d3e-978c-b8b87111c82b",
   "metadata": {},
   "outputs": [
    {
     "ename": "LDAPSessionTerminatedByServerError",
     "evalue": "session terminated by server",
     "output_type": "error",
     "traceback": [
      "\u001b[0;31m---------------------------------------------------------------------------\u001b[0m",
      "\u001b[0;31mLDAPSessionTerminatedByServerError\u001b[0m        Traceback (most recent call last)",
      "Cell \u001b[0;32mIn[305], line 1\u001b[0m\n\u001b[0;32m----> 1\u001b[0m \u001b[43mldapAdminConnection\u001b[49m\u001b[38;5;241;43m.\u001b[39;49m\u001b[43mmodify\u001b[49m\u001b[43m(\u001b[49m\n\u001b[1;32m      2\u001b[0m \u001b[43m    \u001b[49m\u001b[38;5;124;43m\"\u001b[39;49m\u001b[38;5;124;43mcn=admins,ou=groups,dc=fairscape,dc=net\u001b[39;49m\u001b[38;5;124;43m\"\u001b[39;49m\u001b[43m,\u001b[49m\n\u001b[1;32m      3\u001b[0m \u001b[43m    \u001b[49m\u001b[43mchanges\u001b[49m\u001b[38;5;241;43m=\u001b[39;49m\u001b[43m{\u001b[49m\u001b[38;5;124;43m\"\u001b[39;49m\u001b[38;5;124;43mmember\u001b[39;49m\u001b[38;5;124;43m\"\u001b[39;49m\u001b[43m:\u001b[49m\u001b[43m \u001b[49m\u001b[43m(\u001b[49m\u001b[43mldap3\u001b[49m\u001b[38;5;241;43m.\u001b[39;49m\u001b[43mMODIFY_REPLACE\u001b[49m\u001b[43m,\u001b[49m\u001b[43m \u001b[49m\u001b[43madminGroupMembers\u001b[49m\u001b[43m)\u001b[49m\u001b[43m}\u001b[49m\u001b[43m,\u001b[49m\n\u001b[1;32m      4\u001b[0m \u001b[43m)\u001b[49m\n",
      "File \u001b[0;32m~/fairscape/mds_env/lib/python3.12/site-packages/ldap3/core/connection.py:1150\u001b[0m, in \u001b[0;36mConnection.modify\u001b[0;34m(self, dn, changes, controls)\u001b[0m\n\u001b[1;32m   1148\u001b[0m \u001b[38;5;28;01mif\u001b[39;00m log_enabled(PROTOCOL):\n\u001b[1;32m   1149\u001b[0m     log(PROTOCOL, \u001b[38;5;124m'\u001b[39m\u001b[38;5;124mMODIFY request <\u001b[39m\u001b[38;5;132;01m%s\u001b[39;00m\u001b[38;5;124m> sent via <\u001b[39m\u001b[38;5;132;01m%s\u001b[39;00m\u001b[38;5;124m>\u001b[39m\u001b[38;5;124m'\u001b[39m, modify_request_to_dict(request), \u001b[38;5;28mself\u001b[39m)\n\u001b[0;32m-> 1150\u001b[0m response \u001b[38;5;241m=\u001b[39m \u001b[38;5;28;43mself\u001b[39;49m\u001b[38;5;241;43m.\u001b[39;49m\u001b[43mpost_send_single_response\u001b[49m\u001b[43m(\u001b[49m\u001b[38;5;28;43mself\u001b[39;49m\u001b[38;5;241;43m.\u001b[39;49m\u001b[43msend\u001b[49m\u001b[43m(\u001b[49m\u001b[38;5;124;43m'\u001b[39;49m\u001b[38;5;124;43mmodifyRequest\u001b[39;49m\u001b[38;5;124;43m'\u001b[39;49m\u001b[43m,\u001b[49m\u001b[43m \u001b[49m\u001b[43mrequest\u001b[49m\u001b[43m,\u001b[49m\u001b[43m \u001b[49m\u001b[43mcontrols\u001b[49m\u001b[43m)\u001b[49m\u001b[43m)\u001b[49m\n\u001b[1;32m   1151\u001b[0m \u001b[38;5;28mself\u001b[39m\u001b[38;5;241m.\u001b[39m_entries \u001b[38;5;241m=\u001b[39m []\n\u001b[1;32m   1153\u001b[0m \u001b[38;5;28;01mif\u001b[39;00m \u001b[38;5;28misinstance\u001b[39m(response, STRING_TYPES \u001b[38;5;241m+\u001b[39m (\u001b[38;5;28mint\u001b[39m, )):\n",
      "File \u001b[0;32m~/fairscape/mds_env/lib/python3.12/site-packages/ldap3/strategy/sync.py:160\u001b[0m, in \u001b[0;36mSyncStrategy.post_send_single_response\u001b[0;34m(self, message_id)\u001b[0m\n\u001b[1;32m    155\u001b[0m \u001b[38;5;28;01mdef\u001b[39;00m \u001b[38;5;21mpost_send_single_response\u001b[39m(\u001b[38;5;28mself\u001b[39m, message_id):\n\u001b[1;32m    156\u001b[0m \u001b[38;5;250m    \u001b[39m\u001b[38;5;124;03m\"\"\"\u001b[39;00m\n\u001b[1;32m    157\u001b[0m \u001b[38;5;124;03m    Executed after an Operation Request (except Search)\u001b[39;00m\n\u001b[1;32m    158\u001b[0m \u001b[38;5;124;03m    Returns the result message or None\u001b[39;00m\n\u001b[1;32m    159\u001b[0m \u001b[38;5;124;03m    \"\"\"\u001b[39;00m\n\u001b[0;32m--> 160\u001b[0m     responses, result \u001b[38;5;241m=\u001b[39m \u001b[38;5;28;43mself\u001b[39;49m\u001b[38;5;241;43m.\u001b[39;49m\u001b[43mget_response\u001b[49m\u001b[43m(\u001b[49m\u001b[43mmessage_id\u001b[49m\u001b[43m)\u001b[49m\n\u001b[1;32m    161\u001b[0m     \u001b[38;5;28mself\u001b[39m\u001b[38;5;241m.\u001b[39mconnection\u001b[38;5;241m.\u001b[39mresult \u001b[38;5;241m=\u001b[39m result\n\u001b[1;32m    162\u001b[0m     \u001b[38;5;28;01mif\u001b[39;00m result[\u001b[38;5;124m'\u001b[39m\u001b[38;5;124mtype\u001b[39m\u001b[38;5;124m'\u001b[39m] \u001b[38;5;241m==\u001b[39m \u001b[38;5;124m'\u001b[39m\u001b[38;5;124mintermediateResponse\u001b[39m\u001b[38;5;124m'\u001b[39m:  \u001b[38;5;66;03m# checks that all responses are intermediates (there should be only one)\u001b[39;00m\n",
      "File \u001b[0;32m~/fairscape/mds_env/lib/python3.12/site-packages/ldap3/strategy/base.py:370\u001b[0m, in \u001b[0;36mBaseStrategy.get_response\u001b[0;34m(self, message_id, timeout, get_request)\u001b[0m\n\u001b[1;32m    368\u001b[0m     \u001b[38;5;28;01mif\u001b[39;00m log_enabled(ERROR):\n\u001b[1;32m    369\u001b[0m         log(ERROR, \u001b[38;5;124m'\u001b[39m\u001b[38;5;124m<\u001b[39m\u001b[38;5;132;01m%s\u001b[39;00m\u001b[38;5;124m> for <\u001b[39m\u001b[38;5;132;01m%s\u001b[39;00m\u001b[38;5;124m>\u001b[39m\u001b[38;5;124m'\u001b[39m, \u001b[38;5;28mself\u001b[39m\u001b[38;5;241m.\u001b[39mconnection\u001b[38;5;241m.\u001b[39mlast_error, \u001b[38;5;28mself\u001b[39m\u001b[38;5;241m.\u001b[39mconnection)\n\u001b[0;32m--> 370\u001b[0m     \u001b[38;5;28;01mraise\u001b[39;00m LDAPSessionTerminatedByServerError(\u001b[38;5;28mself\u001b[39m\u001b[38;5;241m.\u001b[39mconnection\u001b[38;5;241m.\u001b[39mlast_error)\n\u001b[1;32m    371\u001b[0m \u001b[38;5;28;01melif\u001b[39;00m responses \u001b[38;5;241m==\u001b[39m TRANSACTION_ERROR:  \u001b[38;5;66;03m# Novell LDAP Transaction unsolicited notification\u001b[39;00m\n\u001b[1;32m    372\u001b[0m     \u001b[38;5;28mself\u001b[39m\u001b[38;5;241m.\u001b[39mconnection\u001b[38;5;241m.\u001b[39mlast_error \u001b[38;5;241m=\u001b[39m \u001b[38;5;124m'\u001b[39m\u001b[38;5;124mtransaction error\u001b[39m\u001b[38;5;124m'\u001b[39m\n",
      "\u001b[0;31mLDAPSessionTerminatedByServerError\u001b[0m: session terminated by server"
     ]
    }
   ],
   "source": [
    "ldapAdminConnection.modify(\n",
    "    \"cn=admins,ou=groups,dc=fairscape,dc=net\",\n",
    "    changes={\"member\": (ldap3.MODIFY_REPLACE, adminGroupMembers)},\n",
    ")"
   ]
  },
  {
   "cell_type": "code",
   "execution_count": 160,
   "id": "44b4ba6e-99cc-4f1a-9a62-6a1fcec3a958",
   "metadata": {},
   "outputs": [],
   "source": [
    "def removeUserFromGroup(ldapConnection, userCN, groupCN):\n",
    "    '''\n",
    "    Remove a user from a Groups Members\n",
    "    '''\n",
    "    \n",
    "    # find the current list of members\n",
    "    groupResult = ldapConnection.search(\n",
    "        search_filter=f\"(cn={groupCN})\",\n",
    "        search_base=\"ou=groups,dc=fairscape,dc=net\",\n",
    "        attributes=[\"member\"]\n",
    "    )\n",
    "\n",
    "    if not groupResult:\n",
    "        raise Exception\n",
    "\n",
    "    matches = ldapConnection.entries\n",
    "\n",
    "    if len(matches) == 0:\n",
    "        raise Exception\n",
    "\n",
    "    elif len(matches) > 1:\n",
    "        raise Exception\n",
    "\n",
    "    # get the list of members from group attributes\n",
    "    matchedGroup = ldapConnection.entries[0]\n",
    "    matchedGroupAttributes = matchedGroup.entry_attributes_as_dict\n",
    "    matchedGroupMembers = matchedGroupAttributes.get('member')\n",
    "\n",
    "    userDN = f\"cn={userCN},ou=users,{ldapBaseDN}\"\n",
    "    groupDN = f\"cn={groupCN},ou=groups,{ldapBaseDN}\"\n",
    "    \n",
    "    if userDN not in matchedGroupMembers:\n",
    "        print(f\"Warning: User ({userDN}) is not in members of group ({groupDN})\")\n",
    "        return True\n",
    "\n",
    "    # remove the current user from the group\n",
    "    matchedGroupMembers.remove(userDN)\n",
    "\n",
    "    return ldapConnection.modify(\n",
    "        groupDN,\n",
    "        changes={\"member\": (ldap3.MODIFY_REPLACE, matchedGroupMembers)},\n",
    "    )\n"
   ]
  },
  {
   "cell_type": "code",
   "execution_count": 161,
   "id": "ab5a96e8-a555-44bc-b8e4-8988d3971703",
   "metadata": {},
   "outputs": [],
   "source": [
    "def addUserToGroup(ldapConnection, userCN, groupCN):\n",
    "    '''\n",
    "    Add a user to a group's member list\n",
    "    '''\n",
    "    \n",
    "    # find the current list of members\n",
    "    groupResult = ldapConnection.search(\n",
    "        search_filter=f\"(cn={groupCN})\",\n",
    "        search_base=\"ou=groups,dc=fairscape,dc=net\",\n",
    "        attributes=[\"member\"]\n",
    "    )\n",
    "\n",
    "    if not groupResult:\n",
    "        raise Exception\n",
    "\n",
    "    matches = ldapConnection.entries\n",
    "\n",
    "    if len(matches) == 0:\n",
    "        raise Exception\n",
    "\n",
    "    elif len(matches) > 1:\n",
    "        raise Exception\n",
    "\n",
    "    # get the list of members from group attributes\n",
    "    matchedGroup = ldapConnection.entries[0]\n",
    "    matchedGroupAttributes = matchedGroup.entry_attributes_as_dict\n",
    "    matchedGroupMembers = matchedGroupAttributes.get('member')\n",
    "\n",
    "    \n",
    "    userDN = f\"cn={userCN},ou=users,{ldapBaseDN}\"\n",
    "    groupDN = f\"cn={groupCN},ou=groups,{ldapBaseDN}\"\n",
    "    \n",
    "    if userDN in matchedGroupMembers:\n",
    "        print(f\"Warning: User ({userDN}) is already in members of group ({groupDN})\")\n",
    "        return True\n",
    "\n",
    "    # remove the current user from the group\n",
    "    matchedGroupMembers.append(userDN)\n",
    "\n",
    "    return ldapConnection.modify(\n",
    "        groupDN,\n",
    "        changes={\"member\": (ldap3.MODIFY_REPLACE, matchedGroupMembers)},\n",
    "    )\n"
   ]
  },
  {
   "cell_type": "code",
   "execution_count": null,
   "id": "73bd93d7-0a71-43be-995d-8517149a3389",
   "metadata": {},
   "outputs": [],
   "source": []
  },
  {
   "cell_type": "code",
   "execution_count": 52,
   "id": "d5f4059b-5e54-432b-b06c-e211400f01aa",
   "metadata": {},
   "outputs": [
    {
     "data": {
      "text/plain": [
       "True"
      ]
     },
     "execution_count": 52,
     "metadata": {},
     "output_type": "execute_result"
    }
   ],
   "source": [
    "preemo_uva_cn = \"preemo-uva\"\n",
    "add_group_preemo_uva = ldapAdd(\n",
    "    ldapConnection,\n",
    "    distinguishedName= f\"cn={preemo_uva_cn},ou=groups,dc=fairscape,dc=net\",\n",
    "    entryAttributes={\"objectClass\": \"groupOfNames\", \"cn\": preemo_uva_cn, \"member\": [\"cn=fairscapeUser,ou=users,dc=fairscape,dc=net\"]}\n",
    ")\n",
    "add_group_preemo_uva"
   ]
  },
  {
   "cell_type": "code",
   "execution_count": 53,
   "id": "559de621-f330-4c80-8152-3532981c55a9",
   "metadata": {},
   "outputs": [
    {
     "data": {
      "text/plain": [
       "True"
      ]
     },
     "execution_count": 53,
     "metadata": {},
     "output_type": "execute_result"
    }
   ],
   "source": [
    "preemo_nova_cn = \"preemo-nova\"\n",
    "add_group_preemo_nova = ldapAdd(\n",
    "    ldapConnection,\n",
    "    distinguishedName= f\"cn={preemo_nova_cn},ou=groups,dc=fairscape,dc=net\",\n",
    "    entryAttributes={\"objectClass\": \"groupOfNames\", \"cn\": preemo_nova_cn, \"member\": [\"cn=fairscapeUser,ou=users,dc=fairscape,dc=net\"]}\n",
    ")\n",
    "add_group_preemo_nova"
   ]
  },
  {
   "cell_type": "code",
   "execution_count": 59,
   "id": "469b35d5-5598-4e42-91ca-9c556f3bcd20",
   "metadata": {},
   "outputs": [
    {
     "data": {
      "text/plain": [
       "True"
      ]
     },
     "execution_count": 59,
     "metadata": {},
     "output_type": "execute_result"
    }
   ],
   "source": [
    "# add user\n",
    "add_mal8ch = ldapAdd(\n",
    "    ldapConnection,\n",
    "    distinguishedName=\"cn=mal8ch,ou=users,dc=fairscape,dc=net\",\n",
    "    entryAttributes={\n",
    "        \"objectClass\": \"inetOrgPerson\", \n",
    "        \"cn\": \"mal8ch\", \n",
    "        \"givenName\": \"Max\", \n",
    "        \"sn\": \"Levinson\",\n",
    "        \"mail\": \"mal8ch@virginia.edu\",\n",
    "        \"userPassword\": \"testpass\",\n",
    "        \"o\": \"o=UVA,ou=orgs,dc=fairscape,dc=net\"\n",
    "    }\n",
    ")\n",
    "add_mal8ch"
   ]
  },
  {
   "cell_type": "code",
   "execution_count": 71,
   "id": "0ac013e1-15b3-44c9-873e-36eb5cfe4104",
   "metadata": {},
   "outputs": [
    {
     "data": {
      "text/plain": [
       "True"
      ]
     },
     "execution_count": 71,
     "metadata": {},
     "output_type": "execute_result"
    }
   ],
   "source": [
    "# delete user\n",
    "delete_mal8ch =ldapAdminConnection.delete(dn='o,dc=fairscape,dc=net')\n",
    "delete_mal8ch"
   ]
  },
  {
   "cell_type": "code",
   "execution_count": null,
   "id": "bcbdf61d-b457-4a7f-b744-1696a089dd98",
   "metadata": {},
   "outputs": [],
   "source": []
  },
  {
   "cell_type": "code",
   "execution_count": null,
   "id": "3960dd74-8e40-40a7-a983-ae4a0a1ba5aa",
   "metadata": {},
   "outputs": [],
   "source": []
  },
  {
   "cell_type": "code",
   "execution_count": 50,
   "id": "e91601b5-2859-45a8-b3f6-d8f26edbb0f7",
   "metadata": {},
   "outputs": [],
   "source": [
    "from pydantic import BaseModel, Field\n",
    "\n",
    "class ldapGroup(BaseModel):\n",
    "    name: str = Field()\n",
    "    description: str | None\n",
    "    cn: str\n",
    "    objectClass: str = \"groupOfNames\"\n",
    "    member: List[str] = Field()"
   ]
  },
  {
   "cell_type": "code",
   "execution_count": null,
   "id": "fa7fdb7c-8b54-45fc-af1e-8b931c1a095c",
   "metadata": {},
   "outputs": [],
   "source": [
    "def ldapAddGroup(ldapConnection: Connection, groupInstance: LDAPGroup):\n",
    "    \"\"\"\n",
    "    \"\"\"\n",
    "    pass\n",
    "\n",
    "def ldapAddUser(ldapConnection: Connection):\n",
    "    \"\"\"\n",
    "    \"\"\"\n",
    "    pass\n",
    "\n",
    "def ldapAddUserToGroup(ldapConnection: Connection):\n",
    "    \"\"\"\n",
    "    \"\"\"\n",
    "    pass\n",
    "\n",
    "\n",
    "def ldapRemoveUserFromGroup(ldapConnection: Connection):\n",
    "    \"\"\"\n",
    "    \"\"\"\n",
    "    pass"
   ]
  },
  {
   "cell_type": "code",
   "execution_count": null,
   "id": "7e87c31b-3a0d-4aa7-8d52-29fbcba9321f",
   "metadata": {},
   "outputs": [],
   "source": [
    "\"\"\" Create a new group \"\"\"\n",
    "\n",
    "def add_ldap_group():\n",
    "\n",
    "    # set all the group attributes\n",
    "    ldap_attr = {}\n",
    "    # object class for group should be mentioned.\n",
    "    ldap_attr['objectClass'] = ['top', 'posixGroup']\n",
    "    ldap_attr['gidNumber'] = '500'\n",
    "\n",
    "    # Bind connection to LDAP server\n",
    "    ldap_conn = connect_ldap_server()\n",
    "\n",
    "    try:\n",
    "        # this will add group1 to the base directory tree\n",
    "        response = ldap_conn.add('cn=group1,dc=testldap,dc=com', \n",
    "                                  attributes=ldap_attr)\n",
    "    except LDAPException as e:\n",
    "        response = (\" The error is \", e)\n",
    "    ldap_conn.unbind()\n",
    "    return response"
   ]
  },
  {
   "cell_type": "code",
   "execution_count": null,
   "id": "6ff12134-5f14-4d86-81e1-bc53b5d40fc7",
   "metadata": {},
   "outputs": [],
   "source": [
    "\"\"\" add method takes a user_dn, objectclass and attributes as    dictionary  \"\"\"\n",
    "def add_new_user_to_group():\n",
    "    \n",
    "    # sample attributes \n",
    "    ldap_attr = {}\n",
    "    ldap_attr['cn'] = \"test user\"\n",
    "    ldap_attr['sn'] = \"AD\"\n",
    "\n",
    "    # Bind connection to LDAP server\n",
    "    ldap_conn = connect_ldap_server()\n",
    "\n",
    "    # this will create testuser inside group1\n",
    "    user_dn = \"cn=testuser,cn=group1,dc=testldap,dc=com\"\n",
    "\n",
    "    try:\n",
    "        # object class for a user is inetOrgPerson\n",
    "        response = ldap_conn.add(dn=user_dn,\n",
    "                                 object_class='inetOrgPerson',\n",
    "                                 attributes=ldap_attr)\n",
    "    except LDAPException as e:\n",
    "        response = e\n",
    "return response"
   ]
  },
  {
   "cell_type": "code",
   "execution_count": null,
   "id": "634fc7c1-e022-455b-8363-47199816609e",
   "metadata": {},
   "outputs": [],
   "source": [
    "\"\"\" The delete method is used to delete an entry from ldap\n",
    "     The user/group dn is required to delete an entry\"\"\"\n",
    "\n",
    "def delete_user():\n",
    "    ldap_conn = connect_ldap_server()\n",
    "    # Provide the dn of the user to be deleted \n",
    "    try:\n",
    "                      \n",
    "      response=ldap_conn.delete(dn='cn=testuser,cn=group1,\n",
    "                          dc=testldap,dc=com')\n",
    "    except LDAPException as e:\n",
    "       response = e\n",
    "    return response"
   ]
  },
  {
   "cell_type": "code",
   "execution_count": null,
   "id": "541c46e4-ed28-4337-afab-a696c3eb53c4",
   "metadata": {},
   "outputs": [],
   "source": [
    "\n",
    "\n",
    "# perform the Modify operation\n",
    "c.modify('cn=user1,ou=users,o=company',\n",
    "         {'givenName': [(MODIFY_REPLACE, ['givenname-1-replaced'])],\n",
    "          'sn': [(MODIFY_REPLACE, ['sn-replaced'])]})\n",
    "print(c.result)\n"
   ]
  },
  {
   "cell_type": "code",
   "execution_count": null,
   "id": "dcf63b02-bd2e-4049-be0b-1753bf6a24a3",
   "metadata": {},
   "outputs": [],
   "source": [
    "\n",
    "def add_existing_user_to_ldapgroup():\n",
    "\n",
    "    # all attributes are required to add existing users\n",
    "    ldap_attr = {}\n",
    "    ldap_attr['uid'] = b'tuser'\n",
    "    ldap_attr['cn'] = b'Test User'\n",
    "    ldap_attr['uidNumber'] = b'1001'\n",
    "    ldap_attr['gidNumber'] = b'2001'\n",
    "    ldap_attr['objectClass'] =  [b'top', b'inetOrgPerson',  \n",
    "                                 b'posixAccount']\n",
    "    ldap_attr['sn'] = b'User'\n",
    "    ldap_attr['homeDirectory'] = b'/home/users/tuser'\n",
    "\n",
    "    conn = ldap.initialize(server_uri, bytes_mode=False)\n",
    "    conn.simple_bind_s(\"cn=admin,dc=testldap,dc=com\", \"12345\")\n",
    "    dn_new = \"cn=Test user,cn=group1,dc=testldap,dc=com\"\n",
    "    ldif = modlist.addModlist(ldap_attr)\n",
    "    try:\n",
    "        response = conn.add_s(dn_new, ldif)\n",
    "    except ldap.error as e:\n",
    "        response = e\n",
    "    finally:\n",
    "        conn.unbind()\n",
    "    return response"
   ]
  },
  {
   "cell_type": "markdown",
   "id": "2b5197c3-4498-47e5-a2ac-b0c1e994cfc0",
   "metadata": {},
   "source": [
    "### Fairscape LDAP"
   ]
  },
  {
   "cell_type": "code",
   "execution_count": 1,
   "id": "7511120e-a9f9-43ea-b5a6-77af3a846b7e",
   "metadata": {},
   "outputs": [],
   "source": [
    "import ldap"
   ]
  },
  {
   "cell_type": "code",
   "execution_count": 2,
   "id": "87875ade-f69f-4546-9ba6-fdf579488aea",
   "metadata": {},
   "outputs": [],
   "source": [
    "ldapServer = 'ldap://localhost:1389'\n",
    "ldapBaseDN = 'dc=fairscape,dc=net'\n",
    "username = 'admin'\n",
    "password = 'adminpassword'\n",
    "\n",
    "#def searchLDAP(username, password, ldapBaseDN, search):\n",
    "\n",
    "try:\n",
    "    connect = ldap.initialize(ldapServer)\n",
    "    connect.simple_bind_s(f'cn={username},{ldapBaseDN}', password)\n",
    "    results = connect.search_s('dc=fairscape,dc=net', ldap.SCOPE_SUBTREE) \n",
    "    connect.unbind_s()\n",
    "except ldap.INVALID_CREDENTIALS:\n",
    "    pass\n",
    "except ldap.SERVER_DOWN:\n",
    "    pass\n"
   ]
  },
  {
   "cell_type": "code",
   "execution_count": 3,
   "id": "e52d9b46-1091-4f38-992e-86678c724c1d",
   "metadata": {},
   "outputs": [
    {
     "name": "stdout",
     "output_type": "stream",
     "text": [
      "Help on method search_s in module ldap.ldapobject:\n",
      "\n",
      "search_s(base, scope, filterstr=None, attrlist=None, attrsonly=0) method of ldap.ldapobject.SimpleLDAPObject instance\n",
      "\n"
     ]
    }
   ],
   "source": [
    "help(connect.search_s)"
   ]
  },
  {
   "cell_type": "code",
   "execution_count": 4,
   "id": "96c3b7c6-8d36-4532-810c-8e4803602d11",
   "metadata": {},
   "outputs": [
    {
     "data": {
      "text/plain": [
       "[('dc=fairscape,dc=net',\n",
       "  {'objectClass': [b'dcObject', b'organization'],\n",
       "   'dc': [b'fairscape'],\n",
       "   'o': [b'example']}),\n",
       " ('ou=users,dc=fairscape,dc=net',\n",
       "  {'objectClass': [b'organizationalUnit'], 'ou': [b'users']}),\n",
       " ('cn=fairscapeUser,ou=users,dc=fairscape,dc=net',\n",
       "  {'cn': [b'User1', b'fairscapeUser'],\n",
       "   'sn': [b'Bar1'],\n",
       "   'objectClass': [b'inetOrgPerson', b'posixAccount', b'shadowAccount'],\n",
       "   'userPassword': [b'fairscapePass'],\n",
       "   'uid': [b'fairscapeUser'],\n",
       "   'uidNumber': [b'1000'],\n",
       "   'gidNumber': [b'1000'],\n",
       "   'homeDirectory': [b'/home/fairscapeUser']}),\n",
       " ('cn=readers,ou=users,dc=fairscape,dc=net',\n",
       "  {'cn': [b'readers'],\n",
       "   'objectClass': [b'groupOfNames'],\n",
       "   'member': [b'cn=fairscapeUser,ou=users,dc=fairscape,dc=net']})]"
      ]
     },
     "execution_count": 4,
     "metadata": {},
     "output_type": "execute_result"
    }
   ],
   "source": [
    "results"
   ]
  },
  {
   "cell_type": "code",
   "execution_count": 5,
   "id": "1896e55f-fb5d-43b2-a9ee-63ba39c00f6b",
   "metadata": {},
   "outputs": [],
   "source": [
    "# login as fairscape User\n",
    "connect = ldap.initialize(ldapServer)\n",
    "connect.simple_bind_s(f'cn=fairscapeUser,ou=users,{ldapBaseDN}', 'fairscapePass')\n",
    "results = connect.search_s('dc=fairscape,dc=net', ldap.SCOPE_SUBTREE) \n",
    "connect.unbind_s()"
   ]
  },
  {
   "cell_type": "code",
   "execution_count": 6,
   "id": "5ae6c160-da37-4418-b9b8-b8288b9bd102",
   "metadata": {},
   "outputs": [
    {
     "data": {
      "text/plain": [
       "[('dc=fairscape,dc=net',\n",
       "  {'objectClass': [b'dcObject', b'organization'],\n",
       "   'dc': [b'fairscape'],\n",
       "   'o': [b'example']}),\n",
       " ('ou=users,dc=fairscape,dc=net',\n",
       "  {'objectClass': [b'organizationalUnit'], 'ou': [b'users']}),\n",
       " ('cn=fairscapeUser,ou=users,dc=fairscape,dc=net',\n",
       "  {'cn': [b'User1', b'fairscapeUser'],\n",
       "   'sn': [b'Bar1'],\n",
       "   'objectClass': [b'inetOrgPerson', b'posixAccount', b'shadowAccount'],\n",
       "   'userPassword': [b'fairscapePass'],\n",
       "   'uid': [b'fairscapeUser'],\n",
       "   'uidNumber': [b'1000'],\n",
       "   'gidNumber': [b'1000'],\n",
       "   'homeDirectory': [b'/home/fairscapeUser']}),\n",
       " ('cn=readers,ou=users,dc=fairscape,dc=net',\n",
       "  {'cn': [b'readers'],\n",
       "   'objectClass': [b'groupOfNames'],\n",
       "   'member': [b'cn=fairscapeUser,ou=users,dc=fairscape,dc=net']})]"
      ]
     },
     "execution_count": 6,
     "metadata": {},
     "output_type": "execute_result"
    }
   ],
   "source": [
    "results"
   ]
  },
  {
   "cell_type": "code",
   "execution_count": 7,
   "id": "2d4f6b86-498f-45e7-9375-17fef9d98c8a",
   "metadata": {},
   "outputs": [
    {
     "name": "stdout",
     "output_type": "stream",
     "text": [
      "Help on method add_s in module ldap.ldapobject:\n",
      "\n",
      "add_s(dn, modlist) method of ldap.ldapobject.SimpleLDAPObject instance\n",
      "\n"
     ]
    }
   ],
   "source": [
    "help(connect.add_s)"
   ]
  },
  {
   "cell_type": "code",
   "execution_count": 8,
   "id": "5b499378-ee4a-4481-b8ca-44e244322a47",
   "metadata": {},
   "outputs": [],
   "source": [
    "# add a test user\n",
    "userRDN = 'cn=Max,ou=users,dc=fairscape,dc=net'\n",
    "modlist = ''\n"
   ]
  },
  {
   "cell_type": "code",
   "execution_count": 11,
   "id": "e4a4c3d6-bb2d-4eca-89b3-1e87228fc190",
   "metadata": {},
   "outputs": [
    {
     "ename": "AttributeError",
     "evalue": "module 'ldap' has no attribute 'modlist'",
     "output_type": "error",
     "traceback": [
      "\u001b[0;31m---------------------------------------------------------------------------\u001b[0m",
      "\u001b[0;31mAttributeError\u001b[0m                            Traceback (most recent call last)",
      "Cell \u001b[0;32mIn[11], line 1\u001b[0m\n\u001b[0;32m----> 1\u001b[0m \u001b[43mldap\u001b[49m\u001b[38;5;241;43m.\u001b[39;49m\u001b[43mmodlist\u001b[49m\u001b[38;5;241m.\u001b[39maddModlist()\n",
      "\u001b[0;31mAttributeError\u001b[0m: module 'ldap' has no attribute 'modlist'"
     ]
    }
   ],
   "source": [
    "ldap.modlist.addModlist()"
   ]
  },
  {
   "cell_type": "code",
   "execution_count": null,
   "id": "f4c38c08-a080-4276-abaf-c3d60b0981b6",
   "metadata": {},
   "outputs": [],
   "source": [
    "# create group for fairscape users\n",
    "userGroup = 'CN=fairscapeUsers,CN=Users,DC=fairscape,DC=net'"
   ]
  },
  {
   "cell_type": "code",
   "execution_count": 10,
   "id": "c91eae1b-8b52-4dfb-90e5-d551a238fcfe",
   "metadata": {},
   "outputs": [
    {
     "ename": "TypeError",
     "evalue": "('List_to_LDAPMods(): expected list of tuples', None)",
     "output_type": "error",
     "traceback": [
      "\u001b[0;31m---------------------------------------------------------------------------\u001b[0m",
      "\u001b[0;31mTypeError\u001b[0m                                 Traceback (most recent call last)",
      "Cell \u001b[0;32mIn[10], line 4\u001b[0m\n\u001b[1;32m      2\u001b[0m connect \u001b[38;5;241m=\u001b[39m ldap\u001b[38;5;241m.\u001b[39minitialize(ldapServer)\n\u001b[1;32m      3\u001b[0m connect\u001b[38;5;241m.\u001b[39msimple_bind_s(\u001b[38;5;124mf\u001b[39m\u001b[38;5;124m'\u001b[39m\u001b[38;5;124mcn=fairscapeUser,ou=users,\u001b[39m\u001b[38;5;132;01m{\u001b[39;00mldapBaseDN\u001b[38;5;132;01m}\u001b[39;00m\u001b[38;5;124m'\u001b[39m, \u001b[38;5;124m'\u001b[39m\u001b[38;5;124mfairscapePass\u001b[39m\u001b[38;5;124m'\u001b[39m)\n\u001b[0;32m----> 4\u001b[0m results \u001b[38;5;241m=\u001b[39m \u001b[43mconnect\u001b[49m\u001b[38;5;241;43m.\u001b[39;49m\u001b[43madd_s\u001b[49m\u001b[43m(\u001b[49m\u001b[43muserRDN\u001b[49m\u001b[43m,\u001b[49m\u001b[43m \u001b[49m\u001b[38;5;28;43;01mNone\u001b[39;49;00m\u001b[43m)\u001b[49m \n\u001b[1;32m      5\u001b[0m connect\u001b[38;5;241m.\u001b[39munbind_s()\n",
      "File \u001b[0;32m~/fairscape/mds_env/lib/python3.12/site-packages/ldap/ldapobject.py:236\u001b[0m, in \u001b[0;36mSimpleLDAPObject.add_s\u001b[0;34m(self, dn, modlist)\u001b[0m\n\u001b[1;32m    235\u001b[0m \u001b[38;5;28;01mdef\u001b[39;00m \u001b[38;5;21madd_s\u001b[39m(\u001b[38;5;28mself\u001b[39m,dn,modlist):\n\u001b[0;32m--> 236\u001b[0m   \u001b[38;5;28;01mreturn\u001b[39;00m \u001b[38;5;28;43mself\u001b[39;49m\u001b[38;5;241;43m.\u001b[39;49m\u001b[43madd_ext_s\u001b[49m\u001b[43m(\u001b[49m\u001b[43mdn\u001b[49m\u001b[43m,\u001b[49m\u001b[43mmodlist\u001b[49m\u001b[43m,\u001b[49m\u001b[38;5;28;43;01mNone\u001b[39;49;00m\u001b[43m,\u001b[49m\u001b[38;5;28;43;01mNone\u001b[39;49;00m\u001b[43m)\u001b[49m\n",
      "File \u001b[0;32m~/fairscape/mds_env/lib/python3.12/site-packages/ldap/ldapobject.py:221\u001b[0m, in \u001b[0;36mSimpleLDAPObject.add_ext_s\u001b[0;34m(self, dn, modlist, serverctrls, clientctrls)\u001b[0m\n\u001b[1;32m    220\u001b[0m \u001b[38;5;28;01mdef\u001b[39;00m \u001b[38;5;21madd_ext_s\u001b[39m(\u001b[38;5;28mself\u001b[39m,dn,modlist,serverctrls\u001b[38;5;241m=\u001b[39m\u001b[38;5;28;01mNone\u001b[39;00m,clientctrls\u001b[38;5;241m=\u001b[39m\u001b[38;5;28;01mNone\u001b[39;00m):\n\u001b[0;32m--> 221\u001b[0m   msgid \u001b[38;5;241m=\u001b[39m \u001b[38;5;28;43mself\u001b[39;49m\u001b[38;5;241;43m.\u001b[39;49m\u001b[43madd_ext\u001b[49m\u001b[43m(\u001b[49m\u001b[43mdn\u001b[49m\u001b[43m,\u001b[49m\u001b[43mmodlist\u001b[49m\u001b[43m,\u001b[49m\u001b[43mserverctrls\u001b[49m\u001b[43m,\u001b[49m\u001b[43mclientctrls\u001b[49m\u001b[43m)\u001b[49m\n\u001b[1;32m    222\u001b[0m   resp_type, resp_data, resp_msgid, resp_ctrls \u001b[38;5;241m=\u001b[39m \u001b[38;5;28mself\u001b[39m\u001b[38;5;241m.\u001b[39mresult3(msgid,\u001b[38;5;28mall\u001b[39m\u001b[38;5;241m=\u001b[39m\u001b[38;5;241m1\u001b[39m,timeout\u001b[38;5;241m=\u001b[39m\u001b[38;5;28mself\u001b[39m\u001b[38;5;241m.\u001b[39mtimeout)\n\u001b[1;32m    223\u001b[0m   \u001b[38;5;28;01mreturn\u001b[39;00m resp_type, resp_data, resp_msgid, resp_ctrls\n",
      "File \u001b[0;32m~/fairscape/mds_env/lib/python3.12/site-packages/ldap/ldapobject.py:218\u001b[0m, in \u001b[0;36mSimpleLDAPObject.add_ext\u001b[0;34m(self, dn, modlist, serverctrls, clientctrls)\u001b[0m\n\u001b[1;32m    210\u001b[0m \u001b[38;5;28;01mdef\u001b[39;00m \u001b[38;5;21madd_ext\u001b[39m(\u001b[38;5;28mself\u001b[39m,dn,modlist,serverctrls\u001b[38;5;241m=\u001b[39m\u001b[38;5;28;01mNone\u001b[39;00m,clientctrls\u001b[38;5;241m=\u001b[39m\u001b[38;5;28;01mNone\u001b[39;00m):\n\u001b[1;32m    211\u001b[0m \u001b[38;5;250m  \u001b[39m\u001b[38;5;124;03m\"\"\"\u001b[39;00m\n\u001b[1;32m    212\u001b[0m \u001b[38;5;124;03m  add_ext(dn, modlist[,serverctrls=None[,clientctrls=None]]) -> int\u001b[39;00m\n\u001b[1;32m    213\u001b[0m \u001b[38;5;124;03m      This function adds a new entry with a distinguished name\u001b[39;00m\n\u001b[0;32m   (...)\u001b[0m\n\u001b[1;32m    216\u001b[0m \u001b[38;5;124;03m      except that no operation integer need be included in the tuples.\u001b[39;00m\n\u001b[1;32m    217\u001b[0m \u001b[38;5;124;03m  \"\"\"\u001b[39;00m\n\u001b[0;32m--> 218\u001b[0m   \u001b[38;5;28;01mreturn\u001b[39;00m \u001b[38;5;28;43mself\u001b[39;49m\u001b[38;5;241;43m.\u001b[39;49m\u001b[43m_ldap_call\u001b[49m\u001b[43m(\u001b[49m\u001b[38;5;28;43mself\u001b[39;49m\u001b[38;5;241;43m.\u001b[39;49m\u001b[43m_l\u001b[49m\u001b[38;5;241;43m.\u001b[39;49m\u001b[43madd_ext\u001b[49m\u001b[43m,\u001b[49m\u001b[43mdn\u001b[49m\u001b[43m,\u001b[49m\u001b[43mmodlist\u001b[49m\u001b[43m,\u001b[49m\u001b[43mRequestControlTuples\u001b[49m\u001b[43m(\u001b[49m\u001b[43mserverctrls\u001b[49m\u001b[43m)\u001b[49m\u001b[43m,\u001b[49m\u001b[43mRequestControlTuples\u001b[49m\u001b[43m(\u001b[49m\u001b[43mclientctrls\u001b[49m\u001b[43m)\u001b[49m\u001b[43m)\u001b[49m\n",
      "File \u001b[0;32m~/fairscape/mds_env/lib/python3.12/site-packages/ldap/ldapobject.py:128\u001b[0m, in \u001b[0;36mSimpleLDAPObject._ldap_call\u001b[0;34m(self, func, *args, **kwargs)\u001b[0m\n\u001b[1;32m    126\u001b[0m \u001b[38;5;28;01mtry\u001b[39;00m:\n\u001b[1;32m    127\u001b[0m   \u001b[38;5;28;01mtry\u001b[39;00m:\n\u001b[0;32m--> 128\u001b[0m     result \u001b[38;5;241m=\u001b[39m \u001b[43mfunc\u001b[49m\u001b[43m(\u001b[49m\u001b[38;5;241;43m*\u001b[39;49m\u001b[43margs\u001b[49m\u001b[43m,\u001b[49m\u001b[38;5;241;43m*\u001b[39;49m\u001b[38;5;241;43m*\u001b[39;49m\u001b[43mkwargs\u001b[49m\u001b[43m)\u001b[49m\n\u001b[1;32m    129\u001b[0m     \u001b[38;5;28;01mif\u001b[39;00m __debug__ \u001b[38;5;129;01mand\u001b[39;00m \u001b[38;5;28mself\u001b[39m\u001b[38;5;241m.\u001b[39m_trace_level\u001b[38;5;241m>\u001b[39m\u001b[38;5;241m=\u001b[39m\u001b[38;5;241m2\u001b[39m:\n\u001b[1;32m    130\u001b[0m       \u001b[38;5;28;01mif\u001b[39;00m func\u001b[38;5;241m.\u001b[39m\u001b[38;5;18m__name__\u001b[39m\u001b[38;5;241m!=\u001b[39m\u001b[38;5;124m\"\u001b[39m\u001b[38;5;124munbind_ext\u001b[39m\u001b[38;5;124m\"\u001b[39m:\n",
      "\u001b[0;31mTypeError\u001b[0m: ('List_to_LDAPMods(): expected list of tuples', None)"
     ]
    }
   ],
   "source": [
    "# login as fairscape User\n",
    "connect = ldap.initialize(ldapServer)\n",
    "connect.simple_bind_s(f'cn=fairscapeUser,ou=users,{ldapBaseDN}', 'fairscapePass')\n",
    "results = connect.add_s(userRDN, ) \n",
    "connect.unbind_s()"
   ]
  },
  {
   "cell_type": "code",
   "execution_count": null,
   "id": "2bdaeba2-7a55-4872-83af-a3e71882f1b8",
   "metadata": {},
   "outputs": [],
   "source": [
    "def addUser():\n",
    "    pass\n",
    "\n",
    "def addOrganization():\n",
    "    pass\n",
    "\n",
    "def addUserToOrganization():\n",
    "    pass\n",
    "\n",
    "\n",
    "def removeUserFromOrganization():\n",
    "    pass\n",
    "\n",
    "\n",
    "def findUser():\n",
    "    pass\n",
    "\n",
    "\n",
    "def addROCrate():\n",
    "    pass\n",
    "\n",
    "\n",
    "def addDataset():\n",
    "    pass\n",
    "\n",
    "\n",
    "def addSoftware():\n",
    "    pass\n",
    "\n",
    "\n",
    "def addComputation():\n",
    "    pass"
   ]
  },
  {
   "cell_type": "code",
   "execution_count": null,
   "id": "ab3cedc5-b269-4785-8439-31f4d2d8fbea",
   "metadata": {},
   "outputs": [],
   "source": [
    "\n",
    "# perform the Modify operation\n",
    "c.modify('cn=user1,ou=users,o=company',\n",
    "         {'givenName': [(ldap.MODIFY_REPLACE, ['givenname-1-replaced'])],\n",
    "          'sn': [(ldap.MODIFY_REPLACE, ['sn-replaced'])]})"
   ]
  }
 ],
 "metadata": {
  "kernelspec": {
   "display_name": "Python 3 (ipykernel)",
   "language": "python",
   "name": "python3"
  },
  "language_info": {
   "codemirror_mode": {
    "name": "ipython",
    "version": 3
   },
   "file_extension": ".py",
   "mimetype": "text/x-python",
   "name": "python",
   "nbconvert_exporter": "python",
   "pygments_lexer": "ipython3",
   "version": "3.12.1"
  }
 },
 "nbformat": 4,
 "nbformat_minor": 5
}
