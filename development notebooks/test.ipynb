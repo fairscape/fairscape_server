{
 "cells": [
  {
   "cell_type": "code",
   "execution_count": 1,
   "id": "d7fbc551-7c0b-4e8c-b91d-f3237eb29047",
   "metadata": {},
   "outputs": [],
   "source": [
    "import os  \n",
    "import sys\n",
    "import pathlib\n",
    "\n",
    "repo_path = pathlib.Path('.').absolute().parent\n",
    "src_path = repo_path / 'src'\n",
    "\n",
    "sys.path.insert(0, str(src_path)) "
   ]
  },
  {
   "cell_type": "code",
   "execution_count": 2,
   "id": "890744d7-425c-4a75-95b6-f8bb5ff99707",
   "metadata": {},
   "outputs": [],
   "source": [
    "import pymongo"
   ]
  },
  {
   "cell_type": "code",
   "execution_count": 391,
   "id": "18524e90-2e4d-4f05-b035-bc0e99e81c51",
   "metadata": {},
   "outputs": [],
   "source": [
    "import fairscape_mds.mds.config as mds_config\n",
    "\n",
    "server_config = mds_config.get_fairscape_config('../deploy/local.env')\n",
    "\n",
    "server_config.setup_mongo()\n",
    "\n",
    "server_config.setup_minio()"
   ]
  },
  {
   "cell_type": "code",
   "execution_count": null,
   "id": "facf0e04-27a4-413b-aad1-bdeedf96af73",
   "metadata": {},
   "outputs": [],
   "source": []
  },
  {
   "cell_type": "code",
   "execution_count": 396,
   "id": "6b729d50-564e-4fa9-9bb5-a053610994cc",
   "metadata": {},
   "outputs": [],
   "source": [
    "mongoClient = server_config.CreateMongoClient()\n",
    "\n",
    "mongoDB = mongoClient[server_config.mongo.db]\n",
    "\n",
    "mongoUserCollection = mongoDB[server_config.mongo.user_collection]\n",
    "mongoIdentifierCollection = mongoDB[server_config.mongo.identifier_collection]"
   ]
  },
  {
   "cell_type": "code",
   "execution_count": 28,
   "id": "2c5462cc-bb33-46e7-83e3-97bad4367de2",
   "metadata": {},
   "outputs": [],
   "source": [
    "result = mongoUserCollection.find_one({\"@id\": \"not a user\"})"
   ]
  },
  {
   "cell_type": "code",
   "execution_count": 30,
   "id": "08458750-ba8f-4f76-9781-6cb8cf3d0cec",
   "metadata": {},
   "outputs": [
    {
     "data": {
      "text/plain": [
       "True"
      ]
     },
     "execution_count": 30,
     "metadata": {},
     "output_type": "execute_result"
    }
   ],
   "source": [
    "result is None"
   ]
  },
  {
   "cell_type": "markdown",
   "id": "ed24e2da-c9b2-4598-9cd1-27e85b73d7be",
   "metadata": {},
   "source": [
    "## API Requests"
   ]
  },
  {
   "cell_type": "code",
   "execution_count": 241,
   "id": "c4e67a4d-b936-4f78-8ab5-70135c029e39",
   "metadata": {},
   "outputs": [],
   "source": [
    "import requests\n",
    "fairscape_host = \"http://localhost:8080/\""
   ]
  },
  {
   "cell_type": "markdown",
   "id": "14f1dd69-dc35-49af-953e-9521b71d4f7b",
   "metadata": {
    "jp-MarkdownHeadingCollapsed": true
   },
   "source": [
    "## Users"
   ]
  },
  {
   "cell_type": "code",
   "execution_count": 242,
   "id": "b2548f89-2f0d-4481-bf7e-35ed36ab0ab9",
   "metadata": {},
   "outputs": [],
   "source": [
    "def print_response(response):\n",
    "    print(response.status_code)\n",
    "    print(response.content)"
   ]
  },
  {
   "cell_type": "code",
   "execution_count": 365,
   "id": "d54923cd-22d7-4701-8b98-d18d337a7d2b",
   "metadata": {},
   "outputs": [
    {
     "name": "stdout",
     "output_type": "stream",
     "text": [
      "201\n",
      "b'{\"created\":{\"@id\":\"ark:59852/jdoe\",\"@type\":\"Person\",\"name\":\"John Doe\"}}'\n"
     ]
    }
   ],
   "source": [
    "# creating a user\n",
    "user_metadata = {\n",
    "    \"@id\": \"ark:59852/jdoe\",\n",
    "    \"@type\": \"Person\",\n",
    "    \"name\": \"John Doe\",\n",
    "    \"email\": \"jdoe@example.org\",\n",
    "    \"password\": \"examplepassword\"\n",
    "}\n",
    "\n",
    "create_user_response = requests.post(\n",
    "    fairscape_host + 'user',\n",
    "    json=user_metadata\n",
    "    )\n",
    "\n",
    "print(create_user_response.status_code)\n",
    "print(create_user_response.content)"
   ]
  },
  {
   "cell_type": "code",
   "execution_count": 366,
   "id": "d01fc3ef-dc78-47f3-979b-8112e63685b1",
   "metadata": {},
   "outputs": [
    {
     "name": "stdout",
     "output_type": "stream",
     "text": [
      "200\n",
      "b'{\"@id\":\"ark:59852/jdoe\",\"@type\":\"Person\",\"@context\":{\"@vocab\":\"https://schema.org/\",\"evi\":\"https://w3id.org/EVI#\"},\"url\":null,\"organizations\":[],\"projects\":[],\"datasets\":[],\"downloads\":[],\"rocrates\":[],\"software\":[],\"computations\":[],\"evidencegraphs\":[],\"name\":\"John Doe\",\"email\":\"jdoe@example.org\",\"password\":\"examplepassword\"}'\n"
     ]
    }
   ],
   "source": [
    "# get a user\n",
    "get_user_response = requests.get(\n",
    "    fairscape_host + f'user/{user_metadata.get(\"@id\")}'\n",
    ")\n",
    "\n",
    "print(get_user_response.status_code)\n",
    "print(get_user_response.content)"
   ]
  },
  {
   "cell_type": "code",
   "execution_count": 367,
   "id": "e303ace6-fd2d-455b-8416-ae6e01960276",
   "metadata": {},
   "outputs": [
    {
     "name": "stdout",
     "output_type": "stream",
     "text": [
      "404\n",
      "b'{\"error\":\"No record found\"}'\n"
     ]
    }
   ],
   "source": [
    "# get a user that doestn't exist\n",
    "get_user_response = requests.get(\n",
    "    fairscape_host + 'user/ark:99999/fakeuser'\n",
    ")\n",
    "\n",
    "print(get_user_response.status_code)\n",
    "print(get_user_response.content)"
   ]
  },
  {
   "cell_type": "code",
   "execution_count": 368,
   "id": "d74ecd00-28d9-4358-abcc-452f34d1dc5d",
   "metadata": {},
   "outputs": [
    {
     "name": "stdout",
     "output_type": "stream",
     "text": [
      "200\n",
      "b'{\"users\":[{\"@id\":\"ark:59852/softwaretester\",\"@type\":\"Person\",\"name\":\"John Doe\"},{\"@id\":\"ark:59852/jdoe\",\"@type\":\"Person\",\"name\":\"John Doe\"}]}'\n"
     ]
    }
   ],
   "source": [
    "# list users\n",
    "list_user_response = requests.get(\n",
    "    fairscape_host + 'user'\n",
    ")\n",
    "\n",
    "print_response(list_user_response)"
   ]
  },
  {
   "cell_type": "code",
   "execution_count": 369,
   "id": "7b1c8441-4791-4263-9ff9-ec2baed279a3",
   "metadata": {},
   "outputs": [
    {
     "name": "stdout",
     "output_type": "stream",
     "text": [
      "200\n",
      "b'{\"deleted\":{\"@id\":\"ark:59852/jdoe\",\"@type\":\"Person\",\"name\":\"John Doe\",\"email\":\"jdoe@example.org\",\"datasets\":[],\"software\":[],\"computatations\":[],\"rocrates\":[],\"evidencegraphs\":[]}}'\n"
     ]
    }
   ],
   "source": [
    "# delete user\n",
    "delete_user_response = requests.delete(\n",
    "    fairscape_host +  f'user/{user_metadata.get(\"@id\")}'\n",
    ")\n",
    "\n",
    "print_response(delete_user_response)"
   ]
  },
  {
   "cell_type": "markdown",
   "id": "627913e1-68e6-4e67-a92f-332f1805f503",
   "metadata": {
    "jp-MarkdownHeadingCollapsed": true
   },
   "source": [
    "## Dataset"
   ]
  },
  {
   "cell_type": "code",
   "execution_count": 370,
   "id": "6e54042e-1f9e-43b3-b9cb-c722ea3fbdbd",
   "metadata": {},
   "outputs": [],
   "source": [
    "# creating a user\n",
    "test_user_metadata = {\n",
    "    \"@id\": \"ark:59852/softwaretester\",\n",
    "    \"@type\": \"Person\",\n",
    "    \"name\": \"John Doe\",\n",
    "    \"email\": \"jdoe@example.org\",\n",
    "    \"password\": \"examplepassword\"\n",
    "}\n",
    "\n",
    "create_user_response = requests.post(\n",
    "    fairscape_host + 'user',\n",
    "    json=test_user_metadata\n",
    "    )"
   ]
  },
  {
   "cell_type": "code",
   "execution_count": 371,
   "id": "70cb2f9d-5d66-4a07-af04-e7ba8b8cec0d",
   "metadata": {},
   "outputs": [
    {
     "name": "stdout",
     "output_type": "stream",
     "text": [
      "201\n",
      "b'{\"created\":{\"@id\":\"ark:59852/test-dataset\",\"@type\":\"evi:Dataset\",\"name\":\"test dataset\"}}'\n"
     ]
    }
   ],
   "source": [
    "# create a dataset\n",
    "\n",
    "test_dataset_metadata = {\n",
    "    \"@id\": \"ark:59852/test-dataset\",\n",
    "    \"@type\": \"evi:Dataset\",\n",
    "    \"name\": \"test dataset\",\n",
    "    \"description\": \"an example metadata set for a test dataset\",\n",
    "    \"keywords\": [ \"test\", \"fair\"],\n",
    "    \"owner\": test_user_metadata['@id'],\n",
    "    \"author\": \"John Doe\"\n",
    "}\n",
    "\n",
    "create_dataset_response = requests.post(\n",
    "    fairscape_host + 'dataset',\n",
    "    json = test_dataset_metadata\n",
    ")\n",
    "\n",
    "print(create_dataset_response.status_code)\n",
    "print(create_dataset_response.content)"
   ]
  },
  {
   "cell_type": "code",
   "execution_count": 294,
   "id": "eeab85d6-786c-43f6-95ff-9ef016f00a05",
   "metadata": {},
   "outputs": [
    {
     "name": "stdout",
     "output_type": "stream",
     "text": [
      "200\n",
      "b'{\"datasets\":[{\"@id\":\"ark:59852/test-dataset\",\"@type\":\"evi:Dataset\",\"name\":\"test dataset\"}]}'\n"
     ]
    }
   ],
   "source": [
    "# list datasets\n",
    "list_dataset_response = requests.get(\n",
    "    fairscape_host + 'dataset'\n",
    ")\n",
    "\n",
    "print(list_dataset_response.status_code)\n",
    "print(list_dataset_response.content)"
   ]
  },
  {
   "cell_type": "code",
   "execution_count": 297,
   "id": "18ffb2ad-9bea-4fcd-93dd-156def9d0d7d",
   "metadata": {},
   "outputs": [
    {
     "name": "stdout",
     "output_type": "stream",
     "text": [
      "200\n",
      "b'{\"@id\":\"ark:59852/test-dataset\",\"@type\":\"evi:Dataset\",\"@context\":{\"@vocab\":\"https://schema.org/\",\"evi\":\"https://w3id.org/EVI#\"},\"url\":null,\"license\":\" https://creativecommons.org/licenses/by/4.0/\",\"keywords\":[\"test\",\"fair\"],\"published\":false,\"distribution\":[],\"includedInDataCatalog\":null,\"sourceOrganization\":null,\"author\":\"John Doe\",\"dateCreated\":\"2024-04-10T15:36:25.564000\",\"dateModified\":\"2024-04-10T15:36:25.564000\",\"usedBy\":[],\"generatedBy\":null,\"name\":\"test dataset\",\"description\":\"an example metadata set for a test dataset\",\"owner\":\"ark:59852/softwaretester\"}'\n"
     ]
    }
   ],
   "source": [
    "# get dataset\n",
    "get_dataset_response = requests.get(\n",
    "    fairscape_host + f'dataset/{test_dataset_metadata[\"@id\"]}'\n",
    ")\n",
    "\n",
    "print(get_dataset_response.status_code)\n",
    "print(get_dataset_response.content)"
   ]
  },
  {
   "cell_type": "code",
   "execution_count": 283,
   "id": "2f65ed61-6c77-490d-b26d-dcbf52d99fcf",
   "metadata": {},
   "outputs": [],
   "source": [
    "# update dataset"
   ]
  },
  {
   "cell_type": "code",
   "execution_count": null,
   "id": "4c399b2f-480b-434e-902d-a1981dcc2c63",
   "metadata": {},
   "outputs": [],
   "source": [
    "# delete dataset\n",
    "delete_dataset_response = requests.delete(\n",
    "    fairscape_host + f'dataset/{test_dataset_metadata[\"@id\"]}'\n",
    ")\n",
    "\n",
    "print(delete_dataset_response.status_code)\n",
    "print(delete_dataset_response.content)"
   ]
  },
  {
   "cell_type": "markdown",
   "id": "d7e12a80-a0be-4b4b-bca8-3523dc92d145",
   "metadata": {
    "jp-MarkdownHeadingCollapsed": true
   },
   "source": [
    "## Software"
   ]
  },
  {
   "cell_type": "code",
   "execution_count": null,
   "id": "f7b5fbf8-e3ca-469c-af72-4bbffdd3d387",
   "metadata": {},
   "outputs": [],
   "source": [
    "# create software\n",
    "test_software_metadata = {\n",
    "    \"@id\": \"ark:59852/test-software\",\n",
    "    \"@type\": \"evi:Software\",\n",
    "    \"owner\": test_user_metadata.get('@id'),\n",
    "    \"name\": \"Test Software\",\n",
    "    \"author\": \"Max Levinson\",\n",
    "    \"keywords\": ['evi'],\n",
    "    \"description\": \"an example software model\"\n",
    "}\n",
    "\n",
    "# create a dataset\n",
    "create_software_response = requests.post(\n",
    "    fairscape_host + 'software',\n",
    "    json = test_software_metadata\n",
    ")\n",
    "\n",
    "print_response(create_software_response)"
   ]
  },
  {
   "cell_type": "code",
   "execution_count": 304,
   "id": "098b321f-f331-4891-ab2a-d3d5822338c2",
   "metadata": {},
   "outputs": [
    {
     "name": "stdout",
     "output_type": "stream",
     "text": [
      "200\n",
      "b'{\"@id\":\"ark:59852/test-software\",\"@type\":\"evi:Software\",\"name\":\"Test Software\",\"@context\":{\"@vocab\":\"https://schema.org/\",\"evi\":\"https://w3id.org/EVI#\"},\"url\":null,\"description\":\"an example software model\",\"license\":\" https://creativecommons.org/licenses/by/4.0/\",\"keywords\":[\"evi\"],\"published\":false,\"owner\":\"ark:59852/softwaretester\",\"author\":\"Max Levinson\",\"citation\":null,\"dateCreated\":\"2024-04-10T15:36:43.467000\",\"distribution\":[],\"usedBy\":[],\"sourceOrganization\":null,\"includedInDataCatalog\":null}'\n"
     ]
    }
   ],
   "source": [
    "# get software\n",
    "\n",
    "get_software_response = requests.get(\n",
    "    fairscape_host + f'software/{test_software_metadata.get(\"@id\")}'\n",
    ")\n",
    "\n",
    "print_response(get_software_response)"
   ]
  },
  {
   "cell_type": "code",
   "execution_count": 301,
   "id": "299f194f-7872-40a8-b891-db3d2e48483b",
   "metadata": {},
   "outputs": [
    {
     "name": "stdout",
     "output_type": "stream",
     "text": [
      "200\n",
      "b'{\"software\":[{\"@id\":\"ark:59852/test-software\",\"@type\":\"evi:Software\",\"name\":\"Test Software\"}]}'\n"
     ]
    }
   ],
   "source": [
    "# list software\n",
    "list_software_response = requests.get(\n",
    "    fairscape_host + 'software'\n",
    ")\n",
    "\n",
    "print_response(list_software_response)"
   ]
  },
  {
   "cell_type": "code",
   "execution_count": 303,
   "id": "45091caf-b7c0-4964-ac9f-8cb2012358c4",
   "metadata": {},
   "outputs": [
    {
     "name": "stdout",
     "output_type": "stream",
     "text": [
      "500\n",
      "b'Internal Server Error'\n"
     ]
    }
   ],
   "source": [
    "# delete software\n",
    "delete_software_response = requests.delete(\n",
    "    fairscape_host + 'software/' + test_software_metadata.get(\"@id\")\n",
    ")\n",
    "\n",
    "print_response(delete_software_response)"
   ]
  },
  {
   "cell_type": "markdown",
   "id": "ba7fe6ad-981c-40ec-8ec9-fb7b224158a7",
   "metadata": {
    "jp-MarkdownHeadingCollapsed": true
   },
   "source": [
    "## Computation"
   ]
  },
  {
   "cell_type": "code",
   "execution_count": null,
   "id": "e2c8b5f5-8ac8-418a-8219-127a2c76d79a",
   "metadata": {},
   "outputs": [],
   "source": [
    "# setup_computation"
   ]
  },
  {
   "cell_type": "code",
   "execution_count": 310,
   "id": "64f8e50e-dbd4-4cc6-a405-954b11cac89b",
   "metadata": {},
   "outputs": [
    {
     "name": "stdout",
     "output_type": "stream",
     "text": [
      "201\n",
      "b'{\"created\":{\"@id\":\"ark:59852/comp-dataset-usedBy\",\"@type\":\"evi:Dataset\",\"name\":\"test dataset\"}}'\n",
      "201\n",
      "b'{\"created\":{\"@id\":\"ark:59852/comp-dataset-generatedBy\",\"@type\":\"evi:Dataset\",\"name\":\"test dataset\"}}'\n",
      "201\n",
      "b'{\"created\":{\"@id\":\"ark:59852/comp-test-software\",\"@type\":\"evi:Software\",\"name\":\"Test Software\",\"description\":\"an example software model\",\"author\":\"Max Levinson\"}}'\n"
     ]
    }
   ],
   "source": [
    "# create a dataset\n",
    "\n",
    "used_by_dataset_metadata = {\n",
    "    \"@id\": \"ark:59852/comp-dataset-usedBy\",\n",
    "    \"@type\": \"evi:Dataset\",\n",
    "    \"name\": \"test dataset\",\n",
    "    \"description\": \"an example metadata set for a test dataset\",\n",
    "    \"keywords\": [ \"test\", \"fair\"],\n",
    "    \"owner\": test_user_metadata['@id'],\n",
    "    \"author\": \"John Doe\"\n",
    "}\n",
    "\n",
    "comp_create_dataset_response = requests.post(\n",
    "    fairscape_host + 'dataset',\n",
    "    json = used_by_dataset_metadata\n",
    ")\n",
    "\n",
    "print_response(comp_create_dataset_response)\n",
    "\n",
    "# generatedBy\n",
    "generated_by_dataset_metadata = {\n",
    "    \"@id\": \"ark:59852/comp-dataset-generatedBy\",\n",
    "    \"@type\": \"evi:Dataset\",\n",
    "    \"name\": \"test dataset\",\n",
    "    \"description\": \"an example metadata set for a test dataset\",\n",
    "    \"keywords\": [ \"test\", \"fair\"],\n",
    "    \"owner\": test_user_metadata['@id'],\n",
    "    \"author\": \"John Doe\"\n",
    "}\n",
    "\n",
    "comp_create_dataset_response = requests.post(\n",
    "    fairscape_host + 'dataset',\n",
    "    json = generated_by_dataset_metadata\n",
    ")\n",
    "\n",
    "print_response(comp_create_dataset_response)\n",
    "\n",
    "# create software\n",
    "comp_test_software_metadata = {\n",
    "    \"@id\": \"ark:59852/comp-test-software\",\n",
    "    \"@type\": \"evi:Software\",\n",
    "    \"owner\": test_user_metadata.get('@id'),\n",
    "    \"name\": \"Test Software\",\n",
    "    \"author\": \"Max Levinson\",\n",
    "    \"keywords\": ['evi'],\n",
    "    \"description\": \"an example software model\"\n",
    "}\n",
    "\n",
    "# create a dataset\n",
    "create_software_response = requests.post(\n",
    "    fairscape_host + 'software',\n",
    "    json = comp_test_software_metadata\n",
    ")\n",
    "\n",
    "print_response(create_software_response)"
   ]
  },
  {
   "cell_type": "code",
   "execution_count": 305,
   "id": "aab6efdc-18c8-41a7-ae6c-9bc7b285cfdf",
   "metadata": {},
   "outputs": [
    {
     "name": "stdout",
     "output_type": "stream",
     "text": [
      "201\n",
      "b'{\"created\":{\"@id\":\"ark:59852/test-generated\",\"@type\":\"evi:Dataset\",\"name\":\"test generated dataset\"}}'\n"
     ]
    }
   ],
   "source": [
    "# create a generated dataset\n",
    "\n",
    "test_generated_metadata = {\n",
    "    \"@id\": \"ark:59852/test-generated\",\n",
    "    \"@type\": \"evi:Dataset\",\n",
    "    \"name\": \"test generated dataset\",\n",
    "    \"description\": \"an example generated dataset set\",\n",
    "    \"keywords\": [ \"test\", \"fair\"],\n",
    "    \"owner\": test_user_metadata['@id'],\n",
    "    \"author\": \"John Doe\"\n",
    "}\n",
    "\n",
    "create_generated_response = requests.post(\n",
    "    fairscape_host + 'dataset',\n",
    "    json = test_generated_metadata\n",
    ")\n",
    "\n",
    "print(create_generated_response.status_code)\n",
    "print(create_generated_response.content)"
   ]
  },
  {
   "cell_type": "code",
   "execution_count": 234,
   "id": "41e4bfb1-e1b6-4025-b1e1-5d1296cdc63f",
   "metadata": {},
   "outputs": [
    {
     "data": {
      "text/plain": [
       "{'deleted': {'@id': 'ark:59852/test-generated',\n",
       "  '@type': 'evi:Dataset',\n",
       "  'name': 'test generated dataset'}}"
      ]
     },
     "execution_count": 234,
     "metadata": {},
     "output_type": "execute_result"
    }
   ],
   "source": [
    "requests.delete(\n",
    "      fairscape_host + f'dataset/{test_generated_metadata[\"@id\"]}'\n",
    "      ).json()"
   ]
  },
  {
   "cell_type": "code",
   "execution_count": 311,
   "id": "687f6799-3678-4521-87df-87c3f446488b",
   "metadata": {},
   "outputs": [],
   "source": [
    "# create computation\n",
    "test_computation_metadata = {\n",
    "    \"@id\": \"ark:59852/test-computation\",\n",
    "    \"@type\": \"evi:Computation\",\n",
    "    \"name\": \"Test Computation\",\n",
    "    \"url\": \"https://github.com\",\n",
    "    \"owner\": test_user_metadata.get(\"@id\"),\n",
    "    \"author\": \"Max Levinson\",\n",
    "    \"keywords\": ['test'],\n",
    "    \"description\": \"An example computation for testing\",\n",
    "    \"command\": \"echo 'hello world'\",\n",
    "    \"container\": None,\n",
    "    \"usedSoftware\": comp_test_software_metadata.get(\"@id\"),\n",
    "    \"usedDataset\": [used_by_dataset_metadata.get(\"@id\")],\n",
    "    \"generated\": [generated_by_dataset_metadata.get(\"@id\")]\n",
    "}"
   ]
  },
  {
   "cell_type": "code",
   "execution_count": 312,
   "id": "6d42299e-743f-484a-bd78-aeca96c8045c",
   "metadata": {},
   "outputs": [
    {
     "name": "stdout",
     "output_type": "stream",
     "text": [
      "201\n",
      "b'{\"created\":{\"@id\":\"ark:59852/test-computation\",\"@type\":\"evi:Computation\",\"name\":\"Test Computation\"}}'\n"
     ]
    }
   ],
   "source": [
    "# create computation\n",
    "create_computation_response = requests.post(\n",
    "    fairscape_host + 'computation',\n",
    "    json = test_computation_metadata\n",
    ")\n",
    "\n",
    "print_response(create_computation_response)"
   ]
  },
  {
   "cell_type": "code",
   "execution_count": 313,
   "id": "2e564531-de51-4def-86f8-2d680dc54b39",
   "metadata": {},
   "outputs": [
    {
     "name": "stdout",
     "output_type": "stream",
     "text": [
      "200\n",
      "b'{\"@id\":\"ark:59852/test-computation\",\"@type\":\"evi:Computation\",\"name\":\"Test Computation\",\"@context\":{\"@vocab\":\"https://schema.org/\",\"evi\":\"https://w3id.org/EVI#\"},\"url\":\"https://github.com\",\"description\":\"An example computation for testing\",\"license\":\" https://creativecommons.org/licenses/by/4.0/\",\"keywords\":[\"test\"],\"published\":true,\"owner\":\"ark:59852/softwaretester\",\"author\":\"Max Levinson\",\"dateCreated\":null,\"dateFinished\":null,\"sourceOrganization\":null,\"includedInDataCatalog\":null,\"command\":\"echo \\'hello world\\'\",\"usedSoftware\":\"ark:59852/comp-test-software\",\"usedDataset\":[\"ark:59852/comp-dataset-usedBy\"],\"generated\":[\"ark:59852/comp-dataset-generatedBy\"],\"container\":null}'\n"
     ]
    }
   ],
   "source": [
    "# get computation\n",
    "get_computation_response = requests.get(\n",
    "    fairscape_host + f'computation/{test_computation_metadata.get(\"@id\")}',\n",
    ")\n",
    "\n",
    "print_response(get_computation_response)"
   ]
  },
  {
   "cell_type": "markdown",
   "id": "06597000-24a7-4984-9b20-92ee8c8f1c6c",
   "metadata": {},
   "source": [
    "### Check Inverse Edges for Prov are maintained"
   ]
  },
  {
   "cell_type": "code",
   "execution_count": null,
   "id": "0a269d12-e837-41d6-add3-ba48968e3be6",
   "metadata": {},
   "outputs": [],
   "source": [
    "# check that dataset have inverse edges\n",
    "get_software_response = requests.get(\n",
    "    fairscape_host + 'software/' + comp_test_software_metadata['@id']\n",
    ")\n",
    "\n",
    "softwareJSON = get_software_response.json()\n",
    "assert test_computation_metadata['@id'] in softwareJSON.get(\"usedBy\")\n",
    "\n",
    "# check that dataset have inverse edges\n",
    "get_dataset_response = requests.get(\n",
    "    fairscape_host + 'dataset/' + used_by_dataset_metadata['@id']\n",
    ")\n",
    "\n",
    "datasetJSON = get_dataset_response.json()\n",
    "assert test_computation_metadata['@id'] in datasetJSON.get(\"usedBy\")\n",
    "\n",
    "# check that generatedBy inverse is materialized\n",
    "get_dataset_response = requests.get(\n",
    "    fairscape_host + 'dataset/' + generated_by_dataset_metadata['@id']\n",
    ")\n",
    "generatedByJSON = get_dataset_response.json()\n",
    "assert test_computation_metadata['@id'] == generatedByJSON['generatedBy']\n",
    "\n",
    "# check that user has inverse edges\n",
    "# check that dataset have inverse edges\n",
    "get_user_response = requests.get(\n",
    "    fairscape_host + 'user/' + test_user_metadata['@id']\n",
    ")\n",
    "\n",
    "userJSON = get_user_response.json()\n",
    "assert test_computation_metadata['@id'] in userJSON.get(\"computations\")"
   ]
  },
  {
   "cell_type": "code",
   "execution_count": 321,
   "id": "ccc8b7d5-b14d-473f-b944-0383027bf7e0",
   "metadata": {},
   "outputs": [
    {
     "name": "stdout",
     "output_type": "stream",
     "text": [
      "200\n",
      "b'{\"computations\":[{\"@id\":\"ark:59852/test-computation\",\"@type\":\"evi:Computation\",\"name\":\"Test Computation\"}]}'\n"
     ]
    }
   ],
   "source": [
    "# list computation\n",
    "list_computation_response = requests.get(\n",
    "    fairscape_host + 'computation'\n",
    ")\n",
    "\n",
    "print_response(list_computation_response)"
   ]
  },
  {
   "cell_type": "code",
   "execution_count": 338,
   "id": "1201335d-71eb-4679-99c2-3a22bb890273",
   "metadata": {},
   "outputs": [
    {
     "name": "stdout",
     "output_type": "stream",
     "text": [
      "200\n",
      "b'{\"deleted\":{\"@id\":\"ark:59852/test-computation\",\"@type\":\"evi:Computation\",\"name\":\"Test Computation\",\"@context\":{\"@vocab\":\"https://schema.org/\",\"evi\":\"https://w3id.org/EVI#\"},\"url\":\"https://github.com\",\"description\":\"An example computation for testing\",\"license\":\" https://creativecommons.org/licenses/by/4.0/\",\"keywords\":[\"test\"],\"published\":false,\"owner\":\"ark:59852/softwaretester\",\"author\":\"Max Levinson\",\"dateCreated\":null,\"dateFinished\":null,\"sourceOrganization\":null,\"includedInDataCatalog\":null,\"command\":\"echo \\'hello world\\'\",\"usedSoftware\":\"ark:59852/comp-test-software\",\"usedDataset\":[\"ark:59852/comp-dataset-usedBy\"],\"generated\":[\"ark:59852/comp-dataset-generatedBy\"],\"container\":null}}'\n"
     ]
    }
   ],
   "source": [
    "# delete computation\n",
    "delete_computation_response = requests.delete(\n",
    "    fairscape_host + f'computation/{test_computation_metadata[\"@id\"]}'\n",
    ")\n",
    "print_response(delete_computation_response)"
   ]
  },
  {
   "cell_type": "code",
   "execution_count": 339,
   "id": "a67d2951-3b3c-4408-81c2-8257ac3ac8a6",
   "metadata": {},
   "outputs": [],
   "source": [
    "get_software_response = requests.get(\n",
    "    fairscape_host + 'software/' + comp_test_software_metadata['@id']\n",
    ")\n",
    "\n",
    "softwareJSON = get_software_response.json()\n",
    "assert test_computation_metadata['@id'] not in softwareJSON.get(\"usedBy\")\n",
    "\n",
    "# check that dataset have inverse edges\n",
    "get_dataset_response = requests.get(\n",
    "    fairscape_host + 'dataset/' + used_by_dataset_metadata['@id']\n",
    ")\n",
    "\n",
    "datasetJSON = get_dataset_response.json()\n",
    "assert test_computation_metadata['@id'] not in datasetJSON.get(\"usedBy\")\n",
    "\n",
    "# check that generatedBy inverse is materialized\n",
    "get_dataset_response = requests.get(\n",
    "    fairscape_host + 'dataset/' + generated_by_dataset_metadata['@id']\n",
    ")\n",
    "generatedByJSON = get_dataset_response.json()\n",
    "assert test_computation_metadata['@id'] != generatedByJSON['generatedBy']\n",
    "\n",
    "# check that user has inverse edges\n",
    "# check that dataset have inverse edges\n",
    "get_user_response = requests.get(\n",
    "    fairscape_host + 'user/' + test_user_metadata['@id']\n",
    ")\n",
    "\n",
    "userJSON = get_user_response.json()\n",
    "assert test_computation_metadata['@id'] not in userJSON.get(\"computations\")"
   ]
  },
  {
   "cell_type": "code",
   "execution_count": 328,
   "id": "aab7ae44-cfc8-4b09-b537-43d6a503d802",
   "metadata": {},
   "outputs": [],
   "source": [
    "# check that user has inverse edges removed\n",
    "get_user_response = requests.get(\n",
    "    fairscape_host + 'user/ark:59852/softwaretester'\n",
    ")\n",
    "\n",
    "userJSON = get_user_response.json()\n",
    "assert test_computation_metadata['@id'] not in userJSON.get(\"computations\")"
   ]
  },
  {
   "cell_type": "code",
   "execution_count": 329,
   "id": "37313fb5-6799-49dd-8f52-38443862ed13",
   "metadata": {},
   "outputs": [],
   "source": [
    "# check that dataset have inverse edges removed\n",
    "get_software_response = requests.get(\n",
    "    fairscape_host + 'software/ark:59852/test-software'\n",
    ")\n",
    "\n",
    "softwareJSON = get_software_response.json()\n",
    "assert test_computation_metadata['@id'] not in softwareJSON.get(\"usedBy\")"
   ]
  },
  {
   "cell_type": "code",
   "execution_count": 331,
   "id": "82ea1a73-2572-4241-bbbe-7c820b499e66",
   "metadata": {},
   "outputs": [],
   "source": [
    "# check that dataset have inverse edges removed\n",
    "get_dataset_response = requests.get(\n",
    "    fairscape_host + 'dataset/ark:59852/test-software'\n",
    ")\n",
    "\n",
    "datasetJSON = get_dataset_response.json()\n",
    "assert test_computation_metadata['@id'] not in datasetJSON.get(\"usedBy\")"
   ]
  },
  {
   "cell_type": "code",
   "execution_count": null,
   "id": "c8a1768e-161c-4eb7-9881-a1b01bdb98c9",
   "metadata": {},
   "outputs": [],
   "source": [
    "# assert "
   ]
  },
  {
   "cell_type": "markdown",
   "id": "9e11b9c4-5fae-40fa-9e40-72e1bd812455",
   "metadata": {},
   "source": [
    "## DataDownload"
   ]
  },
  {
   "cell_type": "code",
   "execution_count": 342,
   "id": "cb2ef44f-4eeb-4b18-9e20-71a4795a98bc",
   "metadata": {},
   "outputs": [],
   "source": [
    "from requests_toolbelt.multipart.encoder import MultipartEncoder"
   ]
  },
  {
   "cell_type": "code",
   "execution_count": 345,
   "id": "803fa1da-5c9e-4e96-9b72-6edcae613384",
   "metadata": {},
   "outputs": [],
   "source": [
    "import json"
   ]
  },
  {
   "cell_type": "code",
   "execution_count": 435,
   "id": "01b5e310-0c08-47e6-b664-3f0a3b7ac570",
   "metadata": {},
   "outputs": [],
   "source": [
    "# create data download\n",
    "download_metadata = {\n",
    "    \"@id\": \"ark:59852/test-data-download\",\n",
    "    \"@type\": \"evi:DataDownload\",\n",
    "    \"name\": \"test download\",\n",
    "    \"description\": \"an example metadata set for a test dataset\",\n",
    "    \"keywords\": [ \"test\", \"fair\"],\n",
    "    \"owner\": test_user_metadata['@id'],\n",
    "    \"author\": \"John Doe\",\n",
    "    \"encodesCreativeWork\": test_dataset_metadata['@id'],\n",
    "    \"encodingFormat\": \"txt\",\n",
    "    \"filename\": \"fake_data.txt\"\n",
    "}\n",
    "\n",
    "\n",
    "mp_encoder = MultipartEncoder(\n",
    "    fields={\n",
    "        'download': json.dumps(download_metadata),\n",
    "        # plain file object, no filename or mime type produces a\n",
    "        # Content-Disposition header with just the part name\n",
    "        'file': ('fake_data.txt', open('fake_data.txt', 'rb'), 'text/plain'),\n",
    "    }\n",
    ")\n",
    "\n",
    "# upload a software to minio object store\n",
    "# dataset_upload = {'download': str(download_data), 'file': open(\"tests/test-data.csv\", \"rb\")}"
   ]
  },
  {
   "cell_type": "code",
   "execution_count": 436,
   "id": "58e46728-9733-4144-87b5-bb610f0249c0",
   "metadata": {},
   "outputs": [
    {
     "data": {
      "text/plain": [
       "{'created': {'@id': 'ark:59852/test-data-download',\n",
       "  '@type': 'Download',\n",
       "  'name': 'test download'}}"
      ]
     },
     "execution_count": 436,
     "metadata": {},
     "output_type": "execute_result"
    }
   ],
   "source": [
    "\n",
    "data_download_upload = requests.post(\n",
    "    fairscape_host + \"register\",                              \n",
    "    data=mp_encoder,  # The MultipartEncoder is posted as data, don't use files=...!\n",
    "    # The MultipartEncoder provides the content-type header with the boundary:\n",
    "    headers={'Content-Type': mp_encoder.content_type}\n",
    "                )\n",
    "                    \n",
    "data_download_upload.json()"
   ]
  },
  {
   "cell_type": "code",
   "execution_count": 463,
   "id": "5438537b-389d-4fa4-bbfb-4e1e138c4564",
   "metadata": {},
   "outputs": [],
   "source": [
    "data_download_get_metadata = requests.get(\n",
    "    fairscape_host + f\"download/{download_metadata['@id']}\"\n",
    "    )"
   ]
  },
  {
   "cell_type": "code",
   "execution_count": 464,
   "id": "7e41f542-e087-427e-93ac-24d581019192",
   "metadata": {},
   "outputs": [
    {
     "data": {
      "text/plain": [
       "'{\"@id\":\"ark:59852/test-data-download\",\"@type\":\"evi:DataDownload\",\"name\":\"test download\",\"@context\":{\"@vocab\":\"https://schema.org/\",\"evi\":\"https://w3id.org/EVI#\"},\"url\":null,\"description\":\"an example metadata set for a test dataset\",\"license\":\" https://creativecommons.org/licenses/by/4.0/\",\"keywords\":[\"test\",\"fair\"],\"published\":false,\"encodingFormat\":\"txt\",\"owner\":\"ark:59852/softwaretester\",\"contentSize\":\"12\",\"encodesCreativeWork\":\"ark:59852/test-dataset\",\"sha256\":null,\"filename\":\"fake_data.txt\",\"uploadDate\":\"2024-04-15T14:06:49Z\",\"version\":\"0.1.0\",\"sourceOrganization\":null,\"includedInDataCatalog\":null,\"minioPath\":null,\"contentURL\":\"0.0.0.0/datadownload/ark:59852/test-data-download/download\",\"author\":\"John Doe\"}'"
      ]
     },
     "execution_count": 464,
     "metadata": {},
     "output_type": "execute_result"
    }
   ],
   "source": [
    "data_download_get_metadata.json()"
   ]
  },
  {
   "cell_type": "code",
   "execution_count": 460,
   "id": "d21f1665-a8f5-41f9-9a7c-42ded5da392a",
   "metadata": {},
   "outputs": [
    {
     "data": {
      "text/plain": [
       "b'{\"@id\":\"ark:59852/test-data-download\",\"error\":\"download ark:59852/test-data-download has no data stored in fairscape\"}'"
      ]
     },
     "execution_count": 460,
     "metadata": {},
     "output_type": "execute_result"
    }
   ],
   "source": [
    "# get file content\n",
    "data_download_get_content = requests.get(\n",
    "    download_url\n",
    "    )\n",
    "data_download_get_content.content"
   ]
  },
  {
   "cell_type": "code",
   "execution_count": 452,
   "id": "560ff7ef-5715-46cc-8795-cf2cb7d33995",
   "metadata": {},
   "outputs": [],
   "source": [
    "download_url = fairscape_host + f\"download/{download_metadata['@id']}/download\"\n",
    "output_filename = \"read_data.txt\""
   ]
  },
  {
   "cell_type": "code",
   "execution_count": 458,
   "id": "842c14a2-90bd-44b8-97f7-fc6e7ab14c22",
   "metadata": {},
   "outputs": [],
   "source": [
    "# streaming back file\n",
    "def stream_file(request_url, local_filename):\n",
    "    with requests.get(request_url, stream=True) as r:\n",
    "        r.raise_for_status()\n",
    "        with open(local_filename, 'wb') as f:\n",
    "            for chunk in r.iter_content(chunk_size=8192): \n",
    "                # If you have chunk encoded response uncomment if\n",
    "                # and set chunk_size parameter to None.\n",
    "                #if chunk: \n",
    "                f.write(chunk)\n",
    "    return local_filename"
   ]
  },
  {
   "cell_type": "code",
   "execution_count": 459,
   "id": "6fadba36-38dd-4284-801b-ed83bf7220ab",
   "metadata": {},
   "outputs": [
    {
     "ename": "HTTPError",
     "evalue": "404 Client Error: Not Found for url: http://localhost:8080/download/ark:59852/test-data-download/download",
     "output_type": "error",
     "traceback": [
      "\u001b[0;31m---------------------------------------------------------------------------\u001b[0m",
      "\u001b[0;31mHTTPError\u001b[0m                                 Traceback (most recent call last)",
      "Cell \u001b[0;32mIn[459], line 1\u001b[0m\n\u001b[0;32m----> 1\u001b[0m \u001b[43mstream_file\u001b[49m\u001b[43m(\u001b[49m\u001b[43mdownload_url\u001b[49m\u001b[43m,\u001b[49m\u001b[43m \u001b[49m\u001b[43moutput_filename\u001b[49m\u001b[43m)\u001b[49m\n",
      "Cell \u001b[0;32mIn[458], line 4\u001b[0m, in \u001b[0;36mstream_file\u001b[0;34m(request_url, local_filename)\u001b[0m\n\u001b[1;32m      2\u001b[0m \u001b[38;5;28;01mdef\u001b[39;00m \u001b[38;5;21mstream_file\u001b[39m(request_url, local_filename):\n\u001b[1;32m      3\u001b[0m     \u001b[38;5;28;01mwith\u001b[39;00m requests\u001b[38;5;241m.\u001b[39mget(request_url, stream\u001b[38;5;241m=\u001b[39m\u001b[38;5;28;01mTrue\u001b[39;00m) \u001b[38;5;28;01mas\u001b[39;00m r:\n\u001b[0;32m----> 4\u001b[0m         \u001b[43mr\u001b[49m\u001b[38;5;241;43m.\u001b[39;49m\u001b[43mraise_for_status\u001b[49m\u001b[43m(\u001b[49m\u001b[43m)\u001b[49m\n\u001b[1;32m      5\u001b[0m         \u001b[38;5;28;01mwith\u001b[39;00m \u001b[38;5;28mopen\u001b[39m(local_filename, \u001b[38;5;124m'\u001b[39m\u001b[38;5;124mwb\u001b[39m\u001b[38;5;124m'\u001b[39m) \u001b[38;5;28;01mas\u001b[39;00m f:\n\u001b[1;32m      6\u001b[0m             \u001b[38;5;28;01mfor\u001b[39;00m chunk \u001b[38;5;129;01min\u001b[39;00m r\u001b[38;5;241m.\u001b[39miter_content(chunk_size\u001b[38;5;241m=\u001b[39m\u001b[38;5;241m8192\u001b[39m): \n\u001b[1;32m      7\u001b[0m                 \u001b[38;5;66;03m# If you have chunk encoded response uncomment if\u001b[39;00m\n\u001b[1;32m      8\u001b[0m                 \u001b[38;5;66;03m# and set chunk_size parameter to None.\u001b[39;00m\n\u001b[1;32m      9\u001b[0m                 \u001b[38;5;66;03m#if chunk: \u001b[39;00m\n",
      "File \u001b[0;32m~/fairscape/mds_env/lib/python3.12/site-packages/requests/models.py:1021\u001b[0m, in \u001b[0;36mResponse.raise_for_status\u001b[0;34m(self)\u001b[0m\n\u001b[1;32m   1016\u001b[0m     http_error_msg \u001b[38;5;241m=\u001b[39m (\n\u001b[1;32m   1017\u001b[0m         \u001b[38;5;124mf\u001b[39m\u001b[38;5;124m\"\u001b[39m\u001b[38;5;132;01m{\u001b[39;00m\u001b[38;5;28mself\u001b[39m\u001b[38;5;241m.\u001b[39mstatus_code\u001b[38;5;132;01m}\u001b[39;00m\u001b[38;5;124m Server Error: \u001b[39m\u001b[38;5;132;01m{\u001b[39;00mreason\u001b[38;5;132;01m}\u001b[39;00m\u001b[38;5;124m for url: \u001b[39m\u001b[38;5;132;01m{\u001b[39;00m\u001b[38;5;28mself\u001b[39m\u001b[38;5;241m.\u001b[39murl\u001b[38;5;132;01m}\u001b[39;00m\u001b[38;5;124m\"\u001b[39m\n\u001b[1;32m   1018\u001b[0m     )\n\u001b[1;32m   1020\u001b[0m \u001b[38;5;28;01mif\u001b[39;00m http_error_msg:\n\u001b[0;32m-> 1021\u001b[0m     \u001b[38;5;28;01mraise\u001b[39;00m HTTPError(http_error_msg, response\u001b[38;5;241m=\u001b[39m\u001b[38;5;28mself\u001b[39m)\n",
      "\u001b[0;31mHTTPError\u001b[0m: 404 Client Error: Not Found for url: http://localhost:8080/download/ark:59852/test-data-download/download"
     ]
    }
   ],
   "source": [
    "stream_file(download_url, output_filename)"
   ]
  },
  {
   "cell_type": "code",
   "execution_count": 457,
   "id": "724f3166-5a7f-4d2a-9d6b-c81d6d36cf54",
   "metadata": {},
   "outputs": [],
   "source": [
    "# delete download\n",
    "download_delete = requests.delete(\n",
    "    fairscape_host + f\"download/{download_metadata['@id']}\"\n",
    "    )"
   ]
  },
  {
   "cell_type": "markdown",
   "id": "2a7d3241-106f-4ab1-b75f-e3b8fce3a6fe",
   "metadata": {},
   "source": [
    "### Remove Content"
   ]
  },
  {
   "cell_type": "code",
   "execution_count": 420,
   "id": "33a8c13c-e4c5-4e39-a94b-ae72ab3c4abc",
   "metadata": {},
   "outputs": [],
   "source": [
    "import minio"
   ]
  },
  {
   "cell_type": "code",
   "execution_count": 392,
   "id": "90ee5164-fb3e-4eaa-83d5-a77187dc237e",
   "metadata": {},
   "outputs": [],
   "source": [
    "# clear contents from minio\n",
    "minio_client = server_config.CreateMinioClient()"
   ]
  },
  {
   "cell_type": "code",
   "execution_count": 432,
   "id": "ff280906-a5e9-45fb-ae73-b8e2a4b29244",
   "metadata": {},
   "outputs": [],
   "source": [
    "# delete download metadata\n",
    "mongoIdentifierCollection.delete_one({\"@id\": download_metadata.get(\"@id\")})\n",
    "\n",
    "removeObjResult = minio_client.remove_object(\n",
    "    server_config.minio.default_bucket,\n",
    "    f\"test-data-download/{download_metadata.get('filename')}\"\n",
    ")"
   ]
  },
  {
   "cell_type": "code",
   "execution_count": null,
   "id": "5bba0e75-97ba-48f4-aeb6-951b4ec20bb6",
   "metadata": {},
   "outputs": [],
   "source": []
  },
  {
   "cell_type": "code",
   "execution_count": 430,
   "id": "f6526952-068f-4bca-8e80-2423e7e2199a",
   "metadata": {},
   "outputs": [
    {
     "name": "stdout",
     "output_type": "stream",
     "text": [
      "{'_code': 'NoSuchKey', '_message': 'Object does not exist', '_resource': '/default/test-data-download/fake_data.txt', '_request_id': '17C6792E9A930CB0', '_host_id': 'dd9025bab4ad464b049177c95eb6ebf374d3b3fd1af9251148b658df7ac2e3e8', '_response': <urllib3.response.HTTPResponse object at 0x1156696f0>, '_bucket_name': 'default', '_object_name': 'test-data-download/fake_data.txt'}\n"
     ]
    }
   ],
   "source": [
    "try:\n",
    "    minio_client.stat_object(\n",
    "        server_config.minio.default_bucket,\n",
    "        f\"test-data-download/{download_metadata.get('filename')}\"\n",
    "    )\n",
    "\n",
    "except minio.S3Error as S3Exception:\n",
    "    print(S3Exception.__dict__)"
   ]
  },
  {
   "cell_type": "code",
   "execution_count": 415,
   "id": "9bc82e5e-4522-4872-82c5-78939a205250",
   "metadata": {},
   "outputs": [
    {
     "data": {
      "text/plain": [
       "True"
      ]
     },
     "execution_count": 415,
     "metadata": {},
     "output_type": "execute_result"
    }
   ],
   "source": [
    "removeObjResult is None"
   ]
  },
  {
   "cell_type": "code",
   "execution_count": 416,
   "id": "dd0cdf21-8a94-4296-8766-8c9706f5d221",
   "metadata": {},
   "outputs": [],
   "source": [
    "removeObjResult"
   ]
  },
  {
   "cell_type": "code",
   "execution_count": 395,
   "id": "d2dec85c-d565-4334-9b56-edc438c45e4f",
   "metadata": {},
   "outputs": [],
   "source": [
    "removeObjResult"
   ]
  },
  {
   "cell_type": "code",
   "execution_count": null,
   "id": "22285414-fc9f-452e-9065-9d203e2bb44e",
   "metadata": {},
   "outputs": [],
   "source": [
    "mong"
   ]
  },
  {
   "cell_type": "markdown",
   "id": "2227677d-f69c-4ff6-b516-91473b695fcd",
   "metadata": {},
   "source": [
    "## ROCrate"
   ]
  },
  {
   "cell_type": "code",
   "execution_count": null,
   "id": "570efc38-00d2-4298-a31f-1caa85ae7327",
   "metadata": {},
   "outputs": [],
   "source": [
    "# create rocrate"
   ]
  },
  {
   "cell_type": "markdown",
   "id": "2916b30a-e3a5-47ee-ae62-196bd2a00c19",
   "metadata": {},
   "source": [
    "## Resolver"
   ]
  },
  {
   "cell_type": "code",
   "execution_count": 153,
   "id": "e6c0e8f7-a1f9-443e-a561-1353a4262e6b",
   "metadata": {},
   "outputs": [
    {
     "ename": "NameError",
     "evalue": "name 'test_user_metadata' is not defined",
     "output_type": "error",
     "traceback": [
      "\u001b[0;31m---------------------------------------------------------------------------\u001b[0m",
      "\u001b[0;31mNameError\u001b[0m                                 Traceback (most recent call last)",
      "Cell \u001b[0;32mIn[153], line 2\u001b[0m\n\u001b[1;32m      1\u001b[0m get_user_resolver \u001b[38;5;241m=\u001b[39m requests\u001b[38;5;241m.\u001b[39mget(\n\u001b[0;32m----> 2\u001b[0m     fairscape_host \u001b[38;5;241m+\u001b[39m \u001b[43mtest_user_metadata\u001b[49m\u001b[38;5;241m.\u001b[39mget(\u001b[38;5;124m\"\u001b[39m\u001b[38;5;124m@id\u001b[39m\u001b[38;5;124m\"\u001b[39m)\n\u001b[1;32m      3\u001b[0m )\n\u001b[1;32m      5\u001b[0m \u001b[38;5;28mprint\u001b[39m(get_user_resolver\u001b[38;5;241m.\u001b[39mstatus_code)\n\u001b[1;32m      6\u001b[0m \u001b[38;5;28mprint\u001b[39m(get_user_resolver\u001b[38;5;241m.\u001b[39mcontent)\n",
      "\u001b[0;31mNameError\u001b[0m: name 'test_user_metadata' is not defined"
     ]
    }
   ],
   "source": [
    "get_user_resolver = requests.get(\n",
    "    fairscape_host + test_user_metadata.get(\"@id\")\n",
    ")\n",
    "\n",
    "print(get_user_resolver.status_code)\n",
    "print(get_user_resolver.content)"
   ]
  },
  {
   "cell_type": "code",
   "execution_count": 143,
   "id": "72cc18ee-b1aa-4784-b04b-d63d34fda53f",
   "metadata": {},
   "outputs": [
    {
     "name": "stdout",
     "output_type": "stream",
     "text": [
      "404\n",
      "b'{\"detail\":\"Not Found\"}'\n"
     ]
    }
   ],
   "source": [
    "get_software_resolver = requests.get(\n",
    "    fairscape_host + test_software_metadata.get(\"@id\")\n",
    ")\n",
    "\n",
    "print(get_software_resolver.status_code)\n",
    "print(get_software_resolver.content)"
   ]
  },
  {
   "cell_type": "code",
   "execution_count": 152,
   "id": "2388d851-dddf-43b7-86fa-24460c3865d5",
   "metadata": {},
   "outputs": [
    {
     "name": "stdout",
     "output_type": "stream",
     "text": [
      "500\n",
      "b'{\"error\":\"error returning ark metadata\",\"message\":\"Object of type datetime is not JSON serializable\",\"identifier\":\"ark:59852/test-dataset\",\"metadata\":\"{\\'@id\\': \\'ark:59852/test-dataset\\', \\'@type\\': \\'evi:Dataset\\', \\'name\\': \\'test dataset\\', \\'@context\\': {\\'@vocab\\': \\'https://schema.org/\\', \\'evi\\': \\'https://w3id.org/EVI#\\'}, \\'url\\': None, \\'description\\': \\'an example metadata set for a test dataset\\', \\'license\\': \\' https://creativecommons.org/licenses/by/4.0/\\', \\'keywords\\': [\\'test\\', \\'fair\\'], \\'owner\\': \\'ark:59852/softwaretester\\', \\'distribution\\': [], \\'includedInDataCatalog\\': None, \\'sourceOrganization\\': None, \\'author\\': \\'John Doe\\', \\'dateCreated\\': datetime.datetime(2024, 4, 8, 16, 30, 55, 437000), \\'dateModified\\': datetime.datetime(2024, 4, 8, 16, 30, 55, 437000), \\'usedBy\\': []}\"}'\n"
     ]
    }
   ],
   "source": [
    "get_dataset_resolver = requests.get(\n",
    "    fairscape_host + test_dataset_metadata.get(\"@id\")\n",
    ")\n",
    "\n",
    "print(get_dataset_resolver.status_code)\n",
    "print(get_dataset_resolver.content)"
   ]
  },
  {
   "cell_type": "code",
   "execution_count": null,
   "id": "42a6763d-7beb-4702-b09c-eef7b19134e1",
   "metadata": {},
   "outputs": [],
   "source": [
    "get_user_resolver = requests.get(\n",
    "    fairscape_host + '/' + testing_user_metadata.get(\"@id\")\n",
    ")\n",
    "\n",
    "print(get_user_resolver.status_code)\n",
    "print(get_user_resolver.content)"
   ]
  },
  {
   "cell_type": "code",
   "execution_count": null,
   "id": "6afd2eaa-ba01-4444-a291-4369ff7eff9b",
   "metadata": {},
   "outputs": [],
   "source": []
  }
 ],
 "metadata": {
  "kernelspec": {
   "display_name": "Python 3 (ipykernel)",
   "language": "python",
   "name": "python3"
  },
  "language_info": {
   "codemirror_mode": {
    "name": "ipython",
    "version": 3
   },
   "file_extension": ".py",
   "mimetype": "text/x-python",
   "name": "python",
   "nbconvert_exporter": "python",
   "pygments_lexer": "ipython3",
   "version": "3.12.1"
  }
 },
 "nbformat": 4,
 "nbformat_minor": 5
}
