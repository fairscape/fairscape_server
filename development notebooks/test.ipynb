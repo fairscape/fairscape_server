{
 "cells": [
  {
   "cell_type": "code",
   "execution_count": 1,
   "id": "d7fbc551-7c0b-4e8c-b91d-f3237eb29047",
   "metadata": {},
   "outputs": [],
   "source": [
    "import os  \n",
    "import sys\n",
    "import pathlib\n",
    "\n",
    "repo_path = pathlib.Path('.').absolute().parent\n",
    "src_path = repo_path / 'src'\n",
    "\n",
    "sys.path.insert(0, str(src_path)) "
   ]
  },
  {
   "cell_type": "code",
   "execution_count": 2,
   "id": "890744d7-425c-4a75-95b6-f8bb5ff99707",
   "metadata": {},
   "outputs": [],
   "source": [
    "import pymongo"
   ]
  },
  {
   "cell_type": "code",
   "execution_count": 23,
   "id": "18524e90-2e4d-4f05-b035-bc0e99e81c51",
   "metadata": {},
   "outputs": [],
   "source": [
    "import fairscape_mds.mds.config as mds_config\n",
    "\n",
    "server_config = mds_config.get_fairscape_config('../deploy/local.env')\n",
    "\n",
    "server_config.setup_mongo()\n",
    "\n",
    "server_config.setup_minio()"
   ]
  },
  {
   "cell_type": "code",
   "execution_count": null,
   "id": "6b729d50-564e-4fa9-9bb5-a053610994cc",
   "metadata": {},
   "outputs": [],
   "source": [
    "mongoClient = server_config.CreateMongoClient()\n",
    "\n",
    "mongoDB = mongoClient[server_config.mongo.db]\n",
    "\n",
    "mongoUserCollection = mongoDB[server_config.mongo.user_collection]"
   ]
  },
  {
   "cell_type": "code",
   "execution_count": 28,
   "id": "2c5462cc-bb33-46e7-83e3-97bad4367de2",
   "metadata": {},
   "outputs": [],
   "source": [
    "result = mongoUserCollection.find_one({\"@id\": \"not a user\"})"
   ]
  },
  {
   "cell_type": "code",
   "execution_count": 30,
   "id": "08458750-ba8f-4f76-9781-6cb8cf3d0cec",
   "metadata": {},
   "outputs": [
    {
     "data": {
      "text/plain": [
       "True"
      ]
     },
     "execution_count": 30,
     "metadata": {},
     "output_type": "execute_result"
    }
   ],
   "source": [
    "result is None"
   ]
  },
  {
   "cell_type": "markdown",
   "id": "ed24e2da-c9b2-4598-9cd1-27e85b73d7be",
   "metadata": {},
   "source": [
    "## API Requests"
   ]
  },
  {
   "cell_type": "code",
   "execution_count": 31,
   "id": "c4e67a4d-b936-4f78-8ab5-70135c029e39",
   "metadata": {},
   "outputs": [],
   "source": [
    "import requests\n",
    "fairscape_host = \"http://localhost:8080/\""
   ]
  },
  {
   "cell_type": "markdown",
   "id": "14f1dd69-dc35-49af-953e-9521b71d4f7b",
   "metadata": {},
   "source": [
    "## Users"
   ]
  },
  {
   "cell_type": "code",
   "execution_count": 104,
   "id": "7140a07f-df56-4d5c-925a-0c5c6bee88c2",
   "metadata": {},
   "outputs": [],
   "source": [
    "# creating a user\n",
    "user_metadata = {\n",
    "    \"@id\": \"ark:59852/jdoe\",\n",
    "    \"@type\": \"Person\",\n",
    "    \"name\": \"John Doe\",\n",
    "    \"email\": \"jdoe@example.org\",\n",
    "    \"password\": \"examplepassword\"\n",
    "}\n",
    "\n",
    "create_user_response = requests.post(\n",
    "    fairscape_host + 'user',\n",
    "    json=user_metadata\n",
    "    )"
   ]
  },
  {
   "cell_type": "code",
   "execution_count": 105,
   "id": "3448d1b8-18a4-47e8-8ded-aa3a2f18f2a9",
   "metadata": {},
   "outputs": [
    {
     "name": "stdout",
     "output_type": "stream",
     "text": [
      "201\n",
      "b'{\"created\":{\"@id\":\"ark:59852/jdoe\",\"@type\":\"Person\",\"name\":\"John Doe\"}}'\n"
     ]
    }
   ],
   "source": [
    "print(create_user_response.status_code)\n",
    "print(create_user_response.content)"
   ]
  },
  {
   "cell_type": "code",
   "execution_count": 106,
   "id": "c502f2d6-12b5-4748-a519-16add9133645",
   "metadata": {},
   "outputs": [],
   "source": [
    "# get a user\n",
    "get_user_response = requests.get(\n",
    "    fairscape_host + f'user/{user_metadata.get(\"@id\")}'\n",
    ")"
   ]
  },
  {
   "cell_type": "code",
   "execution_count": 107,
   "id": "9fb8c525-fa12-4b14-94fc-cbdf534c7dbe",
   "metadata": {},
   "outputs": [
    {
     "name": "stdout",
     "output_type": "stream",
     "text": [
      "200\n",
      "b'{\"@id\":\"ark:59852/jdoe\",\"@type\":\"Person\",\"@context\":{\"@vocab\":\"https://schema.org/\",\"evi\":\"https://w3id.org/EVI#\"},\"url\":null,\"organizations\":[],\"projects\":[],\"datasets\":[],\"rocrates\":[],\"software\":[],\"computations\":[],\"evidencegraphs\":[],\"name\":\"John Doe\",\"email\":\"jdoe@example.org\",\"password\":\"examplepassword\"}'\n"
     ]
    }
   ],
   "source": [
    "print(get_user_response.status_code)\n",
    "print(get_user_response.content)"
   ]
  },
  {
   "cell_type": "code",
   "execution_count": 108,
   "id": "8a0e1f29-4465-4153-8d8d-e17ba98f0e6b",
   "metadata": {},
   "outputs": [],
   "source": [
    "# get a user that doestn't exist\n",
    "get_user_response = requests.get(\n",
    "    fairscape_host + 'user/ark:99999/fakeuser'\n",
    ")"
   ]
  },
  {
   "cell_type": "code",
   "execution_count": 109,
   "id": "e8071514-3f5a-43ce-8164-b713378d30a9",
   "metadata": {},
   "outputs": [
    {
     "name": "stdout",
     "output_type": "stream",
     "text": [
      "404\n",
      "b'{\"error\":\"No record found\"}'\n"
     ]
    }
   ],
   "source": [
    "print(get_user_response.status_code)\n",
    "print(get_user_response.content)"
   ]
  },
  {
   "cell_type": "code",
   "execution_count": 110,
   "id": "a539532d-4bba-4c1a-81d9-f0733f1e7be1",
   "metadata": {},
   "outputs": [],
   "source": [
    "# list users\n",
    "list_user_response = requests.get(\n",
    "    fairscape_host + 'user'\n",
    ")"
   ]
  },
  {
   "cell_type": "code",
   "execution_count": 111,
   "id": "430f36d9-cde2-427d-8b18-b55e26f9eaab",
   "metadata": {},
   "outputs": [
    {
     "name": "stdout",
     "output_type": "stream",
     "text": [
      "200\n",
      "b'{\"users\":[{\"@id\":\"ark:59852/softwaretester\",\"@type\":\"Person\",\"name\":\"John Doe\"},{\"@id\":\"ark:59852/jdoe\",\"@type\":\"Person\",\"name\":\"John Doe\"}]}'\n"
     ]
    }
   ],
   "source": [
    "print(list_user_response.status_code)\n",
    "print(list_user_response.content)"
   ]
  },
  {
   "cell_type": "code",
   "execution_count": 112,
   "id": "7b1c8441-4791-4263-9ff9-ec2baed279a3",
   "metadata": {},
   "outputs": [],
   "source": [
    "# delete user\n",
    "delete_user_response = requests.delete(\n",
    "    fairscape_host +  f'user/{user_metadata.get(\"@id\")}'\n",
    ")"
   ]
  },
  {
   "cell_type": "code",
   "execution_count": 113,
   "id": "d947e976-52d9-4d74-ae0b-b6eb6cde90ae",
   "metadata": {},
   "outputs": [
    {
     "name": "stdout",
     "output_type": "stream",
     "text": [
      "200\n",
      "b'{\"deleted\":{\"@id\":\"ark:59852/jdoe\",\"@type\":\"Person\",\"name\":\"John Doe\",\"email\":\"jdoe@example.org\",\"datasets\":[],\"software\":[],\"computatations\":[],\"rocrates\":[],\"evidencegraphs\":[]}}'\n"
     ]
    }
   ],
   "source": [
    "print(delete_user_response.status_code)\n",
    "print(delete_user_response.content)"
   ]
  },
  {
   "cell_type": "markdown",
   "id": "627913e1-68e6-4e67-a92f-332f1805f503",
   "metadata": {},
   "source": [
    "## Dataset"
   ]
  },
  {
   "cell_type": "code",
   "execution_count": 154,
   "id": "6e54042e-1f9e-43b3-b9cb-c722ea3fbdbd",
   "metadata": {},
   "outputs": [],
   "source": [
    "# creating a user\n",
    "test_user_metadata = {\n",
    "    \"@id\": \"ark:59852/softwaretester\",\n",
    "    \"@type\": \"Person\",\n",
    "    \"name\": \"John Doe\",\n",
    "    \"email\": \"jdoe@example.org\",\n",
    "    \"password\": \"examplepassword\"\n",
    "}\n",
    "\n",
    "create_user_response = requests.post(\n",
    "    fairscape_host + 'user',\n",
    "    json=test_user_metadata\n",
    "    )"
   ]
  },
  {
   "cell_type": "code",
   "execution_count": 155,
   "id": "70cb2f9d-5d66-4a07-af04-e7ba8b8cec0d",
   "metadata": {},
   "outputs": [
    {
     "name": "stdout",
     "output_type": "stream",
     "text": [
      "400\n",
      "b'{\"error\":\"dataset already exists\"}'\n"
     ]
    }
   ],
   "source": [
    "# create a dataset\n",
    "\n",
    "test_dataset_metadata = {\n",
    "    \"@id\": \"ark:59852/test-dataset\",\n",
    "    \"@type\": \"evi:Dataset\",\n",
    "    \"name\": \"test dataset\",\n",
    "    \"description\": \"an example metadata set for a test dataset\",\n",
    "    \"keywords\": [ \"test\", \"fair\"],\n",
    "    \"owner\": test_user_metadata['@id'],\n",
    "    \"author\": \"John Doe\"\n",
    "}\n",
    "\n",
    "create_dataset_response = requests.post(\n",
    "    fairscape_host + 'dataset',\n",
    "    json = test_dataset_metadata\n",
    ")\n",
    "\n",
    "print(create_dataset_response.status_code)\n",
    "print(create_dataset_response.content)"
   ]
  },
  {
   "cell_type": "code",
   "execution_count": 156,
   "id": "eeab85d6-786c-43f6-95ff-9ef016f00a05",
   "metadata": {},
   "outputs": [
    {
     "name": "stdout",
     "output_type": "stream",
     "text": [
      "200\n",
      "b'{\"datasets\":[{\"@id\":\"ark:59852/test-dataset\",\"@type\":\"evi:Dataset\",\"name\":\"test dataset\"}]}'\n"
     ]
    }
   ],
   "source": [
    "# list datasets\n",
    "list_dataset_response = requests.get(\n",
    "    fairscape_host + 'dataset'\n",
    ")\n",
    "\n",
    "print(list_dataset_response.status_code)\n",
    "print(list_dataset_response.content)"
   ]
  },
  {
   "cell_type": "code",
   "execution_count": 157,
   "id": "18ffb2ad-9bea-4fcd-93dd-156def9d0d7d",
   "metadata": {},
   "outputs": [
    {
     "name": "stdout",
     "output_type": "stream",
     "text": [
      "200\n",
      "b'{\"@id\":\"ark:59852/test-dataset\",\"@context\":{\"@vocab\":\"https://schema.org/\",\"evi\":\"https://w3id.org/EVI#\"},\"url\":null,\"license\":\" https://creativecommons.org/licenses/by/4.0/\",\"keywords\":[\"test\",\"fair\"],\"distribution\":[],\"includedInDataCatalog\":null,\"sourceOrganization\":null,\"author\":\"John Doe\",\"dateCreated\":\"2024-04-08T16:30:55.437000\",\"dateModified\":\"2024-04-08T16:30:55.437000\",\"usedBy\":[],\"@type\":\"evi:Dataset\",\"name\":\"test dataset\",\"description\":\"an example metadata set for a test dataset\",\"owner\":\"ark:59852/softwaretester\"}'\n"
     ]
    }
   ],
   "source": [
    "# get dataset\n",
    "get_dataset_response = requests.get(\n",
    "    fairscape_host + f'dataset/{test_dataset_metadata[\"@id\"]}'\n",
    ")\n",
    "\n",
    "print(get_dataset_response.status_code)\n",
    "print(get_dataset_response.content)"
   ]
  },
  {
   "cell_type": "code",
   "execution_count": null,
   "id": "2f65ed61-6c77-490d-b26d-dcbf52d99fcf",
   "metadata": {},
   "outputs": [],
   "source": [
    "# update dataset"
   ]
  },
  {
   "cell_type": "code",
   "execution_count": 118,
   "id": "4c399b2f-480b-434e-902d-a1981dcc2c63",
   "metadata": {},
   "outputs": [
    {
     "name": "stdout",
     "output_type": "stream",
     "text": [
      "200\n",
      "b'{\"deleted\":{\"@id\":\"ark:59852/test-dataset\",\"@type\":\"evi:Dataset\",\"name\":\"test dataset\"}}'\n"
     ]
    }
   ],
   "source": [
    "# delete dataset\n",
    "delete_dataset_response = requests.delete(\n",
    "    fairscape_host + f'dataset/{test_dataset_metadata[\"@id\"]}'\n",
    ")\n",
    "\n",
    "print(delete_dataset_response.status_code)\n",
    "print(delete_dataset_response.content)"
   ]
  },
  {
   "cell_type": "markdown",
   "id": "d7e12a80-a0be-4b4b-bca8-3523dc92d145",
   "metadata": {},
   "source": [
    "## Software"
   ]
  },
  {
   "cell_type": "code",
   "execution_count": 134,
   "id": "b3eca130-c147-4733-8498-6fa521dcedf1",
   "metadata": {},
   "outputs": [],
   "source": [
    "# create software\n",
    "test_software_metadata = {\n",
    "    \"@id\": \"ark:59852/test-software\",\n",
    "    \"@type\": \"evi:Software\",\n",
    "    \"owner\": test_user_metadata.get('@id'),\n",
    "    \"name\": \"Test Software\",\n",
    "    \"author\": \"Max Levinson\",\n",
    "    \"keywords\": ['evi'],\n",
    "    \"description\": \"an example software model\"\n",
    "}"
   ]
  },
  {
   "cell_type": "code",
   "execution_count": 137,
   "id": "e7b049fc-5515-42f0-aca4-5cf7441799b9",
   "metadata": {},
   "outputs": [
    {
     "name": "stdout",
     "output_type": "stream",
     "text": [
      "201\n",
      "b'{\"created\":{\"@id\":\"ark:59852/test-software\",\"metadataType\":\"evi:Software\",\"name\":\"Test Software\",\"@context\":{\"@vocab\":\"https://schema.org/\",\"evi\":\"https://w3id.org/EVI#\"},\"url\":null,\"description\":\"an example software model\",\"license\":\" https://creativecommons.org/licenses/by/4.0/\",\"keywords\":[\"evi\"],\"owner\":\"ark:59852/softwaretester\",\"distribution\":[],\"usedBy\":[],\"sourceOrganization\":null,\"includedInDataCatalog\":null,\"@type\":\"evi:Software\",\"author\":\"Max Levinson\"}}'\n"
     ]
    }
   ],
   "source": [
    "# create a dataset\n",
    "\n",
    "create_software_response = requests.post(\n",
    "    fairscape_host + 'software',\n",
    "    json = test_software_metadata\n",
    ")\n",
    "\n",
    "print(create_software_response.status_code)\n",
    "print(create_software_response.content)"
   ]
  },
  {
   "cell_type": "code",
   "execution_count": 138,
   "id": "45091caf-b7c0-4964-ac9f-8cb2012358c4",
   "metadata": {},
   "outputs": [
    {
     "name": "stdout",
     "output_type": "stream",
     "text": [
      "500\n",
      "b'{\"error\":\"software not deleted\"}'\n"
     ]
    }
   ],
   "source": [
    "# delete software\n",
    "delete_software_response = requests.delete(\n",
    "    fairscape_host + 'software/' + test_software_metadata.get(\"@id\")\n",
    ")\n",
    "\n",
    "print(delete_software_response.status_code)\n",
    "print(delete_software_response.content)\n",
    "\n"
   ]
  },
  {
   "cell_type": "markdown",
   "id": "ba7fe6ad-981c-40ec-8ec9-fb7b224158a7",
   "metadata": {},
   "source": [
    "## Computation"
   ]
  },
  {
   "cell_type": "code",
   "execution_count": null,
   "id": "687f6799-3678-4521-87df-87c3f446488b",
   "metadata": {},
   "outputs": [],
   "source": [
    "# create computation"
   ]
  },
  {
   "cell_type": "markdown",
   "id": "9e11b9c4-5fae-40fa-9e40-72e1bd812455",
   "metadata": {},
   "source": [
    "## DataDownload"
   ]
  },
  {
   "cell_type": "code",
   "execution_count": null,
   "id": "01b5e310-0c08-47e6-b664-3f0a3b7ac570",
   "metadata": {},
   "outputs": [],
   "source": [
    "# create data download"
   ]
  },
  {
   "cell_type": "markdown",
   "id": "2227677d-f69c-4ff6-b516-91473b695fcd",
   "metadata": {},
   "source": [
    "## ROCrate"
   ]
  },
  {
   "cell_type": "code",
   "execution_count": null,
   "id": "570efc38-00d2-4298-a31f-1caa85ae7327",
   "metadata": {},
   "outputs": [],
   "source": [
    "# create rocrate"
   ]
  },
  {
   "cell_type": "markdown",
   "id": "2916b30a-e3a5-47ee-ae62-196bd2a00c19",
   "metadata": {},
   "source": [
    "## Resolver"
   ]
  },
  {
   "cell_type": "code",
   "execution_count": 153,
   "id": "e6c0e8f7-a1f9-443e-a561-1353a4262e6b",
   "metadata": {},
   "outputs": [
    {
     "ename": "NameError",
     "evalue": "name 'test_user_metadata' is not defined",
     "output_type": "error",
     "traceback": [
      "\u001b[0;31m---------------------------------------------------------------------------\u001b[0m",
      "\u001b[0;31mNameError\u001b[0m                                 Traceback (most recent call last)",
      "Cell \u001b[0;32mIn[153], line 2\u001b[0m\n\u001b[1;32m      1\u001b[0m get_user_resolver \u001b[38;5;241m=\u001b[39m requests\u001b[38;5;241m.\u001b[39mget(\n\u001b[0;32m----> 2\u001b[0m     fairscape_host \u001b[38;5;241m+\u001b[39m \u001b[43mtest_user_metadata\u001b[49m\u001b[38;5;241m.\u001b[39mget(\u001b[38;5;124m\"\u001b[39m\u001b[38;5;124m@id\u001b[39m\u001b[38;5;124m\"\u001b[39m)\n\u001b[1;32m      3\u001b[0m )\n\u001b[1;32m      5\u001b[0m \u001b[38;5;28mprint\u001b[39m(get_user_resolver\u001b[38;5;241m.\u001b[39mstatus_code)\n\u001b[1;32m      6\u001b[0m \u001b[38;5;28mprint\u001b[39m(get_user_resolver\u001b[38;5;241m.\u001b[39mcontent)\n",
      "\u001b[0;31mNameError\u001b[0m: name 'test_user_metadata' is not defined"
     ]
    }
   ],
   "source": [
    "get_user_resolver = requests.get(\n",
    "    fairscape_host + test_user_metadata.get(\"@id\")\n",
    ")\n",
    "\n",
    "print(get_user_resolver.status_code)\n",
    "print(get_user_resolver.content)"
   ]
  },
  {
   "cell_type": "code",
   "execution_count": 143,
   "id": "72cc18ee-b1aa-4784-b04b-d63d34fda53f",
   "metadata": {},
   "outputs": [
    {
     "name": "stdout",
     "output_type": "stream",
     "text": [
      "404\n",
      "b'{\"detail\":\"Not Found\"}'\n"
     ]
    }
   ],
   "source": [
    "get_software_resolver = requests.get(\n",
    "    fairscape_host + test_software_metadata.get(\"@id\")\n",
    ")\n",
    "\n",
    "print(get_software_resolver.status_code)\n",
    "print(get_software_resolver.content)"
   ]
  },
  {
   "cell_type": "code",
   "execution_count": 152,
   "id": "2388d851-dddf-43b7-86fa-24460c3865d5",
   "metadata": {},
   "outputs": [
    {
     "name": "stdout",
     "output_type": "stream",
     "text": [
      "500\n",
      "b'{\"error\":\"error returning ark metadata\",\"message\":\"Object of type datetime is not JSON serializable\",\"identifier\":\"ark:59852/test-dataset\",\"metadata\":\"{\\'@id\\': \\'ark:59852/test-dataset\\', \\'@type\\': \\'evi:Dataset\\', \\'name\\': \\'test dataset\\', \\'@context\\': {\\'@vocab\\': \\'https://schema.org/\\', \\'evi\\': \\'https://w3id.org/EVI#\\'}, \\'url\\': None, \\'description\\': \\'an example metadata set for a test dataset\\', \\'license\\': \\' https://creativecommons.org/licenses/by/4.0/\\', \\'keywords\\': [\\'test\\', \\'fair\\'], \\'owner\\': \\'ark:59852/softwaretester\\', \\'distribution\\': [], \\'includedInDataCatalog\\': None, \\'sourceOrganization\\': None, \\'author\\': \\'John Doe\\', \\'dateCreated\\': datetime.datetime(2024, 4, 8, 16, 30, 55, 437000), \\'dateModified\\': datetime.datetime(2024, 4, 8, 16, 30, 55, 437000), \\'usedBy\\': []}\"}'\n"
     ]
    }
   ],
   "source": [
    "get_dataset_resolver = requests.get(\n",
    "    fairscape_host + test_dataset_metadata.get(\"@id\")\n",
    ")\n",
    "\n",
    "print(get_dataset_resolver.status_code)\n",
    "print(get_dataset_resolver.content)"
   ]
  },
  {
   "cell_type": "code",
   "execution_count": null,
   "id": "42a6763d-7beb-4702-b09c-eef7b19134e1",
   "metadata": {},
   "outputs": [],
   "source": [
    "get_user_resolver = requests.get(\n",
    "    fairscape_host + '/' + testing_user_metadata.get(\"@id\")\n",
    ")\n",
    "\n",
    "print(get_user_resolver.status_code)\n",
    "print(get_user_resolver.content)"
   ]
  },
  {
   "cell_type": "code",
   "execution_count": null,
   "id": "6afd2eaa-ba01-4444-a291-4369ff7eff9b",
   "metadata": {},
   "outputs": [],
   "source": []
  }
 ],
 "metadata": {
  "kernelspec": {
   "display_name": "Python 3 (ipykernel)",
   "language": "python",
   "name": "python3"
  },
  "language_info": {
   "codemirror_mode": {
    "name": "ipython",
    "version": 3
   },
   "file_extension": ".py",
   "mimetype": "text/x-python",
   "name": "python",
   "nbconvert_exporter": "python",
   "pygments_lexer": "ipython3",
   "version": "3.12.1"
  }
 },
 "nbformat": 4,
 "nbformat_minor": 5
}
