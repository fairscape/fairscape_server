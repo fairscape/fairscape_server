{
 "cells": [
  {
   "cell_type": "markdown",
   "metadata": {
    "collapsed": true,
    "jupyter": {
     "outputs_hidden": true
    },
    "pycharm": {
     "name": "#%% md\n"
    }
   },
   "source": [
    "# Testing compute service with a custom container"
   ]
  },
  {
   "cell_type": "code",
   "execution_count": null,
   "metadata": {},
   "outputs": [],
   "source": []
  },
  {
   "cell_type": "code",
   "execution_count": 113,
   "metadata": {
    "pycharm": {
     "name": "#%%\n"
    }
   },
   "outputs": [],
   "source": [
    "import json\n",
    "import requests\n",
    "\n",
    "root_url = \"http://localhost:8000/\""
   ]
  },
  {
   "cell_type": "markdown",
   "metadata": {
    "pycharm": {
     "name": "#%% md\n"
    }
   },
   "source": [
    "### Create a user"
   ]
  },
  {
   "cell_type": "code",
   "execution_count": 114,
   "metadata": {
    "pycharm": {
     "name": "#%%\n"
    }
   },
   "outputs": [
    {
     "data": {
      "text/plain": [
       "{'created': {'@id': 'ark:99999/test-user1',\n",
       "  '@type': 'Person',\n",
       "  'name': 'Test User1'}}"
      ]
     },
     "execution_count": 114,
     "metadata": {},
     "output_type": "execute_result"
    }
   ],
   "source": [
    "user1_data = {\n",
    "\t\"@id\": \"ark:99999/test-user1\",\n",
    "\t\"name\": \"Test User1\",\n",
    "\t\"type\": \"Person\",\n",
    "\t\"email\": \"testuser1@example.org\",\n",
    "\t\"password\": \"test1\",\n",
    "\t\"organizations\": [],\n",
    "\t\"projects\": [],\n",
    "\t\"datasets\": [],\n",
    "\t\"software\": [],\n",
    "\t\"computations\": [],\n",
    "\t\"evidencegraphs\": []\n",
    "\t}\n",
    "\n",
    "# create user1\n",
    "create_user1 = requests.post(root_url + \"user\", data=json.dumps(user1_data))\n",
    "create_user1.json()"
   ]
  },
  {
   "cell_type": "markdown",
   "metadata": {
    "pycharm": {
     "name": "#%% md\n"
    }
   },
   "source": [
    "### Create a Software"
   ]
  },
  {
   "cell_type": "code",
   "execution_count": 115,
   "metadata": {
    "pycharm": {
     "name": "#%%\n"
    }
   },
   "outputs": [
    {
     "data": {
      "text/plain": [
       "{'created': {'@id': 'ark:99999/test-software', '@type': 'evi:Software'}}"
      ]
     },
     "execution_count": 115,
     "metadata": {},
     "output_type": "execute_result"
    }
   ],
   "source": [
    "# create software\n",
    "software_data = {\n",
    "\t\"@id\": \"ark:99999/test-software\",\n",
    "\t\"@type\": \"evi:Software\",\n",
    "\t\"name\": \"test-software\",\n",
    "\t\"owner\": {\n",
    "\t\t\"@id\": \"ark:99999/test-user1\",\n",
    "\t\t\"@type\": \"Person\",\n",
    "\t\t\"name\": \"Test User1\",\n",
    "\t\t\"email\": \"testuser1@example.org\"\n",
    "\t\t}#,\n",
    "\t#\"author\": \"some author(s)\",\n",
    "    #\"downloadUrl\": \"some url\",\n",
    "    #\"citation\": \"some citation\",\n",
    "\t#\"evi:usedBy\": []\n",
    "}\n",
    "\n",
    "software_create = requests.post(root_url + f\"software/\", data=json.dumps(software_data))\n",
    "software_create.json()"
   ]
  },
  {
   "cell_type": "markdown",
   "metadata": {
    "pycharm": {
     "name": "#%% md\n"
    }
   },
   "source": [
    "### Create a dataset"
   ]
  },
  {
   "cell_type": "code",
   "execution_count": 116,
   "metadata": {
    "pycharm": {
     "name": "#%%\n"
    }
   },
   "outputs": [
    {
     "data": {
      "text/plain": [
       "{'created': {'@id': 'ark:99999/test-dataset', '@type': 'evi:Dataset'}}"
      ]
     },
     "execution_count": 116,
     "metadata": {},
     "output_type": "execute_result"
    }
   ],
   "source": [
    "# create dataset\n",
    "dataset_data = {\n",
    "\t\"@id\": \"ark:99999/test-dataset\",\n",
    "\t\"@type\": \"evi:Dataset\",\n",
    "\t\"name\": \"test-dataset\",\n",
    "\t\"owner\": {\n",
    "\t\t\"@id\": \"ark:99999/test-user1\",\n",
    "\t\t\"@type\": \"Person\",\n",
    "\t\t\"name\": \"Test User1\",\n",
    "\t\t\"email\": \"testuser1@example.org\"\n",
    "\t\t}\n",
    "}\n",
    "\n",
    "dataset_create = requests.post(root_url + f\"dataset/\", data=json.dumps(dataset_data))\n",
    "dataset_create.json()"
   ]
  },
  {
   "cell_type": "markdown",
   "metadata": {
    "pycharm": {
     "name": "#%% md\n"
    }
   },
   "source": [
    "### Create metadata for the dataset to be uploaded"
   ]
  },
  {
   "cell_type": "code",
   "execution_count": 117,
   "metadata": {
    "pycharm": {
     "name": "#%%\n"
    }
   },
   "outputs": [
    {
     "data": {
      "text/plain": [
       "{'created': {'@id': 'ark:99999/test-download-dataset',\n",
       "  '@type': 'DataDownload',\n",
       "  'name': 'random_numbers.txt'}}"
      ]
     },
     "execution_count": 117,
     "metadata": {},
     "output_type": "execute_result"
    }
   ],
   "source": [
    "# create DataDownload metadata for a Dataset\n",
    "test_data_download_for_dataset = {\n",
    "\t\"@id\": \"ark:99999/test-download-dataset\",\n",
    "\t\"name\": \"random_numbers.txt\",\n",
    "\t\"@type\": \"DataDownload\",\n",
    "\t\"encodingFormat\": \".txt\",\n",
    "\t\"encodesCreativeWork\": dataset_data[\"@id\"]\n",
    "}\n",
    "\n",
    "data_download_create = requests.post(root_url + f\"datadownload\", data=json.dumps(test_data_download_for_dataset))\n",
    "data_download_create.json()"
   ]
  },
  {
   "cell_type": "markdown",
   "metadata": {
    "pycharm": {
     "name": "#%% md\n"
    }
   },
   "source": [
    "### Upload the dataset"
   ]
  },
  {
   "cell_type": "code",
   "execution_count": 118,
   "metadata": {
    "pycharm": {
     "name": "#%%\n"
    }
   },
   "outputs": [
    {
     "data": {
      "text/plain": [
       "{'updated': {'@id': 'ark:99999/test-download-dataset',\n",
       "  '@type': 'DataDownload',\n",
       "  'name': 'random_numbers.txt'}}"
      ]
     },
     "execution_count": 118,
     "metadata": {},
     "output_type": "execute_result"
    }
   ],
   "source": [
    "# upload a dataset to minio object store\n",
    "data_files = {'file': ('random_numbers.txt', '1\\n2\\n3\\n4\\n5')}\n",
    "data_download_upload = requests.post(root_url + f\"datadownload/ark:99999/test-download-dataset/upload\", files=data_files)\n",
    "data_download_upload.json()"
   ]
  },
  {
   "cell_type": "code",
   "execution_count": 119,
   "metadata": {
    "pycharm": {
     "name": "#%%\n"
    }
   },
   "outputs": [
    {
     "data": {
      "text/plain": [
       "'{\"@id\": \"ark:99999/test-download-dataset\", \"@type\": \"DataDownload\", \"contentSize\": \"9\", \"contentUrl\": \"test-dataset/random_numbers.txt\", \"sha256\": null, \"uploadDate\": \"2022-07-06T13:49:09+00:00\", \"version\": \"1.0\", \"@context\": {\"@vocab\": \"https://schema.org/\", \"evi\": \"https://w3id/EVI#\"}, \"name\": \"random_numbers.txt\", \"encodingFormat\": \".txt\", \"encodesCreativeWork\": {\"@id\": \"ark:99999/test-dataset\", \"@type\": \"evi:Dataset\", \"name\": \"test-dataset\"}}'"
      ]
     },
     "execution_count": 119,
     "metadata": {},
     "output_type": "execute_result"
    }
   ],
   "source": [
    "# read the DataDownload metadata for the dataset\n",
    "data_download_read = requests.get(root_url + f\"datadownload/ark:99999/test-download-dataset\")\n",
    "data_download_read.json()"
   ]
  },
  {
   "cell_type": "markdown",
   "metadata": {
    "pycharm": {
     "name": "#%% md\n"
    }
   },
   "source": [
    "### Create metadata for the script to be uploaded"
   ]
  },
  {
   "cell_type": "code",
   "execution_count": 120,
   "metadata": {
    "pycharm": {
     "name": "#%%\n"
    }
   },
   "outputs": [
    {
     "data": {
      "text/plain": [
       "{'created': {'@id': 'ark:99999/test-download-software',\n",
       "  '@type': 'DataDownload',\n",
       "  'name': 'sum_script.py'}}"
      ]
     },
     "execution_count": 120,
     "metadata": {},
     "output_type": "execute_result"
    }
   ],
   "source": [
    "# create DataDownload metadata for a Software\n",
    "test_data_download_for_software = {\n",
    "\t\"@id\": \"ark:99999/test-download-software\",\n",
    "\t\"name\": \"sum_script.py\",\n",
    "\t\"@type\": \"DataDownload\",\n",
    "\t\"encodingFormat\": \".py\",\n",
    "\t\"encodesCreativeWork\": software_data[\"@id\"]\n",
    "}\n",
    "\n",
    "data_download_create = requests.post(root_url + f\"datadownload\", data=json.dumps(test_data_download_for_software))\n",
    "data_download_create.json()"
   ]
  },
  {
   "cell_type": "markdown",
   "metadata": {
    "pycharm": {
     "name": "#%% md\n"
    }
   },
   "source": [
    "### Upload the script (Required: Create 'input-script' directory inside 'SOURCE_VOL' and store 'sum_script.py' for this operation)"
   ]
  },
  {
   "cell_type": "code",
   "execution_count": 121,
   "metadata": {
    "pycharm": {
     "name": "#%%\n"
    }
   },
   "outputs": [
    {
     "data": {
      "text/plain": [
       "{'updated': {'@id': 'ark:99999/test-download-software',\n",
       "  '@type': 'DataDownload',\n",
       "  'name': 'sum_script.py'}}"
      ]
     },
     "execution_count": 121,
     "metadata": {},
     "output_type": "execute_result"
    }
   ],
   "source": [
    "# upload a software to minio object store\n",
    "script_file = {'file': open('/home/sadnan/compute-test/input-script/sum_script.py', 'r')}\n",
    "data_download_upload = requests.post(root_url + f\"datadownload/ark:99999/test-download-software/upload\", files=script_file)\n",
    "data_download_upload.json()"
   ]
  },
  {
   "cell_type": "code",
   "execution_count": 122,
   "metadata": {
    "pycharm": {
     "name": "#%%\n"
    }
   },
   "outputs": [
    {
     "data": {
      "text/plain": [
       "'{\"@id\": \"ark:99999/test-download-software\", \"@type\": \"DataDownload\", \"contentSize\": \"610\", \"contentUrl\": \"test-software/sum_script.py\", \"sha256\": null, \"uploadDate\": \"2022-07-06T13:49:09+00:00\", \"version\": \"1.0\", \"@context\": {\"@vocab\": \"https://schema.org/\", \"evi\": \"https://w3id/EVI#\"}, \"name\": \"sum_script.py\", \"encodingFormat\": \".py\", \"encodesCreativeWork\": {\"@id\": \"ark:99999/test-software\", \"@type\": \"evi:Software\", \"name\": \"test-software\"}}'"
      ]
     },
     "execution_count": 122,
     "metadata": {},
     "output_type": "execute_result"
    }
   ],
   "source": [
    "# read the DataDownload metadata for the script\n",
    "data_download_read = requests.get(root_url + f\"datadownload/ark:99999/test-download-software\")\n",
    "data_download_read.json()"
   ]
  },
  {
   "cell_type": "markdown",
   "metadata": {
    "collapsed": false,
    "jupyter": {
     "outputs_hidden": false
    }
   },
   "source": [
    "### Create a Computation"
   ]
  },
  {
   "cell_type": "code",
   "execution_count": 123,
   "metadata": {
    "collapsed": false,
    "jupyter": {
     "outputs_hidden": false
    },
    "pycharm": {
     "name": "#%%\n"
    }
   },
   "outputs": [
    {
     "data": {
      "text/plain": [
       "{'created': {'@id': 'ark:99999/test-computation', '@type': 'evi:Computation'}}"
      ]
     },
     "execution_count": 123,
     "metadata": {},
     "output_type": "execute_result"
    }
   ],
   "source": [
    "# create computation\n",
    "computation_data = {\n",
    "\t\"@id\": \"ark:99999/test-computation\",\n",
    "\t\"@type\": \"evi:Computation\",\n",
    "\t\"name\": \"test computation\",\n",
    "\t\"owner\": {\n",
    "\t\t\"@id\": \"ark:99999/test-user1\",\n",
    "\t\t\"@type\": \"Person\",\n",
    "\t\t\"name\": \"Test User1\",\n",
    "\t\t\"email\": \"testuser1@example.org\"\n",
    "\t\t},\n",
    "\t# \"author\" : \"\",\n",
    "    # \"dateCreated\" : \"\",\n",
    "    # \"dateFinished\" : \"\",\n",
    "    # \"associatedWith\" : [],\n",
    "\t\"container\": \"python:alpine\",\n",
    "    \"usedSoftware\" : \"ark:99999/test-software\",\n",
    "    \"usedDataset\" : \"ark:99999/test-dataset\",\n",
    "\t\"containerId\": \"\"\n",
    "}\n",
    "\n",
    "computation_create = requests.post(root_url + f\"computation/\", data=json.dumps(computation_data))\n",
    "computation_create.json()"
   ]
  },
  {
   "cell_type": "markdown",
   "metadata": {
    "collapsed": false,
    "jupyter": {
     "outputs_hidden": false
    },
    "pycharm": {
     "name": "#%% md\n"
    }
   },
   "source": [
    "### Read computation"
   ]
  },
  {
   "cell_type": "code",
   "execution_count": 124,
   "metadata": {
    "collapsed": false,
    "jupyter": {
     "outputs_hidden": false
    },
    "pycharm": {
     "name": "#%%\n"
    }
   },
   "outputs": [
    {
     "data": {
      "text/plain": [
       "{'@id': 'ark:99999/test-computation',\n",
       " '@type': 'evi:Computation',\n",
       " 'container': 'python:alpine',\n",
       " 'containerId': '',\n",
       " '@context': {'@vocab': 'https://schema.org/', 'evi': 'https://w3id.org/EVI#'},\n",
       " 'name': 'test computation',\n",
       " 'owner': {'@id': 'ark:99999/test-user1',\n",
       "  '@type': 'Person',\n",
       "  'name': 'Test User1',\n",
       "  'email': 'testuser1@example.org'},\n",
       " 'usedSoftware': 'ark:99999/test-software',\n",
       " 'usedDataset': 'ark:99999/test-dataset'}"
      ]
     },
     "execution_count": 124,
     "metadata": {},
     "output_type": "execute_result"
    }
   ],
   "source": [
    "# read specific computation\n",
    "get_computation = requests.get(root_url + f\"computation/{computation_data['@id']}\")\n",
    "get_computation.json()"
   ]
  },
  {
   "cell_type": "markdown",
   "metadata": {
    "pycharm": {
     "name": "#%% md\n"
    }
   },
   "source": [
    "# Perform computation by running the script on the dataset"
   ]
  },
  {
   "cell_type": "code",
   "execution_count": 125,
   "metadata": {
    "pycharm": {
     "name": "#%%\n"
    }
   },
   "outputs": [
    {
     "data": {
      "text/plain": [
       "{'message': 'launched container'}"
      ]
     },
     "execution_count": 125,
     "metadata": {},
     "output_type": "execute_result"
    }
   ],
   "source": [
    "# run the computation\n",
    "compute_run = requests.put(root_url + f\"computation/{computation_data['@id']}/execute\")\n",
    "compute_run.json()"
   ]
  },
  {
   "cell_type": "markdown",
   "metadata": {
    "pycharm": {
     "name": "#%% md\n"
    }
   },
   "source": []
  },
  {
   "cell_type": "code",
   "execution_count": 126,
   "metadata": {
    "pycharm": {
     "name": "#%%\n"
    }
   },
   "outputs": [
    {
     "data": {
      "text/plain": [
       "{'@id': 'ark:99999/test-computation',\n",
       " '@type': 'evi:Computation',\n",
       " 'container': 'python:alpine',\n",
       " 'containerId': 'fdc8446f78e9a98ab7f096fe9f565d21a60ed4f9366606655ece6d1accab7435',\n",
       " '@context': {'@vocab': 'https://schema.org/', 'evi': 'https://w3id.org/EVI#'},\n",
       " 'name': 'test computation',\n",
       " 'owner': {'@id': 'ark:99999/test-user1',\n",
       "  '@type': 'Person',\n",
       "  'name': 'Test User1',\n",
       "  'email': 'testuser1@example.org'},\n",
       " 'usedSoftware': 'ark:99999/test-software',\n",
       " 'usedDataset': 'ark:99999/test-dataset'}"
      ]
     },
     "execution_count": 126,
     "metadata": {},
     "output_type": "execute_result"
    }
   ],
   "source": [
    "get_computation = requests.get(root_url + f\"computation/ark:99999/test-computation\")\n",
    "get_computation.json()"
   ]
  },
  {
   "cell_type": "code",
   "execution_count": 126,
   "metadata": {
    "collapsed": false,
    "jupyter": {
     "outputs_hidden": false
    },
    "pycharm": {
     "name": "#%%\n"
    }
   },
   "outputs": [],
   "source": []
  }
 ],
 "metadata": {
  "kernelspec": {
   "display_name": "Python 3 (ipykernel)",
   "language": "python",
   "name": "python3"
  },
  "language_info": {
   "codemirror_mode": {
    "name": "ipython",
    "version": 3
   },
   "file_extension": ".py",
   "mimetype": "text/x-python",
   "name": "python",
   "nbconvert_exporter": "python",
   "pygments_lexer": "ipython3",
   "version": "3.10.4"
  },
  "vscode": {
   "interpreter": {
    "hash": "28b06ec166af8c83e5882731fef908354c2d57d9b46df793dcdb4efcedb4ca54"
   }
  }
 },
 "nbformat": 4,
 "nbformat_minor": 4
}
