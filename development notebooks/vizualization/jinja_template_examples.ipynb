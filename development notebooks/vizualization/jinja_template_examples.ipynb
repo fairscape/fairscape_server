{
 "cells": [
  {
   "cell_type": "markdown",
   "metadata": {},
   "source": [
    "## Set working directory for imports"
   ]
  },
  {
   "cell_type": "code",
   "execution_count": 1,
   "metadata": {},
   "outputs": [],
   "source": [
    "import json\n",
    "import requests\n",
    "import os\n",
    "\n",
    "#Set working directory to src on your machine\n",
    "os.chdir('/Users/justinniestroy-admin/Documents/Round2/Fairscape_Repos/mds_python/src')\n"
   ]
  },
  {
   "cell_type": "markdown",
   "metadata": {},
   "source": [
    "## Setup jinja env with function to autolabl links"
   ]
  },
  {
   "cell_type": "code",
   "execution_count": 9,
   "metadata": {},
   "outputs": [],
   "source": [
    "from jinja2 import Environment, FileSystemLoader\n",
    "from pydantic import BaseModel, Field\n",
    "from typing import List, Optional\n",
    "\n",
    "from fairscape_mds.mds.models.user import User\n",
    "from fairscape_mds.mds.models.fairscape_base import *\n",
    "\n",
    "# Set up the Jinja2 environment and load the template\n",
    "env = Environment(loader=FileSystemLoader('../'))\n",
    "\n",
    "import re\n",
    "\n",
    "\n",
    "FAIRSCAPE_URL = '\"https://fairscape.pods.uvarc.io/'\n",
    "def add_link(value):\n",
    "    \"\"\"For values that match ark or look like urls add a hyperlink\"\"\"\n",
    "    url_pattern = r'^(http|https)://[^\\s]+'\n",
    "    if re.match(IdentifierPattern, value):\n",
    "        return f'<a href={FAIRSCAPE_URL}{value}\">{value}</a>'\n",
    "    elif re.match(url_pattern, value):\n",
    "        return f'<a href=\"{value}\">{value}</a>'\n",
    "    return value\n",
    "\n",
    "env.filters['add_link'] = add_link\n",
    "\n",
    "\n"
   ]
  },
  {
   "cell_type": "markdown",
   "metadata": {},
   "source": [
    "## User Template"
   ]
  },
  {
   "cell_type": "code",
   "execution_count": 11,
   "metadata": {},
   "outputs": [],
   "source": [
    "# Create an instance of the User class with some data\n",
    "user = User(\n",
    "    guid = \"ark:99999/fake-user\",\n",
    "    name = 'fake user',\n",
    "    email=\"user@example.com\",\n",
    "    password=\"password123\",\n",
    "    organizations=[\"Org1\", \"Org2\"],\n",
    "    projects=[\"Project1\", \"Project2\"],\n",
    "    datasets=['ark:99999/fake-dataset', \"Dataset2\"],\n",
    "    rocrates=[\"ROCrate1\", \"ROCrate2\"],\n",
    "    software=['ark:99999/fake-software', \"Software2\"],\n",
    "    computations=[\"Computation1\", \"Computation2\"]\n",
    ")\n",
    "\n",
    "template = env.get_template('./development notebooks/vizualization/user_template.html')\n",
    "\n",
    "# Render the template with the user data\n",
    "rendered_html = template.render(user=user, json = json, type = 'User')\n",
    "\n",
    "# Print or save the rendered HTML\n",
    "with open('../development notebooks/vizualization/jinja_created/user_example.html', 'w') as f:\n",
    "    f.write(rendered_html)"
   ]
  },
  {
   "cell_type": "markdown",
   "metadata": {},
   "source": [
    "## Software Example"
   ]
  },
  {
   "cell_type": "code",
   "execution_count": 8,
   "metadata": {},
   "outputs": [],
   "source": [
    "from fairscape_mds.mds.models.software import Software\n",
    "sample_software = Software(\n",
    "    guid = 'ark:99999/fake-software',\n",
    "    name = 'Software Example',\n",
    "    description = 'Fake Software to show template working.',\n",
    "    owner=\"John Doe\",\n",
    "    distribution=[\"https://example.com/software/download\", \"https://example.com/software/mirror\"],\n",
    "    usedBy=['ark:99999/fake-software','ark:99999/fake-computation'],\n",
    "    sourceOrganization='ark:99999/fake-org',\n",
    "    includedInDataCatalog=\"ark:99999/fake-catalog\"\n",
    ")\n",
    "\n",
    "template = env.get_template('./development notebooks/vizualization/software_template.html')\n",
    "\n",
    "# Render the template with the user data\n",
    "rendered_html = template.render(software=sample_software, json = json, type = 'Software')\n",
    "\n",
    "# Print or save the rendered HTML\n",
    "with open('../development notebooks/vizualization/jinja_created/software_example.html', 'w') as f:\n",
    "    f.write(rendered_html)\n"
   ]
  },
  {
   "cell_type": "markdown",
   "metadata": {},
   "source": [
    "## Dataset Example"
   ]
  },
  {
   "cell_type": "code",
   "execution_count": 18,
   "metadata": {},
   "outputs": [],
   "source": [
    "from fairscape_mds.mds.models.dataset import Dataset\n",
    "sample_dataset = Dataset(\n",
    "    guid = 'ark:99999/fake-dataset',\n",
    "    metadataType = 'EVI:Dataset',\n",
    "    name = 'Fake Input Dataset Example',\n",
    "    description = 'Fake Input Dataset to show template working.',\n",
    "    owner=\"John Doe\",\n",
    "    author='Roy Kniestroy',\n",
    "    distribution=[\"https://example.com/data/download\", \"https://example.com/data/mirror\"],\n",
    "    usedBy=['ark:99999/fake-software','ark:99999/fake-computation'],\n",
    "    sourceOrganization='ark:99999/fake-org',\n",
    "    includedInDataCatalog=\"ark:99999/fake-catalog\"\n",
    ")\n",
    "\n",
    "template = env.get_template('./development notebooks/vizualization/dataset_template.html')\n",
    "\n",
    "# Render the template with the user data\n",
    "rendered_html = template.render(dataset=sample_dataset, \n",
    "                                json = json,\n",
    "                                type = 'Dataset',\n",
    "                                str = str)\n",
    "\n",
    "# Print or save the rendered HTML\n",
    "with open('../development notebooks/vizualization/jinja_created/dataset_example.html', 'w') as f:\n",
    "    f.write(rendered_html)\n"
   ]
  },
  {
   "cell_type": "markdown",
   "metadata": {},
   "source": [
    "## ROCrate Example"
   ]
  },
  {
   "cell_type": "code",
   "execution_count": null,
   "metadata": {},
   "outputs": [],
   "source": []
  }
 ],
 "metadata": {
  "kernelspec": {
   "display_name": "mds",
   "language": "python",
   "name": "python3"
  },
  "language_info": {
   "codemirror_mode": {
    "name": "ipython",
    "version": 3
   },
   "file_extension": ".py",
   "mimetype": "text/x-python",
   "name": "python",
   "nbconvert_exporter": "python",
   "pygments_lexer": "ipython3",
   "version": "3.8.19"
  }
 },
 "nbformat": 4,
 "nbformat_minor": 2
}
