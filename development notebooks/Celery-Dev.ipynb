{
 "cells": [
  {
   "cell_type": "code",
   "execution_count": 1,
   "id": "5e9bd224-9c95-4fec-823c-e13a47f82d29",
   "metadata": {},
   "outputs": [],
   "source": [
    "import os  \n",
    "import sys\n",
    "import pathlib\n",
    "\n",
    "repo_path = pathlib.Path('.').absolute().parent\n",
    "src_path = repo_path / 'src'\n",
    "\n",
    "sys.path.insert(0, str(src_path)) \n",
    "\n",
    "# synchronous testing for ro-crate upload\n",
    "import fairscape_mds.models.rocrate as fairscape_rocrate\n",
    "from fairscape_mds.config import get_fairscape_config\n",
    "from uuid import uuid4\n",
    "\n",
    "fairscapeConfig = get_fairscape_config()\n",
    "\n",
    "minioClient = fairscapeConfig.CreateMinioClient()\n",
    "mongoClient = fairscapeConfig.CreateMongoClient()\n",
    "\n",
    "# create mongo collection information\n",
    "mongoDB = mongoClient[fairscapeConfig.mongo.db]\n",
    "identifierCollection = mongoDB[fairscapeConfig.mongo.identifier_collection]\n",
    "rocrateCollection = mongoDB[fairscapeConfig.mongo.rocrate_collection]\n",
    "userCollection = mongoDB[fairscapeConfig.mongo.user_collection]"
   ]
  },
  {
   "cell_type": "code",
   "execution_count": 2,
   "id": "24a1b78b-5c1e-46e3-b4c1-b82af7fbe06c",
   "metadata": {},
   "outputs": [],
   "source": [
    "# import tasks for celery\n"
   ]
  },
  {
   "cell_type": "markdown",
   "id": "2cd5e7d4-dacf-4eba-b9bc-1aa60ea8da1b",
   "metadata": {},
   "source": [
    "## Peicewise Invokation"
   ]
  },
  {
   "cell_type": "markdown",
   "id": "5ed3b6f7-2909-46d3-8d34-ed440eaaa121",
   "metadata": {},
   "source": [
    "### Load a dataverse RO-Crate"
   ]
  },
  {
   "cell_type": "code",
   "execution_count": 94,
   "id": "0e610d65-fdba-4118-8ae1-21022a72aed4",
   "metadata": {},
   "outputs": [
    {
     "data": {
      "text/plain": [
       "PosixPath('/Users/mal8ch-admin/Box Sync/cm4ai-data/Dataverse-Uploaded/4.cm4ai_chromatin_mda-mb-468_untreated_hierarchy_initialrun0.1alpha.zip')"
      ]
     },
     "execution_count": 94,
     "metadata": {},
     "output_type": "execute_result"
    }
   ],
   "source": [
    "# load a zipped crate for usage for the test\n",
    "zipped_crates = list(pathlib.Path('/Users/mal8ch-admin/Box Sync/cm4ai-data/Dataverse-Uploaded/').glob('*.zip'))\n",
    "zipped_crates[0]"
   ]
  },
  {
   "cell_type": "code",
   "execution_count": null,
   "id": "afe7291e-7dc6-4389-9693-ae94d790e30d",
   "metadata": {},
   "outputs": [],
   "source": [
    "\n",
    "# uploading crate '4.cm4ai_chromatin_mda-mb-468_untreated_hierarchy_initialrun0.1alpha.zip'\n",
    "zippedObjectFilename = zipped_crates[0].stem"
   ]
  },
  {
   "cell_type": "code",
   "execution_count": 16,
   "id": "3fca89f4-b339-4b9e-bb7e-052de2f6b483",
   "metadata": {},
   "outputs": [],
   "source": [
    "transactionUUID = uuid4()"
   ]
  },
  {
   "cell_type": "markdown",
   "id": "0c1ace3d-1658-4f67-9d3f-88276a0a80cf",
   "metadata": {
    "jp-MarkdownHeadingCollapsed": true
   },
   "source": [
    "### Upload Zipped Crate to Minio"
   ]
  },
  {
   "cell_type": "code",
   "execution_count": 99,
   "id": "29375225-79f2-4022-a3f2-9a09e7bccf6b",
   "metadata": {},
   "outputs": [],
   "source": [
    "with zipped_crates[0].open('rb') as zipFileInstance:\n",
    "    zipContent = zipFileInstance.read()"
   ]
  },
  {
   "cell_type": "code",
   "execution_count": 102,
   "id": "c07f1716-ac55-42f4-a04c-4b8c532cec68",
   "metadata": {},
   "outputs": [
    {
     "name": "stdout",
     "output_type": "stream",
     "text": [
      "DEBUG:urllib3.connectionpool:http://localhost:9000 \"PUT /rocrate/5f501ede-82af-4623-9b10-c7e573c0840d/4.cm4ai_chromatin_mda-mb-468_untreated_hierarchy_initialrun0.1alpha HTTP/1.1\" 200 0\n",
      "INFO:rocrate:UploadZippedCrate\ttransaction=5f501ede-82af-4623-9b10-c7e573c0840d\tmessage='Uploaded Zipped Crate Minio'\tobject_name='5f501ede-82af-4623-9b10-c7e573c0840d/4.cm4ai_chromatin_mda-mb-468_untreated_hierarchy_initialrun0.1alpha\t' object_etag='90fe0fe2febade46e51439e9fc4d1b75'\n"
     ]
    }
   ],
   "source": [
    "# must wrap byte content in a io.BytesIO for uploading\n",
    "upload_output = fairscape_rocrate.UploadZippedCrate(\n",
    "    minioClient,\n",
    "    io.BytesIO(zipContent),\n",
    "    fairscapeConfig.minio.rocrate_bucket,\n",
    "    transactionUUID,\n",
    "    zippedObjectFilename\n",
    ")"
   ]
  },
  {
   "cell_type": "code",
   "execution_count": 4,
   "id": "d26324f8-15eb-4a67-b5fa-2f5a33f74444",
   "metadata": {},
   "outputs": [
    {
     "ename": "NameError",
     "evalue": "name 'upload_output' is not defined",
     "output_type": "error",
     "traceback": [
      "\u001b[0;31m---------------------------------------------------------------------------\u001b[0m",
      "\u001b[0;31mNameError\u001b[0m                                 Traceback (most recent call last)",
      "Cell \u001b[0;32mIn[4], line 1\u001b[0m\n\u001b[0;32m----> 1\u001b[0m \u001b[43mupload_output\u001b[49m[\u001b[38;5;241m1\u001b[39m]\n",
      "\u001b[0;31mNameError\u001b[0m: name 'upload_output' is not defined"
     ]
    }
   ],
   "source": [
    "upload_output[0].success"
   ]
  },
  {
   "cell_type": "code",
   "execution_count": 6,
   "id": "c794378c-2785-42c1-a18b-e91788d3902b",
   "metadata": {},
   "outputs": [
    {
     "data": {
      "text/plain": [
       "'4.cm4ai_chromatin_mda-mb-468_untreated_hierarchy_initialrun0.1alpha'"
      ]
     },
     "execution_count": 6,
     "metadata": {},
     "output_type": "execute_result"
    }
   ],
   "source": [
    "pathlib.Path('5f501ede-82af-4623-9b10-c7e573c0840d/4.cm4ai_chromatin_mda-mb-468_untreated_hierarchy_initialrun0.1alpha').name"
   ]
  },
  {
   "cell_type": "code",
   "execution_count": 36,
   "id": "2da80b80-5268-4cf9-8f73-97a87b91d11b",
   "metadata": {},
   "outputs": [],
   "source": [
    "transactionFolder = str(upload_output[1].parent)"
   ]
  },
  {
   "cell_type": "code",
   "execution_count": 33,
   "id": "5574ad65-e6cf-46bc-a778-165338c8d2d9",
   "metadata": {},
   "outputs": [],
   "source": [
    "import minio"
   ]
  },
  {
   "cell_type": "markdown",
   "id": "ccb70b84-840b-4045-94f1-405a6ef0d57a",
   "metadata": {
    "jp-MarkdownHeadingCollapsed": true
   },
   "source": [
    "#### Minio Response\n",
    "\n",
    "Returns a `urllib3.response.HTTPResponse` which can be read from for the unzip operation"
   ]
  },
  {
   "cell_type": "code",
   "execution_count": 10,
   "id": "5c22f989-68f9-4b45-8efe-0141e81445fb",
   "metadata": {},
   "outputs": [
    {
     "name": "stdout",
     "output_type": "stream",
     "text": [
      "DEBUG:urllib3.connectionpool:Starting new HTTP connection (1): localhost:9000\n",
      "DEBUG:urllib3.connectionpool:http://localhost:9000 \"GET /rocrate?location= HTTP/1.1\" 200 0\n",
      "DEBUG:urllib3.connectionpool:http://localhost:9000 \"GET /rocrate/5f501ede-82af-4623-9b10-c7e573c0840d/1.cm4ai_chromatin_mda-mb-468_untreated_apmsloader_initialrun0.1alpha.zip HTTP/1.1\" 404 539\n"
     ]
    },
    {
     "ename": "NameError",
     "evalue": "name 'response' is not defined",
     "output_type": "error",
     "traceback": [
      "\u001b[0;31m---------------------------------------------------------------------------\u001b[0m",
      "\u001b[0;31mS3Error\u001b[0m                                   Traceback (most recent call last)",
      "Cell \u001b[0;32mIn[10], line 2\u001b[0m\n\u001b[1;32m      1\u001b[0m \u001b[38;5;28;01mtry\u001b[39;00m:\n\u001b[0;32m----> 2\u001b[0m     response \u001b[38;5;241m=\u001b[39m \u001b[43mminioClient\u001b[49m\u001b[38;5;241;43m.\u001b[39;49m\u001b[43mget_object\u001b[49m\u001b[43m(\u001b[49m\n\u001b[1;32m      3\u001b[0m \u001b[43m            \u001b[49m\u001b[38;5;124;43m\"\u001b[39;49m\u001b[38;5;124;43mrocrate\u001b[39;49m\u001b[38;5;124;43m\"\u001b[39;49m\u001b[43m,\u001b[49m\n\u001b[1;32m      4\u001b[0m \u001b[43m            \u001b[49m\u001b[38;5;124;43m'\u001b[39;49m\u001b[38;5;124;43m5f501ede-82af-4623-9b10-c7e573c0840d/1.cm4ai_chromatin_mda-mb-468_untreated_apmsloader_initialrun0.1alpha.zip\u001b[39;49m\u001b[38;5;124;43m'\u001b[39;49m\n\u001b[1;32m      5\u001b[0m \u001b[43m    \u001b[49m\u001b[43m)\u001b[49m\n\u001b[1;32m      6\u001b[0m     zippedContent \u001b[38;5;241m=\u001b[39m response\u001b[38;5;241m.\u001b[39mread()\n",
      "File \u001b[0;32m~/fairscape/mds_env/lib/python3.12/site-packages/minio/api.py:1244\u001b[0m, in \u001b[0;36mMinio.get_object\u001b[0;34m(self, bucket_name, object_name, offset, length, request_headers, ssec, version_id, extra_query_params)\u001b[0m\n\u001b[1;32m   1242\u001b[0m     extra_query_params[\u001b[38;5;124m\"\u001b[39m\u001b[38;5;124mversionId\u001b[39m\u001b[38;5;124m\"\u001b[39m] \u001b[38;5;241m=\u001b[39m version_id\n\u001b[0;32m-> 1244\u001b[0m \u001b[38;5;28;01mreturn\u001b[39;00m \u001b[38;5;28;43mself\u001b[39;49m\u001b[38;5;241;43m.\u001b[39;49m\u001b[43m_execute\u001b[49m\u001b[43m(\u001b[49m\n\u001b[1;32m   1245\u001b[0m \u001b[43m    \u001b[49m\u001b[38;5;124;43m\"\u001b[39;49m\u001b[38;5;124;43mGET\u001b[39;49m\u001b[38;5;124;43m\"\u001b[39;49m\u001b[43m,\u001b[49m\n\u001b[1;32m   1246\u001b[0m \u001b[43m    \u001b[49m\u001b[43mbucket_name\u001b[49m\u001b[43m,\u001b[49m\n\u001b[1;32m   1247\u001b[0m \u001b[43m    \u001b[49m\u001b[43mobject_name\u001b[49m\u001b[43m,\u001b[49m\n\u001b[1;32m   1248\u001b[0m \u001b[43m    \u001b[49m\u001b[43mheaders\u001b[49m\u001b[38;5;241;43m=\u001b[39;49m\u001b[43mcast\u001b[49m\u001b[43m(\u001b[49m\u001b[43mDictType\u001b[49m\u001b[43m,\u001b[49m\u001b[43m \u001b[49m\u001b[43mheaders\u001b[49m\u001b[43m)\u001b[49m\u001b[43m,\u001b[49m\n\u001b[1;32m   1249\u001b[0m \u001b[43m    \u001b[49m\u001b[43mquery_params\u001b[49m\u001b[38;5;241;43m=\u001b[39;49m\u001b[43mextra_query_params\u001b[49m\u001b[43m,\u001b[49m\n\u001b[1;32m   1250\u001b[0m \u001b[43m    \u001b[49m\u001b[43mpreload_content\u001b[49m\u001b[38;5;241;43m=\u001b[39;49m\u001b[38;5;28;43;01mFalse\u001b[39;49;00m\u001b[43m,\u001b[49m\n\u001b[1;32m   1251\u001b[0m \u001b[43m\u001b[49m\u001b[43m)\u001b[49m\n",
      "File \u001b[0;32m~/fairscape/mds_env/lib/python3.12/site-packages/minio/api.py:440\u001b[0m, in \u001b[0;36mMinio._execute\u001b[0;34m(self, method, bucket_name, object_name, body, headers, query_params, preload_content, no_body_trace)\u001b[0m\n\u001b[1;32m    439\u001b[0m \u001b[38;5;28;01mtry\u001b[39;00m:\n\u001b[0;32m--> 440\u001b[0m     \u001b[38;5;28;01mreturn\u001b[39;00m \u001b[38;5;28;43mself\u001b[39;49m\u001b[38;5;241;43m.\u001b[39;49m\u001b[43m_url_open\u001b[49m\u001b[43m(\u001b[49m\n\u001b[1;32m    441\u001b[0m \u001b[43m        \u001b[49m\u001b[43mmethod\u001b[49m\u001b[43m,\u001b[49m\n\u001b[1;32m    442\u001b[0m \u001b[43m        \u001b[49m\u001b[43mregion\u001b[49m\u001b[43m,\u001b[49m\n\u001b[1;32m    443\u001b[0m \u001b[43m        \u001b[49m\u001b[43mbucket_name\u001b[49m\u001b[38;5;241;43m=\u001b[39;49m\u001b[43mbucket_name\u001b[49m\u001b[43m,\u001b[49m\n\u001b[1;32m    444\u001b[0m \u001b[43m        \u001b[49m\u001b[43mobject_name\u001b[49m\u001b[38;5;241;43m=\u001b[39;49m\u001b[43mobject_name\u001b[49m\u001b[43m,\u001b[49m\n\u001b[1;32m    445\u001b[0m \u001b[43m        \u001b[49m\u001b[43mbody\u001b[49m\u001b[38;5;241;43m=\u001b[39;49m\u001b[43mbody\u001b[49m\u001b[43m,\u001b[49m\n\u001b[1;32m    446\u001b[0m \u001b[43m        \u001b[49m\u001b[43mheaders\u001b[49m\u001b[38;5;241;43m=\u001b[39;49m\u001b[43mheaders\u001b[49m\u001b[43m,\u001b[49m\n\u001b[1;32m    447\u001b[0m \u001b[43m        \u001b[49m\u001b[43mquery_params\u001b[49m\u001b[38;5;241;43m=\u001b[39;49m\u001b[43mquery_params\u001b[49m\u001b[43m,\u001b[49m\n\u001b[1;32m    448\u001b[0m \u001b[43m        \u001b[49m\u001b[43mpreload_content\u001b[49m\u001b[38;5;241;43m=\u001b[39;49m\u001b[43mpreload_content\u001b[49m\u001b[43m,\u001b[49m\n\u001b[1;32m    449\u001b[0m \u001b[43m        \u001b[49m\u001b[43mno_body_trace\u001b[49m\u001b[38;5;241;43m=\u001b[39;49m\u001b[43mno_body_trace\u001b[49m\u001b[43m,\u001b[49m\n\u001b[1;32m    450\u001b[0m \u001b[43m    \u001b[49m\u001b[43m)\u001b[49m\n\u001b[1;32m    451\u001b[0m \u001b[38;5;28;01mexcept\u001b[39;00m S3Error \u001b[38;5;28;01mas\u001b[39;00m exc:\n",
      "File \u001b[0;32m~/fairscape/mds_env/lib/python3.12/site-packages/minio/api.py:423\u001b[0m, in \u001b[0;36mMinio._url_open\u001b[0;34m(self, method, region, bucket_name, object_name, body, headers, query_params, preload_content, no_body_trace)\u001b[0m\n\u001b[1;32m    421\u001b[0m         \u001b[38;5;28mself\u001b[39m\u001b[38;5;241m.\u001b[39m_region_map\u001b[38;5;241m.\u001b[39mpop(bucket_name, \u001b[38;5;28;01mNone\u001b[39;00m)\n\u001b[0;32m--> 423\u001b[0m \u001b[38;5;28;01mraise\u001b[39;00m response_error\n",
      "\u001b[0;31mS3Error\u001b[0m: S3 operation failed; code: NoSuchKey, message: The specified key does not exist., resource: /rocrate/5f501ede-82af-4623-9b10-c7e573c0840d/1.cm4ai_chromatin_mda-mb-468_untreated_apmsloader_initialrun0.1alpha.zip, request_id: 17D4475FFE44ADDC, host_id: dd9025bab4ad464b049177c95eb6ebf374d3b3fd1af9251148b658df7ac2e3e8, bucket_name: rocrate, object_name: 5f501ede-82af-4623-9b10-c7e573c0840d/1.cm4ai_chromatin_mda-mb-468_untreated_apmsloader_initialrun0.1alpha.zip",
      "\nDuring handling of the above exception, another exception occurred:\n",
      "\u001b[0;31mNameError\u001b[0m                                 Traceback (most recent call last)",
      "Cell \u001b[0;32mIn[10], line 15\u001b[0m\n\u001b[1;32m      6\u001b[0m     zippedContent \u001b[38;5;241m=\u001b[39m response\u001b[38;5;241m.\u001b[39mread()\n\u001b[1;32m      7\u001b[0m     \u001b[38;5;66;03m#extractStatus = fairscape_rocrate.UploadExtractedCrate(\u001b[39;00m\n\u001b[1;32m      8\u001b[0m     \u001b[38;5;66;03m#    minioClient, \u001b[39;00m\n\u001b[1;32m      9\u001b[0m     \u001b[38;5;66;03m#    zippedContent, \u001b[39;00m\n\u001b[0;32m   (...)\u001b[0m\n\u001b[1;32m     13\u001b[0m     \u001b[38;5;66;03m#)\u001b[39;00m\n\u001b[1;32m     14\u001b[0m \u001b[38;5;28;01mfinally\u001b[39;00m:\n\u001b[0;32m---> 15\u001b[0m     \u001b[43mresponse\u001b[49m\u001b[38;5;241m.\u001b[39mclose()\n\u001b[1;32m     16\u001b[0m     response\u001b[38;5;241m.\u001b[39mrelease_conn()\n",
      "\u001b[0;31mNameError\u001b[0m: name 'response' is not defined"
     ]
    }
   ],
   "source": [
    "try:\n",
    "    response = minioClient.get_object(\n",
    "            \"rocrate\",\n",
    "            '5f501ede-82af-4623-9b10-c7e573c0840d/1.cm4ai_chromatin_mda-mb-468_untreated_apmsloader_initialrun0.1alpha.zip'\n",
    "    )\n",
    "    zippedContent = response.read()\n",
    "    #extractStatus = fairscape_rocrate.UploadExtractedCrate(\n",
    "    #    minioClient, \n",
    "    #    zippedContent, \n",
    "    #    response,\n",
    "    #    fairscapeConfig.minio.default_bucket, \n",
    "    #    transactionFolder\n",
    "    #)\n",
    "finally:\n",
    "    response.close()\n",
    "    response.release_conn()\n",
    "            "
   ]
  },
  {
   "cell_type": "code",
   "execution_count": 83,
   "id": "7cd8dca0-3600-4584-9760-814463cbf8ca",
   "metadata": {},
   "outputs": [
    {
     "data": {
      "text/plain": [
       "b'PK\\x03\\x04\\x14\\x00\\x00\\x00\\x00\\x00'"
      ]
     },
     "execution_count": 83,
     "metadata": {},
     "output_type": "execute_result"
    }
   ],
   "source": [
    "# check first 10 bytes\n",
    "zippedContent[0:10]"
   ]
  },
  {
   "cell_type": "code",
   "execution_count": 68,
   "id": "fa41860b-ffdc-48de-9b1a-8d47152d502d",
   "metadata": {},
   "outputs": [],
   "source": [
    "import zipfile\n",
    "import io"
   ]
  },
  {
   "cell_type": "code",
   "execution_count": null,
   "id": "2d62dcf3-f972-4484-aae0-91d3ca52cad1",
   "metadata": {},
   "outputs": [],
   "source": [
    "# implementing main loop of upload extract crate"
   ]
  },
  {
   "cell_type": "code",
   "execution_count": 85,
   "id": "cc5046c9-68b3-46c8-9897-0997c1c62194",
   "metadata": {},
   "outputs": [],
   "source": [
    "zipInstance = zipfile.ZipFile(io.BytesIO(zippedContent), \"r\")"
   ]
  },
  {
   "cell_type": "code",
   "execution_count": 87,
   "id": "4da5e6c9-d17f-4d3b-8962-00122c82e213",
   "metadata": {},
   "outputs": [
    {
     "data": {
      "text/plain": [
       "[<ZipInfo filename='1.cm4ai_chromatin_mda-mb-468_untreated_apmsloader_initialrun0.1alpha/error.log' compress_type=deflate filemode='-rw-r--r--' file_size=1237 compress_size=225>,\n",
       " <ZipInfo filename='1.cm4ai_chromatin_mda-mb-468_untreated_apmsloader_initialrun0.1alpha/output.log' compress_type=deflate filemode='-rw-r--r--' file_size=10584 compress_size=1897>,\n",
       " <ZipInfo filename='__MACOSX/1.cm4ai_chromatin_mda-mb-468_untreated_apmsloader_initialrun0.1alpha/._output.log' compress_type=deflate filemode='-rw-r--r--' file_size=176 compress_size=92>,\n",
       " <ZipInfo filename='1.cm4ai_chromatin_mda-mb-468_untreated_apmsloader_initialrun0.1alpha/ppi_gene_node_attributes.tsv' compress_type=deflate filemode='-rw-r--r--' file_size=55182 compress_size=12487>,\n",
       " <ZipInfo filename='__MACOSX/1.cm4ai_chromatin_mda-mb-468_untreated_apmsloader_initialrun0.1alpha/._ppi_gene_node_attributes.tsv' compress_type=deflate filemode='-rw-r--r--' file_size=233 compress_size=140>,\n",
       " <ZipInfo filename='1.cm4ai_chromatin_mda-mb-468_untreated_apmsloader_initialrun0.1alpha/ppi_gene_node_attributes.errors' filemode='-rw-r--r--' file_size=0>,\n",
       " <ZipInfo filename='1.cm4ai_chromatin_mda-mb-468_untreated_apmsloader_initialrun0.1alpha/ro-crate-metadata.json' compress_type=deflate filemode='-rw-r--r--' file_size=10530 compress_size=2100>,\n",
       " <ZipInfo filename='1.cm4ai_chromatin_mda-mb-468_untreated_apmsloader_initialrun0.1alpha/task_1693531442_finish.json' compress_type=deflate filemode='-rw-r--r--' file_size=66 compress_size=53>,\n",
       " <ZipInfo filename='1.cm4ai_chromatin_mda-mb-468_untreated_apmsloader_initialrun0.1alpha/task_1693531442_start.json' compress_type=deflate filemode='-rw-r--r--' file_size=1368 compress_size=587>,\n",
       " <ZipInfo filename='1.cm4ai_chromatin_mda-mb-468_untreated_apmsloader_initialrun0.1alpha/ppi_edgelist.tsv' compress_type=deflate filemode='-rw-r--r--' file_size=42994 compress_size=11469>]"
      ]
     },
     "execution_count": 87,
     "metadata": {},
     "output_type": "execute_result"
    }
   ],
   "source": [
    "zipInstance.infolist()[1::]"
   ]
  },
  {
   "cell_type": "code",
   "execution_count": 88,
   "id": "e5b2d1a6-f6f2-4e55-b89a-ed64ef817cc5",
   "metadata": {},
   "outputs": [
    {
     "name": "stdout",
     "output_type": "stream",
     "text": [
      "DEBUG:urllib3.connectionpool:Resetting dropped connection: localhost\n",
      "DEBUG:urllib3.connectionpool:http://localhost:9000 \"PUT /default/5f501ede-82af-4623-9b10-c7e573c0840d/1.cm4ai_chromatin_mda-mb-468_untreated_apmsloader_initialrun0.1alpha/error.log HTTP/1.1\" 200 0\n",
      "DEBUG:urllib3.connectionpool:http://localhost:9000 \"PUT /default/5f501ede-82af-4623-9b10-c7e573c0840d/1.cm4ai_chromatin_mda-mb-468_untreated_apmsloader_initialrun0.1alpha/output.log HTTP/1.1\" 200 0\n",
      "DEBUG:urllib3.connectionpool:http://localhost:9000 \"PUT /default/5f501ede-82af-4623-9b10-c7e573c0840d/__MACOSX/1.cm4ai_chromatin_mda-mb-468_untreated_apmsloader_initialrun0.1alpha/._output.log HTTP/1.1\" 200 0\n",
      "DEBUG:urllib3.connectionpool:http://localhost:9000 \"PUT /default/5f501ede-82af-4623-9b10-c7e573c0840d/1.cm4ai_chromatin_mda-mb-468_untreated_apmsloader_initialrun0.1alpha/ppi_gene_node_attributes.tsv HTTP/1.1\" 200 0\n",
      "DEBUG:urllib3.connectionpool:http://localhost:9000 \"PUT /default/5f501ede-82af-4623-9b10-c7e573c0840d/__MACOSX/1.cm4ai_chromatin_mda-mb-468_untreated_apmsloader_initialrun0.1alpha/._ppi_gene_node_attributes.tsv HTTP/1.1\" 200 0\n",
      "DEBUG:urllib3.connectionpool:http://localhost:9000 \"PUT /default/5f501ede-82af-4623-9b10-c7e573c0840d/1.cm4ai_chromatin_mda-mb-468_untreated_apmsloader_initialrun0.1alpha/ppi_gene_node_attributes.errors HTTP/1.1\" 200 0\n",
      "DEBUG:urllib3.connectionpool:http://localhost:9000 \"PUT /default/5f501ede-82af-4623-9b10-c7e573c0840d/1.cm4ai_chromatin_mda-mb-468_untreated_apmsloader_initialrun0.1alpha/ro-crate-metadata.json HTTP/1.1\" 200 0\n",
      "DEBUG:urllib3.connectionpool:http://localhost:9000 \"PUT /default/5f501ede-82af-4623-9b10-c7e573c0840d/1.cm4ai_chromatin_mda-mb-468_untreated_apmsloader_initialrun0.1alpha/task_1693531442_finish.json HTTP/1.1\" 200 0\n",
      "DEBUG:urllib3.connectionpool:http://localhost:9000 \"PUT /default/5f501ede-82af-4623-9b10-c7e573c0840d/1.cm4ai_chromatin_mda-mb-468_untreated_apmsloader_initialrun0.1alpha/task_1693531442_start.json HTTP/1.1\" 200 0\n",
      "DEBUG:urllib3.connectionpool:http://localhost:9000 \"PUT /default/5f501ede-82af-4623-9b10-c7e573c0840d/1.cm4ai_chromatin_mda-mb-468_untreated_apmsloader_initialrun0.1alpha/ppi_edgelist.tsv HTTP/1.1\" 200 0\n"
     ]
    }
   ],
   "source": [
    "# debugging upload zip\n",
    "try:\n",
    "    with zipfile.ZipFile(io.BytesIO(zippedContent), \"r\") as zip_file:\n",
    "        for file_info in zip_file.infolist()[1::]:\n",
    "            file_contents = zip_file.read(file_info.filename)\n",
    "\n",
    "            # TODO the source filepath will not start at the root of the rocrate\n",
    "            # but rather the full passed filename\n",
    "            source_filepath = pathlib.Path(file_info.filename)\n",
    "\n",
    "            # TODO file_info.filename can be \n",
    "            # Extracted/1.cm4ai_chromatin_mda-mb-468_untreated_imageloader_initialrun0.1alpha/ro-crate-metadata.json\n",
    "            # this causes the GetROCrateMetadata function to fail later on becaues it looks only in\n",
    "            # 1.cm4ai_chromatin_mda-mb-468_untreated_imageloader_initialrun0.1alpha/ \n",
    "\n",
    "            upload_filepath = pathlib.Path(transactionFolder) / source_filepath\n",
    "\n",
    "            upload_result = minioClient.put_object(\n",
    "                bucket_name= fairscapeConfig.minio.default_bucket, \n",
    "                object_name=str(upload_filepath), \n",
    "                data=io.BytesIO(file_contents), \n",
    "                length=len(file_contents)\n",
    "            )\n",
    "except Exception as e:\n",
    "    print(e)\n"
   ]
  },
  {
   "cell_type": "code",
   "execution_count": 46,
   "id": "cce617c4-b0d6-401e-b9bd-76e3f78b5ea8",
   "metadata": {},
   "outputs": [],
   "source": [
    "extractStatus = fairscape_rocrate.UploadExtractedCrate(\n",
    "    minioClient, \n",
    "    zippedContent, \n",
    "    fairscapeConfig.minio.default_bucket, \n",
    "    transactionFolder\n",
    ")"
   ]
  },
  {
   "cell_type": "code",
   "execution_count": 81,
   "id": "38aab4a5-192a-4302-aad9-cee4f878fe31",
   "metadata": {},
   "outputs": [
    {
     "data": {
      "text/plain": [
       "'5f501ede-82af-4623-9b10-c7e573c0840d'"
      ]
     },
     "execution_count": 81,
     "metadata": {},
     "output_type": "execute_result"
    }
   ],
   "source": [
    "transactionFolder"
   ]
  },
  {
   "cell_type": "code",
   "execution_count": 104,
   "id": "975f1596-0b45-4900-a77e-1060b1ea9380",
   "metadata": {},
   "outputs": [
    {
     "data": {
      "text/plain": [
       "'Success: True\\tMessage: \\tStatusCode: 200'"
      ]
     },
     "execution_count": 104,
     "metadata": {},
     "output_type": "execute_result"
    }
   ],
   "source": [
    "str(extractStatus[0])"
   ]
  },
  {
   "cell_type": "code",
   "execution_count": 107,
   "id": "0f968580-c86a-4b07-8f9b-c99d9c2d705c",
   "metadata": {},
   "outputs": [
    {
     "data": {
      "text/plain": [
       "['5f501ede-82af-4623-9b10-c7e573c0840d/3.cm4ai_chromatin_mda-mb-468_untreated_coembedfold1_initialrun0.1alpha',\n",
       " '5f501ede-82af-4623-9b10-c7e573c0840d/3.cm4ai_chromatin_mda-mb-468_untreated_coembedfold1_initialrun0.1alpha/muse_latent.txt',\n",
       " '5f501ede-82af-4623-9b10-c7e573c0840d/3.cm4ai_chromatin_mda-mb-468_untreated_coembedfold1_initialrun0.1alpha/muse_latent_x.txt',\n",
       " '5f501ede-82af-4623-9b10-c7e573c0840d/3.cm4ai_chromatin_mda-mb-468_untreated_coembedfold1_initialrun0.1alpha/muse_latent_y.txt',\n",
       " '5f501ede-82af-4623-9b10-c7e573c0840d/3.cm4ai_chromatin_mda-mb-468_untreated_coembedfold1_initialrun0.1alpha/error.log',\n",
       " '5f501ede-82af-4623-9b10-c7e573c0840d/3.cm4ai_chromatin_mda-mb-468_untreated_coembedfold1_initialrun0.1alpha/task_1693531560_start.json',\n",
       " '5f501ede-82af-4623-9b10-c7e573c0840d/3.cm4ai_chromatin_mda-mb-468_untreated_coembedfold1_initialrun0.1alpha/output.log',\n",
       " '5f501ede-82af-4623-9b10-c7e573c0840d/3.cm4ai_chromatin_mda-mb-468_untreated_coembedfold1_initialrun0.1alpha/task_1693531560_finish.json',\n",
       " '5f501ede-82af-4623-9b10-c7e573c0840d/3.cm4ai_chromatin_mda-mb-468_untreated_coembedfold1_initialrun0.1alpha/muse.pth',\n",
       " '5f501ede-82af-4623-9b10-c7e573c0840d/3.cm4ai_chromatin_mda-mb-468_untreated_coembedfold1_initialrun0.1alpha/ro-crate-metadata.json',\n",
       " '5f501ede-82af-4623-9b10-c7e573c0840d/3.cm4ai_chromatin_mda-mb-468_untreated_coembedfold1_initialrun0.1alpha/muse_reconstruct_x.txt',\n",
       " '5f501ede-82af-4623-9b10-c7e573c0840d/3.cm4ai_chromatin_mda-mb-468_untreated_coembedfold1_initialrun0.1alpha/coembedding_emd.tsv',\n",
       " '5f501ede-82af-4623-9b10-c7e573c0840d/3.cm4ai_chromatin_mda-mb-468_untreated_coembedfold1_initialrun0.1alpha/muse_reconstruct_y.txt',\n",
       " '5f501ede-82af-4623-9b10-c7e573c0840d/3.cm4ai_chromatin_mda-mb-468_untreated_coembedfold1_initialrun0.1alpha/muse.txt']"
      ]
     },
     "execution_count": 107,
     "metadata": {},
     "output_type": "execute_result"
    }
   ],
   "source": [
    "extractStatus[1]"
   ]
  },
  {
   "cell_type": "code",
   "execution_count": 103,
   "id": "9a1405e5-9c3a-4d47-8c30-3666b78570f2",
   "metadata": {},
   "outputs": [
    {
     "name": "stdout",
     "output_type": "stream",
     "text": [
      "DEBUG:urllib3.connectionpool:Resetting dropped connection: localhost\n",
      "DEBUG:urllib3.connectionpool:http://localhost:9000 \"GET /default?delimiter=&encoding-type=url&list-type=2&max-keys=1000&prefix=5f501ede-82af-4623-9b10-c7e573c0840d HTTP/1.1\" 200 0\n",
      "5f501ede-82af-4623-9b10-c7e573c0840d/1.cm4ai_chromatin_mda-mb-468_untreated_apmsloader_initialrun0.1alpha/error.log\n",
      "5f501ede-82af-4623-9b10-c7e573c0840d/1.cm4ai_chromatin_mda-mb-468_untreated_apmsloader_initialrun0.1alpha/output.log\n",
      "5f501ede-82af-4623-9b10-c7e573c0840d/1.cm4ai_chromatin_mda-mb-468_untreated_apmsloader_initialrun0.1alpha/ppi_edgelist.tsv\n",
      "5f501ede-82af-4623-9b10-c7e573c0840d/1.cm4ai_chromatin_mda-mb-468_untreated_apmsloader_initialrun0.1alpha/ppi_gene_node_attributes.errors\n",
      "5f501ede-82af-4623-9b10-c7e573c0840d/1.cm4ai_chromatin_mda-mb-468_untreated_apmsloader_initialrun0.1alpha/ppi_gene_node_attributes.tsv\n",
      "5f501ede-82af-4623-9b10-c7e573c0840d/1.cm4ai_chromatin_mda-mb-468_untreated_apmsloader_initialrun0.1alpha/ro-crate-metadata.json\n",
      "5f501ede-82af-4623-9b10-c7e573c0840d/1.cm4ai_chromatin_mda-mb-468_untreated_apmsloader_initialrun0.1alpha/task_1693531442_finish.json\n",
      "5f501ede-82af-4623-9b10-c7e573c0840d/1.cm4ai_chromatin_mda-mb-468_untreated_apmsloader_initialrun0.1alpha/task_1693531442_start.json\n",
      "5f501ede-82af-4623-9b10-c7e573c0840d/__MACOSX/1.cm4ai_chromatin_mda-mb-468_untreated_apmsloader_initialrun0.1alpha/._output.log\n",
      "5f501ede-82af-4623-9b10-c7e573c0840d/__MACOSX/1.cm4ai_chromatin_mda-mb-468_untreated_apmsloader_initialrun0.1alpha/._ppi_gene_node_attributes.tsv\n"
     ]
    }
   ],
   "source": [
    "# checking that minio has several unpacked objects\n",
    "outputList = list(minioClient.list_objects('default', transactionFolder, recursive=True))\n",
    "\n",
    "for obj in outputList:\n",
    "    print(obj.object_name)"
   ]
  },
  {
   "cell_type": "markdown",
   "id": "81fc529e-cbf7-4583-acbf-cd1c9f5ccf9e",
   "metadata": {
    "jp-MarkdownHeadingCollapsed": true
   },
   "source": [
    "### Get Metadata from ROCrate"
   ]
  },
  {
   "cell_type": "code",
   "execution_count": null,
   "id": "d08cff30-9b78-492d-9397-623a1c388c86",
   "metadata": {},
   "outputs": [],
   "source": [
    "\n",
    "\n",
    "crateDistribution = fairscape_rocrate.ROCrateDistribution(\n",
    "    extractedROCrateBucket= 'default',\n",
    "    archivedROCrateBucket='rocrate',\n",
    "    extractedObjectPath=extractStatus[1],\n",
    "    archivedObjectPath=str(upload_output[1])\n",
    ")\n",
    "\n",
    "roCrateMetadata = fairscape_rocrate.GetMetadataFromCrate(\n",
    "    minioClient,\n",
    "    fairscapeConfig.minio.default_bucket,\n",
    "    transactionFolder,\n",
    "    # cratePath\n",
    "    '1.cm4ai_chromatin_mda-mb-468_untreated_apmsloader_initialrun0.1alpha',\n",
    "    # distribution\n",
    "    crateDistribution\n",
    ")"
   ]
  },
  {
   "cell_type": "code",
   "execution_count": 110,
   "id": "5a64192e-a846-4a45-9f4e-cef5c8e79604",
   "metadata": {},
   "outputs": [
    {
     "data": {
      "text/plain": [
       "{'@id': 'https://fairscape.net/ark:59852/rocrate-1.cm4ai_chromatin_mda-mb-468_untreated_apmsloader_initialrun0.1alpha',\n",
       " '@context': {'EVI': 'https://w3id.org/EVI#', '@vocab': 'https://schema.org/'},\n",
       " '@type': 'Dataset',\n",
       " 'name': 'Initial integration run',\n",
       " 'description': 'Ideker Lab CM4AI 0.1 alpha MDA-MB-468 untreated chromatin Initial integration run AP-MS Edgelist',\n",
       " 'keywords': ['Ideker Lab',\n",
       "  'CM4AI',\n",
       "  '0.1 alpha',\n",
       "  'MDA-MB-468',\n",
       "  'untreated',\n",
       "  'chromatin',\n",
       "  'Initial integration run',\n",
       "  'AP-MS edgelist download'],\n",
       " 'isPartOf': [{'@id': 'ark:/Ideker_Lab',\n",
       "   '@type': 'Organization',\n",
       "   'name': 'Ideker Lab'},\n",
       "  {'@id': 'ark:/Ideker_Lab/CM4AI', '@type': 'Project', 'name': 'CM4AI'}],\n",
       " '@graph': [{'@id': 'https://fairscape.net/ark:59852/software-cellmaps_ppidownloader-58sGTge',\n",
       "   '@context': {'@vocab': 'https://schema.org/',\n",
       "    'evi': 'https://w3id.org/EVI#'},\n",
       "   'metadataType': 'https://w3id.org/EVI#Software',\n",
       "   'url': 'https://github.com/idekerlab/cellmaps_ppidownloader',\n",
       "   'name': 'cellmaps_ppidownloader',\n",
       "   'keywords': ['Ideker Lab',\n",
       "    'CM4AI',\n",
       "    '0.1 alpha',\n",
       "    'MDA-MB-468',\n",
       "    'untreated',\n",
       "    'chromatin',\n",
       "    'Initial integration run',\n",
       "    'AP-MS edgelist download',\n",
       "    'tools',\n",
       "    'cellmaps_ppidownloader'],\n",
       "   'description': 'Ideker Lab CM4AI 0.1 alpha MDA-MB-468 untreated chromatin Initial integration run AP-MS Edgelist A tool to download AP-MS data for Cell Maps pipeline',\n",
       "   'author': 'Clark T, Schaffer L, Obernier K, Al Manir S, Churas CP, Dailamy A, Doctor Y, Forget A, Hansen JN, Hu M, Lenkiewicz J, Levinson MA, Marquez C, Mohan J, Nourreddine S, Niestroy J, Pratt D, Qian G, Thaker S, Belisle-Pipon J-C, Brandt C, Chen J, Ding Y, Fodeh S, Krogan N, Lundberg E, Mali P, Payne-Foster P, Ratcliffe S, Ravitsky V, Sali A, Schulz W, Ideker T.',\n",
       "   'dateModified': '2023-08-31',\n",
       "   'version': '0.5alpha',\n",
       "   'associatedPublication': 'Clark T, Schaffer L, Obernier K, Al Manir S, Churas CP, Dailamy A, Doctor Y, Forget A, Hansen JN, Hu M, Lenkiewicz J, Levinson MA, Marquez C, Mohan J, Nourreddine S, Niestroy J, Pratt D, Qian G, Thaker S, Belisle-Pipon J-C, Brandt C, Chen J, Ding Y, Fodeh S, Krogan N, Lundberg E, Mali P, Payne-Foster P, Ratcliffe S, Ravitsky V, Sali A, Schulz W, Ideker T. Cell Maps for Artificial Intelligence: AI-Ready Maps of Human Cell Architecture from Disease-Relevant Cell Lines. BioRXiv 2024.',\n",
       "   'additionalDocumentation': None,\n",
       "   'format': 'py',\n",
       "   'usedByComputation': [],\n",
       "   'contentUrl': 'https://github.com/idekerlab/cellmaps_ppidownloader',\n",
       "   '@type': 'EVI:Software',\n",
       "   'copyrightNotice': 'Copyright (c) 2024 by The Regents of the University of California'},\n",
       "  {'@id': 'https://fairscape.net/ark:59852/dataset-cellmaps_ppidownloader-output-file-58sGTge',\n",
       "   '@context': {'@vocab': 'https://schema.org/',\n",
       "    'evi': 'https://w3id.org/EVI#'},\n",
       "   'metadataType': 'https://w3id.org/EVI#Dataset',\n",
       "   'url': None,\n",
       "   'name': 'cellmaps_ppidownloader output file',\n",
       "   'keywords': [''],\n",
       "   'description': 'Ideker Lab CM4AI 0.1 alpha MDA-MB-468 untreated chromatin Initial integration run AP-MS Edgelist AP-MS gene node attributes file',\n",
       "   'author': ['Richa Tiwari',\n",
       "    'Atoshi Banerjee',\n",
       "    'Monita Muralidharan',\n",
       "    'Kristen Obernier',\n",
       "    'Antoine Forget',\n",
       "    'Nevan Krogan'],\n",
       "   'datePublished': '2023-08-31',\n",
       "   'version': '0.5alpha',\n",
       "   'associatedPublication': 'Clark T, Schaffer L, Obernier K, Al Manir S, Churas CP, Dailamy A, Doctor Y, Forget A, Hansen JN, Hu M, Lenkiewicz J, Levinson MA, Marquez C, Mohan J, Nourreddine S, Niestroy J, Pratt D, Qian G, Thaker S, Belisle-Pipon J-C, Brandt C, Chen J, Ding Y, Fodeh S, Krogan N, Lundberg E, Mali P, Payne-Foster P, Ratcliffe S, Ravitsky V, Sali A, Schulz W, Ideker T. Cell Maps for Artificial Intelligence: AI-Ready Maps of Human Cell Architecture from Disease-Relevant Cell Lines. BioRXiv 2024.',\n",
       "   'additionalDocumentation': None,\n",
       "   'format': 'tsv',\n",
       "   'schema': 'https://fairscape.net/ark:59852/schema-cm4ai-apmsloader-gene-node-attributes',\n",
       "   'generatedBy': [],\n",
       "   'derivedFrom': [],\n",
       "   'usedBy': [],\n",
       "   'contentUrl': 'file:///1.cm4ai_chromatin_mda-mb-468_untreated_apmsloader_initialrun0.1alpha/ppi_gene_node_attributes.tsv',\n",
       "   '@type': 'EVI:Dataset',\n",
       "   'copyrightNotice': 'Copyright (c) 2024 by The Regents of the University of California',\n",
       "   'license': 'https://creativecommons.org/licenses/by-nc-sa/4.0/deed.en',\n",
       "   'conditionsOfAccess': 'This dataset was created by investigators and staff of the Cell Maps for Artificial Intelligence project (CM4AI - https://cm4ai.org), a Data Generation Project of the NIH Bridge2AI program, and is copyright (c) 2024 by The Regents of the University of California and, for cellular imaging data, by The Board of Trustees of the Leland Stanford Junior University. It is licensed for reuse under the Creative Commons Attribution-NonCommercial-ShareAlike 4.0 International (CC-BY-NC-SA 4.0) license, whose terms are summarized here: https://creativecommons.org/licenses/by-nc-sa/4.0/deed.en.  Proper attribution credit as required by the license includes citation of the copyright holders and of the attribution parties, which includes citation of the following article: Clark T, Schaffer L, Obernier K, Al Manir S, Churas CP, Dailamy A, Doctor Y, Forget A, Hansen JN, Hu M, Lenkiewicz J, Levinson MA, Marquez C, Mohan J, Nourreddine S, Niestroy J, Pratt D, Qian G, Thaker S, Belisle-Pipon J-C, Brandt C, Chen J, Ding Y, Fodeh S, Krogan N, Lundberg E, Mali P, Payne-Foster P, Ratcliffe S, Ravitsky V, Sali A, Schulz W, Ideker T. Cell Maps for Artificial Intelligence: AI-Ready Maps of Human Cell Architecture from Disease-Relevant Cell Lines. BioRXiv 2024.”'},\n",
       "  {'@id': 'https://fairscape.net/ark:59852/computation-AP-MS-Loader-58sGTge',\n",
       "   '@context': {'@vocab': 'https://schema.org/',\n",
       "    'evi': 'https://w3id.org/EVI#'},\n",
       "   'metadataType': 'https://w3id.org/EVI#Computation',\n",
       "   'url': None,\n",
       "   'name': 'AP-MS Loader',\n",
       "   'keywords': ['Ideker Lab',\n",
       "    'CM4AI',\n",
       "    '0.1 alpha',\n",
       "    'MDA-MB-468',\n",
       "    'untreated',\n",
       "    'chromatin',\n",
       "    'Initial integration run',\n",
       "    'AP-MS edgelist download',\n",
       "    'tools',\n",
       "    'cellmaps_ppidownloader',\n",
       "    'gene',\n",
       "    'attributes',\n",
       "    'file',\n",
       "    'computation',\n",
       "    'download'],\n",
       "   'description': 'Ideker Lab CM4AI 0.1 alpha MDA-MB-468 untreated chromatin Initial integration run AP-MS Edgelist run of cellmaps_ppidownloader',\n",
       "   'runBy': 'Chris Churas',\n",
       "   'dateCreated': '2023-08-31',\n",
       "   'associatedPublication': 'Clark T, Schaffer L, Obernier K, Al Manir S, Churas CP, Dailamy A, Doctor Y, Forget A, Hansen JN, Hu M, Lenkiewicz J, Levinson MA, Marquez C, Mohan J, Nourreddine S, Niestroy J, Pratt D, Qian G, Thaker S, Belisle-Pipon J-C, Brandt C, Chen J, Ding Y, Fodeh S, Krogan N, Lundberg E, Mali P, Payne-Foster P, Ratcliffe S, Ravitsky V, Sali A, Schulz W, Ideker T. Cell Maps for Artificial Intelligence: AI-Ready Maps of Human Cell Architecture from Disease-Relevant Cell Lines. BioRXiv 2024.',\n",
       "   'additionalDocumentation': None,\n",
       "   'command': \"{'outdir': '0.1pipeline/1.cm4ai_chromatin_mda-mb-468_untreated_apmsloader_initialrun0.1alpha', 'cm4ai_table': '0.1rocrates/cm4ai_chromatin_mda-mb-468_untreated_apms_0.1_alpha/apms.tsv', 'edgelist': None, 'edgelist_geneid_one_col': 'GeneID1', 'edgelist_symbol_one_col': 'Symbol1', 'edgelist_geneid_two_col': 'GeneID2', 'edgelist_symbol_two_col': 'Symbol2', 'baitlist': None, 'baitlist_symbol_col': 'GeneSymbol', 'baitlist_geneid_col': 'GeneID', 'baitlist_numinteractors_col': '# Interactors', 'provenance': 'ppiprovenance.json', 'logconf': None, 'skip_logging': False, 'verbose': 0, 'program': '/cellar/users/cchuras/miniconda3/envs/py38/bin/cellmaps_ppidownloadercmd.py', 'version': '0.1.0a6'}\",\n",
       "   'usedSoftware': ['https://fairscape.net/ark:59852/software-cellmaps_ppidownloader-58sGTge'],\n",
       "   'usedDataset': [],\n",
       "   'generated': ['https://fairscape.net/ark:59852/dataset-cellmaps_ppidownloader-output-file-58sGTge'],\n",
       "   '@type': 'EVI:Computation',\n",
       "   'version': '0.5alpha',\n",
       "   'author': 'Clark T, Schaffer L, Obernier K, Al Manir S, Churas CP, Dailamy A, Doctor Y, Forget A, Hansen JN, Hu M, Lenkiewicz J, Levinson MA, Marquez C, Mohan J, Nourreddine S, Niestroy J, Pratt D, Qian G, Thaker S, Belisle-Pipon J-C, Brandt C, Chen J, Ding Y, Fodeh S, Krogan N, Lundberg E, Mali P, Payne-Foster P, Ratcliffe S, Ravitsky V, Sali A, Schulz W, Ideker T.',\n",
       "   'copyrightNotice': 'Copyright (c) 2024 by The Regents of the University of California'}],\n",
       " 'version': '0.5alpha',\n",
       " 'license': 'https://creativecommons.org/licenses/by-nc-sa/4.0/deed.en',\n",
       " 'associatedPublication': 'Clark T, Schaffer L, Obernier K, Al Manir S, Churas CP, Dailamy A, Doctor Y, Forget A, Hansen JN, Hu M, Lenkiewicz J, Levinson MA, Marquez C, Mohan J, Nourreddine S, Niestroy J, Pratt D, Qian G, Thaker S, Belisle-Pipon J-C, Brandt C, Chen J, Ding Y, Fodeh S, Krogan N, Lundberg E, Mali P, Payne-Foster P, Ratcliffe S, Ravitsky V, Sali A, Schulz W, Ideker T. Cell Maps for Artificial Intelligence: AI-Ready Maps of Human Cell Architecture from Disease-Relevant Cell Lines. BioRXiv 2024.',\n",
       " 'author': ['Clark T',\n",
       "  'Schaffer L',\n",
       "  'Obernier K',\n",
       "  'Al Manir S',\n",
       "  'Churas CP',\n",
       "  'Dailamy A',\n",
       "  'Doctor Y',\n",
       "  'Forget A',\n",
       "  'Hansen JN',\n",
       "  'Hu M',\n",
       "  'Lenkiewicz J',\n",
       "  'Levinson MA',\n",
       "  'Marquez C',\n",
       "  'Mohan J',\n",
       "  'Nourreddine S',\n",
       "  'Niestroy J',\n",
       "  'Pratt D',\n",
       "  'Qian G',\n",
       "  'Thaker S',\n",
       "  'Belisle-Pipon J-C',\n",
       "  'Brandt C',\n",
       "  'Chen J',\n",
       "  'Ding Y',\n",
       "  'Fodeh S',\n",
       "  'Krogan N',\n",
       "  'Lundberg E',\n",
       "  'Mali P',\n",
       "  'Payne-Foster P',\n",
       "  'Ratcliffe S',\n",
       "  'Ravitsky V',\n",
       "  'Sali A',\n",
       "  'Schulz W',\n",
       "  'Ideker T.'],\n",
       " 'conditionsOfAccess': 'This dataset was created by investigators and staff of the Cell Maps for Artificial Intelligence project (CM4AI - https://cm4ai.org), a Data Generation Project of the NIH Bridge2AI program, and is copyright (c) 2024 by The Regents of the University of California and, for cellular imaging data, by The Board of Trustees of the Leland Stanford Junior University. It is licensed for reuse under the Creative Commons Attribution-NonCommercial-ShareAlike 4.0 International (CC-BY-NC-SA 4.0) license, whose terms are summarized here: https://creativecommons.org/licenses/by-nc-sa/4.0/deed.en.  Proper attribution credit as required by the license includes citation of the copyright holders and of the attribution parties, which includes citation of the following article: Clark T, Schaffer L, Obernier K, Al Manir S, Churas CP, Dailamy A, Doctor Y, Forget A, Hansen JN, Hu M, Lenkiewicz J, Levinson MA, Marquez C, Mohan J, Nourreddine S, Niestroy J, Pratt D, Qian G, Thaker S, Belisle-Pipon J-C, Brandt C, Chen J, Ding Y, Fodeh S, Krogan N, Lundberg E, Mali P, Payne-Foster P, Ratcliffe S, Ravitsky V, Sali A, Schulz W, Ideker T. Cell Maps for Artificial Intelligence: AI-Ready Maps of Human Cell Architecture from Disease-Relevant Cell Lines. BioRXiv 2024.”',\n",
       " 'copyrightNotice': 'Copyright (c) 2024 by The Regents of the University of California',\n",
       " 'distribution': {'extractedROCrateBucket': 'default',\n",
       "  'archivedROCrateBucket': 'rocrate',\n",
       "  'extractedObjectPath': ['5f501ede-82af-4623-9b10-c7e573c0840d/3.cm4ai_chromatin_mda-mb-468_untreated_coembedfold1_initialrun0.1alpha',\n",
       "   '5f501ede-82af-4623-9b10-c7e573c0840d/3.cm4ai_chromatin_mda-mb-468_untreated_coembedfold1_initialrun0.1alpha/muse_latent.txt',\n",
       "   '5f501ede-82af-4623-9b10-c7e573c0840d/3.cm4ai_chromatin_mda-mb-468_untreated_coembedfold1_initialrun0.1alpha/muse_latent_x.txt',\n",
       "   '5f501ede-82af-4623-9b10-c7e573c0840d/3.cm4ai_chromatin_mda-mb-468_untreated_coembedfold1_initialrun0.1alpha/muse_latent_y.txt',\n",
       "   '5f501ede-82af-4623-9b10-c7e573c0840d/3.cm4ai_chromatin_mda-mb-468_untreated_coembedfold1_initialrun0.1alpha/error.log',\n",
       "   '5f501ede-82af-4623-9b10-c7e573c0840d/3.cm4ai_chromatin_mda-mb-468_untreated_coembedfold1_initialrun0.1alpha/task_1693531560_start.json',\n",
       "   '5f501ede-82af-4623-9b10-c7e573c0840d/3.cm4ai_chromatin_mda-mb-468_untreated_coembedfold1_initialrun0.1alpha/output.log',\n",
       "   '5f501ede-82af-4623-9b10-c7e573c0840d/3.cm4ai_chromatin_mda-mb-468_untreated_coembedfold1_initialrun0.1alpha/task_1693531560_finish.json',\n",
       "   '5f501ede-82af-4623-9b10-c7e573c0840d/3.cm4ai_chromatin_mda-mb-468_untreated_coembedfold1_initialrun0.1alpha/muse.pth',\n",
       "   '5f501ede-82af-4623-9b10-c7e573c0840d/3.cm4ai_chromatin_mda-mb-468_untreated_coembedfold1_initialrun0.1alpha/ro-crate-metadata.json',\n",
       "   '5f501ede-82af-4623-9b10-c7e573c0840d/3.cm4ai_chromatin_mda-mb-468_untreated_coembedfold1_initialrun0.1alpha/muse_reconstruct_x.txt',\n",
       "   '5f501ede-82af-4623-9b10-c7e573c0840d/3.cm4ai_chromatin_mda-mb-468_untreated_coembedfold1_initialrun0.1alpha/coembedding_emd.tsv',\n",
       "   '5f501ede-82af-4623-9b10-c7e573c0840d/3.cm4ai_chromatin_mda-mb-468_untreated_coembedfold1_initialrun0.1alpha/muse_reconstruct_y.txt',\n",
       "   '5f501ede-82af-4623-9b10-c7e573c0840d/3.cm4ai_chromatin_mda-mb-468_untreated_coembedfold1_initialrun0.1alpha/muse.txt'],\n",
       "  'archivedObjectPath': '5f501ede-82af-4623-9b10-c7e573c0840d/4.cm4ai_chromatin_mda-mb-468_untreated_hierarchy_initialrun0.1alpha'},\n",
       " 'additionalType': 'ROCrate'}"
      ]
     },
     "execution_count": 110,
     "metadata": {},
     "output_type": "execute_result"
    }
   ],
   "source": [
    "roCrateMetadata"
   ]
  },
  {
   "cell_type": "markdown",
   "id": "7b274519-2d71-402b-bb01-04710daec301",
   "metadata": {},
   "source": [
    "### Publish PROV Metadata"
   ]
  },
  {
   "cell_type": "code",
   "execution_count": 112,
   "id": "a9722a07-adf4-4ab8-b60c-e1dc847cf0ec",
   "metadata": {},
   "outputs": [
    {
     "data": {
      "text/plain": [
       "True"
      ]
     },
     "execution_count": 112,
     "metadata": {},
     "output_type": "execute_result"
    }
   ],
   "source": [
    "fairscape_rocrate.PublishProvMetadata(roCrateMetadata, identifierCollection)"
   ]
  },
  {
   "cell_type": "markdown",
   "id": "f46a223e-8095-48c8-a4b0-bf8d3b115b75",
   "metadata": {},
   "source": [
    "### Publish Identifier Metadata"
   ]
  },
  {
   "cell_type": "code",
   "execution_count": 113,
   "id": "d1a9093d-2b9e-4ab6-9900-c2ab5af8eafe",
   "metadata": {},
   "outputs": [
    {
     "data": {
      "text/plain": [
       "True"
      ]
     },
     "execution_count": 113,
     "metadata": {},
     "output_type": "execute_result"
    }
   ],
   "source": [
    "fairscape_rocrate.PublishROCrateMetadata(roCrateMetadata, rocrateCollection)"
   ]
  },
  {
   "cell_type": "markdown",
   "id": "ee340776-4d8a-40c2-b9b3-7fd7a2b15f8c",
   "metadata": {},
   "source": [
    "## Invoking Task in process"
   ]
  },
  {
   "cell_type": "code",
   "execution_count": 1,
   "id": "a60b256b-a1f3-4be0-bed7-8c1d928d15af",
   "metadata": {},
   "outputs": [],
   "source": [
    "import os  \n",
    "import sys\n",
    "import pathlib\n",
    "\n",
    "repo_path = pathlib.Path('.').absolute().parent\n",
    "src_path = repo_path / 'src'\n",
    "\n",
    "sys.path.insert(0, str(src_path)) \n",
    "\n",
    "import fairscape_mds.worker as fairscape_worker"
   ]
  },
  {
   "cell_type": "code",
   "execution_count": 2,
   "id": "bce15fe9-64fe-411d-a37f-9e0cca30c12e",
   "metadata": {},
   "outputs": [],
   "source": [
    "transactionFolder='5f501ede-82af-4623-9b10-c7e573c0840d'\n",
    "filePath='5f501ede-82af-4623-9b10-c7e573c0840d/4.cm4ai_chromatin_mda-mb-468_untreated_hierarchy_initialrun0.1alpha'"
   ]
  },
  {
   "cell_type": "code",
   "execution_count": 3,
   "id": "4e494240-70ea-45bd-afe3-bf68e79f5f6c",
   "metadata": {},
   "outputs": [
    {
     "data": {
      "text/plain": [
       "ROCrateUploadJob(transactionFolder='5f501ede-82af-4623-9b10-c7e573c0840d', zippedCratePath='5f501ede-82af-4623-9b10-c7e573c0840d/4.cm4ai_chromatin_mda-mb-468_untreated_hierarchy_initialrun0.1alpha', timeStarted=datetime.datetime(2024, 5, 30, 15, 14, 28, 308792, tzinfo=datetime.timezone.utc), timeFinished=None, status='started', completed=False, processedFiles=[], identifiersMinted=[], errors=[])"
      ]
     },
     "execution_count": 3,
     "metadata": {},
     "output_type": "execute_result"
    }
   ],
   "source": [
    "fairscape_worker.createUploadJob(transactionFolder, filePath)"
   ]
  },
  {
   "cell_type": "code",
   "execution_count": 4,
   "id": "8284f59b-f42a-4e80-a5ef-12da0e6f43b6",
   "metadata": {},
   "outputs": [
    {
     "name": "stdout",
     "output_type": "stream",
     "text": [
      "DEBUG:celery.utils.functional:\n",
      "def AsyncRegisterROCrate(transactionFolder, filePath):\n",
      "    return 1\n",
      "\n"
     ]
    }
   ],
   "source": [
    "jobStatus = fairscape_worker.AsyncRegisterROCrate.delay(\n",
    "    transactionFolder='5f501ede-82af-4623-9b10-c7e573c0840d',\n",
    "    filePath='5f501ede-82af-4623-9b10-c7e573c0840d/4.cm4ai_chromatin_mda-mb-468_untreated_hierarchy_initialrun0.1alpha'\n",
    ")"
   ]
  },
  {
   "cell_type": "code",
   "execution_count": 3,
   "id": "28155902-396d-4be4-873c-d7d4807ab82c",
   "metadata": {},
   "outputs": [
    {
     "data": {
      "text/plain": [
       "ROCrateUploadJob(transactionFolder='5f501ede-82af-4623-9b10-c7e573c0840d', zippedCratePath='5f501ede-82af-4623-9b10-c7e573c0840d/4.cm4ai_chromatin_mda-mb-468_untreated_hierarchy_initialrun0.1alpha', timeStarted=datetime.datetime(2024, 5, 30, 15, 14, 28, 308000), timeFinished=datetime.datetime(2024, 5, 30, 15, 14, 31, 782000), status='finished', completed=True, processedFiles=['5f501ede-82af-4623-9b10-c7e573c0840d/4.cm4ai_chromatin_mda-mb-468_untreated_hierarchy_initialrun0.1alpha/ppi_cutoff_0.05.cx', '5f501ede-82af-4623-9b10-c7e573c0840d/4.cm4ai_chromatin_mda-mb-468_untreated_hierarchy_initialrun0.1alpha/task_1693531815_finish.json', '5f501ede-82af-4623-9b10-c7e573c0840d/4.cm4ai_chromatin_mda-mb-468_untreated_hierarchy_initialrun0.1alpha/hidef_output.nodes', '5f501ede-82af-4623-9b10-c7e573c0840d/4.cm4ai_chromatin_mda-mb-468_untreated_hierarchy_initialrun0.1alpha/ppi_cutoff_0.01.id.edgelist.tsv', '5f501ede-82af-4623-9b10-c7e573c0840d/4.cm4ai_chromatin_mda-mb-468_untreated_hierarchy_initialrun0.1alpha/ppi_cutoff_0.01.cx', '5f501ede-82af-4623-9b10-c7e573c0840d/4.cm4ai_chromatin_mda-mb-468_untreated_hierarchy_initialrun0.1alpha/ppi_cutoff_0.002.id.edgelist.tsv', '5f501ede-82af-4623-9b10-c7e573c0840d/4.cm4ai_chromatin_mda-mb-468_untreated_hierarchy_initialrun0.1alpha/ppi_cutoff_0.008.cx', '5f501ede-82af-4623-9b10-c7e573c0840d/4.cm4ai_chromatin_mda-mb-468_untreated_hierarchy_initialrun0.1alpha/ppi_cutoff_0.005.id.edgelist.tsv', '5f501ede-82af-4623-9b10-c7e573c0840d/4.cm4ai_chromatin_mda-mb-468_untreated_hierarchy_initialrun0.1alpha/ppi_cutoff_0.009.cx', '5f501ede-82af-4623-9b10-c7e573c0840d/4.cm4ai_chromatin_mda-mb-468_untreated_hierarchy_initialrun0.1alpha/ppi_cutoff_0.04.cx', '5f501ede-82af-4623-9b10-c7e573c0840d/4.cm4ai_chromatin_mda-mb-468_untreated_hierarchy_initialrun0.1alpha/hidef_output.pruned.edges', '5f501ede-82af-4623-9b10-c7e573c0840d/4.cm4ai_chromatin_mda-mb-468_untreated_hierarchy_initialrun0.1alpha/ppi_cutoff_0.006.cx', '5f501ede-82af-4623-9b10-c7e573c0840d/4.cm4ai_chromatin_mda-mb-468_untreated_hierarchy_initialrun0.1alpha/ppi_cutoff_0.004.id.edgelist.tsv', '5f501ede-82af-4623-9b10-c7e573c0840d/4.cm4ai_chromatin_mda-mb-468_untreated_hierarchy_initialrun0.1alpha/ppi_cutoff_0.002.cx', '5f501ede-82af-4623-9b10-c7e573c0840d/4.cm4ai_chromatin_mda-mb-468_untreated_hierarchy_initialrun0.1alpha/error.log', '5f501ede-82af-4623-9b10-c7e573c0840d/4.cm4ai_chromatin_mda-mb-468_untreated_hierarchy_initialrun0.1alpha/output.log', '5f501ede-82af-4623-9b10-c7e573c0840d/4.cm4ai_chromatin_mda-mb-468_untreated_hierarchy_initialrun0.1alpha/ppi_cutoff_0.003.cx', '5f501ede-82af-4623-9b10-c7e573c0840d/4.cm4ai_chromatin_mda-mb-468_untreated_hierarchy_initialrun0.1alpha/ppi_cutoff_0.003.id.edgelist.tsv', '5f501ede-82af-4623-9b10-c7e573c0840d/4.cm4ai_chromatin_mda-mb-468_untreated_hierarchy_initialrun0.1alpha/ppi_cutoff_0.007.cx', '5f501ede-82af-4623-9b10-c7e573c0840d/4.cm4ai_chromatin_mda-mb-468_untreated_hierarchy_initialrun0.1alpha/ppi_cutoff_0.05.id.edgelist.tsv', '5f501ede-82af-4623-9b10-c7e573c0840d/4.cm4ai_chromatin_mda-mb-468_untreated_hierarchy_initialrun0.1alpha/ppi_cutoff_0.006.id.edgelist.tsv', '5f501ede-82af-4623-9b10-c7e573c0840d/4.cm4ai_chromatin_mda-mb-468_untreated_hierarchy_initialrun0.1alpha/hidef_output.weaver', '5f501ede-82af-4623-9b10-c7e573c0840d/4.cm4ai_chromatin_mda-mb-468_untreated_hierarchy_initialrun0.1alpha/ppi_cutoff_0.004.cx', '5f501ede-82af-4623-9b10-c7e573c0840d/4.cm4ai_chromatin_mda-mb-468_untreated_hierarchy_initialrun0.1alpha/ppi_cutoff_0.009.id.edgelist.tsv', '5f501ede-82af-4623-9b10-c7e573c0840d/4.cm4ai_chromatin_mda-mb-468_untreated_hierarchy_initialrun0.1alpha/hidef_output.pruned.nodes', '5f501ede-82af-4623-9b10-c7e573c0840d/4.cm4ai_chromatin_mda-mb-468_untreated_hierarchy_initialrun0.1alpha/hierarchy.cx', '5f501ede-82af-4623-9b10-c7e573c0840d/__MACOSX/4.cm4ai_chromatin_mda-mb-468_untreated_hierarchy_initialrun0.1alpha/._hierarchy.cx', '5f501ede-82af-4623-9b10-c7e573c0840d/4.cm4ai_chromatin_mda-mb-468_untreated_hierarchy_initialrun0.1alpha/ppi_cutoff_0.005.cx', '5f501ede-82af-4623-9b10-c7e573c0840d/4.cm4ai_chromatin_mda-mb-468_untreated_hierarchy_initialrun0.1alpha/ppi_cutoff_0.001.cx', '5f501ede-82af-4623-9b10-c7e573c0840d/4.cm4ai_chromatin_mda-mb-468_untreated_hierarchy_initialrun0.1alpha/ppi_cutoff_0.001.id.edgelist.tsv', '5f501ede-82af-4623-9b10-c7e573c0840d/4.cm4ai_chromatin_mda-mb-468_untreated_hierarchy_initialrun0.1alpha/ro-crate-metadata.json', '5f501ede-82af-4623-9b10-c7e573c0840d/4.cm4ai_chromatin_mda-mb-468_untreated_hierarchy_initialrun0.1alpha/ppi_cutoff_0.02.id.edgelist.tsv', '5f501ede-82af-4623-9b10-c7e573c0840d/4.cm4ai_chromatin_mda-mb-468_untreated_hierarchy_initialrun0.1alpha/ppi_cutoff_0.03.cx', '5f501ede-82af-4623-9b10-c7e573c0840d/4.cm4ai_chromatin_mda-mb-468_untreated_hierarchy_initialrun0.1alpha/ppi_cutoff_0.1.id.edgelist.tsv', '5f501ede-82af-4623-9b10-c7e573c0840d/4.cm4ai_chromatin_mda-mb-468_untreated_hierarchy_initialrun0.1alpha/ppi_cutoff_0.03.id.edgelist.tsv', '5f501ede-82af-4623-9b10-c7e573c0840d/4.cm4ai_chromatin_mda-mb-468_untreated_hierarchy_initialrun0.1alpha/task_1693531815_start.json', '5f501ede-82af-4623-9b10-c7e573c0840d/4.cm4ai_chromatin_mda-mb-468_untreated_hierarchy_initialrun0.1alpha/ppi_cutoff_0.007.id.edgelist.tsv', '5f501ede-82af-4623-9b10-c7e573c0840d/4.cm4ai_chromatin_mda-mb-468_untreated_hierarchy_initialrun0.1alpha/cdaps.json', '5f501ede-82af-4623-9b10-c7e573c0840d/4.cm4ai_chromatin_mda-mb-468_untreated_hierarchy_initialrun0.1alpha/ppi_cutoff_0.04.id.edgelist.tsv', '5f501ede-82af-4623-9b10-c7e573c0840d/4.cm4ai_chromatin_mda-mb-468_untreated_hierarchy_initialrun0.1alpha/hidef_output.edges', '5f501ede-82af-4623-9b10-c7e573c0840d/4.cm4ai_chromatin_mda-mb-468_untreated_hierarchy_initialrun0.1alpha/ppi_cutoff_0.02.cx', '5f501ede-82af-4623-9b10-c7e573c0840d/4.cm4ai_chromatin_mda-mb-468_untreated_hierarchy_initialrun0.1alpha/ppi_cutoff_0.1.cx', '5f501ede-82af-4623-9b10-c7e573c0840d/4.cm4ai_chromatin_mda-mb-468_untreated_hierarchy_initialrun0.1alpha/ppi_cutoff_0.008.id.edgelist.tsv'], identifiersMinted=['https://fairscape.net/ark:59852/software-cellmaps_generate_hierarchy-YjBPRU9', 'https://fairscape.net/ark:59852/dataset-ppi_cutoff_0-001-cx-PPI-network-file-YjBPRU9', 'https://fairscape.net/ark:59852/dataset-ppi_cutoff_0-002-cx-PPI-network-file-YjBPRU9', 'https://fairscape.net/ark:59852/dataset-ppi_cutoff_0-003-cx-PPI-network-file-YjBPRU9', 'https://fairscape.net/ark:59852/dataset-ppi_cutoff_0-004-cx-PPI-network-file-YjBPRU9', 'https://fairscape.net/ark:59852/dataset-ppi_cutoff_0-005-cx-PPI-network-file-YjBPRU9', 'https://fairscape.net/ark:59852/dataset-ppi_cutoff_0-006-cx-PPI-network-file-YjBPRU9', 'https://fairscape.net/ark:59852/dataset-ppi_cutoff_0-007-cx-PPI-network-file-YjBPRU9', 'https://fairscape.net/ark:59852/dataset-ppi_cutoff_0-008-cx-PPI-network-file-YjBPRU9', 'https://fairscape.net/ark:59852/dataset-ppi_cutoff_0-009-cx-PPI-network-file-YjBPRU9', 'https://fairscape.net/ark:59852/dataset-ppi_cutoff_0-01-cx-PPI-network-file-YjBPRU9', 'https://fairscape.net/ark:59852/dataset-ppi_cutoff_0-02-cx-PPI-network-file-YjBPRU9', 'https://fairscape.net/ark:59852/dataset-ppi_cutoff_0-03-cx-PPI-network-file-YjBPRU9', 'https://fairscape.net/ark:59852/dataset-ppi_cutoff_0-04-cx-PPI-network-file-YjBPRU9', 'https://fairscape.net/ark:59852/dataset-ppi_cutoff_0-05-cx-PPI-network-file-YjBPRU9', 'https://fairscape.net/ark:59852/dataset-ppi_cutoff_0-1-cx-PPI-network-file-YjBPRU9', 'https://fairscape.net/ark:59852/dataset-ppi_cutoff_0-001-id-edgelist-tsv-PPI-id-edgelist-file-YjBPRU9', 'https://fairscape.net/ark:59852/dataset-ppi_cutoff_0-002-id-edgelist-tsv-PPI-id-edgelist-file-YjBPRU9', 'https://fairscape.net/ark:59852/dataset-ppi_cutoff_0-003-id-edgelist-tsv-PPI-id-edgelist-file-YjBPRU9', 'https://fairscape.net/ark:59852/dataset-ppi_cutoff_0-004-id-edgelist-tsv-PPI-id-edgelist-file-YjBPRU9', 'https://fairscape.net/ark:59852/dataset-ppi_cutoff_0-005-id-edgelist-tsv-PPI-id-edgelist-file-YjBPRU9', 'https://fairscape.net/ark:59852/dataset-ppi_cutoff_0-006-id-edgelist-tsv-PPI-id-edgelist-file-YjBPRU9', 'https://fairscape.net/ark:59852/dataset-ppi_cutoff_0-007-id-edgelist-tsv-PPI-id-edgelist-file-YjBPRU9', 'https://fairscape.net/ark:59852/dataset-ppi_cutoff_0-008-id-edgelist-tsv-PPI-id-edgelist-file-YjBPRU9', 'https://fairscape.net/ark:59852/dataset-ppi_cutoff_0-009-id-edgelist-tsv-PPI-id-edgelist-file-YjBPRU9', 'https://fairscape.net/ark:59852/dataset-ppi_cutoff_0-01-id-edgelist-tsv-PPI-id-edgelist-file-YjBPRU9', 'https://fairscape.net/ark:59852/dataset-ppi_cutoff_0-02-id-edgelist-tsv-PPI-id-edgelist-file-YjBPRU9', 'https://fairscape.net/ark:59852/dataset-ppi_cutoff_0-03-id-edgelist-tsv-PPI-id-edgelist-file-YjBPRU9', 'https://fairscape.net/ark:59852/dataset-ppi_cutoff_0-04-id-edgelist-tsv-PPI-id-edgelist-file-YjBPRU9', 'https://fairscape.net/ark:59852/dataset-ppi_cutoff_0-05-id-edgelist-tsv-PPI-id-edgelist-file-YjBPRU9', 'https://fairscape.net/ark:59852/dataset-ppi_cutoff_0-1-id-edgelist-tsv-PPI-id-edgelist-file-YjBPRU9', 'https://fairscape.net/ark:59852/dataset-hidef_output-nodes-HiDeF-output-nodes-file-YjBPRU9', 'https://fairscape.net/ark:59852/dataset-hidef_output-edges-HiDeF-output-edges-file-YjBPRU9', 'https://fairscape.net/ark:59852/dataset-hidef_output-weaver-HiDeF-output-weaver-file-YjBPRU9', 'https://fairscape.net/ark:59852/dataset-hidef_output-pruned-nodes-Pruned-HiDeF-output-n-file-YjBPRU9', 'https://fairscape.net/ark:59852/dataset-hidef_output-pruned-edges-Pruned-HiDeF-output-e-file-YjBPRU9', 'https://fairscape.net/ark:59852/dataset-cdaps-json-CDAPS-output-JSON-file-YjBPRU9', 'https://fairscape.net/ark:59852/dataset-Output-Dataset-YjBPRU9', 'https://fairscape.net/ark:59852/computation-Hierarchy-YjBPRU9', 'https://fairscape.net/ark:59852/rocrate-4.cm4ai_chromatin_mda-mb-468_untreated_hierarchy_initialrun0.1alpha'], errors=[])"
      ]
     },
     "execution_count": 3,
     "metadata": {},
     "output_type": "execute_result"
    }
   ],
   "source": [
    "fairscape_worker.getUploadJob(transactionFolder)"
   ]
  },
  {
   "cell_type": "code",
   "execution_count": 3,
   "id": "5f211d11-e568-4101-a223-09aea22dbfb2",
   "metadata": {},
   "outputs": [
    {
     "data": {
      "text/plain": [
       "'832fde35-ecd4-49b3-9890-a7466190453f'"
      ]
     },
     "execution_count": 3,
     "metadata": {},
     "output_type": "execute_result"
    }
   ],
   "source": [
    "jobStatus.id"
   ]
  },
  {
   "cell_type": "markdown",
   "id": "1145d02c-43f8-4b91-8264-7b679935a6e8",
   "metadata": {},
   "source": [
    "## Using API"
   ]
  },
  {
   "cell_type": "code",
   "execution_count": 28,
   "id": "950d5908-9561-4b7b-9389-8f547073bc7d",
   "metadata": {},
   "outputs": [],
   "source": [
    "import requests\n",
    "\n",
    "fairscape_root = \"http://localhost:8080/\""
   ]
  },
  {
   "cell_type": "code",
   "execution_count": 29,
   "id": "e01b4825-f674-471c-aabb-0743a9c098a4",
   "metadata": {},
   "outputs": [],
   "source": [
    "rocrate_path = '/Users/mal8ch-admin/Box Sync/cm4ai-data/Dataverse-Uploaded/4.cm4ai_chromatin_mda-mb-468_untreated_hierarchy_initialrun0.1alpha.zip'"
   ]
  },
  {
   "cell_type": "code",
   "execution_count": 30,
   "id": "b7341010-0f0b-4ce9-bd54-b4fa79504d5d",
   "metadata": {},
   "outputs": [],
   "source": [
    "testCrate = {'crate': ('4.cm4ai_chromatin_mda-mb-468_untreated_hierarchy_initialrun0.1alpha.zip', open(rocrate_path, 'rb'), 'application/zip')}\n"
   ]
  },
  {
   "cell_type": "code",
   "execution_count": 42,
   "id": "14a3bf98-50c7-4285-a4a1-3c084bf24c6f",
   "metadata": {},
   "outputs": [
    {
     "name": "stdout",
     "output_type": "stream",
     "text": [
      "DEBUG:urllib3.connectionpool:Starting new HTTP connection (1): localhost:8080\n",
      "DEBUG:urllib3.connectionpool:http://localhost:8080 \"POST /rocrate/upload-async HTTP/1.1\" 201 348\n"
     ]
    }
   ],
   "source": [
    "uploadAsyncResponse = requests.post(\n",
    "    fairscape_root + 'rocrate/upload-async',\n",
    "    files=testCrate\n",
    ")"
   ]
  },
  {
   "cell_type": "code",
   "execution_count": 44,
   "id": "88b2afe0-39a0-41fc-9cea-597bc0b76614",
   "metadata": {},
   "outputs": [],
   "source": [
    "uploadJob = uploadAsyncResponse.json()"
   ]
  },
  {
   "cell_type": "code",
   "execution_count": 47,
   "id": "f1efefba-ed63-4b72-aa26-6dd9d2862deb",
   "metadata": {},
   "outputs": [
    {
     "name": "stdout",
     "output_type": "stream",
     "text": [
      "DEBUG:urllib3.connectionpool:Starting new HTTP connection (1): localhost:8080\n",
      "DEBUG:urllib3.connectionpool:http://localhost:8080 \"GET /rocrate/upload-async/status/d49b997d-c0fb-41d2-8aff-4ca4faf8ce66 HTTP/1.1\" 200 346\n"
     ]
    }
   ],
   "source": [
    "uploadRequest = uploadJob['transactionFolder']\n",
    "\n",
    "#uploadRequest = '4aa2ccb9-fc10-447c-8706-d1316265b311'\n",
    "\n",
    "uploadStatusResponse = requests.get(\n",
    "    fairscape_root + 'rocrate/upload-async/status/' + uploadRequest\n",
    ")"
   ]
  },
  {
   "cell_type": "code",
   "execution_count": 48,
   "id": "df46b0f1-d1e1-4840-9bb6-17c465fdd472",
   "metadata": {},
   "outputs": [
    {
     "data": {
      "text/plain": [
       "{'transactionFolder': 'd49b997d-c0fb-41d2-8aff-4ca4faf8ce66',\n",
       " 'zippedCratePath': 'd49b997d-c0fb-41d2-8aff-4ca4faf8ce66/4.cm4ai_chromatin_mda-mb-468_untreated_hierarchy_initialrun0.1alpha.zip',\n",
       " 'timeStarted': 1717191979.686,\n",
       " 'timeFinished': None,\n",
       " 'status': 'started',\n",
       " 'completed': False,\n",
       " 'success': False,\n",
       " 'processedFiles': [],\n",
       " 'identifiersMinted': [],\n",
       " 'errors': []}"
      ]
     },
     "execution_count": 48,
     "metadata": {},
     "output_type": "execute_result"
    }
   ],
   "source": [
    "uploadStatusResponse.json()"
   ]
  },
  {
   "cell_type": "code",
   "execution_count": null,
   "id": "f4ea64a0-6d55-4aa7-a7bb-f61e0620cefe",
   "metadata": {},
   "outputs": [],
   "source": []
  }
 ],
 "metadata": {
  "kernelspec": {
   "display_name": "Python 3 (ipykernel)",
   "language": "python",
   "name": "python3"
  },
  "language_info": {
   "codemirror_mode": {
    "name": "ipython",
    "version": 3
   },
   "file_extension": ".py",
   "mimetype": "text/x-python",
   "name": "python",
   "nbconvert_exporter": "python",
   "pygments_lexer": "ipython3",
   "version": "3.12.1"
  }
 },
 "nbformat": 4,
 "nbformat_minor": 5
}
