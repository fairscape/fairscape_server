{
 "cells": [
  {
   "cell_type": "code",
   "execution_count": 1,
   "metadata": {},
   "outputs": [],
   "source": [
    "import requests\n",
    "import json\n",
    "from requests_toolbelt.multipart.encoder import MultipartEncoder"
   ]
  },
  {
   "cell_type": "code",
   "execution_count": 4,
   "metadata": {},
   "outputs": [],
   "source": [
    "request_url = \"https://fairscape.pods.uvarc.io/rocrate/upload\"\n",
    "crate_path = \"/com.docker.devenvironments.code/tests/data/crates/U2OS/1.ppi_download.zip\"\n",
    "crate_path = \"/com.docker.devenvironments.code/tests/data/crates/U2OS/2.ppi_embedding.zip\""
   ]
  },
  {
   "cell_type": "code",
   "execution_count": 5,
   "metadata": {},
   "outputs": [],
   "source": [
    "\n",
    "mp_encoder = MultipartEncoder(\n",
    "\tfields={        \n",
    "\t\t'file': ('test-rocrate', open(crate_path, 'rb'), 'application/zip')\n",
    "\t}\n",
    ")\n",
    "\n",
    "# upload a rocrate to minio object store\n",
    "rocrate_transfer = requests.post(\n",
    "    url=request_url,\n",
    "    data=mp_encoder,                              \n",
    "    # The MultipartEncoder provides the content-type header with the boundary:\n",
    "    headers={'Content-Type': mp_encoder.content_type}\n",
    ")\n"
   ]
  },
  {
   "cell_type": "code",
   "execution_count": 6,
   "metadata": {},
   "outputs": [
    {
     "data": {
      "text/plain": [
       "{'error': 'ro-crate-metadata.json not found in ROCrate'}"
      ]
     },
     "execution_count": 6,
     "metadata": {},
     "output_type": "execute_result"
    }
   ],
   "source": [
    "rocrate_transfer.json()"
   ]
  },
  {
   "cell_type": "code",
   "execution_count": 20,
   "metadata": {},
   "outputs": [
    {
     "data": {
      "text/plain": [
       "b'<html>\\r\\n<head><title>413 Request Entity Too Large</title></head>\\r\\n<body>\\r\\n<center><h1>413 Request Entity Too Large</h1></center>\\r\\n<hr><center>nginx/1.21.6</center>\\r\\n</body>\\r\\n</html>\\r\\n'"
      ]
     },
     "execution_count": 20,
     "metadata": {},
     "output_type": "execute_result"
    }
   ],
   "source": [
    "rocrate_transfer.content"
   ]
  },
  {
   "cell_type": "code",
   "execution_count": 21,
   "metadata": {},
   "outputs": [
    {
     "data": {
      "text/plain": [
       "{'Server': 'nginx/1.21.6', 'Date': 'Tue, 29 Aug 2023 19:45:22 GMT', 'Content-Type': 'text/html', 'Content-Length': '183', 'Connection': 'close'}"
      ]
     },
     "execution_count": 21,
     "metadata": {},
     "output_type": "execute_result"
    }
   ],
   "source": [
    "rocrate_transfer.headers"
   ]
  },
  {
   "cell_type": "code",
   "execution_count": null,
   "metadata": {},
   "outputs": [],
   "source": []
  }
 ],
 "metadata": {
  "kernelspec": {
   "display_name": "venv",
   "language": "python",
   "name": "python3"
  },
  "language_info": {
   "codemirror_mode": {
    "name": "ipython",
    "version": 3
   },
   "file_extension": ".py",
   "mimetype": "text/x-python",
   "name": "python",
   "nbconvert_exporter": "python",
   "pygments_lexer": "ipython3",
   "version": "3.9.2"
  },
  "orig_nbformat": 4
 },
 "nbformat": 4,
 "nbformat_minor": 2
}
