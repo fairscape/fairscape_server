{
 "cells": [
  {
   "cell_type": "code",
   "execution_count": null,
   "id": "8368c8cc-f9d2-44c1-bb05-79b70ce65026",
   "metadata": {},
   "outputs": [],
   "source": [
    "class ROCrateNotFoundException(Exception):\n",
    "\n",
    "    def __init__(self, message=\"ROCRATE NOT FOUND\", query=None, dbname=None, collection_name: str = None):\n",
    "\n",
    "        self.message = message\n",
    "        self.query = query\n",
    "        self.dbname = dbname\n",
    "        self.collection_name = collection_name\n",
    "        super().__init__(self.message)"
   ]
  },
  {
   "cell_type": "code",
   "execution_count": null,
   "id": "bcd80fe8-d2c4-4549-a5a5-5b100a4dca9a",
   "metadata": {},
   "outputs": [],
   "source": []
  },
  {
   "cell_type": "code",
   "execution_count": null,
   "id": "80833320-1a57-48a9-a16c-eb827b3aa3a6",
   "metadata": {},
   "outputs": [],
   "source": [
    "class ROCrate(FairscapeBaseClass):\n",
    "\n",
    "    def read(self)-> None:\n",
    "        pass\n",
    "\n",
    "\n",
    "def ReturnROCrateMetadata(mongo_client: pymongo.MongoClient, query: dict, dbname: str, collection_name: str) -> dict:\n",
    "    mongo_db = mongo_client[dbname]\n",
    "    mongo_collection = mongo_db[collection_name]\n",
    "\n",
    "    query = mongo_collection.find_one(query)\n",
    "\n",
    "    if query == {}:\n",
    "        raise ROCrateNotFoundException(message=f\"ROCRATE NOT FOUND: {str(query)}\")\n",
    "    else:\n",
    "        return query"
   ]
  },
  {
   "cell_type": "markdown",
   "id": "fad8b43c-23de-4f8a-b3db-4e7d54498da2",
   "metadata": {},
   "source": [
    "## ROUTERS"
   ]
  },
  {
   "cell_type": "code",
   "execution_count": null,
   "id": "5311352b-eb56-4080-a1e2-921f93afa39d",
   "metadata": {},
   "outputs": [],
   "source": [
    "@app.get()\n",
    "def get_rocrate():\n",
    "    ...\n",
    "\n",
    "    try:\n",
    "        rocrate_metadata = ReturnROCrateMetadata(mongo_client, {\"@id\": guid}, dbname=\"fairscape\", collection=\"rocrate\")\n",
    "    except ROCrateNotFoundException as e:\n",
    "        return {\"message\": e.messaage}\n",
    "    \n",
    "    rocrate_model = ROCrate(**rocrate_metadata)\n",
    "\n",
    "    return ROCrate.json(alias=True)\n"
   ]
  },
  {
   "cell_type": "code",
   "execution_count": null,
   "id": "8179cef4-ca2d-4b48-aaa2-fe09aa2be8c0",
   "metadata": {},
   "outputs": [],
   "source": []
  },
  {
   "cell_type": "code",
   "execution_count": null,
   "id": "a3321e43-d63e-4002-b42e-1f5de9212fa8",
   "metadata": {},
   "outputs": [],
   "source": [
    "rocrate_metadata = self.dict(by_alias=True)\n",
    "rocrate_metadata['distribution'] = {}\n",
    "\n",
    "mongo_collection.insert_one(rocrate_metadata)"
   ]
  }
 ],
 "metadata": {
  "kernelspec": {
   "display_name": "Python 3 (ipykernel)",
   "language": "python",
   "name": "python3"
  },
  "language_info": {
   "codemirror_mode": {
    "name": "ipython",
    "version": 3
   },
   "file_extension": ".py",
   "mimetype": "text/x-python",
   "name": "python",
   "nbconvert_exporter": "python",
   "pygments_lexer": "ipython3",
   "version": "3.10.4"
  }
 },
 "nbformat": 4,
 "nbformat_minor": 5
}
