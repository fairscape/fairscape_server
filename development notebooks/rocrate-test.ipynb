{
 "cells": [
  {
   "attachments": {},
   "cell_type": "markdown",
   "metadata": {},
   "source": [
    "# API ROCrate Tests"
   ]
  },
  {
   "cell_type": "code",
   "execution_count": 406,
   "metadata": {},
   "outputs": [],
   "source": [
    "import requests\n",
    "import json\n",
    "from requests_toolbelt.multipart.encoder import MultipartEncoder\n",
    "\n",
    "root_url = \"http://localhost:8080/\""
   ]
  },
  {
   "attachments": {},
   "cell_type": "markdown",
   "metadata": {},
   "source": [
    "## Create users"
   ]
  },
  {
   "cell_type": "code",
   "execution_count": 407,
   "metadata": {
    "collapsed": true
   },
   "outputs": [
    {
     "data": {
      "text/plain": [
       "{'error': 'document already exists'}"
      ]
     },
     "execution_count": 407,
     "metadata": {},
     "output_type": "execute_result"
    }
   ],
   "source": [
    "user1_data = {\n",
    "    \"@id\": \"ark:99999/test-user1\",\n",
    "    \"name\": \"Test User1\",\n",
    "    \"type\": \"Person\",\n",
    "    \"email\": \"testuser1@example.org\",\n",
    "    \"password\": \"test1\",\n",
    "    \"organizations\": [],\n",
    "    \"projects\": [],\n",
    "    \"datasets\": [],\n",
    "    \"rocrates\": [],\n",
    "    \"software\": [],\n",
    "    \"computations\": [],\n",
    "    \"evidencegraphs\": []\n",
    "}\n",
    "user1_create = requests.post(root_url + \"user\", json=user1_data)\n",
    "user1_create.json()\n"
   ]
  },
  {
   "attachments": {},
   "cell_type": "markdown",
   "metadata": {},
   "source": [
    "## Create Organization"
   ]
  },
  {
   "cell_type": "code",
   "execution_count": 408,
   "metadata": {},
   "outputs": [],
   "source": [
    "org_data = {\n",
    "    \"@id\": \"ark:99999/test-org\",\n",
    "    \"name\": \"test organization\",\n",
    "    \"@type\": \"Organization\",\n",
    "    \"owner\": {\n",
    "        \"@id\": user1_data['@id'],\n",
    "        \"name\": user1_data['name'],\n",
    "        \"email\": user1_data['email'],\n",
    "        \"@type\": \"Person\"\n",
    "    }\n",
    "}"
   ]
  },
  {
   "cell_type": "code",
   "execution_count": 409,
   "metadata": {},
   "outputs": [
    {
     "data": {
      "text/plain": [
       "{'error': 'organization already exists'}"
      ]
     },
     "execution_count": 409,
     "metadata": {},
     "output_type": "execute_result"
    }
   ],
   "source": [
    "import base64\n",
    "encoded_credentials = base64.b64encode(\n",
    "    bytes(f\"{user1_data.get('email')}:{user1_data.get('password')}\", \"utf-8\"))\n",
    "\n",
    "owner_headers = {\"Authorization\" : f\"Basic {str(encoded_credentials, 'utf-8')}\" }\n",
    "\n",
    "organization_create = requests.post(root_url + \"organization\", data=json.dumps(org_data), headers=owner_headers)\n",
    "organization_create.json()"
   ]
  },
  {
   "attachments": {},
   "cell_type": "markdown",
   "metadata": {},
   "source": [
    "## Create Project"
   ]
  },
  {
   "cell_type": "code",
   "execution_count": 410,
   "metadata": {},
   "outputs": [
    {
     "data": {
      "text/plain": [
       "{'error': 'project already exists'}"
      ]
     },
     "execution_count": 410,
     "metadata": {},
     "output_type": "execute_result"
    }
   ],
   "source": [
    "project_data = {\n",
    "    \"@id\": \"ark:99999/test-org/test-proj\",\n",
    "    \"name\": \"Test Project\",\n",
    "    \"@type\": \"Project\",\n",
    "    \"owner\": {\n",
    "        \"@id\": user1_data['@id'],\n",
    "        \"name\": user1_data['name'],\n",
    "        \"email\": user1_data['email'],\n",
    "        \"@type\": \"Person\"\n",
    "    },\n",
    "    \"memberOf\": {\n",
    "        \"@id\": org_data['@id'],\n",
    "        \"name\": org_data['name'],\n",
    "        \"@type\": org_data['@type']\n",
    "    }\n",
    "}\n",
    "project_create = requests.post(root_url + \"project\", json=project_data, headers=owner_headers)\n",
    "project_create.json()"
   ]
  },
  {
   "attachments": {},
   "cell_type": "markdown",
   "metadata": {},
   "source": [
    "## Create ROCrate metadata"
   ]
  },
  {
   "cell_type": "code",
   "execution_count": 411,
   "metadata": {},
   "outputs": [],
   "source": [
    "rocrate_data = {\n",
    "    \"@id\": \"ark:99999/UVA/B2AI/test_rocrate\",\n",
    "    \"@type\": \"https://w3id.org/EVI#ROCrate\",\n",
    "    \"name\": \"test-rocrate.zip\",\n",
    "    \"isPartOf\": [\n",
    "        { \n",
    "            \"@id\": org_data['@id'], \n",
    "            \"name\": org_data['name'],\n",
    "            \"@type\": org_data['@type']\n",
    "        },\n",
    "        {\n",
    "            \"@id\": project_data['@id'],\n",
    "            \"name\": project_data['name'],\n",
    "            \"@type\": project_data['@type']\n",
    "        }\n",
    "    ],\n",
    "    \"@graph\" : [\n",
    "        {            \n",
    "            \"@id\": \"ark:/UVA/B2AI/test_rocrate/ro-crate-metadata.json\",\n",
    "            \"metadataType\": \"https://w3id.org/EVI#Dataset\",\n",
    "            \"conformsTo\": {\n",
    "              \"@id\": \"https://w3id.org/ro/crate/1.1\"\n",
    "            },\n",
    "            \"about\": {\n",
    "              \"@id\": \"ark:/UVA/B2AI/test_rocrate\"\n",
    "            },\n",
    "            \"isPartOf\": {\n",
    "              \"@id\": \"ark:/UVA/B2AI/test_rocrate\"\n",
    "            },\n",
    "            \"contentUrl\": \"file://tests/guid_test_rocrate/ro-crate-metadata.json\"            \n",
    "        },\n",
    "        {\n",
    "          \"@id\": \"ark:/UVA/B2AI/test_rocrate/AP-MS_embeddings-Dataset\",\n",
    "          \"@context\": {\n",
    "            \"@vocab\": \"https://schema.org/\",\n",
    "            \"evi\": \"https://w3id.org/EVI#\"\n",
    "          },\n",
    "          \"metadataType\": \"https://w3id.org/EVI#Dataset\",\n",
    "          \"name\": \"AP-MS embeddings\",\n",
    "          \"author\": \"Gygi lab (https://gygi.hms.harvard.edu/team.html)\",\n",
    "          \"datePublished\": \"2021-04-23\",\n",
    "          \"version\": \"1.0.0\",\n",
    "          \"description\": \"Affinity purification mass spectrometer (APMS) embeddings for each protein in the study,  generated by node2vec predict.\",\n",
    "          \"associatedPublication\": \"Qin, Y. et al. A multi-scale map of cell structure fusing protein images and interactions\",\n",
    "          \"additionalDocumentation\": \"https://idekerlab.ucsd.edu/music/\",\n",
    "          \"format\": \"CSV\",\n",
    "          \"schema\": \"\",\n",
    "          \"generatedBy\": [],\n",
    "          \"derivedFrom\": [],\n",
    "          \"usedBy\": [],\n",
    "          \"contentUrl\": \"file://tests/guid_test_rocrate/APMS_embedding_MUSIC.csv\"\n",
    "        }, \n",
    "        {\n",
    "          \"@id\": \"ark:59853/UVA/B2AI/rocrate_test/music_software\",\n",
    "          \"@context\": {\n",
    "            \"@vocab\": \"https://schema.org/\",\n",
    "            \"evi\": \"https://w3id.org/EVI#\"\n",
    "          },\n",
    "          \"@type\": \"https://w3id.org/EVI#Software\",\n",
    "          \"name\": \"MuSIC\",\n",
    "          \"author\": \"Qin, Y.\",\n",
    "          \"datePublished\": \"2021-06-20\",\n",
    "          \"version\": \"1.0\",\n",
    "          \"description\": \"script written in python to calibrate pairwise distance.\",\n",
    "          \"associatedPublication\": \"Qin, Y. et al. A multi-scale map of cell structure fusing protein images and interactions. Nature 600, 536\\u2013542 2021\",\n",
    "          \"additionalDocumentation\": \"\",\n",
    "          #\"format\": \".py\", # enabling instantiates as Dataset instead of Software\n",
    "          \"usedByComputation\": [],\n",
    "          \"contentUrl\": \"file://tests/guid_test_rocrate/calibrate_pairwise_distance.py\"    \n",
    "        },\n",
    "        {\n",
    "          \"@id\": \"ark:/UVA/B2AI/test_rocrate/average_predicted_protein_proximities-Computation\",\n",
    "          \"@context\": {\n",
    "            \"@vocab\": \"https://schema.org/\",\n",
    "            \"evi\": \"https://w3id.org/EVI#\"\n",
    "          },\n",
    "          \"@type\": \"https://w3id.org/EVI#Computation\",\n",
    "          \"name\": \"average predicted protein proximities\",\n",
    "          \"runBy\": \"Max Levinson\",\n",
    "          \"dateCreated\": \"03-17-2023\",\n",
    "          \"description\": \"test run of music pipeline using example data\",\n",
    "          \"associatedPublication\": \"\",\n",
    "          \"additionalDocumentation\": \"\",\n",
    "          \"command\": \"\",\n",
    "          \"usedSoftware\": [\n",
    "            \"random_forest_output (https://github.com/idekerlab/MuSIC/blob/master/random_forest_output.py)\"\n",
    "          ],\n",
    "          \"calledBy\": \"\",\n",
    "          \"usedDataset\": [\n",
    "            \"[predicted protein proximities:\\nFold 1 proximities:\\n    IF_emd_1_APMS_emd_1.RF_maxDep_30_nEst_1000.fold_1.pkl]\"\n",
    "          ],\n",
    "          \"generated\": [\n",
    "            \"[averages of predicted protein proximities (https://github.com/idekerlab/MuSIC/blob/master/Examples/MuSIC_predicted_proximity.txt)]\"\n",
    "          ]          \n",
    "        }\n",
    "    ]\n",
    "}"
   ]
  },
  {
   "attachments": {},
   "cell_type": "markdown",
   "metadata": {},
   "source": [
    "## Transfer ROCrate"
   ]
  },
  {
   "cell_type": "code",
   "execution_count": 412,
   "metadata": {},
   "outputs": [
    {
     "data": {
      "text/plain": [
       "{'created': {'@id': 'ark:99999/UVA/B2AI/test_rocrate',\n",
       "  '@type': 'ROCrate',\n",
       "  'name': 'test-rocrate.zip'}}"
      ]
     },
     "execution_count": 412,
     "metadata": {},
     "output_type": "execute_result"
    }
   ],
   "source": [
    "mp_encoder = MultipartEncoder(\n",
    "    fields={\n",
    "        'rocrate': json.dumps(rocrate_data),        \n",
    "        'file': ('test-rocrate', open('/home/sadnan/PycharmProjects/mds_python/tests/guid_test_rocrate.zip', 'rb'), 'application/zip '),\n",
    "    }\n",
    ")\n",
    "\n",
    "# upload a rocrate to minio object store\n",
    "\n",
    "rocrate_validate_transfer = requests.post(root_url + f\"rocrate/publish\",                              \n",
    "    data=mp_encoder,  # The MultipartEncoder is posted as data, don't use files=...!\n",
    "    # The MultipartEncoder provides the content-type header with the boundary:\n",
    "    headers={'Content-Type': mp_encoder.content_type}\n",
    "                )\n",
    "                    \n",
    "rocrate_validate_transfer.json()"
   ]
  }
 ],
 "metadata": {
  "kernelspec": {
   "display_name": "Python 3",
   "language": "python",
   "name": "python3"
  },
  "language_info": {
   "codemirror_mode": {
    "name": "ipython",
    "version": 3
   },
   "file_extension": ".py",
   "mimetype": "text/x-python",
   "name": "python",
   "nbconvert_exporter": "python",
   "pygments_lexer": "ipython3",
   "version": "3.8.10"
  }
 },
 "nbformat": 4,
 "nbformat_minor": 0
}
