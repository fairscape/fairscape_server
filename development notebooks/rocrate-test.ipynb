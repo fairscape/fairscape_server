{
 "cells": [
  {
   "attachments": {},
   "cell_type": "markdown",
   "metadata": {},
   "source": [
    "# API ROCrate Tests"
   ]
  },
  {
   "cell_type": "code",
   "execution_count": null,
   "metadata": {},
   "outputs": [],
   "source": [
    "import requests\n",
    "import json\n",
    "from requests_toolbelt.multipart.encoder import MultipartEncoder\n",
    "\n",
    "root_url = \"http://localhost:8080/\""
   ]
  },
  {
   "attachments": {},
   "cell_type": "markdown",
   "metadata": {},
   "source": [
    "## Create users"
   ]
  },
  {
   "cell_type": "code",
   "execution_count": null,
   "metadata": {
    "collapsed": true
   },
   "outputs": [],
   "source": [
    "user1_data = {\n",
    "    \"@id\": \"ark:99999/test-user1\",\n",
    "    \"name\": \"Test User1\",\n",
    "    \"type\": \"Person\",\n",
    "    \"email\": \"testuser1@example.org\",\n",
    "    \"password\": \"test1\",\n",
    "    \"organizations\": [],\n",
    "    \"projects\": [],\n",
    "    \"datasets\": [],\n",
    "    \"rocrates\": [],\n",
    "    \"software\": [],\n",
    "    \"computations\": [],\n",
    "    \"evidencegraphs\": []\n",
    "}\n",
    "user1_create = requests.post(root_url + \"user\", json=user1_data)\n",
    "user1_create.json()\n"
   ]
  },
  {
   "cell_type": "code",
   "execution_count": null,
   "metadata": {},
   "outputs": [],
   "source": [
    "# Get a user\n",
    "user1_get = requests.get(root_url + \"user/\"+ user1_data['@id'])\n",
    "user1_get.json()"
   ]
  },
  {
   "attachments": {},
   "cell_type": "markdown",
   "metadata": {},
   "source": [
    "## Create Organization"
   ]
  },
  {
   "cell_type": "code",
   "execution_count": null,
   "metadata": {},
   "outputs": [],
   "source": [
    "org_data = {\n",
    "    \"@id\": \"ark:99999/test-org\",\n",
    "    \"name\": \"test organization\",\n",
    "    \"@type\": \"Organization\",\n",
    "    \"owner\": {\n",
    "        \"@id\": user1_data['@id'],\n",
    "        \"name\": user1_data['name'],\n",
    "        \"email\": user1_data['email'],\n",
    "        \"@type\": \"Person\"\n",
    "    }\n",
    "}"
   ]
  },
  {
   "cell_type": "code",
   "execution_count": null,
   "metadata": {},
   "outputs": [],
   "source": [
    "import base64\n",
    "encoded_credentials = base64.b64encode(\n",
    "    bytes(f\"{user1_data.get('email')}:{user1_data.get('password')}\", \"utf-8\"))\n",
    "\n",
    "owner_headers = {\"Authorization\" : f\"Basic {str(encoded_credentials, 'utf-8')}\" }\n",
    "\n",
    "organization_create = requests.post(root_url + \"organization\", data=json.dumps(org_data), headers=owner_headers)\n",
    "organization_create.json()"
   ]
  },
  {
   "cell_type": "code",
   "execution_count": null,
   "metadata": {},
   "outputs": [],
   "source": [
    "# Get an organization\n",
    "org_get = requests.get(root_url + \"organization/\"+ org_data['@id'], headers=owner_headers)\n",
    "org_get.json()"
   ]
  },
  {
   "attachments": {},
   "cell_type": "markdown",
   "metadata": {},
   "source": [
    "## Create Project"
   ]
  },
  {
   "cell_type": "code",
   "execution_count": null,
   "metadata": {},
   "outputs": [],
   "source": [
    "project_data = {\n",
    "    \"@id\": \"ark:99999/test-org/test-proj\",\n",
    "    \"name\": \"Test Project\",\n",
    "    \"@type\": \"Project\",\n",
    "    \"owner\": {\n",
    "        \"@id\": user1_data['@id'],\n",
    "        \"name\": user1_data['name'],\n",
    "        \"email\": user1_data['email'],\n",
    "        \"@type\": \"Person\"\n",
    "    },\n",
    "    \"memberOf\": {\n",
    "        \"@id\": org_data['@id'],\n",
    "        \"name\": org_data['name'],\n",
    "        \"@type\": org_data['@type']\n",
    "    }\n",
    "}\n",
    "project_create = requests.post(root_url + \"project\", json=project_data, headers=owner_headers)\n",
    "project_create.json()"
   ]
  },
  {
   "cell_type": "code",
   "execution_count": null,
   "metadata": {},
   "outputs": [],
   "source": [
    "# Get a project\n",
    "project_get = requests.get(root_url + \"project/\"+ project_data['@id'], headers=owner_headers)\n",
    "project_get.json()"
   ]
  },
  {
   "attachments": {},
   "cell_type": "markdown",
   "metadata": {},
   "source": [
    "## Transfer ROCrate to MinIO"
   ]
  },
  {
   "cell_type": "code",
   "execution_count": 18,
   "metadata": {},
   "outputs": [
    {
     "data": {
      "text/plain": [
       "{'created': {'@id': 'crate.guid', '@type': 'ROCrate', 'name': 'crate.name'}}"
      ]
     },
     "execution_count": 18,
     "metadata": {},
     "output_type": "execute_result"
    }
   ],
   "source": [
    "import requests\n",
    "import json\n",
    "from requests_toolbelt.multipart.encoder import MultipartEncoder\n",
    "\n",
    "root_url = \"http://localhost:8080/\"\n",
    "mp_encoder = MultipartEncoder(\n",
    "    fields={        \n",
    "        # 'file' should be same as the argument in the POST method\n",
    "        'file': ('test-rocrate', open('/home/sadnan/PycharmProjects/mds_python/tests/guid_test_rocrate.zip', 'rb'), 'application/zip')\n",
    "        #'file': ('test-rocrate', open('/home/sadnan/Downloads/empty-zip-file.zip', 'rb'), 'application/zip')\n",
    "        #'file': ('test-rocrate', open('/home/sadnan/Downloads/sample.zip', 'rb'), 'application/zip')\n",
    "        #'file': ('test-rocrate', open('/home/sadnan/Downloads/bad-zip-file.zip', 'rb'), 'application/zip')\n",
    "        #'file': ('test-rocrate', open('/home/sadnan/Downloads/no-rocrate-metadata.zip', 'rb'), 'application/zip')\n",
    "        #'file': ('test-rocrate', open('/home/sadnan/Downloads/extra_metadata_object_in_rocrate.zip', 'rb'), 'application/zip')\n",
    "\n",
    "\n",
    "    }\n",
    ")\n",
    "\n",
    "# upload a rocrate to minio object store\n",
    "rocrate_transfer = requests.post(\n",
    "    root_url + f\"rocrate/upload\",\n",
    "    data=mp_encoder,                              \n",
    "    # The MultipartEncoder provides the content-type header with the boundary:\n",
    "    headers={'Content-Type': mp_encoder.content_type}\n",
    ")\n",
    "rocrate_transfer.json()"
   ]
  },
  {
   "attachments": {},
   "cell_type": "markdown",
   "metadata": {},
   "source": [
    "# List RO-Crates"
   ]
  },
  {
   "cell_type": "code",
   "execution_count": 19,
   "metadata": {},
   "outputs": [
    {
     "data": {
      "text/plain": [
       "{'rocrates': [{'@id': 'ark:/UVA/B2AI/test_rocrate',\n",
       "   '@type': 'Dataset',\n",
       "   'name': 'test rocrate'}]}"
      ]
     },
     "execution_count": 19,
     "metadata": {},
     "output_type": "execute_result"
    }
   ],
   "source": [
    "list_rocrates = requests.get(root_url + \"rocrate\")\n",
    "list_rocrates.json()"
   ]
  },
  {
   "attachments": {},
   "cell_type": "markdown",
   "metadata": {},
   "source": [
    "# Download ROCrate from its identifier"
   ]
  },
  {
   "attachments": {},
   "cell_type": "markdown",
   "metadata": {},
   "source": [
    "\n",
    "download_rocrate = requests.get(root_url + f\"rocrate/download/ark:99999/UVA/B2AI/test_rocrate\")\n",
    "download_download.json()"
   ]
  }
 ],
 "metadata": {
  "kernelspec": {
   "display_name": "Python 3",
   "language": "python",
   "name": "python3"
  },
  "language_info": {
   "codemirror_mode": {
    "name": "ipython",
    "version": 3
   },
   "file_extension": ".py",
   "mimetype": "text/x-python",
   "name": "python",
   "nbconvert_exporter": "python",
   "pygments_lexer": "ipython3",
   "version": "3.8.10"
  }
 },
 "nbformat": 4,
 "nbformat_minor": 0
}
