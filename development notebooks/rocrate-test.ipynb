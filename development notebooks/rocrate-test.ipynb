{
 "cells": [
  {
   "attachments": {},
   "cell_type": "markdown",
   "metadata": {},
   "source": [
    "# API ROCrate Tests"
   ]
  },
  {
   "cell_type": "code",
   "execution_count": 2,
   "metadata": {},
   "outputs": [],
   "source": [
    "import requests\n",
    "import json\n",
    "from requests_toolbelt.multipart.encoder import MultipartEncoder\n",
    "\n",
    "root_url = \"http://localhost:8080/\""
   ]
  },
  {
   "attachments": {},
   "cell_type": "markdown",
   "metadata": {},
   "source": [
    "## Create users"
   ]
  },
  {
   "cell_type": "code",
   "execution_count": 4,
   "metadata": {
    "collapsed": true
   },
   "outputs": [
    {
     "data": {
      "text/plain": [
       "{'error': 'document already exists'}"
      ]
     },
     "execution_count": 4,
     "metadata": {},
     "output_type": "execute_result"
    }
   ],
   "source": [
    "user1_data = {\n",
    "    \"@id\": \"ark:99999/test-user1\",\n",
    "    \"name\": \"Test User1\",\n",
    "    \"type\": \"Person\",\n",
    "    \"email\": \"testuser1@example.org\",\n",
    "    \"password\": \"test1\",\n",
    "    \"organizations\": [],\n",
    "    \"projects\": [],\n",
    "    \"datasets\": [],\n",
    "    \"rocrates\": [],\n",
    "    \"software\": [],\n",
    "    \"computations\": [],\n",
    "    \"evidencegraphs\": []\n",
    "}\n",
    "user1_create = requests.post(root_url + \"user\", json=user1_data)\n",
    "user1_create.json()\n"
   ]
  },
  {
   "attachments": {},
   "cell_type": "markdown",
   "metadata": {},
   "source": [
    "## Create Organization"
   ]
  },
  {
   "cell_type": "code",
   "execution_count": 6,
   "metadata": {},
   "outputs": [],
   "source": [
    "org_data = {\n",
    "    \"@id\": \"ark:99999/test-org\",\n",
    "    \"name\": \"test organization\",\n",
    "    \"@type\": \"Organization\",\n",
    "    \"owner\": {\n",
    "        \"@id\": user1_data['@id'],\n",
    "        \"name\": user1_data['name'],\n",
    "        \"email\": user1_data['email'],\n",
    "        \"@type\": \"Person\"\n",
    "    }\n",
    "}"
   ]
  },
  {
   "cell_type": "code",
   "execution_count": 7,
   "metadata": {},
   "outputs": [
    {
     "data": {
      "text/plain": [
       "{'created': {'@id': 'ark:99999/test-org', '@type': 'Organization'}}"
      ]
     },
     "execution_count": 7,
     "metadata": {},
     "output_type": "execute_result"
    }
   ],
   "source": [
    "import base64\n",
    "encoded_credentials = base64.b64encode(\n",
    "    bytes(f\"{user1_data.get('email')}:{user1_data.get('password')}\", \"utf-8\"))\n",
    "\n",
    "owner_headers = {\"Authorization\" : f\"Basic {str(encoded_credentials, 'utf-8')}\" }\n",
    "\n",
    "organization_create = requests.post(root_url + \"organization\", data=json.dumps(org_data), headers=owner_headers)\n",
    "organization_create.json()"
   ]
  },
  {
   "attachments": {},
   "cell_type": "markdown",
   "metadata": {},
   "source": [
    "## Create Project"
   ]
  },
  {
   "cell_type": "code",
   "execution_count": 9,
   "metadata": {},
   "outputs": [
    {
     "data": {
      "text/plain": [
       "{'created': {'@id': 'ark:99999/test-org/test-proj', '@type': 'Project'}}"
      ]
     },
     "execution_count": 9,
     "metadata": {},
     "output_type": "execute_result"
    }
   ],
   "source": [
    "project_data = {\n",
    "    \"@id\": \"ark:99999/test-org/test-proj\",\n",
    "    \"name\": \"Test Project\",\n",
    "    \"@type\": \"Project\",\n",
    "    \"owner\": {\n",
    "        \"@id\": user1_data['@id'],\n",
    "        \"name\": user1_data['name'],\n",
    "        \"email\": user1_data['email'],\n",
    "        \"@type\": \"Person\"\n",
    "    },\n",
    "    \"memberOf\": {\n",
    "        \"@id\": org_data['@id'],\n",
    "        \"name\": org_data['name'],\n",
    "        \"@type\": org_data['@type']\n",
    "    }\n",
    "}\n",
    "project_create = requests.post(root_url + \"project\", json=project_data, headers=owner_headers)\n",
    "project_create.json()"
   ]
  },
  {
   "attachments": {},
   "cell_type": "markdown",
   "metadata": {},
   "source": [
    "## Create ROCrate"
   ]
  },
  {
   "cell_type": "code",
   "execution_count": 11,
   "metadata": {},
   "outputs": [
    {
     "data": {
      "text/plain": [
       "{'created': {'@id': 'ark:99999/test-org/test-proj/test-rocrate',\n",
       "  '@type': 'evi:ROCrate'}}"
      ]
     },
     "execution_count": 11,
     "metadata": {},
     "output_type": "execute_result"
    }
   ],
   "source": [
    "rocrate_data = {\n",
    "    \"@id\": \"ark:99999/test-org/test-proj/test-rocrate\",\n",
    "    \"@type\": \"evi:ROCrate\",\n",
    "    \"name\": \"Test ROCrate\",\n",
    "    \"owner\": {\n",
    "        \"@id\": user1_data['@id'],\n",
    "        \"name\": user1_data['name'],\n",
    "        \"email\": user1_data['email'],\n",
    "        \"@type\": \"Person\"\n",
    "    }    \n",
    "}\n",
    "rocrate_create = requests.post(root_url + f\"rocrate/\", data=json.dumps(rocrate_data))\n",
    "rocrate_create.json()"
   ]
  },
  {
   "attachments": {},
   "cell_type": "markdown",
   "metadata": {},
   "source": [
    "## List ROCrates"
   ]
  },
  {
   "cell_type": "code",
   "execution_count": 16,
   "metadata": {},
   "outputs": [
    {
     "data": {
      "text/plain": [
       "{'rocrates': [{'@id': 'ark:99999/test-org/test-proj/test-rocrate',\n",
       "   '@type': 'evi:ROCrate',\n",
       "   'name': 'Test ROCrate'}]}"
      ]
     },
     "execution_count": 16,
     "metadata": {},
     "output_type": "execute_result"
    }
   ],
   "source": [
    "rocrate_list = requests.get(root_url + f\"rocrate\")\n",
    "rocrate_list.json()"
   ]
  },
  {
   "cell_type": "code",
   "execution_count": 17,
   "metadata": {},
   "outputs": [],
   "source": [
    "distribution_data = {\n",
    "    \"@id\": \"ark:99999/test-org/test-proj/test-rocrate/guid-test-rocrate.zip\",\n",
    "    \"@type\": \"DataDownload\",\n",
    "    \"name\": \"Test ROCrate\",\n",
    "    \"encodingFormat\": \".zip\",\n",
    "    \"encodesCreativeWork\": {\n",
    "        \"@id\": rocrate_data['@id'],\n",
    "        \"@type\": rocrate_data['@type'],\n",
    "        \"name\": rocrate_data['name']\n",
    "    },\n",
    "    \"owner\": {\n",
    "        \"@id\": user1_data['@id'],\n",
    "        \"name\": user1_data['name'],\n",
    "        \"email\": user1_data['email'],\n",
    "        \"@type\": \"Person\"\n",
    "    }\n",
    "}"
   ]
  },
  {
   "cell_type": "code",
   "execution_count": 20,
   "metadata": {},
   "outputs": [
    {
     "data": {
      "text/plain": [
       "{'created': {'@id': 'ark:99999/test-org/test-proj/test-rocrate/guid-test-rocrate.zip',\n",
       "  '@type': 'Download',\n",
       "  'name': 'Test ROCrate'}}"
      ]
     },
     "execution_count": 20,
     "metadata": {},
     "output_type": "execute_result"
    }
   ],
   "source": [
    "mp_encoder = MultipartEncoder(\n",
    "    fields={\n",
    "        'download': json.dumps(distribution_data),\n",
    "        # plain file object, no filename or mime type produces a\n",
    "        # Content-Disposition header with just the part name\n",
    "        'file': ('test-rocrate', open('/home/sadnan/PycharmProjects/mds_python/tests/guid_test_rocrate.zip', 'rb'), 'application/zip '),\n",
    "    }\n",
    ")\n",
    "\n",
    "# upload a software to minio object store\n",
    "# dataset_upload = {'download': str(download_data), 'file': open(\"tests/test-data.csv\", \"rb\")}\n",
    "\n",
    "data_download_upload = requests.post(root_url + f\"register\",                              \n",
    "    data=mp_encoder,  # The MultipartEncoder is posted as data, don't use files=...!\n",
    "    # The MultipartEncoder provides the content-type header with the boundary:\n",
    "    headers={'Content-Type': mp_encoder.content_type}\n",
    "                )\n",
    "                    \n",
    "data_download_upload.json()"
   ]
  },
  {
   "cell_type": "code",
   "execution_count": null,
   "metadata": {},
   "outputs": [],
   "source": []
  }
 ],
 "metadata": {
  "kernelspec": {
   "display_name": "Python 3",
   "language": "python",
   "name": "python3"
  },
  "language_info": {
   "codemirror_mode": {
    "name": "ipython",
    "version": 3
   },
   "file_extension": ".py",
   "mimetype": "text/x-python",
   "name": "python",
   "nbconvert_exporter": "python",
   "pygments_lexer": "ipython3",
   "version": "3.8.10"
  }
 },
 "nbformat": 4,
 "nbformat_minor": 0
}
