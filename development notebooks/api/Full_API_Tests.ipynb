{
 "cells": [
  {
   "cell_type": "markdown",
   "metadata": {},
   "source": [
    "# API End Point Tests for After New Release"
   ]
  },
  {
   "cell_type": "code",
   "execution_count": 1,
   "metadata": {},
   "outputs": [],
   "source": [
    "import requests\n",
    "fairscape_host = \"https://fairscape.net/\""
   ]
  },
  {
   "cell_type": "markdown",
   "metadata": {},
   "source": [
    "## User Validation"
   ]
  },
  {
   "cell_type": "code",
   "execution_count": 2,
   "metadata": {},
   "outputs": [
    {
     "data": {
      "text/plain": [
       "{'created': {'@id': 'ark:99999/test-justin2',\n",
       "  '@type': 'Person',\n",
       "  'name': 'Justin Niestroy'}}"
      ]
     },
     "execution_count": 2,
     "metadata": {},
     "output_type": "execute_result"
    }
   ],
   "source": [
    "import json\n",
    "user1_data = {\n",
    "\t\"@id\": \"ark:99999/test-justin2\",\n",
    "\t\"name\": \"Justin Niestroy\",\n",
    "\t\"type\": \"Person\",\n",
    "\t\"email\": \"testuser1@example.org\",\n",
    "\t\"password\": \"test1\",\n",
    "    \"description\":\"Fake Person\"\n",
    "\t}\n",
    "create_user1 = requests.post(fairscape_host + \"user\", data=json.dumps(user1_data))\n",
    "create_user1.json()"
   ]
  },
  {
   "cell_type": "code",
   "execution_count": 5,
   "metadata": {},
   "outputs": [
    {
     "data": {
      "text/plain": [
       "{'@id': 'ark:99999/test-justin2',\n",
       " '@type': 'Person',\n",
       " '@context': {'@vocab': 'https://schema.org/', 'evi': 'https://w3id.org/EVI#'},\n",
       " 'url': None,\n",
       " 'organizations': [],\n",
       " 'projects': [],\n",
       " 'datasets': [],\n",
       " 'downloads': [],\n",
       " 'rocrates': [],\n",
       " 'software': [],\n",
       " 'computations': [],\n",
       " 'evidencegraphs': [],\n",
       " 'name': 'Justin Niestroy',\n",
       " 'email': 'testuser1@example.org',\n",
       " 'password': 'test1'}"
      ]
     },
     "execution_count": 5,
     "metadata": {},
     "output_type": "execute_result"
    }
   ],
   "source": [
    "requests.get(fairscape_host + 'user/' + create_user1.json()['created']['@id']).json()"
   ]
  },
  {
   "cell_type": "code",
   "execution_count": 7,
   "metadata": {},
   "outputs": [
    {
     "data": {
      "text/plain": [
       "'https://fairscape.net/ark:99999/test-justin2'"
      ]
     },
     "execution_count": 7,
     "metadata": {},
     "output_type": "execute_result"
    }
   ],
   "source": [
    "fairscape_host + create_user1.json()['created']['@id']"
   ]
  },
  {
   "cell_type": "markdown",
   "metadata": {},
   "source": [
    "### Validate that the linnk works and resolves to html"
   ]
  },
  {
   "cell_type": "markdown",
   "metadata": {},
   "source": [
    "## Software"
   ]
  },
  {
   "cell_type": "code",
   "execution_count": 10,
   "metadata": {},
   "outputs": [
    {
     "data": {
      "text/plain": [
       "{'created': {'@id': 'ark:99999/test-software',\n",
       "  '@type': 'evi:Software',\n",
       "  'name': 'test software',\n",
       "  'description': 'Fake Des',\n",
       "  'author': 'ark:99999/test-justin2'}}"
      ]
     },
     "execution_count": 10,
     "metadata": {},
     "output_type": "execute_result"
    }
   ],
   "source": [
    "software_data = {\n",
    "\t\"@id\": \"ark:99999/test-software\",\n",
    "\t\"@type\": \"evi:Software\",\n",
    "\t\"name\": \"test software\",\n",
    "\t\"owner\": \"ark:99999/test-justin2\",\n",
    "\t\"author\": \"ark:99999/test-justin2\",\n",
    "    \"downloadUrl\": \"some url\",\n",
    "    \"citation\": \"some citation\",\n",
    "\t\"evi:usedBy\": [],\n",
    "    \"description\":\"Fake Des\",\n",
    "    'keywords':['test']\n",
    "}\n",
    "\n",
    "\n",
    "software_create = requests.post(fairscape_host + f\"software\", data=json.dumps(software_data))\n",
    "software_create.json()"
   ]
  },
  {
   "cell_type": "code",
   "execution_count": 11,
   "metadata": {},
   "outputs": [
    {
     "data": {
      "text/plain": [
       "{'@id': 'ark:99999/test-software',\n",
       " '@type': 'evi:Software',\n",
       " 'name': 'test software',\n",
       " '@context': {'@vocab': 'https://schema.org/', 'evi': 'https://w3id.org/EVI#'},\n",
       " 'url': None,\n",
       " 'description': 'Fake Des',\n",
       " 'license': ' https://creativecommons.org/licenses/by/4.0/',\n",
       " 'keywords': ['test'],\n",
       " 'published': True,\n",
       " 'owner': 'ark:99999/test-justin2',\n",
       " 'author': 'ark:99999/test-justin2',\n",
       " 'citation': None,\n",
       " 'dateCreated': '2024-05-09T12:59:35.093000',\n",
       " 'distribution': [],\n",
       " 'usedBy': [],\n",
       " 'sourceOrganization': None,\n",
       " 'includedInDataCatalog': None}"
      ]
     },
     "execution_count": 11,
     "metadata": {},
     "output_type": "execute_result"
    }
   ],
   "source": [
    "requests.get(fairscape_host + 'software/' + software_create.json()['created']['@id']).json()"
   ]
  },
  {
   "cell_type": "code",
   "execution_count": 12,
   "metadata": {},
   "outputs": [
    {
     "data": {
      "text/plain": [
       "'https://fairscape.net/ark:99999/test-software'"
      ]
     },
     "execution_count": 12,
     "metadata": {},
     "output_type": "execute_result"
    }
   ],
   "source": [
    "fairscape_host + software_create.json()['created']['@id']"
   ]
  },
  {
   "cell_type": "markdown",
   "metadata": {},
   "source": [
    "## Dataset"
   ]
  },
  {
   "cell_type": "code",
   "execution_count": 14,
   "metadata": {},
   "outputs": [
    {
     "data": {
      "text/plain": [
       "{'created': {'@id': 'ark:99999/test-dataset',\n",
       "  '@type': 'evi:Dataset',\n",
       "  'name': 'test dataset'}}"
      ]
     },
     "execution_count": 14,
     "metadata": {},
     "output_type": "execute_result"
    }
   ],
   "source": [
    "# create dataset\n",
    "dataset_data = {\n",
    "\t\"@id\": \"ark:99999/test-dataset\",\n",
    "\t\"@type\": \"evi:Dataset\",\n",
    "\t\"name\": \"test dataset\",\n",
    "\t\"owner\": 'ark:99999/test-justin2',\n",
    "    'description':'Test Dataset',\n",
    "    'keywords':['test datatset'],\n",
    "    'generatedBy':'ark:99999/test-software'\n",
    "}\n",
    "\n",
    "\n",
    "dataset_create = requests.post(fairscape_host + f\"dataset\", data=json.dumps(dataset_data))\n",
    "dataset_create.json()"
   ]
  },
  {
   "cell_type": "code",
   "execution_count": 15,
   "metadata": {},
   "outputs": [
    {
     "data": {
      "text/plain": [
       "{'@id': 'ark:99999/test-dataset',\n",
       " '@type': 'evi:Dataset',\n",
       " '@context': {'@vocab': 'https://schema.org/', 'evi': 'https://w3id.org/EVI#'},\n",
       " 'url': None,\n",
       " 'license': ' https://creativecommons.org/licenses/by/4.0/',\n",
       " 'keywords': ['test datatset'],\n",
       " 'published': True,\n",
       " 'distribution': [],\n",
       " 'includedInDataCatalog': None,\n",
       " 'sourceOrganization': None,\n",
       " 'author': None,\n",
       " 'dateCreated': '2024-05-09T13:33:07.141000',\n",
       " 'dateModified': '2024-05-09T13:33:07.141000',\n",
       " 'usedBy': [],\n",
       " 'generatedBy': None,\n",
       " 'schema': '',\n",
       " 'name': 'test dataset',\n",
       " 'description': 'Test Dataset',\n",
       " 'owner': 'ark:99999/test-justin2'}"
      ]
     },
     "execution_count": 15,
     "metadata": {},
     "output_type": "execute_result"
    }
   ],
   "source": [
    "requests.get(fairscape_host + 'dataset/' + dataset_create.json()['created']['@id']).json()"
   ]
  },
  {
   "cell_type": "code",
   "execution_count": 16,
   "metadata": {},
   "outputs": [
    {
     "data": {
      "text/plain": [
       "'https://fairscape.net/ark:99999/test-dataset'"
      ]
     },
     "execution_count": 16,
     "metadata": {},
     "output_type": "execute_result"
    }
   ],
   "source": [
    "fairscape_host + dataset_create.json()['created']['@id']"
   ]
  },
  {
   "cell_type": "markdown",
   "metadata": {},
   "source": [
    "## Schema "
   ]
  },
  {
   "cell_type": "code",
   "execution_count": 17,
   "metadata": {},
   "outputs": [
    {
     "name": "stdout",
     "output_type": "stream",
     "text": [
      "201\n",
      "b'{\"created\":{\"@id\":\"ark:59852/schema-test1\",\"@type\":\"evi:Schema\",\"name\":\"CM4AI APMS Gene Node Attributes Schema\"}}'\n"
     ]
    }
   ],
   "source": [
    "s3 = {\n",
    "  \"@id\": \"ark:59852/schema-test1\",\n",
    "  \"@context\": {\n",
    "      \"@vocab\": \"https://schema.org/\",\n",
    "      \"EVI\": \"https://w3id.org/EVI#\"\n",
    "    },\n",
    "  \"@type\": \"EVI:Schema\",\n",
    "  \"name\": \"CM4AI APMS Gene Node Attributes Schema\",\n",
    "  \"description\": \"Schema for APMS embeddings, derived from running node2vec on protien-protien interaction networks obtained from APMS experiments\",\n",
    "  \"properties\": {\n",
    "    \"name\": {\n",
    "      \"description\": \"Gene Symbol for APMS Data\",\n",
    "      \"index\": 0,\n",
    "      \"valueURL\": \"http://edamontology.org/data_1026\",\n",
    "      \"type\": \"string\",\n",
    "      \"pattern\": \"^[A-Za-z0-9/-]*$\"\n",
    "    },\n",
    "    \"represents\": {\n",
    "      \"description\": \"ensembl gene ID for the APMS protien\",\n",
    "      \"index\": 1,\n",
    "      \"valueURL\": \"http://edamontology.org/data_1033\",\n",
    "      \"type\": \"string\",\n",
    "      \"pattern\": \"^[A-Z0-9orf/-]*$|^ensembl:(?:ENSG[0-9]{11})(;?ENSG[0-9]{11})*$\"\n",
    "    },\n",
    "    \"bait\": {\n",
    "        \"description\": \"Boolean value indicating if this protien was a bait protien in APMS experiments\",\n",
    "        \"type\": \"boolean\",\n",
    "        \"index\": 3,\n",
    "        \"valueURL\": None\n",
    "    }\n",
    "  },\n",
    "  \"type\": \"object\",\n",
    "  \"additionalProperties\": False,\n",
    "  \"required\": [\"name\", \"represents\", \"bait\"],\n",
    "  \"separator\": \"\\t\",\n",
    "  \"header\": True,\n",
    "  \"examples\": []\n",
    "}\n",
    "\n",
    "created_schema = requests.post(\n",
    "    fairscape_host + 'schema',\n",
    "    json=s3\n",
    "    )\n",
    "\n",
    "print(created_schema.status_code)\n",
    "print(created_schema.content)"
   ]
  },
  {
   "cell_type": "code",
   "execution_count": 18,
   "metadata": {},
   "outputs": [
    {
     "data": {
      "text/plain": [
       "{'@id': 'ark:59852/schema-test1',\n",
       " '@type': 'evi:Schema',\n",
       " '@context': {'@vocab': 'https://schema.org/', 'evi': 'https://w3id.org/EVI#'},\n",
       " 'url': None,\n",
       " 'type': 'object',\n",
       " 'additionalProperties': False,\n",
       " 'required': ['name', 'represents', 'bait'],\n",
       " 'separator': '\\t',\n",
       " 'header': True,\n",
       " 'examples': [],\n",
       " 'name': 'CM4AI APMS Gene Node Attributes Schema',\n",
       " 'properties': {'name': {'description': 'Gene Symbol for APMS Data',\n",
       "   'index': 0,\n",
       "   'type': 'string',\n",
       "   'value_url': None,\n",
       "   'pattern': '^[A-Za-z0-9/-]*$',\n",
       "   'items': None,\n",
       "   'min_items': None,\n",
       "   'max_items': None,\n",
       "   'unique_items': None,\n",
       "   'valueURL': 'http://edamontology.org/data_1026'},\n",
       "  'represents': {'description': 'ensembl gene ID for the APMS protien',\n",
       "   'index': 1,\n",
       "   'type': 'string',\n",
       "   'value_url': None,\n",
       "   'pattern': '^[A-Z0-9orf/-]*$|^ensembl:(?:ENSG[0-9]{11})(;?ENSG[0-9]{11})*$',\n",
       "   'items': None,\n",
       "   'min_items': None,\n",
       "   'max_items': None,\n",
       "   'unique_items': None,\n",
       "   'valueURL': 'http://edamontology.org/data_1033'},\n",
       "  'bait': {'description': 'Boolean value indicating if this protien was a bait protien in APMS experiments',\n",
       "   'index': 3,\n",
       "   'type': 'boolean',\n",
       "   'value_url': None,\n",
       "   'pattern': None,\n",
       "   'items': None,\n",
       "   'min_items': None,\n",
       "   'max_items': None,\n",
       "   'unique_items': None,\n",
       "   'valueURL': None}}}"
      ]
     },
     "execution_count": 18,
     "metadata": {},
     "output_type": "execute_result"
    }
   ],
   "source": [
    "requests.get(fairscape_host + 'schema/' + created_schema.json()['created']['@id']).json()"
   ]
  },
  {
   "cell_type": "code",
   "execution_count": 19,
   "metadata": {},
   "outputs": [
    {
     "data": {
      "text/plain": [
       "'https://fairscape.net/ark:59852/schema-test1'"
      ]
     },
     "execution_count": 19,
     "metadata": {},
     "output_type": "execute_result"
    }
   ],
   "source": [
    "fairscape_host + created_schema.json()['created']['@id']"
   ]
  },
  {
   "cell_type": "code",
   "execution_count": null,
   "metadata": {},
   "outputs": [],
   "source": []
  }
 ],
 "metadata": {
  "kernelspec": {
   "display_name": "base",
   "language": "python",
   "name": "python3"
  },
  "language_info": {
   "codemirror_mode": {
    "name": "ipython",
    "version": 3
   },
   "file_extension": ".py",
   "mimetype": "text/x-python",
   "name": "python",
   "nbconvert_exporter": "python",
   "pygments_lexer": "ipython3",
   "version": "3.1.-1"
  }
 },
 "nbformat": 4,
 "nbformat_minor": 2
}
