{
 "cells": [
  {
   "cell_type": "markdown",
   "metadata": {
    "pycharm": {
     "name": "#%% md\n"
    }
   },
   "source": [
    "# Fairscape Metadata Service (mds) API Tests"
   ]
  },
  {
   "cell_type": "code",
   "execution_count": 8,
   "metadata": {
    "pycharm": {
     "name": "#%%\n"
    }
   },
   "outputs": [],
   "source": [
    "import json\n",
    "import requests\n",
    "\n",
    "root_url = \"http://localhost:8000/\"\n",
    "#root_url = \"https://fairscape.pods.uvarc.io/\""
   ]
  },
  {
   "cell_type": "code",
   "execution_count": 9,
   "metadata": {},
   "outputs": [],
   "source": [
    "response = requests.get(f\"{root_url}datadownload/ark:99999/test-download/download\")"
   ]
  },
  {
   "cell_type": "code",
   "execution_count": 10,
   "metadata": {},
   "outputs": [
    {
     "data": {
      "text/plain": [
       "b'{\"@id\":\"ark:99999/test-download\",\"error\":\"data download not found\"}'"
      ]
     },
     "execution_count": 10,
     "metadata": {},
     "output_type": "execute_result"
    }
   ],
   "source": [
    "response.content"
   ]
  },
  {
   "cell_type": "markdown",
   "metadata": {
    "pycharm": {
     "name": "#%% md\n"
    }
   },
   "source": [
    "### CRUD Operations on users (/user)"
   ]
  },
  {
   "cell_type": "code",
   "execution_count": 11,
   "metadata": {
    "pycharm": {
     "name": "#%%\n"
    }
   },
   "outputs": [],
   "source": [
    "user1_data = {\n",
    "\t\"@id\": \"ark:99999/test-user1\",\n",
    "\t\"name\": \"Test User1\",\n",
    "\t\"type\": \"Person\",\n",
    "\t\"email\": \"testuser1@example.org\",\n",
    "\t\"password\": \"test1\",\n",
    "\t\"organizations\": [],\n",
    "\t\"projects\": [],\n",
    "\t\"datasets\": [],\n",
    "\t\"software\": [],\n",
    "\t\"computations\": [],\n",
    "\t\"evidencegraphs\": []\n",
    "\t}\n",
    "user2_data = {\n",
    "\t\"@id\": \"ark:99999/test-user2\",\n",
    "\t\"name\": \"Test User2\",\n",
    "\t\"type\": \"Person\",\n",
    "\t\"email\": \"testuser2@example.org\",\n",
    "\t\"password\": \"test2\",\n",
    "\t\"organizations\": [],\n",
    "\t\"projects\": [],\n",
    "\t\"datasets\": [],\n",
    "\t\"software\": [],\n",
    "\t\"computations\": [],\n",
    "\t\"evidencegraphs\": []\n",
    "\t}\n",
    "user3_data = {\n",
    "\t\"@id\": \"ark:99999/test-user3\",\n",
    "\t\"name\": \"Test User3\",\n",
    "\t\"type\": \"Person\",\n",
    "\t\"email\": \"testuser3@example.org\",\n",
    "\t\"password\": \"test3\",\n",
    "\t\"organizations\": [],\n",
    "\t\"projects\": [],\n",
    "\t\"datasets\": [],\n",
    "\t\"software\": [],\n",
    "\t\"computations\": [],\n",
    "\t\"evidencegraphs\": []\n",
    "\t}"
   ]
  },
  {
   "cell_type": "code",
   "execution_count": 12,
   "metadata": {
    "pycharm": {
     "name": "#%%\n"
    }
   },
   "outputs": [
    {
     "data": {
      "text/plain": [
       "{'detail': [{'type': 'missing',\n",
       "   'loc': ['body', 'description'],\n",
       "   'msg': 'Field required',\n",
       "   'input': {'@id': 'ark:99999/test-user3',\n",
       "    'name': 'Test User3',\n",
       "    'type': 'Person',\n",
       "    'email': 'testuser3@example.org',\n",
       "    'password': 'test3',\n",
       "    'organizations': [],\n",
       "    'projects': [],\n",
       "    'datasets': [],\n",
       "    'software': [],\n",
       "    'computations': [],\n",
       "    'evidencegraphs': []},\n",
       "   'url': 'https://errors.pydantic.dev/2.6/v/missing'}]}"
      ]
     },
     "execution_count": 12,
     "metadata": {},
     "output_type": "execute_result"
    }
   ],
   "source": [
    "# create user1\n",
    "create_user1 = requests.post(root_url + \"user\", data=json.dumps(user1_data))\n",
    "create_user1.json()\n",
    "\n",
    "# create user2\n",
    "create_user2 = requests.post(root_url + \"user\", data=json.dumps(user2_data))\n",
    "create_user2.json()\n",
    "\n",
    "# create user2\n",
    "create_user3 = requests.post(root_url + \"user\", data=json.dumps(user3_data))\n",
    "create_user3.json()"
   ]
  },
  {
   "cell_type": "code",
   "execution_count": 13,
   "metadata": {
    "pycharm": {
     "name": "#%%\n"
    }
   },
   "outputs": [
    {
     "data": {
      "text/plain": [
       "{'detail': 'Not authenticated'}"
      ]
     },
     "execution_count": 13,
     "metadata": {},
     "output_type": "execute_result"
    }
   ],
   "source": [
    "# list users\n",
    "list_users = requests.get(root_url + \"user\")\n",
    "list_users.json()"
   ]
  },
  {
   "cell_type": "code",
   "execution_count": 14,
   "metadata": {
    "pycharm": {
     "name": "#%%\n"
    }
   },
   "outputs": [
    {
     "data": {
      "text/plain": [
       "{'error': 'No record found'}"
      ]
     },
     "execution_count": 14,
     "metadata": {},
     "output_type": "execute_result"
    }
   ],
   "source": [
    "# read specific user\n",
    "get_user = requests.get(root_url + f\"user/{user1_data['@id']}\")\n",
    "get_user.json()"
   ]
  },
  {
   "cell_type": "code",
   "execution_count": 9,
   "metadata": {
    "pycharm": {
     "name": "#%%\n"
    }
   },
   "outputs": [],
   "source": [
    "user3_data_update = {\n",
    "\t\"@id\": \"ark:99999/test-user3\",\n",
    "\t\"name\": \"Updated User3\", # with a new name\n",
    "\t\"type\": \"Person\",\n",
    "\t\"email\": \"testuser3@example.org\",\n",
    "\t\"password\": \"test3\",\n",
    "\t\"organizations\": [],\n",
    "\t\"projects\": [],\n",
    "\t\"datasets\": [],\n",
    "\t\"software\": [],\n",
    "\t\"computations\": [],\n",
    "\t\"evidencegraphs\": []\n",
    "\t}"
   ]
  },
  {
   "cell_type": "code",
   "execution_count": 10,
   "metadata": {
    "pycharm": {
     "name": "#%%\n"
    }
   },
   "outputs": [
    {
     "data": {
      "text/plain": [
       "{'updated': {'@id': 'ark:99999/test-user3', '@type': 'Person'}}"
      ]
     },
     "execution_count": 10,
     "metadata": {},
     "output_type": "execute_result"
    }
   ],
   "source": [
    "# update user\n",
    "update_user = requests.put(root_url + \"user\", data=json.dumps(user3_data_update))\n",
    "update_user.json()"
   ]
  },
  {
   "cell_type": "code",
   "execution_count": 11,
   "metadata": {},
   "outputs": [
    {
     "data": {
      "text/plain": [
       "{'@id': 'ark:99999/test-user3',\n",
       " '@type': 'Person',\n",
       " 'organizations': [],\n",
       " 'projects': [],\n",
       " 'datasets': [],\n",
       " 'software': [],\n",
       " 'computations': [],\n",
       " 'evidencegraphs': [],\n",
       " '@context': {'@vocab': 'https://schema.org/', 'evi': 'https://w3id.org/EVI#'},\n",
       " 'name': 'Updated User3',\n",
       " 'email': 'testuser3@example.org',\n",
       " 'password': 'test3'}"
      ]
     },
     "execution_count": 11,
     "metadata": {},
     "output_type": "execute_result"
    }
   ],
   "source": [
    "# get user that was updated\n",
    "get_user = requests.get(root_url + f\"user/{user3_data['@id']}\")\n",
    "get_user.json()\n",
    "\n"
   ]
  },
  {
   "cell_type": "code",
   "execution_count": 12,
   "metadata": {
    "pycharm": {
     "name": "#%%\n"
    }
   },
   "outputs": [
    {
     "data": {
      "text/plain": [
       "{'deleted': {'@id': 'ark:99999/test-user2'}}"
      ]
     },
     "execution_count": 12,
     "metadata": {},
     "output_type": "execute_result"
    }
   ],
   "source": [
    "# delete user\n",
    "delete_user = requests.delete(root_url + f\"user/{user2_data['@id']}\")\n",
    "delete_user.json()"
   ]
  },
  {
   "cell_type": "code",
   "execution_count": 31,
   "metadata": {},
   "outputs": [
    {
     "data": {
      "text/plain": [
       "{'@id': 'ark:99999/test-user2',\n",
       " '@type': 'Person',\n",
       " 'organizations': [],\n",
       " 'projects': [],\n",
       " 'datasets': [],\n",
       " 'software': [],\n",
       " 'computations': [],\n",
       " 'evidencegraphs': [],\n",
       " '@context': {'@vocab': 'https://schema.org/', 'evi': 'https://w3id.org/EVI#'},\n",
       " 'name': 'Test User2',\n",
       " 'email': 'testuser2@example.org',\n",
       " 'password': 'test2'}"
      ]
     },
     "execution_count": 31,
     "metadata": {},
     "output_type": "execute_result"
    }
   ],
   "source": [
    "# check that deleted user is not found\n",
    "get_deleted_user = requests.get(root_url + f\"user/{user2_data['@id']}\")\n",
    "get_deleted_user.json()"
   ]
  },
  {
   "cell_type": "code",
   "execution_count": null,
   "metadata": {
    "pycharm": {
     "name": "#%%\n"
    }
   },
   "outputs": [],
   "source": [
    "# list users again to check success of the deletion\n",
    "list_users = requests.get(root_url + \"user\")\n",
    "list_users.json()"
   ]
  },
  {
   "cell_type": "markdown",
   "metadata": {
    "pycharm": {
     "name": "#%% md\n"
    }
   },
   "source": [
    "### CRUD Operations on Group (/group)"
   ]
  },
  {
   "cell_type": "code",
   "execution_count": 32,
   "metadata": {
    "pycharm": {
     "name": "#%%\n"
    }
   },
   "outputs": [
    {
     "data": {
      "text/plain": [
       "{'created': {'@id': 'ark:99999/test-group', '@type': 'Organization'}}"
      ]
     },
     "execution_count": 32,
     "metadata": {},
     "output_type": "execute_result"
    }
   ],
   "source": [
    "# create group\n",
    "group_data = {\n",
    "\t\"@id\": \"ark:99999/test-group\",\n",
    "\t\"@type\": \"Organization\",\n",
    "\t\"name\": \"test group\",\n",
    "\t\"owner\": {\n",
    "\t\t\"@id\": \"ark:99999/test-user1\",\n",
    "\t\t\"@type\": \"Person\",\n",
    "\t\t\"name\": \"Test User1\",\n",
    "\t\t\"email\": \"testuser1@example.org\"\n",
    "\t\t},\n",
    "\t\"members\": [{\"@id\": \"ark:99999/test-user2\",\n",
    "\t\"name\": \"Test User2\",\n",
    "\t\"type\": \"Person\",\n",
    "\t\"email\": \"testuser2@example.org\"}],\n",
    "}\n",
    "\n",
    "\n",
    "group_create = requests.post(root_url + f\"group/\", data=json.dumps(group_data))\n",
    "group_create.json()"
   ]
  },
  {
   "cell_type": "code",
   "execution_count": 33,
   "metadata": {
    "pycharm": {
     "name": "#%%\n"
    }
   },
   "outputs": [
    {
     "data": {
      "text/plain": [
       "[{'@id': 'ark:99999/test-group', 'name': 'test group'}]"
      ]
     },
     "execution_count": 33,
     "metadata": {},
     "output_type": "execute_result"
    }
   ],
   "source": [
    "# list groups\n",
    "list_groups = requests.get(root_url + \"group\")\n",
    "list_groups.json()"
   ]
  },
  {
   "cell_type": "code",
   "execution_count": 18,
   "metadata": {
    "pycharm": {
     "name": "#%%\n"
    }
   },
   "outputs": [
    {
     "data": {
      "text/plain": [
       "{'@id': 'ark:99999/test-group',\n",
       " '@type': 'Organization',\n",
       " 'members': [],\n",
       " '@context': {'@vocab': 'https://schema.org/', 'evi': 'https://w3id.org/EVI#'},\n",
       " 'name': 'test group',\n",
       " 'owner': {'@id': 'ark:99999/test-user1',\n",
       "  '@type': 'Person',\n",
       "  'name': 'Test User1',\n",
       "  'email': 'testuser1@example.org'}}"
      ]
     },
     "execution_count": 18,
     "metadata": {},
     "output_type": "execute_result"
    }
   ],
   "source": [
    "# read specific group\n",
    "get_group = requests.get(root_url + f\"group/{group_data['@id']}\")\n",
    "get_group.json()"
   ]
  },
  {
   "cell_type": "code",
   "execution_count": 19,
   "metadata": {
    "pycharm": {
     "name": "#%%\n"
    }
   },
   "outputs": [],
   "source": [
    "group_data_update = {\n",
    "\t\"@id\": \"ark:99999/test-group\",\n",
    "\t\"@type\": \"Organization\",\n",
    "\t\"name\": \"Another test group\",\n",
    "\t\"owner\": {\n",
    "\t\t\"@id\": \"ark:99999/test-user1\",\n",
    "\t\t\"@type\": \"Person\",\n",
    "\t\t\"name\": \"Test User1\",\n",
    "\t\t\"email\": \"testuser@example.org\"\n",
    "\t\t},\n",
    "\t\"members\": [{'@id': 'ark:99999/test-user2',\n",
    "   '@type': 'Person',\n",
    "   'name': 'Test User2',\n",
    "   'email': 'testuser2@example.org'}],\n",
    "}"
   ]
  },
  {
   "cell_type": "code",
   "execution_count": 20,
   "metadata": {
    "pycharm": {
     "name": "#%%\n"
    }
   },
   "outputs": [
    {
     "data": {
      "text/plain": [
       "{'updated': {'@id': 'ark:99999/test-group', '@type': 'Organization'}}"
      ]
     },
     "execution_count": 20,
     "metadata": {},
     "output_type": "execute_result"
    }
   ],
   "source": [
    "# update group\n",
    "update_group = requests.put(root_url + \"group\", data=json.dumps(group_data_update))\n",
    "update_group.json()"
   ]
  },
  {
   "cell_type": "code",
   "execution_count": 21,
   "metadata": {},
   "outputs": [
    {
     "data": {
      "text/plain": [
       "{'@id': 'ark:99999/test-group',\n",
       " '@type': 'Organization',\n",
       " 'members': [{'@id': 'ark:99999/test-user2',\n",
       "   '@type': 'Person',\n",
       "   'name': 'Test User2',\n",
       "   'email': 'testuser2@example.org'}],\n",
       " '@context': {'@vocab': 'https://schema.org/', 'evi': 'https://w3id.org/EVI#'},\n",
       " 'name': 'Another test group',\n",
       " 'owner': {'@id': 'ark:99999/test-user1',\n",
       "  '@type': 'Person',\n",
       "  'name': 'Test User1',\n",
       "  'email': 'testuser@example.org'}}"
      ]
     },
     "execution_count": 21,
     "metadata": {},
     "output_type": "execute_result"
    }
   ],
   "source": [
    "# get the updated group\n",
    "get_updated_group = requests.get(root_url + f\"group/{group_data['@id']}\")\n",
    "get_updated_group.json()"
   ]
  },
  {
   "cell_type": "code",
   "execution_count": 22,
   "metadata": {
    "pycharm": {
     "name": "#%%\n"
    }
   },
   "outputs": [
    {
     "data": {
      "text/plain": [
       "{'deleted': {'@id': 'ark:99999/test-group'}}"
      ]
     },
     "execution_count": 22,
     "metadata": {},
     "output_type": "execute_result"
    }
   ],
   "source": [
    "# delete group\n",
    "delete_group = requests.delete(root_url + f\"group/{group_data['@id']}\")\n",
    "delete_group.json()"
   ]
  },
  {
   "cell_type": "code",
   "execution_count": 34,
   "metadata": {
    "pycharm": {
     "name": "#%%\n"
    }
   },
   "outputs": [
    {
     "data": {
      "text/plain": [
       "{'updated': {'@id': 'ark:99999/test-group', '@type': 'Organization'}}"
      ]
     },
     "execution_count": 34,
     "metadata": {},
     "output_type": "execute_result"
    }
   ],
   "source": [
    "# add user as a member of a group\n",
    "# Not working at the moment, response not correct, and inserted element can be redundant\n",
    "\n",
    "group_add_user = requests.put(root_url + f\"group/{user3_data['@id']}/addUser/\", data=json.dumps(group_data))\n",
    "group_add_user.json()"
   ]
  },
  {
   "cell_type": "code",
   "execution_count": 35,
   "metadata": {},
   "outputs": [
    {
     "data": {
      "text/plain": [
       "{'@id': 'ark:99999/test-group',\n",
       " '@type': 'Organization',\n",
       " 'members': [{'@id': 'ark:99999/test-user2',\n",
       "   '@type': 'Person',\n",
       "   'name': 'Test User2',\n",
       "   'email': 'testuser2@example.org'},\n",
       "  {'@id': 'ark:99999/test-user3',\n",
       "   '@type': 'Person',\n",
       "   'name': 'Test User3',\n",
       "   'email': 'testuser3@example.org'}],\n",
       " '@context': {'@vocab': 'https://schema.org/', 'evi': 'https://w3id.org/EVI#'},\n",
       " 'name': 'test group',\n",
       " 'owner': {'@id': 'ark:99999/test-user1',\n",
       "  '@type': 'Person',\n",
       "  'name': 'Test User1',\n",
       "  'email': 'testuser1@example.org'}}"
      ]
     },
     "execution_count": 35,
     "metadata": {},
     "output_type": "execute_result"
    }
   ],
   "source": [
    "# get updated group\n",
    "get_group_added_user = requests.get(root_url + f\"group/{group_data['@id']}\")\n",
    "get_group_added_user.json()"
   ]
  },
  {
   "cell_type": "markdown",
   "metadata": {
    "pycharm": {
     "name": "#%% md\n"
    }
   },
   "source": [
    "### CRUD Operations on Software (/software)"
   ]
  },
  {
   "cell_type": "code",
   "execution_count": 25,
   "metadata": {
    "pycharm": {
     "name": "#%%\n"
    }
   },
   "outputs": [
    {
     "ename": "JSONDecodeError",
     "evalue": "Expecting value: line 1 column 1 (char 0)",
     "output_type": "error",
     "traceback": [
      "\u001b[0;31m---------------------------------------------------------------------------\u001b[0m",
      "\u001b[0;31mJSONDecodeError\u001b[0m                           Traceback (most recent call last)",
      "File \u001b[0;32m~/opt/miniconda3/envs/mds/lib/python3.8/site-packages/requests/models.py:971\u001b[0m, in \u001b[0;36mResponse.json\u001b[0;34m(self, **kwargs)\u001b[0m\n\u001b[1;32m    970\u001b[0m \u001b[38;5;28;01mtry\u001b[39;00m:\n\u001b[0;32m--> 971\u001b[0m     \u001b[38;5;28;01mreturn\u001b[39;00m \u001b[43mcomplexjson\u001b[49m\u001b[38;5;241;43m.\u001b[39;49m\u001b[43mloads\u001b[49m\u001b[43m(\u001b[49m\u001b[38;5;28;43mself\u001b[39;49m\u001b[38;5;241;43m.\u001b[39;49m\u001b[43mtext\u001b[49m\u001b[43m,\u001b[49m\u001b[43m \u001b[49m\u001b[38;5;241;43m*\u001b[39;49m\u001b[38;5;241;43m*\u001b[39;49m\u001b[43mkwargs\u001b[49m\u001b[43m)\u001b[49m\n\u001b[1;32m    972\u001b[0m \u001b[38;5;28;01mexcept\u001b[39;00m JSONDecodeError \u001b[38;5;28;01mas\u001b[39;00m e:\n\u001b[1;32m    973\u001b[0m     \u001b[38;5;66;03m# Catch JSON-related errors and raise as requests.JSONDecodeError\u001b[39;00m\n\u001b[1;32m    974\u001b[0m     \u001b[38;5;66;03m# This aliases json.JSONDecodeError and simplejson.JSONDecodeError\u001b[39;00m\n",
      "File \u001b[0;32m~/opt/miniconda3/envs/mds/lib/python3.8/json/__init__.py:357\u001b[0m, in \u001b[0;36mloads\u001b[0;34m(s, cls, object_hook, parse_float, parse_int, parse_constant, object_pairs_hook, **kw)\u001b[0m\n\u001b[1;32m    354\u001b[0m \u001b[38;5;28;01mif\u001b[39;00m (\u001b[38;5;28mcls\u001b[39m \u001b[38;5;129;01mis\u001b[39;00m \u001b[38;5;28;01mNone\u001b[39;00m \u001b[38;5;129;01mand\u001b[39;00m object_hook \u001b[38;5;129;01mis\u001b[39;00m \u001b[38;5;28;01mNone\u001b[39;00m \u001b[38;5;129;01mand\u001b[39;00m\n\u001b[1;32m    355\u001b[0m         parse_int \u001b[38;5;129;01mis\u001b[39;00m \u001b[38;5;28;01mNone\u001b[39;00m \u001b[38;5;129;01mand\u001b[39;00m parse_float \u001b[38;5;129;01mis\u001b[39;00m \u001b[38;5;28;01mNone\u001b[39;00m \u001b[38;5;129;01mand\u001b[39;00m\n\u001b[1;32m    356\u001b[0m         parse_constant \u001b[38;5;129;01mis\u001b[39;00m \u001b[38;5;28;01mNone\u001b[39;00m \u001b[38;5;129;01mand\u001b[39;00m object_pairs_hook \u001b[38;5;129;01mis\u001b[39;00m \u001b[38;5;28;01mNone\u001b[39;00m \u001b[38;5;129;01mand\u001b[39;00m \u001b[38;5;129;01mnot\u001b[39;00m kw):\n\u001b[0;32m--> 357\u001b[0m     \u001b[38;5;28;01mreturn\u001b[39;00m \u001b[43m_default_decoder\u001b[49m\u001b[38;5;241;43m.\u001b[39;49m\u001b[43mdecode\u001b[49m\u001b[43m(\u001b[49m\u001b[43ms\u001b[49m\u001b[43m)\u001b[49m\n\u001b[1;32m    358\u001b[0m \u001b[38;5;28;01mif\u001b[39;00m \u001b[38;5;28mcls\u001b[39m \u001b[38;5;129;01mis\u001b[39;00m \u001b[38;5;28;01mNone\u001b[39;00m:\n",
      "File \u001b[0;32m~/opt/miniconda3/envs/mds/lib/python3.8/json/decoder.py:337\u001b[0m, in \u001b[0;36mJSONDecoder.decode\u001b[0;34m(self, s, _w)\u001b[0m\n\u001b[1;32m    333\u001b[0m \u001b[38;5;250m\u001b[39m\u001b[38;5;124;03m\"\"\"Return the Python representation of ``s`` (a ``str`` instance\u001b[39;00m\n\u001b[1;32m    334\u001b[0m \u001b[38;5;124;03mcontaining a JSON document).\u001b[39;00m\n\u001b[1;32m    335\u001b[0m \n\u001b[1;32m    336\u001b[0m \u001b[38;5;124;03m\"\"\"\u001b[39;00m\n\u001b[0;32m--> 337\u001b[0m obj, end \u001b[38;5;241m=\u001b[39m \u001b[38;5;28;43mself\u001b[39;49m\u001b[38;5;241;43m.\u001b[39;49m\u001b[43mraw_decode\u001b[49m\u001b[43m(\u001b[49m\u001b[43ms\u001b[49m\u001b[43m,\u001b[49m\u001b[43m \u001b[49m\u001b[43midx\u001b[49m\u001b[38;5;241;43m=\u001b[39;49m\u001b[43m_w\u001b[49m\u001b[43m(\u001b[49m\u001b[43ms\u001b[49m\u001b[43m,\u001b[49m\u001b[43m \u001b[49m\u001b[38;5;241;43m0\u001b[39;49m\u001b[43m)\u001b[49m\u001b[38;5;241;43m.\u001b[39;49m\u001b[43mend\u001b[49m\u001b[43m(\u001b[49m\u001b[43m)\u001b[49m\u001b[43m)\u001b[49m\n\u001b[1;32m    338\u001b[0m end \u001b[38;5;241m=\u001b[39m _w(s, end)\u001b[38;5;241m.\u001b[39mend()\n",
      "File \u001b[0;32m~/opt/miniconda3/envs/mds/lib/python3.8/json/decoder.py:355\u001b[0m, in \u001b[0;36mJSONDecoder.raw_decode\u001b[0;34m(self, s, idx)\u001b[0m\n\u001b[1;32m    354\u001b[0m \u001b[38;5;28;01mexcept\u001b[39;00m \u001b[38;5;167;01mStopIteration\u001b[39;00m \u001b[38;5;28;01mas\u001b[39;00m err:\n\u001b[0;32m--> 355\u001b[0m     \u001b[38;5;28;01mraise\u001b[39;00m JSONDecodeError(\u001b[38;5;124m\"\u001b[39m\u001b[38;5;124mExpecting value\u001b[39m\u001b[38;5;124m\"\u001b[39m, s, err\u001b[38;5;241m.\u001b[39mvalue) \u001b[38;5;28;01mfrom\u001b[39;00m \u001b[38;5;28;01mNone\u001b[39;00m\n\u001b[1;32m    356\u001b[0m \u001b[38;5;28;01mreturn\u001b[39;00m obj, end\n",
      "\u001b[0;31mJSONDecodeError\u001b[0m: Expecting value: line 1 column 1 (char 0)",
      "\nDuring handling of the above exception, another exception occurred:\n",
      "\u001b[0;31mJSONDecodeError\u001b[0m                           Traceback (most recent call last)",
      "Cell \u001b[0;32mIn[25], line 16\u001b[0m\n\u001b[1;32m      2\u001b[0m software_data \u001b[38;5;241m=\u001b[39m {\n\u001b[1;32m      3\u001b[0m \t\u001b[38;5;124m\"\u001b[39m\u001b[38;5;124m@id\u001b[39m\u001b[38;5;124m\"\u001b[39m: \u001b[38;5;124m\"\u001b[39m\u001b[38;5;124mark:99999/test-software\u001b[39m\u001b[38;5;124m\"\u001b[39m,\n\u001b[1;32m      4\u001b[0m \t\u001b[38;5;124m\"\u001b[39m\u001b[38;5;124m@type\u001b[39m\u001b[38;5;124m\"\u001b[39m: \u001b[38;5;124m\"\u001b[39m\u001b[38;5;124mevi:Software\u001b[39m\u001b[38;5;124m\"\u001b[39m,\n\u001b[0;32m   (...)\u001b[0m\n\u001b[1;32m     11\u001b[0m     \u001b[38;5;124m\"\u001b[39m\u001b[38;5;124mdescription\u001b[39m\u001b[38;5;124m\"\u001b[39m:\u001b[38;5;124m\"\u001b[39m\u001b[38;5;124mFake Des\u001b[39m\u001b[38;5;124m\"\u001b[39m\n\u001b[1;32m     12\u001b[0m }\n\u001b[1;32m     15\u001b[0m software_create \u001b[38;5;241m=\u001b[39m requests\u001b[38;5;241m.\u001b[39mpost(root_url \u001b[38;5;241m+\u001b[39m \u001b[38;5;124mf\u001b[39m\u001b[38;5;124m\"\u001b[39m\u001b[38;5;124msoftware/\u001b[39m\u001b[38;5;124m\"\u001b[39m, data\u001b[38;5;241m=\u001b[39mjson\u001b[38;5;241m.\u001b[39mdumps(software_data))\n\u001b[0;32m---> 16\u001b[0m \u001b[43msoftware_create\u001b[49m\u001b[38;5;241;43m.\u001b[39;49m\u001b[43mjson\u001b[49m\u001b[43m(\u001b[49m\u001b[43m)\u001b[49m\n",
      "File \u001b[0;32m~/opt/miniconda3/envs/mds/lib/python3.8/site-packages/requests/models.py:975\u001b[0m, in \u001b[0;36mResponse.json\u001b[0;34m(self, **kwargs)\u001b[0m\n\u001b[1;32m    971\u001b[0m     \u001b[38;5;28;01mreturn\u001b[39;00m complexjson\u001b[38;5;241m.\u001b[39mloads(\u001b[38;5;28mself\u001b[39m\u001b[38;5;241m.\u001b[39mtext, \u001b[38;5;241m*\u001b[39m\u001b[38;5;241m*\u001b[39mkwargs)\n\u001b[1;32m    972\u001b[0m \u001b[38;5;28;01mexcept\u001b[39;00m JSONDecodeError \u001b[38;5;28;01mas\u001b[39;00m e:\n\u001b[1;32m    973\u001b[0m     \u001b[38;5;66;03m# Catch JSON-related errors and raise as requests.JSONDecodeError\u001b[39;00m\n\u001b[1;32m    974\u001b[0m     \u001b[38;5;66;03m# This aliases json.JSONDecodeError and simplejson.JSONDecodeError\u001b[39;00m\n\u001b[0;32m--> 975\u001b[0m     \u001b[38;5;28;01mraise\u001b[39;00m RequestsJSONDecodeError(e\u001b[38;5;241m.\u001b[39mmsg, e\u001b[38;5;241m.\u001b[39mdoc, e\u001b[38;5;241m.\u001b[39mpos)\n",
      "\u001b[0;31mJSONDecodeError\u001b[0m: Expecting value: line 1 column 1 (char 0)"
     ]
    }
   ],
   "source": [
    "# create software\n",
    "software_data = {\n",
    "\t\"@id\": \"ark:99999/test-software\",\n",
    "\t\"@type\": \"evi:Software\",\n",
    "\t\"name\": \"test software\",\n",
    "\t\"owner\": \"ark99999/user/max17\",\n",
    "\t\"author\": \"some author(s)\",\n",
    "    \"downloadUrl\": \"some url\",\n",
    "    \"citation\": \"some citation\",\n",
    "\t\"evi:usedBy\": [],\n",
    "    \"description\":\"Fake Des\"\n",
    "}\n",
    "\n",
    "\n",
    "software_create = requests.post(root_url + f\"software/\", data=json.dumps(software_data))\n",
    "software_create.json()"
   ]
  },
  {
   "cell_type": "code",
   "execution_count": 37,
   "metadata": {
    "pycharm": {
     "name": "#%%\n"
    }
   },
   "outputs": [
    {
     "data": {
      "text/plain": [
       "[{'@id': 'ark:99999/test-software', 'name': 'test software'}]"
      ]
     },
     "execution_count": 37,
     "metadata": {},
     "output_type": "execute_result"
    }
   ],
   "source": [
    "# list software\n",
    "list_software = requests.get(root_url + \"software\")\n",
    "list_software.json()"
   ]
  },
  {
   "cell_type": "code",
   "execution_count": 38,
   "metadata": {
    "pycharm": {
     "name": "#%%\n"
    }
   },
   "outputs": [
    {
     "data": {
      "text/plain": [
       "{'@id': 'ark:99999/test-software',\n",
       " '@type': 'evi:Software',\n",
       " 'context': {'@vocab': 'https://schema.org/', 'evi': 'https://w3id.org/EVI#'},\n",
       " 'name': 'test software',\n",
       " 'owner': {'@id': 'ark:99999/test-user1',\n",
       "  '@type': 'Person',\n",
       "  'name': 'Test User1',\n",
       "  'email': 'testuser1@example.org'},\n",
       " 'author': 'some author(s)',\n",
       " 'downloadUrl': 'some url',\n",
       " 'citation': 'some citation',\n",
       " 'evi:usedBy': []}"
      ]
     },
     "execution_count": 38,
     "metadata": {},
     "output_type": "execute_result"
    }
   ],
   "source": [
    "# read specific software\n",
    "get_software = requests.get(root_url + f\"software/{software_data['@id']}\")\n",
    "get_software.json()"
   ]
  },
  {
   "cell_type": "code",
   "execution_count": 39,
   "metadata": {
    "pycharm": {
     "name": "#%%\n"
    }
   },
   "outputs": [],
   "source": [
    "software_data_update = {\n",
    "\t\"@id\": \"ark:99999/test-software\",\n",
    "\t\"@type\": \"evi:Software\",\n",
    "\t\"name\": \"test software update\",\n",
    "\t\"owner\": {\n",
    "\t\t\"@id\": \"ark:99999/test-user1\",\n",
    "\t\t\"@type\": \"Person\",\n",
    "\t\t\"name\": \"Test User1\",\n",
    "\t\t\"email\": \"testuser1@example.org\"\n",
    "\t\t},\n",
    "\t\"author\": \"some author(s)\",\n",
    "    \"downloadUrl\": \"some url\",\n",
    "    \"citation\": \"some citation\",\n",
    "\t\"evi:usedBy\": []\n",
    "}"
   ]
  },
  {
   "cell_type": "code",
   "execution_count": 40,
   "metadata": {
    "pycharm": {
     "name": "#%%\n"
    }
   },
   "outputs": [
    {
     "data": {
      "text/plain": [
       "{'updated': {'@id': 'ark:99999/test-software', '@type': 'evi:Software'}}"
      ]
     },
     "execution_count": 40,
     "metadata": {},
     "output_type": "execute_result"
    }
   ],
   "source": [
    "# update software\n",
    "update_software = requests.put(root_url + \"software\", data=json.dumps(software_data_update))\n",
    "update_software.json()"
   ]
  },
  {
   "cell_type": "code",
   "execution_count": 41,
   "metadata": {
    "pycharm": {
     "name": "#%%\n"
    }
   },
   "outputs": [
    {
     "data": {
      "text/plain": [
       "{'deleted': {'@id': 'ark:99999/test-software'}}"
      ]
     },
     "execution_count": 41,
     "metadata": {},
     "output_type": "execute_result"
    }
   ],
   "source": [
    "# delete software\n",
    "delete_software = requests.delete(root_url + f\"software/{software_data['@id']}\")\n",
    "delete_software.json()"
   ]
  },
  {
   "cell_type": "markdown",
   "metadata": {
    "pycharm": {
     "name": "#%% md\n"
    }
   },
   "source": [
    "### CRUD Operations on Dataset (/dataset)"
   ]
  },
  {
   "cell_type": "code",
   "execution_count": 42,
   "metadata": {
    "pycharm": {
     "name": "#%%\n"
    }
   },
   "outputs": [
    {
     "data": {
      "text/plain": [
       "{'created': {'@id': 'ark:99999/test-dataset', '@type': 'evi:Dataset'}}"
      ]
     },
     "execution_count": 42,
     "metadata": {},
     "output_type": "execute_result"
    }
   ],
   "source": [
    "# create dataset\n",
    "dataset_data = {\n",
    "\t\"@id\": \"ark:99999/test-dataset\",\n",
    "\t\"@type\": \"evi:Dataset\",\n",
    "\t\"name\": \"test dataset\",\n",
    "\t\"owner\": {\n",
    "\t\t\"@id\": \"ark:99999/test-user1\",\n",
    "\t\t\"@type\": \"Person\",\n",
    "\t\t\"name\": \"Test User1\",\n",
    "\t\t\"email\": \"testuser1@example.org\"\n",
    "\t\t}\n",
    "}\n",
    "\n",
    "\n",
    "dataset_create = requests.post(root_url + f\"dataset/\", data=json.dumps(dataset_data))\n",
    "dataset_create.json()"
   ]
  },
  {
   "cell_type": "code",
   "execution_count": 43,
   "metadata": {
    "pycharm": {
     "name": "#%%\n"
    }
   },
   "outputs": [
    {
     "data": {
      "text/plain": [
       "[{'@id': 'ark:99999/test-dataset', 'name': 'test dataset'}]"
      ]
     },
     "execution_count": 43,
     "metadata": {},
     "output_type": "execute_result"
    }
   ],
   "source": [
    "# list dataset\n",
    "list_dataset = requests.get(root_url + \"dataset\")\n",
    "list_dataset.json()"
   ]
  },
  {
   "cell_type": "code",
   "execution_count": 44,
   "metadata": {
    "pycharm": {
     "name": "#%%\n"
    }
   },
   "outputs": [
    {
     "data": {
      "text/plain": [
       "{'@id': 'ark:99999/test-dataset',\n",
       " '@type': 'evi:Dataset',\n",
       " '@context': {'@vocab': 'https://schema.org/', 'evi': 'https://w3id.org/EVI#'},\n",
       " 'name': 'test dataset',\n",
       " 'owner': {'@id': 'ark:99999/test-user1',\n",
       "  '@type': 'Person',\n",
       "  'name': 'Test User1',\n",
       "  'email': 'testuser1@example.org'}}"
      ]
     },
     "execution_count": 44,
     "metadata": {},
     "output_type": "execute_result"
    }
   ],
   "source": [
    "# read specific dataset\n",
    "get_dataset = requests.get(root_url + f\"dataset/{dataset_data['@id']}\")\n",
    "get_dataset.json()"
   ]
  },
  {
   "cell_type": "code",
   "execution_count": 45,
   "metadata": {
    "pycharm": {
     "name": "#%%\n"
    }
   },
   "outputs": [],
   "source": [
    "# update dataset\n",
    "dataset_data_update = {\n",
    "\t\"@id\": \"ark:99999/test-dataset\",\n",
    "\t\"@type\": \"evi:Dataset\",\n",
    "\t\"name\": \"test dataset update\",\n",
    "\t\"owner\": {\n",
    "\t\t\"@id\": \"ark:99999/test-user1\",\n",
    "\t\t\"@type\": \"Person\",\n",
    "\t\t\"name\": \"Test User1\",\n",
    "\t\t\"email\": \"testuser1@example.org\"\n",
    "\t\t}\n",
    "}"
   ]
  },
  {
   "cell_type": "code",
   "execution_count": 46,
   "metadata": {
    "pycharm": {
     "name": "#%%\n"
    }
   },
   "outputs": [
    {
     "data": {
      "text/plain": [
       "{'updated': {'@id': 'ark:99999/test-dataset', '@type': 'evi:Dataset'}}"
      ]
     },
     "execution_count": 46,
     "metadata": {},
     "output_type": "execute_result"
    }
   ],
   "source": [
    "# update dataset\n",
    "update_dataset = requests.put(root_url + \"dataset\", data=json.dumps(dataset_data_update))\n",
    "update_dataset.json()"
   ]
  },
  {
   "cell_type": "code",
   "execution_count": 47,
   "metadata": {
    "pycharm": {
     "name": "#%%\n"
    }
   },
   "outputs": [
    {
     "data": {
      "text/plain": [
       "{'deleted': {'@id': 'ark:99999/test-dataset'}}"
      ]
     },
     "execution_count": 47,
     "metadata": {},
     "output_type": "execute_result"
    }
   ],
   "source": [
    "# delete software\n",
    "delete_software = requests.delete(root_url + f\"dataset/{dataset_data['@id']}\")\n",
    "delete_software.json()"
   ]
  },
  {
   "cell_type": "markdown",
   "metadata": {},
   "source": [
    "### CRUD Operations on Computation (/computation)"
   ]
  },
  {
   "cell_type": "code",
   "execution_count": 48,
   "metadata": {
    "pycharm": {
     "name": "#%%\n"
    }
   },
   "outputs": [
    {
     "data": {
      "text/plain": [
       "{'created': {'@id': 'ark:99999/test-computation', '@type': 'evi:Computation'}}"
      ]
     },
     "execution_count": 48,
     "metadata": {},
     "output_type": "execute_result"
    }
   ],
   "source": [
    "# create computation\n",
    "computation_data = {\n",
    "\t\"@id\": \"ark:99999/test-computation\",\n",
    "\t\"@type\": \"evi:Computation\",\n",
    "\t\"name\": \"test computation\",\n",
    "\t\"owner\": {\n",
    "\t\t\"@id\": \"ark:99999/test-user1\",\n",
    "\t\t\"@type\": \"Person\",\n",
    "\t\t\"name\": \"Test User1\",\n",
    "\t\t\"email\": \"testuser1@example.org\"\n",
    "\t\t},\n",
    "\t# \"author\" : \"\",\n",
    "    #\"dateCreated\" : \"\",\n",
    "    #\"dateFinished\" : \"\",\n",
    "    # \"associatedWith\" : [],\n",
    "    # \"usedSoftware\" : \"\",\n",
    "    # \"usedDataset\" : \"\"\n",
    "}\n",
    "\n",
    "\n",
    "computation_create = requests.post(root_url + f\"computation/\", data=json.dumps(computation_data))\n",
    "computation_create.json()"
   ]
  },
  {
   "cell_type": "code",
   "execution_count": 49,
   "metadata": {
    "pycharm": {
     "name": "#%%\n"
    }
   },
   "outputs": [
    {
     "data": {
      "text/plain": [
       "[{'@id': 'ark:99999/test-computation', 'name': 'test computation'}]"
      ]
     },
     "execution_count": 49,
     "metadata": {},
     "output_type": "execute_result"
    }
   ],
   "source": [
    "# list software\n",
    "list_computation = requests.get(root_url + \"computation\")\n",
    "list_computation.json()"
   ]
  },
  {
   "cell_type": "code",
   "execution_count": 50,
   "metadata": {
    "pycharm": {
     "name": "#%%\n"
    }
   },
   "outputs": [
    {
     "data": {
      "text/plain": [
       "{'@id': 'ark:99999/test-computation',\n",
       " '@type': 'evi:Computation',\n",
       " '@context': {'@vocab': 'https://schema.org/', 'evi': 'https://w3id.org/EVI#'},\n",
       " 'name': 'test computation',\n",
       " 'owner': {'@id': 'ark:99999/test-user1',\n",
       "  '@type': 'Person',\n",
       "  'name': 'Test User1',\n",
       "  'email': 'testuser1@example.org'}}"
      ]
     },
     "execution_count": 50,
     "metadata": {},
     "output_type": "execute_result"
    }
   ],
   "source": [
    "# read specific computation\n",
    "get_computation = requests.get(root_url + f\"computation/{computation_data['@id']}\")\n",
    "get_computation.json()"
   ]
  },
  {
   "cell_type": "code",
   "execution_count": 51,
   "metadata": {
    "pycharm": {
     "name": "#%%\n"
    }
   },
   "outputs": [],
   "source": [
    "# update computation\n",
    "computation_data_update = {\n",
    "\t\t\"@id\": \"ark:99999/test-computation\",\n",
    "\t\"@type\": \"evi:Computation\",\n",
    "\t\"name\": \"test computation update\",\n",
    "\t\"owner\": {\n",
    "\t\t\"@id\": \"ark:99999/test-user1\",\n",
    "\t\t\"@type\": \"Person\",\n",
    "\t\t\"name\": \"Test User1\",\n",
    "\t\t\"email\": \"testuser1@example.org\"\n",
    "\t\t}\n",
    "}"
   ]
  },
  {
   "cell_type": "code",
   "execution_count": 52,
   "metadata": {
    "pycharm": {
     "name": "#%%\n"
    }
   },
   "outputs": [
    {
     "data": {
      "text/plain": [
       "{'updated': {'@id': 'ark:99999/test-computation', '@type': 'evi:Computation'}}"
      ]
     },
     "execution_count": 52,
     "metadata": {},
     "output_type": "execute_result"
    }
   ],
   "source": [
    "# update computation\n",
    "update_computation = requests.put(root_url + \"computation\", data=json.dumps(computation_data_update))\n",
    "update_computation.json()"
   ]
  },
  {
   "cell_type": "code",
   "execution_count": 53,
   "metadata": {
    "pycharm": {
     "name": "#%%\n"
    }
   },
   "outputs": [
    {
     "data": {
      "text/plain": [
       "{'deleted': {'@id': 'ark:99999/test-computation'}}"
      ]
     },
     "execution_count": 53,
     "metadata": {},
     "output_type": "execute_result"
    }
   ],
   "source": [
    "# delete computation\n",
    "delete_computation = requests.delete(root_url + f\"computation/{computation_data['@id']}\")\n",
    "delete_computation.json()"
   ]
  },
  {
   "cell_type": "markdown",
   "metadata": {
    "pycharm": {
     "name": "#%% md\n"
    }
   },
   "source": [
    "### CRUD Operations on Project (/project)"
   ]
  },
  {
   "cell_type": "code",
   "execution_count": 54,
   "metadata": {
    "pycharm": {
     "name": "#%%\n"
    }
   },
   "outputs": [
    {
     "data": {
      "text/plain": [
       "{'created': {'@id': 'ark:99999/test-project', '@type': 'project'}}"
      ]
     },
     "execution_count": 54,
     "metadata": {},
     "output_type": "execute_result"
    }
   ],
   "source": [
    "# create project\n",
    "project_data = {\n",
    "\t\"@id\": \"ark:99999/test-project\",\n",
    "\t\"@type\": \"Project\",\n",
    "\t\"name\": \"test project\",\n",
    "\t\"owner\": {\n",
    "\t\t\"@id\": \"ark:99999/test-user1\",\n",
    "\t\t\"@type\": \"Person\",\n",
    "\t\t\"name\": \"Test User1\",\n",
    "\t\t\"email\": \"testuser1@example.org\"\n",
    "\t\t}\n",
    "}\n",
    "\n",
    "\n",
    "project_create = requests.post(root_url + f\"project/\", data=json.dumps(project_data))\n",
    "project_create.json()"
   ]
  },
  {
   "cell_type": "code",
   "execution_count": null,
   "metadata": {
    "pycharm": {
     "name": "#%%\n"
    }
   },
   "outputs": [],
   "source": [
    "# list project\n",
    "list_project = requests.get(root_url + \"project\")\n",
    "list_project.json()"
   ]
  },
  {
   "cell_type": "code",
   "execution_count": null,
   "metadata": {
    "pycharm": {
     "name": "#%%\n"
    }
   },
   "outputs": [],
   "source": [
    "# read specific project\n",
    "get_project = requests.get(root_url + f\"project/{project_data['@id']}\")\n",
    "get_project.json()"
   ]
  },
  {
   "cell_type": "code",
   "execution_count": null,
   "metadata": {
    "pycharm": {
     "name": "#%%\n"
    }
   },
   "outputs": [],
   "source": [
    "# update project\n",
    "project_data_update = {\n",
    "\t\"@id\": \"ark:99999/test-project\",\n",
    "\t\"@type\": \"Project\",\n",
    "\t\"name\": \"test project update\",\n",
    "\t\"owner\": {\n",
    "\t\t\"@id\": \"ark:99999/test-user1\",\n",
    "\t\t\"@type\": \"Person\",\n",
    "\t\t\"name\": \"Test User1\",\n",
    "\t\t\"email\": \"testuser1@example.org\"\n",
    "\t\t}\n",
    "}"
   ]
  },
  {
   "cell_type": "code",
   "execution_count": null,
   "metadata": {
    "pycharm": {
     "name": "#%%\n"
    }
   },
   "outputs": [],
   "source": [
    "# update project\n",
    "update_project = requests.put(root_url + \"project\", data=json.dumps(project_data_update))\n",
    "update_project.json()"
   ]
  },
  {
   "cell_type": "code",
   "execution_count": null,
   "metadata": {
    "pycharm": {
     "name": "#%%\n"
    }
   },
   "outputs": [],
   "source": [
    "# delete project\n",
    "delete_project = requests.delete(root_url + f\"project/{project_data['@id']}\")\n",
    "delete_project.json()"
   ]
  },
  {
   "cell_type": "markdown",
   "metadata": {
    "pycharm": {
     "name": "#%% md\n"
    }
   },
   "source": [
    "### CRUD Operations on Organization (/organization)"
   ]
  },
  {
   "cell_type": "code",
   "execution_count": null,
   "metadata": {
    "pycharm": {
     "name": "#%%\n"
    }
   },
   "outputs": [],
   "source": [
    "# create organization\n",
    "organization_data = {\n",
    "\t\"@id\": \"ark:99999/test-organization\",\n",
    "\t\"@type\": \"Organization\",\n",
    "\t\"name\": \"test organization\",\n",
    "\t\"owner\": {\n",
    "\t\t\"@id\": \"ark:99999/test-user1\",\n",
    "\t\t\"@type\": \"Person\",\n",
    "\t\t\"name\": \"Test User1\",\n",
    "\t\t\"email\": \"testuser1@example.org\"\n",
    "\t\t}\n",
    "}\n",
    "\n",
    "\n",
    "organization_create = requests.post(root_url + f\"organization/\", data=json.dumps(organization_data))\n",
    "organization_create.json()"
   ]
  },
  {
   "cell_type": "code",
   "execution_count": null,
   "metadata": {
    "pycharm": {
     "name": "#%%\n"
    }
   },
   "outputs": [],
   "source": [
    "# list organization\n",
    "list_organization = requests.get(root_url + \"organization\")\n",
    "list_organization.json()"
   ]
  },
  {
   "cell_type": "code",
   "execution_count": null,
   "metadata": {
    "pycharm": {
     "name": "#%%\n"
    }
   },
   "outputs": [],
   "source": [
    "# read specific organization\n",
    "get_organization = requests.get(root_url + f\"organization/{organization_data['@id']}\")\n",
    "get_organization.json()"
   ]
  },
  {
   "cell_type": "code",
   "execution_count": null,
   "metadata": {
    "pycharm": {
     "name": "#%%\n"
    }
   },
   "outputs": [],
   "source": [
    "# update organization\n",
    "organization_data_update = {\n",
    "\t\"@id\": \"ark:99999/test-organization\",\n",
    "\t\"@type\": \"Organization\",\n",
    "\t\"name\": \"test organization update\",\n",
    "\t\"owner\": {\n",
    "\t\t\"@id\": \"ark:99999/test-user1\",\n",
    "\t\t\"@type\": \"Person\",\n",
    "\t\t\"name\": \"Test User1\",\n",
    "\t\t\"email\": \"testuser1@example.org\"\n",
    "\t\t}\n",
    "}"
   ]
  },
  {
   "cell_type": "code",
   "execution_count": null,
   "metadata": {
    "pycharm": {
     "name": "#%%\n"
    }
   },
   "outputs": [],
   "source": [
    "# update organization\n",
    "update_organization = requests.put(root_url + \"organization\", data=json.dumps(organization_data_update))\n",
    "update_organization.json()"
   ]
  },
  {
   "cell_type": "code",
   "execution_count": null,
   "metadata": {
    "pycharm": {
     "name": "#%%\n"
    }
   },
   "outputs": [],
   "source": [
    "# delete organization\n",
    "delete_organization = requests.delete(root_url + f\"organization/{organization_data['@id']}\")\n",
    "delete_organization.json()"
   ]
  },
  {
   "cell_type": "markdown",
   "metadata": {
    "pycharm": {
     "name": "#%% md\n"
    }
   },
   "source": [
    "### CRUD Operations on EvidenceGraph (/evidencegraph)"
   ]
  },
  {
   "cell_type": "code",
   "execution_count": null,
   "metadata": {
    "pycharm": {
     "name": "#%%\n"
    }
   },
   "outputs": [],
   "source": [
    "# create evidencegraph\n",
    "evidencegraph_data = {\n",
    "\t\"@id\": \"ark:99999/test-evidencegraph\",\n",
    "\t\"@type\": \"evi:EvidenceGraph\",\n",
    "\t\"name\": \"test evidencegraph\",\n",
    "\t\"owner\": {\n",
    "\t\t\"@id\": \"ark:99999/test-user1\",\n",
    "\t\t\"@type\": \"Person\",\n",
    "\t\t\"name\": \"Test User1\",\n",
    "\t\t\"email\": \"testuser1@example.org\"\n",
    "\t\t}\n",
    "}\n",
    "\n",
    "\n",
    "evidencegraph_create = requests.post(root_url + f\"evidencegraph/\", data=json.dumps(evidencegraph_data))\n",
    "evidencegraph_create.json()"
   ]
  },
  {
   "cell_type": "code",
   "execution_count": null,
   "metadata": {
    "pycharm": {
     "name": "#%%\n"
    }
   },
   "outputs": [],
   "source": [
    "# list evidencegraph\n",
    "list_evidencegraph = requests.get(root_url + \"evidencegraph\")\n",
    "list_evidencegraph.json()"
   ]
  },
  {
   "cell_type": "code",
   "execution_count": null,
   "metadata": {
    "pycharm": {
     "name": "#%%\n"
    }
   },
   "outputs": [],
   "source": [
    "# read specific evidencegraph\n",
    "get_evidencegraph = requests.get(root_url + f\"evidencegraph/{evidencegraph_data['@id']}\")\n",
    "get_evidencegraph.json()"
   ]
  },
  {
   "cell_type": "code",
   "execution_count": null,
   "metadata": {
    "pycharm": {
     "name": "#%%\n"
    }
   },
   "outputs": [],
   "source": [
    "# update evidencegraph\n",
    "evidencegraph_data_update = {\n",
    "    \"@id\": \"ark:99999/test-evidencegraph\",\n",
    "\t\"@type\": \"evi:EvidenceGraph\",\n",
    "\t\"name\": \"test evidencegraph update\",\n",
    "\t\"owner\": {\n",
    "\t\t\"@id\": \"ark:99999/test-user1\",\n",
    "\t\t\"@type\": \"Person\",\n",
    "\t\t\"name\": \"Test User1\",\n",
    "\t\t\"email\": \"testuser1@example.org\"\n",
    "\t\t}\n",
    "}"
   ]
  },
  {
   "cell_type": "code",
   "execution_count": null,
   "metadata": {
    "pycharm": {
     "name": "#%%\n"
    }
   },
   "outputs": [],
   "source": [
    "# update evidencegraph\n",
    "update_evidencegraph = requests.put(root_url + \"evidencegraph\", data=json.dumps(evidencegraph_data_update))\n",
    "update_evidencegraph.json()"
   ]
  },
  {
   "cell_type": "code",
   "execution_count": null,
   "metadata": {
    "pycharm": {
     "name": "#%%\n"
    }
   },
   "outputs": [],
   "source": [
    "# delete evidencegraph\n",
    "delete_evidencegraph = requests.delete(root_url + f\"evidencegraph/{evidencegraph_data['@id']}\")\n",
    "delete_evidencegraph.json()"
   ]
  }
 ],
 "metadata": {
  "interpreter": {
   "hash": "e34a51ce2e5d6cd426e3a877cb16f65e3dd85900a5b76bb886dcc805c982a405"
  },
  "kernelspec": {
   "display_name": "Python 3 (ipykernel)",
   "language": "python",
   "name": "python3"
  },
  "language_info": {
   "codemirror_mode": {
    "name": "ipython",
    "version": 3
   },
   "file_extension": ".py",
   "mimetype": "text/x-python",
   "name": "python",
   "nbconvert_exporter": "python",
   "pygments_lexer": "ipython3",
   "version": "3.8.19"
  }
 },
 "nbformat": 4,
 "nbformat_minor": 4
}
