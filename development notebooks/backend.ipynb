{
 "cells": [
  {
   "cell_type": "code",
   "execution_count": null,
   "id": "450d496b-396a-4095-bae6-6f2abf86b6f0",
   "metadata": {},
   "outputs": [],
   "source": []
  },
  {
   "cell_type": "code",
   "execution_count": 1,
   "id": "533f038c-540b-4ac4-9894-c3fda2b2f07b",
   "metadata": {},
   "outputs": [],
   "source": [
    "import os  \n",
    "import sys\n",
    "import pathlib\n",
    "\n",
    "repo_path = pathlib.Path('.').absolute().parent\n",
    "src_path = repo_path / 'src'\n",
    "\n",
    "sys.path.insert(0, str(src_path)) "
   ]
  },
  {
   "cell_type": "code",
   "execution_count": 23,
   "id": "5a99fe2c-bd7f-4241-a0fc-3c1675ad652e",
   "metadata": {},
   "outputs": [],
   "source": [
    "import fairscape_mds.mds.config as mds_config\n",
    "\n",
    "server_config = mds_config.get_fairscape_config('../deploy/local.env')\n",
    "\n",
    "server_config.setup_mongo()\n",
    "\n",
    "server_config.setup_minio()"
   ]
  },
  {
   "cell_type": "code",
   "execution_count": null,
   "id": "353af6ae-b304-47ba-bb1e-dcff87ee6d70",
   "metadata": {},
   "outputs": [],
   "source": [
    "mongoClient = server_config.CreateMongoClient()\n",
    "\n",
    "mongoDB = mongoClient[server_config.mongo.db]\n",
    "\n",
    "mongoUserCollection = mongoDB[server_config.mongo.user_collection]"
   ]
  },
  {
   "cell_type": "code",
   "execution_count": 3,
   "id": "5842f881-eee0-4df1-8544-b0692225a0f3",
   "metadata": {},
   "outputs": [],
   "source": [
    "# testing models\n",
    "import fairscape_mds.models as models"
   ]
  },
  {
   "cell_type": "code",
   "execution_count": null,
   "id": "b3d82128-c8e5-438a-9355-ccfb8f53ca08",
   "metadata": {},
   "outputs": [],
   "source": [
    "https://fairscape.net/dataset/download/ark:59852/software-cellmaps_generate_hierarchy-YjBPRU9\n",
    "https://fairscape.net/software/download/ark:59852/software-cellmaps_generate_hierarchy-YjBPRU9"
   ]
  }
 ],
 "metadata": {
  "kernelspec": {
   "display_name": "Python 3 (ipykernel)",
   "language": "python",
   "name": "python3"
  },
  "language_info": {
   "codemirror_mode": {
    "name": "ipython",
    "version": 3
   },
   "file_extension": ".py",
   "mimetype": "text/x-python",
   "name": "python",
   "nbconvert_exporter": "python",
   "pygments_lexer": "ipython3",
   "version": "3.12.1"
  }
 },
 "nbformat": 4,
 "nbformat_minor": 5
}
