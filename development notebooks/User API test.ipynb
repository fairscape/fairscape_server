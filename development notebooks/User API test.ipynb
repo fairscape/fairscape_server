{
 "cells": [
  {
   "cell_type": "code",
   "execution_count": 12,
   "id": "4913536a-6c47-4599-8eb7-c844aec00973",
   "metadata": {},
   "outputs": [],
   "source": [
    "import requests"
   ]
  },
  {
   "cell_type": "code",
   "execution_count": 13,
   "id": "9258571d-d5ca-47b8-8e09-f1e149193074",
   "metadata": {},
   "outputs": [],
   "source": [
    "fairscape_root_url = \"http://localhost:8080\""
   ]
  },
  {
   "cell_type": "code",
   "execution_count": 21,
   "id": "9b1edf35-74bb-463e-a7e6-5a61646146b6",
   "metadata": {},
   "outputs": [],
   "source": [
    "# create a user\n",
    "user_max = {\n",
    "    \"@id\": \"ark:99999/user/max\",\n",
    "    \"@type\": \"Person\",\n",
    "    \"name\": \"Max Levinson\",\n",
    "    \"email\": \"mal8ch@virginia.edu\",\n",
    "    \"password\": \"testpass\"\n",
    "}\n",
    "\n"
   ]
  },
  {
   "cell_type": "code",
   "execution_count": 22,
   "id": "5dd6de1a-b2c4-444e-824a-45a9ad81defe",
   "metadata": {},
   "outputs": [],
   "source": [
    "create_user_response = requests.post(\n",
    "    url=f\"{fairscape_root_url}/user\",\n",
    "    json=user_max\n",
    ")"
   ]
  },
  {
   "cell_type": "code",
   "execution_count": 23,
   "id": "642f4cb4-39e0-43ea-af10-893d916c447a",
   "metadata": {},
   "outputs": [
    {
     "data": {
      "text/plain": [
       "{'created': {'@id': 'ark:99999/user/max',\n",
       "  '@type': 'Person',\n",
       "  'name': 'Max Levinson'}}"
      ]
     },
     "execution_count": 23,
     "metadata": {},
     "output_type": "execute_result"
    }
   ],
   "source": [
    "create_user_response.json()"
   ]
  },
  {
   "cell_type": "code",
   "execution_count": 7,
   "id": "7e6bf03e-0e3f-4242-8484-2e735c518160",
   "metadata": {},
   "outputs": [],
   "source": []
  },
  {
   "cell_type": "code",
   "execution_count": 8,
   "id": "198b66d4-2423-4cde-bb21-3064aa89bfbb",
   "metadata": {},
   "outputs": [
    {
     "data": {
      "text/plain": [
       "pymongo.mongo_client.MongoClient"
      ]
     },
     "execution_count": 8,
     "metadata": {},
     "output_type": "execute_result"
    }
   ],
   "source": []
  },
  {
   "cell_type": "code",
   "execution_count": null,
   "id": "a6bfa055-9b6b-474e-9d83-bf1537eb6b66",
   "metadata": {},
   "outputs": [],
   "source": []
  }
 ],
 "metadata": {
  "kernelspec": {
   "display_name": "Python 3 (ipykernel)",
   "language": "python",
   "name": "python3"
  },
  "language_info": {
   "codemirror_mode": {
    "name": "ipython",
    "version": 3
   },
   "file_extension": ".py",
   "mimetype": "text/x-python",
   "name": "python",
   "nbconvert_exporter": "python",
   "pygments_lexer": "ipython3",
   "version": "3.10.4"
  }
 },
 "nbformat": 4,
 "nbformat_minor": 5
}
