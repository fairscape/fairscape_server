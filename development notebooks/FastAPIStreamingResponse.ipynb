{
 "cells": [
  {
   "cell_type": "code",
   "execution_count": null,
   "id": "38f5a1e5-0ddc-4e45-b103-776cffbb8df5",
   "metadata": {},
   "outputs": [],
   "source": []
  },
  {
   "cell_type": "markdown",
   "id": "40d39c3e-0956-4232-be86-4043b228246b",
   "metadata": {},
   "source": [
    "## Minio Object\n",
    "\n",
    "get_object(bucket_name, object_name, offset=0, length=0, request_headers=None, ssec=None, version_id=None, extra_query_params=None) -> urllib3.response.HTTPResponse\n"
   ]
  },
  {
   "cell_type": "code",
   "execution_count": null,
   "id": "40ee3054-9c44-408e-9e1c-353af5ea92d9",
   "metadata": {},
   "outputs": [],
   "source": []
  },
  {
   "cell_type": "code",
   "execution_count": 1,
   "id": "378e78da-6b2f-47d1-a35d-9106da1d45d7",
   "metadata": {},
   "outputs": [],
   "source": [
    "from fastapi import FastAPI\n",
    "from fastapi.responses import StreamingResponse\n",
    "\n",
    "some_file_path = \"large-video-file.mp4\"\n",
    "app = FastAPI()\n",
    "\n",
    "@app.get(\"/\")\n",
    "def main():\n",
    "    def iterfile():  # \n",
    "        with minio_client.get_object(...) as file_like:  # \n",
    "            yield from file_like \n",
    "    return StreamingResponse(iterfile(), media_type=\"video/mp4\")"
   ]
  },
  {
   "cell_type": "code",
   "execution_count": null,
   "id": "9f3c8f58-f827-4f91-9129-fd649fd6c848",
   "metadata": {},
   "outputs": [],
   "source": [
    "from starlette.responses import StreamingResponse\n",
    "import asyncio\n",
    "\n",
    "\n",
    "async def slow_numbers(minimum, maximum):\n",
    "    yield('<html><body><ul>')\n",
    "    for number in range(minimum, maximum + 1):\n",
    "        yield '<li>%d</li>' % number\n",
    "        await asyncio.sleep(0.5)\n",
    "    yield('</ul></body></html>')\n",
    "\n",
    "\n",
    "async def app(scope, receive, send):\n",
    "    assert scope['type'] == 'http'\n",
    "    generator = slow_numbers(1, 10)\n",
    "    response = StreamingResponse(generator, media_type='text/html')\n",
    "    await response(scope, receive, send)"
   ]
  }
 ],
 "metadata": {
  "kernelspec": {
   "display_name": "Python 3 (ipykernel)",
   "language": "python",
   "name": "python3"
  },
  "language_info": {
   "codemirror_mode": {
    "name": "ipython",
    "version": 3
   },
   "file_extension": ".py",
   "mimetype": "text/x-python",
   "name": "python",
   "nbconvert_exporter": "python",
   "pygments_lexer": "ipython3",
   "version": "3.10.4"
  }
 },
 "nbformat": 4,
 "nbformat_minor": 5
}
