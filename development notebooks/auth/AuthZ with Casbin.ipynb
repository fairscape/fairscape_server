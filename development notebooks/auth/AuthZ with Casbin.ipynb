{
 "cells": [
  {
   "cell_type": "code",
   "execution_count": 1,
   "id": "0403065e",
   "metadata": {},
   "outputs": [],
   "source": [
    "import casbin"
   ]
  },
  {
   "cell_type": "code",
   "execution_count": 2,
   "id": "efbc0e1b",
   "metadata": {},
   "outputs": [],
   "source": [
    "# seems to error opening with my environment\n",
    "# import casbin_sqlobject_adapter\n",
    "# adapter = casbin_sqlobject_adapter.Adapter('sqlite:///../casbin.db')"
   ]
  },
  {
   "cell_type": "code",
   "execution_count": 2,
   "id": "51f13609",
   "metadata": {},
   "outputs": [],
   "source": [
    "%%bash\n",
    "touch test_policies.csv"
   ]
  },
  {
   "cell_type": "code",
   "execution_count": 3,
   "id": "197343c8",
   "metadata": {},
   "outputs": [],
   "source": [
    "with open(\"../tests/restful_casbin.conf\", \"w\") as conf_file:\n",
    "    conf_file.write(\"\"\"\n",
    "[request_definition]\n",
    "r = sub, obj, act\n",
    "\n",
    "[policy_definition]\n",
    "p = sub, obj, act\n",
    "\n",
    "\n",
    "[role_definition]\n",
    "g = _, _\n",
    "g2 = _, _\n",
    "\n",
    "[policy_effect]\n",
    "e = some(where (p.eft == allow))\n",
    "\n",
    "[matchers]\n",
    "m = match_or_group(r.sub, p.sub, g(r.sub, p.sub)) && keyMatch(r.obj, p.obj) && regexMatch(r.act, p.act) || g(r.sub,\"admin\")\n",
    "\"\"\")"
   ]
  },
  {
   "cell_type": "code",
   "execution_count": 4,
   "id": "c821cfda",
   "metadata": {},
   "outputs": [],
   "source": [
    "enforcer = casbin.Enforcer(\"../tests/restful_casbin.conf\", \"./test_policies.csv\")\n",
    "enforcer.load_policy()\n",
    "\n",
    "def match_or_group(r_sub, p_sub, group_bool):\n",
    "    if group_bool == True:\n",
    "        return True\n",
    "    elif r_sub == p_sub:\n",
    "        return True\n",
    "    else:\n",
    "        return False\n",
    "\n",
    "enforcer.add_function(name=\"match_or_group\", func=match_or_group )"
   ]
  },
  {
   "cell_type": "code",
   "execution_count": null,
   "id": "ded6179d",
   "metadata": {},
   "outputs": [],
   "source": []
  },
  {
   "cell_type": "code",
   "execution_count": 5,
   "id": "c343fc7b",
   "metadata": {},
   "outputs": [],
   "source": [
    "user_one_email = \"max@uva.edu\"\n",
    "user_one_id = \"ark:99999/max-uva\"\n",
    "user_two_email = \"sadnan@uva.edu\"\n",
    "user_two_id = \"ark:99999/max-uva\"\n",
    "\n",
    "group_id = \"ark:99999/clarklab\"\n",
    "organization_id = \"ark:99999/UVA\"\n",
    "project_id = \"ark:99999/UVA/B2AI\"\n",
    "computation_id = \"ark:99999/UVA/B2AI/pipeline-run\"\n",
    "software_id = \"ark:99999/UVA/B2AI/b2ai-pipeline\"\n",
    "dataset_id = \"ark:99999/UVA/B2AI/image-dataset\""
   ]
  },
  {
   "cell_type": "code",
   "execution_count": 60,
   "id": "d99d685b",
   "metadata": {},
   "outputs": [],
   "source": [
    "def createUser(casbinEnforcer: casbin.Enforcer, userEmail: str, userId: str):\n",
    "    \n",
    "    casbinEnforcer.add_policies([\n",
    "        (userEmail, f\"/user/{userId}\", \"(GET)|(PUT)|(DELETE)\"), \n",
    "        (userEmail, \"/group\", \"(POST)\"),\n",
    "        (userEmail, \"/project\", \"(POST)\"),\n",
    "        (userEmail, \"/organization\", \"(POST)\"),\n",
    "        (userEmail, \"/computation\", \"(POST)\"),\n",
    "        (userEmail, \"/software\", \"(POST)\"),\n",
    "        (userEmail, \"/dataset\", \"(POST)\")\n",
    "    ])\n",
    "    \n",
    "    return None"
   ]
  },
  {
   "cell_type": "code",
   "execution_count": 61,
   "id": "302ce69b",
   "metadata": {},
   "outputs": [],
   "source": [
    "# test enforcement of several api requests\n",
    "def test_user_access():\n",
    "    # create a user\n",
    "    createUser(enforcer, user_one_email, user_one_id)\n",
    "\n",
    "    # test that user can get, put, delete their own record\n",
    "    enforcement_decision = enforcer.enforce_ex(user_one_email, f\"/user/{user_one_id}\", \"GET\")\n",
    "    assert enforcement_decision[0] == True\n",
    "    assert enforcement_decision[1] == (user_one_email, f'/user/{user_one_id}', '(GET)|(PUT)|(DELETE)')\n",
    "\n",
    "    enforcement_decision = enforcer.enforce_ex(user_one_email, f\"/user/{user_one_id}\", \"PUT\")\n",
    "    assert enforcement_decision[0] == True\n",
    "    assert enforcement_decision[1] == (user_one_email, f'/user/{user_one_id}', '(GET)|(PUT)|(DELETE)')\n",
    "\n",
    "    enforcement_decision = enforcer.enforce_ex(user_one_email, f\"/user/{user_one_id}\", \"DELETE\")\n",
    "    assert enforcement_decision[0] == True\n",
    "    assert enforcement_decision[1] == (user_one_email, f'/user/{user_one_id}', '(GET)|(PUT)|(DELETE)')\n",
    "\n",
    "    # test that user can create groups\n",
    "    enforcement_decision = enforcer.enforce_ex(user_one_email, \"/group\", \"POST\")\n",
    "    assert enforcement_decision[0] == True\n",
    "    assert enforcement_decision[1] == (user_one_email, \"/group\", \"(POST)\")\n",
    "\n",
    "    # test that user can create projects\n",
    "    enforcement_decision = enforcer.enforce_ex(user_one_email, \"/project\", \"POST\")\n",
    "    assert enforcement_decision[0] == True\n",
    "    assert enforcement_decision[1] == (user_one_email, \"/project\", \"(POST)\")\n",
    "\n",
    "    # test that user can create organizations\n",
    "    enforcement_decision = enforcer.enforce_ex(user_one_email, \"/organization\", \"POST\")\n",
    "    assert enforcement_decision[0] == True\n",
    "    assert enforcement_decision[1] == (user_one_email, \"/organization\", \"(POST)\")\n",
    "\n",
    "    # test that user can create computations\n",
    "    enforcement_decision = enforcer.enforce_ex(user_one_email, \"/computation\", \"POST\")\n",
    "    assert enforcement_decision[0] == True\n",
    "    assert enforcement_decision[1] == (user_one_email, \"/computation\", \"(POST)\")\n",
    "\n",
    "    # test that user can create software\n",
    "    enforcement_decision = enforcer.enforce_ex(user_one_email, \"/software\", \"POST\")\n",
    "    assert enforcement_decision[0] == True\n",
    "    assert enforcement_decision[1] == (user_one_email, \"/software\", \"(POST)\")\n",
    "\n",
    "    # test that user can create datasets\n",
    "    enforcement_decision = enforcer.enforce_ex(user_one_email, \"/dataset\", \"POST\")\n",
    "    assert enforcement_decision[0] == True\n",
    "    assert enforcement_decision[1] == (user_one_email, \"/dataset\", \"(POST)\")\n",
    "\n",
    "    # test that the user cannot delete other users\n",
    "    enforcement_result = enforcer.enforce_ex(user_one_email, \"/user/ark:99999/not-my-user\", \"DELETE\")\n",
    "    assert enforcement_result[0] == False\n",
    "\n",
    "#enforcer.enforce_ex(())"
   ]
  },
  {
   "cell_type": "code",
   "execution_count": 62,
   "id": "c08eda1a-1562-47c2-8cd2-ccac472f6e49",
   "metadata": {},
   "outputs": [
    {
     "name": "stderr",
     "output_type": "stream",
     "text": [
      "Request: max@uva.edu, /user/ark:99999/not-my-user, DELETE ---> False\n"
     ]
    }
   ],
   "source": [
    "test_user_access()"
   ]
  },
  {
   "cell_type": "code",
   "execution_count": 65,
   "id": "77f91578-7e8d-413d-ba1a-7cb6c519cd93",
   "metadata": {},
   "outputs": [
    {
     "data": {
      "text/plain": [
       "['/organization/ark:99999/UVA',\n",
       " '/user/ark:99999/max-uva',\n",
       " '/group',\n",
       " '/project',\n",
       " '/organization',\n",
       " '/computation',\n",
       " '/software',\n",
       " '/dataset']"
      ]
     },
     "execution_count": 65,
     "metadata": {},
     "output_type": "execute_result"
    }
   ],
   "source": [
    "enforcer.get_all_actions()\n",
    "enforcer.get_all_objects()"
   ]
  },
  {
   "cell_type": "code",
   "execution_count": 7,
   "id": "85aa7cd6",
   "metadata": {},
   "outputs": [
    {
     "name": "stderr",
     "output_type": "stream",
     "text": [
      "Request: *, ark:99999/clarklab, GET ---> False\n"
     ]
    },
    {
     "data": {
      "text/plain": [
       "False"
      ]
     },
     "execution_count": 7,
     "metadata": {},
     "output_type": "execute_result"
    }
   ],
   "source": [
    "enforcer.enforce(\"*\", \"ark:99999/clarklab\", \"GET\")"
   ]
  },
  {
   "cell_type": "code",
   "execution_count": 42,
   "id": "22cf871d",
   "metadata": {},
   "outputs": [],
   "source": [
    "def createSuperUser(enforcer: casbin.Enforcer, userEmail):\n",
    "    enforcer.add_grouping_policy(userEmail, groupId)\n",
    "    return None"
   ]
  },
  {
   "cell_type": "code",
   "execution_count": 9,
   "id": "0267c67e",
   "metadata": {},
   "outputs": [],
   "source": [
    "def createGroup(enforcer, userEmail, groupId)-> None:\n",
    "\n",
    "    enforcer.add_policies([\n",
    "        (userEmail, f\"/group/{groupId}\", \"(GET)|(PUT)|(DELETE)\"),\n",
    "    ])\n",
    "\n",
    "    # add the user to the policy\n",
    "    enforcer.add_grouping_policy(userEmail, groupId)\n",
    "\n",
    "    enforcer.add_policies([\n",
    "        (groupId, f\"/group/{groupId}\", \"(GET)\")\n",
    "    ])\n",
    "    \n",
    "    return None\n",
    "\n",
    "def addUserToGroup(enforcer, userEmail, groupId):\n",
    "    # add the user to the policy\n",
    "    enforcer.add_grouping_policy(userEmail, groupId)\n",
    "    \n",
    "    return None\n",
    "\n",
    "\n",
    "def removeUserFromGroup(enforcer, userEmail, groupId):\n",
    "    # TODO check if this is the owner\n",
    "    \n",
    "    # if the only member of the group remains raise exception\n",
    "    if len(enforcer.get_filtered_grouping_policy(groupId))==1:\n",
    "        raise Exception(\"Can't Remove Last Memeber of Group\")\n",
    "    \n",
    "    enforcer.remove_grouping_policy(userEmail, groupId)\n",
    "    \n",
    "    return None\n",
    "\n",
    "def deleteGroup(enforcer, groupId)-> None:\n",
    "    enforcer.delete_role(groupId)\n",
    "    \n",
    "    return None"
   ]
  },
  {
   "cell_type": "code",
   "execution_count": 10,
   "id": "9025f4b4",
   "metadata": {},
   "outputs": [],
   "source": [
    "def test_group_creation():\n",
    "\n",
    "    createGroup(enforcer, user_one_email, group_id)\n",
    "    assert group_id in enforcer.get_all_named_roles(\"g\")\n",
    "    assert group_id in enforcer.get_roles_for_user(user_one_email)\n",
    "    \n",
    "    createUser(enforcer, user_two_email, user_two_id)\n",
    "\n",
    "    # add second user to the group\n",
    "    addUserToGroup(enforcer,  user_two_email, group_id)\n",
    "    assert group_id in enforcer.get_roles_for_user( user_two_email)\n",
    "    \n",
    "    # remove user two from the group\n",
    "    removeUserFromGroup(enforcer,  user_two_email, group_id)\n",
    "    assert group_id not in enforcer.get_roles_for_user( user_two_email)\n",
    "    \n",
    "    \n",
    "    # try to remove last user from group\n",
    "    try:\n",
    "        removeUserFromGroup(enforcer, user_one_email, group_id)\n",
    "    except Exception as e:\n",
    "        pass\n",
    "\n",
    "    # assert that the user is still in the group\n",
    "    assert group_id in enforcer.get_roles_for_user(user_one_email)\n",
    "        \n",
    "    # delete group totally\n",
    "    deleteGroup(enforcer, group_id)\n",
    "    assert group_id not in enforcer.get_all_named_roles(\"g\")\n",
    "\n",
    "    # check that user 1 is not a member of the group\n",
    "    assert group_id not in enforcer.get_roles_for_user(user_one_email)"
   ]
  },
  {
   "cell_type": "code",
   "execution_count": 11,
   "id": "87a3aaea",
   "metadata": {},
   "outputs": [],
   "source": [
    "test_group_creation()"
   ]
  },
  {
   "cell_type": "code",
   "execution_count": null,
   "id": "2c7da7ea-7ad7-4c56-a057-3afe5853dd36",
   "metadata": {},
   "outputs": [],
   "source": []
  },
  {
   "cell_type": "code",
   "execution_count": 43,
   "id": "d419e2be-6995-4a55-8ac1-a79dc8e03992",
   "metadata": {},
   "outputs": [
    {
     "name": "stdout",
     "output_type": "stream",
     "text": [
      "Help on method get_filtered_policy in module casbin.management_enforcer:\n",
      "\n",
      "get_filtered_policy(field_index, *field_values) method of casbin.enforcer.Enforcer instance\n",
      "    gets all the authorization rules in the policy, field filters can be specified.\n",
      "\n"
     ]
    }
   ],
   "source": [
    "help(enforcer.get_filtered_policy)"
   ]
  },
  {
   "cell_type": "code",
   "execution_count": 49,
   "id": "617648fe-07f9-4f9e-8f63-49da8f91c8e3",
   "metadata": {},
   "outputs": [],
   "source": [
    "createOrganization(enforcer, user_one_email, organization_id)"
   ]
  },
  {
   "cell_type": "code",
   "execution_count": 57,
   "id": "bd51baa7-dfc2-4e47-8d64-89a70da7cd40",
   "metadata": {},
   "outputs": [
    {
     "data": {
      "text/plain": [
       "[]"
      ]
     },
     "execution_count": 57,
     "metadata": {},
     "output_type": "execute_result"
    }
   ],
   "source": [
    "enforcer.get_filtered_policy(2, organization_id)"
   ]
  },
  {
   "cell_type": "code",
   "execution_count": 66,
   "id": "641e6474-1ce2-4bdf-9792-2ac92f33ce66",
   "metadata": {},
   "outputs": [
    {
     "data": {
      "text/plain": [
       "[('max@uva.edu', '/organization/ark:99999/UVA', '(GET)|(PUT)|(DELETE)'),\n",
       " ('max@uva.edu', '/user/ark:99999/max-uva', '(GET)|(PUT)|(DELETE)'),\n",
       " ('max@uva.edu', '/group', '(POST)'),\n",
       " ('max@uva.edu', '/project', '(POST)'),\n",
       " ('max@uva.edu', '/organization', '(POST)'),\n",
       " ('max@uva.edu', '/computation', '(POST)'),\n",
       " ('max@uva.edu', '/software', '(POST)'),\n",
       " ('max@uva.edu', '/dataset', '(POST)')]"
      ]
     },
     "execution_count": 66,
     "metadata": {},
     "output_type": "execute_result"
    }
   ],
   "source": [
    "enforcer.get_policy()"
   ]
  },
  {
   "cell_type": "code",
   "execution_count": 67,
   "id": "eb288fb3-5463-4183-bb7b-ac9069c05fb8",
   "metadata": {},
   "outputs": [
    {
     "data": {
      "text/plain": [
       "[('max@uva.edu', '/dataset', '(POST)')]"
      ]
     },
     "execution_count": 67,
     "metadata": {},
     "output_type": "execute_result"
    }
   ],
   "source": [
    "enforcer.get_filtered_policy(1, \"/dataset\")"
   ]
  },
  {
   "cell_type": "code",
   "execution_count": 68,
   "id": "61916ddd-abe7-4f1f-8ca6-d6cbc9269318",
   "metadata": {},
   "outputs": [
    {
     "data": {
      "text/plain": [
       "True"
      ]
     },
     "execution_count": 68,
     "metadata": {},
     "output_type": "execute_result"
    }
   ],
   "source": [
    "enforcer.remove_filtered_policy(1, \"/dataset\")"
   ]
  },
  {
   "cell_type": "code",
   "execution_count": 38,
   "id": "eba575b0",
   "metadata": {},
   "outputs": [],
   "source": [
    "def createOrganization(casbinEnforcer: casbin.Enforcer, userEmail: str, organizationID: str) -> None:\n",
    "    casbinEnforcer.add_policies([\n",
    "        (userEmail, f\"/organization/{organizationID}\", \"(GET)|(PUT)|(DELETE)\"),\n",
    "    ])\n",
    "    \n",
    "    return None\n",
    "\n",
    "def deleteOrganization(casbinEnforcer: casbin.Enforcer, organizationID: str) -> None:\n",
    "    deleted_policy = casbinEnforcer.remove_filtered_policy(1, f\"/organization/{organizationID}\")\n",
    "    if not deleted_policy:\n",
    "        raise PolicyNotFoundException()\n",
    "\n",
    "def addUserToOrganization(casbinEnforcer: casbin.Enforcer, userEmail: str, organizationID: str) -> None:\n",
    "    casbinEnforcer.add_policies([\n",
    "        (userEmail, f\"/organization/{organizationID}\", \"(GET)|(PUT)\"),\n",
    "    ])\n",
    "    \n",
    "    return None\n",
    "\n",
    "\n",
    "def removeUserFromOrganization(casbinEnforcer: casbin.Enforcer, userEmail: str, organizationID: str) -> None:\n",
    "    \n",
    "    # if it is the owner raise exception\n",
    "    is_user_admin = casbinEnforcer.enforce(\n",
    "        userEmail, \n",
    "        f\"/organization/{organizationID}\", \n",
    "        \"DELETE\"\n",
    "    )\n",
    "\n",
    "    # can't remove admins from their own group\n",
    "    if is_user_admin:\n",
    "       raise Exception(f\"User: {userEmail} is an admin of organization {organizationID}\")\n",
    "    \n",
    "    # otherwise remove member from organization\n",
    "    casbinEnforcer.remove_filtered_policy(\n",
    "        0, userEmail, f\"/organization/{organizationID}\", \"(GET)|(PUT)\"\n",
    "    )\n",
    "    return None\n",
    "\n",
    "def addGroupToOrganization(casbinEnforcer: casbin.Enforcer, groupID: str, organizationID: str) -> None:\n",
    "    casbinEnforcer.add_policies([\n",
    "        (groupID, f\"/organization/{organizationID}\", \"(GET)|(PUT)\"),\n",
    "    ])\n",
    "    \n",
    "    return None\n",
    "\n",
    "\n",
    "def removeGroupFromOrganization(casbinEnforcer: casbin.Enforcer, groupID: str, organizationID: str) -> None:\n",
    "    casbinEnforcer.remove_filtered_policy(\n",
    "        0, groupID, f\"/organization/{organizationID}\", \"(GET)|(PUT)\"\n",
    "    )\n",
    "    return None"
   ]
  },
  {
   "cell_type": "code",
   "execution_count": 34,
   "id": "6ca97126-f8f3-4f97-846d-c9e39228a2fc",
   "metadata": {},
   "outputs": [
    {
     "data": {
      "text/plain": [
       "True"
      ]
     },
     "execution_count": 34,
     "metadata": {},
     "output_type": "execute_result"
    }
   ],
   "source": [
    "enforcer.enforce(\n",
    "        user_one_email, \n",
    "        f\"/organization/{organization_id}\", \n",
    "        \"DELETE\"\n",
    "    )"
   ]
  },
  {
   "cell_type": "code",
   "execution_count": 37,
   "id": "18ddb666-47e9-4e2f-b350-f71ad2d3154f",
   "metadata": {},
   "outputs": [
    {
     "data": {
      "text/plain": [
       "[]"
      ]
     },
     "execution_count": 37,
     "metadata": {},
     "output_type": "execute_result"
    }
   ],
   "source": [
    "enforcer.get_filtered_policy(0, f\"/organization/{organization_id}\", \"(GET)|(PUT)|(DELETE)\")"
   ]
  },
  {
   "cell_type": "code",
   "execution_count": 23,
   "id": "03b69e57-ff54-4d65-a9b7-24417ae9da27",
   "metadata": {},
   "outputs": [],
   "source": [
    "enforcer.delete_role_for_user(user_two_email, organization_id)\n",
    "enforcer.save_policy()"
   ]
  },
  {
   "cell_type": "code",
   "execution_count": 18,
   "id": "1f5fcf5a-6dd0-42f8-a5b4-0791c9b855a8",
   "metadata": {},
   "outputs": [],
   "source": [
    "enforcer.load_policy()"
   ]
  },
  {
   "cell_type": "code",
   "execution_count": 39,
   "id": "fff7c39b",
   "metadata": {},
   "outputs": [],
   "source": [
    "def test_organization():\n",
    "    \n",
    "    createOrganization(enforcer, user_one_email, organization_id)\n",
    "    enforcer.save_policy()\n",
    "    \n",
    "    assert enforcer.enforce(user_one_email, f\"/organization/{organization_id}\", \"GET\")\n",
    "    assert enforcer.enforce(user_one_email, f\"/organization/{organization_id}\", \"PUT\")\n",
    "    assert enforcer.enforce(user_one_email, f\"/organization/{organization_id}\", \"DELETE\")\n",
    "    \n",
    "    # add a user to the group\n",
    "    addUserToOrganization(enforcer, user_two_email, organization_id)\n",
    "    enforcer.save_policy()\n",
    "    \n",
    "    # check that user can get the organization information\n",
    "    assert enforcer.enforce(user_two_email,  f\"/organization/{organization_id}\", \"GET\")\n",
    "    # check that added user can update organization\n",
    "    assert enforcer.enforce(user_two_email, f\"/organization/{organization_id}\", \"PUT\")\n",
    "    # check that added user cannot delete the organization\n",
    "    assert not enforcer.enforce(user_two_email, f\"/organization/{organization_id}\", \"DELETE\")\n",
    "    \n",
    "    # remove the second user from the organization\n",
    "    removeUserFromOrganization(enforcer, user_two_email, organization_id)\n",
    "    enforcer.save_policy()\n",
    "    \n",
    "    assert not enforcer.enforce(user_two_email,  f\"/organization/{organization_id}\", \"GET\")\n",
    "    assert not enforcer.enforce(user_two_email, f\"/organization/{organization_id}\", \"PUT\")\n",
    "    \n",
    "    # add the second user to a group\n",
    "    addUserToGroup(enforcer, user_two_email, group_id)\n",
    "    # add the group to the organization\n",
    "    addGroupToOrganization(enforcer, group_id, organization_id)\n",
    "    \n",
    "    # check that the second user can get and put but not delete the organization\n",
    "    assert enforcer.enforce(user_two_email, f\"/organization/{organization_id}\", \"GET\")\n",
    "    assert enforcer.enforce(user_two_email, f\"/organization/{organization_id}\", \"PUT\")\n",
    "    assert not enforcer.enforce(user_two_email, f\"/organization/{organization_id}\", \"DELETE\")\n",
    "    \n",
    "    # remove the group from the organization\n",
    "    removeGroupFromOrganization(enforcer, group_id, organization_id)\n",
    "    \n",
    "    assert not enforcer.enforce(user_two_email, f\"/organization/{organization_id}\", \"GET\")\n",
    "    assert not enforcer.enforce(user_two_email, f\"/organization/{organization_id}\", \"PUT\")\n",
    "    \n",
    "    # try to remove the owner from the organization\n",
    "    try:\n",
    "        removeUserFromOrganization(enforcer, user_one_email, organization_id)\n",
    "    except:\n",
    "        pass\n"
   ]
  },
  {
   "cell_type": "code",
   "execution_count": 40,
   "id": "f4aab03e",
   "metadata": {},
   "outputs": [
    {
     "data": {
      "text/plain": [
       "False"
      ]
     },
     "execution_count": 40,
     "metadata": {},
     "output_type": "execute_result"
    }
   ],
   "source": [
    "enforcer.remove_filtered_policy(0, group_id, f\"/organization/{organization_id}\", \"(GET)|(PUT)\"\n",
    ")"
   ]
  },
  {
   "cell_type": "code",
   "execution_count": 41,
   "id": "5c282533-fcaf-4e04-bad1-9783b5eb77e9",
   "metadata": {},
   "outputs": [],
   "source": [
    "class PolicyNotFoundException(Exception):\n",
    "\n",
    "    def __init__(\n",
    "        self, \n",
    "        message=\"No Casbin Policy Found\", \n",
    "        subject: str = \"\", \n",
    "        object: str = \"\", \n",
    "        action: str = \"\"\n",
    "    ):\n",
    "        self.message = message\n",
    "        super().__init__(self.message)"
   ]
  },
  {
   "cell_type": "code",
   "execution_count": 59,
   "id": "5d8b0200-6928-4f01-9513-cdd176e681eb",
   "metadata": {},
   "outputs": [
    {
     "data": {
      "text/plain": [
       "['/organization/ark:99999/UVA']"
      ]
     },
     "execution_count": 59,
     "metadata": {},
     "output_type": "execute_result"
    }
   ],
   "source": [
    "\n",
    "enforcer.get_all_objects()\n"
   ]
  },
  {
   "cell_type": "code",
   "execution_count": 58,
   "id": "5a08c98f",
   "metadata": {},
   "outputs": [],
   "source": [
    "class ObjectPermission():\n",
    "\n",
    "    def __init__(objectId: str)-> None:\n",
    "        self.objectId = objectId\n",
    "\n",
    "    \n",
    "    def create(\n",
    "        casbinEnforcer: casbin.Enforcer, \n",
    "        userEmail:str, \n",
    "        action: str = \"(GET)|(PUT)|(DELETE)\"\n",
    "    )-> None:\n",
    "        casbinEnforcer.add_policy(userEmail, self.objectId, action)\n",
    "        return None\n",
    "\n",
    "    def delete(\n",
    "        casbinEnforcer: casbin.Enforcer,\n",
    "        objectURL: str\n",
    "    )-> None:\n",
    "        deleted_policy = casbinEnforcer.remove_filtered_policy(1, objectURL)\n",
    "        if not deleted_policy:\n",
    "            raise PolicyNotFoundException()\n",
    "        return None\n",
    "    \n",
    "    def addPermission(\n",
    "        casbinEnforcer: casbin.Enforcer, \n",
    "        userEmail: str, \n",
    "        action: str = \"(GET)|(PUT)\"\n",
    "    )-> None:\n",
    "        casbinEnforcer.add_policy(userEmail, self.objectId, action)\n",
    "        return None\n",
    "\n",
    "    \n",
    "    def removePermission(\n",
    "        casbinEnforcer: casbin.Enforcer, \n",
    "        subjectId: str, \n",
    "        action: str = \"(GET)|(PUT)\"\n",
    "    )-> None:\n",
    "         # otherwise remove member from organization\n",
    "        removed_policy = casbinEnforcer.remove_filtered_policy(0, subjectId, self.objectId, action)\n",
    "        if not removed_policy:\n",
    "            raise PolicyNotFoundException()\n",
    "        return None"
   ]
  },
  {
   "cell_type": "code",
   "execution_count": 69,
   "id": "ac100f94",
   "metadata": {},
   "outputs": [],
   "source": [
    "def createProject(\n",
    "    casbinEnforcer: casbin.Enforcer, \n",
    "    userEmail: str, \n",
    "    projectId:str\n",
    "    )->None:\n",
    "    ObjectPermission(objectId=projectId).create(casbinEnforcer, userEmail, action=\"(GET)|(PUT)|(DELETE)\")\n",
    "    return None\n",
    "\n",
    "def addUserToProject(\n",
    "    casbinEnforcer: casbin.Enforcer, \n",
    "    userEmail: str, \n",
    "    projectId: str\n",
    ")->None:\n",
    "    ObjectPermission(objectId=projectId).addPermission(casbinEnforcer, userEmail)\n",
    "\n",
    "def removeUserFromProject(\n",
    "    casbinEnforcer: casbin.Enforcer, \n",
    "    userEmail: str, \n",
    "    projectId: str\n",
    ")->None:\n",
    "    ObjectPermission(objectId=projectId).removePermission(casbinEnforcer, userEmail)\n",
    "\n",
    "\n",
    "def addGroupToProject(    \n",
    "    casbinEnforcer: casbin.Enforcer, \n",
    "    groupId: str, \n",
    "    projectId: str\n",
    ")->None:\n",
    "    ObjectPermission(objectId=projectId).addPermission(casbinEnforcer, groupId)\n",
    "\n",
    "    \n",
    "def removeGroupFromProject(\n",
    "    casbinEnforcer: casbin.Enforcer, \n",
    "    groupId: str, \n",
    "    projectId: str\n",
    ")->None:\n",
    "    ObjectPermission(objectId=projectId).removePermission(casbinEnforcer, groupId)\n",
    "    return None"
   ]
  },
  {
   "cell_type": "code",
   "execution_count": null,
   "id": "e25e2cda",
   "metadata": {},
   "outputs": [],
   "source": [
    "def createROCrate():\n",
    "    pass\n",
    "\n",
    "def deleteROCrate():\n",
    "    pass\n",
    "\n",
    "def addUserToROCrate():\n",
    "    pass\n",
    "\n",
    "def removeUserFromROCrate():\n",
    "    pass\n",
    "\n",
    "def addGroupToROCrate():\n",
    "    pass\n",
    "\n",
    "def removeGroupFromROCrate():\n",
    "    pass"
   ]
  },
  {
   "cell_type": "code",
   "execution_count": null,
   "id": "dc83f3fa",
   "metadata": {},
   "outputs": [],
   "source": [
    "def createDataset():\n",
    "    pass\n",
    "\n",
    "def addUserToDataset():\n",
    "    pass\n",
    "\n",
    "def removeUserFromDataset():\n",
    "    pass\n",
    "\n",
    "def addGroupToDataset():\n",
    "    pass\n",
    "\n",
    "def removeGroupFromDataset():\n",
    "    pass"
   ]
  },
  {
   "cell_type": "code",
   "execution_count": null,
   "id": "450c96e3",
   "metadata": {},
   "outputs": [],
   "source": [
    "def createSoftware():\n",
    "    pass\n",
    "\n",
    "\n",
    "def addUserToSoftware():\n",
    "    pass\n",
    "\n",
    "def removeUserFromSoftware():\n",
    "    pass\n",
    "\n",
    "def addGroupToSoftware():\n",
    "    pass\n",
    "\n",
    "def removeGroupFromSoftware():\n",
    "    pass"
   ]
  },
  {
   "cell_type": "code",
   "execution_count": null,
   "id": "ba3489b6",
   "metadata": {},
   "outputs": [],
   "source": [
    "def createComputation():\n",
    "    pass\n",
    "\n",
    "def addUserToComputation():\n",
    "    pass\n",
    "\n",
    "def removeUserFromComputation():\n",
    "    pass\n",
    "\n",
    "def addGroupToComputation():\n",
    "    pass\n",
    "\n",
    "def removeGroupFromComputation():\n",
    "    pass"
   ]
  },
  {
   "cell_type": "code",
   "execution_count": null,
   "id": "ccd0ad73",
   "metadata": {},
   "outputs": [],
   "source": []
  },
  {
   "cell_type": "code",
   "execution_count": null,
   "id": "2ee84c6d",
   "metadata": {},
   "outputs": [],
   "source": []
  },
  {
   "cell_type": "code",
   "execution_count": 97,
   "id": "440e9304",
   "metadata": {},
   "outputs": [
    {
     "data": {
      "text/plain": [
       "['ark:99999/clarklab']"
      ]
     },
     "execution_count": 97,
     "metadata": {},
     "output_type": "execute_result"
    }
   ],
   "source": [
    "enforcer.get_all_roles()"
   ]
  },
  {
   "cell_type": "code",
   "execution_count": 99,
   "id": "3b957a22",
   "metadata": {},
   "outputs": [
    {
     "data": {
      "text/plain": [
       "[['max@uva.edu', 'ark:99999/clarklab']]"
      ]
     },
     "execution_count": 99,
     "metadata": {},
     "output_type": "execute_result"
    }
   ],
   "source": [
    "enforcer.get_filtered_grouping_policy(\"ark:99999/clarklab\")"
   ]
  },
  {
   "cell_type": "code",
   "execution_count": null,
   "id": "ec4133ac",
   "metadata": {},
   "outputs": [],
   "source": []
  },
  {
   "cell_type": "code",
   "execution_count": null,
   "id": "b1e9732c-ef63-4847-8cea-4e5260ffc134",
   "metadata": {},
   "outputs": [],
   "source": [
    "# check the grouping policies\n",
    "enforcer.get_grouping_policy()\n",
    "\n",
    "enforcer.get_all_named_subjects(\"p\")\n",
    "\n",
    "enforcer.get_all_named_objects(\"p\")"
   ]
  },
  {
   "cell_type": "code",
   "execution_count": 32,
   "id": "60b8a57e",
   "metadata": {},
   "outputs": [
    {
     "data": {
      "text/plain": [
       "[]"
      ]
     },
     "execution_count": 32,
     "metadata": {},
     "output_type": "execute_result"
    }
   ],
   "source": [
    "enforcer.get_all_named_roles(ptype=\"p\")"
   ]
  },
  {
   "cell_type": "code",
   "execution_count": 35,
   "id": "7ebc6231",
   "metadata": {},
   "outputs": [
    {
     "data": {
      "text/plain": [
       "['max@uva.edu']"
      ]
     },
     "execution_count": 35,
     "metadata": {},
     "output_type": "execute_result"
    }
   ],
   "source": [
    "enforcer.get_all_named_subjects(\"p\")"
   ]
  },
  {
   "cell_type": "code",
   "execution_count": 33,
   "id": "e56ea272",
   "metadata": {},
   "outputs": [
    {
     "data": {
      "text/plain": [
       "['/user/ark:99999/max-uva',\n",
       " '/group',\n",
       " '/project',\n",
       " '/organization',\n",
       " '/computation',\n",
       " '/software',\n",
       " '/dataset']"
      ]
     },
     "execution_count": 33,
     "metadata": {},
     "output_type": "execute_result"
    }
   ],
   "source": [
    "enforcer.get_all_named_objects(\"p\")"
   ]
  },
  {
   "cell_type": "code",
   "execution_count": 26,
   "id": "b8d64400",
   "metadata": {},
   "outputs": [
    {
     "name": "stdout",
     "output_type": "stream",
     "text": [
      "Help on method get_all_named_objects in module casbin.management_enforcer:\n",
      "\n",
      "get_all_named_objects(ptype) method of casbin.enforcer.Enforcer instance\n",
      "    gets the list of objects that show up in the current named policy.\n",
      "\n"
     ]
    }
   ],
   "source": [
    "help(enforcer.get_all_named_objects)"
   ]
  },
  {
   "cell_type": "code",
   "execution_count": null,
   "id": "cc40a0c7-6354-433d-b152-9b7341818270",
   "metadata": {},
   "outputs": [],
   "source": [
    "enforcer.enforce_ex(user_two_email,  f\"/organization/{organization_id}\", \"GET\")\n",
    "\n",
    "enforcer.remove_named_policy(\"p\", 'sadnan@uva.edu', '/organization/ark:99999/UVA', '(GET)|(PUT)')\n",
    "\n",
    "enforcer.remove_filtered_policy(0, user_two_email, f\"/organization/{organization_id}\", \"(GET)|(PUT)\")\n",
    "\n",
    "enforcer.get_filtered_policy(0, )"
   ]
  },
  {
   "cell_type": "markdown",
   "id": "31432b26",
   "metadata": {},
   "source": [
    "## Flow to Test\n",
    "1. our test user is signs up\n",
    "2. that user is granted access to an organization\n",
    "3. that user creates a new project within that organization\n",
    "4. one of each object is created within that new project\n",
    "5. that user creates a new group of other users\n",
    "6. the test user gives access to the project for the group they created"
   ]
  },
  {
   "cell_type": "markdown",
   "id": "2df69e3a",
   "metadata": {},
   "source": [
    "### Permissions\n",
    "\n",
    "#### Organization\n",
    "- can create project\n",
    "- can edit organization metadata\n",
    "- can delete projects\n",
    "\n",
    "#### Project\n",
    "- can add a digital object\n",
    "- can delete the entire project\n",
    "- can edit project metadata\n",
    "- can delete any digital object within the project\n",
    "- can change project permissions"
   ]
  },
  {
   "cell_type": "code",
   "execution_count": 8,
   "id": "54643158",
   "metadata": {},
   "outputs": [],
   "source": [
    "user = \"ark:99999/test-user\"\n",
    "org = \"ark:99999/CAMA\"\n",
    "proj = \"ark:99999/CAMA-HCTSA\"\n",
    "\n",
    "dataset = \"ark:99999/CAMA-HCTSA-test-dataset\"\n",
    "dataset_object = \"ark:99999/CAMA-HCTSA-test-dataset-download\"\n",
    "\n",
    "software = \"ark:99999/CAMA-HCTSA-test-software\"\n",
    "software_object = \"ark:99999/CAMA-HCTSA-test-software-download\"\n",
    "\n",
    "computation = \"ark:99999/CAMA-HCTSA-computation\"\n",
    "\n",
    "result = \"ark:99999/CAMA-HCTSA-computation-result\"\n",
    "result_object = \"ark:99999/CAMA-HCTSA-computation-result-download\""
   ]
  },
  {
   "cell_type": "code",
   "execution_count": 24,
   "id": "05766d91",
   "metadata": {},
   "outputs": [],
   "source": [
    "# step 1 a user is granted access to an organization\n",
    "# insert a policy\n",
    "enforcer.add_policy(user, \"canCreateProject\", org)\n",
    "\n",
    "# persisting the policies to storage\n",
    "enforcer.save_policy()"
   ]
  },
  {
   "cell_type": "code",
   "execution_count": 9,
   "id": "81f4520d",
   "metadata": {},
   "outputs": [
    {
     "data": {
      "text/plain": [
       "True"
      ]
     },
     "execution_count": 9,
     "metadata": {},
     "output_type": "execute_result"
    }
   ],
   "source": [
    "# test that the user can actually create the project\n",
    "enforcer.enforce(user, \"canCreateProject\", org)"
   ]
  },
  {
   "cell_type": "code",
   "execution_count": 28,
   "id": "e528a209",
   "metadata": {},
   "outputs": [],
   "source": [
    "# a user creates a project\n",
    "enforcer.add_policies([\n",
    "    (user, \"delete\", proj), \n",
    "    (user, \"update\", proj), \n",
    "    (user, \"managePermissions\", proj),\n",
    "    (user, \"createDigitalObject\", proj)])\n",
    "\n",
    "enforcer.save_policy()"
   ]
  },
  {
   "cell_type": "code",
   "execution_count": null,
   "id": "1ef11540",
   "metadata": {},
   "outputs": [],
   "source": []
  }
 ],
 "metadata": {
  "kernelspec": {
   "display_name": "Python 3 (ipykernel)",
   "language": "python",
   "name": "python3"
  },
  "language_info": {
   "codemirror_mode": {
    "name": "ipython",
    "version": 3
   },
   "file_extension": ".py",
   "mimetype": "text/x-python",
   "name": "python",
   "nbconvert_exporter": "python",
   "pygments_lexer": "ipython3",
   "version": "3.10.4"
  }
 },
 "nbformat": 4,
 "nbformat_minor": 5
}
