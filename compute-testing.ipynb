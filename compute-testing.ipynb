{
 "cells": [
  {
   "cell_type": "code",
   "execution_count": 4,
   "metadata": {},
   "outputs": [],
   "source": [
    "import os\n",
    "import sys\n",
    "\n",
    "sys.path.insert(0, os.path.abspath('/home/max/uva/mds_python'))\n",
    "\n",
    "from mds.models import *\n",
    "from mds.models.compact.user import UserCompactView\n",
    "from mds.database.mongo import GetConfig\n",
    "from mds.database.minio import GetMinioConfig"
   ]
  },
  {
   "cell_type": "code",
   "execution_count": 11,
   "metadata": {},
   "outputs": [],
   "source": [
    "from mds.models.user import User\n",
    "from mds.models.dataset import Dataset\n",
    "from mds.models.download import Download"
   ]
  },
  {
   "cell_type": "code",
   "execution_count": 21,
   "metadata": {},
   "outputs": [],
   "source": [
    "mongo_client = GetConfig()\n",
    "mongo_database = mongo_client[\"test\"]\n",
    "mongo_collection = mongo_database[\"test_col\"]"
   ]
  },
  {
   "cell_type": "code",
   "execution_count": 31,
   "metadata": {},
   "outputs": [],
   "source": [
    "minio_client = GetMinioConfig()"
   ]
  },
  {
   "cell_type": "code",
   "execution_count": 12,
   "metadata": {},
   "outputs": [],
   "source": [
    "test_user = User(**{\n",
    "\t\t\"@id\": \"ark:99999/test-user1\",\n",
    "\t\t\"name\": \"Test User1\",\n",
    "\t\t\"type\": \"Person\",\n",
    "\t\t\"email\": \"testuser1@example.org\",\n",
    "\t\t\"password\": \"test1\",\n",
    "\t\t\"organizations\": [],\n",
    "\t\t\"projects\": [],\n",
    "\t\t\"datasets\": [],\n",
    "\t\t\"software\": [],\n",
    "\t\t\"computations\": [],\n",
    "\t\t\"evidencegraphs\": []\n",
    "\t\t})"
   ]
  },
  {
   "cell_type": "code",
   "execution_count": 22,
   "metadata": {},
   "outputs": [],
   "source": [
    "create_user_status = test_user.create(mongo_collection)"
   ]
  },
  {
   "cell_type": "code",
   "execution_count": 24,
   "metadata": {},
   "outputs": [
    {
     "data": {
      "text/plain": [
       "True"
      ]
     },
     "execution_count": 24,
     "metadata": {},
     "output_type": "execute_result"
    }
   ],
   "source": [
    "create_user_status.success"
   ]
  },
  {
   "cell_type": "code",
   "execution_count": 43,
   "metadata": {
    "scrolled": true
   },
   "outputs": [],
   "source": [
    "test_dataset = Dataset(**{\n",
    "\t\"@id\": \"ark:99999/test-dataset\",\n",
    "\t\"@type\": \"evi:Dataset\",\n",
    "\t\"name\": \"test dataset\",\n",
    "\t\"owner\": {\n",
    "\t\t\"@id\": \"ark:99999/test-user1\",\n",
    "\t\t\"@type\": \"Person\",\n",
    "\t\t\"name\": \"Test User1\",\n",
    "\t\t\"email\": \"testuser1@example.org\"\n",
    "\t\t}\n",
    "    })"
   ]
  },
  {
   "cell_type": "code",
   "execution_count": 44,
   "metadata": {},
   "outputs": [],
   "source": [
    "create_dataset = test_dataset.create(mongo_collection)"
   ]
  },
  {
   "cell_type": "code",
   "execution_count": 45,
   "metadata": {},
   "outputs": [
    {
     "data": {
      "text/plain": [
       "True"
      ]
     },
     "execution_count": 45,
     "metadata": {},
     "output_type": "execute_result"
    }
   ],
   "source": [
    "create_dataset.success"
   ]
  },
  {
   "cell_type": "code",
   "execution_count": 49,
   "metadata": {},
   "outputs": [
    {
     "data": {
      "text/plain": [
       "'ark:99999/test-dataset'"
      ]
     },
     "execution_count": 49,
     "metadata": {},
     "output_type": "execute_result"
    }
   ],
   "source": [
    "test_dataset.id"
   ]
  },
  {
   "cell_type": "code",
   "execution_count": 46,
   "metadata": {},
   "outputs": [],
   "source": [
    "test_data_download = Download(**{\n",
    "\t\"@id\": \"ark:99999/test-download\",\n",
    "\t\"name\": \"test file.txt\",\n",
    "\t\"@type\": \"DataDownload\",\n",
    "\t\"encodingFormat\": \".txt\",\n",
    "\t\"encodesCreativeWork\": test_dataset.id,\n",
    "    })"
   ]
  },
  {
   "cell_type": "code",
   "execution_count": 47,
   "metadata": {},
   "outputs": [],
   "source": [
    "create_data_download = test_data_download.create_metadata(mongo_client)"
   ]
  },
  {
   "cell_type": "code",
   "execution_count": 48,
   "metadata": {},
   "outputs": [
    {
     "data": {
      "text/plain": [
       "'Success: False\\tMessage: dataset ark:99999/test-dataset not found\\tStatusCode: 404'"
      ]
     },
     "execution_count": 48,
     "metadata": {},
     "output_type": "execute_result"
    }
   ],
   "source": [
    "str(create_data_download)"
   ]
  },
  {
   "cell_type": "code",
   "execution_count": 32,
   "metadata": {},
   "outputs": [],
   "source": [
    "# upload data file\n",
    "test_file = open(\"tests/test-data.csv\")\n",
    "\n",
    "upload_file = test_data_download.register(test_file, mongo_client, minio_client)\n"
   ]
  },
  {
   "cell_type": "code",
   "execution_count": 37,
   "metadata": {},
   "outputs": [
    {
     "data": {
      "text/plain": [
       "'Success: False\\tMessage: dataDownload ark:99999/test-download not found\\tStatusCode: 404'"
      ]
     },
     "execution_count": 37,
     "metadata": {},
     "output_type": "execute_result"
    }
   ],
   "source": [
    "test_file.close()\n",
    "str(upload_file)"
   ]
  },
  {
   "cell_type": "code",
   "execution_count": null,
   "metadata": {},
   "outputs": [],
   "source": [
    "test_user = UserCompactView(\n",
    "    id=\"ark:99999/test-owner\",\n",
    "    name=\"test owner1\",\n",
    "    email=\"testowner1@example.org\"\n",
    ")\n",
    "\n",
    "test_software = Software(\n",
    "    id=\"ark:99999/test-software\",\n",
    "    owner=owner_inst1,\n",
    "    citation=\"doi://blabla\"\n",
    ")\n",
    "\n",
    "test_software_download = DataDownload()\n",
    "\n",
    "test_dataset = Dataset()\n",
    "\n",
    "test_dataset_download = DataDownload()\n",
    "\n",
    "test_computation  =  Computation(\n",
    "        id=\"ark:99999/test-comp\",\n",
    "        name=\"\",\n",
    "        owner=self.test_user,\n",
    "        author=\"author1\",\n",
    "        dateCreated=\"2022-02-15\",\n",
    "        dateFinished=\"2022-02-15\",\n",
    "        usedSoftware=[software_inst1]\n",
    "    )"
   ]
  },
  {
   "cell_type": "code",
   "execution_count": null,
   "metadata": {},
   "outputs": [],
   "source": [
    "test_computation.run_custom_container()"
   ]
  },
  {
   "cell_type": "code",
   "execution_count": null,
   "metadata": {},
   "outputs": [],
   "source": [
    "register_computation(test_computation.containerId)"
   ]
  }
 ],
 "metadata": {
  "kernelspec": {
   "display_name": "Python 3 (ipykernel)",
   "language": "python",
   "name": "python3"
  },
  "language_info": {
   "codemirror_mode": {
    "name": "ipython",
    "version": 3
   },
   "file_extension": ".py",
   "mimetype": "text/x-python",
   "name": "python",
   "nbconvert_exporter": "python",
   "pygments_lexer": "ipython3",
   "version": "3.10.4"
  },
  "vscode": {
   "interpreter": {
    "hash": "28b06ec166af8c83e5882731fef908354c2d57d9b46df793dcdb4efcedb4ca54"
   }
  }
 },
 "nbformat": 4,
 "nbformat_minor": 2
}
