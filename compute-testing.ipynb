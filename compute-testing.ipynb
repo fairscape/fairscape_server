{
 "cells": [
  {
   "cell_type": "code",
   "execution_count": 93,
   "metadata": {},
   "outputs": [],
   "source": [
    "import os\n",
    "import sys\n",
    "import json\n",
    "sys.path.insert(0, os.path.abspath('/home/max/uva/mds_python'))\n",
    "\n",
    "from mds.models import *\n",
    "from mds.models.compact.user import UserCompactView\n",
    "from mds.database.mongo import GetConfig\n",
    "from mds.database.minio import GetMinioConfig"
   ]
  },
  {
   "cell_type": "code",
   "execution_count": 94,
   "metadata": {},
   "outputs": [],
   "source": [
    "from mds.models.user import User\n",
    "from mds.models.dataset import Dataset\n",
    "from mds.models.download import Download\n",
    "from mds.models.software import Software\n",
    "from mds.models.computation import Computation"
   ]
  },
  {
   "cell_type": "code",
   "execution_count": 95,
   "metadata": {},
   "outputs": [],
   "source": [
    "mongo_client = GetConfig()\n",
    "mongo_database = mongo_client[\"test\"]\n",
    "mongo_collection = mongo_database[\"test_col\"]"
   ]
  },
  {
   "cell_type": "code",
   "execution_count": 96,
   "metadata": {},
   "outputs": [],
   "source": [
    "minio_client = GetMinioConfig()"
   ]
  },
  {
   "cell_type": "code",
   "execution_count": 97,
   "metadata": {},
   "outputs": [],
   "source": [
    "test_user = User(**{\n",
    "\t\t\"@id\": \"ark:99999/test-user1\",\n",
    "\t\t\"name\": \"Test User1\",\n",
    "\t\t\"type\": \"Person\",\n",
    "\t\t\"email\": \"testuser1@example.org\",\n",
    "\t\t\"password\": \"test1\",\n",
    "\t\t\"organizations\": [],\n",
    "\t\t\"projects\": [],\n",
    "\t\t\"datasets\": [],\n",
    "\t\t\"software\": [],\n",
    "\t\t\"computations\": [],\n",
    "\t\t\"evidencegraphs\": []\n",
    "\t\t})"
   ]
  },
  {
   "cell_type": "code",
   "execution_count": 98,
   "metadata": {},
   "outputs": [],
   "source": [
    "create_user_status = test_user.create(mongo_collection)"
   ]
  },
  {
   "cell_type": "code",
   "execution_count": 99,
   "metadata": {},
   "outputs": [
    {
     "name": "stdout",
     "output_type": "stream",
     "text": [
      "Success: True\tMessage: \tStatusCode: 200\n"
     ]
    }
   ],
   "source": [
    "print(create_user_status)"
   ]
  },
  {
   "cell_type": "code",
   "execution_count": 100,
   "metadata": {
    "scrolled": true
   },
   "outputs": [],
   "source": [
    "test_dataset = Dataset(**{\n",
    "\t\"@id\": \"ark:99999/test-dataset\",\n",
    "\t\"@type\": \"evi:Dataset\",\n",
    "\t\"name\": \"test dataset\",\n",
    "\t\"owner\": {\n",
    "\t\t\"@id\": \"ark:99999/test-user1\",\n",
    "\t\t\"@type\": \"Person\",\n",
    "\t\t\"name\": \"Test User1\",\n",
    "\t\t\"email\": \"testuser1@example.org\"\n",
    "\t\t}\n",
    "    })"
   ]
  },
  {
   "cell_type": "code",
   "execution_count": 101,
   "metadata": {},
   "outputs": [],
   "source": [
    "create_dataset = test_dataset.create(mongo_collection)"
   ]
  },
  {
   "cell_type": "code",
   "execution_count": 102,
   "metadata": {},
   "outputs": [
    {
     "name": "stdout",
     "output_type": "stream",
     "text": [
      "Success: True\tMessage: \tStatusCode: 201\n"
     ]
    }
   ],
   "source": [
    "print(str(create_dataset))"
   ]
  },
  {
   "cell_type": "code",
   "execution_count": 103,
   "metadata": {},
   "outputs": [
    {
     "data": {
      "text/plain": [
       "'ark:99999/test-dataset'"
      ]
     },
     "execution_count": 103,
     "metadata": {},
     "output_type": "execute_result"
    }
   ],
   "source": [
    "test_dataset.id"
   ]
  },
  {
   "cell_type": "code",
   "execution_count": 104,
   "metadata": {},
   "outputs": [],
   "source": [
    "test_data_download = Download(**{\n",
    "\t\"@id\": \"ark:99999/test-download\",\n",
    "\t\"name\": \"test-data.csv\",\n",
    "\t\"@type\": \"DataDownload\",\n",
    "\t\"encodingFormat\": \".txt\",\n",
    "\t\"encodesCreativeWork\": test_dataset.id,\n",
    "    })"
   ]
  },
  {
   "cell_type": "code",
   "execution_count": 105,
   "metadata": {},
   "outputs": [],
   "source": [
    "with open(\"tests/test-data.csv\", \"rb\") as file:\n",
    "    create_data_download = test_data_download.register(file, mongo_collection, minio_client)"
   ]
  },
  {
   "cell_type": "code",
   "execution_count": 106,
   "metadata": {
    "scrolled": true
   },
   "outputs": [
    {
     "data": {
      "text/plain": [
       "'Success: True\\tMessage: \\tStatusCode: 201'"
      ]
     },
     "execution_count": 106,
     "metadata": {},
     "output_type": "execute_result"
    }
   ],
   "source": [
    "str(create_data_download)"
   ]
  },
  {
   "cell_type": "code",
   "execution_count": 107,
   "metadata": {},
   "outputs": [],
   "source": [
    "# upload software\n",
    "test_software = Software(**{\n",
    "    \"@id\": \"ark:99999/test-software\",\n",
    "    \"name\": \"script1\",\n",
    "    \"@type\": \"Software\",\n",
    "    \"owner\": {\n",
    "\t\t\"@id\": \"ark:99999/test-user1\",\n",
    "\t\t\"@type\": \"Person\",\n",
    "\t\t\"name\": \"Test User1\",\n",
    "\t\t\"email\": \"testuser1@example.org\"\n",
    "\t\t}\n",
    "})\n",
    "\n",
    "create_software_metadata = test_software.create(mongo_collection)"
   ]
  },
  {
   "cell_type": "code",
   "execution_count": 108,
   "metadata": {},
   "outputs": [
    {
     "name": "stdout",
     "output_type": "stream",
     "text": [
      "Success: True\tMessage: \tStatusCode: 201\n"
     ]
    }
   ],
   "source": [
    "print(str(create_software_metadata))"
   ]
  },
  {
   "cell_type": "code",
   "execution_count": 109,
   "metadata": {},
   "outputs": [],
   "source": [
    "# upload script\n",
    "test_software_object = Download(**{\n",
    "    \"@id\": \"ark:99999/test-software-script\",\n",
    "    \"name\": \"test-script.py\",\n",
    "    \"@type\": \"DataDownload\",\n",
    "    \"owner\": {\n",
    "\t\t\"@id\": \"ark:99999/test-user1\",\n",
    "\t\t\"@type\": \"Person\",\n",
    "\t\t\"name\": \"Test User1\",\n",
    "\t\t\"email\": \"testuser1@example.org\"\n",
    "\t\t},\n",
    "    \"encodingFormat\": \".py\",\n",
    "    \"encodesCreativeWork\": test_software.id\n",
    "})"
   ]
  },
  {
   "cell_type": "code",
   "execution_count": 110,
   "metadata": {},
   "outputs": [
    {
     "name": "stdout",
     "output_type": "stream",
     "text": [
      "Success: True\tMessage: \tStatusCode: 201\n"
     ]
    }
   ],
   "source": [
    "with open(\"tests/test-script.py\", \"rb\") as file:\n",
    "    print(test_software_object.register(file, mongo_collection, minio_client))"
   ]
  },
  {
   "cell_type": "code",
   "execution_count": 111,
   "metadata": {},
   "outputs": [],
   "source": [
    "test_computation  =  Computation(**{\n",
    "        \"@id\": \"ark:99999/test-comp\",\n",
    "        \"name\":\"test computation\",\n",
    "        \"owner\": {\n",
    "        \"@id\": \"ark:99999/test-user1\",\n",
    "        \"@type\": \"Person\",\n",
    "        \"name\": \"Test User1\",\n",
    "        \"email\": \"testuser1@example.org\"\n",
    "        },\n",
    "        \"container\": \"python3\",\n",
    "        \"usedSoftware\":test_software.id ,\n",
    "        \"usedDataset\": test_dataset.id\n",
    "})"
   ]
  },
  {
   "cell_type": "code",
   "execution_count": 112,
   "metadata": {},
   "outputs": [
    {
     "name": "stdout",
     "output_type": "stream",
     "text": [
      "{\"@id\": \"ark:99999/test-comp\", \"@type\": \"evi:Computation\", \"name\": \"test computation\", \"owner\": {\"@id\": \"ark:99999/test-user1\", \"@type\": \"Person\", \"name\": \"Test User1\", \"email\": \"testuser1@example.org\"}, \"dateCreated\": null, \"dateFinished\": null, \"associatedWith\": [], \"container\": \"python3\", \"usedSoftware\": \"ark:99999/test-software\", \"usedDataset\": \"ark:99999/test-dataset\", \"containerId\": null, \"@context\": {\"@vocab\": \"https://schema.org/\", \"evi\": \"https://w3id.org/EVI#\"}}\n"
     ]
    }
   ],
   "source": [
    "print(test_computation.json(by_alias=True))"
   ]
  },
  {
   "cell_type": "code",
   "execution_count": 113,
   "metadata": {},
   "outputs": [
    {
     "name": "stdout",
     "output_type": "stream",
     "text": [
      "Success: True\tMessage: \tStatusCode: 201\n"
     ]
    }
   ],
   "source": [
    "print(test_computation.create(mongo_collection))"
   ]
  },
  {
   "cell_type": "markdown",
   "metadata": {},
   "source": [
    "## Testing Run Custom Container Code"
   ]
  },
  {
   "cell_type": "code",
   "execution_count": 114,
   "metadata": {},
   "outputs": [],
   "source": [
    "import datetime\n",
    "import pathlib"
   ]
  },
  {
   "cell_type": "code",
   "execution_count": 121,
   "metadata": {},
   "outputs": [],
   "source": [
    "date_created = datetime.datetime.now()\n",
    "script_id = test_computation.usedSoftware\n",
    "dataset_id = test_computation.usedDataset"
   ]
  },
  {
   "cell_type": "code",
   "execution_count": 122,
   "metadata": {},
   "outputs": [],
   "source": [
    "# find the locations of all the files\n",
    "found_dataset = Dataset.construct(id=dataset_id)\n",
    "read_dataset = found_dataset.read(mongo_collection)"
   ]
  },
  {
   "cell_type": "code",
   "execution_count": 123,
   "metadata": {},
   "outputs": [
    {
     "data": {
      "text/plain": [
       "'{\"id\": \"ark:99999/test-dataset\", \"type\": \"evi:Dataset\", \"distribution\": [{\"id\": \"ark:99999/test-download\", \"type\": \"DataDownload\", \"name\": \"test-data.csv\", \"contentUrl\": \"test dataset/test-data.csv\"}], \"context\": {\"@vocab\": \"https://schema.org/\", \"evi\": \"https://w3id.org/EVI#\"}, \"@id\": \"ark:99999/test-dataset\", \"@type\": \"evi:Dataset\", \"name\": \"test dataset\", \"owner\": {\"id\": \"ark:99999/test-user1\", \"type\": \"Person\", \"name\": \"Test User1\", \"email\": \"testuser1@example.org\"}, \"@context\": {\"@vocab\": \"https://schema.org/\", \"evi\": \"https://w3id.org/EVI#\"}}'"
      ]
     },
     "execution_count": 123,
     "metadata": {},
     "output_type": "execute_result"
    }
   ],
   "source": [
    "found_dataset.json()"
   ]
  },
  {
   "cell_type": "code",
   "execution_count": 45,
   "metadata": {},
   "outputs": [
    {
     "name": "stdout",
     "output_type": "stream",
     "text": [
      "Success: True\tMessage: \tStatusCode: 200\n"
     ]
    }
   ],
   "source": [
    "print(read_dataset)"
   ]
  },
  {
   "cell_type": "code",
   "execution_count": 126,
   "metadata": {},
   "outputs": [],
   "source": [
    "dataset_files = []\n",
    "dataset_files.append(found_dataset.distribution[0].contentUrl)"
   ]
  },
  {
   "cell_type": "code",
   "execution_count": 127,
   "metadata": {},
   "outputs": [
    {
     "name": "stdout",
     "output_type": "stream",
     "text": [
      "Success: True\tMessage: \tStatusCode: 200\n"
     ]
    }
   ],
   "source": [
    "software = Software.construct(id=script_id)\n",
    "print(software.read(mongo_collection))"
   ]
  },
  {
   "cell_type": "code",
   "execution_count": 128,
   "metadata": {},
   "outputs": [
    {
     "data": {
      "text/plain": [
       "'{\"id\": \"ark:99999/test-software\", \"type\": \"evi:Software\", \"distribution\": [{\"id\": \"ark:99999/test-software-script\", \"type\": \"DataDownload\", \"name\": \"test-script.py\", \"contentUrl\": \"script1/test-script.py\"}], \"usedBy\": [], \"context\": {\"@vocab\": \"https://schema.org/\", \"evi\": \"https://w3id.org/EVI#\"}, \"@id\": \"ark:99999/test-software\", \"@type\": \"Software\", \"name\": \"script1\", \"owner\": {\"id\": \"ark:99999/test-user1\", \"type\": \"Person\", \"name\": \"Test User1\", \"email\": \"testuser1@example.org\"}, \"evi:usedBy\": []}'"
      ]
     },
     "execution_count": 128,
     "metadata": {},
     "output_type": "execute_result"
    }
   ],
   "source": [
    "software.json()"
   ]
  },
  {
   "cell_type": "code",
   "execution_count": 129,
   "metadata": {},
   "outputs": [],
   "source": [
    "script_file = software.distribution[0].contentUrl"
   ]
  },
  {
   "cell_type": "code",
   "execution_count": 130,
   "metadata": {},
   "outputs": [
    {
     "data": {
      "text/plain": [
       "'script1/test-script.py'"
      ]
     },
     "execution_count": 130,
     "metadata": {},
     "output_type": "execute_result"
    }
   ],
   "source": [
    "script_file"
   ]
  },
  {
   "cell_type": "code",
   "execution_count": 131,
   "metadata": {},
   "outputs": [
    {
     "data": {
      "text/plain": [
       "'ark:99999/test-comp'"
      ]
     },
     "execution_count": 131,
     "metadata": {},
     "output_type": "execute_result"
    }
   ],
   "source": [
    "# create a job-id string\n",
    "test_computation.id"
   ]
  },
  {
   "cell_type": "code",
   "execution_count": 132,
   "metadata": {},
   "outputs": [],
   "source": [
    "# create a temporary landing folder for the output\n",
    "temp = pathlib.Path(f\"/tmp/{test_computation.id}\")"
   ]
  },
  {
   "cell_type": "code",
   "execution_count": 134,
   "metadata": {},
   "outputs": [],
   "source": [
    "# temp.mkdir(parents=True)"
   ]
  },
  {
   "cell_type": "code",
   "execution_count": 135,
   "metadata": {},
   "outputs": [],
   "source": [
    "input_directory  = temp / \"input\"\n",
    "software_directory = input_directory / \"software\"\n",
    "data_directory = input_directory / \"data\"\n",
    "output_directory = temp / \"output\"\n",
    "\n",
    "software_directory.mkdir(parents=True)\n",
    "data_directory.mkdir(parents=True)\n",
    "output_directory.mkdir(parents=True)\n",
    "\n",
    "#pathlib.Path(\"input\")"
   ]
  },
  {
   "cell_type": "code",
   "execution_count": 136,
   "metadata": {},
   "outputs": [
    {
     "data": {
      "text/plain": [
       "'test-script.py'"
      ]
     },
     "execution_count": 136,
     "metadata": {},
     "output_type": "execute_result"
    }
   ],
   "source": [
    "pathlib.Path(script_file).name"
   ]
  },
  {
   "cell_type": "code",
   "execution_count": 137,
   "metadata": {},
   "outputs": [
    {
     "data": {
      "text/plain": [
       "<minio.datatypes.Object at 0x7f5429faf640>"
      ]
     },
     "execution_count": 137,
     "metadata": {},
     "output_type": "execute_result"
    }
   ],
   "source": [
    "# load software into software folder\n",
    "script_filename = software_directory / pathlib.Path(script_file).name\n",
    "\n",
    "minio_client.fget_object(\n",
    "\"test\", script_file, str(script_filename)\n",
    ")"
   ]
  },
  {
   "cell_type": "code",
   "execution_count": 138,
   "metadata": {},
   "outputs": [
    {
     "data": {
      "text/plain": [
       "[PosixPath('/tmp/ark:99999/test-comp/input/software/test-script.py')]"
      ]
     },
     "execution_count": 138,
     "metadata": {},
     "output_type": "execute_result"
    }
   ],
   "source": [
    "# check that file was downloaded correctly\n",
    "list(software_directory.glob(\"*\"))"
   ]
  },
  {
   "cell_type": "code",
   "execution_count": 139,
   "metadata": {},
   "outputs": [],
   "source": [
    "for dataset in dataset_files:\n",
    "    dataset_filename = data_directory / pathlib.Path(dataset).name\n",
    "    minio_client.fget_object(\n",
    "        \"test\", dataset, str(dataset_filename)\n",
    "    )"
   ]
  },
  {
   "cell_type": "code",
   "execution_count": 140,
   "metadata": {},
   "outputs": [
    {
     "data": {
      "text/plain": [
       "[PosixPath('/tmp/ark:99999/test-comp/input/data/test-data.csv')]"
      ]
     },
     "execution_count": 140,
     "metadata": {},
     "output_type": "execute_result"
    }
   ],
   "source": [
    "list(data_directory.glob(\"*\"))"
   ]
  },
  {
   "cell_type": "markdown",
   "metadata": {},
   "source": [
    "### Execute Custom Container by mounting the temporary directory\n"
   ]
  },
  {
   "cell_type": "code",
   "execution_count": null,
   "metadata": {},
   "outputs": [],
   "source": []
  },
  {
   "cell_type": "code",
   "execution_count": 86,
   "metadata": {},
   "outputs": [],
   "source": [
    "# reset files\n",
    "\n",
    "# remove all files\n",
    "for dataset in data_directory.glob(\"*\"):\n",
    "    dataset.unlink()\n",
    "    \n",
    "for software in software_directory.glob(\"*\"):\n",
    "    software.unlink()\n",
    "    \n",
    "for output in output_directory.glob(\"*\"):\n",
    "    output.unlink()\n",
    "    \n",
    "# remove all folders\n",
    "data_directory.rmdir()\n",
    "software_directory.rmdir()\n",
    "output_directory.rmdir()\n",
    "\n",
    "# remove parent folder\n",
    "input_directory.rmdir()"
   ]
  },
  {
   "cell_type": "code",
   "execution_count": 89,
   "metadata": {},
   "outputs": [],
   "source": []
  },
  {
   "cell_type": "code",
   "execution_count": 90,
   "metadata": {},
   "outputs": [],
   "source": []
  },
  {
   "cell_type": "code",
   "execution_count": null,
   "metadata": {},
   "outputs": [],
   "source": [
    "# execute custom container"
   ]
  },
  {
   "cell_type": "code",
   "execution_count": null,
   "metadata": {},
   "outputs": [],
   "source": [
    "test_computation.run_custom_container()"
   ]
  },
  {
   "cell_type": "code",
   "execution_count": null,
   "metadata": {},
   "outputs": [],
   "source": [
    "register_computation(test_computation.containerId)"
   ]
  }
 ],
 "metadata": {
  "kernelspec": {
   "display_name": "Python 3 (ipykernel)",
   "language": "python",
   "name": "python3"
  },
  "language_info": {
   "codemirror_mode": {
    "name": "ipython",
    "version": 3
   },
   "file_extension": ".py",
   "mimetype": "text/x-python",
   "name": "python",
   "nbconvert_exporter": "python",
   "pygments_lexer": "ipython3",
   "version": "3.10.4"
  },
  "vscode": {
   "interpreter": {
    "hash": "28b06ec166af8c83e5882731fef908354c2d57d9b46df793dcdb4efcedb4ca54"
   }
  }
 },
 "nbformat": 4,
 "nbformat_minor": 2
}
