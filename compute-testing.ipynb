{
 "cells": [
  {
   "cell_type": "code",
   "execution_count": 1,
   "metadata": {},
   "outputs": [],
   "source": [
    "import os\n",
    "import sys\n",
    "\n",
    "sys.path.insert(0, os.path.abspath('/home/max/uva/mds_python'))\n",
    "\n",
    "from mds.models import *\n",
    "from mds.models.compact.user import UserCompactView\n",
    "from mds.database.mongo import GetConfig\n",
    "from mds.database.minio import GetMinioConfig"
   ]
  },
  {
   "cell_type": "code",
   "execution_count": 2,
   "metadata": {},
   "outputs": [],
   "source": [
    "from mds.models.user import User\n",
    "from mds.models.dataset import Dataset\n",
    "from mds.models.download import Download\n",
    "from mds.models.software import Software\n",
    "from mds.models.computation import Computation"
   ]
  },
  {
   "cell_type": "code",
   "execution_count": 3,
   "metadata": {},
   "outputs": [],
   "source": [
    "mongo_client = GetConfig()\n",
    "mongo_database = mongo_client[\"test\"]\n",
    "mongo_collection = mongo_database[\"test_col\"]"
   ]
  },
  {
   "cell_type": "code",
   "execution_count": 4,
   "metadata": {},
   "outputs": [],
   "source": [
    "minio_client = GetMinioConfig()"
   ]
  },
  {
   "cell_type": "code",
   "execution_count": 5,
   "metadata": {},
   "outputs": [],
   "source": [
    "test_user = User(**{\n",
    "\t\t\"@id\": \"ark:99999/test-user1\",\n",
    "\t\t\"name\": \"Test User1\",\n",
    "\t\t\"type\": \"Person\",\n",
    "\t\t\"email\": \"testuser1@example.org\",\n",
    "\t\t\"password\": \"test1\",\n",
    "\t\t\"organizations\": [],\n",
    "\t\t\"projects\": [],\n",
    "\t\t\"datasets\": [],\n",
    "\t\t\"software\": [],\n",
    "\t\t\"computations\": [],\n",
    "\t\t\"evidencegraphs\": []\n",
    "\t\t})"
   ]
  },
  {
   "cell_type": "code",
   "execution_count": 6,
   "metadata": {},
   "outputs": [],
   "source": [
    "create_user_status = test_user.create(mongo_collection)"
   ]
  },
  {
   "cell_type": "code",
   "execution_count": 8,
   "metadata": {},
   "outputs": [
    {
     "name": "stdout",
     "output_type": "stream",
     "text": [
      "Success: True\tMessage: \tStatusCode: 200\n"
     ]
    }
   ],
   "source": [
    "print(create_user_status)"
   ]
  },
  {
   "cell_type": "code",
   "execution_count": 9,
   "metadata": {
    "scrolled": true
   },
   "outputs": [],
   "source": [
    "test_dataset = Dataset(**{\n",
    "\t\"@id\": \"ark:99999/test-dataset\",\n",
    "\t\"@type\": \"evi:Dataset\",\n",
    "\t\"name\": \"test dataset\",\n",
    "\t\"owner\": {\n",
    "\t\t\"@id\": \"ark:99999/test-user1\",\n",
    "\t\t\"@type\": \"Person\",\n",
    "\t\t\"name\": \"Test User1\",\n",
    "\t\t\"email\": \"testuser1@example.org\"\n",
    "\t\t}\n",
    "    })"
   ]
  },
  {
   "cell_type": "code",
   "execution_count": 10,
   "metadata": {},
   "outputs": [],
   "source": [
    "create_dataset = test_dataset.create(mongo_collection)"
   ]
  },
  {
   "cell_type": "code",
   "execution_count": 11,
   "metadata": {},
   "outputs": [
    {
     "name": "stdout",
     "output_type": "stream",
     "text": [
      "Success: True\tMessage: \tStatusCode: 201\n"
     ]
    }
   ],
   "source": [
    "print(str(create_dataset))"
   ]
  },
  {
   "cell_type": "code",
   "execution_count": 11,
   "metadata": {},
   "outputs": [
    {
     "data": {
      "text/plain": [
       "'ark:99999/test-dataset'"
      ]
     },
     "execution_count": 11,
     "metadata": {},
     "output_type": "execute_result"
    }
   ],
   "source": [
    "test_dataset.id"
   ]
  },
  {
   "cell_type": "code",
   "execution_count": 12,
   "metadata": {},
   "outputs": [],
   "source": [
    "test_data_download = Download(**{\n",
    "\t\"@id\": \"ark:99999/test-download\",\n",
    "\t\"name\": \"test-data.csv\",\n",
    "\t\"@type\": \"DataDownload\",\n",
    "\t\"encodingFormat\": \".txt\",\n",
    "\t\"encodesCreativeWork\": test_dataset.id,\n",
    "    })"
   ]
  },
  {
   "cell_type": "code",
   "execution_count": 13,
   "metadata": {},
   "outputs": [],
   "source": [
    "with open(\"tests/test-data.csv\", \"rb\") as file:\n",
    "    create_data_download = test_data_download.register(file, mongo_collection, minio_client)"
   ]
  },
  {
   "cell_type": "code",
   "execution_count": 14,
   "metadata": {
    "scrolled": true
   },
   "outputs": [
    {
     "data": {
      "text/plain": [
       "'Success: True\\tMessage: \\tStatusCode: 201'"
      ]
     },
     "execution_count": 14,
     "metadata": {},
     "output_type": "execute_result"
    }
   ],
   "source": [
    "str(create_data_download)"
   ]
  },
  {
   "cell_type": "code",
   "execution_count": 15,
   "metadata": {},
   "outputs": [],
   "source": [
    "# upload software\n",
    "test_software = Software(**{\n",
    "    \"@id\": \"ark:99999/test-software\",\n",
    "    \"name\": \"script1\",\n",
    "    \"@type\": \"Software\",\n",
    "    \"owner\": {\n",
    "\t\t\"@id\": \"ark:99999/test-user1\",\n",
    "\t\t\"@type\": \"Person\",\n",
    "\t\t\"name\": \"Test User1\",\n",
    "\t\t\"email\": \"testuser1@example.org\"\n",
    "\t\t}\n",
    "})\n",
    "\n",
    "create_software_metadata = test_software.create(mongo_collection)"
   ]
  },
  {
   "cell_type": "code",
   "execution_count": 16,
   "metadata": {},
   "outputs": [
    {
     "name": "stdout",
     "output_type": "stream",
     "text": [
      "Success: True\tMessage: \tStatusCode: 201\n"
     ]
    }
   ],
   "source": [
    "print(str(create_software_metadata))"
   ]
  },
  {
   "cell_type": "code",
   "execution_count": 17,
   "metadata": {},
   "outputs": [],
   "source": [
    "# upload script\n",
    "test_software_object = Download(**{\n",
    "    \"@id\": \"ark:99999/test-software-script\",\n",
    "    \"name\": \"test-script.py\",\n",
    "    \"@type\": \"DataDownload\",\n",
    "    \"owner\": {\n",
    "\t\t\"@id\": \"ark:99999/test-user1\",\n",
    "\t\t\"@type\": \"Person\",\n",
    "\t\t\"name\": \"Test User1\",\n",
    "\t\t\"email\": \"testuser1@example.org\"\n",
    "\t\t},\n",
    "    \"encodingFormat\": \".py\",\n",
    "    \"encodesCreativeWork\": test_software.id\n",
    "})"
   ]
  },
  {
   "cell_type": "code",
   "execution_count": 18,
   "metadata": {},
   "outputs": [
    {
     "name": "stdout",
     "output_type": "stream",
     "text": [
      "Success: True\tMessage: \tStatusCode: 201\n"
     ]
    }
   ],
   "source": [
    "with open(\"tests/test-script.py\", \"rb\") as file:\n",
    "    print(test_software_object.register(file, mongo_collection, minio_client))"
   ]
  },
  {
   "cell_type": "code",
   "execution_count": 22,
   "metadata": {},
   "outputs": [],
   "source": [
    "test_computation  =  Computation(**{\n",
    "        \"@id\": \"ark:99999/test-comp\",\n",
    "        \"name\":\"test computation\",\n",
    "        \"owner\": {\n",
    "        \"@id\": \"ark:99999/test-user1\",\n",
    "        \"@type\": \"Person\",\n",
    "        \"name\": \"Test User1\",\n",
    "        \"email\": \"testuser1@example.org\"\n",
    "        },\n",
    "        \"container\": \"python3\",\n",
    "        \"usedSoftware\":test_software.id ,\n",
    "        \"usedDataset\": test_dataset.id\n",
    "})"
   ]
  },
  {
   "cell_type": "code",
   "execution_count": 24,
   "metadata": {},
   "outputs": [
    {
     "data": {
      "text/plain": [
       "'{\"@id\": \"ark:99999/test-comp\", \"@type\": \"evi:Computation\", \"name\": \"test computation\", \"owner\": {\"@id\": \"ark:99999/test-user1\", \"@type\": \"Person\", \"name\": \"Test User1\", \"email\": \"testuser1@example.org\"}, \"dateCreated\": null, \"dateFinished\": null, \"associatedWith\": [], \"container\": \"python3\", \"usedSoftware\": \"ark:99999/test-software\", \"usedDataset\": \"ark:99999/test-dataset\", \"containerId\": null, \"@context\": {\"@vocab\": \"https://schema.org/\", \"evi\": \"https://w3id.org/EVI#\"}}'"
      ]
     },
     "execution_count": 24,
     "metadata": {},
     "output_type": "execute_result"
    }
   ],
   "source": [
    "test_computation.json(by_alias=True)"
   ]
  },
  {
   "cell_type": "code",
   "execution_count": 20,
   "metadata": {},
   "outputs": [
    {
     "name": "stdout",
     "output_type": "stream",
     "text": [
      "Success: True\tMessage: \tStatusCode: 201\n"
     ]
    }
   ],
   "source": [
    "print(test_computation.create(mongo_collection))"
   ]
  },
  {
   "cell_type": "code",
   "execution_count": null,
   "metadata": {},
   "outputs": [],
   "source": [
    "test_computation.run_custom_container()"
   ]
  },
  {
   "cell_type": "code",
   "execution_count": null,
   "metadata": {},
   "outputs": [],
   "source": [
    "register_computation(test_computation.containerId)"
   ]
  }
 ],
 "metadata": {
  "kernelspec": {
   "display_name": "Python 3 (ipykernel)",
   "language": "python",
   "name": "python3"
  },
  "language_info": {
   "codemirror_mode": {
    "name": "ipython",
    "version": 3
   },
   "file_extension": ".py",
   "mimetype": "text/x-python",
   "name": "python",
   "nbconvert_exporter": "python",
   "pygments_lexer": "ipython3",
   "version": "3.10.4"
  },
  "vscode": {
   "interpreter": {
    "hash": "28b06ec166af8c83e5882731fef908354c2d57d9b46df793dcdb4efcedb4ca54"
   }
  }
 },
 "nbformat": 4,
 "nbformat_minor": 2
}
