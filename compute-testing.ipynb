{
 "cells": [
  {
   "cell_type": "code",
   "execution_count": 36,
   "metadata": {},
   "outputs": [],
   "source": [
    "import os\n",
    "import sys\n",
    "import json\n",
    "sys.path.insert(0, os.path.abspath('/home/max/uva/mds_python'))\n",
    "\n",
    "from mds.models import *\n",
    "from mds.models.compact.user import UserCompactView\n",
    "from mds.database.mongo import GetConfig\n",
    "from mds.database.minio import GetMinioConfig"
   ]
  },
  {
   "cell_type": "code",
   "execution_count": 37,
   "metadata": {
    "scrolled": true
   },
   "outputs": [],
   "source": [
    "from mds.models.user import User\n",
    "from mds.models.dataset import Dataset\n",
    "from mds.models.download import Download\n",
    "from mds.models.software import Software\n",
    "from mds.models.computation import Computation"
   ]
  },
  {
   "cell_type": "code",
   "execution_count": 38,
   "metadata": {},
   "outputs": [],
   "source": [
    "mongo_client = GetConfig()\n",
    "mongo_database = mongo_client[\"test\"]\n",
    "mongo_collection = mongo_database[\"test_col\"]"
   ]
  },
  {
   "cell_type": "code",
   "execution_count": 39,
   "metadata": {},
   "outputs": [],
   "source": [
    "minio_client = GetMinioConfig()"
   ]
  },
  {
   "cell_type": "code",
   "execution_count": 40,
   "metadata": {},
   "outputs": [],
   "source": [
    "test_user = User(**{\n",
    "\t\t\"@id\": \"ark:99999/test-user1\",\n",
    "\t\t\"name\": \"Test User1\",\n",
    "\t\t\"type\": \"Person\",\n",
    "\t\t\"email\": \"testuser1@example.org\",\n",
    "\t\t\"password\": \"test1\",\n",
    "\t\t\"organizations\": [],\n",
    "\t\t\"projects\": [],\n",
    "\t\t\"datasets\": [],\n",
    "\t\t\"software\": [],\n",
    "\t\t\"computations\": [],\n",
    "\t\t\"evidencegraphs\": []\n",
    "\t\t})\n",
    "\n",
    "test_dataset = Dataset(**{\n",
    "\t\"@id\": \"ark:99999/test-dataset\",\n",
    "\t\"@type\": \"evi:Dataset\",\n",
    "\t\"name\": \"test dataset\",\n",
    "\t\"owner\": {\n",
    "\t\t\"@id\": \"ark:99999/test-user1\",\n",
    "\t\t\"@type\": \"Person\",\n",
    "\t\t\"name\": \"Test User1\",\n",
    "\t\t\"email\": \"testuser1@example.org\"\n",
    "\t\t}\n",
    "    })\n",
    "\n",
    "test_data_download = Download(**{\n",
    "\t\"@id\": \"ark:99999/test-download\",\n",
    "\t\"name\": \"test-data.csv\",\n",
    "\t\"@type\": \"DataDownload\",\n",
    "\t\"encodingFormat\": \".txt\",\n",
    "\t\"encodesCreativeWork\": test_dataset.id,\n",
    "    })\n",
    "\n",
    "test_software = Software(**{\n",
    "    \"@id\": \"ark:99999/test-software\",\n",
    "    \"name\": \"script1\",\n",
    "    \"@type\": \"Software\",\n",
    "    \"owner\": {\n",
    "\t\t\"@id\": \"ark:99999/test-user1\",\n",
    "\t\t\"@type\": \"Person\",\n",
    "\t\t\"name\": \"Test User1\",\n",
    "\t\t\"email\": \"testuser1@example.org\"\n",
    "\t\t}\n",
    "})\n",
    "\n",
    "test_software_object = Download(**{\n",
    "    \"@id\": \"ark:99999/test-software-script\",\n",
    "    \"name\": \"test-script.py\",\n",
    "    \"@type\": \"DataDownload\",\n",
    "    \"owner\": {\n",
    "\t\t\"@id\": \"ark:99999/test-user1\",\n",
    "\t\t\"@type\": \"Person\",\n",
    "\t\t\"name\": \"Test User1\",\n",
    "\t\t\"email\": \"testuser1@example.org\"\n",
    "\t\t},\n",
    "    \"encodingFormat\": \".py\",\n",
    "    \"encodesCreativeWork\": test_software.id\n",
    "})\n",
    "\n",
    "test_computation  =  Computation(**{\n",
    "        \"@id\": \"ark:99999/test-comp\",\n",
    "        \"name\":\"test computation\",\n",
    "        \"owner\": {\n",
    "        \"@id\": \"ark:99999/test-user1\",\n",
    "        \"@type\": \"Person\",\n",
    "        \"name\": \"Test User1\",\n",
    "        \"email\": \"testuser1@example.org\"\n",
    "        },\n",
    "        \"container\": \"fairscape-python-test\",\n",
    "        \"command\": \"python3 /mnt/input/software/test-script.py\",\n",
    "        \"usedSoftware\":test_software.id ,\n",
    "        \"usedDataset\": test_dataset.id\n",
    "})"
   ]
  },
  {
   "cell_type": "code",
   "execution_count": 41,
   "metadata": {},
   "outputs": [],
   "source": [
    "def create_all():\n",
    "    create_user_status = test_user.create(mongo_collection)\n",
    "    print(create_user_status)\n",
    "    create_dataset = test_dataset.create(mongo_collection)\n",
    "    print(create_dataset)\n",
    "    \n",
    "    with open(\"tests/test-data.csv\", \"rb\") as file:\n",
    "        create_data_download = test_data_download.register(file, mongo_collection, minio_client)\n",
    "        print(create_data_download)\n",
    "    \n",
    "    create_software_metadata = test_software.create(mongo_collection)\n",
    "    print(create_software_metadata)\n",
    "    \n",
    "    with open(\"tests/test-script.py\", \"rb\") as file:\n",
    "        print(test_software_object.register(file, mongo_collection, minio_client))"
   ]
  },
  {
   "cell_type": "code",
   "execution_count": 42,
   "metadata": {},
   "outputs": [
    {
     "name": "stdout",
     "output_type": "stream",
     "text": [
      "Success: True\tMessage: \tStatusCode: 200\n",
      "Success: True\tMessage: \tStatusCode: 201\n",
      "Success: True\tMessage: \tStatusCode: 201\n",
      "Success: True\tMessage: \tStatusCode: 201\n",
      "Success: True\tMessage: \tStatusCode: 201\n"
     ]
    }
   ],
   "source": [
    "create_all()"
   ]
  },
  {
   "cell_type": "code",
   "execution_count": null,
   "metadata": {},
   "outputs": [],
   "source": [
    "def clear_all():\n",
    "    test_software_object.delete()\n",
    "    test_software.delete()\n",
    "    test_data_download.delete()\n",
    "    test_dataset.delete()\n",
    "    test_user.delete()\n",
    "    \n",
    "    "
   ]
  },
  {
   "cell_type": "code",
   "execution_count": 12,
   "metadata": {},
   "outputs": [
    {
     "name": "stdout",
     "output_type": "stream",
     "text": [
      "Success: False\tMessage: document already exists\tStatusCode: 400\n",
      "Success: False\tMessage: dataset already exists\tStatusCode: 400\n",
      "Success: False\tMessage: dataDownload ark:99999/test-download already exists\tStatusCode: 404\n",
      "Success: False\tMessage: software already exists\tStatusCode: 400\n",
      "Success: False\tMessage: dataDownload ark:99999/test-software-script already exists\tStatusCode: 404\n"
     ]
    }
   ],
   "source": [
    "create_all()"
   ]
  },
  {
   "cell_type": "markdown",
   "metadata": {},
   "source": [
    "## Testing Run Custom Container Code"
   ]
  },
  {
   "cell_type": "code",
   "execution_count": 57,
   "metadata": {},
   "outputs": [],
   "source": [
    "import docker\n",
    "import datetime\n",
    "import pathlib"
   ]
  },
  {
   "cell_type": "code",
   "execution_count": 58,
   "metadata": {},
   "outputs": [],
   "source": [
    "date_created = datetime.datetime.now()\n",
    "script_id = test_computation.usedSoftware\n",
    "dataset_id = test_computation.usedDataset"
   ]
  },
  {
   "cell_type": "code",
   "execution_count": 59,
   "metadata": {},
   "outputs": [
    {
     "name": "stdout",
     "output_type": "stream",
     "text": [
      "Success: True\tMessage: \tStatusCode: 200\n"
     ]
    }
   ],
   "source": [
    "# find the locations of all the files\n",
    "found_dataset = Dataset.construct(id=dataset_id)\n",
    "read_dataset = found_dataset.read(mongo_collection)\n",
    "print(read_dataset)"
   ]
  },
  {
   "cell_type": "code",
   "execution_count": 60,
   "metadata": {},
   "outputs": [],
   "source": [
    "dataset_files = []\n",
    "dataset_files.append(found_dataset.distribution[0].contentUrl)"
   ]
  },
  {
   "cell_type": "code",
   "execution_count": 61,
   "metadata": {},
   "outputs": [
    {
     "name": "stdout",
     "output_type": "stream",
     "text": [
      "Success: True\tMessage: \tStatusCode: 200\n"
     ]
    }
   ],
   "source": [
    "software = Software.construct(id=script_id)\n",
    "print(software.read(mongo_collection))"
   ]
  },
  {
   "cell_type": "code",
   "execution_count": 49,
   "metadata": {},
   "outputs": [
    {
     "data": {
      "text/plain": [
       "'{\"id\": \"ark:99999/test-software\", \"type\": \"evi:Software\", \"distribution\": [{\"id\": \"ark:99999/test-software-script\", \"type\": \"DataDownload\", \"name\": \"test-script.py\", \"contentUrl\": \"script1/test-script.py\"}], \"usedBy\": [], \"context\": {\"@vocab\": \"https://schema.org/\", \"evi\": \"https://w3id.org/EVI#\"}, \"@id\": \"ark:99999/test-software\", \"@type\": \"Software\", \"name\": \"script1\", \"owner\": {\"id\": \"ark:99999/test-user1\", \"type\": \"Person\", \"name\": \"Test User1\", \"email\": \"testuser1@example.org\"}, \"evi:usedBy\": []}'"
      ]
     },
     "execution_count": 49,
     "metadata": {},
     "output_type": "execute_result"
    }
   ],
   "source": [
    "software.json()"
   ]
  },
  {
   "cell_type": "code",
   "execution_count": 65,
   "metadata": {
    "collapsed": true
   },
   "outputs": [
    {
     "ename": "FileExistsError",
     "evalue": "[Errno 17] File exists: '/tmp/test-computation/input/software'",
     "output_type": "error",
     "traceback": [
      "\u001b[0;31m---------------------------------------------------------------------------\u001b[0m",
      "\u001b[0;31mFileExistsError\u001b[0m                           Traceback (most recent call last)",
      "Input \u001b[0;32mIn [65]\u001b[0m, in \u001b[0;36m<cell line: 9>\u001b[0;34m()\u001b[0m\n\u001b[1;32m      6\u001b[0m data_directory \u001b[38;5;241m=\u001b[39m input_directory \u001b[38;5;241m/\u001b[39m \u001b[38;5;124m\"\u001b[39m\u001b[38;5;124mdata\u001b[39m\u001b[38;5;124m\"\u001b[39m\n\u001b[1;32m      7\u001b[0m output_directory \u001b[38;5;241m=\u001b[39m job_path \u001b[38;5;241m/\u001b[39m \u001b[38;5;124m\"\u001b[39m\u001b[38;5;124moutput\u001b[39m\u001b[38;5;124m\"\u001b[39m\n\u001b[0;32m----> 9\u001b[0m \u001b[43msoftware_directory\u001b[49m\u001b[38;5;241;43m.\u001b[39;49m\u001b[43mmkdir\u001b[49m\u001b[43m(\u001b[49m\u001b[43mparents\u001b[49m\u001b[38;5;241;43m=\u001b[39;49m\u001b[38;5;28;43;01mTrue\u001b[39;49;00m\u001b[43m)\u001b[49m\n\u001b[1;32m     10\u001b[0m data_directory\u001b[38;5;241m.\u001b[39mmkdir(parents\u001b[38;5;241m=\u001b[39m\u001b[38;5;28;01mTrue\u001b[39;00m)\n\u001b[1;32m     11\u001b[0m output_directory\u001b[38;5;241m.\u001b[39mmkdir(parents\u001b[38;5;241m=\u001b[39m\u001b[38;5;28;01mTrue\u001b[39;00m)\n",
      "File \u001b[0;32m/usr/lib/python3.10/pathlib.py:1173\u001b[0m, in \u001b[0;36mPath.mkdir\u001b[0;34m(self, mode, parents, exist_ok)\u001b[0m\n\u001b[1;32m   1169\u001b[0m \u001b[38;5;124;03m\"\"\"\u001b[39;00m\n\u001b[1;32m   1170\u001b[0m \u001b[38;5;124;03mCreate a new directory at this given path.\u001b[39;00m\n\u001b[1;32m   1171\u001b[0m \u001b[38;5;124;03m\"\"\"\u001b[39;00m\n\u001b[1;32m   1172\u001b[0m \u001b[38;5;28;01mtry\u001b[39;00m:\n\u001b[0;32m-> 1173\u001b[0m     \u001b[38;5;28;43mself\u001b[39;49m\u001b[38;5;241;43m.\u001b[39;49m\u001b[43m_accessor\u001b[49m\u001b[38;5;241;43m.\u001b[39;49m\u001b[43mmkdir\u001b[49m\u001b[43m(\u001b[49m\u001b[38;5;28;43mself\u001b[39;49m\u001b[43m,\u001b[49m\u001b[43m \u001b[49m\u001b[43mmode\u001b[49m\u001b[43m)\u001b[49m\n\u001b[1;32m   1174\u001b[0m \u001b[38;5;28;01mexcept\u001b[39;00m \u001b[38;5;167;01mFileNotFoundError\u001b[39;00m:\n\u001b[1;32m   1175\u001b[0m     \u001b[38;5;28;01mif\u001b[39;00m \u001b[38;5;129;01mnot\u001b[39;00m parents \u001b[38;5;129;01mor\u001b[39;00m \u001b[38;5;28mself\u001b[39m\u001b[38;5;241m.\u001b[39mparent \u001b[38;5;241m==\u001b[39m \u001b[38;5;28mself\u001b[39m:\n",
      "\u001b[0;31mFileExistsError\u001b[0m: [Errno 17] File exists: '/tmp/test-computation/input/software'"
     ]
    }
   ],
   "source": [
    "# create a temporary landing folder for the output\n",
    "job_path = pathlib.Path(f\"/tmp/test-computation\")\n",
    "\n",
    "input_directory  = job_path / \"input\"\n",
    "software_directory = input_directory / \"software\"\n",
    "data_directory = input_directory / \"data\"\n",
    "output_directory = job_path / \"output\"\n",
    "\n",
    "software_directory.mkdir(parents=True)\n",
    "data_directory.mkdir(parents=True)\n",
    "output_directory.mkdir(parents=True)\n",
    "\n",
    "#pathlib.Path(\"input\")"
   ]
  },
  {
   "cell_type": "code",
   "execution_count": 70,
   "metadata": {},
   "outputs": [
    {
     "name": "stdout",
     "output_type": "stream",
     "text": [
      "[PosixPath('/tmp/test-computation/input/software/test-script.py')]\n",
      "[PosixPath('/tmp/test-computation/input/data/test-data.csv')]\n"
     ]
    }
   ],
   "source": [
    "# load software into software folder\n",
    "script_filename = software_directory / pathlib.Path(script_file).name\n",
    "\n",
    "minio_client.fget_object(\n",
    "\"test\", script_file, str(script_filename)\n",
    ")\n",
    "\n",
    "# check that file was downloaded correctly\n",
    "print(list(software_directory.glob(\"*\")))\n",
    "\n",
    "for dataset in dataset_files:\n",
    "    dataset_filename = data_directory / pathlib.Path(dataset).name\n",
    "    minio_client.fget_object(\n",
    "        \"test\", dataset, str(dataset_filename)\n",
    "    )\n",
    "    \n",
    "print(list(data_directory.glob(\"*\")))"
   ]
  },
  {
   "cell_type": "code",
   "execution_count": 87,
   "metadata": {},
   "outputs": [
    {
     "ename": "S3Error",
     "evalue": "S3 operation failed; code: NoSuchKey, message: Object does not exist, resource: /test/not%20a%20file, request_id: 1700D52500F111CC, host_id: None, bucket_name: test, object_name: not a file",
     "output_type": "error",
     "traceback": [
      "\u001b[0;31m---------------------------------------------------------------------------\u001b[0m",
      "\u001b[0;31mS3Error\u001b[0m                                   Traceback (most recent call last)",
      "Input \u001b[0;32mIn [87]\u001b[0m, in \u001b[0;36m<cell line: 1>\u001b[0;34m()\u001b[0m\n\u001b[0;32m----> 1\u001b[0m get_script \u001b[38;5;241m=\u001b[39m \u001b[43mminio_client\u001b[49m\u001b[38;5;241;43m.\u001b[39;49m\u001b[43mfget_object\u001b[49m\u001b[43m(\u001b[49m\n\u001b[1;32m      2\u001b[0m \u001b[38;5;124;43m\"\u001b[39;49m\u001b[38;5;124;43mtest\u001b[39;49m\u001b[38;5;124;43m\"\u001b[39;49m\u001b[43m,\u001b[49m\u001b[43m \u001b[49m\u001b[38;5;124;43m\"\u001b[39;49m\u001b[38;5;124;43mnot a file\u001b[39;49m\u001b[38;5;124;43m\"\u001b[39;49m\u001b[43m,\u001b[49m\u001b[43m \u001b[49m\u001b[38;5;28;43mstr\u001b[39;49m\u001b[43m(\u001b[49m\u001b[43mscript_filename\u001b[49m\u001b[43m)\u001b[49m\n\u001b[1;32m      3\u001b[0m \u001b[43m)\u001b[49m\n",
      "File \u001b[0;32m~/.local/lib/python3.10/site-packages/minio/api.py:1033\u001b[0m, in \u001b[0;36mMinio.fget_object\u001b[0;34m(self, bucket_name, object_name, file_path, request_headers, ssec, version_id, extra_query_params, tmp_file_path)\u001b[0m\n\u001b[1;32m   1030\u001b[0m \u001b[38;5;66;03m# Create top level directory if needed.\u001b[39;00m\n\u001b[1;32m   1031\u001b[0m makedirs(os\u001b[38;5;241m.\u001b[39mpath\u001b[38;5;241m.\u001b[39mdirname(file_path))\n\u001b[0;32m-> 1033\u001b[0m stat \u001b[38;5;241m=\u001b[39m \u001b[38;5;28;43mself\u001b[39;49m\u001b[38;5;241;43m.\u001b[39;49m\u001b[43mstat_object\u001b[49m\u001b[43m(\u001b[49m\n\u001b[1;32m   1034\u001b[0m \u001b[43m    \u001b[49m\u001b[43mbucket_name\u001b[49m\u001b[43m,\u001b[49m\n\u001b[1;32m   1035\u001b[0m \u001b[43m    \u001b[49m\u001b[43mobject_name\u001b[49m\u001b[43m,\u001b[49m\n\u001b[1;32m   1036\u001b[0m \u001b[43m    \u001b[49m\u001b[43mssec\u001b[49m\u001b[43m,\u001b[49m\n\u001b[1;32m   1037\u001b[0m \u001b[43m    \u001b[49m\u001b[43mversion_id\u001b[49m\u001b[38;5;241;43m=\u001b[39;49m\u001b[43mversion_id\u001b[49m\u001b[43m,\u001b[49m\n\u001b[1;32m   1038\u001b[0m \u001b[43m\u001b[49m\u001b[43m)\u001b[49m\n\u001b[1;32m   1040\u001b[0m \u001b[38;5;66;03m# Write to a temporary file \"file_path.part.minio\" before saving.\u001b[39;00m\n\u001b[1;32m   1041\u001b[0m tmp_file_path \u001b[38;5;241m=\u001b[39m (\n\u001b[1;32m   1042\u001b[0m     tmp_file_path \u001b[38;5;129;01mor\u001b[39;00m file_path \u001b[38;5;241m+\u001b[39m \u001b[38;5;124m\"\u001b[39m\u001b[38;5;124m.\u001b[39m\u001b[38;5;124m\"\u001b[39m \u001b[38;5;241m+\u001b[39m stat\u001b[38;5;241m.\u001b[39metag \u001b[38;5;241m+\u001b[39m \u001b[38;5;124m\"\u001b[39m\u001b[38;5;124m.part.minio\u001b[39m\u001b[38;5;124m\"\u001b[39m\n\u001b[1;32m   1043\u001b[0m )\n",
      "File \u001b[0;32m~/.local/lib/python3.10/site-packages/minio/api.py:1859\u001b[0m, in \u001b[0;36mMinio.stat_object\u001b[0;34m(self, bucket_name, object_name, ssec, version_id, extra_query_params)\u001b[0m\n\u001b[1;32m   1857\u001b[0m query_params \u001b[38;5;241m=\u001b[39m extra_query_params \u001b[38;5;129;01mor\u001b[39;00m {}\n\u001b[1;32m   1858\u001b[0m query_params\u001b[38;5;241m.\u001b[39mupdate({\u001b[38;5;124m\"\u001b[39m\u001b[38;5;124mversionId\u001b[39m\u001b[38;5;124m\"\u001b[39m: version_id} \u001b[38;5;28;01mif\u001b[39;00m version_id \u001b[38;5;28;01melse\u001b[39;00m {})\n\u001b[0;32m-> 1859\u001b[0m response \u001b[38;5;241m=\u001b[39m \u001b[38;5;28;43mself\u001b[39;49m\u001b[38;5;241;43m.\u001b[39;49m\u001b[43m_execute\u001b[49m\u001b[43m(\u001b[49m\n\u001b[1;32m   1860\u001b[0m \u001b[43m    \u001b[49m\u001b[38;5;124;43m\"\u001b[39;49m\u001b[38;5;124;43mHEAD\u001b[39;49m\u001b[38;5;124;43m\"\u001b[39;49m\u001b[43m,\u001b[49m\n\u001b[1;32m   1861\u001b[0m \u001b[43m    \u001b[49m\u001b[43mbucket_name\u001b[49m\u001b[43m,\u001b[49m\n\u001b[1;32m   1862\u001b[0m \u001b[43m    \u001b[49m\u001b[43mobject_name\u001b[49m\u001b[43m,\u001b[49m\n\u001b[1;32m   1863\u001b[0m \u001b[43m    \u001b[49m\u001b[43mheaders\u001b[49m\u001b[38;5;241;43m=\u001b[39;49m\u001b[43mheaders\u001b[49m\u001b[43m,\u001b[49m\n\u001b[1;32m   1864\u001b[0m \u001b[43m    \u001b[49m\u001b[43mquery_params\u001b[49m\u001b[38;5;241;43m=\u001b[39;49m\u001b[43mquery_params\u001b[49m\u001b[43m,\u001b[49m\n\u001b[1;32m   1865\u001b[0m \u001b[43m\u001b[49m\u001b[43m)\u001b[49m\n\u001b[1;32m   1867\u001b[0m last_modified \u001b[38;5;241m=\u001b[39m response\u001b[38;5;241m.\u001b[39mgetheader(\u001b[38;5;124m\"\u001b[39m\u001b[38;5;124mlast-modified\u001b[39m\u001b[38;5;124m\"\u001b[39m)\n\u001b[1;32m   1868\u001b[0m \u001b[38;5;28;01mif\u001b[39;00m last_modified:\n",
      "File \u001b[0;32m~/.local/lib/python3.10/site-packages/minio/api.py:397\u001b[0m, in \u001b[0;36mMinio._execute\u001b[0;34m(self, method, bucket_name, object_name, body, headers, query_params, preload_content, no_body_trace)\u001b[0m\n\u001b[1;32m    394\u001b[0m region \u001b[38;5;241m=\u001b[39m \u001b[38;5;28mself\u001b[39m\u001b[38;5;241m.\u001b[39m_get_region(bucket_name, \u001b[38;5;28;01mNone\u001b[39;00m)\n\u001b[1;32m    396\u001b[0m \u001b[38;5;28;01mtry\u001b[39;00m:\n\u001b[0;32m--> 397\u001b[0m     \u001b[38;5;28;01mreturn\u001b[39;00m \u001b[38;5;28;43mself\u001b[39;49m\u001b[38;5;241;43m.\u001b[39;49m\u001b[43m_url_open\u001b[49m\u001b[43m(\u001b[49m\n\u001b[1;32m    398\u001b[0m \u001b[43m        \u001b[49m\u001b[43mmethod\u001b[49m\u001b[43m,\u001b[49m\n\u001b[1;32m    399\u001b[0m \u001b[43m        \u001b[49m\u001b[43mregion\u001b[49m\u001b[43m,\u001b[49m\n\u001b[1;32m    400\u001b[0m \u001b[43m        \u001b[49m\u001b[43mbucket_name\u001b[49m\u001b[38;5;241;43m=\u001b[39;49m\u001b[43mbucket_name\u001b[49m\u001b[43m,\u001b[49m\n\u001b[1;32m    401\u001b[0m \u001b[43m        \u001b[49m\u001b[43mobject_name\u001b[49m\u001b[38;5;241;43m=\u001b[39;49m\u001b[43mobject_name\u001b[49m\u001b[43m,\u001b[49m\n\u001b[1;32m    402\u001b[0m \u001b[43m        \u001b[49m\u001b[43mbody\u001b[49m\u001b[38;5;241;43m=\u001b[39;49m\u001b[43mbody\u001b[49m\u001b[43m,\u001b[49m\n\u001b[1;32m    403\u001b[0m \u001b[43m        \u001b[49m\u001b[43mheaders\u001b[49m\u001b[38;5;241;43m=\u001b[39;49m\u001b[43mheaders\u001b[49m\u001b[43m,\u001b[49m\n\u001b[1;32m    404\u001b[0m \u001b[43m        \u001b[49m\u001b[43mquery_params\u001b[49m\u001b[38;5;241;43m=\u001b[39;49m\u001b[43mquery_params\u001b[49m\u001b[43m,\u001b[49m\n\u001b[1;32m    405\u001b[0m \u001b[43m        \u001b[49m\u001b[43mpreload_content\u001b[49m\u001b[38;5;241;43m=\u001b[39;49m\u001b[43mpreload_content\u001b[49m\u001b[43m,\u001b[49m\n\u001b[1;32m    406\u001b[0m \u001b[43m        \u001b[49m\u001b[43mno_body_trace\u001b[49m\u001b[38;5;241;43m=\u001b[39;49m\u001b[43mno_body_trace\u001b[49m\u001b[43m,\u001b[49m\n\u001b[1;32m    407\u001b[0m \u001b[43m    \u001b[49m\u001b[43m)\u001b[49m\n\u001b[1;32m    408\u001b[0m \u001b[38;5;28;01mexcept\u001b[39;00m S3Error \u001b[38;5;28;01mas\u001b[39;00m exc:\n\u001b[1;32m    409\u001b[0m     \u001b[38;5;28;01mif\u001b[39;00m exc\u001b[38;5;241m.\u001b[39mcode \u001b[38;5;241m!=\u001b[39m \u001b[38;5;124m\"\u001b[39m\u001b[38;5;124mRetryHead\u001b[39m\u001b[38;5;124m\"\u001b[39m:\n",
      "File \u001b[0;32m~/.local/lib/python3.10/site-packages/minio/api.py:380\u001b[0m, in \u001b[0;36mMinio._url_open\u001b[0;34m(self, method, region, bucket_name, object_name, body, headers, query_params, preload_content, no_body_trace)\u001b[0m\n\u001b[1;32m    377\u001b[0m \u001b[38;5;28;01mif\u001b[39;00m response_error\u001b[38;5;241m.\u001b[39mcode \u001b[38;5;129;01min\u001b[39;00m [\u001b[38;5;124m\"\u001b[39m\u001b[38;5;124mNoSuchBucket\u001b[39m\u001b[38;5;124m\"\u001b[39m, \u001b[38;5;124m\"\u001b[39m\u001b[38;5;124mRetryHead\u001b[39m\u001b[38;5;124m\"\u001b[39m]:\n\u001b[1;32m    378\u001b[0m     \u001b[38;5;28mself\u001b[39m\u001b[38;5;241m.\u001b[39m_region_map\u001b[38;5;241m.\u001b[39mpop(bucket_name, \u001b[38;5;28;01mNone\u001b[39;00m)\n\u001b[0;32m--> 380\u001b[0m \u001b[38;5;28;01mraise\u001b[39;00m response_error\n",
      "\u001b[0;31mS3Error\u001b[0m: S3 operation failed; code: NoSuchKey, message: Object does not exist, resource: /test/not%20a%20file, request_id: 1700D52500F111CC, host_id: None, bucket_name: test, object_name: not a file"
     ]
    }
   ],
   "source": [
    "get_script = minio_client.fget_object(\n",
    "\"test\", \"not a file\", str(script_filename)\n",
    ")\n"
   ]
  },
  {
   "cell_type": "code",
   "execution_count": 86,
   "metadata": {},
   "outputs": [
    {
     "data": {
      "text/plain": [
       "HTTPHeaderDict({'Accept-Ranges': 'bytes', 'Content-Length': '137', 'Content-Security-Policy': 'block-all-mixed-content', 'Content-Type': 'application/octet-stream', 'ETag': '\"5a572e8848d1d66833331bcd9bcbb53a\"', 'Last-Modified': 'Mon, 11 Jul 2022 16:47:04 GMT', 'Server': 'MinIO', 'Strict-Transport-Security': 'max-age=31536000; includeSubDomains', 'Vary': 'Origin, Accept-Encoding', 'X-Amz-Request-Id': '1700D51FDDA4DD5C', 'X-Content-Type-Options': 'nosniff', 'X-Xss-Protection': '1; mode=block', 'x-amz-meta-identifier': 'ark:99999/test-software-script', 'x-amz-meta-name': 'test-script.py', 'Date': 'Mon, 11 Jul 2022 17:03:15 GMT'})"
      ]
     },
     "execution_count": 86,
     "metadata": {},
     "output_type": "execute_result"
    }
   ],
   "source": [
    "get_script.met"
   ]
  },
  {
   "cell_type": "markdown",
   "metadata": {},
   "source": [
    "### Creating Docker Image with Dependancies"
   ]
  },
  {
   "cell_type": "code",
   "execution_count": 71,
   "metadata": {},
   "outputs": [],
   "source": [
    "# computation id for \n",
    "docker_client = docker.from_env()"
   ]
  },
  {
   "cell_type": "code",
   "execution_count": 157,
   "metadata": {},
   "outputs": [],
   "source": [
    "with open(\"tests/test-dockerfile\", \"w\") as file:\n",
    "    file.writelines([\n",
    "        \"FROM python:3\\n\",\n",
    "        \"RUN /usr/local/bin/python -m pip install --upgrade pip\\n\",\n",
    "        \"RUN pip install pandas\\n\"])"
   ]
  },
  {
   "cell_type": "code",
   "execution_count": 158,
   "metadata": {},
   "outputs": [],
   "source": [
    "# build an image for\n",
    "with open(\"tests/test-dockerfile\", \"rwb\") as dockerfile:\n",
    "    dockerfile.writelines([\n",
    "        \"FROM python:3\\n\",\n",
    "        \"RUN /usr/local/bin/python -m pip install --upgrade pip\\n\",\n",
    "        \"RUN pip install pandas\\n\"])\n",
    "    dockerfile.seek(0)\n",
    "    docker_file = docker_client.images.build(\n",
    "        fileobj=dockerfile,\n",
    "        tag = \"fairscape-python-test\"\n",
    "    )"
   ]
  },
  {
   "cell_type": "markdown",
   "metadata": {},
   "source": [
    "### Execute Custom Container by mounting the temporary directory\n"
   ]
  },
  {
   "cell_type": "code",
   "execution_count": 73,
   "metadata": {},
   "outputs": [
    {
     "data": {
      "text/plain": [
       "'python3 /mnt/input/software/test-script.py'"
      ]
     },
     "execution_count": 73,
     "metadata": {},
     "output_type": "execute_result"
    }
   ],
   "source": [
    "test_computation.command"
   ]
  },
  {
   "cell_type": "code",
   "execution_count": 74,
   "metadata": {},
   "outputs": [
    {
     "data": {
      "text/plain": [
       "PosixPath('/tmp/test-computation')"
      ]
     },
     "execution_count": 74,
     "metadata": {},
     "output_type": "execute_result"
    }
   ],
   "source": [
    "job_path"
   ]
  },
  {
   "cell_type": "code",
   "execution_count": 78,
   "metadata": {},
   "outputs": [],
   "source": [
    "container = docker_client.containers.create(\n",
    "    image = test_computation.container,\n",
    "    command = test_computation.command,\n",
    "    auto_remove = False,\n",
    "    volumes={\n",
    "        str(job_path): {'bind': '/mnt/', 'mode': 'rw'},\n",
    "    }\n",
    ")"
   ]
  },
  {
   "cell_type": "code",
   "execution_count": 79,
   "metadata": {},
   "outputs": [
    {
     "data": {
      "text/plain": [
       "'f64e8c53184246221ef67b6d5a0e69b225165c74547be8d8248ef261bad5b05c'"
      ]
     },
     "execution_count": 79,
     "metadata": {},
     "output_type": "execute_result"
    }
   ],
   "source": [
    "# update computation metadata\n",
    "container.id\n",
    "\n"
   ]
  },
  {
   "cell_type": "code",
   "execution_count": 80,
   "metadata": {},
   "outputs": [],
   "source": [
    "# run the container \n",
    "\n",
    "try:\n",
    "    container.start()\n",
    "    \n",
    "except docker.errors.ContainerError as container_error:\n",
    "    print(container_error)"
   ]
  },
  {
   "cell_type": "code",
   "execution_count": 83,
   "metadata": {},
   "outputs": [
    {
     "data": {
      "text/plain": [
       "'created'"
      ]
     },
     "execution_count": 83,
     "metadata": {},
     "output_type": "execute_result"
    }
   ],
   "source": [
    "container.status"
   ]
  },
  {
   "cell_type": "code",
   "execution_count": 167,
   "metadata": {
    "scrolled": true
   },
   "outputs": [
    {
     "data": {
      "text/plain": [
       "[PosixPath('/tmp/test-computation/output/test-output.csv')]"
      ]
     },
     "execution_count": 167,
     "metadata": {},
     "output_type": "execute_result"
    }
   ],
   "source": [
    "list(output_directory.glob(\"*\"))"
   ]
  },
  {
   "cell_type": "code",
   "execution_count": 86,
   "metadata": {},
   "outputs": [],
   "source": [
    "# reset files\n",
    "\n",
    "# remove all files\n",
    "for dataset in data_directory.glob(\"*\"):\n",
    "    dataset.unlink()\n",
    "    \n",
    "for software in software_directory.glob(\"*\"):\n",
    "    software.unlink()\n",
    "    \n",
    "for output in output_directory.glob(\"*\"):\n",
    "    output.unlink()\n",
    "    \n",
    "# remove all folders\n",
    "data_directory.rmdir()\n",
    "software_directory.rmdir()\n",
    "output_directory.rmdir()\n",
    "\n",
    "# remove parent folder\n",
    "input_directory.rmdir()"
   ]
  },
  {
   "cell_type": "code",
   "execution_count": 89,
   "metadata": {},
   "outputs": [],
   "source": [
    "# clear all objects\n"
   ]
  },
  {
   "cell_type": "code",
   "execution_count": 90,
   "metadata": {},
   "outputs": [],
   "source": []
  },
  {
   "cell_type": "code",
   "execution_count": null,
   "metadata": {},
   "outputs": [],
   "source": [
    "# execute custom container"
   ]
  },
  {
   "cell_type": "code",
   "execution_count": null,
   "metadata": {},
   "outputs": [],
   "source": [
    "test_computation.run_custom_container()"
   ]
  },
  {
   "cell_type": "code",
   "execution_count": null,
   "metadata": {},
   "outputs": [],
   "source": [
    "register_computation(test_computation.containerId)"
   ]
  }
 ],
 "metadata": {
  "kernelspec": {
   "display_name": "Python 3 (ipykernel)",
   "language": "python",
   "name": "python3"
  },
  "language_info": {
   "codemirror_mode": {
    "name": "ipython",
    "version": 3
   },
   "file_extension": ".py",
   "mimetype": "text/x-python",
   "name": "python",
   "nbconvert_exporter": "python",
   "pygments_lexer": "ipython3",
   "version": "3.10.4"
  },
  "vscode": {
   "interpreter": {
    "hash": "28b06ec166af8c83e5882731fef908354c2d57d9b46df793dcdb4efcedb4ca54"
   }
  }
 },
 "nbformat": 4,
 "nbformat_minor": 2
}
