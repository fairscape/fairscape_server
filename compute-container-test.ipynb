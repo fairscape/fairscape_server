{
 "cells": [
  {
   "cell_type": "code",
   "execution_count": null,
   "metadata": {
    "collapsed": true
   },
   "outputs": [],
   "source": []
  },
  {
   "cell_type": "code",
   "execution_count": 1,
   "metadata": {
    "pycharm": {
     "name": "#%%\n"
    }
   },
   "outputs": [],
   "source": [
    "import json\n",
    "import requests\n",
    "\n",
    "root_url = \"http://localhost:8000/\""
   ]
  },
  {
   "cell_type": "markdown",
   "metadata": {
    "pycharm": {
     "name": "#%% md\n"
    }
   },
   "source": [
    "### Create a user"
   ]
  },
  {
   "cell_type": "code",
   "execution_count": 2,
   "metadata": {
    "pycharm": {
     "name": "#%%\n"
    }
   },
   "outputs": [
    {
     "data": {
      "text/plain": "{'created': {'@id': 'ark:99999/test-user1',\n  '@type': 'Person',\n  'name': 'Test User1'}}"
     },
     "execution_count": 2,
     "metadata": {},
     "output_type": "execute_result"
    }
   ],
   "source": [
    "user1_data = {\n",
    "\t\"@id\": \"ark:99999/test-user1\",\n",
    "\t\"name\": \"Test User1\",\n",
    "\t\"type\": \"Person\",\n",
    "\t\"email\": \"testuser1@example.org\",\n",
    "\t\"password\": \"test1\",\n",
    "\t\"organizations\": [],\n",
    "\t\"projects\": [],\n",
    "\t\"datasets\": [],\n",
    "\t\"software\": [],\n",
    "\t\"computations\": [],\n",
    "\t\"evidencegraphs\": []\n",
    "\t}\n",
    "\n",
    "# create user1\n",
    "create_user1 = requests.post(root_url + \"user\", data=json.dumps(user1_data))\n",
    "create_user1.json()"
   ]
  },
  {
   "cell_type": "markdown",
   "metadata": {
    "pycharm": {
     "name": "#%% md\n"
    }
   },
   "source": [
    "### Create a Software"
   ]
  },
  {
   "cell_type": "code",
   "execution_count": 3,
   "metadata": {
    "pycharm": {
     "name": "#%%\n"
    }
   },
   "outputs": [
    {
     "data": {
      "text/plain": "{'created': {'@id': 'ark:99999/test-software', '@type': 'evi:Software'}}"
     },
     "execution_count": 3,
     "metadata": {},
     "output_type": "execute_result"
    }
   ],
   "source": [
    "# create software\n",
    "software_data = {\n",
    "\t\"@id\": \"ark:99999/test-software\",\n",
    "\t\"@type\": \"evi:Software\",\n",
    "\t\"name\": \"test-software\",\n",
    "\t\"owner\": {\n",
    "\t\t\"@id\": \"ark:99999/test-user1\",\n",
    "\t\t\"@type\": \"Person\",\n",
    "\t\t\"name\": \"Test User1\",\n",
    "\t\t\"email\": \"testuser1@example.org\"\n",
    "\t\t}#,\n",
    "\t#\"author\": \"some author(s)\",\n",
    "    #\"downloadUrl\": \"some url\",\n",
    "    #\"citation\": \"some citation\",\n",
    "\t#\"evi:usedBy\": []\n",
    "}\n",
    "\n",
    "software_create = requests.post(root_url + f\"software/\", data=json.dumps(software_data))\n",
    "software_create.json()"
   ]
  },
  {
   "cell_type": "markdown",
   "metadata": {
    "pycharm": {
     "name": "#%% md\n"
    }
   },
   "source": [
    "### Create a dataset"
   ]
  },
  {
   "cell_type": "code",
   "execution_count": 4,
   "metadata": {
    "pycharm": {
     "name": "#%%\n"
    }
   },
   "outputs": [
    {
     "data": {
      "text/plain": "{'created': {'@id': 'ark:99999/test-dataset', '@type': 'evi:Dataset'}}"
     },
     "execution_count": 4,
     "metadata": {},
     "output_type": "execute_result"
    }
   ],
   "source": [
    "# create dataset\n",
    "dataset_data = {\n",
    "\t\"@id\": \"ark:99999/test-dataset\",\n",
    "\t\"@type\": \"evi:Dataset\",\n",
    "\t\"name\": \"test-dataset\",\n",
    "\t\"owner\": {\n",
    "\t\t\"@id\": \"ark:99999/test-user1\",\n",
    "\t\t\"@type\": \"Person\",\n",
    "\t\t\"name\": \"Test User1\",\n",
    "\t\t\"email\": \"testuser1@example.org\"\n",
    "\t\t}\n",
    "}\n",
    "\n",
    "dataset_create = requests.post(root_url + f\"dataset/\", data=json.dumps(dataset_data))\n",
    "dataset_create.json()"
   ]
  },
  {
   "cell_type": "markdown",
   "metadata": {
    "pycharm": {
     "name": "#%% md\n"
    }
   },
   "source": [
    "### Create metadata for the dataset to be uploaded"
   ]
  },
  {
   "cell_type": "code",
   "execution_count": 5,
   "metadata": {
    "pycharm": {
     "name": "#%%\n"
    }
   },
   "outputs": [
    {
     "data": {
      "text/plain": "{'created': {'@id': 'ark:99999/test-download-dataset',\n  '@type': 'DataDownload',\n  'name': 'random_numbers.txt'}}"
     },
     "execution_count": 5,
     "metadata": {},
     "output_type": "execute_result"
    }
   ],
   "source": [
    "# create DataDownload metadata for a Dataset\n",
    "test_data_download_for_dataset = {\n",
    "\t\"@id\": \"ark:99999/test-download-dataset\",\n",
    "\t\"name\": \"random_numbers.txt\",\n",
    "\t\"@type\": \"DataDownload\",\n",
    "\t\"encodingFormat\": \".txt\",\n",
    "\t\"encodesCreativeWork\": dataset_data[\"@id\"]\n",
    "}\n",
    "\n",
    "data_download_create = requests.post(root_url + f\"datadownload\", data=json.dumps(test_data_download_for_dataset))\n",
    "data_download_create.json()"
   ]
  },
  {
   "cell_type": "markdown",
   "metadata": {
    "pycharm": {
     "name": "#%% md\n"
    }
   },
   "source": [
    "### Upload the dataset"
   ]
  },
  {
   "cell_type": "code",
   "execution_count": 6,
   "metadata": {
    "pycharm": {
     "name": "#%%\n"
    }
   },
   "outputs": [
    {
     "data": {
      "text/plain": "{'updated': {'@id': 'ark:99999/test-download-dataset',\n  '@type': 'DataDownload',\n  'name': 'random_numbers.txt'}}"
     },
     "execution_count": 6,
     "metadata": {},
     "output_type": "execute_result"
    }
   ],
   "source": [
    "# upload a dataset to minio object store\n",
    "data_files = {'file': ('random_numbers.txt', '1\\n2\\n3\\n4\\n5')}\n",
    "data_download_upload = requests.post(root_url + f\"datadownload/ark:99999/test-download-dataset/upload\", files=data_files)\n",
    "data_download_upload.json()"
   ]
  },
  {
   "cell_type": "code",
   "execution_count": 7,
   "metadata": {
    "pycharm": {
     "name": "#%%\n"
    }
   },
   "outputs": [
    {
     "data": {
      "text/plain": "'{\"@id\": \"ark:99999/test-download-dataset\", \"@type\": \"DataDownload\", \"contentSize\": \"9\", \"contentUrl\": \"test-dataset/random_numbers.txt\", \"sha256\": null, \"uploadDate\": \"2022-07-01T13:20:35+00:00\", \"version\": \"1.0\", \"@context\": {\"@vocab\": \"https://schema.org/\", \"evi\": \"https://w3id/EVI#\"}, \"name\": \"random_numbers.txt\", \"encodingFormat\": \".txt\", \"encodesCreativeWork\": {\"@id\": \"ark:99999/test-dataset\", \"@type\": \"evi:Dataset\", \"name\": \"test-dataset\"}}'"
     },
     "execution_count": 7,
     "metadata": {},
     "output_type": "execute_result"
    }
   ],
   "source": [
    "# read the DataDownload metadata for the dataset\n",
    "data_download_read = requests.get(root_url + f\"datadownload/ark:99999/test-download-dataset\")\n",
    "data_download_read.json()"
   ]
  },
  {
   "cell_type": "markdown",
   "metadata": {
    "pycharm": {
     "name": "#%% md\n"
    }
   },
   "source": [
    "### Create metadata for the script to be uploaded"
   ]
  },
  {
   "cell_type": "code",
   "execution_count": 8,
   "metadata": {
    "pycharm": {
     "name": "#%%\n"
    }
   },
   "outputs": [
    {
     "data": {
      "text/plain": "{'created': {'@id': 'ark:99999/test-download-software',\n  '@type': 'DataDownload',\n  'name': 'sum_script.py'}}"
     },
     "execution_count": 8,
     "metadata": {},
     "output_type": "execute_result"
    }
   ],
   "source": [
    "# create DataDownload metadata for a Software\n",
    "test_data_download_for_software = {\n",
    "\t\"@id\": \"ark:99999/test-download-software\",\n",
    "\t\"name\": \"sum_script.py\",\n",
    "\t\"@type\": \"DataDownload\",\n",
    "\t\"encodingFormat\": \".py\",\n",
    "\t\"encodesCreativeWork\": software_data[\"@id\"]\n",
    "}\n",
    "\n",
    "data_download_create = requests.post(root_url + f\"datadownload\", data=json.dumps(test_data_download_for_software))\n",
    "data_download_create.json()"
   ]
  },
  {
   "cell_type": "markdown",
   "metadata": {
    "pycharm": {
     "name": "#%% md\n"
    }
   },
   "source": [
    "### Upload the script (Required: Create 'input-script' directory inside 'SOURCE_VOL' and store 'sum_script.py' for this operation)"
   ]
  },
  {
   "cell_type": "code",
   "execution_count": 9,
   "metadata": {
    "pycharm": {
     "name": "#%%\n"
    }
   },
   "outputs": [
    {
     "data": {
      "text/plain": "{'updated': {'@id': 'ark:99999/test-download-software',\n  '@type': 'DataDownload',\n  'name': 'sum_script.py'}}"
     },
     "execution_count": 9,
     "metadata": {},
     "output_type": "execute_result"
    }
   ],
   "source": [
    "# upload a software to minio object store\n",
    "script_file = {'file': open('/home/sadnan/compute-test/input-script/sum_script.py', 'r')}\n",
    "data_download_upload = requests.post(root_url + f\"datadownload/ark:99999/test-download-software/upload\", files=script_file)\n",
    "data_download_upload.json()"
   ]
  },
  {
   "cell_type": "code",
   "execution_count": 10,
   "metadata": {
    "pycharm": {
     "name": "#%%\n"
    }
   },
   "outputs": [
    {
     "data": {
      "text/plain": "'{\"@id\": \"ark:99999/test-download-software\", \"@type\": \"DataDownload\", \"contentSize\": \"608\", \"contentUrl\": \"test-software/sum_script.py\", \"sha256\": null, \"uploadDate\": \"2022-07-01T13:20:59+00:00\", \"version\": \"1.0\", \"@context\": {\"@vocab\": \"https://schema.org/\", \"evi\": \"https://w3id/EVI#\"}, \"name\": \"sum_script.py\", \"encodingFormat\": \".py\", \"encodesCreativeWork\": {\"@id\": \"ark:99999/test-software\", \"@type\": \"evi:Software\", \"name\": \"test-software\"}}'"
     },
     "execution_count": 10,
     "metadata": {},
     "output_type": "execute_result"
    }
   ],
   "source": [
    "# read the DataDownload metadata for the script\n",
    "data_download_read = requests.get(root_url + f\"datadownload/ark:99999/test-download-software\")\n",
    "data_download_read.json()"
   ]
  },
  {
   "cell_type": "markdown",
   "source": [
    "### Create a Computation"
   ],
   "metadata": {
    "collapsed": false
   }
  },
  {
   "cell_type": "code",
   "source": [
    "# create computation\n",
    "computation_data = {\n",
    "\t\"@id\": \"ark:99999/test-computation\",\n",
    "\t\"@type\": \"evi:Computation\",\n",
    "\t\"name\": \"test computation\",\n",
    "\t\"owner\": {\n",
    "\t\t\"@id\": \"ark:99999/test-user1\",\n",
    "\t\t\"@type\": \"Person\",\n",
    "\t\t\"name\": \"Test User1\",\n",
    "\t\t\"email\": \"testuser1@example.org\"\n",
    "\t\t},\n",
    "\t# \"author\" : \"\",\n",
    "    # \"dateCreated\" : \"\",\n",
    "    # \"dateFinished\" : \"\",\n",
    "    # \"associatedWith\" : [],\n",
    "\t\"container\": \"python:alpine\",\n",
    "    \"usedSoftware\" : \"ark:99999/test-software\",\n",
    "    \"usedDataset\" : \"ark:99999/test-dataset\",\n",
    "\t\"containerId\": \"\"\n",
    "}\n",
    "\n",
    "computation_create = requests.post(root_url + f\"computation/\", data=json.dumps(computation_data))\n",
    "computation_create.json()"
   ],
   "metadata": {
    "collapsed": false,
    "pycharm": {
     "name": "#%%\n"
    }
   },
   "execution_count": 36,
   "outputs": [
    {
     "data": {
      "text/plain": "{'created': {'@id': 'ark:99999/test-computation', '@type': 'evi:Computation'}}"
     },
     "execution_count": 36,
     "metadata": {},
     "output_type": "execute_result"
    }
   ]
  },
  {
   "cell_type": "markdown",
   "source": [
    "### Read computation"
   ],
   "metadata": {
    "collapsed": false,
    "pycharm": {
     "name": "#%% md\n"
    }
   }
  },
  {
   "cell_type": "code",
   "execution_count": 33,
   "outputs": [
    {
     "data": {
      "text/plain": "{'@id': 'ark:99999/test-computation',\n '@type': 'evi:Computation',\n 'container': 'python:alpine',\n 'containerId': '',\n '@context': {'@vocab': 'https://schema.org/', 'evi': 'https://w3id.org/EVI#'},\n 'name': 'test computation',\n 'owner': {'@id': 'ark:99999/test-user1',\n  '@type': 'Person',\n  'name': 'Test User1',\n  'email': 'testuser1@example.org'},\n 'usedSoftware': 'ark:99999/test-software',\n 'usedDataset': 'ark:99999/test-dataset'}"
     },
     "execution_count": 33,
     "metadata": {},
     "output_type": "execute_result"
    }
   ],
   "source": [
    "# read specific computation\n",
    "get_computation = requests.get(root_url + f\"computation/{computation_data['@id']}\")\n",
    "get_computation.json()"
   ],
   "metadata": {
    "collapsed": false,
    "pycharm": {
     "name": "#%%\n"
    }
   }
  },
  {
   "cell_type": "markdown",
   "metadata": {
    "pycharm": {
     "name": "#%% md\n"
    }
   },
   "source": [
    "# Perform computation by running the script on the dataset"
   ]
  },
  {
   "cell_type": "code",
   "execution_count": 37,
   "metadata": {
    "pycharm": {
     "name": "#%%\n"
    }
   },
   "outputs": [
    {
     "data": {
      "text/plain": "{'message': 'launched container'}"
     },
     "execution_count": 37,
     "metadata": {},
     "output_type": "execute_result"
    }
   ],
   "source": [
    "# run the computation\n",
    "compute_run = requests.put(root_url + f\"computation/{computation_data['@id']}/execute\")\n",
    "compute_run.json()"
   ]
  },
  {
   "cell_type": "markdown",
   "metadata": {
    "pycharm": {
     "name": "#%% md\n"
    }
   },
   "source": []
  },
  {
   "cell_type": "code",
   "execution_count": 26,
   "metadata": {
    "pycharm": {
     "name": "#%%\n"
    }
   },
   "outputs": [
    {
     "data": {
      "text/plain": "{'@id': 'ark:99999/test-computation',\n '@type': 'evi:Computation',\n 'container': 'python:alpine',\n 'containerId': 'ce6227c4f16fa4fa4d23338cb95ca7f37c5ba203d697de6735972d40fb7238ac',\n '@context': {'@vocab': 'https://schema.org/', 'evi': 'https://w3id.org/EVI#'},\n 'name': 'test computation',\n 'owner': {'@id': 'ark:99999/test-user1',\n  '@type': 'Person',\n  'name': 'Test User1',\n  'email': 'testuser1@example.org'},\n 'usedSoftware': 'ark:99999/test-software',\n 'usedDataset': 'ark:99999/test-dataset',\n 'dateCreated': '2022-07-01T18:55:33.9669797Z',\n 'dateFinished': '2022-07-01T18:55:44.017969698Z'}"
     },
     "execution_count": 26,
     "metadata": {},
     "output_type": "execute_result"
    }
   ],
   "source": [
    "get_computation = requests.get(root_url + f\"computation/ark:99999/test-computation\")\n",
    "get_computation.json()"
   ]
  },
  {
   "cell_type": "code",
   "execution_count": null,
   "outputs": [],
   "source": [],
   "metadata": {
    "collapsed": false,
    "pycharm": {
     "name": "#%%\n"
    }
   }
  }
 ],
 "metadata": {
  "kernelspec": {
   "display_name": "Python 3 (ipykernel)",
   "language": "python",
   "name": "python3"
  },
  "language_info": {
   "codemirror_mode": {
    "name": "ipython",
    "version": 3
   },
   "file_extension": ".py",
   "mimetype": "text/x-python",
   "name": "python",
   "nbconvert_exporter": "python",
   "pygments_lexer": "ipython3",
   "version": "3.10.4"
  }
 },
 "nbformat": 4,
 "nbformat_minor": 1
}