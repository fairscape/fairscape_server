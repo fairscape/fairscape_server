{
 "cells": [
  {
   "cell_type": "code",
   "execution_count": null,
   "metadata": {
    "collapsed": true
   },
   "outputs": [],
   "source": []
  },
  {
   "cell_type": "code",
   "execution_count": null,
   "metadata": {
    "pycharm": {
     "name": "#%%\n"
    }
   },
   "outputs": [],
   "source": [
    "import json\n",
    "import requests\n",
    "\n",
    "root_url = \"http://localhost:8000/\""
   ]
  },
  {
   "cell_type": "markdown",
   "metadata": {
    "pycharm": {
     "name": "#%% md\n"
    }
   },
   "source": [
    "### Create a user"
   ]
  },
  {
   "cell_type": "code",
   "execution_count": null,
   "metadata": {
    "pycharm": {
     "name": "#%%\n"
    }
   },
   "outputs": [],
   "source": [
    "user1_data = {\n",
    "\t\"@id\": \"ark:99999/test-user1\",\n",
    "\t\"name\": \"Test User1\",\n",
    "\t\"type\": \"Person\",\n",
    "\t\"email\": \"testuser1@example.org\",\n",
    "\t\"password\": \"test1\",\n",
    "\t\"organizations\": [],\n",
    "\t\"projects\": [],\n",
    "\t\"datasets\": [],\n",
    "\t\"software\": [],\n",
    "\t\"computations\": [],\n",
    "\t\"evidencegraphs\": []\n",
    "\t}\n",
    "\n",
    "# create user1\n",
    "create_user1 = requests.post(root_url + \"user\", data=json.dumps(user1_data))\n",
    "create_user1.json()"
   ]
  },
  {
   "cell_type": "markdown",
   "metadata": {
    "pycharm": {
     "name": "#%% md\n"
    }
   },
   "source": [
    "### Create a Software"
   ]
  },
  {
   "cell_type": "code",
   "execution_count": null,
   "metadata": {
    "pycharm": {
     "name": "#%%\n"
    }
   },
   "outputs": [],
   "source": [
    "# create software\n",
    "software_data = {\n",
    "\t\"@id\": \"ark:99999/test-software\",\n",
    "\t\"@type\": \"evi:Software\",\n",
    "\t\"name\": \"test-software\",\n",
    "\t\"owner\": {\n",
    "\t\t\"@id\": \"ark:99999/test-user1\",\n",
    "\t\t\"@type\": \"Person\",\n",
    "\t\t\"name\": \"Test User1\",\n",
    "\t\t\"email\": \"testuser1@example.org\"\n",
    "\t\t}#,\n",
    "\t#\"author\": \"some author(s)\",\n",
    "    #\"downloadUrl\": \"some url\",\n",
    "    #\"citation\": \"some citation\",\n",
    "\t#\"evi:usedBy\": []\n",
    "}\n",
    "\n",
    "software_create = requests.post(root_url + f\"software/\", data=json.dumps(software_data))\n",
    "software_create.json()"
   ]
  },
  {
   "cell_type": "markdown",
   "metadata": {
    "pycharm": {
     "name": "#%% md\n"
    }
   },
   "source": [
    "### Create a Dataset"
   ]
  },
  {
   "cell_type": "code",
   "execution_count": null,
   "metadata": {
    "pycharm": {
     "name": "#%%\n"
    }
   },
   "outputs": [],
   "source": [
    "# create dataset\n",
    "dataset_data = {\n",
    "\t\"@id\": \"ark:99999/test-dataset\",\n",
    "\t\"@type\": \"evi:Dataset\",\n",
    "\t\"name\": \"test-dataset\",\n",
    "\t\"owner\": {\n",
    "\t\t\"@id\": \"ark:99999/test-user1\",\n",
    "\t\t\"@type\": \"Person\",\n",
    "\t\t\"name\": \"Test User1\",\n",
    "\t\t\"email\": \"testuser1@example.org\"\n",
    "\t\t}\n",
    "}\n",
    "\n",
    "dataset_create = requests.post(root_url + f\"dataset/\", data=json.dumps(dataset_data))\n",
    "dataset_create.json()"
   ]
  },
  {
   "cell_type": "markdown",
   "metadata": {
    "pycharm": {
     "name": "#%% md\n"
    }
   },
   "source": [
    "### Create a Computation"
   ]
  },
  {
   "cell_type": "code",
   "execution_count": null,
   "metadata": {
    "pycharm": {
     "name": "#%%\n"
    }
   },
   "outputs": [],
   "source": [
    "# create computation\n",
    "computation_data = {\n",
    "\t\"@id\": \"ark:99999/test-computation\",\n",
    "\t\"@type\": \"evi:Computation\",\n",
    "\t\"name\": \"test computation\",\n",
    "\t\"owner\": {\n",
    "\t\t\"@id\": \"ark:99999/test-user1\",\n",
    "\t\t\"@type\": \"Person\",\n",
    "\t\t\"name\": \"Test User1\",\n",
    "\t\t\"email\": \"testuser1@example.org\"\n",
    "\t\t}#,\n",
    "\t# \"author\" : \"\",\n",
    "    #\"dateCreated\" : \"\",\n",
    "    #\"dateFinished\" : \"\",\n",
    "    # \"associatedWith\" : [],\n",
    "    # \"usedSoftware\" : \"\",\n",
    "    # \"usedDataset\" : \"\"\n",
    "}\n",
    "\n",
    "computation_create = requests.post(root_url + f\"computation/\", data=json.dumps(computation_data))\n",
    "computation_create.json()"
   ]
  },
  {
   "cell_type": "markdown",
   "metadata": {
    "pycharm": {
     "name": "#%% md\n"
    }
   },
   "source": [
    "### Create metadata for the dataset to be uploaded"
   ]
  },
  {
   "cell_type": "code",
   "execution_count": null,
   "metadata": {
    "pycharm": {
     "name": "#%%\n"
    }
   },
   "outputs": [],
   "source": [
    "# create DataDownload metadata for a Dataset\n",
    "test_data_download_for_dataset = {\n",
    "\t\"@id\": \"ark:99999/test-download-dataset\",\n",
    "\t\"name\": \"random_numbers.txt\",\n",
    "\t\"@type\": \"DataDownload\",\n",
    "\t\"encodingFormat\": \".txt\",\n",
    "\t\"encodesCreativeWork\": dataset_data[\"@id\"]\n",
    "}\n",
    "\n",
    "data_download_create = requests.post(root_url + f\"datadownload\", data=json.dumps(test_data_download_for_dataset))\n",
    "data_download_create.json()"
   ]
  },
  {
   "cell_type": "markdown",
   "metadata": {
    "pycharm": {
     "name": "#%% md\n"
    }
   },
   "source": [
    "### Upload the dataset"
   ]
  },
  {
   "cell_type": "code",
   "execution_count": null,
   "metadata": {
    "pycharm": {
     "name": "#%%\n"
    }
   },
   "outputs": [],
   "source": [
    "# upload a dataset to minio object store\n",
    "data_files = {'file': ('random_numbers.txt', '1\\n2\\n3\\n4\\n5')}\n",
    "data_download_upload = requests.post(root_url + f\"datadownload/ark:99999/test-download-dataset/upload\", files=data_files)\n",
    "data_download_upload.json()"
   ]
  },
  {
   "cell_type": "code",
   "execution_count": null,
   "metadata": {
    "pycharm": {
     "name": "#%%\n"
    }
   },
   "outputs": [],
   "source": [
    "# read the DataDownload metadata for the dataset\n",
    "data_download_read = requests.get(root_url + f\"datadownload/ark:99999/test-download-dataset\")\n",
    "data_download_read.json()"
   ]
  },
  {
   "cell_type": "markdown",
   "metadata": {
    "pycharm": {
     "name": "#%% md\n"
    }
   },
   "source": [
    "### Create metadata for the script to be uploaded"
   ]
  },
  {
   "cell_type": "code",
   "execution_count": null,
   "metadata": {
    "pycharm": {
     "name": "#%%\n"
    }
   },
   "outputs": [],
   "source": [
    "# create DataDownload metadata for a Software\n",
    "test_data_download_for_software = {\n",
    "\t\"@id\": \"ark:99999/test-download-software\",\n",
    "\t\"name\": \"sum_script.py\",\n",
    "\t\"@type\": \"DataDownload\",\n",
    "\t\"encodingFormat\": \".py\",\n",
    "\t\"encodesCreativeWork\": software_data[\"@id\"]\n",
    "}\n",
    "\n",
    "data_download_create = requests.post(root_url + f\"datadownload\", data=json.dumps(test_data_download_for_software))\n",
    "data_download_create.json()"
   ]
  },
  {
   "cell_type": "markdown",
   "metadata": {
    "pycharm": {
     "name": "#%% md\n"
    }
   },
   "source": [
    "### Upload the script (Required: Create 'input-script' directory inside 'SOURCE_VOL' and store 'sum_script.py' for this operation)"
   ]
  },
  {
   "cell_type": "code",
   "execution_count": null,
   "metadata": {
    "pycharm": {
     "name": "#%%\n"
    }
   },
   "outputs": [],
   "source": [
    "# upload a software to minio object store\n",
    "script_file = {'file': open('/home/sadnan/compute-test/input-script/sum_script.py', 'r')}\n",
    "data_download_upload = requests.post(root_url + f\"datadownload/ark:99999/test-download-software/upload\", files=script_file)\n",
    "data_download_upload.json()"
   ]
  },
  {
   "cell_type": "code",
   "execution_count": null,
   "metadata": {
    "pycharm": {
     "name": "#%%\n"
    }
   },
   "outputs": [],
   "source": [
    "# read the DataDownload metadata for the dataset\n",
    "data_download_read = requests.get(root_url + f\"datadownload/ark:99999/test-download-software\")\n",
    "data_download_read.json()"
   ]
  },
  {
   "cell_type": "markdown",
   "metadata": {
    "pycharm": {
     "name": "#%% md\n"
    }
   },
   "source": [
    "# Perform computation by running the script on the dataset"
   ]
  },
  {
   "cell_type": "code",
   "execution_count": null,
   "metadata": {
    "pycharm": {
     "name": "#%%\n"
    }
   },
   "outputs": [],
   "source": [
    "\n",
    "compute_resources = {\n",
    "\t\"datasetID\": [\"ark:99999/test-dataset\"],\n",
    "\t\"scriptID\": \"ark:99999/test-software\"\n",
    "}\n",
    "\n",
    "compute_run = requests.post(root_url + f\"compute/ark:99999/test-computation\", json.dumps(compute_resources))\n",
    "compute_run.json()"
   ]
  },
  {
   "cell_type": "markdown",
   "metadata": {
    "pycharm": {
     "name": "#%% md\n"
    }
   },
   "source": [
    "### Metadata for the Computation have been updated"
   ]
  },
  {
   "cell_type": "code",
   "execution_count": null,
   "metadata": {
    "pycharm": {
     "name": "#%%\n"
    }
   },
   "outputs": [],
   "source": [
    "get_computation = requests.get(root_url + f\"computation/ark:99999/test-computation\")\n",
    "get_computation.json()"
   ]
  }
 ],
 "metadata": {
  "kernelspec": {
   "display_name": "Python 3 (ipykernel)",
   "language": "python",
   "name": "python3"
  },
  "language_info": {
   "codemirror_mode": {
    "name": "ipython",
    "version": 3
   },
   "file_extension": ".py",
   "mimetype": "text/x-python",
   "name": "python",
   "nbconvert_exporter": "python",
   "pygments_lexer": "ipython3",
   "version": "3.10.4"
  }
 },
 "nbformat": 4,
 "nbformat_minor": 1
}
