{
 "cells": [
  {
   "cell_type": "code",
   "execution_count": 157,
   "metadata": {},
   "outputs": [],
   "source": [
    "import minio\n",
    "import ldap3\n",
    "from dotenv import dotenv_values\n",
    "import logging"
   ]
  },
  {
   "cell_type": "code",
   "execution_count": 158,
   "metadata": {},
   "outputs": [],
   "source": [
    "ldapSetupLogger = logging.getLogger('ldapSetup')"
   ]
  },
  {
   "cell_type": "code",
   "execution_count": null,
   "metadata": {},
   "outputs": [],
   "source": []
  },
  {
   "cell_type": "code",
   "execution_count": 159,
   "metadata": {},
   "outputs": [],
   "source": [
    "configValues = dotenv_values(dotenv_path=\"./setup.env\")\n",
    "\n",
    "# create an admin connection to ldap3\n",
    "ldapServerURI = f\"ldap://{configValues['FAIRSCAPE_LDAP_HOST']}:{configValues['FAIRSCAPE_LDAP_PORT']}\" \n",
    "#ldapServer = ldap3.Server(ldapServerURI)\n",
    "\n",
    "# for tests\n",
    "ldapServerURI = \"ldap://localhost:1389\"\n",
    "\n",
    "\n",
    "ldapBaseDN = configValues['FAIRSCAPE_LDAP_BASE_DN']\n",
    "ldapUsersDN = configValues['FAIRSCAPE_LDAP_USERS_DN']\n",
    "ldapGroupsDN = configValues['FAIRSCAPE_LDAP_GROUPS_DN']\n",
    "\n",
    "configAdminDN = configValues['FAIRSCAPE_LDAP_CONFIG_ADMIN_DN']\n",
    "configAdminPassword = configValues['FAIRSCAPE_LDAP_CONFIG_ADMIN_PASSWORD']\n",
    "\n",
    "adminDN = configValues['FAIRSCAPE_LDAP_ADMIN_DN']\n",
    "adminPassword = configValues['FAIRSCAPE_LDAP_ADMIN_PASSWORD']\n"
   ]
  },
  {
   "cell_type": "code",
   "execution_count": 131,
   "metadata": {},
   "outputs": [
    {
     "data": {
      "text/plain": [
       "'cn=admin,dc=fairscape,dc=net'"
      ]
     },
     "execution_count": 131,
     "metadata": {},
     "output_type": "execute_result"
    }
   ],
   "source": [
    "adminDN"
   ]
  },
  {
   "cell_type": "code",
   "execution_count": 110,
   "metadata": {},
   "outputs": [
    {
     "data": {
      "text/plain": [
       "'cn=configadmin,cn=config'"
      ]
     },
     "execution_count": 110,
     "metadata": {},
     "output_type": "execute_result"
    }
   ],
   "source": [
    "configValues['FAIRSCAPE_LDAP_CONFIG_ADMIN_DN']"
   ]
  },
  {
   "cell_type": "markdown",
   "metadata": {},
   "source": []
  },
  {
   "cell_type": "markdown",
   "metadata": {},
   "source": [
    "\n",
    "`docker run --restart always --name openldap --env-file ./deploy/ldap.env -p 1389:1389 bitnami/openldap:latest`\n",
    "\n",
    "LDAP_SKIP_DEFAULT_TREE=\"no\""
   ]
  },
  {
   "cell_type": "code",
   "execution_count": 160,
   "metadata": {},
   "outputs": [],
   "source": [
    "# exceptions\n",
    "\n",
    "# connect as the config admin\n",
    "class LDAPConnectionError(Exception):\n",
    "\tdef __init__(self,exception: Exception | None=None, message: str=\"failed to connect to ldap\"):\n",
    "\n",
    "\t\tself.message = message\n",
    "\t\tself.exception = exception\n",
    "\t\tsuper().__init__(self.message)\n"
   ]
  },
  {
   "cell_type": "code",
   "execution_count": 161,
   "metadata": {},
   "outputs": [],
   "source": [
    "# helper utilities\n",
    "\n",
    "def connectLDAP(userDN, userPassword):\n",
    "\ttry:\n",
    "\t\tserver = ldap3.Server(ldapServerURI, get_info=ldap3.ALL)\n",
    "\t\tconnection = ldap3.Connection(server,          \n",
    "\t\t\tuser=userDN, \n",
    "\t\t\tpassword=userPassword,\n",
    "\t\t\tlazy=False\n",
    "\t\t\t) \n",
    "\t\tbind_response = connection.bind()\n",
    "\t\tif bind_response:\n",
    "\t\t\tldapSetupLogger.info(f\"msg: 'connected to LDAP server'\\tserver: '{ldapServerURI}'\\tuserDN: '{userDN}'\")\n",
    "\t\treturn connection\n",
    "\t\n",
    "\texcept ldap3.core.exceptions.LDAPBindError as bindError:\n",
    "\t\tldapSetupLogger.error(f\"msg: 'ldap bind error'\\tserver: '{ldapServerURI}'\\tuserDN: '{userDN}'\")\n",
    "\t\traise LDAPConnectionError(\n",
    "\t\t\texception=bindError, \n",
    "\t\t\tmessage=\"ldap bind error\"\n",
    "\t\t\t) \n",
    "\n",
    "\texcept ldap3.core.exceptions.LDAPSocketOpenError as connError:\n",
    "\t\tldapSetupLogger.error(f\"msg: 'ldap failed to open connection'\\tserver: '{ldapServerURI}'\\tuserDN: '{userDN}'\")\n",
    "\t\traise LDAPConnectionError(\n",
    "\t\t\texception=connError, \n",
    "\t\t\tmessage=f\"ldap connection error: failed to open connection at {ldapServerURI}\"\n",
    "\t\t\t) \n",
    "\n",
    "\texcept ldap3.core.exceptions.LDAPException as ldapException:\n",
    "\t\tldapSetupLogger.error(f\"msg: 'ldap exception'\\tserver: '{ldapServerURI}'\\tuserDN: '{userDN}'\")\n",
    "\t\traise LDAPConnectionError(\n",
    "\t\t\texception=ldapException, \n",
    "\t\t\tmessage=f\"ldap error: {str(ldapException)}\"\n",
    "\t\t\t)"
   ]
  },
  {
   "cell_type": "code",
   "execution_count": 99,
   "metadata": {},
   "outputs": [],
   "source": []
  },
  {
   "cell_type": "code",
   "execution_count": null,
   "metadata": {},
   "outputs": [],
   "source": []
  },
  {
   "cell_type": "code",
   "execution_count": 162,
   "metadata": {},
   "outputs": [],
   "source": [
    "def setupOverlay():\n",
    "    # connect as the config admin\n",
    "    configAdminConnection =connectLDAP(\n",
    "        userDN=configAdminDN,\n",
    "        userPassword=configAdminPassword\n",
    "        )\n",
    "\n",
    "    # add the module list to the config database \n",
    "    addModuleList = configAdminConnection.add(\n",
    "        dn=\"cn=module,cn=config\",\n",
    "        attributes={\n",
    "            \"objectClass\": \"olcModuleList\",\n",
    "            \"olcModuleLoad\": [ \"memberof.so\", \"refint.so\"],\n",
    "            \"olcModulePath\": \"/opt/bitnami/openldap/lib/openldap\"\n",
    "        }\n",
    "    )\n",
    "\n",
    "    if not addModuleList:\n",
    "        ldapSetupLogger.error(msg=\"msg: failed to add module list to config database\")\n",
    "        raise Exception(\"Setup Failed\")\n",
    "\n",
    "    configAdminConnection.rebind()\n",
    "\n",
    "    try:\n",
    "        ldap3.ObjectDef(['olcMemberOf'], configAdminConnection)\n",
    "\n",
    "    except ldap3.core.exceptions.LDAPSchemaError as schemaError:\n",
    "        ldapSetupLogger.error(\"failed to find olcMemberOf schema\")\n",
    "        raise Exception(\"Setup Failed\")\n",
    "\n",
    "\n",
    "    memberOfOverlayDN=\"olcOverlay={0}memberof,olcDatabase={2}mdb,cn=config\"\n",
    "    memberOfOverlayAttributes={\n",
    "        \"objectClass\": [ \"olcOverlayConfig\", \"olcMemberOf\"],\n",
    "        \"olcOverlay\": \"memberof\",\n",
    "        \"olcMemberOfRefInt\": \"TRUE\",\n",
    "    }\n",
    "\n",
    "    addOverlay = configAdminConnection.add(\n",
    "        dn=memberOfOverlayDN,\n",
    "        attributes=memberOfOverlayAttributes,\n",
    "    )\n",
    "\n",
    "\n",
    "    configAdminConnection.rebind()\n",
    "\n",
    "    if not addOverlay:\n",
    "        overlayAppliedResult = configAdminConnection.search(\n",
    "            search_base=\"olcDatabase={2}mdb,cn=config\",\n",
    "            search_scope=ldap3.SUBTREE,\n",
    "            search_filter=\"(objectClass=olcOverlayConfig)\"\n",
    "        )\n",
    "\n",
    "        if not overlayAppliedResult:\n",
    "            ldapSetupLogger.error(\"failed to find applied memberOf overlay\")\n",
    "            raise Exception(\"ldap setup failure\")"
   ]
  },
  {
   "cell_type": "code",
   "execution_count": 163,
   "metadata": {},
   "outputs": [],
   "source": [
    "setupOverlay()"
   ]
  },
  {
   "cell_type": "code",
   "execution_count": 164,
   "metadata": {},
   "outputs": [],
   "source": [
    "# add user\n",
    "def addFairscapeUser(\n",
    "    ldapConnection, \n",
    "    userCN: str, \n",
    "    userSN: str, \n",
    "    userGN: str, \n",
    "    userMail: str,\n",
    "    userPassword: str,\n",
    "):\n",
    "\n",
    "    return ldapConnection.add(\n",
    "        dn=f\"cn={userCN},ou=users,{ldapBaseDN}\",\n",
    "        attributes={\n",
    "            \"objectClass\": [\"inetOrgPerson\", \"Person\"],\n",
    "            \"cn\": userCN,\n",
    "            \"sn\": userSN,\n",
    "            \"gn\": userGN,\n",
    "            \"mail\": userMail,\n",
    "            \"userPassword\": userPassword\n",
    "        }    \n",
    "    )"
   ]
  },
  {
   "cell_type": "code",
   "execution_count": null,
   "metadata": {},
   "outputs": [],
   "source": [
    "def setupLDAPUsers():\n",
    "\n",
    "\t# form admin connection to main database\n",
    "\tadminConnection = connectLDAP(\n",
    "\t\tadminDN,\n",
    "\t\tadminPassword\n",
    "\t)\n",
    "\n",
    "\t# add groups OU\n",
    "\tadminConnection.add(\n",
    "\t\tdn=\"ou=groups,dc=fairscape,dc=net\",\n",
    "\t\tattributes={\n",
    "\t\t\t\"objectClass\": \"organizationalUnit\", \n",
    "\t\t\t\"ou\": \"groups\", \n",
    "\t\t\t\"description\": \"organizational unit of fairscape groups\"\n",
    "\t\t\t}\n",
    "\t) \n",
    "\n",
    "\tuserList= loadUsers()\n",
    "\tgroupList= loadGroups()\n",
    "\n",
    "\t# create users\n",
    "\tcreateUsers(adminConnection, userList)\n",
    "\tcreateGroups(adminConnection, groupList)\n",
    "\n",
    "\n",
    "# iterate over user data\n",
    "def loadUsers():\n",
    "\twith open(\"./data/user_data.csv\", \"r\") as csvFile:\n",
    "\n",
    "\t\t# ignore the first line\n",
    "\t\tuserData = csvFile.read()\n",
    "\n",
    "\tuserList = []\n",
    "\n",
    "\tlines = userData.splitlines()\n",
    "\tfor userLine in lines[1::]:\n",
    "\t\tuserData = userLine.replace(\" \", \"\").split(\",\")\n",
    "\n",
    "\t\tuser = {\n",
    "\t\t\t\"firstName\": userData[0],\n",
    "\t\t\t\"lastName\": userData[1],\n",
    "\t\t\t\"dn\": userData[2],\n",
    "\t\t\t\"email\": userData[3],\n",
    "\t\t\t\"password\": userData[4]\n",
    "\t\t}\n",
    "\n",
    "\t\tuserList.append(user)\n",
    "\treturn userList\n",
    "\n",
    "\n",
    "def createUsers(passedLDAPConnection, userList):\n",
    "\t# for all users\n",
    "\tfor userElem in userList[1::]:\n",
    "\t\taddSuccess = addFairscapeUser(\n",
    "\t\t\tldapConnection=passedLDAPConnection, \n",
    "\t\t\tuserCN=userElem['dn'],\n",
    "\t\t\tuserSN=userElem['lastName'],\n",
    "\t\t\tuserGN=userElem['firstName'],\n",
    "\t\t\tuserMail=userElem['email'],\n",
    "\t\t\tuserPassword=userElem['password']\n",
    "\t\t\t)\n",
    "\t\tldapSetupLogger.info(f\"msg: added user\\tsuccess: {addSuccess}\\tuser: {userElem['dn']}\")\n",
    "\n",
    "\n",
    "def loadGroups():\n",
    "\twith open(\"./data/group_data.csv\", \"r\") as csvFile:\n",
    "\n",
    "\t\t# ignore the first line\n",
    "\t\tgroupData = csvFile.read()\n",
    "\n",
    "\tgroupList = []\n",
    "\n",
    "\tlines = groupData.splitlines()\n",
    "\tfor groupLine in lines[1::]:\n",
    "\t\tgroupData = groupLine.replace(\" \", \"\").split(\",\")\n",
    "\n",
    "\t\tgroup = {\n",
    "\t\t\t\"dn\": groupData[0],\n",
    "\t\t\t\"members\": [ f\"cn={groupMember},ou=users,{ldapBaseDN}\" for groupMember in groupData[1].split(\";\")],\n",
    "\t\t}\n",
    "\n",
    "\t\tgroupList.append(group)\n",
    "\treturn groupList\n",
    "\n",
    "\n",
    "# add all groups\n",
    "def createGroups(ldapConnection, groupList):\n",
    "\n",
    "\tfor groupElem in groupList:\n",
    "\t\taddGroup = ldapConnection.add(\n",
    "\t\t\tdn=f\"cn={groupElem['dn']},ou=groups,dc=fairscape,dc=net\",\n",
    "\t\t\tattributes={\n",
    "\t\t\t\"objectClass\": \"groupOfNames\", \n",
    "\t\t\t\t\"cn\": groupElem['dn'], \n",
    "\t\t\t\t\"member\": groupElem['members']\n",
    "\t\t\t}\n",
    "\t\t)\n",
    "\t\tldapSetupLogger.info(f\"added group\\tsuccess:{addGroup}\\tgroup: {groupElem['dn']}\")\n",
    "\n",
    "\n",
    "# spot test that members have the memberOf\n",
    "def spotCheck(ldapConnection):\n",
    "\tldapConnection.rebind()\n",
    "\n",
    "\tldapConnection.search(\n",
    "\t\tsearch_base=\"ou=users,dc=fairscape,dc=net\",\t\n",
    "\t\tsearch_scope=ldap3.SUBTREE,\n",
    "\t\tsearch_filter='(objectClass=*)',\n",
    "\t\tattributes=['*', 'memberOf']\n",
    "\t)\n",
    "\n",
    "\tldapConnection.entries"
   ]
  },
  {
   "cell_type": "code",
   "execution_count": 165,
   "metadata": {},
   "outputs": [
    {
     "data": {
      "text/plain": [
       "True"
      ]
     },
     "execution_count": 165,
     "metadata": {},
     "output_type": "execute_result"
    }
   ],
   "source": []
  },
  {
   "cell_type": "code",
   "execution_count": 136,
   "metadata": {},
   "outputs": [
    {
     "name": "stdout",
     "output_type": "stream",
     "text": [
      "Help on method add in module ldap3.core.connection:\n",
      "\n",
      "add(dn, object_class=None, attributes=None, controls=None) method of ldap3.core.connection.Connection instance\n",
      "    Add dn to the DIT, object_class is None, a class name or a list\n",
      "    of class names.\n",
      "    \n",
      "    Attributes is a dictionary in the form 'attr': 'val' or 'attr':\n",
      "    ['val1', 'val2', ...] for multivalued attributes\n",
      "\n"
     ]
    }
   ],
   "source": [
    "help(adminConnection.add)"
   ]
  },
  {
   "cell_type": "code",
   "execution_count": 166,
   "metadata": {},
   "outputs": [],
   "source": []
  },
  {
   "cell_type": "code",
   "execution_count": 167,
   "metadata": {},
   "outputs": [],
   "source": []
  },
  {
   "cell_type": "code",
   "execution_count": 138,
   "metadata": {},
   "outputs": [
    {
     "name": "stdout",
     "output_type": "stream",
     "text": [
      "Help on function addFairscapeUser in module __main__:\n",
      "\n",
      "addFairscapeUser(ldapConnection, userCN: str, userSN: str, userGN: str, userMail: str, userPassword: str)\n",
      "    # add user\n",
      "\n"
     ]
    }
   ],
   "source": [
    "help(addFairscapeUser)"
   ]
  },
  {
   "cell_type": "code",
   "execution_count": 140,
   "metadata": {},
   "outputs": [],
   "source": []
  },
  {
   "cell_type": "code",
   "execution_count": null,
   "metadata": {},
   "outputs": [],
   "source": [
    "str"
   ]
  },
  {
   "cell_type": "code",
   "execution_count": 168,
   "metadata": {},
   "outputs": [],
   "source": []
  },
  {
   "cell_type": "code",
   "execution_count": 169,
   "metadata": {},
   "outputs": [
    {
     "data": {
      "text/plain": [
       "[{'dn': 'admins', 'members': ['cn=johndoe,ou=users,dc=fairscape,dc=net']},\n",
       " {'dn': 'fictional',\n",
       "  'members': ['cn=johndoe,ou=users,dc=fairscape,dc=net',\n",
       "   'cn=maxheadroom,ou=users,dc=fairscape,dc=net']},\n",
       " {'dn': 'adultswim',\n",
       "  'members': ['cn=tim,ou=users,dc=fairscape,dc=net',\n",
       "   'cn=eric,ou=users,dc=fairscape,dc=net',\n",
       "   'cn=ericandre,ou=users,dc=fairscape,dc=net']}]"
      ]
     },
     "execution_count": 169,
     "metadata": {},
     "output_type": "execute_result"
    }
   ],
   "source": []
  },
  {
   "cell_type": "code",
   "execution_count": 145,
   "metadata": {},
   "outputs": [],
   "source": [
    "groupElem = group"
   ]
  },
  {
   "cell_type": "code",
   "execution_count": 170,
   "metadata": {},
   "outputs": [],
   "source": []
  },
  {
   "cell_type": "code",
   "execution_count": 175,
   "metadata": {},
   "outputs": [
    {
     "data": {
      "text/plain": [
       "True"
      ]
     },
     "execution_count": 175,
     "metadata": {},
     "output_type": "execute_result"
    }
   ],
   "source": []
  },
  {
   "cell_type": "code",
   "execution_count": 176,
   "metadata": {},
   "outputs": [
    {
     "data": {
      "text/plain": [
       "[DN: ou=users,dc=fairscape,dc=net - STATUS: Read - READ TIME: 2024-10-18T13:41:13.172845\n",
       "     objectClass: organizationalUnit\n",
       "     ou: users,\n",
       " DN: cn=tim,ou=users,dc=fairscape,dc=net - STATUS: Read - READ TIME: 2024-10-18T13:41:13.172845\n",
       "     cn: tim\n",
       "     givenName: tim\n",
       "     mail: tim_heidecker@example.org\n",
       "     memberOf: cn=adultswim,ou=groups,dc=fairscape,dc=net\n",
       "     objectClass: inetOrgPerson\n",
       "                  person\n",
       "     sn: heidecker\n",
       "     userPassword: b'timanderic',\n",
       " DN: cn=eric,ou=users,dc=fairscape,dc=net - STATUS: Read - READ TIME: 2024-10-18T13:41:13.172845\n",
       "     cn: eric\n",
       "     givenName: eric\n",
       "     mail: eric_weirheim@example.rog\n",
       "     memberOf: cn=adultswim,ou=groups,dc=fairscape,dc=net\n",
       "     objectClass: inetOrgPerson\n",
       "                  person\n",
       "     sn: weirheim\n",
       "     userPassword: b'ericandtim',\n",
       " DN: cn=admins,ou=users,dc=fairscape,dc=net - STATUS: Read - READ TIME: 2024-10-18T13:41:13.172845\n",
       "     cn: admins\n",
       "     member: cn=fairscapeUser,ou=users,dc=fairscape,dc=net\n",
       "     objectClass: groupOfNames,\n",
       " DN: cn=johndoe,ou=users,dc=fairscape,dc=net - STATUS: Read - READ TIME: 2024-10-18T13:41:13.172845\n",
       "     cn: johndoe\n",
       "     givenName: john\n",
       "     mail: jdoe@example.org\n",
       "     memberOf: cn=admins,ou=groups,dc=fairscape,dc=net\n",
       "               cn=fictional,ou=groups,dc=fairscape,dc=net\n",
       "     objectClass: inetOrgPerson\n",
       "                  person\n",
       "     sn: doe\n",
       "     userPassword: b'examplepassword',\n",
       " DN: cn=ericandre,ou=users,dc=fairscape,dc=net - STATUS: Read - READ TIME: 2024-10-18T13:41:13.172845\n",
       "     cn: ericandre\n",
       "     givenName: eric\n",
       "     mail: eric_andre@example.org\n",
       "     memberOf: cn=adultswim,ou=groups,dc=fairscape,dc=net\n",
       "     objectClass: inetOrgPerson\n",
       "                  person\n",
       "     sn: andre\n",
       "     userPassword: b'birdup',\n",
       " DN: cn=maxheadroom,ou=users,dc=fairscape,dc=net - STATUS: Read - READ TIME: 2024-10-18T13:41:13.172845\n",
       "     cn: maxheadroom\n",
       "     givenName: max\n",
       "     mail: max_headroom@example.org\n",
       "     memberOf: cn=fictional,ou=groups,dc=fairscape,dc=net\n",
       "     objectClass: inetOrgPerson\n",
       "                  person\n",
       "     sn: headroom\n",
       "     userPassword: b'testpassword',\n",
       " DN: cn=fairscapeUser,ou=users,dc=fairscape,dc=net - STATUS: Read - READ TIME: 2024-10-18T13:41:13.172845\n",
       "     cn: User1\n",
       "         fairscapeUser\n",
       "     gidNumber: 1000\n",
       "     homeDirectory: /home/fairscapeUser\n",
       "     objectClass: inetOrgPerson\n",
       "                  posixAccount\n",
       "                  shadowAccount\n",
       "     sn: Bar1\n",
       "     uid: fairscapeUser\n",
       "     uidNumber: 1000\n",
       "     userPassword: b'fairscapePass']"
      ]
     },
     "execution_count": 176,
     "metadata": {},
     "output_type": "execute_result"
    }
   ],
   "source": [
    "adminConnection.entries"
   ]
  },
  {
   "cell_type": "code",
   "execution_count": null,
   "metadata": {},
   "outputs": [],
   "source": [
    "# if already exists raises\n",
    "# ldap3.core.exceptions.LDAPEntryAlreadyExistsResult"
   ]
  },
  {
   "cell_type": "code",
   "execution_count": null,
   "metadata": {},
   "outputs": [],
   "source": [
    "def getConfig():\n",
    "\tconfigValues = dotenv_values(dotenv_path=\"./setup.env\")"
   ]
  },
  {
   "cell_type": "code",
   "execution_count": null,
   "metadata": {},
   "outputs": [],
   "source": []
  }
 ],
 "metadata": {
  "kernelspec": {
   "display_name": "base",
   "language": "python",
   "name": "python3"
  },
  "language_info": {
   "codemirror_mode": {
    "name": "ipython",
    "version": 3
   },
   "file_extension": ".py",
   "mimetype": "text/x-python",
   "name": "python",
   "nbconvert_exporter": "python",
   "pygments_lexer": "ipython3",
   "version": "3.11.4"
  }
 },
 "nbformat": 4,
 "nbformat_minor": 2
}
