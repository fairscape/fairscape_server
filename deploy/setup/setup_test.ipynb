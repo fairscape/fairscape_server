{
 "cells": [
  {
   "cell_type": "code",
   "execution_count": 107,
   "metadata": {},
   "outputs": [],
   "source": [
    "import minio\n",
    "import ldap3\n",
    "from dotenv import dotenv_values\n",
    "import logging"
   ]
  },
  {
   "cell_type": "code",
   "execution_count": 108,
   "metadata": {},
   "outputs": [],
   "source": [
    "ldapSetupLogger = logging.getLogger('ldapSetup')"
   ]
  },
  {
   "cell_type": "code",
   "execution_count": 109,
   "metadata": {},
   "outputs": [],
   "source": [
    "configValues = dotenv_values(dotenv_path=\"./setup.env\")\n",
    "\n",
    "# create an admin connection to ldap3\n",
    "ldapServerURI = f\"ldap://{configValues['FAIRSCAPE_LDAP_HOST']}:{configValues['FAIRSCAPE_LDAP_PORT']}\" \n",
    "#ldapServer = ldap3.Server(ldapServerURI)\n",
    "\n",
    "# for tests\n",
    "ldapServerURI = \"ldap://localhost:1389\"\n",
    "\n",
    "\n",
    "ldapBaseDN = configValues['FAIRSCAPE_LDAP_BASE_DN']\n",
    "ldapUsersDN = configValues['FAIRSCAPE_LDAP_USERS_DN']\n",
    "ldapGroupsDN = configValues['FAIRSCAPE_LDAP_GROUPS_DN']\n",
    "\n",
    "configAdminDN = configValues['FAIRSCAPE_LDAP_CONFIG_ADMIN_DN']\n",
    "configAdminPassword = configValues['FAIRSCAPE_LDAP_CONFIG_ADMIN_PASSWORD']\n",
    "\n",
    "adminDN = configValues['FAIRSCAPE_LDAP_ADMIN_DN']\n",
    "adminPassword = configValues['FAIRSCAPE_LDAP_ADMIN_PASSWORD']\n"
   ]
  },
  {
   "cell_type": "code",
   "execution_count": 110,
   "metadata": {},
   "outputs": [
    {
     "data": {
      "text/plain": [
       "'cn=configadmin,cn=config'"
      ]
     },
     "execution_count": 110,
     "metadata": {},
     "output_type": "execute_result"
    }
   ],
   "source": [
    "configValues['FAIRSCAPE_LDAP_CONFIG_ADMIN_DN']"
   ]
  },
  {
   "cell_type": "markdown",
   "metadata": {},
   "source": []
  },
  {
   "cell_type": "markdown",
   "metadata": {},
   "source": [
    "\n",
    "`docker run --restart always --name openldap --env-file ./deploy/ldap.env -p 1389:1389 bitnami/openldap:latest`\n",
    "\n",
    "LDAP_SKIP_DEFAULT_TREE=\"no\""
   ]
  },
  {
   "cell_type": "code",
   "execution_count": 111,
   "metadata": {},
   "outputs": [],
   "source": [
    "# exceptions\n",
    "\n",
    "# connect as the config admin\n",
    "class LDAPConnectionError(Exception):\n",
    "\tdef __init__(self,exception: Exception | None=None, message: str=\"failed to connect to ldap\"):\n",
    "\n",
    "\t\tself.message = message\n",
    "\t\tself.exception = exception\n",
    "\t\tsuper().__init__(self.message)\n"
   ]
  },
  {
   "cell_type": "code",
   "execution_count": 112,
   "metadata": {},
   "outputs": [],
   "source": [
    "# helper utilities\n",
    "\n",
    "def connectLDAP(userDN, userPassword):\n",
    "\ttry:\n",
    "\t\tserver = ldap3.Server(ldapServerURI, get_info=ldap3.ALL)\n",
    "\t\tconnection = ldap3.Connection(server,          \n",
    "\t\t\tuser=userDN, \n",
    "\t\t\tpassword=userPassword,\n",
    "\t\t\tlazy=False\n",
    "\t\t\t) \n",
    "\t\tbind_response = connection.bind()\n",
    "\t\tif bind_response:\n",
    "\t\t\tldapSetupLogger.info(f\"msg: 'connected to LDAP server'\\tserver: '{ldapServerURI}'\\tuserDN: '{userDN}'\")\n",
    "\t\treturn connection\n",
    "\t\n",
    "\texcept ldap3.core.exceptions.LDAPBindError as bindError:\n",
    "\t\tldapSetupLogger.error(f\"msg: 'ldap bind error'\\tserver: '{ldapServerURI}'\\tuserDN: '{userDN}'\")\n",
    "\t\traise LDAPConnectionError(\n",
    "\t\t\texception=bindError, \n",
    "\t\t\tmessage=\"ldap bind error\"\n",
    "\t\t\t) \n",
    "\n",
    "\texcept ldap3.core.exceptions.LDAPSocketOpenError as connError:\n",
    "\t\tldapSetupLogger.error(f\"msg: 'ldap failed to open connection'\\tserver: '{ldapServerURI}'\\tuserDN: '{userDN}'\")\n",
    "\t\traise LDAPConnectionError(\n",
    "\t\t\texception=connError, \n",
    "\t\t\tmessage=f\"ldap connection error: failed to open connection at {ldapServerURI}\"\n",
    "\t\t\t) \n",
    "\n",
    "\texcept ldap3.core.exceptions.LDAPException as ldapException:\n",
    "\t\tldapSetupLogger.error(f\"msg: 'ldap exception'\\tserver: '{ldapServerURI}'\\tuserDN: '{userDN}'\")\n",
    "\t\traise LDAPConnectionError(\n",
    "\t\t\texception=ldapException, \n",
    "\t\t\tmessage=f\"ldap error: {str(ldapException)}\"\n",
    "\t\t\t)"
   ]
  },
  {
   "cell_type": "code",
   "execution_count": 99,
   "metadata": {},
   "outputs": [],
   "source": []
  },
  {
   "cell_type": "code",
   "execution_count": null,
   "metadata": {},
   "outputs": [],
   "source": []
  },
  {
   "cell_type": "code",
   "execution_count": 113,
   "metadata": {},
   "outputs": [],
   "source": [
    "def setupOverlay():\n",
    "    # connect as the config admin\n",
    "    configAdminConnection =connectLDAP(\n",
    "        userDN=configAdminDN,\n",
    "        userPassword=configAdminPassword\n",
    "        )\n",
    "\n",
    "    # add the module list to the config database \n",
    "    addModuleList = configAdminConnection.add(\n",
    "        dn=\"cn=module,cn=config\",\n",
    "        attributes={\n",
    "            \"objectClass\": \"olcModuleList\",\n",
    "            \"olcModuleLoad\": [ \"memberof.so\", \"refint.so\"],\n",
    "            \"olcModulePath\": \"/opt/bitnami/openldap/lib/openldap\"\n",
    "        }\n",
    "    )\n",
    "\n",
    "    if not addModuleList:\n",
    "        ldapSetupLogger.error(msg=\"msg: failed to add module list to config database\")\n",
    "        raise Exception(\"Setup Failed\")\n",
    "\n",
    "    configAdminConnection.rebind()\n",
    "\n",
    "    try:\n",
    "        ldap3.ObjectDef(['olcMemberOf'], configAdminConnection)\n",
    "\n",
    "    except ldap3.core.exceptions.LDAPSchemaError as schemaError:\n",
    "        ldapSetupLogger.error(\"failed to find olcMemberOf schema\")\n",
    "        raise Exception(\"Setup Failed\")\n",
    "\n",
    "\n",
    "    memberOfOverlayDN=\"olcOverlay={0}memberof,olcDatabase={2}mdb,cn=config\"\n",
    "    memberOfOverlayAttributes={\n",
    "        \"objectClass\": [ \"olcOverlayConfig\", \"olcMemberOf\"],\n",
    "        \"olcOverlay\": \"memberof\",\n",
    "        \"olcMemberOfRefInt\": \"TRUE\",\n",
    "    }\n",
    "\n",
    "    addOverlay = configAdminConnection.add(\n",
    "        dn=memberOfOverlayDN,\n",
    "        attributes=memberOfOverlayAttributes,\n",
    "    )\n",
    "\n",
    "\n",
    "    configAdminConnection.rebind()\n",
    "\n",
    "    if not addOverlay:\n",
    "        overlayAppliedResult = configAdminConnection.search(\n",
    "            search_base=\"olcDatabase={2}mdb,cn=config\",\n",
    "            search_scope=ldap3.SUBTREE,\n",
    "            search_filter=\"(objectClass=olcOverlayConfig)\"\n",
    "        )\n",
    "\n",
    "        if not overlayAppliedResult:\n",
    "            ldapSetupLogger.error(\"failed to find applied memberOf overlay\")\n",
    "            raise Exception(\"ldap setup failure\")"
   ]
  },
  {
   "cell_type": "code",
   "execution_count": 114,
   "metadata": {},
   "outputs": [],
   "source": [
    "setupOverlay()"
   ]
  },
  {
   "cell_type": "code",
   "execution_count": 100,
   "metadata": {},
   "outputs": [
    {
     "data": {
      "text/plain": [
       "True"
      ]
     },
     "execution_count": 100,
     "metadata": {},
     "output_type": "execute_result"
    }
   ],
   "source": [
    "def setupFairscape():\n",
    "\tpass\n",
    "\n",
    "\n"
   ]
  },
  {
   "cell_type": "code",
   "execution_count": null,
   "metadata": {},
   "outputs": [],
   "source": [
    "# if already exists raises\n",
    "# ldap3.core.exceptions.LDAPEntryAlreadyExistsResult"
   ]
  },
  {
   "cell_type": "code",
   "execution_count": null,
   "metadata": {},
   "outputs": [],
   "source": [
    "def getConfig():\n",
    "\tconfigValues = dotenv_values(dotenv_path=\"./setup.env\")"
   ]
  },
  {
   "cell_type": "code",
   "execution_count": null,
   "metadata": {},
   "outputs": [],
   "source": []
  }
 ],
 "metadata": {
  "kernelspec": {
   "display_name": "base",
   "language": "python",
   "name": "python3"
  },
  "language_info": {
   "codemirror_mode": {
    "name": "ipython",
    "version": 3
   },
   "file_extension": ".py",
   "mimetype": "text/x-python",
   "name": "python",
   "nbconvert_exporter": "python",
   "pygments_lexer": "ipython3",
   "version": "3.11.4"
  }
 },
 "nbformat": 4,
 "nbformat_minor": 2
}
