{
 "cells": [
  {
   "cell_type": "code",
   "metadata": {
    "pycharm": {
     "name": "#%%\n"
    }
   },
   "source": [
    "# Fairscape Metadata Service (mds) API Tests"
   ],
   "outputs": [],
   "execution_count": 6
  },
  {
   "cell_type": "code",
   "execution_count": 7,
   "outputs": [],
   "source": [
    "import json\n",
    "import requests\n",
    "\n",
    "root_url = \"http://localhost:8000/\""
   ],
   "metadata": {
    "collapsed": false,
    "pycharm": {
     "name": "#%%\n"
    }
   }
  },
  {
   "cell_type": "markdown",
   "source": [
    "### CRUD Operations on users (/user)"
   ],
   "metadata": {
    "collapsed": false,
    "pycharm": {
     "name": "#%% md\n"
    }
   }
  },
  {
   "cell_type": "code",
   "execution_count": 8,
   "outputs": [],
   "source": [
    "user1_data = {\n",
    "\t\"@id\": \"ark:99999/test-user1\",\n",
    "\t\"name\": \"Test User1\",\n",
    "\t\"type\": \"Person\",\n",
    "\t\"email\": \"testuser1@example.org\",\n",
    "\t\"password\": \"test1\",\n",
    "\t\"organizations\": [],\n",
    "\t\"software\": []\n",
    "\t}\n",
    "user2_data = {\n",
    "\t\"@id\": \"ark:99999/test-user2\",\n",
    "\t\"name\": \"Test User2\",\n",
    "\t\"type\": \"Person\",\n",
    "\t\"email\": \"testuser2@example.org\",\n",
    "\t\"password\": \"test2\",\n",
    "\t\"organizations\": [],\n",
    "\t\"software\": []\n",
    "\t}\n",
    "user3_data = {\n",
    "\t\"@id\": \"ark:99999/test-user3\",\n",
    "\t\"name\": \"Test User3\",\n",
    "\t\"type\": \"Person\",\n",
    "\t\"email\": \"testuser3@example.org\",\n",
    "\t\"password\": \"test3\",\n",
    "\t\"organizations\": [],\n",
    "\t\"software\": []\n",
    "\t}"
   ],
   "metadata": {
    "collapsed": false,
    "pycharm": {
     "name": "#%%\n"
    }
   }
  },
  {
   "cell_type": "code",
   "execution_count": 9,
   "outputs": [
    {
     "data": {
      "text/plain": "{'created': {'@id': 'ark:99999/test-user3', 'type': 'Person'}}"
     },
     "execution_count": 9,
     "metadata": {},
     "output_type": "execute_result"
    }
   ],
   "source": [
    "# create user1\n",
    "create_user1 = requests.post(root_url + \"user\", data=json.dumps(user1_data))\n",
    "create_user1.json()\n",
    "\n",
    "# create user2\n",
    "create_user2 = requests.post(root_url + \"user\", data=json.dumps(user2_data))\n",
    "create_user2.json()\n",
    "\n",
    "# create user2\n",
    "create_user3 = requests.post(root_url + \"user\", data=json.dumps(user3_data))\n",
    "create_user3.json()"
   ],
   "metadata": {
    "collapsed": false,
    "pycharm": {
     "name": "#%%\n"
    }
   }
  },
  {
   "cell_type": "code",
   "execution_count": 10,
   "outputs": [
    {
     "data": {
      "text/plain": "[{'@id': 'ark:99999/test-user1', 'name': 'Test User1'},\n {'@id': 'ark:99999/test-user2', 'name': 'Test User2'},\n {'@id': 'ark:99999/test-user3', 'name': 'Test User3'}]"
     },
     "execution_count": 10,
     "metadata": {},
     "output_type": "execute_result"
    }
   ],
   "source": [
    "# list users\n",
    "list_users = requests.get(root_url + \"user\")\n",
    "list_users.json()"
   ],
   "metadata": {
    "collapsed": false,
    "pycharm": {
     "name": "#%%\n"
    }
   }
  },
  {
   "cell_type": "code",
   "execution_count": 11,
   "outputs": [
    {
     "data": {
      "text/plain": "{'@id': 'ark:99999/test-user1',\n '@type': 'Person',\n 'organizations': [],\n 'software': [],\n '@context': {'@vocab': 'https://schema.org/', 'evi': 'https://w3id.org/EVI#'},\n 'name': 'Test User1',\n 'email': 'testuser1@example.org',\n 'password': 'test1',\n 'projects': []}"
     },
     "execution_count": 11,
     "metadata": {},
     "output_type": "execute_result"
    }
   ],
   "source": [
    "# read specific user\n",
    "get_user = requests.get(root_url + f\"user/{user1_data['@id']}\")\n",
    "get_user.json()"
   ],
   "metadata": {
    "collapsed": false,
    "pycharm": {
     "name": "#%%\n"
    }
   }
  },
  {
   "cell_type": "code",
   "execution_count": 12,
   "outputs": [],
   "source": [
    "user1_data_update = {\n",
    "\t\"@id\": \"ark:99999/test-user1\",\n",
    "\t\"name\": \"Updated User1\", # with a new name\n",
    "\t\"type\": \"Person\",\n",
    "\t\"email\": \"testuser1@example.org\",\n",
    "\t\"password\": \"test1\",\n",
    "\t\"organizations\": [],\n",
    "\t\"software\": []\n",
    "\t}"
   ],
   "metadata": {
    "collapsed": false,
    "pycharm": {
     "name": "#%%\n"
    }
   }
  },
  {
   "cell_type": "code",
   "execution_count": 13,
   "outputs": [
    {
     "data": {
      "text/plain": "{'updated': {'@id': 'ark:99999/test-user1', '@type': 'Person'}}"
     },
     "execution_count": 13,
     "metadata": {},
     "output_type": "execute_result"
    }
   ],
   "source": [
    "# update user\n",
    "update_user = requests.put(root_url + \"user\", data=json.dumps(user1_data_update))\n",
    "update_user.json()"
   ],
   "metadata": {
    "collapsed": false,
    "pycharm": {
     "name": "#%%\n"
    }
   }
  },
  {
   "cell_type": "code",
   "execution_count": 14,
   "outputs": [
    {
     "data": {
      "text/plain": "{'deleted': {'@id': 'ark:99999/test-user2'}}"
     },
     "execution_count": 14,
     "metadata": {},
     "output_type": "execute_result"
    }
   ],
   "source": [
    "# delete user\n",
    "delete_user = requests.delete(root_url + f\"user/{user2_data['@id']}\")\n",
    "delete_user.json()"
   ],
   "metadata": {
    "collapsed": false,
    "pycharm": {
     "name": "#%%\n"
    }
   }
  },
  {
   "cell_type": "code",
   "execution_count": 15,
   "outputs": [
    {
     "data": {
      "text/plain": "[{'@id': 'ark:99999/test-user1', 'name': 'Updated User1'},\n {'@id': 'ark:99999/test-user3', 'name': 'Test User3'}]"
     },
     "execution_count": 15,
     "metadata": {},
     "output_type": "execute_result"
    }
   ],
   "source": [
    "# list users again to check success of the deletion\n",
    "list_users = requests.get(root_url + \"user\")\n",
    "list_users.json()"
   ],
   "metadata": {
    "collapsed": false,
    "pycharm": {
     "name": "#%%\n"
    }
   }
  },
  {
   "cell_type": "markdown",
   "source": [
    "### CRUD Operations on Group (/group)"
   ],
   "metadata": {
    "collapsed": false,
    "pycharm": {
     "name": "#%% md\n"
    }
   }
  },
  {
   "cell_type": "code",
   "execution_count": 16,
   "outputs": [
    {
     "data": {
      "text/plain": "{'created': {'@id': 'ark:99999/test-group', '@type': 'Organization'}}"
     },
     "execution_count": 16,
     "metadata": {},
     "output_type": "execute_result"
    }
   ],
   "source": [
    "# create group\n",
    "group_data = {\n",
    "\t\"@id\": \"ark:99999/test-group\",\n",
    "\t\"@type\": \"Organization\",\n",
    "\t\"name\": \"test group\",\n",
    "\t\"owner\": {\n",
    "\t\t\"@id\": \"ark:99999/test-user1\",\n",
    "\t\t\"@type\": \"Person\",\n",
    "\t\t\"name\": \"Test User1\",\n",
    "\t\t\"email\": \"testuser1@example.org\"\n",
    "\t\t},\n",
    "\t\"members\": [{\"@id\": \"ark:99999/test-user2\",\n",
    "\t\"name\": \"Test User2\",\n",
    "\t\"type\": \"Person\",\n",
    "\t\"email\": \"testuser2@example.org\"}],\n",
    "}\n",
    "\n",
    "\n",
    "group_create = requests.post(root_url + f\"group/\", data=json.dumps(group_data))\n",
    "group_create.json()"
   ],
   "metadata": {
    "collapsed": false,
    "pycharm": {
     "name": "#%%\n"
    }
   }
  },
  {
   "cell_type": "code",
   "execution_count": 17,
   "outputs": [
    {
     "data": {
      "text/plain": "[{'@id': 'ark:99999/test-group', 'name': 'test group'}]"
     },
     "execution_count": 17,
     "metadata": {},
     "output_type": "execute_result"
    }
   ],
   "source": [
    "# list groups\n",
    "list_groups = requests.get(root_url + \"group\")\n",
    "list_groups.json()"
   ],
   "metadata": {
    "collapsed": false,
    "pycharm": {
     "name": "#%%\n"
    }
   }
  },
  {
   "cell_type": "code",
   "execution_count": 18,
   "outputs": [
    {
     "data": {
      "text/plain": "{'@id': 'ark:99999/test-group',\n '@type': 'Organization',\n 'members': [],\n '@context': {'@vocab': 'https://schema.org/', 'evi': 'https://w3id.org/EVI#'},\n 'name': 'test group',\n 'owner': {'@id': 'ark:99999/test-user1',\n  '@type': 'Person',\n  'name': 'Test User1',\n  'email': 'testuser1@example.org'}}"
     },
     "execution_count": 18,
     "metadata": {},
     "output_type": "execute_result"
    }
   ],
   "source": [
    "# read specific group\n",
    "get_group = requests.get(root_url + f\"group/{group_data['@id']}\")\n",
    "get_group.json()"
   ],
   "metadata": {
    "collapsed": false,
    "pycharm": {
     "name": "#%%\n"
    }
   }
  },
  {
   "cell_type": "code",
   "execution_count": 19,
   "outputs": [],
   "source": [
    "group_data_update = {\n",
    "\t\"@id\": \"ark:99999/test-group\",\n",
    "\t\"@type\": \"Organization\",\n",
    "\t\"name\": \"Another test group\",\n",
    "\t\"owner\": {\n",
    "\t\t\"@id\": \"ark:99999/test-user1\",\n",
    "\t\t\"@type\": \"Person\",\n",
    "\t\t\"name\": \"Test User1\",\n",
    "\t\t\"email\": \"testuser@example.org\"\n",
    "\t\t},\n",
    "\t\"members\": [{'@id': 'ark:99999/test-user2',\n",
    "   '@type': 'Person',\n",
    "   'name': 'Test User2',\n",
    "   'email': 'testuser2@example.org'}],\n",
    "}"
   ],
   "metadata": {
    "collapsed": false,
    "pycharm": {
     "name": "#%%\n"
    }
   }
  },
  {
   "cell_type": "code",
   "execution_count": 20,
   "outputs": [
    {
     "data": {
      "text/plain": "{'updated': {'@id': 'ark:99999/test-group', '@type': 'Organization'}}"
     },
     "execution_count": 20,
     "metadata": {},
     "output_type": "execute_result"
    }
   ],
   "source": [
    "# update group\n",
    "update_group = requests.put(root_url + \"group\", data=json.dumps(group_data_update))\n",
    "update_group.json()"
   ],
   "metadata": {
    "collapsed": false,
    "pycharm": {
     "name": "#%%\n"
    }
   }
  },
  {
   "cell_type": "code",
   "execution_count": 21,
   "outputs": [
    {
     "data": {
      "text/plain": "{'deleted': {'@id': 'ark:99999/test-group'}}"
     },
     "execution_count": 21,
     "metadata": {},
     "output_type": "execute_result"
    }
   ],
   "source": [
    "# delete group\n",
    "delete_group = requests.delete(root_url + f\"group/{group_data['@id']}\")\n",
    "delete_group.json()"
   ],
   "metadata": {
    "collapsed": false,
    "pycharm": {
     "name": "#%%\n"
    }
   }
  },
  {
   "cell_type": "code",
   "execution_count": 22,
   "outputs": [
    {
     "ename": "JSONDecodeError",
     "evalue": "Expecting value: line 1 column 1 (char 0)",
     "output_type": "error",
     "traceback": [
      "\u001B[0;31m---------------------------------------------------------------------------\u001B[0m",
      "\u001B[0;31mJSONDecodeError\u001B[0m                           Traceback (most recent call last)",
      "Input \u001B[0;32mIn [22]\u001B[0m, in \u001B[0;36m<cell line: 5>\u001B[0;34m()\u001B[0m\n\u001B[1;32m      1\u001B[0m \u001B[38;5;66;03m# add user as a member of a group\u001B[39;00m\n\u001B[1;32m      2\u001B[0m \u001B[38;5;66;03m# Not working at the moment, response not correct, and inserted element can be redundant\u001B[39;00m\n\u001B[1;32m      4\u001B[0m group_add_user \u001B[38;5;241m=\u001B[39m requests\u001B[38;5;241m.\u001B[39mput(root_url \u001B[38;5;241m+\u001B[39m \u001B[38;5;124mf\u001B[39m\u001B[38;5;124m\"\u001B[39m\u001B[38;5;124mgroup/\u001B[39m\u001B[38;5;132;01m{\u001B[39;00muser3_data[\u001B[38;5;124m'\u001B[39m\u001B[38;5;124m@id\u001B[39m\u001B[38;5;124m'\u001B[39m]\u001B[38;5;132;01m}\u001B[39;00m\u001B[38;5;124m/addUser/\u001B[39m\u001B[38;5;124m\"\u001B[39m, data\u001B[38;5;241m=\u001B[39mjson\u001B[38;5;241m.\u001B[39mdumps(group_data))\n\u001B[0;32m----> 5\u001B[0m \u001B[43mgroup_add_user\u001B[49m\u001B[38;5;241;43m.\u001B[39;49m\u001B[43mjson\u001B[49m\u001B[43m(\u001B[49m\u001B[43m)\u001B[49m\n",
      "File \u001B[0;32m/usr/lib/python3/dist-packages/requests/models.py:897\u001B[0m, in \u001B[0;36mResponse.json\u001B[0;34m(self, **kwargs)\u001B[0m\n\u001B[1;32m    891\u001B[0m         \u001B[38;5;28;01mexcept\u001B[39;00m \u001B[38;5;167;01mUnicodeDecodeError\u001B[39;00m:\n\u001B[1;32m    892\u001B[0m             \u001B[38;5;66;03m# Wrong UTF codec detected; usually because it's not UTF-8\u001B[39;00m\n\u001B[1;32m    893\u001B[0m             \u001B[38;5;66;03m# but some other 8-bit codec.  This is an RFC violation,\u001B[39;00m\n\u001B[1;32m    894\u001B[0m             \u001B[38;5;66;03m# and the server didn't bother to tell us what codec *was*\u001B[39;00m\n\u001B[1;32m    895\u001B[0m             \u001B[38;5;66;03m# used.\u001B[39;00m\n\u001B[1;32m    896\u001B[0m             \u001B[38;5;28;01mpass\u001B[39;00m\n\u001B[0;32m--> 897\u001B[0m \u001B[38;5;28;01mreturn\u001B[39;00m \u001B[43mcomplexjson\u001B[49m\u001B[38;5;241;43m.\u001B[39;49m\u001B[43mloads\u001B[49m\u001B[43m(\u001B[49m\u001B[38;5;28;43mself\u001B[39;49m\u001B[38;5;241;43m.\u001B[39;49m\u001B[43mtext\u001B[49m\u001B[43m,\u001B[49m\u001B[43m \u001B[49m\u001B[38;5;241;43m*\u001B[39;49m\u001B[38;5;241;43m*\u001B[39;49m\u001B[43mkwargs\u001B[49m\u001B[43m)\u001B[49m\n",
      "File \u001B[0;32m/usr/lib/python3/dist-packages/simplejson/__init__.py:518\u001B[0m, in \u001B[0;36mloads\u001B[0;34m(s, encoding, cls, object_hook, parse_float, parse_int, parse_constant, object_pairs_hook, use_decimal, **kw)\u001B[0m\n\u001B[1;32m    467\u001B[0m \u001B[38;5;124;03m\"\"\"Deserialize ``s`` (a ``str`` or ``unicode`` instance containing a JSON\u001B[39;00m\n\u001B[1;32m    468\u001B[0m \u001B[38;5;124;03mdocument) to a Python object.\u001B[39;00m\n\u001B[1;32m    469\u001B[0m \n\u001B[0;32m   (...)\u001B[0m\n\u001B[1;32m    512\u001B[0m \n\u001B[1;32m    513\u001B[0m \u001B[38;5;124;03m\"\"\"\u001B[39;00m\n\u001B[1;32m    514\u001B[0m \u001B[38;5;28;01mif\u001B[39;00m (\u001B[38;5;28mcls\u001B[39m \u001B[38;5;129;01mis\u001B[39;00m \u001B[38;5;28;01mNone\u001B[39;00m \u001B[38;5;129;01mand\u001B[39;00m encoding \u001B[38;5;129;01mis\u001B[39;00m \u001B[38;5;28;01mNone\u001B[39;00m \u001B[38;5;129;01mand\u001B[39;00m object_hook \u001B[38;5;129;01mis\u001B[39;00m \u001B[38;5;28;01mNone\u001B[39;00m \u001B[38;5;129;01mand\u001B[39;00m\n\u001B[1;32m    515\u001B[0m         parse_int \u001B[38;5;129;01mis\u001B[39;00m \u001B[38;5;28;01mNone\u001B[39;00m \u001B[38;5;129;01mand\u001B[39;00m parse_float \u001B[38;5;129;01mis\u001B[39;00m \u001B[38;5;28;01mNone\u001B[39;00m \u001B[38;5;129;01mand\u001B[39;00m\n\u001B[1;32m    516\u001B[0m         parse_constant \u001B[38;5;129;01mis\u001B[39;00m \u001B[38;5;28;01mNone\u001B[39;00m \u001B[38;5;129;01mand\u001B[39;00m object_pairs_hook \u001B[38;5;129;01mis\u001B[39;00m \u001B[38;5;28;01mNone\u001B[39;00m\n\u001B[1;32m    517\u001B[0m         \u001B[38;5;129;01mand\u001B[39;00m \u001B[38;5;129;01mnot\u001B[39;00m use_decimal \u001B[38;5;129;01mand\u001B[39;00m \u001B[38;5;129;01mnot\u001B[39;00m kw):\n\u001B[0;32m--> 518\u001B[0m     \u001B[38;5;28;01mreturn\u001B[39;00m \u001B[43m_default_decoder\u001B[49m\u001B[38;5;241;43m.\u001B[39;49m\u001B[43mdecode\u001B[49m\u001B[43m(\u001B[49m\u001B[43ms\u001B[49m\u001B[43m)\u001B[49m\n\u001B[1;32m    519\u001B[0m \u001B[38;5;28;01mif\u001B[39;00m \u001B[38;5;28mcls\u001B[39m \u001B[38;5;129;01mis\u001B[39;00m \u001B[38;5;28;01mNone\u001B[39;00m:\n\u001B[1;32m    520\u001B[0m     \u001B[38;5;28mcls\u001B[39m \u001B[38;5;241m=\u001B[39m JSONDecoder\n",
      "File \u001B[0;32m/usr/lib/python3/dist-packages/simplejson/decoder.py:370\u001B[0m, in \u001B[0;36mJSONDecoder.decode\u001B[0;34m(self, s, _w, _PY3)\u001B[0m\n\u001B[1;32m    368\u001B[0m \u001B[38;5;28;01mif\u001B[39;00m _PY3 \u001B[38;5;129;01mand\u001B[39;00m \u001B[38;5;28misinstance\u001B[39m(s, \u001B[38;5;28mbytes\u001B[39m):\n\u001B[1;32m    369\u001B[0m     s \u001B[38;5;241m=\u001B[39m \u001B[38;5;28mstr\u001B[39m(s, \u001B[38;5;28mself\u001B[39m\u001B[38;5;241m.\u001B[39mencoding)\n\u001B[0;32m--> 370\u001B[0m obj, end \u001B[38;5;241m=\u001B[39m \u001B[38;5;28;43mself\u001B[39;49m\u001B[38;5;241;43m.\u001B[39;49m\u001B[43mraw_decode\u001B[49m\u001B[43m(\u001B[49m\u001B[43ms\u001B[49m\u001B[43m)\u001B[49m\n\u001B[1;32m    371\u001B[0m end \u001B[38;5;241m=\u001B[39m _w(s, end)\u001B[38;5;241m.\u001B[39mend()\n\u001B[1;32m    372\u001B[0m \u001B[38;5;28;01mif\u001B[39;00m end \u001B[38;5;241m!=\u001B[39m \u001B[38;5;28mlen\u001B[39m(s):\n",
      "File \u001B[0;32m/usr/lib/python3/dist-packages/simplejson/decoder.py:400\u001B[0m, in \u001B[0;36mJSONDecoder.raw_decode\u001B[0;34m(self, s, idx, _w, _PY3)\u001B[0m\n\u001B[1;32m    398\u001B[0m     \u001B[38;5;28;01melif\u001B[39;00m ord0 \u001B[38;5;241m==\u001B[39m \u001B[38;5;241m0xef\u001B[39m \u001B[38;5;129;01mand\u001B[39;00m s[idx:idx \u001B[38;5;241m+\u001B[39m \u001B[38;5;241m3\u001B[39m] \u001B[38;5;241m==\u001B[39m \u001B[38;5;124m'\u001B[39m\u001B[38;5;130;01m\\xef\u001B[39;00m\u001B[38;5;130;01m\\xbb\u001B[39;00m\u001B[38;5;130;01m\\xbf\u001B[39;00m\u001B[38;5;124m'\u001B[39m:\n\u001B[1;32m    399\u001B[0m         idx \u001B[38;5;241m+\u001B[39m\u001B[38;5;241m=\u001B[39m \u001B[38;5;241m3\u001B[39m\n\u001B[0;32m--> 400\u001B[0m \u001B[38;5;28;01mreturn\u001B[39;00m \u001B[38;5;28;43mself\u001B[39;49m\u001B[38;5;241;43m.\u001B[39;49m\u001B[43mscan_once\u001B[49m\u001B[43m(\u001B[49m\u001B[43ms\u001B[49m\u001B[43m,\u001B[49m\u001B[43m \u001B[49m\u001B[43midx\u001B[49m\u001B[38;5;241;43m=\u001B[39;49m\u001B[43m_w\u001B[49m\u001B[43m(\u001B[49m\u001B[43ms\u001B[49m\u001B[43m,\u001B[49m\u001B[43m \u001B[49m\u001B[43midx\u001B[49m\u001B[43m)\u001B[49m\u001B[38;5;241;43m.\u001B[39;49m\u001B[43mend\u001B[49m\u001B[43m(\u001B[49m\u001B[43m)\u001B[49m\u001B[43m)\u001B[49m\n",
      "\u001B[0;31mJSONDecodeError\u001B[0m: Expecting value: line 1 column 1 (char 0)"
     ]
    }
   ],
   "source": [
    "# add user as a member of a group\n",
    "# Not working at the moment, response not correct, and inserted element can be redundant\n",
    "\n",
    "group_add_user = requests.put(root_url + f\"group/{user3_data['@id']}/addUser/\", data=json.dumps(group_data))\n",
    "group_add_user.json()"
   ],
   "metadata": {
    "collapsed": false,
    "pycharm": {
     "name": "#%%\n"
    }
   }
  },
  {
   "cell_type": "code",
   "execution_count": null,
   "outputs": [],
   "source": [],
   "metadata": {
    "collapsed": false,
    "pycharm": {
     "name": "#%%\n"
    }
   }
  }
 ],
 "metadata": {
  "interpreter": {
   "hash": "9e49e9e5b94ffbcf92b38e6bbae369d81093e2039295ffe956729ef7e2f8d3e1"
  },
  "kernelspec": {
   "display_name": "Python 3.9.7 ('base')",
   "language": "python",
   "name": "python3"
  },
  "language_info": {
   "codemirror_mode": {
    "name": "ipython",
    "version": 3
   },
   "file_extension": ".py",
   "mimetype": "text/x-python",
   "name": "python",
   "nbconvert_exporter": "python",
   "pygments_lexer": "ipython3",
   "version": "3.9.7"
  },
  "orig_nbformat": 4
 },
 "nbformat": 4,
 "nbformat_minor": 2
}