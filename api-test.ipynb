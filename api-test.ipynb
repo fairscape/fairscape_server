{
 "cells": [
  {
   "cell_type": "markdown",
   "metadata": {},
   "source": [
    "# MDS API Tests"
   ]
  },
  {
   "cell_type": "code",
   "execution_count": 14,
   "metadata": {},
   "outputs": [],
   "source": [
    "import requests\n",
    "import json\n",
    "\n",
    "root_url = \"http://127.0.0.1:8000/\""
   ]
  },
  {
   "cell_type": "code",
   "execution_count": 19,
   "metadata": {},
   "outputs": [
    {
     "data": {
      "text/plain": [
       "{'created': {'@id': 'ark:99999/test-user', '@type': 'Person'}}"
      ]
     },
     "execution_count": 19,
     "metadata": {},
     "output_type": "execute_result"
    }
   ],
   "source": [
    "user_data = {\n",
    "\t\"@id\": \"ark:99999/test-user\",\n",
    "\t\"name\": \"Test User\",\n",
    "\t\"type\": \"Person\",\n",
    "\t\"email\": \"test@example.org\",\n",
    "\t\"password\": \"test\",\n",
    "\t\"is_admin\": False,\n",
    "\t\"organizations\": [],\n",
    "\t\"datasets\": [],\n",
    "\t\"projects\": [],\n",
    "\t\"software\": [],\n",
    "\t\"computations\": []\n",
    "\t}\t\n",
    "\n",
    "# create user\n",
    "create_user = requests.post(root_url + \"user\", data=json.dumps(user_data))\n",
    "create_user.json()"
   ]
  },
  {
   "cell_type": "code",
   "execution_count": 20,
   "metadata": {},
   "outputs": [
    {
     "data": {
      "text/plain": [
       "[{'@id': 'ark:99999/test-user', 'name': 'Test User'}]"
      ]
     },
     "execution_count": 20,
     "metadata": {},
     "output_type": "execute_result"
    }
   ],
   "source": [
    "# list users\n",
    "list_users = requests.get(root_url + \"user\")\n",
    "list_users.json()"
   ]
  },
  {
   "cell_type": "code",
   "execution_count": 17,
   "metadata": {},
   "outputs": [
    {
     "data": {
      "text/plain": [
       "{'@id': 'ark:99999/test-user',\n",
       " '@type': 'Person',\n",
       " 'organizations': [],\n",
       " 'projects': [],\n",
       " 'datasets': [],\n",
       " 'software': [],\n",
       " 'computations': [],\n",
       " '@context': {'@vocab': 'https://schema.org/', 'evi': 'https://w3id.org/EVI#'},\n",
       " 'name': 'Test User',\n",
       " 'email': 'test@example.org',\n",
       " 'password': 'test',\n",
       " 'is_admin': False}"
      ]
     },
     "execution_count": 17,
     "metadata": {},
     "output_type": "execute_result"
    }
   ],
   "source": [
    "# read specific user\n",
    "get_user = requests.get(root_url + f\"user/{user_data['@id']}\")\n",
    "get_user.json()"
   ]
  },
  {
   "cell_type": "code",
   "execution_count": 18,
   "metadata": {},
   "outputs": [
    {
     "data": {
      "text/plain": [
       "{'deleted': {'@id': 'ark:99999/test-user'}}"
      ]
     },
     "execution_count": 18,
     "metadata": {},
     "output_type": "execute_result"
    }
   ],
   "source": [
    "# delete user\n",
    "delete_user = requests.delete(root_url + f\"user/{user_data['@id']}\")\n",
    "delete_user.json()"
   ]
  },
  {
   "cell_type": "code",
   "execution_count": 21,
   "metadata": {},
   "outputs": [
    {
     "data": {
      "text/plain": [
       "{'created': {'@id': 'ark:99999/test-group', '@type': 'Organization'}}"
      ]
     },
     "execution_count": 21,
     "metadata": {},
     "output_type": "execute_result"
    }
   ],
   "source": [
    "# group create\n",
    "test_group = {\n",
    "\t\"@id\": \"ark:99999/test-group\",\n",
    "\t\"@type\": \"Organization\",\n",
    "\t\"name\": \"test group\",\n",
    "\t\"owner\": {\n",
    "\t\t\"@id\": \"ark:99999/test-user\", \n",
    "\t\t\"@type\": \"Person\", \n",
    "\t\t\"name\": \"Test User\", \n",
    "\t\t\"email\": \"test@example.org\" \n",
    "\t\t},\n",
    "\t\"members\": [],\n",
    "}\n",
    "\n",
    "\n",
    "group_create = requests.post(root_url + f\"group/\", data=json.dumps(test_group))\n",
    "group_create.json()"
   ]
  },
  {
   "cell_type": "code",
   "execution_count": 23,
   "metadata": {},
   "outputs": [
    {
     "data": {
      "text/plain": [
       "{'@id': 'ark:99999/test-group',\n",
       " '@type': 'Organization',\n",
       " 'members': [],\n",
       " '@context': {'@vocab': 'https://schema.org/', 'evi': 'https://w3id.org/EVI#'},\n",
       " 'name': 'test group',\n",
       " 'owner': {'@id': 'ark:99999/test-user',\n",
       "  '@type': 'Person',\n",
       "  'name': 'Test User',\n",
       "  'email': 'test@example.org'}}"
      ]
     },
     "execution_count": 23,
     "metadata": {},
     "output_type": "execute_result"
    }
   ],
   "source": [
    "#read the group\n",
    "group_read = requests.get(root_url + f\"group/{test_group['@id']}\")\n",
    "group_read.json()"
   ]
  },
  {
   "cell_type": "code",
   "execution_count": 24,
   "metadata": {},
   "outputs": [
    {
     "data": {
      "text/plain": [
       "{}"
      ]
     },
     "execution_count": 24,
     "metadata": {},
     "output_type": "execute_result"
    }
   ],
   "source": [
    "# create a dataset\n",
    "test_dataset = {\n",
    "\t\"@id\": \"ark:99999/test-dataset\",\n",
    "\t\"@type\": \"Dataset\",\n",
    "\t\"name\": \"test dataset\",\n",
    "\t\"owner\": {\n",
    "\t\t\"@id\": \"ark:99999/test-user\", \n",
    "\t\t\"@type\": \"Person\", \n",
    "\t\t\"name\": \"Test User\", \n",
    "\t\t\"email\": \"test@example.org\" \n",
    "\t\t},\t\n",
    "\t\t\n",
    "}\n",
    "\n",
    "create_dataset = requests.post(root_url + \"dataset/\", data = json.dumps(test_dataset))\n",
    "create_dataset.json()"
   ]
  },
  {
   "cell_type": "code",
   "execution_count": null,
   "metadata": {},
   "outputs": [],
   "source": [
    "# read a dataset\n",
    "read_dataset = requests.get(root_url + f\"software/{test_dataset['@id']}\")\n",
    "read_dataset.json()"
   ]
  },
  {
   "cell_type": "code",
   "execution_count": 25,
   "metadata": {},
   "outputs": [
    {
     "data": {
      "text/plain": [
       "{'created': {'@id': 'ark:99999/test-software',\n",
       "  '@type': 'Software',\n",
       "  'name': 'test dataset'}}"
      ]
     },
     "execution_count": 25,
     "metadata": {},
     "output_type": "execute_result"
    }
   ],
   "source": [
    "# create a software\n",
    "# create a dataset\n",
    "test_software = {\n",
    "\t\"@id\": \"ark:99999/test-software\",\n",
    "\t\"@type\": \"evi:Software\",\n",
    "\t\"name\": \"test dataset\",\n",
    "\t\"citation\": \"My software\",\n",
    "\t\"author\": \"Test User\",\n",
    "\t\"downloadUrl\": \"http://example.org/\",\n",
    "\t\"owner\": {\n",
    "\t\t\"@id\": \"ark:99999/test-user\", \n",
    "\t\t\"@type\": \"Person\", \n",
    "\t\t\"name\": \"Test User\", \n",
    "\t\t\"email\": \"test@example.org\" \n",
    "\t\t},\t\n",
    "\t\"usedBy\": []\t\t\n",
    "}\n",
    "\n",
    "create_software = requests.post(root_url + \"software/\", data = json.dumps(test_software))\n",
    "create_software.json()"
   ]
  },
  {
   "cell_type": "code",
   "execution_count": 26,
   "metadata": {},
   "outputs": [
    {
     "data": {
      "text/plain": [
       "{}"
      ]
     },
     "execution_count": 26,
     "metadata": {},
     "output_type": "execute_result"
    }
   ],
   "source": [
    "# read a software\n",
    "read_software = requests.get(root_url + f\"software/{test_software['@id']}\")\n",
    "read_software.json()"
   ]
  },
  {
   "cell_type": "code",
   "execution_count": null,
   "metadata": {},
   "outputs": [],
   "source": [
    "# create a computation\n",
    "test_software = {\n",
    "\t\"@id\": \"ark:99999/test-software\",\n",
    "\t\"@type\": \"evi:Software\",\n",
    "\t\"name\": \"test dataset\",\n",
    "\t\"citation\": \"My software\",\n",
    "\t\"author\": \"Test User\",\n",
    "\t\"downloadUrl\": \"http://example.org/\",\n",
    "\t\"owner\": {\n",
    "\t\t\"@id\": \"ark:99999/test-user\", \n",
    "\t\t\"@type\": \"Person\", \n",
    "\t\t\"name\": \"Test User\", \n",
    "\t\t\"email\": \"test@example.org\" \n",
    "\t\t},\t\n",
    "\t\"usedBy\": []\t\t\n",
    "}\n",
    "\n",
    "create_software = requests.post(root_url + \"software/\", data = json.dumps(test_software))\n",
    "create_software.json()"
   ]
  },
  {
   "cell_type": "code",
   "execution_count": null,
   "metadata": {},
   "outputs": [],
   "source": [
    "# read a computation"
   ]
  }
 ],
 "metadata": {
  "interpreter": {
   "hash": "9e49e9e5b94ffbcf92b38e6bbae369d81093e2039295ffe956729ef7e2f8d3e1"
  },
  "kernelspec": {
   "display_name": "Python 3.9.7 ('base')",
   "language": "python",
   "name": "python3"
  },
  "language_info": {
   "codemirror_mode": {
    "name": "ipython",
    "version": 3
   },
   "file_extension": ".py",
   "mimetype": "text/x-python",
   "name": "python",
   "nbconvert_exporter": "python",
   "pygments_lexer": "ipython3",
   "version": "3.9.7"
  },
  "orig_nbformat": 4
 },
 "nbformat": 4,
 "nbformat_minor": 2
}
