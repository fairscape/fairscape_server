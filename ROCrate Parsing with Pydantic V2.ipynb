{
 "cells": [
  {
   "cell_type": "code",
   "execution_count": 4,
   "id": "2097f413",
   "metadata": {},
   "outputs": [],
   "source": [
    "from pydantic import (\n",
    "    BaseModel,\n",
    "    Field,\n",
    "    constr,\n",
    "    computed_field,\n",
    "    ConfigDict\n",
    ")\n",
    "\n",
    "from typing import (\n",
    "    Optional,\n",
    "    List,\n",
    "    Dict,\n",
    "    Union,\n",
    "    Literal\n",
    ")\n",
    "\n",
    "import hashlib\n",
    "import json\n",
    "import re"
   ]
  },
  {
   "cell_type": "markdown",
   "id": "61a99712-c1e0-4ccc-9462-23ce90a3c579",
   "metadata": {},
   "source": [
    "## ROCrate Models"
   ]
  },
  {
   "cell_type": "code",
   "execution_count": 5,
   "id": "9ad30c16",
   "metadata": {},
   "outputs": [],
   "source": [
    "ARK_NAAN = \"59852\""
   ]
  },
  {
   "cell_type": "code",
   "execution_count": 16,
   "id": "5c995ef6-40ef-4d5f-99a5-4b819bc1f725",
   "metadata": {},
   "outputs": [],
   "source": [
    "default_context = {\n",
    "    \"@vocab\": \"https://schema.org/\",\n",
    "    \"evi\": \"https://w3id.org/EVI#\"\n",
    "}\n",
    "\n",
    "\n",
    "class Identifier(BaseModel):\n",
    "    guid: str = Field(\n",
    "        title=\"guid\",\n",
    "        alias=\"@id\" \n",
    "    )\n",
    "    metadataType: str = Field(\n",
    "        title=\"metadataType\",\n",
    "        alias=\"@type\" \n",
    "    )\n",
    "    name: str\n",
    "\n",
    "\n",
    "class FairscapeBaseModel(BaseModel):\n",
    "    model_config = ConfigDict(\n",
    "        populate_by_name = True,\n",
    "        validate_assignment = True,  \n",
    "    )\n",
    "    context: Dict[str,str] = Field(\n",
    "        default=default_context,\n",
    "        title=\"context\",\n",
    "        alias=\"@context\"\n",
    "    )\n",
    "    metadataType: str = Field(\n",
    "        title=\"metadataType\",\n",
    "        alias=\"@type\"\n",
    "    )\n",
    "    url: Optional[str] = Field(default=None)\n",
    "    name: str = Field(max_length=200)\n",
    "    keywords: List[str] = Field(default=[])\n",
    "    description: str = Field(min_length=5)\n",
    "    isPartOf: Optional[List[str]] = Field(default=[])\n"

   ]
  },
  {
   "cell_type": "markdown",
   "metadata": {},
   "source": [
    "### Prov Elements"
   ]
  },
  {
   "cell_type": "code",
   "execution_count": 14,
   "id": "4a3adee6-1b87-406f-a34c-8c81d98b4b90",
   "metadata": {},
   "outputs": [],
   "source": [
    "# dataset\n",
    "class Dataset(FairscapeBaseModel):\n",
    "    metadataType: Optional[str] = Field(default=\"https://w3id.org/EVI#Dataset\")\n",
    "    additionalType: Literal['Dataset']\n",
    "    #additionalType: Optional[str] = Field(default=\"Dataset\")\n",
    "    author: str = Field(max_length=64)\n",
    "    datePublished: str = Field(...)\n",
    "    version: str = Field(default=\"0.1.0\")\n",
    "    description: str = Field(min_length=10)\n",
    "    keywords: List[str] = Field(...)\n",
    "    associatedPublication: Optional[str] = Field(default=None)\n",
    "    additionalDocumentation: Optional[str] = Field(default=None)\n",
    "    fileFormat: str = Field(alias=\"format\")\n",
    "    dataSchema: Optional[Union[str, dict]] = Field(alias=\"schema\", default=None)\n",
    "    generatedBy: Optional[List[str]] = Field(default=[])\n",
    "    derivedFrom: Optional[List[str]] = Field(default=[])\n",
    "    usedBy: Optional[List[str]] = Field(default = [])\n",
    "    contentUrl: Optional[str] = Field(default=None)\n",
    "\n",
    "\n",
    "class DatasetContainer(FairscapeBaseModel): \n",
    "    metadataType: Optional[str] = Field(default=\"https://w3id.org/EVI#Dataset\", alias=\"@type\")\n",
    "    additionalType: Literal['DatasetContainer']\n",
    "    #additionalType: Optional[str] = Field(default=\"DatasetContainer\")\n",
    "    name: str\n",
    "    version: str = Field(default=\"0.1.0\")\n",
    "    description: str = Field(min_length=10)\n",
    "    keywords: List[str] = Field(...)\n",
    "    generatedBy: Optional[List[str]] = Field(default=[])\n",
    "    derivedFrom: Optional[List[str]] = Field(default=[])\n",
    "    usedBy: Optional[List[str]] = Field(default = [])\n",
    "    hasPart: Optional[List[str]] = Field(default=[])\n",
    "    isPartOf: Optional[List[str]] = Field(default=[])\n",
    "\n",
    "\n",
    "# software\n",
    "class Software(FairscapeBaseModel): \n",
    "    metadataType: Optional[str] = Field(default=\"https://w3id.org/EVI#Software\")\n",
    "    additionalType: Optional[str] = Field(default=\"Software\")\n",
    "    author: str = Field(min_length=4, max_length=64)\n",
    "    dateModified: str\n",
    "    version: str\n",
    "    description: str =  Field(min_length=10)\n",
    "    associatedPublication: Optional[str] = Field(default=None)\n",
    "    additionalDocumentation: Optional[str] = Field(default=None)\n",
    "    fileFormat: str = Field(title=\"fileFormat\", alias=\"format\")\n",
    "    usedByComputation: Optional[List[str]] = Field(default=[])\n",
    "    contentUrl: Optional[str] = Field(default=None)\n",
    "\n",
    "# computation\n",
    "class Computation(FairscapeBaseModel):\n",
    "    metadataType: Optional[str] = Field(default=\"https://w3id.org/EVI#Computation\")\n",
    "    additionalType: Optional[str] = Field(default=\"Computation\")\n",
    "    runBy: str\n",
    "    dateCreated: str \n",
    "    associatedPublication: Optional[str] = Field(default=None)\n",
    "    additionalDocumentation: Optional[str] = Field(default=None)\n",
    "    command: Optional[Union[List[str], str]] = Field(default=\"\")\n",
    "    usedSoftware: Optional[List[str]] = Field(default=[])\n",
    "    usedDataset: Optional[Union[List[str], str]] = Field(default=[])\n",
    "    generated: Optional[Union[str,List[str]]] = Field(default=[])"
   ]
  },
  {
   "cell_type": "markdown",
   "id": "082a1c20",
   "metadata": {},
   "source": [
    "### ROCrate Model\n",
    "\n",
    "```\n",
    "class ROCrate(BaseModel):\n",
    "    guid: Optional[str] = Field(default=\"\")\n",
    "    metadataType: str = Field(default=\"https://schema.org/Dataset\")\n",
    "    name: str = Field(max_length=200)\n",
    "    description: str = Field(min_length=10)\n",
    "    keywords: List[str] = Field(...)\n",
    "    projectName: Optional[str]\n",
    "    organizationName: Optional[str]\n",
    "    path: pathlib.Path\n",
    "    metadataGraph: Optional[List[Union[Dataset,Software, Computation]]] = Field(alias=\"@graph\")\n",
    "```"
   ]
  },
  {
   "cell_type": "code",
   "execution_count": 15,
   "id": "7d1ece8c",
   "metadata": {},
   "outputs": [],
   "source": [
    "class ROCrate(FairscapeBaseModel):\n",
    "    metadataType: str = Field(alias=\"@type\", default=\"https://schema.org/Dataset\")\n",
    "    metadataGraph: List[Union[Dataset, Software, Computation, DatasetContainer]] = Field(..., discriminator='addtionalType', alias=\"@graph\") "
   ]
  },
  {
   "cell_type": "markdown",
   "id": "b8becd3e",
   "metadata": {},
   "source": [
    "## Computed GUID Property\n",
    "\n",
    "- Can be put on any pydantic class\n",
    "- Unclear how and when this is called if a property is specified.\n",
    "- TODO: Need to detect identifier collisions before inserting records into mongo, and replacing identifiers in evi graph"
   ]
  },
  {
   "cell_type": "code",
   "execution_count": null,
   "id": "f50c329d-3627-4385-8ca8-dbf35378efd9",
   "metadata": {},
   "outputs": [],
   "source": [
    "\n",
    "#@computed_field(alias=\"@id\")\n",
    "#    @property\n",
    "def guid(self) -> str:\n",
    "\n",
    "\t# remove trailing whitespace \n",
    "\tcleaned_name = re.sub('\\s+$', '', self.name)\n",
    "\n",
    "\t# remove restricted characters\n",
    "\turl_name = re.sub('\\W','', cleaned_name.replace('', '-'))\n",
    "\n",
    "\t# add md5 hash digest on remainder of metadata\n",
    "\tsha_256_hash = hashlib.sha256()\n",
    "\n",
    "\t# use a subset of properties for hash digest\n",
    "\tdigest_dict = {\n",
    "\t\t\"name\": self.name,\n",
    "\t\t\"@graph\": [model.model_dump_json(by_alias=True) for model in self.metadataGraph]\n",
    "\t}\n",
    "\tencoded = json.dumps(digest_dict, sort_keys=True).encode()\n",
    "\tsha_256_hash.update(encoded)\n",
    "\tdigest_string = sha_256_hash.hexdigest()\n",
    "\n",
    "\treturn f\"ark:{ARK_NAAN}/rocrate-{url_name}-{digest_string[0:10]}\""
   ]
  },
  {
   "cell_type": "markdown",
   "id": "5403b135",
   "metadata": {},
   "source": [
    "### Organization Model"
   ]
  },
  {
   "cell_type": "code",
   "execution_count": 12,
   "id": "ff7d3c98-15c4-415e-a456-943164f190de",
   "metadata": {},
   "outputs": [],
   "source": [
    "class Organization(FairscapeBaseModel):\n",
    "    metadataType: Optional[str] = Field(default=\"\")\n",
    "    additionalType: Optional[str] = Field(default=\"Organization\")\n",
    "    funder: Optional[List[str]] = Field(..., description=\"A list of guids for organizations that are responsible for funding this organization\")"
   ]
  },
  {
   "cell_type": "markdown",
   "id": "a0528fb8",
   "metadata": {},
   "source": [
    "### Project Model"
   ]
  },
  {
   "cell_type": "code",
   "execution_count": null,
   "id": "91f0973b-cc0f-4589-bad0-4b41fa38183e",
   "metadata": {},
   "outputs": [],
   "source": [
    "class Project(FairscapeBaseModel):\n",
    "    parentOrganization: str = Field(...)"
   ]
  },
  {
   "cell_type": "markdown",
   "id": "66d2f0a8-45f9-41f5-a1e2-e269b992b303",
   "metadata": {},
   "source": [
    "## ROCrate Instance Test"
   ]
  },
  {
   "cell_type": "code",
   "execution_count": null,
   "id": "89e3db20-8c6b-4429-8e7f-68d978aba8aa",
   "metadata": {},
   "outputs": [],
   "source": [
    "test_dataset_one = Dataset(\n",
    "    author=\"Max Levinson\",\n",
    "    datePublished = \"08-09-2023\",\n",
    "    version=\"0.1\",\n",
    "    name=\"test dataset\",\n",
    "    description = \"my example test dataset\",\n",
    "    keywords = [\"test\"],\n",
    "    fileFormat = \"text/csv\",\n",
    "    contentUrl=\"file://test-input-1.csv\"\n",
    ")\n",
    "\n",
    "test_dataset_two = Dataset(\n",
    "    author=\"Max Levinson\",\n",
    "    datePublished = \"08-09-2023\",\n",
    "    version=\"0.1\",\n",
    "    name=\"test dataset two\",\n",
    "    description = \"my example test dataset\",\n",
    "    keywords = [\"test\"],\n",
    "    fileFormat = \"text/csv\",\n",
    "    contentUrl=\"file://test-input-2.csv\"\n",
    ")\n",
    "\n",
    "test_dataset_container = DatasetContainer(\n",
    "    version=\"0.1\",\n",
    "    name=\"test dataset container\",\n",
    "    description = \"my example test dataset\",\n",
    "    keywords = [\"test\"],\n",
    "    hasPart=[\n",
    "        test_dataset_one.guid,\n",
    "        test_dataset_two.guid    \n",
    "    ]\n",
    ")\n",
    "\n",
    "test_output = Dataset(\n",
    "    author=\"Max Levinson\",\n",
    "    datePublished = \"08-09-2023\",\n",
    "    version=\"0.1\",\n",
    "    name=\"test result\",\n",
    "    description = \"my example test dataset\",\n",
    "    keywords = [\"test\"],\n",
    "    fileFormat = \"text/csv\",\n",
    "    contentUrl=\"file://test-output.csv\",\n",
    "    generatedBy=[]\n",
    ")"
   ]
  },
  {
   "cell_type": "code",
   "execution_count": 15,
   "id": "ca4e4184-c88c-46b4-a851-889d0b6a820f",
   "metadata": {},
   "outputs": [],
   "source": [
    "test_software = Software(\n",
    " #   guid=f\"ark:{ARK_NAAN}/test-software\",\n",
    "    name=\"test software\",\n",
    "    author=\"Max Levinson\",\n",
    "    description=\"A test software\",\n",
    "    dateModified=\"08-09-2023\",\n",
    "    version=\"0.1.0\",\n",
    "    format=\".py\",\n",
    "    keywords=[\"test\"],\n",
    "    contentUrl=\"file://script.py\"\n",
    ")"
   ]
  },
  {
   "cell_type": "code",
   "execution_count": null,
   "id": "01585a6c-0d18-424a-97db-71556421818b",
   "metadata": {},
   "outputs": [],
   "source": [
    "test_computation = Computation(\n",
    "    name=\"computation\",\n",
    "    author=\"Max Levinson\",\n",
    "    description=\"A pretend computation\",\n",
    "    dateModified=\"08-09-2023\",\n",
    "    dateCreated=\"08-09-2023\",\n",
    "    version=\"0.1.0\",\n",
    "    format=\".py\",\n",
    "    keywords=[\"test\"],\n",
    "    runBy=\"Max Levinson\",\n",
    "    usedSoftware=[test_software.guid],\n",
    "    usedDataset=[test_dataset_container.guid],\n",
    "    generated=[test_output.guid]\n",
    ")"
   ]
  },
  {
   "cell_type": "code",
   "execution_count": null,
   "id": "612eede7-fc8d-4986-9dc5-756c7befcf04",
   "metadata": {},
   "outputs": [],
   "source": [
    "test_crate = ROCrate(\n",
    "    name=\"test crate\",\n",
    "    description=\"a testing example\",\n",
    "    keywords=[\"test\"],\n",
    "    projectName=\"test_proj\",\n",
    "    organizationName=\"test_org\",\n",
    "    metadataGraph= [\n",
    "        test_dataset_one,\n",
    "        test_dataset_two,\n",
    "        test_output,\n",
    "        test_dataset_container,\n",
    "        test_software,\n",
    "        test_computation\n",
    "    ]\n",
    ")"
   ]
  },
  {
   "cell_type": "markdown",
   "source": [
    "# Create RO-Crate zip file "
   ],
   "metadata": {
    "collapsed": false
   },
   "id": "11cf83ea69780776"
  },
  {
   "cell_type": "code",
   "execution_count": 18,
   "id": "909c60ad-aafd-422e-9d21-59b5e34bc811",
   "metadata": {},
   "outputs": [],
   "source": [
    "test_crate.metadataGraph[4]"
   ]
  },
  {
   "cell_type": "code",
   "execution_count": null,
   "id": "ef201b0a-ccac-452c-ac13-726716a79d1f",
   "metadata": {},
   "outputs": [],
   "source": [
    "test_crate.metadataGraph[2].model_dump(by_alias=True)"
   ]
  },
  {
   "cell_type": "code",
   "execution_count": null,
   "id": "e5cb8b77-c297-43a5-a25e-055d8d5c9691",
   "metadata": {},
   "outputs": [],
   "source": [
    "dataset_one_json = test_crate.metadataGraph[0].model_dump(by_alias=True)\n",
    "dataset_one_json"
   ]
  },
  {
   "cell_type": "code",
   "execution_count": null,
   "id": "cf53616a-cc22-49b0-844e-3e0f2509fc08",
   "metadata": {},
   "outputs": [],
   "source": [
    "dataset_one_json['usedBy'] = [test_computation.guid]\n",
    "dataset_one_json['isPartOf'] = [test_dataset_container.guid]"
   ]
  },
  {
   "cell_type": "code",
   "execution_count": null,
   "id": "470a1c68-3159-4c29-a367-081c4319c40a",
   "metadata": {
    "scrolled": true
   },
   "outputs": [],
   "source": [
    "dataset_one_json"
   ]
  },
  {
   "cell_type": "code",
   "execution_count": null,
   "id": "1af42034-d20d-4bd9-8080-a71bd18a1682",
   "metadata": {},
   "outputs": [],
   "source": [
    "test_crate.metadataGraph[0]"
   ]
  },
  {
   "cell_type": "code",
   "execution_count": null,
   "id": "e1c7458e",
   "metadata": {},
   "outputs": [],
   "source": []
  },
  {
   "cell_type": "code",
   "execution_count": null,
   "id": "bd53781b-3c04-4f07-911e-7951ece029ef",
   "metadata": {},
   "outputs": [],
   "source": [
    "test_crate.guid"
   ]
  },
  {
   "cell_type": "code",
   "execution_count": null,
   "id": "f9bb7bab-ade4-459c-81fe-a3c5b8f8364c",
   "metadata": {},
   "outputs": [],
   "source": [
    "test_crate.model_dump_json(by_alias=True)"
   ]
  },
  {
   "cell_type": "markdown", 
   "source": [
    "## Entailment properties\n",
    "\n",
    "### Inverse Entailment\n",
    "- Filter all computations\n",
    "    - usedDataset\n",
    "    - usedSoftware\n",
    "    - generated\n",
    "\n",
    "- For each of these lists, filter for those guids and add inverse property\n",
    "\n",
    "metadata_validation_status = validate_rocrate_object_reference(rocrate, minio_client, mongo_client, rocrate_zip_file)"
   ],
   "metadata": {
    "collapsed": false
   },
   "id": "c1095a94d581e9c8"
  },
  {
   "cell_type": "markdown",
   "source": [
    "# In a nutshell: Upload RO-Crate archive to the object store and validate "
   ],
   "metadata": {
    "collapsed": false
   },
   "id": "771a5c0aed9ca659"
  },
  {
   "cell_type": "code",
   "execution_count": 76,
   "outputs": [
    {
     "data": {
      "text/plain": "{'created': {'@id': 'ark:59853/rocrate-Exampleinputdataset-298dd2e013',\n  '@type': 'Dataset',\n  'name': 'Example input dataset'}}"
     },
     "execution_count": 76,
     "metadata": {},
     "output_type": "execute_result"
    }
   ],
   "source": [
    "import requests\n",
    "import json\n",
    "from requests_toolbelt.multipart.encoder import MultipartEncoder\n",
    "### Transitivity for Dataset Containers\n",
    "\n",
    "If a computation used a dataset container, all elements are usedBy that computation\n",
    "\n",
    "# upload a rocrate to minio object store\n",
    "rocrate_transfer = requests.post(\n",
    "    root_url + f\"rocrate/upload\",\n",
    "    data=mp_encoder,                              \n",
    "    # The MultipartEncoder provides the content-type header with the boundary:\n",
    "    headers={'Content-Type': mp_encoder.content_type}\n",
    ")\n",
    "rocrate_transfer.json()"
   ],
   "metadata": {
    "collapsed": false,
    "ExecuteTime": {
     "end_time": "2023-08-23T00:29:21.606424694Z",
     "start_time": "2023-08-23T00:29:21.525820591Z"
    }
   },
   "id": "332c524e9f07ae99"
  },
  {
   "cell_type": "code",
   "execution_count": null,
   "id": "f5eb80bd-4b9b-410d-a91b-209904c5b061",
   "metadata": {},
   "outputs": [],
   "source": [
    "passed_crate = test_crate"
   ]
  },
  {
   "cell_type": "code",
   "execution_count": null,
   "outputs": [],
   "source": [
    "def entailPartOf(rocrate: ROCrate):\n",
    "    \"\"\" entailPartOf\n",
    "\n",
    "root_url = \"http://localhost:8080/\"\n",
    "\n",
    "rocrate_download = requests.get(root_url + f\"rocrate/archived/download/ark:59853/rocrate-Exampleinputdataset-298dd2e013\", headers={\"Content-Type\":\"application/zip\"})\n",
    "\n",
    "rocrate_download.raise_for_status() # ensure we notice bad responses\n",
    "\n",
    "# save the downloaded crate in the project root directory\n",
    "with open(\"downloaded-rocrate.zip\", \"wb\") as file:\n",
    "    file.write(rocrate_download.content)\n"
   ],
   "metadata": {
    "collapsed": false,
    "ExecuteTime": {
     "end_time": "2023-08-23T00:39:29.828133068Z",
     "start_time": "2023-08-23T00:39:29.772352369Z"
    }
   },
   "id": "3ebe72a9cc667d5f"
  },
  {
   "cell_type": "markdown",
   "source": [
    "# Download extracted ROCrate as a zip file using the API"
   ],
   "metadata": {
    "collapsed": false
   },
   "id": "3559b75012fc94fd"
  },
  {
   "cell_type": "code",
   "execution_count": null,
   "outputs": [],
   "source": [
    "def provEntailment(passed_crate):\n",
    "\n",
    "    computations = list(filter(lambda x: x.additionalType == \"Computation\", passed_crate.metadataGraph))\n",
    "\n",
    "    def filterCrateByGUID(guid):\n",
    "        return list(filter(lambda x: x.guid==guid, passed_crate.metadataGraph))\n",
    "\n",
    "    def inverseUsedDataset(used_dataset_guid, computation_guid):\n",
    "        used_dataset_list = filterCrateByGUID(used_dataset_guid)\n",
    "        \n",
    "        # update each dataset as \n",
    "        for used_dataset in used_dataset_list:\n",
    "            used_dataset.usedBy.append(computation_guid)\n",
    "\n",
    "    def inverseUsedSoftware(used_software_guid, computation_guid):\n",
    "        used_software_list = filterCrateByGUID(used_software_guid) \n",
    "        \n",
    "        for used_software in used_software_list:\n",
    "            used_software.usedBy.append(computation_guid)\n",
    "\n",
    "\n",
    "    def inverseGenerated(generated_guid, computation_guid):\n",
    "        generated_list = filterCrateByGUID(generated_guid)\n",
    "\n",
    "rocrate_download = requests.get(root_url + f\"rocrate/extracted/download/ark:59853/rocrate-Exampleinputdataset-298dd2e013\", headers={\"Content-Type\":\"application/zip\"})\n",
    "        for generated_element in generated_list:\n",
    "            generated_element.generatedBy.append(computation_guid)\n",
    "\n",
    "\n",
    "# save the downloaded crate in the project root directory\n",
    "with open(\"downloaded-rocrate.zip\", \"wb\") as file:\n",
    "    file.write(rocrate_download.content)"
   ],
   "metadata": {
    "collapsed": false,
    "ExecuteTime": {
     "end_time": "2023-08-23T00:41:47.123726509Z",
     "start_time": "2023-08-23T00:41:47.079009700Z"
    }
   },
   "id": "79b9aeaa5f086709"
  },
  {
   "cell_type": "code",
   "execution_count": 3,
   "id": "14f51a1e",
   "metadata": {},
   "outputs": [
    {
     "ename": "NameError",
     "evalue": "name 'ROCrate' is not defined",
     "output_type": "error",
     "traceback": [
      "\u001b[0;31m---------------------------------------------------------------------------\u001b[0m",
      "\u001b[0;31mNameError\u001b[0m                                 Traceback (most recent call last)",
      "Cell \u001b[0;32mIn[3], line 3\u001b[0m\n\u001b[1;32m      1\u001b[0m \u001b[39mimport\u001b[39;00m \u001b[39mpymongo\u001b[39;00m\n\u001b[0;32m----> 3\u001b[0m \u001b[39mdef\u001b[39;00m \u001b[39mregisterROCrateIdentifiers\u001b[39m(rocrate: ROCrate, identifier_collection: pymongo\u001b[39m.\u001b[39mcollection\u001b[39m.\u001b[39mCollection):\n\u001b[1;32m      4\u001b[0m \u001b[39m    \u001b[39m\u001b[39m\"\"\"\u001b[39;00m\n\u001b[1;32m      5\u001b[0m \u001b[39m    \"\"\"\u001b[39;00m\n\u001b[1;32m      6\u001b[0m     \u001b[39mpass\u001b[39;00m\n",
      "\u001b[0;31mNameError\u001b[0m: name 'ROCrate' is not defined"
     ]
    }
   ],
   "source": [
    "import pymongo\n",
    "\n",
    "def registerROCrateIdentifiers(rocrate: ROCrate, identifier_collection: pymongo.collection.Collection):\n",
    "    \"\"\" Run to insert all identifiers into ROCrate\n",
    "    \"\"\"\n",
    "    pass"
   ]
  },
  {
   "cell_type": "markdown",
   "id": "9f7c9187-07cd-46a5-af8d-bdbc83cfc5a7",
   "metadata": {},
   "source": [
    "## API Tests"
   ]
  },
  {
   "cell_type": "code",
   "execution_count": null,
   "id": "af21b90d",
   "metadata": {},
   "outputs": [],
   "source": []
  },
  {
   "cell_type": "markdown",
   "id": "24d0c5a0",
   "metadata": {},
   "source": [
    "### Zipping Test Data"
   ]
  },
  {
   "cell_type": "code",
   "execution_count": null,
   "id": "0abd3e82",
   "metadata": {},
   "outputs": [
    {
     "data": {
      "text/plain": [
       "'/com.docker.devenvironments.code/tests/data/test-crate.zip'"
      ]
     },
     "metadata": {},
     "output_type": "display_data"
    }
   ],
   "source": [
    "# dump test instance into test-crate\n",
    "import json\n",
    "with open(\"./tests/data/test-crate/ro-crate-metadata.json\", \"w\") as metadata_file:\n",
    "\tjson.dump(test_crate.model_dump(by_alias=True), metadata_file, indent=1)\n",
    "\n",
    "\n",
    "import shutil\n",
    "shutil.make_archive(\n",
    "    base_name=\"/com.docker.devenvironments.code/tests/data/test-crate\", \n",
    "    format=\"zip\", \n",
    "    base_dir=\"/com.docker.devenvironments.code/tests/data/test-crate/\"\n",
    "    )\n",
    "\n",
    "\n",
    "# alternatively use zipfile to iterate through files to write to a zip archive\n",
    "\n",
    "#import zipfile\n",
    "#with zipfile.ZipFile('/com.docker.devenvironments.code/tests/data/test-crate.zip', 'r') as zip_crate:\n",
    "#\tpass "
   ]
  },
  {
   "cell_type": "markdown",
   "id": "9e2d5c80",
   "metadata": {},
   "source": [
    "### Success Test"
   ]
  },
  {
   "cell_type": "code",
   "execution_count": 44,
   "id": "cdbd467b",
   "metadata": {},
   "outputs": [],
   "source": [
    "import requests\n",
    "fairscape_root_url = \"http://localhost:8080\""
   ]
  },
  {
   "cell_type": "code",
   "execution_count": 45,
   "id": "719d71eb",
   "metadata": {},
   "outputs": [],
   "source": [
    "with open('/com.docker.devenvironments.code/tests/data/test-crate.zip', 'rb') as zipped_crate:\n",
    "\tupload_request = requests.post(\n",
    "\t\turl=f\"{fairscape_root_url}/rocrate/upload\",\n",
    "\t\tfiles={\"rocrate\": (\"test-crate.zip\", zipped_crate)}\n",
    "\t)"
   ]
  },
  {
   "cell_type": "code",
   "execution_count": 46,
   "id": "9465a772",
   "metadata": {},
   "outputs": [
    {
     "data": {
      "text/plain": [
       "500"
      ]
     },
     "execution_count": 46,
     "metadata": {},
     "output_type": "execute_result"
    }
   ],
   "source": [
    "upload_request.status_code"
   ]
  },
  {
   "cell_type": "code",
   "execution_count": 47,
   "id": "54bc366a",
   "metadata": {},
   "outputs": [
    {
     "name": "stderr",
     "output_type": "stream",
     "text": [
      "Exception ignored in: <function Minio.__del__ at 0x7f7dfaca8860>\n",
      "Traceback (most recent call last):\n",
      "  File \"/usr/local/lib/python3.11/site-packages/minio/api.py\", line 160, in __del__\n",
      "    self._http.clear()\n",
      "    ^^^^^^^^^^\n",
      "AttributeError: 'Minio' object has no attribute '_http'\n"
     ]
    },
    {
     "ename": "JSONDecodeError",
     "evalue": "Expecting value: line 1 column 1 (char 0)",
     "output_type": "error",
     "traceback": [
      "\u001b[0;31m---------------------------------------------------------------------------\u001b[0m",
      "\u001b[0;31mJSONDecodeError\u001b[0m                           Traceback (most recent call last)",
      "File \u001b[0;32m/usr/local/lib/python3.11/site-packages/requests/models.py:971\u001b[0m, in \u001b[0;36mResponse.json\u001b[0;34m(self, **kwargs)\u001b[0m\n\u001b[1;32m    970\u001b[0m \u001b[39mtry\u001b[39;00m:\n\u001b[0;32m--> 971\u001b[0m     \u001b[39mreturn\u001b[39;00m complexjson\u001b[39m.\u001b[39;49mloads(\u001b[39mself\u001b[39;49m\u001b[39m.\u001b[39;49mtext, \u001b[39m*\u001b[39;49m\u001b[39m*\u001b[39;49mkwargs)\n\u001b[1;32m    972\u001b[0m \u001b[39mexcept\u001b[39;00m JSONDecodeError \u001b[39mas\u001b[39;00m e:\n\u001b[1;32m    973\u001b[0m     \u001b[39m# Catch JSON-related errors and raise as requests.JSONDecodeError\u001b[39;00m\n\u001b[1;32m    974\u001b[0m     \u001b[39m# This aliases json.JSONDecodeError and simplejson.JSONDecodeError\u001b[39;00m\n",
      "File \u001b[0;32m/usr/local/lib/python3.11/json/__init__.py:346\u001b[0m, in \u001b[0;36mloads\u001b[0;34m(s, cls, object_hook, parse_float, parse_int, parse_constant, object_pairs_hook, **kw)\u001b[0m\n\u001b[1;32m    343\u001b[0m \u001b[39mif\u001b[39;00m (\u001b[39mcls\u001b[39m \u001b[39mis\u001b[39;00m \u001b[39mNone\u001b[39;00m \u001b[39mand\u001b[39;00m object_hook \u001b[39mis\u001b[39;00m \u001b[39mNone\u001b[39;00m \u001b[39mand\u001b[39;00m\n\u001b[1;32m    344\u001b[0m         parse_int \u001b[39mis\u001b[39;00m \u001b[39mNone\u001b[39;00m \u001b[39mand\u001b[39;00m parse_float \u001b[39mis\u001b[39;00m \u001b[39mNone\u001b[39;00m \u001b[39mand\u001b[39;00m\n\u001b[1;32m    345\u001b[0m         parse_constant \u001b[39mis\u001b[39;00m \u001b[39mNone\u001b[39;00m \u001b[39mand\u001b[39;00m object_pairs_hook \u001b[39mis\u001b[39;00m \u001b[39mNone\u001b[39;00m \u001b[39mand\u001b[39;00m \u001b[39mnot\u001b[39;00m kw):\n\u001b[0;32m--> 346\u001b[0m     \u001b[39mreturn\u001b[39;00m _default_decoder\u001b[39m.\u001b[39;49mdecode(s)\n\u001b[1;32m    347\u001b[0m \u001b[39mif\u001b[39;00m \u001b[39mcls\u001b[39m \u001b[39mis\u001b[39;00m \u001b[39mNone\u001b[39;00m:\n",
      "File \u001b[0;32m/usr/local/lib/python3.11/json/decoder.py:337\u001b[0m, in \u001b[0;36mJSONDecoder.decode\u001b[0;34m(self, s, _w)\u001b[0m\n\u001b[1;32m    333\u001b[0m \u001b[39m\u001b[39m\u001b[39m\"\"\"Return the Python representation of ``s`` (a ``str`` instance\u001b[39;00m\n\u001b[1;32m    334\u001b[0m \u001b[39mcontaining a JSON document).\u001b[39;00m\n\u001b[1;32m    335\u001b[0m \n\u001b[1;32m    336\u001b[0m \u001b[39m\"\"\"\u001b[39;00m\n\u001b[0;32m--> 337\u001b[0m obj, end \u001b[39m=\u001b[39m \u001b[39mself\u001b[39;49m\u001b[39m.\u001b[39;49mraw_decode(s, idx\u001b[39m=\u001b[39;49m_w(s, \u001b[39m0\u001b[39;49m)\u001b[39m.\u001b[39;49mend())\n\u001b[1;32m    338\u001b[0m end \u001b[39m=\u001b[39m _w(s, end)\u001b[39m.\u001b[39mend()\n",
      "File \u001b[0;32m/usr/local/lib/python3.11/json/decoder.py:355\u001b[0m, in \u001b[0;36mJSONDecoder.raw_decode\u001b[0;34m(self, s, idx)\u001b[0m\n\u001b[1;32m    354\u001b[0m \u001b[39mexcept\u001b[39;00m \u001b[39mStopIteration\u001b[39;00m \u001b[39mas\u001b[39;00m err:\n\u001b[0;32m--> 355\u001b[0m     \u001b[39mraise\u001b[39;00m JSONDecodeError(\u001b[39m\"\u001b[39m\u001b[39mExpecting value\u001b[39m\u001b[39m\"\u001b[39m, s, err\u001b[39m.\u001b[39mvalue) \u001b[39mfrom\u001b[39;00m \u001b[39mNone\u001b[39;00m\n\u001b[1;32m    356\u001b[0m \u001b[39mreturn\u001b[39;00m obj, end\n",
      "\u001b[0;31mJSONDecodeError\u001b[0m: Expecting value: line 1 column 1 (char 0)",
      "\nDuring handling of the above exception, another exception occurred:\n",
      "\u001b[0;31mJSONDecodeError\u001b[0m                           Traceback (most recent call last)",
      "Cell \u001b[0;32mIn[47], line 1\u001b[0m\n\u001b[0;32m----> 1\u001b[0m upload_request\u001b[39m.\u001b[39;49mjson()\n",
      "File \u001b[0;32m/usr/local/lib/python3.11/site-packages/requests/models.py:975\u001b[0m, in \u001b[0;36mResponse.json\u001b[0;34m(self, **kwargs)\u001b[0m\n\u001b[1;32m    971\u001b[0m     \u001b[39mreturn\u001b[39;00m complexjson\u001b[39m.\u001b[39mloads(\u001b[39mself\u001b[39m\u001b[39m.\u001b[39mtext, \u001b[39m*\u001b[39m\u001b[39m*\u001b[39mkwargs)\n\u001b[1;32m    972\u001b[0m \u001b[39mexcept\u001b[39;00m JSONDecodeError \u001b[39mas\u001b[39;00m e:\n\u001b[1;32m    973\u001b[0m     \u001b[39m# Catch JSON-related errors and raise as requests.JSONDecodeError\u001b[39;00m\n\u001b[1;32m    974\u001b[0m     \u001b[39m# This aliases json.JSONDecodeError and simplejson.JSONDecodeError\u001b[39;00m\n\u001b[0;32m--> 975\u001b[0m     \u001b[39mraise\u001b[39;00m RequestsJSONDecodeError(e\u001b[39m.\u001b[39mmsg, e\u001b[39m.\u001b[39mdoc, e\u001b[39m.\u001b[39mpos)\n",
      "\u001b[0;31mJSONDecodeError\u001b[0m: Expecting value: line 1 column 1 (char 0)"
     ]
    }
   ],
   "source": [
    "upload_request.json()"
   ]
  },
  {
   "cell_type": "markdown",
   "id": "9fb1fc8d",
   "metadata": {},
   "source": [
    "### Parsing Fail Test"
   ]
  },
  {
   "cell_type": "code",
   "execution_count": null,
   "id": "48147f16",
   "metadata": {},
   "outputs": [],
   "source": []
  },
  {
   "cell_type": "code",
   "execution_count": 17,
   "id": "7ab6c8b6",
   "metadata": {},
   "outputs": [],
   "source": [
    "import minio"
   ]
  },
  {
   "cell_type": "code",
   "execution_count": 25,
   "id": "56f2b6b6",
   "metadata": {},
   "outputs": [
    {
     "data": {
      "text/plain": [
       "False"
      ]
     },
     "execution_count": 25,
     "metadata": {},
     "output_type": "execute_result"
    }
   ],
   "source": [
    "from dotenv import load_dotenv\n",
    "\n",
    "load_dotenv()"
   ]
  },
  {
   "cell_type": "code",
   "execution_count": 35,
   "id": "0e97a430",
   "metadata": {},
   "outputs": [],
   "source": [
    "from dotenv import dotenv_values\n",
    "from pathlib import Path\n",
    "\n",
    "config = dotenv_values(\"/com.docker.devenvironments.code/.env\")"
   ]
  },
  {
   "cell_type": "code",
   "execution_count": 39,
   "id": "ed53768e",
   "metadata": {},
   "outputs": [
    {
     "data": {
      "text/plain": [
       "False"
      ]
     },
     "execution_count": 39,
     "metadata": {},
     "output_type": "execute_result"
    }
   ],
   "source": [
    "bool(config['MINIO_SECURE']==\"True\")"
   ]
  },
  {
   "cell_type": "code",
   "execution_count": 33,
   "id": "0580d31d",
   "metadata": {},
   "outputs": [],
   "source": [
    "minio_client = minio.Minio(\n",
    "    endpoint=f\"{config['MINIO_URI']}:{config['MINIO_PORT']}\", \n",
    "    access_key=config['MINIO_ACCESS_KEY'],\n",
    "    secret_key=config['MINIO_SECRET_KEY'],\n",
    "    secure=False\n",
    "    #http_client=\n",
    "    )"
   ]
  },
  {
   "cell_type": "code",
   "execution_count": 34,
   "id": "b8bcaccf",
   "metadata": {},
   "outputs": [
    {
     "data": {
      "text/plain": [
       "[]"
      ]
     },
     "execution_count": 34,
     "metadata": {},
     "output_type": "execute_result"
    }
   ],
   "source": [
    "minio_client.list_buckets()"
   ]
  },
  {
   "cell_type": "code",
   "execution_count": null,
   "id": "d057fadc",
   "metadata": {},
   "outputs": [],
   "source": []
  }
 ],
 "metadata": {
  "kernelspec": {
   "display_name": "Python 3 (ipykernel)",
   "language": "python",
   "name": "python3"
  },
  "language_info": {
   "codemirror_mode": {
    "name": "ipython",
    "version": 3
   },
   "file_extension": ".py",
   "mimetype": "text/x-python",
   "name": "python",
   "nbconvert_exporter": "python",
   "pygments_lexer": "ipython3",
   "version": "3.11.4"
    }
  }
}
