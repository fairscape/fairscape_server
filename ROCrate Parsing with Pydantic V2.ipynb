{
 "cells": [
  {
   "cell_type": "code",
   "execution_count": null,
   "id": "2097f413",
   "metadata": {},
   "outputs": [],
   "source": [
    "from pydantic import (\n",
    "    BaseModel,\n",
    "    Field,\n",
    "    constr,\n",
    "    computed_field,\n",
    "    ConfigDict\n",
    ")"
   ]
  },
  {
   "cell_type": "code",
   "execution_count": null,
   "id": "d7d91cbb",
   "metadata": {},
   "outputs": [],
   "source": [
    "from typing import (\n",
    "    Optional,\n",
    "    List,\n",
    "    Dict,\n",
    "    Union\n",
    ")"
   ]
  },
  {
   "cell_type": "code",
   "execution_count": null,
   "id": "12f8025b-a72a-4c07-b5b2-5a99d62c660b",
   "metadata": {},
   "outputs": [],
   "source": [
    "import hashlib\n",
    "import json\n",
    "import re"
   ]
  },
  {
   "cell_type": "markdown",
   "id": "61a99712-c1e0-4ccc-9462-23ce90a3c579",
   "metadata": {},
   "source": [
    "## ROCrate Models"
   ]
  },
  {
   "cell_type": "code",
   "execution_count": null,
   "id": "9ad30c16",
   "metadata": {},
   "outputs": [],
   "source": [
    "ARK_NAAN = \"59852\""
   ]
  },
  {
   "cell_type": "code",
   "execution_count": null,
   "id": "5c995ef6-40ef-4d5f-99a5-4b819bc1f725",
   "metadata": {},
   "outputs": [],
   "source": [
    "default_context = {\n",
    "    \"@vocab\": \"https://schema.org/\",\n",
    "    \"evi\": \"https://w3id.org/EVI#\"\n",
    "}\n",
    "\n",
    "\n",
    "class Identifier(BaseModel):\n",
    "    guid: str = Field(\n",
    "        title=\"guid\",\n",
    "        alias=\"@id\" \n",
    "    )\n",
    "    metadataType: str = Field(\n",
    "        title=\"metadataType\",\n",
    "        alias=\"@type\" \n",
    "    )\n",
    "    name: str\n",
    "\n",
    "\n",
    "class FairscapeBaseModel(BaseModel):\n",
    "    model_config = ConfigDict(\n",
    "        populate_by_name = True,\n",
    "        validate_assignment = True,  \n",
    "    )\n",
    "    context: Dict[str,str] = Field(\n",
    "        default=default_context,\n",
    "        title=\"context\",\n",
    "        alias=\"@context\"\n",
    "    )\n",
    "    metadataType: str = Field(\n",
    "        title=\"metadataType\",\n",
    "        alias=\"@type\"\n",
    "    )\n",
    "    url: Optional[str] = Field(default=None)\n",
    "    name: str = Field(max_length=200)\n",
    "    keywords: List[str] = Field(default=[])\n",
    "    description: str = Field(min_length=5)\n",
    "\n",
    "    @computed_field(alias=\"@id\")\n",
    "    @property\n",
    "    def guid(self) -> str:\n",
    "        # TODO url encode values\n",
    "        # TODO add random hash digest\n",
    "\n",
    "        # if \n",
    "        return f\"ark:{ARK_NAAN}/rocrate-{self.name.replace(' ', '')}\""
   ]
  },
  {
   "cell_type": "code",
   "execution_count": null,
   "id": "879f5d38-97be-4ac9-a9a7-b31dbe85cb30",
   "metadata": {},
   "outputs": [],
   "source": [
    "class FairscapeProvModel(FairscapeBaseModel):\n",
    "     sourceOrganization: Optional[str] = Field(default=None)"
   ]
  },
  {
   "cell_type": "markdown",
   "id": "ab016495-0a0c-4e68-b8e2-f945b9af0629",
   "metadata": {},
   "source": [
    "### rocrate\n",
    "\n",
    "```\n",
    "class ROCrate(BaseModel):\n",
    "    guid: Optional[str] = Field(default=\"\")\n",
    "    metadataType: str = Field(default=\"https://schema.org/Dataset\")\n",
    "    name: str = Field(max_length=200)\n",
    "    description: str = Field(min_length=10)\n",
    "    keywords: List[str] = Field(...)\n",
    "    projectName: Optional[str]\n",
    "    organizationName: Optional[str]\n",
    "    path: pathlib.Path\n",
    "    metadataGraph: Optional[List[Union[Dataset,Software, Computation]]] = Field(alias=\"@graph\")\n",
    "```"
   ]
  },
  {
   "cell_type": "code",
   "execution_count": null,
   "id": "92a1f4aa-6b53-4637-b8cf-f8456e06f2df",
   "metadata": {},
   "outputs": [],
   "source": [
    "# if part of organization\n"
   ]
  },
  {
   "cell_type": "code",
   "execution_count": null,
   "id": "4a3adee6-1b87-406f-a34c-8c81d98b4b90",
   "metadata": {},
   "outputs": [],
   "source": [
    "# dataset\n",
    "\n",
    "class Dataset(FairscapeProvModel):\n",
    "    metadataType: Optional[str] = Field(default=\"https://w3id.org/EVI#Dataset\")\n",
    "    additionalType: Optional[str] = Field(default=\"Dataset\")\n",
    "    author: str = Field(max_length=64)\n",
    "    datePublished: str = Field(...)\n",
    "    version: str\n",
    "    description: str = Field(min_length=10)\n",
    "    keywords: List[str] = Field(...)\n",
    "    associatedPublication: Optional[str] = None\n",
    "    additionalDocumentation: Optional[str] = None\n",
    "    fileFormat: str = Field(alias=\"format\")\n",
    "    dataSchema: Optional[Union[str, dict]] = Field(alias=\"schema\", default=None)\n",
    "    generatedBy: Optional[List[Union[str, Identifier]]] = Field(default=[])\n",
    "    derivedFrom: Optional[List[Union[str, Identifier]]] = Field(default=[])\n",
    "    usedBy: Optional[List[Union[str, Identifier]]] = Field(default = [])\n",
    "    contentUrl: Optional[str] = Field(default=None)\n",
    "\n",
    "\n",
    "class DatasetContainer(FairscapeProvModel): \n",
    "    metadataType: Optional[str] = Field(default=\"https://w3id.org/EVI#Dataset\", alias=\"@type\")\n",
    "    additionalType: Optional[str] = Field(default=\"DatasetContainer\")\n",
    "    name: str\n",
    "    version: str = Field(default=\"0.1.0\")\n",
    "    description: str = Field(min_length=10)\n",
    "    keywords: List[str] = Field(...)\n",
    "    generatedBy: Optional[List[Union[str, Identifier]]] = Field(default=[])\n",
    "    derivedFrom: Optional[List[Union[str, Identifier]]] = Field(default=[])\n",
    "    usedBy: Optional[List[Union[str, Identifier]]] = Field(default = [])\n",
    "    hasPart: Optional[List[Union[str, Identifier]]] = Field(default=[])\n",
    "    isPartOf: Optional[List[Union[str, Identifier]]] = Field(default=[])"
   ]
  },
  {
   "cell_type": "code",
   "execution_count": null,
   "id": "af306ec9-5710-4499-b7ed-eccd22e90df3",
   "metadata": {},
   "outputs": [],
   "source": [
    "# software\n",
    "class Software(FairscapeProvModel): \n",
    "    metadataType: Optional[str] = Field(default=\"https://w3id.org/EVI#Software\")\n",
    "    additionalType: Optional[str] = Field(default=\"Software\")\n",
    "    author: str = Field(min_length=4, max_length=64)\n",
    "    dateModified: str\n",
    "    version: str\n",
    "    description: str =  Field(min_length=10)\n",
    "    associatedPublication: Optional[str] = Field(default=None)\n",
    "    additionalDocumentation: Optional[str] = Field(default=None)\n",
    "    fileFormat: str = Field(title=\"fileFormat\", alias=\"format\")\n",
    "    usedByComputation: Optional[List[str]] = Field(default=[])\n",
    "    contentUrl: Optional[str] = Field(default=None)\n",
    " "
   ]
  },
  {
   "cell_type": "code",
   "execution_count": null,
   "id": "1b43ace2-9cb6-4d79-b894-cb4c05e45ea4",
   "metadata": {},
   "outputs": [],
   "source": [
    "# computation\n",
    "class Computation(FairscapeProvModel):\n",
    "    metadataType: Optional[str] = Field(default=\"https://w3id.org/EVI#Computation\")\n",
    "    additionalType: Optional[str] = Field(default=\"Computation\")\n",
    "    runBy: str\n",
    "    dateCreated: str \n",
    "    associatedPublication: Optional[str] = Field(default=None)\n",
    "    additionalDocumentation: Optional[str] = Field(default=None)\n",
    "    command: Optional[Union[List[str], str]] = Field(default=\"\")\n",
    "    usedSoftware: Optional[List[str]] = Field(default=[])\n",
    "    usedDataset: Optional[Union[List[str], str]] = Field(default=[])\n",
    "    generated: Optional[Union[str,List[str]]] = Field(default=[])"
   ]
  },
  {
   "cell_type": "code",
   "execution_count": null,
   "id": "7d1ece8c",
   "metadata": {},
   "outputs": [],
   "source": [
    "class ROCrate(FairscapeBaseModel):\n",
    "    metadataType: str = Field(alias=\"@type\", default=\"https://schema.org/Dataset\")\n",
    "    metadataGraph: List[Union[Dataset, Software, Computation, DatasetContainer]] = Field(..., discriminator='addtionalType', alias=\"@graph\")\n",
    "\n",
    "\n",
    "    @computed_field(alias=\"@id\")\n",
    "    @property\n",
    "    def guid(self) -> str:\n",
    "\n",
    "        # remove trailing whitespace \n",
    "        cleaned_name = re.sub('\\s+$', '', self.name)\n",
    "\n",
    "        # remove restricted characters\n",
    "        url_name = re.sub('\\W','', cleaned_name.replace('', '-'))\n",
    "        \n",
    "        # add md5 hash digest on remainder of metadata\n",
    "        sha_256_hash = hashlib.sha256()\n",
    "\n",
    "        # use a subset of properties for hash digest\n",
    "        digest_dict = {\n",
    "            \"name\": self.name,\n",
    "            \"@graph\": [model.model_dump_json(by_alias=True) for model in self.metadataGraph]\n",
    "        }\n",
    "        encoded = json.dumps(digest_dict, sort_keys=True).encode()\n",
    "        sha_256_hash.update(encoded)\n",
    "        digest_string = sha_256_hash.hexdigest()\n",
    "        \n",
    "        return f\"ark:{ARK_NAAN}/rocrate-{url_name}-{digest_string[0:10]}\"\n",
    "        "
   ]
  },
  {
   "cell_type": "code",
   "execution_count": null,
   "id": "ff7d3c98-15c4-415e-a456-943164f190de",
   "metadata": {},
   "outputs": [],
   "source": [
    "class Organization(FairscapeBaseModel):\n",
    "    metadataType: Optional[str] = Field(default=\"\")\n",
    "    additionalType: Optional[str] = Field(default=\"Organization\")\n",
    "    funder: Optional[List[str]] = Field(..., description=\"A list of guids for organizations that are responsible for funding this organization\")"
   ]
  },
  {
   "cell_type": "code",
   "execution_count": null,
   "id": "91f0973b-cc0f-4589-bad0-4b41fa38183e",
   "metadata": {},
   "outputs": [],
   "source": [
    "class Project(FairscapeBaseModel):\n",
    "    parentOrganization: str = Field(...)"
   ]
  },
  {
   "cell_type": "markdown",
   "id": "66d2f0a8-45f9-41f5-a1e2-e269b992b303",
   "metadata": {},
   "source": [
    "## Instance Test"
   ]
  },
  {
   "cell_type": "code",
   "execution_count": null,
   "id": "89e3db20-8c6b-4429-8e7f-68d978aba8aa",
   "metadata": {},
   "outputs": [],
   "source": [
    "test_dataset_one = Dataset(\n",
    "    author=\"Max Levinson\",\n",
    "    datePublished = \"08-09-2023\",\n",
    "    version=\"0.1\",\n",
    "    name=\"test dataset\",\n",
    "    description = \"my example test dataset\",\n",
    "    keywords = [\"test\"],\n",
    "    fileFormat = \"text/csv\",\n",
    "    contentUrl=\"file://test-input-1.csv\"\n",
    ")\n",
    "\n",
    "test_dataset_two = Dataset(\n",
    "    author=\"Max Levinson\",\n",
    "    datePublished = \"08-09-2023\",\n",
    "    version=\"0.1\",\n",
    "    name=\"test dataset two\",\n",
    "    description = \"my example test dataset\",\n",
    "    keywords = [\"test\"],\n",
    "    fileFormat = \"text/csv\",\n",
    "    contentUrl=\"file://test-input-2.csv\"\n",
    ")\n",
    "\n",
    "test_dataset_container = DatasetContainer(\n",
    "    version=\"0.1\",\n",
    "    name=\"test dataset container\",\n",
    "    description = \"my example test dataset\",\n",
    "    keywords = [\"test\"],\n",
    "    hasPart=[\n",
    "        test_dataset_one.guid,\n",
    "        test_dataset_two.guid    \n",
    "    ]\n",
    ")\n",
    "\n",
    "test_output = Dataset(\n",
    "    author=\"Max Levinson\",\n",
    "    datePublished = \"08-09-2023\",\n",
    "    version=\"0.1\",\n",
    "    name=\"test result\",\n",
    "    description = \"my example test dataset\",\n",
    "    keywords = [\"test\"],\n",
    "    fileFormat = \"text/csv\",\n",
    "    contentUrl=\"file://test-output.csv\",\n",
    "    generatedBy=[]\n",
    ")"
   ]
  },
  {
   "cell_type": "code",
   "execution_count": null,
   "id": "ca4e4184-c88c-46b4-a851-889d0b6a820f",
   "metadata": {},
   "outputs": [],
   "source": [
    "test_software = Software(\n",
    " #   guid=f\"ark:{ARK_NAAN}/test-software\",\n",
    "    name=\"test software\",\n",
    "    author=\"Max Levinson\",\n",
    "    description=\"A test software\",\n",
    "    dateModified=\"08-09-2023\",\n",
    "    version=\"0.1.0\",\n",
    "    format=\".py\",\n",
    "    keywords=[\"test\"],\n",
    "    contentUrl=\"file://script.py\"\n",
    ")"
   ]
  },
  {
   "cell_type": "code",
   "execution_count": null,
   "id": "01585a6c-0d18-424a-97db-71556421818b",
   "metadata": {},
   "outputs": [],
   "source": [
    "test_computation = Computation(\n",
    "    name=\"computation\",\n",
    "    author=\"Max Levinson\",\n",
    "    description=\"A pretend computation\",\n",
    "    dateModified=\"08-09-2023\",\n",
    "    dateCreated=\"08-09-2023\",\n",
    "    version=\"0.1.0\",\n",
    "    format=\".py\",\n",
    "    keywords=[\"test\"],\n",
    "    runBy=\"Max Levinson\",\n",
    "    usedSoftware=[test_software.guid],\n",
    "    usedDataset=[test_dataset_container.guid],\n",
    "    generated=[test_output.guid]\n",
    ")"
   ]
  },
  {
   "cell_type": "code",
   "execution_count": null,
   "id": "612eede7-fc8d-4986-9dc5-756c7befcf04",
   "metadata": {},
   "outputs": [],
   "source": [
    "test_crate = ROCrate(\n",
    "    name=\"test crate\",\n",
    "    description=\"a testing example\",\n",
    "    keywords=[\"test\"],\n",
    "    projectName=\"test_proj\",\n",
    "    organizationName=\"test_org\",\n",
    "    metadataGraph= [\n",
    "        test_dataset_one,\n",
    "        test_dataset_two,\n",
    "        test_output,\n",
    "        test_dataset_container,\n",
    "        test_software,\n",
    "        test_computation\n",
    "    ]\n",
    ")"
   ]
  },
  {
   "cell_type": "markdown",
   "source": [
    "# Create RO-Crate zip file "
   ],
   "metadata": {
    "collapsed": false
   },
   "id": "11cf83ea69780776"
  },
  {
   "cell_type": "code",
   "execution_count": null,
   "outputs": [],
   "source": [
    "import zipfile\n",
    "import os\n",
    "\n",
    "# write metadata to the file\n",
    "with open(\"./tests/data/test-crate/ro-crate-metadata.json\", \"w\") as metadata_file:\n",
    "\tjson.dump(test_crate.model_dump(by_alias=True), metadata_file, indent=2)\n",
    "\n",
    "# create a zip file from a directory   \n",
    "def zipdir(target_dir, handler):    \n",
    "    for root, dirs, files in os.walk(target_dir):\n",
    "        for file in files:\n",
    "            handler.write(os.path.join(root, file), \n",
    "                       os.path.relpath(os.path.join(root, file), \n",
    "                                       os.path.join(target_dir, '..')))\n",
    "\n",
    "rocrate_zip_file = './tests/data/1.ppi_download.zip'\n",
    "#rocrate_zip_file = './tests/data/2.ppi_embedding.zip'\n",
    "#rocrate_zip_file = './tests/data/3.coembedding.zip'\n",
    "#rocrate_zip_file = './tests/data/4.hierarchy.zip'\n",
    "with zipfile.ZipFile(rocrate_zip_file, 'w', zipfile.ZIP_DEFLATED) as zip_handler:\n",
    "    zipdir('./tests/data/1.ppi_download/', zip_handler)\n",
    "#    zipdir('./tests/data/2.ppi_embedding/', zip_handler)\n",
    "#    zipdir('./tests/data/3.coembedding/', zip_handler)\n",
    "#    zipdir('./tests/data/4.hierarchy/', zip_handler) "
   ],
   "metadata": {
    "collapsed": false
   },
   "id": "a3bc35b002898713"
  },
  {
   "cell_type": "markdown",
   "source": [
    "# Prepare MINio object store for upload"
   ],
   "metadata": {
    "collapsed": false
   },
   "id": "c9f6348fb982f881"
  },
  {
   "cell_type": "code",
   "execution_count": null,
   "outputs": [],
   "source": [
    "import json\n",
    "import io\n",
    "import minio\n",
    "from minio.error import MinioException\n",
    "from fastapi.responses import JSONResponse\n",
    "\n",
    "class MinioConfig(BaseModel):\n",
    "    uri: str \n",
    "    user: str \n",
    "    password: str \n",
    "    default_bucket: str \n",
    "    secure: bool\n",
    "    \n",
    "    def CreateClient(self):\n",
    "        return minio.Minio(\n",
    "                self.uri, \n",
    "                access_key= self.user, \n",
    "                secret_key= self.password,\n",
    "                secure = self.secure\n",
    "                )\n",
    "\n",
    "minio_config = MinioConfig(\n",
    "    uri=\"localhost:9000\",\n",
    "    user=\"testroot\",\n",
    "    password=\"testroot\",\n",
    "    default_bucket=\"test\",\n",
    "    secure=False\n",
    ")\n",
    "\n",
    "minio_client = minio_config.CreateClient()\n",
    "\n",
    "ROCRATE_BUCKET_NAME = \"crate-contents\"\n",
    "\n",
    "\n",
    "found = minio_client.bucket_exists(ROCRATE_BUCKET_NAME)\n",
    "if found:\n",
    "    print(\"Bucket exits: \", ROCRATE_BUCKET_NAME)\n",
    "else:\n",
    "    print(\"Could not connect to bucket: \", ROCRATE_BUCKET_NAME)"
   ],
   "metadata": {
    "collapsed": false
   },
   "id": "d4a4b0b8ea284250"
  },
  {
   "cell_type": "markdown",
   "source": [
    "# Set up Mongo for metadata upload"
   ],
   "metadata": {
    "collapsed": false
   },
   "id": "822e8d10971d27f1"
  },
  {
   "cell_type": "code",
   "execution_count": null,
   "outputs": [],
   "source": [
    "from pymongo import MongoClient\n",
    "from urllib.parse import quote_plus\n",
    "\n",
    "class MongoConfig(BaseModel):\n",
    "    host: Optional[str] = \"localhost\"\n",
    "    port: Optional[str] = \"27017\"\n",
    "    user: Optional[str] = \"root\"\n",
    "    password: Optional[str] = \"rootpass\"\n",
    "    db: Optional[str] = \"fairscape\"\n",
    "    identifier_collection: Optional[str] = \"mds\"\n",
    "    rocrate_collection: Optional[str] = \"rocrate\"\n",
    "    user_collection: Optional[str] = \"users\"\n",
    "    session_collection: Optional[str] = \"sessions\"\n",
    "\n",
    "\n",
    "    def CreateClient(self):\n",
    "\n",
    "        #connection_string = f\"mongodb://{quote_plus(self.user)}:{quote_plus(self.password)}@{self.host}:{self.port}/{self.db}\"\n",
    "        connection_string = f\"mongodb://{quote_plus(self.user)}:{quote_plus(self.password)}@{self.host}:{self.port}\"\n",
    "        print(connection_string)\n",
    "        return MongoClient(connection_string)\n",
    "\n",
    "def get_mongo_config():\n",
    "    return MongoConfig(\n",
    "        host= \"localhost\",\n",
    "        port= \"27017\",\n",
    "        user= \"root\",\n",
    "        password= \"rootpass\",\n",
    "        db= \"fairscape\",\n",
    "        rocrate_collection= \"rocrate\"\n",
    "    )\n",
    "\n",
    "mongo_config = get_mongo_config()\n",
    "mongo_client = mongo_config.CreateClient()\n",
    "# print(mongo_client.server_info())\n",
    "\n",
    "\n"
   ],
   "metadata": {
    "collapsed": false
   },
   "id": "5cf00375f33f5a22"
  },
  {
   "cell_type": "markdown",
   "source": [
    "# Upload RO-Crate zip file to the bucket"
   ],
   "metadata": {
    "collapsed": false
   },
   "id": "417240b7a12bcdaf"
  },
  {
   "cell_type": "code",
   "execution_count": null,
   "outputs": [],
   "source": [
    "def unzip_and_upload(MinioClient, Object):\n",
    "    \n",
    "    try:        \n",
    "        with open(Object, \"rb\") as zip_object:\n",
    "            zip_contents = zip_object.read()\n",
    "            \n",
    "            with zipfile.ZipFile(io.BytesIO(zip_contents), \"r\") as zip_file:                         \n",
    "                for file_info in zip_file.infolist():\n",
    "                    file_contents = zip_file.read(file_info.filename)\n",
    "                    MinioClient.put_object(ROCRATE_BUCKET_NAME, file_info.filename, io.BytesIO(file_contents), len(file_contents))                \n",
    "    except Exception as e:\n",
    "        return JSONResponse(status_code=500, \n",
    "                            content=f\"Exception uploading ROCrate: {str(e)}\")\n",
    "    return JSONResponse(status_code=200, content=f\"Upload successful :)\")\n",
    "\n",
    "# Unzip the archive and upload to minio\n",
    "upload_status = unzip_and_upload(minio_client, rocrate_zip_file)\n",
    "\n",
    "if upload_status.status_code == 200:\n",
    "    print(upload_status.body)\n",
    "else:\n",
    "    print(upload_status.body)"
   ],
   "metadata": {
    "collapsed": false
   },
   "id": "eafaf45fcfac3c0c"
  },
  {
   "cell_type": "markdown",
   "source": [
    "# Get metadata from uploaded RO-Crate"
   ],
   "metadata": {
    "collapsed": false
   },
   "id": "581ad5416adf9855"
  },
  {
   "cell_type": "code",
   "execution_count": null,
   "outputs": [],
   "source": [
    "from pathlib import Path\n",
    "\n",
    "def get_metadata_from_crate(minio_client, crate_file_name):\n",
    "    rocrate_root_dir = Path(rocrate_zip_file).stem\n",
    "    objects = minio_client.list_objects(ROCRATE_BUCKET_NAME, prefix=rocrate_root_dir, recursive=True)\n",
    "        \n",
    "    for obj in objects:\n",
    "        if obj.object_name.endswith(crate_file_name): \n",
    "            metadata_content = minio_client.get_object(ROCRATE_BUCKET_NAME, obj.object_name).read()\n",
    "            return metadata_content                                                     \n",
    "\n",
    "RO_CRATE_METADATA_FILE_NAME = 'ro-crate-metadata.json'\n",
    "\n",
    "rocrate_metadata_read = get_metadata_from_crate(minio_client, RO_CRATE_METADATA_FILE_NAME)\n",
    "\n",
    "if rocrate_metadata_read:\n",
    "    print(rocrate_metadata_read)\n",
    "else:\n",
    "    print(f\"{RO_CRATE_METADATA_FILE_NAME} not found in ROCrate\")\n",
    "\n",
    "rocrate = ROCrate(**json.loads(rocrate_metadata_read))\n",
    "# print(rocrate.guid)                  "
   ],
   "metadata": {
    "collapsed": false
   },
   "id": "19ab37ba1ae38803"
  },
  {
   "cell_type": "markdown",
   "source": [
    "# Validate RO-Crate metadata"
   ],
   "metadata": {
    "collapsed": false
   },
   "id": "95897b2fc64929e2"
  },
  {
   "cell_type": "code",
   "execution_count": null,
   "outputs": [],
   "source": [
    "from pathlib import Path\n",
    "import pymongo\n",
    "\n",
    "def validate_rocrate_object_reference(rocrate, MinioClient, MongoClient: pymongo.MongoClient, Object):\n",
    "    \n",
    "    # prefix, org, proj, creative_work_id = crate.guid.split(\"/\")\n",
    "    prefix, creative_work_id = rocrate.guid.split(\"/\")\n",
    "        \n",
    "    archived_object_path = f\"{creative_work_id}/{rocrate.name}\"\n",
    "    # print(archived_object_path)\n",
    "        \n",
    "    # List instances of Dataset and Software in the ROCrate metadata\n",
    "    object_instances_in_metadata = list(filter(\n",
    "        lambda x: (x.additionalType == \"Dataset\" \n",
    "                   or x.additionalType == \"Software\"), \n",
    "                rocrate.metadataGraph)\n",
    "    )\n",
    "\n",
    "     # List full object paths specified in the ROCrate metadata\n",
    "    object_paths_in_metadata = [obj_instance.contentUrl for obj_instance in object_instances_in_metadata]\n",
    "        \n",
    "    # List object names only from their full path                    \n",
    "    objects_in_metadata = [Path(obj).name for obj in object_paths_in_metadata]\n",
    "    \n",
    "    try:\n",
    "        rocrate_root_dir = Path(rocrate_zip_file).stem\n",
    "        object_instances_in_crate = MinioClient.list_objects(ROCRATE_BUCKET_NAME, prefix = rocrate_root_dir, recursive=True)\n",
    "        object_paths_in_crate = [obj_instance.object_name for obj_instance in object_instances_in_crate]            \n",
    "        objects_in_crate = [Path(obj).name for obj in object_paths_in_crate]\n",
    "                \n",
    "            # Check if metadata objects exist in the crate\n",
    "        if set(objects_in_metadata).issubset(set(objects_in_crate)):                \n",
    "            #print(\"is a subset\") \n",
    "                        \n",
    "            with open(Object, \"rb\") as zip_object:\n",
    "                #zip_contents = zip_object.read()\n",
    "                upload_operation = MinioClient.put_object(\n",
    "                    bucket_name=\"test\",\n",
    "                    object_name=f\"{archived_object_path}.zip\",                    \n",
    "                    data=zip_object,                \n",
    "                    length=-1,\n",
    "                    part_size= 5 * 1024 * 1024 ,\n",
    "                    content_type=\"application/zip\"\n",
    "                )\n",
    "            \n",
    "            \n",
    "        else:\n",
    "            missing_objects = set(objects_in_metadata) - set(objects_in_crate)\n",
    "            print(\"missing objects: \", missing_objects)\n",
    "    \n",
    "    except Exception as e:\n",
    "            print(f\"exception validating objects in ROCrate: {str(e)}\")    \n",
    "    \n",
    "    # create database\n",
    "    mongo_db = mongo_client[mongo_config.db]\n",
    "    rocrate_collection = mongo_db[mongo_config.rocrate_collection]\n",
    "    \n",
    "    data = rocrate.model_dump(by_alias=True)\n",
    "    \n",
    "    \n",
    "    data[\"distribution\"] = {\"extractedROCrateBucket\": ROCRATE_BUCKET_NAME, \n",
    "                            \"archivedROCrateBucket\": \"test\", \n",
    "                            \"extractedObjectPath\": object_paths_in_crate, \n",
    "                            \"archivedObjectPath\": f\"{archived_object_path}.zip\"\n",
    "                            }\n",
    "    \n",
    "    \n",
    "    insert_op = rocrate_collection.insert_one(data)\n",
    "    \n",
    "    #print(insert_op.inserted_id)\n",
    "    \n",
    "\n",
    "metadata_validation_status = validate_rocrate_object_reference(rocrate, minio_client, mongo_client, rocrate_zip_file)"
   ],
   "metadata": {
    "collapsed": false
   },
   "id": "c1095a94d581e9c8"
  },
  {
   "cell_type": "markdown",
   "source": [
    "# In a nutshell: Upload RO-Crate archive to the object store and validate "
   ],
   "metadata": {
    "collapsed": false
   },
   "id": "771a5c0aed9ca659"
  },
  {
   "cell_type": "code",
   "execution_count": 88,
   "outputs": [
    {
     "ename": "JSONDecodeError",
     "evalue": "Expecting value: line 1 column 1 (char 0)",
     "output_type": "error",
     "traceback": [
      "\u001B[0;31m---------------------------------------------------------------------------\u001B[0m",
      "\u001B[0;31mJSONDecodeError\u001B[0m                           Traceback (most recent call last)",
      "File \u001B[0;32m~/work/uva/projects/mds_python/venv/lib/python3.8/site-packages/requests/models.py:971\u001B[0m, in \u001B[0;36mResponse.json\u001B[0;34m(self, **kwargs)\u001B[0m\n\u001B[1;32m    970\u001B[0m \u001B[38;5;28;01mtry\u001B[39;00m:\n\u001B[0;32m--> 971\u001B[0m     \u001B[38;5;28;01mreturn\u001B[39;00m \u001B[43mcomplexjson\u001B[49m\u001B[38;5;241;43m.\u001B[39;49m\u001B[43mloads\u001B[49m\u001B[43m(\u001B[49m\u001B[38;5;28;43mself\u001B[39;49m\u001B[38;5;241;43m.\u001B[39;49m\u001B[43mtext\u001B[49m\u001B[43m,\u001B[49m\u001B[43m \u001B[49m\u001B[38;5;241;43m*\u001B[39;49m\u001B[38;5;241;43m*\u001B[39;49m\u001B[43mkwargs\u001B[49m\u001B[43m)\u001B[49m\n\u001B[1;32m    972\u001B[0m \u001B[38;5;28;01mexcept\u001B[39;00m JSONDecodeError \u001B[38;5;28;01mas\u001B[39;00m e:\n\u001B[1;32m    973\u001B[0m     \u001B[38;5;66;03m# Catch JSON-related errors and raise as requests.JSONDecodeError\u001B[39;00m\n\u001B[1;32m    974\u001B[0m     \u001B[38;5;66;03m# This aliases json.JSONDecodeError and simplejson.JSONDecodeError\u001B[39;00m\n",
      "File \u001B[0;32m/usr/lib/python3.8/json/__init__.py:357\u001B[0m, in \u001B[0;36mloads\u001B[0;34m(s, cls, object_hook, parse_float, parse_int, parse_constant, object_pairs_hook, **kw)\u001B[0m\n\u001B[1;32m    354\u001B[0m \u001B[38;5;28;01mif\u001B[39;00m (\u001B[38;5;28mcls\u001B[39m \u001B[38;5;129;01mis\u001B[39;00m \u001B[38;5;28;01mNone\u001B[39;00m \u001B[38;5;129;01mand\u001B[39;00m object_hook \u001B[38;5;129;01mis\u001B[39;00m \u001B[38;5;28;01mNone\u001B[39;00m \u001B[38;5;129;01mand\u001B[39;00m\n\u001B[1;32m    355\u001B[0m         parse_int \u001B[38;5;129;01mis\u001B[39;00m \u001B[38;5;28;01mNone\u001B[39;00m \u001B[38;5;129;01mand\u001B[39;00m parse_float \u001B[38;5;129;01mis\u001B[39;00m \u001B[38;5;28;01mNone\u001B[39;00m \u001B[38;5;129;01mand\u001B[39;00m\n\u001B[1;32m    356\u001B[0m         parse_constant \u001B[38;5;129;01mis\u001B[39;00m \u001B[38;5;28;01mNone\u001B[39;00m \u001B[38;5;129;01mand\u001B[39;00m object_pairs_hook \u001B[38;5;129;01mis\u001B[39;00m \u001B[38;5;28;01mNone\u001B[39;00m \u001B[38;5;129;01mand\u001B[39;00m \u001B[38;5;129;01mnot\u001B[39;00m kw):\n\u001B[0;32m--> 357\u001B[0m     \u001B[38;5;28;01mreturn\u001B[39;00m \u001B[43m_default_decoder\u001B[49m\u001B[38;5;241;43m.\u001B[39;49m\u001B[43mdecode\u001B[49m\u001B[43m(\u001B[49m\u001B[43ms\u001B[49m\u001B[43m)\u001B[49m\n\u001B[1;32m    358\u001B[0m \u001B[38;5;28;01mif\u001B[39;00m \u001B[38;5;28mcls\u001B[39m \u001B[38;5;129;01mis\u001B[39;00m \u001B[38;5;28;01mNone\u001B[39;00m:\n",
      "File \u001B[0;32m/usr/lib/python3.8/json/decoder.py:337\u001B[0m, in \u001B[0;36mJSONDecoder.decode\u001B[0;34m(self, s, _w)\u001B[0m\n\u001B[1;32m    333\u001B[0m \u001B[38;5;250m\u001B[39m\u001B[38;5;124;03m\"\"\"Return the Python representation of ``s`` (a ``str`` instance\u001B[39;00m\n\u001B[1;32m    334\u001B[0m \u001B[38;5;124;03mcontaining a JSON document).\u001B[39;00m\n\u001B[1;32m    335\u001B[0m \n\u001B[1;32m    336\u001B[0m \u001B[38;5;124;03m\"\"\"\u001B[39;00m\n\u001B[0;32m--> 337\u001B[0m obj, end \u001B[38;5;241m=\u001B[39m \u001B[38;5;28;43mself\u001B[39;49m\u001B[38;5;241;43m.\u001B[39;49m\u001B[43mraw_decode\u001B[49m\u001B[43m(\u001B[49m\u001B[43ms\u001B[49m\u001B[43m,\u001B[49m\u001B[43m \u001B[49m\u001B[43midx\u001B[49m\u001B[38;5;241;43m=\u001B[39;49m\u001B[43m_w\u001B[49m\u001B[43m(\u001B[49m\u001B[43ms\u001B[49m\u001B[43m,\u001B[49m\u001B[43m \u001B[49m\u001B[38;5;241;43m0\u001B[39;49m\u001B[43m)\u001B[49m\u001B[38;5;241;43m.\u001B[39;49m\u001B[43mend\u001B[49m\u001B[43m(\u001B[49m\u001B[43m)\u001B[49m\u001B[43m)\u001B[49m\n\u001B[1;32m    338\u001B[0m end \u001B[38;5;241m=\u001B[39m _w(s, end)\u001B[38;5;241m.\u001B[39mend()\n",
      "File \u001B[0;32m/usr/lib/python3.8/json/decoder.py:355\u001B[0m, in \u001B[0;36mJSONDecoder.raw_decode\u001B[0;34m(self, s, idx)\u001B[0m\n\u001B[1;32m    354\u001B[0m \u001B[38;5;28;01mexcept\u001B[39;00m \u001B[38;5;167;01mStopIteration\u001B[39;00m \u001B[38;5;28;01mas\u001B[39;00m err:\n\u001B[0;32m--> 355\u001B[0m     \u001B[38;5;28;01mraise\u001B[39;00m JSONDecodeError(\u001B[38;5;124m\"\u001B[39m\u001B[38;5;124mExpecting value\u001B[39m\u001B[38;5;124m\"\u001B[39m, s, err\u001B[38;5;241m.\u001B[39mvalue) \u001B[38;5;28;01mfrom\u001B[39;00m \u001B[38;5;28;01mNone\u001B[39;00m\n\u001B[1;32m    356\u001B[0m \u001B[38;5;28;01mreturn\u001B[39;00m obj, end\n",
      "\u001B[0;31mJSONDecodeError\u001B[0m: Expecting value: line 1 column 1 (char 0)",
      "\nDuring handling of the above exception, another exception occurred:\n",
      "\u001B[0;31mJSONDecodeError\u001B[0m                           Traceback (most recent call last)",
      "Cell \u001B[0;32mIn[88], line 21\u001B[0m\n\u001B[1;32m     14\u001B[0m \u001B[38;5;66;03m# upload a rocrate to minio object store\u001B[39;00m\n\u001B[1;32m     15\u001B[0m rocrate_transfer \u001B[38;5;241m=\u001B[39m requests\u001B[38;5;241m.\u001B[39mpost(\n\u001B[1;32m     16\u001B[0m     root_url \u001B[38;5;241m+\u001B[39m \u001B[38;5;124mf\u001B[39m\u001B[38;5;124m\"\u001B[39m\u001B[38;5;124mrocrate/upload\u001B[39m\u001B[38;5;124m\"\u001B[39m,\n\u001B[1;32m     17\u001B[0m     data\u001B[38;5;241m=\u001B[39mmp_encoder,                              \n\u001B[1;32m     18\u001B[0m     \u001B[38;5;66;03m# The MultipartEncoder provides the content-type header with the boundary:\u001B[39;00m\n\u001B[1;32m     19\u001B[0m     headers\u001B[38;5;241m=\u001B[39m{\u001B[38;5;124m'\u001B[39m\u001B[38;5;124mContent-Type\u001B[39m\u001B[38;5;124m'\u001B[39m: mp_encoder\u001B[38;5;241m.\u001B[39mcontent_type}\n\u001B[1;32m     20\u001B[0m )\n\u001B[0;32m---> 21\u001B[0m \u001B[43mrocrate_transfer\u001B[49m\u001B[38;5;241;43m.\u001B[39;49m\u001B[43mjson\u001B[49m\u001B[43m(\u001B[49m\u001B[43m)\u001B[49m\n",
      "File \u001B[0;32m~/work/uva/projects/mds_python/venv/lib/python3.8/site-packages/requests/models.py:975\u001B[0m, in \u001B[0;36mResponse.json\u001B[0;34m(self, **kwargs)\u001B[0m\n\u001B[1;32m    971\u001B[0m     \u001B[38;5;28;01mreturn\u001B[39;00m complexjson\u001B[38;5;241m.\u001B[39mloads(\u001B[38;5;28mself\u001B[39m\u001B[38;5;241m.\u001B[39mtext, \u001B[38;5;241m*\u001B[39m\u001B[38;5;241m*\u001B[39mkwargs)\n\u001B[1;32m    972\u001B[0m \u001B[38;5;28;01mexcept\u001B[39;00m JSONDecodeError \u001B[38;5;28;01mas\u001B[39;00m e:\n\u001B[1;32m    973\u001B[0m     \u001B[38;5;66;03m# Catch JSON-related errors and raise as requests.JSONDecodeError\u001B[39;00m\n\u001B[1;32m    974\u001B[0m     \u001B[38;5;66;03m# This aliases json.JSONDecodeError and simplejson.JSONDecodeError\u001B[39;00m\n\u001B[0;32m--> 975\u001B[0m     \u001B[38;5;28;01mraise\u001B[39;00m RequestsJSONDecodeError(e\u001B[38;5;241m.\u001B[39mmsg, e\u001B[38;5;241m.\u001B[39mdoc, e\u001B[38;5;241m.\u001B[39mpos)\n",
      "\u001B[0;31mJSONDecodeError\u001B[0m: Expecting value: line 1 column 1 (char 0)"
     ]
    }
   ],
   "source": [
    "import requests\n",
    "import json\n",
    "from requests_toolbelt.multipart.encoder import MultipartEncoder\n",
    "\n",
    "root_url = \"http://localhost:8080/\"\n",
    "mp_encoder = MultipartEncoder(\n",
    "    fields={        \n",
    "        # 'file' should be same as the argument in the POST method\n",
    "        # 'file': ('test-rocrate', open(rocrate_zip_file, 'rb'), 'application/zip')\n",
    "        'file': ('test-rocrate', open('/home/sadnan/work/uva/projects/mds_python/tests/data/1.ppi_download.zip', 'rb'), 'application/zip')\n",
    "    }\n",
    ")\n",
    "\n",
    "# upload a rocrate to minio object store\n",
    "rocrate_transfer = requests.post(\n",
    "    root_url + f\"rocrate/upload\",\n",
    "    data=mp_encoder,                              \n",
    "    # The MultipartEncoder provides the content-type header with the boundary:\n",
    "    headers={'Content-Type': mp_encoder.content_type}\n",
    ")\n",
    "rocrate_transfer.json()"
   ],
   "metadata": {
    "collapsed": false,
    "ExecuteTime": {
     "end_time": "2023-08-22T04:02:47.713652233Z",
     "start_time": "2023-08-22T04:02:47.596848504Z"
    }
   },
   "id": "332c524e9f07ae99"
  },
  {
   "cell_type": "markdown",
   "source": [
    "# Download archived ROCrate as a zip file using the API"
   ],
   "metadata": {
    "collapsed": false
   },
   "id": "4032a444719ca898"
  },
  {
   "cell_type": "code",
   "execution_count": 85,
   "outputs": [],
   "source": [
    "import requests\n",
    "\n",
    "root_url = \"http://localhost:8080/\"\n",
    "\n",
    "rocrate_download = requests.get(root_url + f\"rocrate/archived/download/ark:59852/rocrate-Exampleinputdataset-61d58dab2b\", headers={\"Content-Type\":\"application/zip\"})\n",
    "\n",
    "rocrate_download.raise_for_status() # ensure we notice bad responses\n",
    "\n",
    "# save the downloaded crate in the project root directory\n",
    "with open(\"downloaded-rocrate.zip\", \"wb\") as file:\n",
    "    file.write(rocrate_download.content)\n"
   ],
   "metadata": {
    "collapsed": false,
    "ExecuteTime": {
     "end_time": "2023-08-22T03:52:52.374379098Z",
     "start_time": "2023-08-22T03:52:52.329216197Z"
    }
   },
   "id": "3ebe72a9cc667d5f"
  },
  {
   "cell_type": "markdown",
   "source": [
    "# Download extracted ROCrate as a zip file using the API"
   ],
   "metadata": {
    "collapsed": false
   },
   "id": "3559b75012fc94fd"
  },
  {
   "cell_type": "code",
   "execution_count": null,
   "outputs": [],
   "source": [
    "import requests\n",
    "\n",
    "root_url = \"http://localhost:8080/\"\n",
    "\n",
    "rocrate_download = requests.get(root_url + f\"rocrate/extracted/download/ark:59852/rocrate-Exampleinputdataset-61d58dab2b\", headers={\"Content-Type\":\"application/zip\"})\n",
    "\n",
    "rocrate_download.raise_for_status() # ensure we notice bad responses\n",
    "\n",
    "# save the downloaded crate in the project root directory\n",
    "with open(\"downloaded-rocrate.zip\", \"wb\") as file:\n",
    "    file.write(rocrate_download.content)"
   ],
   "metadata": {
    "collapsed": false
   },
   "id": "79b9aeaa5f086709"
  },
  {
   "cell_type": "code",
   "execution_count": null,
   "outputs": [],
   "source": [],
   "metadata": {
    "collapsed": false
   },
   "id": "c456699b8d44faa7"
  },
  {
   "cell_type": "code",
   "execution_count": null,
   "id": "99b79fbb",
   "metadata": {},
   "outputs": [],
   "source": [
    "import os"
   ]
  },
  {
   "cell_type": "code",
   "execution_count": null,
   "id": "aeb42ead",
   "metadata": {},
   "outputs": [],
   "source": []
  },
  {
   "cell_type": "code",
   "execution_count": null,
   "id": "35e07ffd",
   "metadata": {},
   "outputs": [],
   "source": [
    "os.chdir(\"/com.docker.devenvironments.code/\")"
   ]
  },
  {
   "cell_type": "code",
   "execution_count": null,
   "id": "04a6a2ab",
   "metadata": {},
   "outputs": [],
   "source": [
    "import json\n",
    "\n",
    "with open(\"./tests/data/test-crate/ro-crate-metadata.json\", \"w\") as metadata_file:\n",
    "\tjson.dump(test_crate.model_dump(by_alias=True), metadata_file, indent=2)"
   ]
  },
  {
   "cell_type": "code",
   "execution_count": null,
   "id": "909c60ad-aafd-422e-9d21-59b5e34bc811",
   "metadata": {},
   "outputs": [],
   "source": [
    "test_crate.metadataGraph[4]"
   ]
  },
  {
   "cell_type": "code",
   "execution_count": null,
   "id": "ef201b0a-ccac-452c-ac13-726716a79d1f",
   "metadata": {},
   "outputs": [],
   "source": [
    "test_crate.metadataGraph[2].model_dump(by_alias=True)"
   ]
  },
  {
   "cell_type": "code",
   "execution_count": null,
   "id": "e5cb8b77-c297-43a5-a25e-055d8d5c9691",
   "metadata": {},
   "outputs": [],
   "source": [
    "dataset_one_json = test_crate.metadataGraph[0].model_dump(by_alias=True)\n",
    "dataset_one_json"
   ]
  },
  {
   "cell_type": "code",
   "execution_count": null,
   "id": "cf53616a-cc22-49b0-844e-3e0f2509fc08",
   "metadata": {},
   "outputs": [],
   "source": [
    "dataset_one_json['usedBy'] = [test_computation.guid]\n",
    "dataset_one_json['isPartOf'] = [test_dataset_container.guid]"
   ]
  },
  {
   "cell_type": "code",
   "execution_count": null,
   "id": "470a1c68-3159-4c29-a367-081c4319c40a",
   "metadata": {
    "scrolled": true
   },
   "outputs": [],
   "source": [
    "dataset_one_json"
   ]
  },
  {
   "cell_type": "code",
   "execution_count": null,
   "id": "1af42034-d20d-4bd9-8080-a71bd18a1682",
   "metadata": {},
   "outputs": [],
   "source": [
    "test_crate.metadataGraph[0]"
   ]
  },
  {
   "cell_type": "code",
   "execution_count": null,
   "id": "e1c7458e",
   "metadata": {},
   "outputs": [],
   "source": []
  },
  {
   "cell_type": "code",
   "execution_count": null,
   "id": "bd53781b-3c04-4f07-911e-7951ece029ef",
   "metadata": {},
   "outputs": [],
   "source": [
    "test_crate.guid"
   ]
  },
  {
   "cell_type": "code",
   "execution_count": null,
   "id": "f9bb7bab-ade4-459c-81fe-a3c5b8f8364c",
   "metadata": {},
   "outputs": [],
   "source": [
    "test_crate.model_dump_json(by_alias=True)"
   ]
  },
  {
   "cell_type": "markdown",
   "id": "86b2e654-1c7c-41aa-b1f1-385e242a7aec",
   "metadata": {},
   "source": [
    "## Entailment properties\n",
    "\n",
    "### Inverse Entailment\n",
    "- Filter all computations\n",
    "    - usedDataset\n",
    "    - usedSoftware\n",
    "    - generated\n",
    "\n",
    "- For each of these lists, filter for those guids and add inverse property\n",
    "\n",
    "### Transitivity for Dataset Containers\n",
    "\n",
    "If a computation used a dataset container, all elements are usedBy that computation\n",
    "\n",
    "- Leave TODO for reverse all elements are usedBy computation, entails that the set is usedBy scomputation\n",
    "\n",
    "### Transitivity for ROCrate\n",
    "\n",
    "Using an ROCrate means only the tail of a provenance chain is "
   ]
  },
  {
   "cell_type": "code",
   "execution_count": null,
   "id": "f5eb80bd-4b9b-410d-a91b-209904c5b061",
   "metadata": {},
   "outputs": [],
   "source": [
    "passed_crate = test_crate"
   ]
  },
  {
   "cell_type": "code",
   "execution_count": null,
   "id": "e9251477-f78c-4178-b5de-c178b597a59f",
   "metadata": {},
   "outputs": [],
   "source": [
    "computations = list(filter(lambda x: x.additionalType == \"Computation\", passed_crate.metadataGraph))\n",
    "\n",
    "# can alter pydantic data from \n",
    "computations[0].name = \"my software\"\n",
    "computations\n",
    "\n",
    "passed_crate.metadataGraph"
   ]
  },
  {
   "cell_type": "code",
   "execution_count": null,
   "id": "4c15e36d-7517-47eb-be43-e7046a40e52f",
   "metadata": {},
   "outputs": [],
   "source": [
    "# if an element from a list is selected\n",
    "# and data property is changed it chages globally\n",
    "passed_computation = computations[0]\n",
    "passed_computation.name = \"test computation\"\n",
    "passed_computation.name"
   ]
  },
  {
   "cell_type": "code",
   "execution_count": null,
   "id": "7240de1a-7b28-4eb4-9819-ddf5c4188279",
   "metadata": {},
   "outputs": [],
   "source": [
    "# three lists of ids\n",
    "used_datasets = passed_computation.usedDataset\n",
    "used_software = passed_computation.usedSoftware\n",
    "generated_datasets = passed_computation.generated "
   ]
  },
  {
   "cell_type": "code",
   "execution_count": null,
   "id": "5a543bc3-8d32-470f-ba03-4641b596bf0f",
   "metadata": {},
   "outputs": [],
   "source": []
  },
  {
   "cell_type": "code",
   "execution_count": null,
   "id": "8dc30aad-55d1-4739-9ab2-318afefef280",
   "metadata": {},
   "outputs": [],
   "source": [
    "def entailment(passed_crate):\n",
    "\n",
    "    computations = list(filter(lambda x: x.additionalType == \"Computation\", passed_crate.metadataGraph))\n",
    "\n",
    "    def filterCrateByGUID(guid):\n",
    "        return list(filter(lambda x: x.guid==guid, passed_crate.metadataGraph))\n",
    "\n",
    "    def inverseUsedDataset(used_dataset_guid, computation_guid):\n",
    "        used_dataset_list = filterCrateByGUID(used_dataset_guid)\n",
    "        \n",
    "        # update each dataset as \n",
    "        for used_dataset in used_dataset_list:\n",
    "            used_dataset.usedBy.append(computation_guid)\n",
    "\n",
    "    def inverseUsedSoftware(used_software_guid, computation_guid):\n",
    "        used_software_list = filterCrateByGUID(used_software_guid) \n",
    "        \n",
    "        for used_software in used_software_list:\n",
    "            used_software.usedBy.append(computation_guid)\n",
    "\n",
    "\n",
    "    def inverseGenerated(generated_guid, computation_guid):\n",
    "        generated_list = filterCrateByGUID(generated_guid)\n",
    "\n",
    "        for generated_element in generated_list:\n",
    "            generated_element.generatedBy.append(computation_guid)\n",
    "\n",
    "\n",
    "    for computation_element in computations:\n",
    "        #used_datasets = computation.usedDatasets\n",
    "        #used_software = computation.usedSoftware\n",
    "        #  generated = computation.generated\n",
    "\n",
    "        [ inverseUsedDataset(used_dataset.guid, computation_element.guid) for used_dataset in computation_element.usedDatasets]\n",
    "        [ inverseUsedSoftware(used_software.guid, computation_element.guid) for used_software in computation_element.usedSoftware]\n",
    "        [ inverseGenerated(generated.guid, computation_element.guid) for generated in computation_element.generated]\n",
    "        \n"
   ]
  },
  {
   "cell_type": "code",
   "execution_count": null,
   "id": "9f7c9187-07cd-46a5-af8d-bdbc83cfc5a7",
   "metadata": {},
   "outputs": [],
   "source": []
  },
  {
   "cell_type": "code",
   "execution_count": null,
   "id": "b138a04f-1055-4a61-8d37-ed459edf8dbb",
   "metadata": {},
   "outputs": [],
   "source": []
  },
  {
   "cell_type": "code",
   "execution_count": null,
   "id": "4859a5b6-4316-4c48-b911-7c455b1178ee",
   "metadata": {},
   "outputs": [],
   "source": []
  }
 ],
 "metadata": {
  "kernelspec": {
   "display_name": "Python 3 (ipykernel)",
   "language": "python",
   "name": "python3"
  },
  "language_info": {
   "codemirror_mode": {
    "name": "ipython",
    "version": 3
   },
   "file_extension": ".py",
   "mimetype": "text/x-python",
   "name": "python",
   "nbconvert_exporter": "python",
   "pygments_lexer": "ipython3",
   "version": "3.11.4"
  }
 },
 "nbformat": 4,
 "nbformat_minor": 5
}
