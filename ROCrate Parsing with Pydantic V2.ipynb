{
 "cells": [
  {
   "cell_type": "code",
   "execution_count": 1,
   "id": "2097f413",
   "metadata": {},
   "outputs": [],
   "source": [
    "from pydantic import (\n",
    "    BaseModel,\n",
    "    Field,\n",
    "    constr,\n",
    "    computed_field,\n",
    "    ConfigDict\n",
    ")\n"
   ]
  },
  {
   "cell_type": "code",
   "execution_count": 2,
   "id": "d7d91cbb",
   "metadata": {},
   "outputs": [],
   "source": [
    "from typing import (\n",
    "    Optional,\n",
    "    List,\n",
    "    Dict,\n",
    "    Union\n",
    ")"
   ]
  },
  {
   "cell_type": "code",
   "execution_count": 81,
   "id": "12f8025b-a72a-4c07-b5b2-5a99d62c660b",
   "metadata": {},
   "outputs": [],
   "source": [
    "import hashlib\n",
    "import json\n",
    "import re"
   ]
  },
  {
   "cell_type": "markdown",
   "id": "f9b14cf2-2150-47bb-a6e1-3a2750694ef1",
   "metadata": {},
   "source": [
    "## GUID Generation Formula from Tim\n",
    "\n",
    "```\n",
    "{\n",
    "\"project\":\"CM4AI\r\n",
    "computation=“AP-MS initial processing”\r\n",
    "cell_line=“MDA-MB468”\r\n",
    "treatment=“untreated”\r\n",
    "release_name=“0.1 alpha”\r\n",
    "version=[int\n",
    "}\n",
    "```\n",
    "\n",
    "data_release_name=0.1 alphaeger]"
   ]
  },
  {
   "cell_type": "markdown",
   "id": "61a99712-c1e0-4ccc-9462-23ce90a3c579",
   "metadata": {},
   "source": [
    "## ROCrate Models"
   ]
  },
  {
   "cell_type": "code",
   "execution_count": 188,
   "id": "5c995ef6-40ef-4d5f-99a5-4b819bc1f725",
   "metadata": {},
   "outputs": [],
   "source": [
    "default_context = {\n",
    "    \"@vocab\": \"https://schema.org/\",\n",
    "    \"evi\": \"https://w3id.org/EVI#\"\n",
    "}\n",
    "\n",
    "\n",
    "class Identifier(BaseModel):\n",
    "    guid: str = Field(\n",
    "        title=\"guid\",\n",
    "        alias=\"@id\" \n",
    "    )\n",
    "    metadataType: str = Field(\n",
    "        title=\"metadataType\",\n",
    "        alias=\"@type\" \n",
    "    )\n",
    "    name: str\n",
    "\n",
    "\n",
    "class FairscapeBaseModel(BaseModel):\n",
    "    model_config = ConfigDict(\n",
    "        populate_by_name = True,\n",
    "        validate_assignment = True,  \n",
    "    )\n",
    "    context: Dict[str,str] = Field(\n",
    "        default=default_context,\n",
    "        title=\"context\",\n",
    "        alias=\"@context\"\n",
    "    )\n",
    "    metadataType: str = Field(\n",
    "        title=\"metadataType\",\n",
    "        alias=\"@type\"\n",
    "    )\n",
    "    url: Optional[str] = Field(default=None)\n",
    "    name: str = Field(max_length=200)\n",
    "    keywords: List[str] = Field(default=[])\n",
    "    description: str = Field(min_length=5)\n",
    "\n",
    "    @computed_field(alias=\"@id\")\n",
    "    @property\n",
    "    def guid(self) -> str:\n",
    "        # TODO url encode values\n",
    "        # TODO add random hash digest\n",
    "\n",
    "        # if \n",
    "        return f\"ark:{ARK_NAAN}/rocrate-{self.name.replace(' ', '')}\""
   ]
  },
  {
   "cell_type": "code",
   "execution_count": 189,
   "id": "879f5d38-97be-4ac9-a9a7-b31dbe85cb30",
   "metadata": {},
   "outputs": [],
   "source": [
    "class FairscapeProvModel(FairscapeBaseModel):\n",
    "     sourceOrganization: Optional[str] = Field(default=None)"
   ]
  },
  {
   "cell_type": "markdown",
   "id": "ab016495-0a0c-4e68-b8e2-f945b9af0629",
   "metadata": {},
   "source": [
    "### rocrate\n",
    "\n",
    "```\n",
    "class ROCrate(BaseModel):\n",
    "    guid: Optional[str] = Field(default=\"\")\n",
    "    metadataType: str = Field(default=\"https://schema.org/Dataset\")\n",
    "    name: str = Field(max_length=200)\n",
    "    description: str = Field(min_length=10)\n",
    "    keywords: List[str] = Field(...)\n",
    "    projectName: Optional[str]\n",
    "    organizationName: Optional[str]\n",
    "    path: pathlib.Path\n",
    "    metadataGraph: Optional[List[Union[Dataset,Software, Computation]]] = Field(alias=\"@graph\")\n",
    "```"
   ]
  },
  {
   "cell_type": "code",
   "execution_count": 84,
   "id": "92a1f4aa-6b53-4637-b8cf-f8456e06f2df",
   "metadata": {},
   "outputs": [],
   "source": [
    "# if part of organization\n"
   ]
  },
  {
   "cell_type": "code",
   "execution_count": 212,
   "id": "4a3adee6-1b87-406f-a34c-8c81d98b4b90",
   "metadata": {},
   "outputs": [],
   "source": [
    "# dataset\n",
    "\n",
    "class Dataset(FairscapeProvModel):\n",
    "    metadataType: Optional[str] = Field(default=\"https://w3id.org/EVI#Dataset\")\n",
    "    additionalType: Optional[str] = Field(default=\"Dataset\")\n",
    "    author: str = Field(max_length=64)\n",
    "    datePublished: str = Field(...)\n",
    "    version: str\n",
    "    description: str = Field(min_length=10)\n",
    "    keywords: List[str] = Field(...)\n",
    "    associatedPublication: Optional[str] = None\n",
    "    additionalDocumentation: Optional[str] = None\n",
    "    fileFormat: str = Field(alias=\"format\")\n",
    "    dataSchema: Optional[Union[str, dict]] = Field(alias=\"schema\", default=None)\n",
    "    generatedBy: Optional[List[Union[str, Identifier]]] = Field(default=[])\n",
    "    derivedFrom: Optional[List[Union[str, Identifier]]] = Field(default=[])\n",
    "    usedBy: Optional[List[Union[str, Identifier]]] = Field(default = [])\n",
    "    contentUrl: Optional[str] = Field(default=None)\n",
    "\n",
    "\n",
    "class DatasetContainer(FairscapeProvModel): \n",
    "    metadataType: Optional[str] = Field(default=\"https://w3id.org/EVI#Dataset\", alias=\"@type\")\n",
    "    additionalType: Optional[str] = Field(default=\"DatasetContainer\")\n",
    "    name: str\n",
    "    version: str = Field(default=\"0.1.0\")\n",
    "    description: str = Field(min_length=10)\n",
    "    keywords: List[str] = Field(...)\n",
    "    generatedBy: Optional[List[Union[str, Identifier]]] = Field(default=[])\n",
    "    derivedFrom: Optional[List[Union[str, Identifier]]] = Field(default=[])\n",
    "    usedBy: Optional[List[Union[str, Identifier]]] = Field(default = [])\n",
    "    hasPart: Optional[List[Union[str, Identifier]]] = Field(default=[])\n",
    "    isPartOf: Optional[List[Union[str, Identifier]]] = Field(default=[])"
   ]
  },
  {
   "cell_type": "code",
   "execution_count": 213,
   "id": "af306ec9-5710-4499-b7ed-eccd22e90df3",
   "metadata": {},
   "outputs": [],
   "source": [
    "# software\n",
    "class Software(FairscapeProvModel): \n",
    "    metadataType: Optional[str] = Field(default=\"https://w3id.org/EVI#Software\")\n",
    "    additionalType: Optional[str] = Field(default=\"Software\")\n",
    "    author: str = Field(min_length=4, max_length=64)\n",
    "    dateModified: str\n",
    "    version: str\n",
    "    description: str =  Field(min_length=10)\n",
    "    associatedPublication: Optional[str] = Field(default=None)\n",
    "    additionalDocumentation: Optional[str] = Field(default=None)\n",
    "    fileFormat: str = Field(title=\"fileFormat\", alias=\"format\")\n",
    "    usedByComputation: Optional[List[str]] = Field(default=[])\n",
    "    contentUrl: Optional[str] = Field(default=None)\n",
    " "
   ]
  },
  {
   "cell_type": "code",
   "execution_count": 214,
   "id": "1b43ace2-9cb6-4d79-b894-cb4c05e45ea4",
   "metadata": {},
   "outputs": [],
   "source": [
    "# computation\n",
    "class Computation(FairscapeProvModel):\n",
    "    metadataType: Optional[str] = Field(default=\"https://w3id.org/EVI#Computation\")\n",
    "    additionalType: Optional[str] = Field(default=\"Computation\")\n",
    "    runBy: str\n",
    "    dateCreated: str \n",
    "    associatedPublication: Optional[str] = Field(default=None)\n",
    "    additionalDocumentation: Optional[str] = Field(default=None)\n",
    "    command: Optional[Union[List[str], str]] = Field(default=\"\")\n",
    "    usedSoftware: Optional[List[str]] = Field(default=[])\n",
    "    usedDataset: Optional[Union[List[str], str]] = Field(default=[])\n",
    "    generated: Optional[Union[str,List[str]]] = Field(default=[])"
   ]
  },
  {
   "cell_type": "code",
   "execution_count": 215,
   "id": "15350eb2",
   "metadata": {},
   "outputs": [],
   "source": [
    "ARK_NAAN = \"59853\""
   ]
  },
  {
   "cell_type": "code",
   "execution_count": 238,
   "id": "7d1ece8c",
   "metadata": {},
   "outputs": [],
   "source": [
    "class ROCrate(FairscapeBaseModel):\n",
    "    metadataType: str = Field(alias=\"@type\", default=\"https://schema.org/Dataset\")\n",
    "    metadataGraph: List[Union[Dataset, Software, Computation, DatasetContainer]] = Field(..., discriminator='addtionalType', alias=\"@graph\")\n",
    "\n",
    "\n",
    "    @computed_field(alias=\"@id\")\n",
    "    @property\n",
    "    def guid(self) -> str:\n",
    "\n",
    "        # remove trailing whitespace \n",
    "        cleaned_name = re.sub('\\s+$', '', self.name)\n",
    "\n",
    "        # remove restricted characters\n",
    "        url_name = re.sub('\\W','', cleaned_name.replace('', '-'))\n",
    "        \n",
    "        # add md5 hash digest on remainder of metadata\n",
    "        sha_256_hash = hashlib.sha256()\n",
    "\n",
    "        # use a subset of properties for hash digest\n",
    "        digest_dict = {\n",
    "            \"name\": self.name,\n",
    "            \"@graph\": [model.model_dump_json(by_alias=True) for model in self.metadataGraph]\n",
    "        }\n",
    "        encoded = json.dumps(digest_dict, sort_keys=True).encode()\n",
    "        sha_256_hash.update(encoded)\n",
    "        digest_string = sha_256_hash.hexdigest()\n",
    "        \n",
    "        return f\"ark:{ARK_NAAN}/rocrate-{url_name}-{digest_string[0:10]}\"\n",
    "        "
   ]
  },
  {
   "cell_type": "code",
   "execution_count": null,
   "id": "f50c329d-3627-4385-8ca8-dbf35378efd9",
   "metadata": {},
   "outputs": [],
   "source": []
  },
  {
   "cell_type": "code",
   "execution_count": 217,
   "id": "ff7d3c98-15c4-415e-a456-943164f190de",
   "metadata": {},
   "outputs": [],
   "source": [
    "class Organization(FairscapeBaseModel):\n",
    "    metadataType: Optional[str] = Field(default=\"\")\n",
    "    additionalType: Optional[str] = Field(default=\"Organization\")\n",
    "    funder: Optional[List[str]] = Field(..., description=\"A list of guids for organizations that are responsible for funding this organization\")"
   ]
  },
  {
   "cell_type": "code",
   "execution_count": 218,
   "id": "91f0973b-cc0f-4589-bad0-4b41fa38183e",
   "metadata": {},
   "outputs": [],
   "source": [
    "class Project(FairscapeBaseModel):\n",
    "    parentOrganization: str = Field(...)"
   ]
  },
  {
   "cell_type": "code",
   "execution_count": null,
   "id": "b927c0c2-5872-4efc-954c-fb2872b4e92a",
   "metadata": {},
   "outputs": [],
   "source": []
  },
  {
   "cell_type": "markdown",
   "id": "66d2f0a8-45f9-41f5-a1e2-e269b992b303",
   "metadata": {},
   "source": [
    "## Instance Test"
   ]
  },
  {
   "cell_type": "code",
   "execution_count": 219,
   "id": "89e3db20-8c6b-4429-8e7f-68d978aba8aa",
   "metadata": {},
   "outputs": [],
   "source": [
    "test_dataset_one = Dataset(\n",
    "    author=\"Max Levinson\",\n",
    "    datePublished = \"08-09-2023\",\n",
    "    version=\"0.1\",\n",
    "    name=\"test dataset\",\n",
    "    description = \"my example test dataset\",\n",
    "    keywords = [\"test\"],\n",
    "    fileFormat = \"text/csv\",\n",
    "    contentUrl=\"file://test-one.csv\"\n",
    ")\n",
    "\n",
    "test_dataset_two = Dataset(\n",
    "    author=\"Max Levinson\",\n",
    "    datePublished = \"08-09-2023\",\n",
    "    version=\"0.1\",\n",
    "    name=\"test dataset two\",\n",
    "    description = \"my example test dataset\",\n",
    "    keywords = [\"test\"],\n",
    "    fileFormat = \"text/csv\",\n",
    "    contentUrl=\"file://test-two.csv\"\n",
    ")\n",
    "\n",
    "test_dataset_container = DatasetContainer(\n",
    "    version=\"0.1\",\n",
    "    name=\"test dataset container\",\n",
    "    description = \"my example test dataset\",\n",
    "    keywords = [\"test\"],\n",
    "    hasPart=[\n",
    "        test_dataset_one.guid,\n",
    "        test_dataset_two.guid    \n",
    "    ]\n",
    ")\n",
    "\n",
    "test_output = Dataset(\n",
    "    author=\"Max Levinson\",\n",
    "    datePublished = \"08-09-2023\",\n",
    "    version=\"0.1\",\n",
    "    name=\"test result\",\n",
    "    description = \"my example test dataset\",\n",
    "    keywords = [\"test\"],\n",
    "    fileFormat = \"text/csv\",\n",
    "    contentUrl=\"file://output.csv\",\n",
    "    generatedBy=[]\n",
    ")"
   ]
  },
  {
   "cell_type": "code",
   "execution_count": null,
   "id": "8ed18115-c815-480b-bd47-7f2094dd0d6c",
   "metadata": {},
   "outputs": [],
   "source": []
  },
  {
   "cell_type": "code",
   "execution_count": null,
   "id": "7e67361f-7352-49d6-afcb-9a4e717b5b1f",
   "metadata": {},
   "outputs": [],
   "source": []
  },
  {
   "cell_type": "code",
   "execution_count": 220,
   "id": "ca4e4184-c88c-46b4-a851-889d0b6a820f",
   "metadata": {},
   "outputs": [],
   "source": [
    "test_software = Software(\n",
    " #   guid=f\"ark:{ARK_NAAN}/test-software\",\n",
    "    name=\"test software\",\n",
    "    author=\"Max Levinson\",\n",
    "    description=\"A test software\",\n",
    "    dateModified=\"08-09-2023\",\n",
    "    version=\"0.1.0\",\n",
    "    format=\".py\",\n",
    "    keywords=[\"test\"],\n",
    "    contentUrl=\"file://script.py\"\n",
    ")"
   ]
  },
  {
   "cell_type": "code",
   "execution_count": null,
   "id": "35e4ab3b-5ac6-4eba-b881-43a66bec9914",
   "metadata": {},
   "outputs": [],
   "source": []
  },
  {
   "cell_type": "code",
   "execution_count": 221,
   "id": "01585a6c-0d18-424a-97db-71556421818b",
   "metadata": {},
   "outputs": [],
   "source": [
    "test_computation = Computation(\n",
    "    name=\"test software\",\n",
    "    author=\"Max Levinson\",\n",
    "    description=\"A test software\",\n",
    "    dateModified=\"08-09-2023\",\n",
    "    dateCreated=\"08-09-2023\",\n",
    "    version=\"0.1.0\",\n",
    "    format=\".py\",\n",
    "    keywords=[\"test\"],\n",
    "    runBy=\"Max Levinson\",\n",
    "    contentUrl=\"file://script.py\",\n",
    "    usedSoftware=[test_software.guid],\n",
    "    usedDataset=[test_dataset_container.guid],\n",
    "    generated=[test_output.guid]\n",
    ")"
   ]
  },
  {
   "cell_type": "code",
   "execution_count": 222,
   "id": "612eede7-fc8d-4986-9dc5-756c7befcf04",
   "metadata": {},
   "outputs": [],
   "source": [
    "test_crate = ROCrate(\n",
    "    name=\"test crate\",\n",
    "    description=\"a testing example\",\n",
    "    keywords=[\"test\"],\n",
    "    projectName=\"test_proj\",\n",
    "    organizationName=\"test_org\",\n",
    "    metadataGraph= [\n",
    "        test_dataset_one,\n",
    "        test_dataset_two,\n",
    "        test_dataset_container,\n",
    "        test_software,\n",
    "        test_computation\n",
    "    ]\n",
    ")"
   ]
  },
  {
   "cell_type": "code",
   "execution_count": 237,
   "id": "909c60ad-aafd-422e-9d21-59b5e34bc811",
   "metadata": {},
   "outputs": [
    {
     "data": {
      "text/plain": [
       "Computation(context={'@vocab': 'https://schema.org/', 'evi': 'https://w3id.org/EVI#'}, metadataType='https://w3id.org/EVI#Computation', url=None, name='test computation', keywords=['test'], description='A test software', sourceOrganization=None, additionalType='Computation', runBy='Max Levinson', dateCreated='08-09-2023', associatedPublication=None, additionalDocumentation=None, command='', usedSoftware=['ark:59853/rocrate-testsoftware'], usedDataset=['ark:59853/rocrate-testdatasetcontainer'], generated=['ark:59853/rocrate-testresult'], guid='ark:59853/rocrate-testcomputation')"
      ]
     },
     "execution_count": 237,
     "metadata": {},
     "output_type": "execute_result"
    }
   ],
   "source": [
    "test_crate.metadataGraph[4]"
   ]
  },
  {
   "cell_type": "code",
   "execution_count": 224,
   "id": "ef201b0a-ccac-452c-ac13-726716a79d1f",
   "metadata": {},
   "outputs": [
    {
     "data": {
      "text/plain": [
       "{'@context': {'@vocab': 'https://schema.org/', 'evi': 'https://w3id.org/EVI#'},\n",
       " '@type': 'https://w3id.org/EVI#Dataset',\n",
       " 'url': None,\n",
       " 'name': 'test dataset container',\n",
       " 'keywords': ['test'],\n",
       " 'description': 'my example test dataset',\n",
       " 'sourceOrganization': None,\n",
       " 'additionalType': 'DatasetContainer',\n",
       " 'version': '0.1',\n",
       " 'generatedBy': [],\n",
       " 'derivedFrom': [],\n",
       " 'usedBy': [],\n",
       " 'hasPart': ['ark:59853/rocrate-testdataset',\n",
       "  'ark:59853/rocrate-testdatasettwo'],\n",
       " 'isPartOf': [],\n",
       " '@id': 'ark:59853/rocrate-testdatasetcontainer'}"
      ]
     },
     "execution_count": 224,
     "metadata": {},
     "output_type": "execute_result"
    }
   ],
   "source": [
    "test_crate.metadataGraph[2].model_dump(by_alias=True)"
   ]
  },
  {
   "cell_type": "code",
   "execution_count": 225,
   "id": "e5cb8b77-c297-43a5-a25e-055d8d5c9691",
   "metadata": {},
   "outputs": [
    {
     "data": {
      "text/plain": [
       "{'@context': {'@vocab': 'https://schema.org/', 'evi': 'https://w3id.org/EVI#'},\n",
       " 'metadataType': 'https://w3id.org/EVI#Dataset',\n",
       " 'url': None,\n",
       " 'name': 'test dataset',\n",
       " 'keywords': ['test'],\n",
       " 'description': 'my example test dataset',\n",
       " 'sourceOrganization': None,\n",
       " 'additionalType': 'Dataset',\n",
       " 'author': 'Max Levinson',\n",
       " 'datePublished': '08-09-2023',\n",
       " 'version': '0.1',\n",
       " 'associatedPublication': None,\n",
       " 'additionalDocumentation': None,\n",
       " 'format': 'text/csv',\n",
       " 'schema': None,\n",
       " 'generatedBy': [],\n",
       " 'derivedFrom': [],\n",
       " 'usedBy': [],\n",
       " 'contentUrl': 'file://test-one.csv',\n",
       " '@id': 'ark:59853/rocrate-testdataset'}"
      ]
     },
     "execution_count": 225,
     "metadata": {},
     "output_type": "execute_result"
    }
   ],
   "source": [
    "dataset_one_json = test_crate.metadataGraph[0].model_dump(by_alias=True)\n",
    "dataset_one_json"
   ]
  },
  {
   "cell_type": "code",
   "execution_count": 80,
   "id": "cf53616a-cc22-49b0-844e-3e0f2509fc08",
   "metadata": {},
   "outputs": [],
   "source": [
    "dataset_one_json['usedBy'] = [test_computation.guid]\n",
    "dataset_one_json['isPartOf'] = [test_dataset_container.guid]"
   ]
  },
  {
   "cell_type": "code",
   "execution_count": 226,
   "id": "470a1c68-3159-4c29-a367-081c4319c40a",
   "metadata": {
    "scrolled": true
   },
   "outputs": [
    {
     "data": {
      "text/plain": [
       "{'@context': {'@vocab': 'https://schema.org/', 'evi': 'https://w3id.org/EVI#'},\n",
       " 'metadataType': 'https://w3id.org/EVI#Dataset',\n",
       " 'url': None,\n",
       " 'name': 'test dataset',\n",
       " 'keywords': ['test'],\n",
       " 'description': 'my example test dataset',\n",
       " 'sourceOrganization': None,\n",
       " 'additionalType': 'Dataset',\n",
       " 'author': 'Max Levinson',\n",
       " 'datePublished': '08-09-2023',\n",
       " 'version': '0.1',\n",
       " 'associatedPublication': None,\n",
       " 'additionalDocumentation': None,\n",
       " 'format': 'text/csv',\n",
       " 'schema': None,\n",
       " 'generatedBy': [],\n",
       " 'derivedFrom': [],\n",
       " 'usedBy': [],\n",
       " 'contentUrl': 'file://test-one.csv',\n",
       " '@id': 'ark:59853/rocrate-testdataset'}"
      ]
     },
     "execution_count": 226,
     "metadata": {},
     "output_type": "execute_result"
    }
   ],
   "source": [
    "dataset_one_json"
   ]
  },
  {
   "cell_type": "code",
   "execution_count": 59,
   "id": "1af42034-d20d-4bd9-8080-a71bd18a1682",
   "metadata": {},
   "outputs": [
    {
     "data": {
      "text/plain": [
       "Dataset(guid='ark:59853/test', context={'@vocab': 'https://schema.org/', 'evi': 'https://w3id.org/EVI#'}, metadataType='https://w3id.org/EVI#Dataset', url=None, name='test dataset', keywords=['test'], description='my example test dataset', author='Max Levinson', datePublished='08-09-2023', version='0.1', associatedPublication=None, additionalDocumentation=None, fileFormat='text/csv', dataSchema=None, generatedBy=[], derivedFrom=[], usedBy=[], contentUrl='file://test.csv')"
      ]
     },
     "execution_count": 59,
     "metadata": {},
     "output_type": "execute_result"
    }
   ],
   "source": [
    "test_crate.metadataGraph[0]"
   ]
  },
  {
   "cell_type": "code",
   "execution_count": null,
   "id": "e1c7458e",
   "metadata": {},
   "outputs": [],
   "source": []
  },
  {
   "cell_type": "code",
   "execution_count": 143,
   "id": "bd53781b-3c04-4f07-911e-7951ece029ef",
   "metadata": {},
   "outputs": [
    {
     "data": {
      "text/plain": [
       "'ark:59853/rocrate-testcrate-f99da2870e'"
      ]
     },
     "execution_count": 143,
     "metadata": {},
     "output_type": "execute_result"
    }
   ],
   "source": [
    "test_crate.guid"
   ]
  },
  {
   "cell_type": "code",
   "execution_count": 144,
   "id": "f9bb7bab-ade4-459c-81fe-a3c5b8f8364c",
   "metadata": {},
   "outputs": [
    {
     "data": {
      "text/plain": [
       "'{\"@context\":{\"@vocab\":\"https://schema.org/\",\"evi\":\"https://w3id.org/EVI#\"},\"@type\":\"https://schema.org/Dataset\",\"url\":null,\"name\":\"test crate\",\"keywords\":[\"test\"],\"description\":\"a testing example\",\"projectName\":\"test_proj\",\"organizationName\":\"test_org\",\"@graph\":[{\"@context\":{\"@vocab\":\"https://schema.org/\",\"evi\":\"https://w3id.org/EVI#\"},\"metadataType\":\"https://w3id.org/EVI#Dataset\",\"url\":null,\"name\":\"test dataset\",\"keywords\":[\"test\"],\"description\":\"my example test dataset\",\"sourceOrganization\":null,\"additionalType\":\"Dataset\",\"author\":\"Max Levinson\",\"datePublished\":\"08-09-2023\",\"version\":\"0.1\",\"associatedPublication\":null,\"additionalDocumentation\":null,\"format\":\"text/csv\",\"schema\":null,\"generatedBy\":[],\"derivedFrom\":[],\"usedBy\":[],\"contentUrl\":\"file://test-one.csv\",\"@id\":\"ark:59853/rocrate-testdataset\"},{\"@context\":{\"@vocab\":\"https://schema.org/\",\"evi\":\"https://w3id.org/EVI#\"},\"metadataType\":\"https://w3id.org/EVI#Dataset\",\"url\":null,\"name\":\"test dataset two\",\"keywords\":[\"test\"],\"description\":\"my example test dataset\",\"sourceOrganization\":null,\"additionalType\":\"Dataset\",\"author\":\"Max Levinson\",\"datePublished\":\"08-09-2023\",\"version\":\"0.1\",\"associatedPublication\":null,\"additionalDocumentation\":null,\"format\":\"text/csv\",\"schema\":null,\"generatedBy\":[],\"derivedFrom\":[],\"usedBy\":[],\"contentUrl\":\"file://test-two.csv\",\"@id\":\"ark:59853/rocrate-testdatasettwo\"},{\"@context\":{\"@vocab\":\"https://schema.org/\",\"evi\":\"https://w3id.org/EVI#\"},\"@type\":\"https://w3id.org/EVI#Dataset\",\"url\":null,\"name\":\"test dataset two\",\"keywords\":[\"test\"],\"description\":\"my example test dataset\",\"sourceOrganization\":null,\"additionalType\":\"DatasetContainer\",\"version\":\"0.1\",\"hasPart\":[\"ark:59853/rocrate-testdataset\",\"ark:59853/rocrate-testdatasettwo\"],\"isPartOf\":[],\"@id\":\"ark:59853/rocrate-testdatasettwo\"},{\"@context\":{\"@vocab\":\"https://schema.org/\",\"evi\":\"https://w3id.org/EVI#\"},\"metadataType\":\"https://w3id.org/EVI#Software\",\"url\":null,\"name\":\"test software\",\"keywords\":[\"test\"],\"description\":\"A test software\",\"sourceOrganization\":null,\"additionalType\":\"Software\",\"author\":\"Max Levinson\",\"dateModified\":\"08-09-2023\",\"version\":\"0.1.0\",\"associatedPublication\":null,\"additionalDocumentation\":null,\"format\":\".py\",\"usedByComputation\":[],\"contentUrl\":\"file://script.py\",\"@id\":\"ark:59853/rocrate-testsoftware\"},{\"@context\":{\"@vocab\":\"https://schema.org/\",\"evi\":\"https://w3id.org/EVI#\"},\"metadataType\":\"https://w3id.org/EVI#Computation\",\"url\":null,\"name\":\"test software\",\"keywords\":[\"test\"],\"description\":\"A test software\",\"sourceOrganization\":null,\"additionalType\":\"Computation\",\"runBy\":\"Max Levinson\",\"dateCreated\":\"08-09-2023\",\"associatedPublication\":null,\"additionalDocumentation\":null,\"command\":\"\",\"usedSoftware\":[\"ark:59853/rocrate-testsoftware\"],\"usedDataset\":[\"ark:59853/rocrate-testdatasettwo\"],\"generated\":[\"ark:59853/rocrate-testresult\"],\"@id\":\"ark:59853/rocrate-testsoftware\"}],\"@id\":\"ark:59853/rocrate-testcrate-f99da2870e\"}'"
      ]
     },
     "execution_count": 144,
     "metadata": {},
     "output_type": "execute_result"
    }
   ],
   "source": [
    "test_crate.model_dump_json(by_alias=True)"
   ]
  },
  {
   "cell_type": "markdown",
   "id": "86b2e654-1c7c-41aa-b1f1-385e242a7aec",
   "metadata": {},
   "source": [
    "## Entailment properties\n",
    "\n",
    "### Inverse Entailment\n",
    "- Filter all computations\n",
    "    - usedDataset\n",
    "    - usedSoftware\n",
    "    - generated\n",
    "\n",
    "- For each of these lists, filter for those guids and add inverse property\n",
    "\n",
    "### Transitivity for Dataset Containers\n",
    "\n",
    "If a computation used a dataset container, all elements are usedBy that computation\n",
    "\n",
    "- Leave TODO for reverse all elements are usedBy computation, entails that the set is usedBy scomputation\n",
    "\n",
    "### Transitivity for ROCrate\n",
    "\n",
    "Using an ROCrate means only the tail of a provenance chain is "
   ]
  },
  {
   "cell_type": "code",
   "execution_count": 227,
   "id": "f5eb80bd-4b9b-410d-a91b-209904c5b061",
   "metadata": {},
   "outputs": [],
   "source": [
    "passed_crate = test_crate"
   ]
  },
  {
   "cell_type": "code",
   "execution_count": 228,
   "id": "e9251477-f78c-4178-b5de-c178b597a59f",
   "metadata": {},
   "outputs": [
    {
     "data": {
      "text/plain": [
       "[Dataset(context={'@vocab': 'https://schema.org/', 'evi': 'https://w3id.org/EVI#'}, metadataType='https://w3id.org/EVI#Dataset', url=None, name='test dataset', keywords=['test'], description='my example test dataset', sourceOrganization=None, additionalType='Dataset', author='Max Levinson', datePublished='08-09-2023', version='0.1', associatedPublication=None, additionalDocumentation=None, fileFormat='text/csv', dataSchema=None, generatedBy=[], derivedFrom=[], usedBy=[], contentUrl='file://test-one.csv', guid='ark:59853/rocrate-testdataset'),\n",
       " Dataset(context={'@vocab': 'https://schema.org/', 'evi': 'https://w3id.org/EVI#'}, metadataType='https://w3id.org/EVI#Dataset', url=None, name='test dataset two', keywords=['test'], description='my example test dataset', sourceOrganization=None, additionalType='Dataset', author='Max Levinson', datePublished='08-09-2023', version='0.1', associatedPublication=None, additionalDocumentation=None, fileFormat='text/csv', dataSchema=None, generatedBy=[], derivedFrom=[], usedBy=[], contentUrl='file://test-two.csv', guid='ark:59853/rocrate-testdatasettwo'),\n",
       " DatasetContainer(context={'@vocab': 'https://schema.org/', 'evi': 'https://w3id.org/EVI#'}, metadataType='https://w3id.org/EVI#Dataset', url=None, name='test dataset container', keywords=['test'], description='my example test dataset', sourceOrganization=None, additionalType='DatasetContainer', version='0.1', generatedBy=[], derivedFrom=[], usedBy=[], hasPart=['ark:59853/rocrate-testdataset', 'ark:59853/rocrate-testdatasettwo'], isPartOf=[], guid='ark:59853/rocrate-testdatasetcontainer'),\n",
       " Software(context={'@vocab': 'https://schema.org/', 'evi': 'https://w3id.org/EVI#'}, metadataType='https://w3id.org/EVI#Software', url=None, name='test software', keywords=['test'], description='A test software', sourceOrganization=None, additionalType='Software', author='Max Levinson', dateModified='08-09-2023', version='0.1.0', associatedPublication=None, additionalDocumentation=None, fileFormat='.py', usedByComputation=[], contentUrl='file://script.py', guid='ark:59853/rocrate-testsoftware'),\n",
       " Computation(context={'@vocab': 'https://schema.org/', 'evi': 'https://w3id.org/EVI#'}, metadataType='https://w3id.org/EVI#Computation', url=None, name='my software', keywords=['test'], description='A test software', sourceOrganization=None, additionalType='Computation', runBy='Max Levinson', dateCreated='08-09-2023', associatedPublication=None, additionalDocumentation=None, command='', usedSoftware=['ark:59853/rocrate-testsoftware'], usedDataset=['ark:59853/rocrate-testdatasetcontainer'], generated=['ark:59853/rocrate-testresult'], guid='ark:59853/rocrate-mysoftware')]"
      ]
     },
     "execution_count": 228,
     "metadata": {},
     "output_type": "execute_result"
    }
   ],
   "source": [
    "computations = list(filter(lambda x: x.additionalType == \"Computation\", passed_crate.metadataGraph))\n",
    "\n",
    "# can alter pydantic data from \n",
    "computations[0].name = \"my software\"\n",
    "computations\n",
    "\n",
    "passed_crate.metadataGraph"
   ]
  },
  {
   "cell_type": "code",
   "execution_count": 229,
   "id": "4c15e36d-7517-47eb-be43-e7046a40e52f",
   "metadata": {},
   "outputs": [
    {
     "data": {
      "text/plain": [
       "'test computation'"
      ]
     },
     "execution_count": 229,
     "metadata": {},
     "output_type": "execute_result"
    }
   ],
   "source": [
    "# if an element from a list is selected\n",
    "# and data property is changed it chages globally\n",
    "passed_computation = computations[0]\n",
    "passed_computation.name = \"test computation\"\n",
    "passed_computation.name"
   ]
  },
  {
   "cell_type": "code",
   "execution_count": 230,
   "id": "7240de1a-7b28-4eb4-9819-ddf5c4188279",
   "metadata": {},
   "outputs": [],
   "source": [
    "# three lists of ids\n",
    "used_datasets = passed_computation.usedDataset\n",
    "used_software = passed_computation.usedSoftware\n",
    "generated_datasets = passed_computation.generated "
   ]
  },
  {
   "cell_type": "code",
   "execution_count": 231,
   "id": "bd94b902-ffcb-4c00-a2a1-19014fe6647b",
   "metadata": {},
   "outputs": [],
   "source": [
    "# for every id in the list call this function\n",
    "def inverseUsedDataset():\n",
    "    pass\n",
    "\n",
    "def inverseUsedSoftware():\n",
    "    pass\n",
    "\n",
    "def inverseGenerated():\n",
    "    pass"
   ]
  },
  {
   "cell_type": "code",
   "execution_count": null,
   "id": "5a543bc3-8d32-470f-ba03-4641b596bf0f",
   "metadata": {},
   "outputs": [],
   "source": [
    "def inverseUsedDataset(used_dataset_guid, computation_id):\n",
    "    used_dataset_list = list(filter(lambda x: x.guid==used_dataset_guid, passed_crate.metadataGraph))\n",
    "    \n",
    "    # update each dataset as \n",
    "    for used_dataset in used_dataset_list:\n",
    "        used_dataset.usedBy.append(passed_computation.guid)"
   ]
  },
  {
   "cell_type": "code",
   "execution_count": null,
   "id": "8dc30aad-55d1-4739-9ab2-318afefef280",
   "metadata": {},
   "outputs": [],
   "source": [
    "def entailment(passed_crate):\n",
    "\n",
    "    computations = list(filter(lambda x: x.additionalType == \"Computation\", passed_crate.metadataGraph))\n",
    "\n",
    "    for computation_element in computations:\n",
    "        used_datasets = computation.usedDatasets\n",
    "        used_software = computation.usedSoftware\n",
    "        generated = computation.generated\n",
    "\n",
    "        \n"
   ]
  },
  {
   "cell_type": "code",
   "execution_count": 234,
   "id": "9f7c9187-07cd-46a5-af8d-bdbc83cfc5a7",
   "metadata": {},
   "outputs": [],
   "source": []
  },
  {
   "cell_type": "code",
   "execution_count": 233,
   "id": "b138a04f-1055-4a61-8d37-ed459edf8dbb",
   "metadata": {},
   "outputs": [
    {
     "data": {
      "text/plain": [
       "['ark:59853/rocrate-testcomputation']"
      ]
     },
     "execution_count": 233,
     "metadata": {},
     "output_type": "execute_result"
    }
   ],
   "source": [
    "used_dataset_list[0].usedBy"
   ]
  },
  {
   "cell_type": "code",
   "execution_count": null,
   "id": "4859a5b6-4316-4c48-b911-7c455b1178ee",
   "metadata": {},
   "outputs": [],
   "source": [
    "filter(passed_crate.metadataGraph"
   ]
  }
 ],
 "metadata": {
  "kernelspec": {
   "display_name": "Python 3 (ipykernel)",
   "language": "python",
   "name": "python3"
  },
  "language_info": {
   "codemirror_mode": {
    "name": "ipython",
    "version": 3
   },
   "file_extension": ".py",
   "mimetype": "text/x-python",
   "name": "python",
   "nbconvert_exporter": "python",
   "pygments_lexer": "ipython3",
   "version": "3.10.4"
  }
 },
 "nbformat": 4,
 "nbformat_minor": 5
}
