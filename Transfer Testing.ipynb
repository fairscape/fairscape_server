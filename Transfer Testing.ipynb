{
 "cells": [
  {
   "cell_type": "code",
   "execution_count": 1,
   "id": "725e80e2",
   "metadata": {},
   "outputs": [],
   "source": [
    "from mds.database.mongo import GetConfig\n",
    "from mds.database.minio import GetMinioConfig\n",
    "from mds.database.config import MONGO_DATABASE, MONGO_COLLECTION\n",
    "from mds.models.download import Download\n",
    "from mds.models.dataset import Dataset\n",
    "from mds.models.project import Project\n",
    "from mds.models.organization import Organization\n",
    "from mds.models.user import User"
   ]
  },
  {
   "cell_type": "code",
   "execution_count": 2,
   "id": "f1bd884e",
   "metadata": {},
   "outputs": [],
   "source": [
    "mongo_client = GetConfig()\n",
    "mongo_db = mongo_client[MONGO_DATABASE]\n",
    "mongo_collection = mongo_db[MONGO_COLLECTION]"
   ]
  },
  {
   "cell_type": "code",
   "execution_count": 3,
   "id": "b9e0fa5a",
   "metadata": {},
   "outputs": [],
   "source": [
    "minio_client = GetMinioConfig()"
   ]
  },
  {
   "cell_type": "code",
   "execution_count": 17,
   "id": "9d7213b6",
   "metadata": {},
   "outputs": [],
   "source": [
    "# create a user\n",
    "user1_data = {\n",
    "    \"@id\": \"ark:99999/test-user1\",\n",
    "    \"name\": \"Test User1\",\n",
    "    \"type\": \"Person\",\n",
    "    \"email\": \"testuser1@example.org\",\n",
    "    \"password\": \"test1\",\n",
    "    \"organizations\": [],\n",
    "    \"projects\": [],\n",
    "    \"datasets\": [],\n",
    "    \"software\": [],\n",
    "    \"computations\": [],\n",
    "    \"evidencegraphs\": []\n",
    "}\n",
    "\n",
    "user1 = User(**user1_data)"
   ]
  },
  {
   "cell_type": "code",
   "execution_count": 9,
   "id": "c396bf62",
   "metadata": {},
   "outputs": [
    {
     "name": "stdout",
     "output_type": "stream",
     "text": [
      "Success: True\tMessage: \tStatusCode: 200\n"
     ]
    }
   ],
   "source": [
    "print(user1.create(mongo_collection))"
   ]
  },
  {
   "cell_type": "code",
   "execution_count": 18,
   "id": "ee848e57",
   "metadata": {},
   "outputs": [],
   "source": [
    "# create an org\n",
    "org_data = {\n",
    "    \"@id\": \"ark:99999/test-org\",\n",
    "    \"name\": \"test organization\",\n",
    "    \"@type\": \"Organization\",\n",
    "    \"owner\": {\n",
    "        \"@id\": user1_data['@id'],\n",
    "        \"name\": user1_data['name'],\n",
    "        \"email\": user1_data['email'],\n",
    "        \"@type\": \"Person\"\n",
    "    }\n",
    "}\n",
    "\n",
    "org = Organization(**org_data)"
   ]
  },
  {
   "cell_type": "code",
   "execution_count": null,
   "id": "87d2ff23",
   "metadata": {},
   "outputs": [],
   "source": [
    "print(org.create(mongo_collection))"
   ]
  },
  {
   "cell_type": "code",
   "execution_count": 19,
   "id": "b857ac1d",
   "metadata": {},
   "outputs": [],
   "source": [
    "# create a project\n",
    "project_data = {\n",
    "    \"@id\": \"ark:99999/test-org/test-proj\",\n",
    "    \"name\": \"Test Project\",\n",
    "    \"@type\": \"Project\",\n",
    "    \"owner\": {\n",
    "        \"@id\": user1_data['@id'],\n",
    "        \"name\": user1_data['name'],\n",
    "        \"email\": user1_data['email'],\n",
    "        \"@type\": \"Person\"\n",
    "    },\n",
    "    \"memberOf\": {\n",
    "        \"@id\": \"ark:99999/test-org\",\n",
    "        \"name\": \"test organization\",\n",
    "        \"@type\": \"Organization\",\n",
    "    }\n",
    "}\n",
    "\n",
    "proj = Project(**project_data)\n"
   ]
  },
  {
   "cell_type": "code",
   "execution_count": null,
   "id": "a88551b4",
   "metadata": {},
   "outputs": [],
   "source": [
    "print(proj.create(mongo_collection))"
   ]
  },
  {
   "cell_type": "code",
   "execution_count": 20,
   "id": "a789188a",
   "metadata": {
    "scrolled": true
   },
   "outputs": [],
   "source": [
    "# create a dataset\n",
    "dataset_data = {\n",
    "    \"@id\": \"ark:99999/test-org/test-proj/test-data\",\n",
    "    \"@type\": \"Dataset\",\n",
    "    \"name\": \"Test Dataset\",\n",
    "    \"owner\": {\n",
    "        \"@id\": user1_data['@id'],\n",
    "        \"name\": user1_data['name'],\n",
    "        \"email\": user1_data['email'],\n",
    "        \"@type\": \"Person\"\n",
    "    }\n",
    "}\n",
    "\n",
    "ds = Dataset(**dataset_data)"
   ]
  },
  {
   "cell_type": "code",
   "execution_count": null,
   "id": "fefa346c",
   "metadata": {},
   "outputs": [],
   "source": [
    "print(ds.create(mongo_client))"
   ]
  },
  {
   "cell_type": "code",
   "execution_count": 21,
   "id": "2c9bfe0d",
   "metadata": {},
   "outputs": [],
   "source": [
    "# create a download\n",
    "download_data = {\n",
    "    \"@id\": \"ark:99999/test-org/test-proj/test-data/file1.txt\",\n",
    "    \"@type\": \"DataDownload\",\n",
    "    \"name\": \"Test CSV\",\n",
    "    \"encodingFormat\": \".csv\",\n",
    "    \"encodesCreativeWork\": {\n",
    "        \"@id\": \"ark:99999/test-org/test-proj/test-data\",\n",
    "        \"@type\": \"Dataset\",\n",
    "        \"name\": \"Test Dataset\",\n",
    "    }\n",
    "}\n",
    "\n",
    "dload = Download(**download_data)"
   ]
  },
  {
   "cell_type": "code",
   "execution_count": 14,
   "id": "c6e3939f",
   "metadata": {
    "scrolled": true
   },
   "outputs": [
    {
     "name": "stdout",
     "output_type": "stream",
     "text": [
      "Success: True\tMessage: \tStatusCode: 201\n"
     ]
    }
   ],
   "source": [
    "data_file = open(\"tests/test-data.csv\", \"rb\")\n",
    "print(dload.register(mongo_collection, minio_client, data_file))"
   ]
  },
  {
   "cell_type": "markdown",
   "id": "96c449f0",
   "metadata": {},
   "source": [
    "## Testing with API"
   ]
  },
  {
   "cell_type": "code",
   "execution_count": 15,
   "id": "efeafcd5",
   "metadata": {},
   "outputs": [],
   "source": [
    "import requests\n",
    "import json\n",
    "\n",
    "root_url = \"http://localhost:8000/\""
   ]
  },
  {
   "cell_type": "code",
   "execution_count": 23,
   "id": "23261b86",
   "metadata": {},
   "outputs": [],
   "source": [
    "# create user\n",
    "user_create = requests.post(root_url + \"user\", json=user1_data)"
   ]
  },
  {
   "cell_type": "code",
   "execution_count": null,
   "id": "3c23efe5",
   "metadata": {},
   "outputs": [],
   "source": [
    "print(user_create.status)"
   ]
  },
  {
   "cell_type": "code",
   "execution_count": 25,
   "id": "17424397",
   "metadata": {},
   "outputs": [],
   "source": [
    "# create organization\n",
    "organization_create = requests.post(root_url + \"organization\", json=org_data)"
   ]
  },
  {
   "cell_type": "code",
   "execution_count": null,
   "id": "81a2811f",
   "metadata": {},
   "outputs": [],
   "source": [
    "\n",
    "\n",
    "dataset_create = requests.post(root_url + f\"dataset/\", data=json.dumps(dataset_data))\n",
    "dataset_create.json()"
   ]
  }
 ],
 "metadata": {
  "kernelspec": {
   "display_name": "Python 3 (ipykernel)",
   "language": "python",
   "name": "python3"
  },
  "language_info": {
   "codemirror_mode": {
    "name": "ipython",
    "version": 3
   },
   "file_extension": ".py",
   "mimetype": "text/x-python",
   "name": "python",
   "nbconvert_exporter": "python",
   "pygments_lexer": "ipython3",
   "version": "3.10.4"
  }
 },
 "nbformat": 4,
 "nbformat_minor": 5
}
