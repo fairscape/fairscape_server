{
 "cells": [
  {
   "cell_type": "code",
   "execution_count": 1,
   "id": "c5e55f36",
   "metadata": {},
   "outputs": [],
   "source": [
    "from mds.database.mongo import GetConfig\n",
    "from mds.database.minio import GetMinioConfig\n",
    "from mds.database.config import MONGO_DATABASE, MONGO_COLLECTION\n",
    "from mds.models.download import Download\n",
    "from mds.models.dataset import Dataset\n",
    "from mds.models.project import Project\n",
    "from mds.models.organization import Organization\n",
    "from mds.models.user import User"
   ]
  },
  {
   "cell_type": "code",
   "execution_count": 2,
   "id": "b07e2578",
   "metadata": {},
   "outputs": [],
   "source": [
    "mongo_client = GetConfig()\n",
    "mongo_db = mongo_client[MONGO_DATABASE]\n",
    "mongo_collection = mongo_db[MONGO_COLLECTION]"
   ]
  },
  {
   "cell_type": "code",
   "execution_count": 3,
   "id": "b7f4cdd2",
   "metadata": {},
   "outputs": [],
   "source": [
    "minio_client = GetMinioConfig()"
   ]
  },
  {
   "cell_type": "code",
   "execution_count": 14,
   "id": "202383b2",
   "metadata": {},
   "outputs": [],
   "source": [
    "# create a user\n",
    "user1_data = {\n",
    "    \"@id\": \"ark:99999/test-user1\",\n",
    "    \"name\": \"Test User1\",\n",
    "    \"type\": \"Person\",\n",
    "    \"email\": \"testuser1@example.org\",\n",
    "    \"password\": \"test1\",\n",
    "    \"organizations\": [],\n",
    "    \"projects\": [],\n",
    "    \"datasets\": [],\n",
    "    \"software\": [],\n",
    "    \"computations\": [],\n",
    "    \"evidencegraphs\": []\n",
    "}\n",
    "\n",
    "user1 = User(**user1_data)"
   ]
  },
  {
   "cell_type": "code",
   "execution_count": 15,
   "id": "f6ca4d40",
   "metadata": {},
   "outputs": [
    {
     "name": "stdout",
     "output_type": "stream",
     "text": [
      "Success: True\tMessage: \tStatusCode: 200\n"
     ]
    }
   ],
   "source": [
    "print(user1.create(mongo_collection))"
   ]
  },
  {
   "cell_type": "code",
   "execution_count": 16,
   "id": "da337b11",
   "metadata": {},
   "outputs": [],
   "source": [
    "# create an org\n",
    "org_data = {\n",
    "    \"@id\": \"ark:99999/test-org\",\n",
    "    \"name\": \"test organization\",\n",
    "    \"@type\": \"Organization\",\n",
    "    \"owner\": {\n",
    "        \"@id\": user1_data['@id'],\n",
    "        \"name\": user1_data['name'],\n",
    "        \"email\": user1_data['email'],\n",
    "        \"@type\": \"Person\"\n",
    "    }\n",
    "}\n",
    "\n",
    "org = Organization(**org_data)"
   ]
  },
  {
   "cell_type": "code",
   "execution_count": 17,
   "id": "869decac",
   "metadata": {},
   "outputs": [
    {
     "name": "stdout",
     "output_type": "stream",
     "text": [
      "Success: True\tMessage: \tStatusCode: 201\n"
     ]
    }
   ],
   "source": [
    "print(org.create(mongo_collection))"
   ]
  },
  {
   "cell_type": "code",
   "execution_count": 18,
   "id": "3a7c8c2b",
   "metadata": {},
   "outputs": [],
   "source": [
    "# create a project\n",
    "project_data = {\n",
    "    \"@id\": \"ark:99999/test-org/test-proj\",\n",
    "    \"name\": \"Test Project\",\n",
    "    \"@type\": \"Project\",\n",
    "    \"owner\": {\n",
    "        \"@id\": user1_data['@id'],\n",
    "        \"name\": user1_data['name'],\n",
    "        \"email\": user1_data['email'],\n",
    "        \"@type\": \"Person\"\n",
    "    },\n",
    "    \"memberOf\": {\n",
    "        \"@id\": \"ark:99999/test-org\",\n",
    "        \"name\": \"test organization\",\n",
    "        \"@type\": \"Organization\",\n",
    "    }\n",
    "}\n",
    "\n",
    "proj = Project(**project_data)\n"
   ]
  },
  {
   "cell_type": "code",
   "execution_count": 19,
   "id": "09b45bb5",
   "metadata": {},
   "outputs": [
    {
     "name": "stdout",
     "output_type": "stream",
     "text": [
      "Success: True\tMessage: \tStatusCode: 201\n"
     ]
    }
   ],
   "source": [
    "print(proj.create(mongo_collection))"
   ]
  },
  {
   "cell_type": "code",
   "execution_count": 20,
   "id": "074db06e",
   "metadata": {
    "scrolled": true
   },
   "outputs": [],
   "source": [
    "# create a dataset\n",
    "dataset_data = {\n",
    "    \"@id\": \"ark:99999/test-org/test-proj/test-data\",\n",
    "    \"@type\": \"Dataset\",\n",
    "    \"name\": \"Test Dataset\",\n",
    "    \"owner\": {\n",
    "        \"@id\": user1_data['@id'],\n",
    "        \"name\": user1_data['name'],\n",
    "        \"email\": user1_data['email'],\n",
    "        \"@type\": \"Person\"\n",
    "    }\n",
    "}\n",
    "\n",
    "ds = Dataset(**dataset_data)"
   ]
  },
  {
   "cell_type": "code",
   "execution_count": 21,
   "id": "8a8462ae",
   "metadata": {},
   "outputs": [
    {
     "name": "stdout",
     "output_type": "stream",
     "text": [
      "ark:99999/test-user1\n",
      "Success: True\tMessage: \tStatusCode: 201\n"
     ]
    }
   ],
   "source": [
    "print(ds.create(mongo_client))"
   ]
  },
  {
   "cell_type": "code",
   "execution_count": 12,
   "id": "3217159d",
   "metadata": {},
   "outputs": [],
   "source": [
    "# create a download\n",
    "download_data = {\n",
    "    \"@id\": \"ark:99999/test-org/test-proj/test-data/file1.txt\",\n",
    "    \"@type\": \"DataDownload\",\n",
    "    \"name\": \"Test CSV\",\n",
    "    \"encodingFormat\": \".csv\",\n",
    "    \"encodesCreativeWork\": {\n",
    "        \"@id\": \"ark:99999/test-org/test-proj/test-data\",\n",
    "        \"@type\": \"Dataset\",\n",
    "        \"name\": \"Test Dataset\",\n",
    "    }\n",
    "}\n",
    "\n",
    "dload = Download(**download_data)"
   ]
  },
  {
   "cell_type": "code",
   "execution_count": 13,
   "id": "694d663f",
   "metadata": {
    "scrolled": true
   },
   "outputs": [
    {
     "name": "stdout",
     "output_type": "stream",
     "text": [
      "Success: True\tMessage: \tStatusCode: 201\n"
     ]
    }
   ],
   "source": [
    "data_file = open(\"tests/test-data.csv\", \"rb\")\n",
    "print(dload.register(mongo_collection, minio_client, data_file))"
   ]
  },
  {
   "cell_type": "markdown",
   "id": "ebb0a9f9",
   "metadata": {},
   "source": [
    "## Testing with API"
   ]
  },
  {
   "cell_type": "code",
   "execution_count": 27,
   "id": "f33f25dd",
   "metadata": {},
   "outputs": [],
   "source": [
    "import requests\n",
    "import json\n",
    "from requests_toolbelt.multipart.encoder import MultipartEncoder\n",
    "\n",
    "root_url = \"http://localhost:8000/\""
   ]
  },
  {
   "cell_type": "code",
   "execution_count": 23,
   "id": "c9f50d99",
   "metadata": {},
   "outputs": [],
   "source": [
    "# create user\n",
    "user_create = requests.post(root_url + \"user\", json=user1_data)"
   ]
  },
  {
   "cell_type": "code",
   "execution_count": null,
   "id": "0554a5e3",
   "metadata": {},
   "outputs": [],
   "source": [
    "print(user_create.status)"
   ]
  },
  {
   "cell_type": "code",
   "execution_count": 25,
   "id": "6e0f9fd4",
   "metadata": {},
   "outputs": [],
   "source": [
    "# create organization\n",
    "organization_create = requests.post(root_url + \"organization\", json=org_data)"
   ]
  },
  {
   "cell_type": "code",
   "execution_count": null,
   "id": "e259e02e",
   "metadata": {},
   "outputs": [],
   "source": [
    "dataset_create = requests.post(root_url + f\"dataset/\", data=json.dumps(dataset_data))\n",
    "dataset_create.json()"
   ]
  },
  {
   "cell_type": "code",
   "execution_count": 32,
   "id": "9207aa76",
   "metadata": {},
   "outputs": [
    {
     "data": {
      "text/plain": [
       "{'success': True, 'message': ''}"
      ]
     },
     "execution_count": 32,
     "metadata": {},
     "output_type": "execute_result"
    }
   ],
   "source": [
    "download_data = {\n",
    "    \"@id\": \"ark:99999/test-org/test-proj/test-data/file1.txt\",\n",
    "    \"@type\": \"DataDownload\",\n",
    "    \"name\": \"Test CSV\",\n",
    "    \"encodingFormat\": \".csv\",\n",
    "    \"encodesCreativeWork\": {\n",
    "        \"@id\": \"ark:99999/test-org/test-proj/test-data\",\n",
    "        \"@type\": \"Dataset\",\n",
    "        \"name\": \"Test Dataset\",\n",
    "    }\n",
    "}\n",
    "\n",
    "\n",
    "mp_encoder = MultipartEncoder(\n",
    "    fields={\n",
    "        'download': json.dumps(download_data),\n",
    "        # plain file object, no filename or mime type produces a\n",
    "        # Content-Disposition header with just the part name\n",
    "        'file': ('test-data', open('tests/test-data.csv', 'rb'), 'text/plain'),\n",
    "    }\n",
    ")\n",
    "\n",
    "# upload a software to minio object store\n",
    "# dataset_upload = {'download': str(download_data), 'file': open(\"tests/test-data.csv\", \"rb\")}\n",
    "\n",
    "data_download_upload = requests.post(root_url + f\"register\",                              \n",
    "    data=mp_encoder,  # The MultipartEncoder is posted as data, don't use files=...!\n",
    "    # The MultipartEncoder provides the content-type header with the boundary:\n",
    "    headers={'Content-Type': mp_encoder.content_type}\n",
    "                )\n",
    "                    \n",
    "data_download_upload.json()"
   ]
  },
  {
   "cell_type": "code",
   "execution_count": 34,
   "id": "2e8635c3",
   "metadata": {},
   "outputs": [
    {
     "data": {
      "text/plain": [
       "b'--6df09a0e6e892513f974cec4ae2a8b67\\r\\nContent-Disposition: form-data; name=\"download\"; filename=\"download\"\\r\\n\\r\\n{\\'@id\\': \\'ark:99999/test-org/test-proj/test-data/file1.txt\\', \\'@type\\': \\'DataDownload\\', \\'name\\': \\'Test CSV\\', \\'encodingFormat\\': \\'.csv\\', \\'encodesCreativeWork\\': {\\'@id\\': \\'ark:99999/test-org/test-proj/test-data\\', \\'@type\\': \\'Dataset\\', \\'name\\': \\'Test Dataset\\'}}\\r\\n--6df09a0e6e892513f974cec4ae2a8b67\\r\\nContent-Disposition: form-data; name=\"file\"; filename=\"test-data.csv\"\\r\\n\\r\\nx, y, z\\r\\n1, 5, 10\\r\\n2, 10, 20\\r\\n3, 15, 30\\r\\n--6df09a0e6e892513f974cec4ae2a8b67--\\r\\n'"
      ]
     },
     "execution_count": 34,
     "metadata": {},
     "output_type": "execute_result"
    }
   ],
   "source": [
    "data_download_upload.request.body"
   ]
  },
  {
   "cell_type": "code",
   "execution_count": 4,
   "id": "8bcc212d",
   "metadata": {},
   "outputs": [],
   "source": [
    "from fastapi import APIRouter, Response, UploadFile, Form, File\n"
   ]
  },
  {
   "cell_type": "code",
   "execution_count": 5,
   "id": "1f217662",
   "metadata": {},
   "outputs": [
    {
     "name": "stdout",
     "output_type": "stream",
     "text": [
      "Help on function Form in module fastapi.param_functions:\n",
      "\n",
      "Form(default: Any, *, media_type: str = 'application/x-www-form-urlencoded', alias: Optional[str] = None, title: Optional[str] = None, description: Optional[str] = None, gt: Optional[float] = None, ge: Optional[float] = None, lt: Optional[float] = None, le: Optional[float] = None, min_length: Optional[int] = None, max_length: Optional[int] = None, regex: Optional[str] = None, example: Any = PydanticUndefined, examples: Optional[Dict[str, Any]] = None, **extra: Any) -> Any\n",
      "\n"
     ]
    }
   ],
   "source": [
    "help(Form)"
   ]
  },
  {
   "cell_type": "code",
   "execution_count": null,
   "id": "1ddc3963",
   "metadata": {},
   "outputs": [],
   "source": []
  }
 ],
 "metadata": {
  "kernelspec": {
   "display_name": "Python 3 (ipykernel)",
   "language": "python",
   "name": "python3"
  },
  "language_info": {
   "codemirror_mode": {
    "name": "ipython",
    "version": 3
   },
   "file_extension": ".py",
   "mimetype": "text/x-python",
   "name": "python",
   "nbconvert_exporter": "python",
   "pygments_lexer": "ipython3",
   "version": "3.10.4"
  }
 },
 "nbformat": 4,
 "nbformat_minor": 5
}
