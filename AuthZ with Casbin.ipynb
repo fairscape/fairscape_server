{
 "cells": [
  {
   "cell_type": "code",
   "execution_count": 1,
   "id": "0403065e",
   "metadata": {},
   "outputs": [],
   "source": [
    "import casbin"
   ]
  },
  {
   "cell_type": "code",
   "execution_count": 2,
   "id": "197343c8",
   "metadata": {},
   "outputs": [],
   "source": [
    "with open(\"./tests/model.conf\", \"w\") as conf_file:\n",
    "    conf_file.write(\n",
    "\"\"\"\n",
    "[request_definition]\n",
    "r = sub, obj, act\n",
    "\n",
    "[policy_definition]\n",
    "p = sub, obj, act\n",
    "\n",
    "[policy_effect]\n",
    "e = some(where (p.eft == allow))\n",
    "\n",
    "[matchers]\n",
    "m = r.sub == p.sub && r.obj == p.obj && r.act == p.act\n",
    "\"\"\")"
   ]
  },
  {
   "cell_type": "code",
   "execution_count": 6,
   "id": "9d22d60a",
   "metadata": {},
   "outputs": [
    {
     "name": "stdout",
     "output_type": "stream",
     "text": [
      "p, ark:99999/test-user, canCreateProject, ark:99999/CAMA\n",
      "p, ark:99999/test-user, delete, ark:99999/CAMA-HCTSA\n",
      "p, ark:99999/test-user, update, ark:99999/CAMA-HCTSA\n",
      "p, ark:99999/test-user, managePermissions, ark:99999/CAMA-HCTSA\n"
     ]
    }
   ],
   "source": [
    "with open(\"./tests/policy.csv\", \"r\") as policy_file:\n",
    "    print(policy_file.read())"
   ]
  },
  {
   "cell_type": "code",
   "execution_count": 3,
   "id": "783df468",
   "metadata": {},
   "outputs": [],
   "source": [
    "enforcer = casbin.Enforcer(\"./tests/model.conf\", \"./tests/policy.csv\")\n",
    "enforcer.load_policy()"
   ]
  },
  {
   "cell_type": "markdown",
   "id": "31432b26",
   "metadata": {},
   "source": [
    "## Flow to Test\n",
    "1. our test user is signs up\n",
    "2. that user is granted access to an organization\n",
    "3. that user creates a new project within that organization\n",
    "4. one of each object is created within that new project\n",
    "5. that user creates a new group of other users\n",
    "6. the test user gives access to the project for the group they created"
   ]
  },
  {
   "cell_type": "markdown",
   "id": "2df69e3a",
   "metadata": {},
   "source": [
    "### Permissions\n",
    "\n",
    "#### Organization\n",
    "- can create project\n",
    "- can edit organization metadata\n",
    "- can delete projects\n",
    "\n",
    "#### Project\n",
    "- can add a digital object\n",
    "- can delete the entire project\n",
    "- can edit project metadata\n",
    "- can delete any digital object within the project\n",
    "- can change project permissions"
   ]
  },
  {
   "cell_type": "code",
   "execution_count": 8,
   "id": "54643158",
   "metadata": {},
   "outputs": [],
   "source": [
    "user = \"ark:99999/test-user\"\n",
    "org = \"ark:99999/CAMA\"\n",
    "proj = \"ark:99999/CAMA-HCTSA\"\n",
    "\n",
    "dataset = \"ark:99999/CAMA-HCTSA-test-dataset\"\n",
    "dataset_object = \"ark:99999/CAMA-HCTSA-test-dataset-download\"\n",
    "\n",
    "software = \"ark:99999/CAMA-HCTSA-test-software\"\n",
    "software_object = \"ark:99999/CAMA-HCTSA-test-software-download\"\n",
    "\n",
    "computation = \"ark:99999/CAMA-HCTSA-computation\"\n",
    "\n",
    "result = \"ark:99999/CAMA-HCTSA-computation-result\"\n",
    "result_object = \"ark:99999/CAMA-HCTSA-computation-result-download\""
   ]
  },
  {
   "cell_type": "code",
   "execution_count": 24,
   "id": "05766d91",
   "metadata": {},
   "outputs": [],
   "source": [
    "# step 1 a user is granted access to an organization\n",
    "# insert a policy\n",
    "enforcer.add_policy(user, \"canCreateProject\", org)\n",
    "\n",
    "# persisting the policies to storage\n",
    "enforcer.save_policy()"
   ]
  },
  {
   "cell_type": "code",
   "execution_count": 9,
   "id": "81f4520d",
   "metadata": {},
   "outputs": [
    {
     "data": {
      "text/plain": [
       "True"
      ]
     },
     "execution_count": 9,
     "metadata": {},
     "output_type": "execute_result"
    }
   ],
   "source": [
    "# test that the user can actually create the project\n",
    "enforcer.enforce(user, \"canCreateProject\", org)"
   ]
  },
  {
   "cell_type": "code",
   "execution_count": 28,
   "id": "e528a209",
   "metadata": {},
   "outputs": [],
   "source": [
    "# a user creates a project\n",
    "enforcer.add_policies([\n",
    "    (user, \"delete\", proj), \n",
    "    (user, \"update\", proj), \n",
    "    (user, \"managePermissions\", proj),\n",
    "    (user, \"createDigitalObject\", proj)])\n",
    "\n",
    "enforcer.save_policy()"
   ]
  },
  {
   "cell_type": "code",
   "execution_count": null,
   "id": "1ef11540",
   "metadata": {},
   "outputs": [],
   "source": []
  }
 ],
 "metadata": {
  "kernelspec": {
   "display_name": "Python 3 (ipykernel)",
   "language": "python",
   "name": "python3"
  },
  "language_info": {
   "codemirror_mode": {
    "name": "ipython",
    "version": 3
   },
   "file_extension": ".py",
   "mimetype": "text/x-python",
   "name": "python",
   "nbconvert_exporter": "python",
   "pygments_lexer": "ipython3",
   "version": "3.10.4"
  }
 },
 "nbformat": 4,
 "nbformat_minor": 5
}
