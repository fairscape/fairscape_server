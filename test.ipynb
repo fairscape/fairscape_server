{
 "cells": [
  {
   "cell_type": "code",
   "execution_count": 2,
   "metadata": {},
   "outputs": [],
   "source": [
    "import os, sys\n",
    "sys.path.insert(0, os.path.abspath('./mds'))\n",
    "\n"
   ]
  },
  {
   "cell_type": "code",
   "execution_count": 3,
   "metadata": {},
   "outputs": [],
   "source": [
    "from typing import List, Literal, Tuple\n",
    "from pydantic import EmailStr, Extra\n",
    "from mds.utils import FairscapeBaseModel, OrganizationCompactView, ProjectCompactView, DatasetCompactView, SoftwareCompactView, ComputationCompactView\n",
    "import pymongo"
   ]
  },
  {
   "cell_type": "code",
   "execution_count": 5,
   "metadata": {},
   "outputs": [
    {
     "ename": "SyntaxError",
     "evalue": "invalid syntax (Temp/ipykernel_16272/1054831783.py, line 30)",
     "output_type": "error",
     "traceback": [
      "\u001b[1;36m  File \u001b[1;32m\"C:\\Users\\Max\\AppData\\Local\\Temp/ipykernel_16272/1054831783.py\"\u001b[1;36m, line \u001b[1;32m30\u001b[0m\n\u001b[1;33m    except * as e:\u001b[0m\n\u001b[1;37m           ^\u001b[0m\n\u001b[1;31mSyntaxError\u001b[0m\u001b[1;31m:\u001b[0m invalid syntax\n"
     ]
    }
   ],
   "source": [
    "\n",
    "class User(FairscapeBaseModel, extra=Extra.allow):\n",
    "    type: Literal[\"Person\"]\n",
    "    email: EmailStr  # requires installation of module email-validator\n",
    "    password: str\n",
    "    is_admin: bool\n",
    "    organizations: List[OrganizationCompactView]\n",
    "    projects: List[ProjectCompactView]\n",
    "    datasets: List[DatasetCompactView]\n",
    "    software: List[SoftwareCompactView]\n",
    "    computations: List[ComputationCompactView]\n",
    "\n",
    "    def create(self, MongoCollection: pymongo.collection.Collection) -> Tuple[bool, str, int]: \n",
    "\n",
    "        # creating a new user we must set their owned objects to none\n",
    "        self.projects = []\n",
    "        self.datasets = []\n",
    "        self.software = []\n",
    "        self.computations = []\n",
    "\n",
    "        try: \n",
    "            create_request = MongoCollection.insert_one(self.json(by_alias=True))\n",
    "\n",
    "            if create_request.acknowledged:\n",
    "                return (True, \"\", 200)\n",
    "            else:\n",
    "                return (False, \"\", 200)\n",
    "\n",
    "        except pymongo.errors.ConnectionError as e:\n",
    "            return (False, f\"MongoConnectionError: {str(e)}\", 500)\n",
    "        except * as e:\n",
    "            return (False, f\"Error: {str(e)}\", 400)\n",
    "\n",
    "\n",
    "    def read(self, MongoCollection) -> Tuple[bool, str, int]:\n",
    "\n",
    "        try: \n",
    "            query = test_collection.find_one(\n",
    "                {\"@id\": test_data[\"@id\"]}, \n",
    "                projection={\"_id\": False}\n",
    "                )\n",
    "            \n",
    "        except pymongo.errors.ConnectionFailure as e:\n",
    "            return (False, f\"MongoConnectionError: {str(e)}\", 500)\n",
    "        except * as e:\n",
    "            return (False, f\"Undetermined Error: {e}\", 400)\n",
    "        else:\n",
    "\n",
    "            # check that the results are not empty\n",
    "            if query:\n",
    "                # update class with values from database\n",
    "                for key, value in query.items():\n",
    "                    setattr(self, key, value)\n",
    "\n",
    "                return (True, \"\", 200)\n",
    "            else:\n",
    "                return (False, \"No record found\", 404)\n",
    "\n"
   ]
  },
  {
   "cell_type": "code",
   "execution_count": 1,
   "metadata": {},
   "outputs": [],
   "source": [
    "import pymongo"
   ]
  },
  {
   "cell_type": "code",
   "execution_count": 4,
   "metadata": {},
   "outputs": [
    {
     "ename": "NameError",
     "evalue": "name 'test_data' is not defined",
     "output_type": "error",
     "traceback": [
      "\u001b[1;31m---------------------------------------------------------------------------\u001b[0m",
      "\u001b[1;31mNameError\u001b[0m                                 Traceback (most recent call last)",
      "\u001b[1;32m~\\AppData\\Local\\Temp/ipykernel_16272/602964867.py\u001b[0m in \u001b[0;36m<module>\u001b[1;34m\u001b[0m\n\u001b[1;32m----> 1\u001b[1;33m \u001b[0mtest_user\u001b[0m \u001b[1;33m=\u001b[0m \u001b[0mUser\u001b[0m\u001b[1;33m(\u001b[0m\u001b[1;33m**\u001b[0m\u001b[0mtest_data\u001b[0m\u001b[1;33m)\u001b[0m\u001b[1;33m\u001b[0m\u001b[1;33m\u001b[0m\u001b[0m\n\u001b[0m",
      "\u001b[1;31mNameError\u001b[0m: name 'test_data' is not defined"
     ]
    }
   ],
   "source": [
    "test_user = User(**test_data)"
   ]
  },
  {
   "cell_type": "code",
   "execution_count": 4,
   "metadata": {},
   "outputs": [],
   "source": [
    "# create a mongo connection for testing\n",
    "from mds.mongo import MongoConfig"
   ]
  },
  {
   "cell_type": "code",
   "execution_count": 5,
   "metadata": {},
   "outputs": [],
   "source": [
    "db_config = MongoConfig(\n",
    "\thost_uri = \"localhost\",\n",
    "\tport = 27017,\n",
    "\tuser = \"root\",\n",
    "\tpassword = \"example\",\n",
    "\tdatabase = \"test\"\n",
    ")"
   ]
  },
  {
   "cell_type": "code",
   "execution_count": 6,
   "metadata": {},
   "outputs": [
    {
     "ename": "AttributeError",
     "evalue": "'MongoConfig' object has no attribute 'test'",
     "output_type": "error",
     "traceback": [
      "\u001b[1;31m---------------------------------------------------------------------------\u001b[0m",
      "\u001b[1;31mAttributeError\u001b[0m                            Traceback (most recent call last)",
      "\u001b[1;32m~\\AppData\\Local\\Temp/ipykernel_7104/2556089329.py\u001b[0m in \u001b[0;36m<module>\u001b[1;34m\u001b[0m\n\u001b[1;32m----> 1\u001b[1;33m \u001b[0mtest_collection\u001b[0m \u001b[1;33m=\u001b[0m \u001b[0mdb_config\u001b[0m\u001b[1;33m.\u001b[0m\u001b[0mtest\u001b[0m\u001b[1;33m.\u001b[0m\u001b[0mtest\u001b[0m\u001b[1;33m\u001b[0m\u001b[1;33m\u001b[0m\u001b[0m\n\u001b[0m",
      "\u001b[1;31mAttributeError\u001b[0m: 'MongoConfig' object has no attribute 'test'"
     ]
    }
   ],
   "source": [
    "db_config."
   ]
  },
  {
   "cell_type": "code",
   "execution_count": 49,
   "metadata": {},
   "outputs": [],
   "source": [
    "insert_result = test_collection.insert_one(\n",
    "\ttest_user.dict(by_alias=True)\n",
    ")"
   ]
  },
  {
   "cell_type": "code",
   "execution_count": 50,
   "metadata": {},
   "outputs": [
    {
     "data": {
      "text/plain": [
       "True"
      ]
     },
     "execution_count": 50,
     "metadata": {},
     "output_type": "execute_result"
    }
   ],
   "source": [
    "insert_result.acknowledged\t"
   ]
  },
  {
   "cell_type": "code",
   "execution_count": 51,
   "metadata": {},
   "outputs": [
    {
     "data": {
      "text/plain": [
       "ObjectId('622a5f1ba6034953d541e6e1')"
      ]
     },
     "execution_count": 51,
     "metadata": {},
     "output_type": "execute_result"
    }
   ],
   "source": [
    "insert_result.inserted_id"
   ]
  },
  {
   "cell_type": "code",
   "execution_count": 52,
   "metadata": {},
   "outputs": [
    {
     "data": {
      "text/plain": [
       "'{\"@id\": \"ark:99999/test-user\", \"@type\": \"Person\", \"name\": \"Test User\", \"email\": \"test@example.org\", \"password\": \"test\", \"is_admin\": false, \"organizations\": [], \"projects\": [], \"datasets\": [], \"software\": [], \"computations\": []}'"
      ]
     },
     "execution_count": 52,
     "metadata": {},
     "output_type": "execute_result"
    }
   ],
   "source": [
    "test_user.json(by_alias=True)"
   ]
  },
  {
   "cell_type": "code",
   "execution_count": 58,
   "metadata": {},
   "outputs": [],
   "source": [
    "# when given an @id\n",
    "\n",
    "class TestUserCRUD(unnittest.TestCase):\n",
    "\tuser_data = {\n",
    "\t\t\"@id\": \"ark:99999/test-user\",\n",
    "\t\t\"name\": \"Test User\",\n",
    "\t\t\"type\": \"Person\",\n",
    "\t\t\"email\": \"test@example.org\",\n",
    "\t\t\"password\": \"test\",\n",
    "\t\t\"is_admin\": False,\n",
    "\t\t\"organizations\": [],\n",
    "\t\t\"datasets\": [],\n",
    "\t\t\"projects\": [],\n",
    "\t\t\"software\": [],\n",
    "\t\t\"computations\": []\n",
    "\t\t}\t\t\n",
    "\n",
    "\n",
    "\tdef setUp(self):\n",
    "\t\tdb_config = MongoConfig(\n",
    "\t\t\thost_uri = \"localhost\",\n",
    "\t\t\tport = 27017,\n",
    "\t\t\tuser = \"root\",\n",
    "\t\t\tpassword = \"example\",\n",
    "\t\t\tdatabase = \"test\"\n",
    "\t\t\t)\n",
    "\t\tmongo_client = db_config.connect()\n",
    "\t\ttest_db = mongo_client[\"test\"]\n",
    "\t\tself.test_collection = test_db[\"test\"]\n",
    "\n",
    "\n",
    "\tdef test_user_create(self):\n",
    "\t\ttest_user = User(**self.user_data)\n",
    "\t\ttest_user.create(self.test_collection)\n",
    "\n",
    "\n",
    "\tdef test_user_read(self):\n",
    "\t\ttest_user = User.construct(\n",
    "\t\t\t_fields_set={\"id\"}, \n",
    "\t\t\t**{\"@id\": test_data[\"@id\"]}\n",
    "\t\t\t)\n",
    "\t\t\n",
    "\t\ttest_user.read(self.test_collection)\n"
   ]
  },
  {
   "cell_type": "code",
   "execution_count": 60,
   "metadata": {},
   "outputs": [
    {
     "data": {
      "text/plain": [
       "User(@id='ark:99999/test-user', @type='Person', name='Test User', email='test@example.org', password='test', is_admin=False, organizations=[], projects=[], datasets=[], software=[], computations=[])"
      ]
     },
     "execution_count": 60,
     "metadata": {},
     "output_type": "execute_result"
    }
   ],
   "source": [
    "read_test"
   ]
  },
  {
   "cell_type": "code",
   "execution_count": 32,
   "metadata": {},
   "outputs": [
    {
     "data": {
      "text/plain": [
       "User(id='ark:99999/test-user', type='Person', name='Test User', email='test@example.org', password='test', is_admin=False, organizations=[], projects=[], datasets=[], software=[], computations=[])"
      ]
     },
     "execution_count": 32,
     "metadata": {},
     "output_type": "execute_result"
    }
   ],
   "source": [
    "# get one example\n",
    "\n",
    "User(**test_collection.find_one({\"@id\": test_data[\"@id\"]}, projection={\"_id\": False}))"
   ]
  },
  {
   "cell_type": "code",
   "execution_count": null,
   "metadata": {},
   "outputs": [],
   "source": [
    "# update a document\n",
    "\n",
    "\n",
    "# find the rest \n",
    "\n",
    "\n",
    "test_collection.find_one_and_update()"
   ]
  },
  {
   "cell_type": "code",
   "execution_count": null,
   "metadata": {},
   "outputs": [],
   "source": [
    "# delete operation\n"
   ]
  },
  {
   "cell_type": "code",
   "execution_count": 7,
   "metadata": {},
   "outputs": [],
   "source": [
    "# create indexes for unique @id\n",
    "db_config = MongoConfig(\n",
    "\thost_uri = \"localhost\",\n",
    "\tport = 27017,\n",
    "\tuser = \"root\",\n",
    "\tpassword = \"example\",\n",
    "\tdatabase = \"test\"\n",
    "\t)\n",
    "mongo_client = db_config.connect()\n",
    "test_db = mongo_client[\"test\"]\n",
    "test_collection = test_db[\"test\"]\n",
    "\n",
    "\n"
   ]
  },
  {
   "cell_type": "code",
   "execution_count": 10,
   "metadata": {},
   "outputs": [],
   "source": [
    "user_data = {\n",
    "\t\"@id\": \"ark:99999/test-user\",\n",
    "\t\"name\": \"Test User\",\n",
    "\t\"type\": \"Person\",\n",
    "\t\"email\": \"test@example.org\",\n",
    "\t\"password\": \"test\",\n",
    "\t\"is_admin\": False,\n",
    "\t\"organizations\": [],\n",
    "\t\"datasets\": [],\n",
    "\t\"projects\": [],\n",
    "\t\"software\": [],\n",
    "\t\"computations\": []\n",
    "\t}\t"
   ]
  },
  {
   "cell_type": "code",
   "execution_count": 15,
   "metadata": {},
   "outputs": [
    {
     "name": "stdout",
     "output_type": "stream",
     "text": [
      "found\n"
     ]
    }
   ],
   "source": [
    "if test_collection.find_one({\"@id\": user_data[\"@id\"]}):\n",
    "\tprint(\"found\")"
   ]
  },
  {
   "cell_type": "code",
   "execution_count": null,
   "metadata": {},
   "outputs": [],
   "source": [
    "\n",
    "test_collection.create_index(\"@id\", unique=True)\n",
    "test_collection.create_index(\"@type\")\n",
    "test_collection.create_index(\"owner\")"
   ]
  }
 ],
 "metadata": {
  "interpreter": {
   "hash": "9e49e9e5b94ffbcf92b38e6bbae369d81093e2039295ffe956729ef7e2f8d3e1"
  },
  "kernelspec": {
   "display_name": "Python 3.9.7 ('base')",
   "language": "python",
   "name": "python3"
  },
  "language_info": {
   "codemirror_mode": {
    "name": "ipython",
    "version": 3
   },
   "file_extension": ".py",
   "mimetype": "text/x-python",
   "name": "python",
   "nbconvert_exporter": "python",
   "pygments_lexer": "ipython3",
   "version": "3.9.7"
  },
  "orig_nbformat": 4
 },
 "nbformat": 4,
 "nbformat_minor": 2
}
